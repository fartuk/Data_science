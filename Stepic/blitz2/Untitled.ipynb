{
 "cells": [
  {
   "cell_type": "code",
   "execution_count": 1,
   "metadata": {
    "collapsed": true
   },
   "outputs": [],
   "source": [
    "import pandas as pd\n",
    "import numpy as np"
   ]
  },
  {
   "cell_type": "code",
   "execution_count": 2,
   "metadata": {
    "collapsed": true
   },
   "outputs": [],
   "source": [
    "events = pd.read_csv('course-217-events.csv')\n",
    "structure = pd.read_csv('course-217-structure.csv')"
   ]
  },
  {
   "cell_type": "code",
   "execution_count": 3,
   "metadata": {
    "collapsed": false
   },
   "outputs": [
    {
     "data": {
      "text/plain": [
       "233"
      ]
     },
     "execution_count": 3,
     "metadata": {},
     "output_type": "execute_result"
    }
   ],
   "source": [
    "len(structure)"
   ]
  },
  {
   "cell_type": "code",
   "execution_count": 4,
   "metadata": {
    "collapsed": false
   },
   "outputs": [],
   "source": [
    "events = events.sort_values('time', axis=0)\n",
    "structure = structure.sort_values(['module_position', 'lesson_position', 'step_position'], axis = 0)\n",
    "structure.index = structure.step_id\n",
    "structure['step_num'] = range(len(structure))\n",
    "events['step_num'] = 0"
   ]
  },
  {
   "cell_type": "code",
   "execution_count": 5,
   "metadata": {
    "collapsed": false
   },
   "outputs": [
    {
     "data": {
      "text/html": [
       "<div>\n",
       "<table border=\"1\" class=\"dataframe\">\n",
       "  <thead>\n",
       "    <tr style=\"text-align: right;\">\n",
       "      <th></th>\n",
       "      <th>user_id</th>\n",
       "      <th>action</th>\n",
       "      <th>step_id</th>\n",
       "      <th>time</th>\n",
       "      <th>step_num</th>\n",
       "    </tr>\n",
       "  </thead>\n",
       "  <tbody>\n",
       "    <tr>\n",
       "      <th>1431922</th>\n",
       "      <td>1229</td>\n",
       "      <td>viewed</td>\n",
       "      <td>38518</td>\n",
       "      <td>1440065573</td>\n",
       "      <td>0</td>\n",
       "    </tr>\n",
       "    <tr>\n",
       "      <th>1431921</th>\n",
       "      <td>1229</td>\n",
       "      <td>discovered</td>\n",
       "      <td>38518</td>\n",
       "      <td>1440065573</td>\n",
       "      <td>0</td>\n",
       "    </tr>\n",
       "    <tr>\n",
       "      <th>1431920</th>\n",
       "      <td>1229</td>\n",
       "      <td>passed</td>\n",
       "      <td>38518</td>\n",
       "      <td>1440065573</td>\n",
       "      <td>0</td>\n",
       "    </tr>\n",
       "    <tr>\n",
       "      <th>1431917</th>\n",
       "      <td>1229</td>\n",
       "      <td>passed</td>\n",
       "      <td>38521</td>\n",
       "      <td>1440065578</td>\n",
       "      <td>0</td>\n",
       "    </tr>\n",
       "    <tr>\n",
       "      <th>1431919</th>\n",
       "      <td>1229</td>\n",
       "      <td>viewed</td>\n",
       "      <td>38521</td>\n",
       "      <td>1440065578</td>\n",
       "      <td>0</td>\n",
       "    </tr>\n",
       "  </tbody>\n",
       "</table>\n",
       "</div>"
      ],
      "text/plain": [
       "         user_id      action  step_id        time  step_num\n",
       "1431922     1229      viewed    38518  1440065573         0\n",
       "1431921     1229  discovered    38518  1440065573         0\n",
       "1431920     1229      passed    38518  1440065573         0\n",
       "1431917     1229      passed    38521  1440065578         0\n",
       "1431919     1229      viewed    38521  1440065578         0"
      ]
     },
     "execution_count": 5,
     "metadata": {},
     "output_type": "execute_result"
    }
   ],
   "source": [
    "events[:5]"
   ]
  },
  {
   "cell_type": "code",
   "execution_count": 6,
   "metadata": {
    "collapsed": false
   },
   "outputs": [
    {
     "data": {
      "text/html": [
       "<div>\n",
       "<table border=\"1\" class=\"dataframe\">\n",
       "  <thead>\n",
       "    <tr style=\"text-align: right;\">\n",
       "      <th></th>\n",
       "      <th>course_id</th>\n",
       "      <th>module_id</th>\n",
       "      <th>module_position</th>\n",
       "      <th>lesson_id</th>\n",
       "      <th>lesson_position</th>\n",
       "      <th>step_id</th>\n",
       "      <th>step_position</th>\n",
       "      <th>step_type</th>\n",
       "      <th>step_cost</th>\n",
       "      <th>step_num</th>\n",
       "    </tr>\n",
       "    <tr>\n",
       "      <th>step_id</th>\n",
       "      <th></th>\n",
       "      <th></th>\n",
       "      <th></th>\n",
       "      <th></th>\n",
       "      <th></th>\n",
       "      <th></th>\n",
       "      <th></th>\n",
       "      <th></th>\n",
       "      <th></th>\n",
       "      <th></th>\n",
       "    </tr>\n",
       "  </thead>\n",
       "  <tbody>\n",
       "    <tr>\n",
       "      <th>38518</th>\n",
       "      <td>217</td>\n",
       "      <td>635</td>\n",
       "      <td>1</td>\n",
       "      <td>13140</td>\n",
       "      <td>1</td>\n",
       "      <td>38518</td>\n",
       "      <td>1</td>\n",
       "      <td>text</td>\n",
       "      <td>0</td>\n",
       "      <td>0</td>\n",
       "    </tr>\n",
       "    <tr>\n",
       "      <th>38521</th>\n",
       "      <td>217</td>\n",
       "      <td>635</td>\n",
       "      <td>1</td>\n",
       "      <td>13140</td>\n",
       "      <td>1</td>\n",
       "      <td>38521</td>\n",
       "      <td>2</td>\n",
       "      <td>text</td>\n",
       "      <td>0</td>\n",
       "      <td>1</td>\n",
       "    </tr>\n",
       "    <tr>\n",
       "      <th>38519</th>\n",
       "      <td>217</td>\n",
       "      <td>635</td>\n",
       "      <td>1</td>\n",
       "      <td>13140</td>\n",
       "      <td>1</td>\n",
       "      <td>38519</td>\n",
       "      <td>3</td>\n",
       "      <td>choice</td>\n",
       "      <td>0</td>\n",
       "      <td>2</td>\n",
       "    </tr>\n",
       "    <tr>\n",
       "      <th>38529</th>\n",
       "      <td>217</td>\n",
       "      <td>635</td>\n",
       "      <td>1</td>\n",
       "      <td>13140</td>\n",
       "      <td>1</td>\n",
       "      <td>38529</td>\n",
       "      <td>4</td>\n",
       "      <td>code</td>\n",
       "      <td>1</td>\n",
       "      <td>3</td>\n",
       "    </tr>\n",
       "    <tr>\n",
       "      <th>38527</th>\n",
       "      <td>217</td>\n",
       "      <td>635</td>\n",
       "      <td>1</td>\n",
       "      <td>13140</td>\n",
       "      <td>1</td>\n",
       "      <td>38527</td>\n",
       "      <td>5</td>\n",
       "      <td>text</td>\n",
       "      <td>0</td>\n",
       "      <td>4</td>\n",
       "    </tr>\n",
       "  </tbody>\n",
       "</table>\n",
       "</div>"
      ],
      "text/plain": [
       "         course_id  module_id  module_position  lesson_id  lesson_position  \\\n",
       "step_id                                                                      \n",
       "38518          217        635                1      13140                1   \n",
       "38521          217        635                1      13140                1   \n",
       "38519          217        635                1      13140                1   \n",
       "38529          217        635                1      13140                1   \n",
       "38527          217        635                1      13140                1   \n",
       "\n",
       "         step_id  step_position step_type  step_cost  step_num  \n",
       "step_id                                                         \n",
       "38518      38518              1      text          0         0  \n",
       "38521      38521              2      text          0         1  \n",
       "38519      38519              3    choice          0         2  \n",
       "38529      38529              4      code          1         3  \n",
       "38527      38527              5      text          0         4  "
      ]
     },
     "execution_count": 6,
     "metadata": {},
     "output_type": "execute_result"
    }
   ],
   "source": [
    "structure[:5]"
   ]
  },
  {
   "cell_type": "code",
   "execution_count": 7,
   "metadata": {
    "collapsed": false
   },
   "outputs": [],
   "source": [
    "events['step_num'] = structure.ix[events.step_id].step_num.values"
   ]
  },
  {
   "cell_type": "code",
   "execution_count": 8,
   "metadata": {
    "collapsed": false
   },
   "outputs": [
    {
     "data": {
      "text/html": [
       "<div>\n",
       "<table border=\"1\" class=\"dataframe\">\n",
       "  <thead>\n",
       "    <tr style=\"text-align: right;\">\n",
       "      <th></th>\n",
       "      <th>user_id</th>\n",
       "      <th>action</th>\n",
       "      <th>step_id</th>\n",
       "      <th>time</th>\n",
       "      <th>step_num</th>\n",
       "    </tr>\n",
       "  </thead>\n",
       "  <tbody>\n",
       "    <tr>\n",
       "      <th>1431922</th>\n",
       "      <td>1229</td>\n",
       "      <td>viewed</td>\n",
       "      <td>38518</td>\n",
       "      <td>1440065573</td>\n",
       "      <td>0</td>\n",
       "    </tr>\n",
       "    <tr>\n",
       "      <th>1431921</th>\n",
       "      <td>1229</td>\n",
       "      <td>discovered</td>\n",
       "      <td>38518</td>\n",
       "      <td>1440065573</td>\n",
       "      <td>0</td>\n",
       "    </tr>\n",
       "    <tr>\n",
       "      <th>1431920</th>\n",
       "      <td>1229</td>\n",
       "      <td>passed</td>\n",
       "      <td>38518</td>\n",
       "      <td>1440065573</td>\n",
       "      <td>0</td>\n",
       "    </tr>\n",
       "    <tr>\n",
       "      <th>1431917</th>\n",
       "      <td>1229</td>\n",
       "      <td>passed</td>\n",
       "      <td>38521</td>\n",
       "      <td>1440065578</td>\n",
       "      <td>1</td>\n",
       "    </tr>\n",
       "    <tr>\n",
       "      <th>1431919</th>\n",
       "      <td>1229</td>\n",
       "      <td>viewed</td>\n",
       "      <td>38521</td>\n",
       "      <td>1440065578</td>\n",
       "      <td>1</td>\n",
       "    </tr>\n",
       "  </tbody>\n",
       "</table>\n",
       "</div>"
      ],
      "text/plain": [
       "         user_id      action  step_id        time  step_num\n",
       "1431922     1229      viewed    38518  1440065573         0\n",
       "1431921     1229  discovered    38518  1440065573         0\n",
       "1431920     1229      passed    38518  1440065573         0\n",
       "1431917     1229      passed    38521  1440065578         1\n",
       "1431919     1229      viewed    38521  1440065578         1"
      ]
     },
     "execution_count": 8,
     "metadata": {},
     "output_type": "execute_result"
    }
   ],
   "source": [
    "events[:5]"
   ]
  },
  {
   "cell_type": "code",
   "execution_count": 11,
   "metadata": {
    "collapsed": false
   },
   "outputs": [],
   "source": [
    "views_next = np.zeros_like(views)\n",
    "returns = np.zeros_like(views)\n",
    "events.user_id -= 1"
   ]
  },
  {
   "cell_type": "markdown",
   "metadata": {},
   "source": [
    "Пространство просмотров. пользователь/степ/(текущеий, следующий)"
   ]
  },
  {
   "cell_type": "code",
   "execution_count": 10,
   "metadata": {
    "collapsed": true
   },
   "outputs": [],
   "source": [
    "views = np.zeros([len(events.user_id.unique()), len(structure.step_num.unique()), 3])"
   ]
  },
  {
   "cell_type": "code",
   "execution_count": null,
   "metadata": {
    "collapsed": true
   },
   "outputs": [],
   "source": [
    "for i in events.index.values:\n",
    "    if (events.ix[i, 0] > 0) and (views[events.ix[i, 0], events.ix[i, 4] - 1, 0] == 1.0):\n",
    "        views[events.ix[i, 0], events.ix[i, 4], 1] = 1.0\n",
    "    if (views[events.ix[i, 0], events.ix[i, 4], 0] == 1.0) \\\n",
    "    and (events.ix[i, 4] < len(structure) - 1) \\\n",
    "    and (views[events.ix[i, 0], events.ix[i, 4] + 1, 1] == 1.0):\n",
    "        views[events.ix[i, 0], events.ix[i, 4], 2] = 1.0\n",
    "    views[events.ix[i, 0], events.ix[i, 4], 0] = 1.0"
   ]
  },
  {
   "cell_type": "code",
   "execution_count": 59,
   "metadata": {
    "collapsed": false
   },
   "outputs": [],
   "source": [
    "structure = structure.sort_values('step_num')\n",
    "structure['otv'] = returns.sum(axis = 0) / views.sum(axis = 0)"
   ]
  },
  {
   "cell_type": "code",
   "execution_count": 60,
   "metadata": {
    "collapsed": false
   },
   "outputs": [
    {
     "data": {
      "text/html": [
       "<div>\n",
       "<table border=\"1\" class=\"dataframe\">\n",
       "  <thead>\n",
       "    <tr style=\"text-align: right;\">\n",
       "      <th></th>\n",
       "      <th>course_id</th>\n",
       "      <th>module_id</th>\n",
       "      <th>module_position</th>\n",
       "      <th>lesson_id</th>\n",
       "      <th>lesson_position</th>\n",
       "      <th>step_id</th>\n",
       "      <th>step_position</th>\n",
       "      <th>step_type</th>\n",
       "      <th>step_cost</th>\n",
       "      <th>step_num</th>\n",
       "      <th>otv</th>\n",
       "    </tr>\n",
       "    <tr>\n",
       "      <th>step_id</th>\n",
       "      <th></th>\n",
       "      <th></th>\n",
       "      <th></th>\n",
       "      <th></th>\n",
       "      <th></th>\n",
       "      <th></th>\n",
       "      <th></th>\n",
       "      <th></th>\n",
       "      <th></th>\n",
       "      <th></th>\n",
       "      <th></th>\n",
       "    </tr>\n",
       "  </thead>\n",
       "  <tbody>\n",
       "    <tr>\n",
       "      <th>41684</th>\n",
       "      <td>217</td>\n",
       "      <td>623</td>\n",
       "      <td>8</td>\n",
       "      <td>13262</td>\n",
       "      <td>7</td>\n",
       "      <td>41684</td>\n",
       "      <td>4</td>\n",
       "      <td>code</td>\n",
       "      <td>1</td>\n",
       "      <td>215</td>\n",
       "      <td>0.744681</td>\n",
       "    </tr>\n",
       "    <tr>\n",
       "      <th>41604</th>\n",
       "      <td>217</td>\n",
       "      <td>623</td>\n",
       "      <td>8</td>\n",
       "      <td>13257</td>\n",
       "      <td>2</td>\n",
       "      <td>41604</td>\n",
       "      <td>5</td>\n",
       "      <td>code</td>\n",
       "      <td>1</td>\n",
       "      <td>191</td>\n",
       "      <td>0.728620</td>\n",
       "    </tr>\n",
       "    <tr>\n",
       "      <th>41097</th>\n",
       "      <td>217</td>\n",
       "      <td>619</td>\n",
       "      <td>3</td>\n",
       "      <td>13239</td>\n",
       "      <td>2</td>\n",
       "      <td>41097</td>\n",
       "      <td>5</td>\n",
       "      <td>code</td>\n",
       "      <td>1</td>\n",
       "      <td>56</td>\n",
       "      <td>0.679673</td>\n",
       "    </tr>\n",
       "    <tr>\n",
       "      <th>41481</th>\n",
       "      <td>217</td>\n",
       "      <td>621</td>\n",
       "      <td>5</td>\n",
       "      <td>13253</td>\n",
       "      <td>9</td>\n",
       "      <td>41481</td>\n",
       "      <td>3</td>\n",
       "      <td>sorting</td>\n",
       "      <td>1</td>\n",
       "      <td>142</td>\n",
       "      <td>0.673719</td>\n",
       "    </tr>\n",
       "    <tr>\n",
       "      <th>42593</th>\n",
       "      <td>217</td>\n",
       "      <td>623</td>\n",
       "      <td>8</td>\n",
       "      <td>13262</td>\n",
       "      <td>7</td>\n",
       "      <td>42593</td>\n",
       "      <td>3</td>\n",
       "      <td>free-answer</td>\n",
       "      <td>0</td>\n",
       "      <td>214</td>\n",
       "      <td>0.664987</td>\n",
       "    </tr>\n",
       "    <tr>\n",
       "      <th>38872</th>\n",
       "      <td>217</td>\n",
       "      <td>619</td>\n",
       "      <td>3</td>\n",
       "      <td>13238</td>\n",
       "      <td>1</td>\n",
       "      <td>38872</td>\n",
       "      <td>1</td>\n",
       "      <td>text</td>\n",
       "      <td>0</td>\n",
       "      <td>40</td>\n",
       "      <td>0.662408</td>\n",
       "    </tr>\n",
       "    <tr>\n",
       "      <th>41686</th>\n",
       "      <td>217</td>\n",
       "      <td>623</td>\n",
       "      <td>8</td>\n",
       "      <td>13262</td>\n",
       "      <td>7</td>\n",
       "      <td>41686</td>\n",
       "      <td>5</td>\n",
       "      <td>code</td>\n",
       "      <td>1</td>\n",
       "      <td>216</td>\n",
       "      <td>0.655827</td>\n",
       "    </tr>\n",
       "    <tr>\n",
       "      <th>39735</th>\n",
       "      <td>217</td>\n",
       "      <td>619</td>\n",
       "      <td>3</td>\n",
       "      <td>13238</td>\n",
       "      <td>1</td>\n",
       "      <td>39735</td>\n",
       "      <td>9</td>\n",
       "      <td>code</td>\n",
       "      <td>1</td>\n",
       "      <td>48</td>\n",
       "      <td>0.653884</td>\n",
       "    </tr>\n",
       "    <tr>\n",
       "      <th>39740</th>\n",
       "      <td>217</td>\n",
       "      <td>619</td>\n",
       "      <td>3</td>\n",
       "      <td>13238</td>\n",
       "      <td>1</td>\n",
       "      <td>39740</td>\n",
       "      <td>10</td>\n",
       "      <td>code</td>\n",
       "      <td>1</td>\n",
       "      <td>49</td>\n",
       "      <td>0.652793</td>\n",
       "    </tr>\n",
       "    <tr>\n",
       "      <th>39717</th>\n",
       "      <td>217</td>\n",
       "      <td>614</td>\n",
       "      <td>2</td>\n",
       "      <td>13228</td>\n",
       "      <td>2</td>\n",
       "      <td>39717</td>\n",
       "      <td>8</td>\n",
       "      <td>code</td>\n",
       "      <td>1</td>\n",
       "      <td>22</td>\n",
       "      <td>0.645986</td>\n",
       "    </tr>\n",
       "  </tbody>\n",
       "</table>\n",
       "</div>"
      ],
      "text/plain": [
       "         course_id  module_id  module_position  lesson_id  lesson_position  \\\n",
       "step_id                                                                      \n",
       "41684          217        623                8      13262                7   \n",
       "41604          217        623                8      13257                2   \n",
       "41097          217        619                3      13239                2   \n",
       "41481          217        621                5      13253                9   \n",
       "42593          217        623                8      13262                7   \n",
       "38872          217        619                3      13238                1   \n",
       "41686          217        623                8      13262                7   \n",
       "39735          217        619                3      13238                1   \n",
       "39740          217        619                3      13238                1   \n",
       "39717          217        614                2      13228                2   \n",
       "\n",
       "         step_id  step_position    step_type  step_cost  step_num       otv  \n",
       "step_id                                                                      \n",
       "41684      41684              4         code          1       215  0.744681  \n",
       "41604      41604              5         code          1       191  0.728620  \n",
       "41097      41097              5         code          1        56  0.679673  \n",
       "41481      41481              3      sorting          1       142  0.673719  \n",
       "42593      42593              3  free-answer          0       214  0.664987  \n",
       "38872      38872              1         text          0        40  0.662408  \n",
       "41686      41686              5         code          1       216  0.655827  \n",
       "39735      39735              9         code          1        48  0.653884  \n",
       "39740      39740             10         code          1        49  0.652793  \n",
       "39717      39717              8         code          1        22  0.645986  "
      ]
     },
     "execution_count": 60,
     "metadata": {},
     "output_type": "execute_result"
    }
   ],
   "source": [
    "structure.sort_values('otv', ascending = False).head(10)"
   ]
  },
  {
   "cell_type": "code",
   "execution_count": null,
   "metadata": {
    "collapsed": true
   },
   "outputs": [],
   "source": []
  }
 ],
 "metadata": {
  "anaconda-cloud": {},
  "kernelspec": {
   "display_name": "Python [default]",
   "language": "python",
   "name": "python2"
  },
  "language_info": {
   "codemirror_mode": {
    "name": "ipython",
    "version": 2
   },
   "file_extension": ".py",
   "mimetype": "text/x-python",
   "name": "python",
   "nbconvert_exporter": "python",
   "pygments_lexer": "ipython2",
   "version": "2.7.12"
  }
 },
 "nbformat": 4,
 "nbformat_minor": 1
}
