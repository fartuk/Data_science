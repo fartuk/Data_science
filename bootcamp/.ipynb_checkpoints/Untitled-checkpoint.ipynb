{
 "cells": [
  {
   "cell_type": "code",
   "execution_count": 169,
   "metadata": {
    "collapsed": false
   },
   "outputs": [
    {
     "name": "stdout",
     "output_type": "stream",
     "text": [
      "Populating the interactive namespace from numpy and matplotlib\n"
     ]
    },
    {
     "name": "stderr",
     "output_type": "stream",
     "text": [
      "WARNING: pylab import has clobbered these variables: ['random', 'clf']\n",
      "`%matplotlib` prevents importing * from pylab and numpy\n"
     ]
    }
   ],
   "source": [
    "import pandas as pd\n",
    "import numpy as np\n",
    "from sklearn import cross_validation, metrics \n",
    "import matplotlib.pyplot as plt\n",
    "import seaborn as sns\n",
    "import seaborn.matrix as smatrix\n",
    "import random\n",
    "import xgboost as xgb\n",
    "from sklearn.cross_validation import KFold\n",
    "from sklearn.model_selection import cross_val_predict\n",
    "from sklearn.metrics import log_loss\n",
    "\n",
    "%pylab inline"
   ]
  },
  {
   "cell_type": "code",
   "execution_count": 170,
   "metadata": {
    "collapsed": false
   },
   "outputs": [],
   "source": [
    "X_train = pd.read_csv('x_train.csv', header = 0, sep = ';')\n",
    "X_test = pd.read_csv('x_test.csv', header = 0, sep = ';')\n",
    "\n",
    "y_train = pd.read_csv('y_train.csv', header = None)\n",
    "y_train.columns = ['y']"
   ]
  },
  {
   "cell_type": "code",
   "execution_count": 3,
   "metadata": {
    "collapsed": false
   },
   "outputs": [],
   "source": [
    "X_train = pd.concat([X_train, y_train], axis = 1)"
   ]
  },
  {
   "cell_type": "code",
   "execution_count": 171,
   "metadata": {
    "collapsed": true
   },
   "outputs": [],
   "source": [
    "X_train['f1'] = X_train.totalNumOfAttempts - X_train.attemptsOnTheHighestLevel\n",
    "X_train['f2'] = X_train.numberOfBoostersUsed - X_train.fractionOfUsefullBoosters\n",
    "X_train['f3'] = X_train.numberOfAttemptedLevels - X_train.maxPlayerLevel \n",
    "X_train['f4'] = X_train.averageNumOfTurnsPerCompletedLevel * X_train.maxPlayerLevel\n",
    "#X_train['f5'] = X_train.totalBonusScore / X_train.totalScore\n",
    "#X_train['f6'] = X_train.attemptsOnTheHighestLevel / X_train.totalNumOfAttempts\n",
    "#X_train['f7'] = X_train.fractionOfUsefullBoosters / X_train.numberOfBoostersUsed\n",
    "#X_train['f8'] = X_train.maxPlayerLevel / X_train.numberOfDaysActuallyPlayed\n",
    "#X_train['f9'] = X_train.numberOfAttemptedLevels / X_train.maxPlayerLevel\n",
    "\n",
    "\n",
    "\n",
    "\n",
    "X_test['f1'] = X_test.totalNumOfAttempts - X_test.attemptsOnTheHighestLevel\n",
    "X_test['f2'] = X_test.numberOfBoostersUsed - X_test.fractionOfUsefullBoosters\n",
    "X_test['f3'] = X_test.numberOfAttemptedLevels - X_test.maxPlayerLevel \n",
    "X_test['f4'] = X_test.averageNumOfTurnsPerCompletedLevel * X_test.maxPlayerLevel\n",
    "#X_test['f5'] = X_test.totalBonusScore / X_test.totalScore \n",
    "#X_test['f6'] = X_test.attemptsOnTheHighestLevel / X_test.totalNumOfAttempts\n",
    "#X_test['f7'] = X_test.fractionOfUsefullBoosters / X_test.numberOfBoostersUsed\n",
    "#X_test['f8'] = X_test.maxPlayerLevel / X_test.numberOfDaysActuallyPlayed\n",
    "#X_test['f9'] = X_test.numberOfAttemptedLevels / X_test.maxPlayerLevel"
   ]
  },
  {
   "cell_type": "code",
   "execution_count": 113,
   "metadata": {
    "collapsed": false
   },
   "outputs": [
    {
     "data": {
      "text/plain": [
       "maxPlayerLevel                        0\n",
       "numberOfAttemptedLevels               0\n",
       "attemptsOnTheHighestLevel             0\n",
       "totalNumOfAttempts                    0\n",
       "averageNumOfTurnsPerCompletedLevel    0\n",
       "doReturnOnLowerLevels                 0\n",
       "numberOfBoostersUsed                  0\n",
       "fractionOfUsefullBoosters             0\n",
       "totalScore                            0\n",
       "totalBonusScore                       0\n",
       "totalStarsCount                       0\n",
       "numberOfDaysActuallyPlayed            0\n",
       "f1                                    0\n",
       "f2                                    0\n",
       "f3                                    0\n",
       "f4                                    0\n",
       "dtype: int64"
      ]
     },
     "execution_count": 113,
     "metadata": {},
     "output_type": "execute_result"
    }
   ],
   "source": [
    "X_train.isnull().sum()"
   ]
  },
  {
   "cell_type": "code",
   "execution_count": null,
   "metadata": {
    "collapsed": true
   },
   "outputs": [],
   "source": []
  },
  {
   "cell_type": "code",
   "execution_count": 108,
   "metadata": {
    "collapsed": false
   },
   "outputs": [],
   "source": [
    "d_mean= X_train.median(axis=0)\n",
    "col = ['f5', 'f7']\n",
    "for c in col:\n",
    "    X_train[c + '_nan_'] = pd.isnull(X_train[c])\n",
    "    d_mean[c + '_nan_'] = 0\n",
    "X_train = X_train.fillna(d_mean)\n",
    "\n",
    "\n",
    "col = ['f5', 'f7']\n",
    "for c in col:\n",
    "    X_test[c + '_nan_'] = pd.isnull(X_test[c])\n",
    "    d_mean[c + '_nan_'] = 0\n",
    "X_test = X_test.fillna(d_mean)"
   ]
  },
  {
   "cell_type": "code",
   "execution_count": 64,
   "metadata": {
    "collapsed": false
   },
   "outputs": [
    {
     "data": {
      "text/html": [
       "<div>\n",
       "<table border=\"1\" class=\"dataframe\">\n",
       "  <thead>\n",
       "    <tr style=\"text-align: right;\">\n",
       "      <th></th>\n",
       "      <th>maxPlayerLevel</th>\n",
       "      <th>numberOfAttemptedLevels</th>\n",
       "      <th>attemptsOnTheHighestLevel</th>\n",
       "      <th>totalNumOfAttempts</th>\n",
       "      <th>averageNumOfTurnsPerCompletedLevel</th>\n",
       "      <th>doReturnOnLowerLevels</th>\n",
       "      <th>numberOfBoostersUsed</th>\n",
       "      <th>fractionOfUsefullBoosters</th>\n",
       "      <th>totalScore</th>\n",
       "      <th>totalBonusScore</th>\n",
       "      <th>...</th>\n",
       "      <th>f2</th>\n",
       "      <th>f3</th>\n",
       "      <th>f4</th>\n",
       "      <th>f5</th>\n",
       "      <th>f6</th>\n",
       "      <th>f7</th>\n",
       "      <th>f8</th>\n",
       "      <th>f9</th>\n",
       "      <th>f5_nan_</th>\n",
       "      <th>f7_nan_</th>\n",
       "    </tr>\n",
       "  </thead>\n",
       "  <tbody>\n",
       "    <tr>\n",
       "      <th>0</th>\n",
       "      <td>39</td>\n",
       "      <td>10</td>\n",
       "      <td>3</td>\n",
       "      <td>17</td>\n",
       "      <td>24.444444</td>\n",
       "      <td>1</td>\n",
       "      <td>5</td>\n",
       "      <td>0.400000</td>\n",
       "      <td>2650000</td>\n",
       "      <td>1375</td>\n",
       "      <td>...</td>\n",
       "      <td>4.600000</td>\n",
       "      <td>-29</td>\n",
       "      <td>953.333333</td>\n",
       "      <td>5.189679e-04</td>\n",
       "      <td>0.176471</td>\n",
       "      <td>8.000010e-02</td>\n",
       "      <td>1.950000e+01</td>\n",
       "      <td>0.256410</td>\n",
       "      <td>False</td>\n",
       "      <td>False</td>\n",
       "    </tr>\n",
       "    <tr>\n",
       "      <th>1</th>\n",
       "      <td>21</td>\n",
       "      <td>22</td>\n",
       "      <td>19</td>\n",
       "      <td>55</td>\n",
       "      <td>17.045455</td>\n",
       "      <td>1</td>\n",
       "      <td>6</td>\n",
       "      <td>0.333333</td>\n",
       "      <td>5614000</td>\n",
       "      <td>3825</td>\n",
       "      <td>...</td>\n",
       "      <td>5.666667</td>\n",
       "      <td>1</td>\n",
       "      <td>357.954545</td>\n",
       "      <td>6.814324e-04</td>\n",
       "      <td>0.345455</td>\n",
       "      <td>5.555566e-02</td>\n",
       "      <td>5.250000e+00</td>\n",
       "      <td>1.047619</td>\n",
       "      <td>False</td>\n",
       "      <td>False</td>\n",
       "    </tr>\n",
       "    <tr>\n",
       "      <th>2</th>\n",
       "      <td>5</td>\n",
       "      <td>6</td>\n",
       "      <td>1</td>\n",
       "      <td>6</td>\n",
       "      <td>8.400000</td>\n",
       "      <td>0</td>\n",
       "      <td>1</td>\n",
       "      <td>1.000000</td>\n",
       "      <td>857000</td>\n",
       "      <td>1150</td>\n",
       "      <td>...</td>\n",
       "      <td>0.000000</td>\n",
       "      <td>1</td>\n",
       "      <td>42.000000</td>\n",
       "      <td>1.341990e-03</td>\n",
       "      <td>0.166667</td>\n",
       "      <td>1.000000e+00</td>\n",
       "      <td>5.000000e+00</td>\n",
       "      <td>1.200000</td>\n",
       "      <td>False</td>\n",
       "      <td>False</td>\n",
       "    </tr>\n",
       "    <tr>\n",
       "      <th>3</th>\n",
       "      <td>21</td>\n",
       "      <td>2</td>\n",
       "      <td>5</td>\n",
       "      <td>6</td>\n",
       "      <td>19.000000</td>\n",
       "      <td>0</td>\n",
       "      <td>1</td>\n",
       "      <td>0.000000</td>\n",
       "      <td>120000</td>\n",
       "      <td>0</td>\n",
       "      <td>...</td>\n",
       "      <td>1.000000</td>\n",
       "      <td>-19</td>\n",
       "      <td>399.000000</td>\n",
       "      <td>1.000000e-07</td>\n",
       "      <td>0.833333</td>\n",
       "      <td>1.000000e-07</td>\n",
       "      <td>2.100000e+01</td>\n",
       "      <td>0.095238</td>\n",
       "      <td>False</td>\n",
       "      <td>False</td>\n",
       "    </tr>\n",
       "    <tr>\n",
       "      <th>4</th>\n",
       "      <td>4</td>\n",
       "      <td>5</td>\n",
       "      <td>1</td>\n",
       "      <td>5</td>\n",
       "      <td>9.600000</td>\n",
       "      <td>0</td>\n",
       "      <td>1</td>\n",
       "      <td>1.000000</td>\n",
       "      <td>857000</td>\n",
       "      <td>1075</td>\n",
       "      <td>...</td>\n",
       "      <td>0.000000</td>\n",
       "      <td>1</td>\n",
       "      <td>38.400000</td>\n",
       "      <td>1.254476e-03</td>\n",
       "      <td>0.200000</td>\n",
       "      <td>1.000000e+00</td>\n",
       "      <td>4.000000e+00</td>\n",
       "      <td>1.250000</td>\n",
       "      <td>False</td>\n",
       "      <td>False</td>\n",
       "    </tr>\n",
       "    <tr>\n",
       "      <th>5</th>\n",
       "      <td>0</td>\n",
       "      <td>1</td>\n",
       "      <td>1</td>\n",
       "      <td>1</td>\n",
       "      <td>3.000000</td>\n",
       "      <td>0</td>\n",
       "      <td>0</td>\n",
       "      <td>0.000000</td>\n",
       "      <td>113000</td>\n",
       "      <td>250</td>\n",
       "      <td>...</td>\n",
       "      <td>0.000000</td>\n",
       "      <td>1</td>\n",
       "      <td>0.000000</td>\n",
       "      <td>2.212489e-03</td>\n",
       "      <td>1.000000</td>\n",
       "      <td>1.600001e-01</td>\n",
       "      <td>1.000000e-07</td>\n",
       "      <td>inf</td>\n",
       "      <td>False</td>\n",
       "      <td>True</td>\n",
       "    </tr>\n",
       "    <tr>\n",
       "      <th>6</th>\n",
       "      <td>13</td>\n",
       "      <td>14</td>\n",
       "      <td>2</td>\n",
       "      <td>19</td>\n",
       "      <td>15.500000</td>\n",
       "      <td>0</td>\n",
       "      <td>5</td>\n",
       "      <td>0.800000</td>\n",
       "      <td>3831000</td>\n",
       "      <td>2875</td>\n",
       "      <td>...</td>\n",
       "      <td>4.200000</td>\n",
       "      <td>1</td>\n",
       "      <td>201.500000</td>\n",
       "      <td>7.505568e-04</td>\n",
       "      <td>0.105263</td>\n",
       "      <td>1.600001e-01</td>\n",
       "      <td>6.500000e+00</td>\n",
       "      <td>1.076923</td>\n",
       "      <td>False</td>\n",
       "      <td>False</td>\n",
       "    </tr>\n",
       "    <tr>\n",
       "      <th>7</th>\n",
       "      <td>13</td>\n",
       "      <td>14</td>\n",
       "      <td>5</td>\n",
       "      <td>26</td>\n",
       "      <td>14.769231</td>\n",
       "      <td>0</td>\n",
       "      <td>4</td>\n",
       "      <td>0.500000</td>\n",
       "      <td>3458000</td>\n",
       "      <td>2375</td>\n",
       "      <td>...</td>\n",
       "      <td>3.500000</td>\n",
       "      <td>1</td>\n",
       "      <td>192.000000</td>\n",
       "      <td>6.869132e-04</td>\n",
       "      <td>0.192308</td>\n",
       "      <td>1.250001e-01</td>\n",
       "      <td>6.500000e+00</td>\n",
       "      <td>1.076923</td>\n",
       "      <td>False</td>\n",
       "      <td>False</td>\n",
       "    </tr>\n",
       "    <tr>\n",
       "      <th>8</th>\n",
       "      <td>2</td>\n",
       "      <td>3</td>\n",
       "      <td>1</td>\n",
       "      <td>3</td>\n",
       "      <td>7.666667</td>\n",
       "      <td>0</td>\n",
       "      <td>0</td>\n",
       "      <td>0.000000</td>\n",
       "      <td>420000</td>\n",
       "      <td>750</td>\n",
       "      <td>...</td>\n",
       "      <td>0.000000</td>\n",
       "      <td>1</td>\n",
       "      <td>15.333333</td>\n",
       "      <td>1.785814e-03</td>\n",
       "      <td>0.333333</td>\n",
       "      <td>1.600001e-01</td>\n",
       "      <td>2.000000e+00</td>\n",
       "      <td>1.500000</td>\n",
       "      <td>False</td>\n",
       "      <td>True</td>\n",
       "    </tr>\n",
       "    <tr>\n",
       "      <th>9</th>\n",
       "      <td>1</td>\n",
       "      <td>2</td>\n",
       "      <td>3</td>\n",
       "      <td>5</td>\n",
       "      <td>3.000000</td>\n",
       "      <td>1</td>\n",
       "      <td>0</td>\n",
       "      <td>0.000000</td>\n",
       "      <td>113000</td>\n",
       "      <td>250</td>\n",
       "      <td>...</td>\n",
       "      <td>0.000000</td>\n",
       "      <td>1</td>\n",
       "      <td>3.000000</td>\n",
       "      <td>2.212489e-03</td>\n",
       "      <td>0.600000</td>\n",
       "      <td>1.600001e-01</td>\n",
       "      <td>1.000000e+00</td>\n",
       "      <td>2.000000</td>\n",
       "      <td>False</td>\n",
       "      <td>True</td>\n",
       "    </tr>\n",
       "  </tbody>\n",
       "</table>\n",
       "<p>10 rows × 23 columns</p>\n",
       "</div>"
      ],
      "text/plain": [
       "   maxPlayerLevel  numberOfAttemptedLevels  attemptsOnTheHighestLevel  \\\n",
       "0              39                       10                          3   \n",
       "1              21                       22                         19   \n",
       "2               5                        6                          1   \n",
       "3              21                        2                          5   \n",
       "4               4                        5                          1   \n",
       "5               0                        1                          1   \n",
       "6              13                       14                          2   \n",
       "7              13                       14                          5   \n",
       "8               2                        3                          1   \n",
       "9               1                        2                          3   \n",
       "\n",
       "   totalNumOfAttempts  averageNumOfTurnsPerCompletedLevel  \\\n",
       "0                  17                           24.444444   \n",
       "1                  55                           17.045455   \n",
       "2                   6                            8.400000   \n",
       "3                   6                           19.000000   \n",
       "4                   5                            9.600000   \n",
       "5                   1                            3.000000   \n",
       "6                  19                           15.500000   \n",
       "7                  26                           14.769231   \n",
       "8                   3                            7.666667   \n",
       "9                   5                            3.000000   \n",
       "\n",
       "   doReturnOnLowerLevels  numberOfBoostersUsed  fractionOfUsefullBoosters  \\\n",
       "0                      1                     5                   0.400000   \n",
       "1                      1                     6                   0.333333   \n",
       "2                      0                     1                   1.000000   \n",
       "3                      0                     1                   0.000000   \n",
       "4                      0                     1                   1.000000   \n",
       "5                      0                     0                   0.000000   \n",
       "6                      0                     5                   0.800000   \n",
       "7                      0                     4                   0.500000   \n",
       "8                      0                     0                   0.000000   \n",
       "9                      1                     0                   0.000000   \n",
       "\n",
       "   totalScore  totalBonusScore   ...           f2  f3          f4  \\\n",
       "0     2650000             1375   ...     4.600000 -29  953.333333   \n",
       "1     5614000             3825   ...     5.666667   1  357.954545   \n",
       "2      857000             1150   ...     0.000000   1   42.000000   \n",
       "3      120000                0   ...     1.000000 -19  399.000000   \n",
       "4      857000             1075   ...     0.000000   1   38.400000   \n",
       "5      113000              250   ...     0.000000   1    0.000000   \n",
       "6     3831000             2875   ...     4.200000   1  201.500000   \n",
       "7     3458000             2375   ...     3.500000   1  192.000000   \n",
       "8      420000              750   ...     0.000000   1   15.333333   \n",
       "9      113000              250   ...     0.000000   1    3.000000   \n",
       "\n",
       "             f5        f6            f7            f8        f9  f5_nan_  \\\n",
       "0  5.189679e-04  0.176471  8.000010e-02  1.950000e+01  0.256410    False   \n",
       "1  6.814324e-04  0.345455  5.555566e-02  5.250000e+00  1.047619    False   \n",
       "2  1.341990e-03  0.166667  1.000000e+00  5.000000e+00  1.200000    False   \n",
       "3  1.000000e-07  0.833333  1.000000e-07  2.100000e+01  0.095238    False   \n",
       "4  1.254476e-03  0.200000  1.000000e+00  4.000000e+00  1.250000    False   \n",
       "5  2.212489e-03  1.000000  1.600001e-01  1.000000e-07       inf    False   \n",
       "6  7.505568e-04  0.105263  1.600001e-01  6.500000e+00  1.076923    False   \n",
       "7  6.869132e-04  0.192308  1.250001e-01  6.500000e+00  1.076923    False   \n",
       "8  1.785814e-03  0.333333  1.600001e-01  2.000000e+00  1.500000    False   \n",
       "9  2.212489e-03  0.600000  1.600001e-01  1.000000e+00  2.000000    False   \n",
       "\n",
       "   f7_nan_  \n",
       "0    False  \n",
       "1    False  \n",
       "2    False  \n",
       "3    False  \n",
       "4    False  \n",
       "5     True  \n",
       "6    False  \n",
       "7    False  \n",
       "8     True  \n",
       "9     True  \n",
       "\n",
       "[10 rows x 23 columns]"
      ]
     },
     "execution_count": 64,
     "metadata": {},
     "output_type": "execute_result"
    }
   ],
   "source": [
    "X_train[:10]"
   ]
  },
  {
   "cell_type": "code",
   "execution_count": 109,
   "metadata": {
    "collapsed": false
   },
   "outputs": [],
   "source": [
    "from sklearn.datasets import load_iris, load_boston\n",
    "import xgboost as xgb\n",
    "import xgbfir\n",
    "\n",
    "\n",
    "# doing all the XGBoost magic\n",
    "xgb_model = xgb.XGBClassifier().fit(X_train, y_train)\n",
    "param = {'min_child_weight': 90,\n",
    "        'eta': 0.03,\n",
    "        #'colsample_bytree': 1.0,\n",
    "        'max_depth': 5,\n",
    "        #'subsample': 1.0,\n",
    "        #'alpha': 1,\n",
    "        #'gamma': 1,\n",
    "        #'silent': 1,\n",
    "        'eval_metric' : 'logloss',\n",
    "        'objective': 'reg:linear',\n",
    "        'verbose_eval': True}\n",
    "num_round = 195\n",
    "\n",
    "xgtrain = xgb.DMatrix(X_train, y_train)\n",
    "bst = xgb.train(param, xgtrain, num_round)\n",
    "\n",
    "# saving to file with proper feature names\n",
    "xgbfir.saveXgbFI(bst, feature_names=X_train.columns, MaxInteractionDepth= 10, OutputXlsxFile = 'irisFI.xlsx')"
   ]
  },
  {
   "cell_type": "code",
   "execution_count": null,
   "metadata": {
    "collapsed": true
   },
   "outputs": [],
   "source": []
  },
  {
   "cell_type": "code",
   "execution_count": null,
   "metadata": {
    "collapsed": true
   },
   "outputs": [],
   "source": []
  },
  {
   "cell_type": "code",
   "execution_count": null,
   "metadata": {
    "collapsed": true
   },
   "outputs": [],
   "source": []
  },
  {
   "cell_type": "code",
   "execution_count": 53,
   "metadata": {
    "collapsed": false
   },
   "outputs": [
    {
     "name": "stdout",
     "output_type": "stream",
     "text": [
      "(18001, 1)\n",
      "(7288, 1)\n"
     ]
    }
   ],
   "source": [
    "print y_train[y_train.y == 0].shape\n",
    "print y_train[y_train.y == 1].shape"
   ]
  },
  {
   "cell_type": "code",
   "execution_count": 37,
   "metadata": {
    "collapsed": false
   },
   "outputs": [
    {
     "data": {
      "text/plain": [
       "<matplotlib.axes._subplots.AxesSubplot at 0x7f32c555cd10>"
      ]
     },
     "execution_count": 37,
     "metadata": {},
     "output_type": "execute_result"
    },
    {
     "data": {
      "image/png": "[encoded data removed]",
      "text/plain": [
       "<matplotlib.figure.Figure at 0x7f32c9bf8710>"
      ]
     },
     "metadata": {},
     "output_type": "display_data"
    }
   ],
   "source": [
    "import seaborn as sns\n",
    "CorrKoef = X_train.corr()\n",
    "#pylab.figure(figsize=(50, 25))\n",
    "sns.heatmap(CorrKoef, annot=False)"
   ]
  },
  {
   "cell_type": "code",
   "execution_count": 3,
   "metadata": {
    "collapsed": false
   },
   "outputs": [
    {
     "data": {
      "image/png": "[encoded data removed]",
      "text/plain": [
       "<matplotlib.figure.Figure at 0x7f1b16bb0e90>"
      ]
     },
     "metadata": {},
     "output_type": "display_data"
    }
   ],
   "source": [
    "x = X_train.fractionOfUsefullBoosters\n",
    "#plt.title(i)\n",
    "pylab.figure(figsize=(8, 6))\n",
    "plt.hist(x, bins=100, range=(0, 5))\n",
    "plt.show()"
   ]
  },
  {
   "cell_type": "markdown",
   "metadata": {},
   "source": [
    "# Модели первого уровня"
   ]
  },
  {
   "cell_type": "code",
   "execution_count": 27,
   "metadata": {
    "collapsed": false
   },
   "outputs": [
    {
     "name": "stdout",
     "output_type": "stream",
     "text": [
      "[0]\ttrain-logloss:0.691603\ttest-logloss:0.691611\n",
      "[50]\ttrain-logloss:0.624628\ttest-logloss:0.625179\n",
      "[100]\ttrain-logloss:0.573513\ttest-logloss:0.574541\n",
      "[150]\ttrain-logloss:0.533744\ttest-logloss:0.535272\n",
      "[200]\ttrain-logloss:0.502457\ttest-logloss:0.50447\n",
      "[250]\ttrain-logloss:0.477535\ttest-logloss:0.480037\n",
      "[300]\ttrain-logloss:0.457534\ttest-logloss:0.460522\n",
      "[350]\ttrain-logloss:0.441397\ttest-logloss:0.444863\n",
      "[400]\ttrain-logloss:0.428312\ttest-logloss:0.432261\n",
      "[450]\ttrain-logloss:0.417665\ttest-logloss:0.422102\n",
      "[500]\ttrain-logloss:0.408996\ttest-logloss:0.413887\n",
      "[550]\ttrain-logloss:0.401912\ttest-logloss:0.407278\n",
      "[600]\ttrain-logloss:0.396126\ttest-logloss:0.401972\n",
      "[650]\ttrain-logloss:0.391365\ttest-logloss:0.397668\n",
      "[700]\ttrain-logloss:0.387458\ttest-logloss:0.394237\n",
      "[750]\ttrain-logloss:0.384274\ttest-logloss:0.391486\n",
      "[800]\ttrain-logloss:0.381633\ttest-logloss:0.389281\n",
      "[850]\ttrain-logloss:0.379437\ttest-logloss:0.38753\n",
      "[900]\ttrain-logloss:0.377591\ttest-logloss:0.386141\n",
      "[950]\ttrain-logloss:0.376059\ttest-logloss:0.385033\n",
      "[1000]\ttrain-logloss:0.374758\ttest-logloss:0.384139\n",
      "[1050]\ttrain-logloss:0.373627\ttest-logloss:0.383407\n",
      "[1100]\ttrain-logloss:0.372678\ttest-logloss:0.382841\n",
      "[1150]\ttrain-logloss:0.371857\ttest-logloss:0.38241\n",
      "[1200]\ttrain-logloss:0.371147\ttest-logloss:0.382039\n",
      "[1250]\ttrain-logloss:0.370516\ttest-logloss:0.381775\n",
      "[1300]\ttrain-logloss:0.36995\ttest-logloss:0.381578\n",
      "[1350]\ttrain-logloss:0.369462\ttest-logloss:0.381414\n",
      "[1400]\ttrain-logloss:0.369013\ttest-logloss:0.3813\n",
      "[1450]\ttrain-logloss:0.368576\ttest-logloss:0.381208\n",
      "[1500]\ttrain-logloss:0.368178\ttest-logloss:0.382313\n",
      "[1550]\ttrain-logloss:0.36781\ttest-logloss:0.382232\n",
      "[1600]\ttrain-logloss:0.367477\ttest-logloss:0.382203\n",
      "[1650]\ttrain-logloss:0.367149\ttest-logloss:0.382156\n",
      "[1700]\ttrain-logloss:0.366826\ttest-logloss:0.382143\n",
      "[1750]\ttrain-logloss:0.366524\ttest-logloss:0.382139\n",
      "[1800]\ttrain-logloss:0.366239\ttest-logloss:0.382145\n",
      "[1850]\ttrain-logloss:0.36594\ttest-logloss:0.382117\n",
      "[1900]\ttrain-logloss:0.365656\ttest-logloss:0.382118\n",
      "0.3811612\n",
      "1463\n",
      "CPU times: user 8min 38s, sys: 12.7 s, total: 8min 51s\n",
      "Wall time: 33.5 s\n"
     ]
    }
   ],
   "source": [
    "%%time\n",
    "param = {'min_child_weight': 100,\n",
    "        'eta': 0.003,\n",
    "        #'colsample_bytree': 0.9,\n",
    "        'max_depth': 5,\n",
    "        'subsample': 0.3,\n",
    "        #'alpha': 1,\n",
    "        #'gamma': 1,\n",
    "        #'silent': 1,\n",
    "        'eval_metric' : 'logloss',\n",
    "        'objective': 'reg:linear',\n",
    "        'verbose_eval': True}\n",
    "num_round = 1950\n",
    "\n",
    "xgtrain = xgb.DMatrix(X_train, y_train)\n",
    "\n",
    "t = xgb.cv(param, xgtrain, num_boost_round=num_round, nfold=5, show_stdv=0, seed=0, verbose_eval=50)\n",
    "print t['test-logloss-mean'].min()\n",
    "print t['test-logloss-mean'].argmin() + 1"
   ]
  },
  {
   "cell_type": "code",
   "execution_count": 172,
   "metadata": {
    "collapsed": false
   },
   "outputs": [
    {
     "name": "stdout",
     "output_type": "stream",
     "text": [
      "-0.381669979641\n"
     ]
    },
    {
     "name": "stderr",
     "output_type": "stream",
     "text": [
      "[Parallel(n_jobs=1)]: Done   5 out of   5 | elapsed:    2.0s finished\n"
     ]
    }
   ],
   "source": [
    "clf = xgb.XGBClassifier(max_depth=3,\n",
    "                        learning_rate=0.1,\n",
    "                        n_estimators=120,\n",
    "                        silent=True,\n",
    "                        objective='binary:logistic',\n",
    "                        nthread=-1,\n",
    "                        gamma=0,\n",
    "                        min_child_weight=100,\n",
    "                        max_delta_step=0,\n",
    "                        #subsample=0.9,\n",
    "                        #colsample_bytree=1,\n",
    "                        #colsample_bylevel=1,\n",
    "                        reg_alpha=0,\n",
    "                        reg_lambda=1,\n",
    "                        scale_pos_weight=1,\n",
    "                        #base_score=0.5,\n",
    "                        seed=0,\n",
    "                        missing=None)\n",
    "\n",
    "print cross_val_score(clf, X_train, y_train.y, scoring='neg_log_loss', cv=5, verbose=1).mean()"
   ]
  },
  {
   "cell_type": "code",
   "execution_count": 69,
   "metadata": {
    "collapsed": false
   },
   "outputs": [
    {
     "data": {
      "text/plain": [
       "0.382925"
      ]
     },
     "execution_count": 69,
     "metadata": {},
     "output_type": "execute_result"
    }
   ],
   "source": [
    "0.3811612\n",
    "0.381396"
   ]
  },
  {
   "cell_type": "code",
   "execution_count": 124,
   "metadata": {
    "collapsed": true
   },
   "outputs": [],
   "source": [
    "from sklearn.preprocessing import StandardScaler\n",
    "scaler = StandardScaler()\n",
    "scaler.fit(X_train, y_train)\n",
    "X_train = scaler.transform(X_train)\n",
    "X_train = pd.DataFrame(X_train)\n",
    "X_test = scaler.transform(X_test)\n",
    "X_test = pd.DataFrame(X_test)\n"
   ]
  },
  {
   "cell_type": "code",
   "execution_count": 122,
   "metadata": {
    "collapsed": false
   },
   "outputs": [],
   "source": [
    "cv = KFold(X_train.shape[0], n_folds=5, random_state=42)"
   ]
  },
  {
   "cell_type": "code",
   "execution_count": 125,
   "metadata": {
    "collapsed": false
   },
   "outputs": [],
   "source": [
    "from sklearn.linear_model import LogisticRegression\n",
    "clf = LogisticRegression(C=1e-2, penalty='l1')\n",
    "\n",
    "preds_train = cross_val_predict(clf, X_train, y_train, cv=cv, method='predict_proba')\n",
    "preds_test = clf.fit(X_train, y_train).predict_proba(X_test)\n",
    "                     \n",
    "                     \n",
    "preds_train = pd.DataFrame(preds_train)\n",
    "preds_train.to_csv('stacking/lin_train.csv', index=False, header = 0)\n",
    "preds_test = pd.DataFrame(preds_test)\n",
    "preds_test.to_csv('stacking/lin_test.csv', index=False, header = 0)\n"
   ]
  },
  {
   "cell_type": "code",
   "execution_count": 126,
   "metadata": {
    "collapsed": false
   },
   "outputs": [
    {
     "data": {
      "text/plain": [
       "0.4031551746410994"
      ]
     },
     "execution_count": 126,
     "metadata": {},
     "output_type": "execute_result"
    }
   ],
   "source": [
    "tr = pd.read_csv('stacking/lin_train.csv', header = None)\n",
    "log_loss(y_train, tr)"
   ]
  },
  {
   "cell_type": "code",
   "execution_count": 131,
   "metadata": {
    "collapsed": false
   },
   "outputs": [
    {
     "name": "stderr",
     "output_type": "stream",
     "text": [
      "/home/ubuntu/anaconda2/lib/python2.7/site-packages/ipykernel/__main__.py:15: DataConversionWarning: A column-vector y was passed when a 1d array was expected. Please change the shape of y to (n_samples,), for example using ravel().\n"
     ]
    }
   ],
   "source": [
    "clf = sklearn.ensemble.RandomForestClassifier(n_estimators=295,\n",
    "                                       #criterion='mlog_loss',\n",
    "                                       max_depth=8,\n",
    "                                       min_samples_split=5,\n",
    "                                       min_samples_leaf=10,\n",
    "                                       #min_weight_fraction_leaf=0.0,\n",
    "                                       max_features='auto',\n",
    "                                       max_leaf_nodes=None,\n",
    "                                       bootstrap=True,\n",
    "                                       #oob_score=False,\n",
    "                                       n_jobs=-1,\n",
    "                                       random_state=13)\n",
    "\n",
    "preds_train = cross_val_predict(clf, X_train, y_train, cv=cv, method='predict_proba')\n",
    "preds_test = clf.fit(X_train, y_train).predict_proba(X_test)\n",
    "preds_train = pd.DataFrame(preds_train)\n",
    "preds_train = preds_train.ix[:, 1]\n",
    "preds_train.to_csv('stacking/for_train.csv', index=False, header = 0)\n",
    "preds_test = pd.DataFrame(preds_test)\n",
    "preds_test = preds_test.ix[:, 1]\n",
    "preds_test.to_csv('stacking/for_test.csv', index=False, header = 0)"
   ]
  },
  {
   "cell_type": "code",
   "execution_count": 132,
   "metadata": {
    "collapsed": false
   },
   "outputs": [
    {
     "data": {
      "text/plain": [
       "0.38327127182084286"
      ]
     },
     "execution_count": 132,
     "metadata": {},
     "output_type": "execute_result"
    }
   ],
   "source": [
    "tr = pd.read_csv('stacking/for_train.csv', header = None)\n",
    "log_loss(y_train, tr)"
   ]
  },
  {
   "cell_type": "code",
   "execution_count": 173,
   "metadata": {
    "collapsed": false
   },
   "outputs": [],
   "source": [
    "clf = xgb.XGBClassifier(max_depth=3,\n",
    "                        learning_rate=0.1,\n",
    "                        n_estimators=120,\n",
    "                        silent=True,\n",
    "                        objective='binary:logistic',\n",
    "                        nthread=-1,\n",
    "                        gamma=0,\n",
    "                        min_child_weight=100,\n",
    "                        max_delta_step=0,\n",
    "                        #subsample=0.9,\n",
    "                        #colsample_bytree=1,\n",
    "                        #colsample_bylevel=1,\n",
    "                        reg_alpha=0,\n",
    "                        reg_lambda=1,\n",
    "                        scale_pos_weight=1,\n",
    "                        #base_score=0.5,\n",
    "                        seed=0,\n",
    "                        missing=None)\n",
    "\n",
    "preds_train = cross_val_predict(clf, X_train, y_train, cv=cv, method='predict_proba')\n",
    "preds_test = clf.fit(X_train, y_train).predict_proba(X_test)\n",
    "preds_train = pd.DataFrame(preds_train)\n",
    "preds_train = preds_train.ix[:, 1]\n",
    "preds_train.to_csv('stacking/boost_train_1_2_3_4.csv', index=False, header = 0)\n",
    "preds_test = pd.DataFrame(preds_test)\n",
    "preds_test = preds_test.ix[:, 1]\n",
    "preds_test.to_csv('stacking/boost_test_1_2_3_4.csv', index=False, header = 0)"
   ]
  },
  {
   "cell_type": "code",
   "execution_count": 175,
   "metadata": {
    "collapsed": false
   },
   "outputs": [
    {
     "data": {
      "text/plain": [
       "0.38183258729173269"
      ]
     },
     "execution_count": 175,
     "metadata": {},
     "output_type": "execute_result"
    }
   ],
   "source": [
    "tr = pd.read_csv('stacking/boost_train_1_2_3_4.csv', header = None)\n",
    "log_loss(y_train, tr)"
   ]
  },
  {
   "cell_type": "code",
   "execution_count": null,
   "metadata": {
    "collapsed": true
   },
   "outputs": [],
   "source": []
  },
  {
   "cell_type": "code",
   "execution_count": null,
   "metadata": {
    "collapsed": true
   },
   "outputs": [],
   "source": []
  },
  {
   "cell_type": "code",
   "execution_count": 28,
   "metadata": {
    "collapsed": true
   },
   "outputs": [],
   "source": [
    "num_round = 1463\n",
    "\n",
    "bst = xgb.train(param, xgtrain, num_round)"
   ]
  },
  {
   "cell_type": "code",
   "execution_count": 22,
   "metadata": {
    "collapsed": false
   },
   "outputs": [
    {
     "data": {
      "image/png": "[encoded data removed]",
      "text/plain": [
       "<matplotlib.figure.Figure at 0x7f656ce80a50>"
      ]
     },
     "metadata": {},
     "output_type": "display_data"
    }
   ],
   "source": [
    "imp = pd.DataFrame(bst.get_fscore().items()).sort_values(1, ascending=False)\n",
    "imp.index = imp[0]\n",
    "imp[:80].plot(kind = \"bar\", figsize=(9, 6))\n",
    "plt.show()\n",
    "best = imp[:80].index"
   ]
  },
  {
   "cell_type": "code",
   "execution_count": 29,
   "metadata": {
    "collapsed": false
   },
   "outputs": [],
   "source": [
    "bst_pred = bst.predict(xgb.DMatrix(data = X_test))"
   ]
  },
  {
   "cell_type": "code",
   "execution_count": 24,
   "metadata": {
    "collapsed": false
   },
   "outputs": [
    {
     "name": "stdout",
     "output_type": "stream",
     "text": [
      "(25289, 12)\n",
      "(25289, 1)\n"
     ]
    }
   ],
   "source": [
    "print X_train.shape\n",
    "print y_train.shape"
   ]
  },
  {
   "cell_type": "code",
   "execution_count": 30,
   "metadata": {
    "collapsed": false
   },
   "outputs": [],
   "source": [
    "bst_pred = pd.DataFrame(bst_pred)\n",
    "bst_pred.to_csv('models/bst_pred.csv', index=False, header = 0)"
   ]
  },
  {
   "cell_type": "code",
   "execution_count": null,
   "metadata": {
    "collapsed": true
   },
   "outputs": [],
   "source": []
  },
  {
   "cell_type": "code",
   "execution_count": 133,
   "metadata": {
    "collapsed": false
   },
   "outputs": [
    {
     "name": "stdout",
     "output_type": "stream",
     "text": [
      "-0.392795688803\n"
     ]
    },
    {
     "name": "stderr",
     "output_type": "stream",
     "text": [
      "[Parallel(n_jobs=1)]: Done   5 out of   5 | elapsed:    5.6s finished\n"
     ]
    }
   ],
   "source": [
    "import sklearn\n",
    "from sklearn.model_selection import cross_val_score, KFold\n",
    "from sklearn.ensemble import ExtraTreesClassifier, RandomForestClassifier\n",
    "forest_regressor = sklearn.ensemble.RandomForestClassifier(n_estimators=295,\n",
    "                                       #criterion='mlog_loss',\n",
    "                                       max_depth=8,\n",
    "                                       min_samples_split=5,\n",
    "                                       min_samples_leaf=10,\n",
    "                                       #min_weight_fraction_leaf=0.0,\n",
    "                                       max_features='auto',\n",
    "                                       max_leaf_nodes=None,\n",
    "                                       bootstrap=True,\n",
    "                                       #oob_score=False,\n",
    "                                       n_jobs=-1,\n",
    "                                       random_state=13)\n",
    "\n",
    "et = ExtraTreesClassifier(n_estimators=200, n_jobs=-1, bootstrap=True,\n",
    "                          #max_features=0.3, \n",
    "                          max_depth=7, \n",
    "                          criterion='gini',\n",
    "                         )\n",
    "print cross_val_score(et, X_train, y_train.y, scoring='neg_log_loss', cv=5, verbose=1).mean()"
   ]
  },
  {
   "cell_type": "code",
   "execution_count": 86,
   "metadata": {
    "collapsed": false
   },
   "outputs": [
    {
     "data": {
      "text/plain": [
       "RandomForestClassifier(bootstrap=True, class_weight=None, criterion='gini',\n",
       "            max_depth=8, max_features='auto', max_leaf_nodes=None,\n",
       "            min_impurity_split=1e-07, min_samples_leaf=10,\n",
       "            min_samples_split=5, min_weight_fraction_leaf=0.0,\n",
       "            n_estimators=495, n_jobs=-1, oob_score=False, random_state=13,\n",
       "            verbose=0, warm_start=False)"
      ]
     },
     "execution_count": 86,
     "metadata": {},
     "output_type": "execute_result"
    }
   ],
   "source": [
    "forest_regressor.fit(X_train, y_train)"
   ]
  },
  {
   "cell_type": "code",
   "execution_count": 87,
   "metadata": {
    "collapsed": false
   },
   "outputs": [],
   "source": [
    "pre = pd.DataFrame(pd.DataFrame(forest_regressor.predict_proba(X_test)).ix[:,1])"
   ]
  },
  {
   "cell_type": "code",
   "execution_count": 88,
   "metadata": {
    "collapsed": true
   },
   "outputs": [],
   "source": [
    "pre.to_csv('models/forest_pred.csv', index=False, header = 0)"
   ]
  },
  {
   "cell_type": "code",
   "execution_count": 89,
   "metadata": {
    "collapsed": false
   },
   "outputs": [
    {
     "data": {
      "text/plain": [
       "(25289, 1)"
      ]
     },
     "execution_count": 89,
     "metadata": {},
     "output_type": "execute_result"
    }
   ],
   "source": [
    "bst_pred.shape"
   ]
  },
  {
   "cell_type": "code",
   "execution_count": 90,
   "metadata": {
    "collapsed": false
   },
   "outputs": [
    {
     "name": "stdout",
     "output_type": "stream",
     "text": [
      "0.8737\n",
      "1.0000\n"
     ]
    },
    {
     "data": {
      "image/png": "[encoded data removed]",
      "text/plain": [
       "<matplotlib.figure.Figure at 0x7fa3e5101310>"
      ]
     },
     "metadata": {},
     "output_type": "display_data"
    }
   ],
   "source": [
    "bst_pred = pd.read_csv('models/bst_pred.csv', header = None)\n",
    "forest_pred = pd.read_csv('models/forest_pred.csv', header = None)\n",
    "\n",
    "from sklearn.metrics import log_loss\n",
    "\n",
    "weights = np.linspace(0, 1, 100)\n",
    "scores = np.zeros_like(weights)\n",
    "for index, alpha in enumerate(weights):\n",
    "    preds = alpha * bst_pred.values + (1-alpha) * forest_pred.values\n",
    "    scores[index] = log_loss(y_train, preds)\n",
    "plt.plot(weights, scores)\n",
    "print \"{0:.4f}\".format(np.min(scores))\n",
    "print \"{0:.4f}\".format(weights[np.argmin(scores)])"
   ]
  },
  {
   "cell_type": "code",
   "execution_count": 91,
   "metadata": {
    "collapsed": false
   },
   "outputs": [
    {
     "name": "stdout",
     "output_type": "stream",
     "text": [
      "0.873714399855\n",
      "0.893898730995\n"
     ]
    }
   ],
   "source": [
    "print log_loss(y_train, bst_pred)\n",
    "print log_loss(y_train, forest_pred)\n"
   ]
  },
  {
   "cell_type": "code",
   "execution_count": 134,
   "metadata": {
    "collapsed": true
   },
   "outputs": [],
   "source": [
    "from sklearn.preprocessing import StandardScaler\n",
    "scaler = StandardScaler()\n",
    "scaler.fit(X_train, y_train)\n",
    "X_train = scaler.transform(X_train)\n",
    "X_train = pd.DataFrame(X_train)\n",
    "X_test = scaler.transform(X_test)\n",
    "X_test = pd.DataFrame(X_test)"
   ]
  },
  {
   "cell_type": "code",
   "execution_count": 143,
   "metadata": {
    "collapsed": false
   },
   "outputs": [
    {
     "name": "stderr",
     "output_type": "stream",
     "text": [
      "/home/ubuntu/anaconda2/lib/python2.7/site-packages/ipykernel/__main__.py:3: DataConversionWarning: A column-vector y was passed when a 1d array was expected. Please change the shape of y to (n_samples, ), for example using ravel().\n",
      "  app.launch_new_instance()\n"
     ]
    },
    {
     "name": "stdout",
     "output_type": "stream",
     "text": [
      "CPU times: user 2.53 s, sys: 0 ns, total: 2.53 s\n",
      "Wall time: 2.53 s\n"
     ]
    }
   ],
   "source": [
    "%%time\n",
    "from sklearn.neighbors import KNeighborsClassifier\n",
    "neigh = KNeighborsClassifier(n_neighbors=5)\n",
    "neigh.fit(X_train, y_train) \n",
    "knn_pred = neigh.predict_proba(X_test)\n",
    "knn_pred = neigh.predict_proba(X_train)"
   ]
  },
  {
   "cell_type": "code",
   "execution_count": 144,
   "metadata": {
    "collapsed": false
   },
   "outputs": [
    {
     "name": "stdout",
     "output_type": "stream",
     "text": [
      "4.01124545343\n"
     ]
    }
   ],
   "source": [
    "print log_loss(y_train, knn_pred)"
   ]
  },
  {
   "cell_type": "code",
   "execution_count": 13,
   "metadata": {
    "collapsed": false
   },
   "outputs": [],
   "source": [
    "knn_pred = pd.DataFrame(pd.DataFrame(knn_pred).ix[:, 1])"
   ]
  },
  {
   "cell_type": "code",
   "execution_count": 14,
   "metadata": {
    "collapsed": false
   },
   "outputs": [],
   "source": [
    "knn_pred.to_csv('models/knn_5.csv', index=False, header = 0)"
   ]
  },
  {
   "cell_type": "code",
   "execution_count": null,
   "metadata": {
    "collapsed": true
   },
   "outputs": [],
   "source": []
  }
 ],
 "metadata": {
  "kernelspec": {
   "display_name": "Python 2",
   "language": "python",
   "name": "python2"
  },
  "language_info": {
   "codemirror_mode": {
    "name": "ipython",
    "version": 2
   },
   "file_extension": ".py",
   "mimetype": "text/x-python",
   "name": "python",
   "nbconvert_exporter": "python",
   "pygments_lexer": "ipython2",
   "version": "2.7.12"
  }
 },
 "nbformat": 4,
 "nbformat_minor": 0
}
