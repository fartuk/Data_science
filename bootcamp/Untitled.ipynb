{
 "cells": [
  {
   "cell_type": "code",
   "execution_count": 1,
   "metadata": {
    "collapsed": false
   },
   "outputs": [
    {
     "name": "stderr",
     "output_type": "stream",
     "text": [
      "/home/ubuntu/anaconda2/lib/python2.7/site-packages/sklearn/cross_validation.py:44: DeprecationWarning: This module was deprecated in version 0.18 in favor of the model_selection module into which all the refactored classes and functions are moved. Also note that the interface of the new CV iterators are different from that of this module. This module will be removed in 0.20.\n",
      "  \"This module will be removed in 0.20.\", DeprecationWarning)\n"
     ]
    },
    {
     "name": "stdout",
     "output_type": "stream",
     "text": [
      "Populating the interactive namespace from numpy and matplotlib\n"
     ]
    },
    {
     "name": "stderr",
     "output_type": "stream",
     "text": [
      "WARNING: pylab import has clobbered these variables: ['random']\n",
      "`%matplotlib` prevents importing * from pylab and numpy\n"
     ]
    }
   ],
   "source": [
    "import pandas as pd\n",
    "import numpy as np\n",
    "from sklearn import cross_validation, metrics \n",
    "import matplotlib.pyplot as plt\n",
    "import seaborn as sns\n",
    "import seaborn.matrix as smatrix\n",
    "import random\n",
    "import xgboost as xgb\n",
    "from sklearn.cross_validation import KFold\n",
    "from sklearn.model_selection import cross_val_predict\n",
    "from sklearn.metrics import log_loss\n",
    "from sklearn.model_selection import cross_val_score, KFold\n",
    "%pylab inline"
   ]
  },
  {
   "cell_type": "code",
   "execution_count": 134,
   "metadata": {
    "collapsed": false
   },
   "outputs": [],
   "source": [
    "X_train = pd.read_csv('x_train.csv', header = 0, sep = ';')\n",
    "X_test = pd.read_csv('x_test.csv', header = 0, sep = ';')\n",
    "\n",
    "y_train = pd.read_csv('y_train.csv', header = None)\n",
    "y_train.columns = ['y']"
   ]
  },
  {
   "cell_type": "code",
   "execution_count": 27,
   "metadata": {
    "collapsed": false
   },
   "outputs": [],
   "source": [
    "X_train = pd.concat([X_train, y_train], axis = 1)"
   ]
  },
  {
   "cell_type": "markdown",
   "metadata": {},
   "source": [
    "## фичинженеринг"
   ]
  },
  {
   "cell_type": "code",
   "execution_count": 97,
   "metadata": {
    "collapsed": false
   },
   "outputs": [],
   "source": [
    "X_train['f1'] = X_train.totalNumOfAttempts - X_train.attemptsOnTheHighestLevel\n",
    "X_train['f2'] = X_train.numberOfBoostersUsed - X_train.fractionOfUsefullBoosters\n",
    "#X_train['f3'] = X_train.numberOfAttemptedLevels - X_train.maxPlayerLevel \n",
    "X_train['f4'] = X_train.averageNumOfTurnsPerCompletedLevel * X_train.maxPlayerLevel\n",
    "#X_train['f5'] = X_train.totalBonusScore / X_train.totalScore\n",
    "#X_train['f6'] = X_train.attemptsOnTheHighestLevel / X_train.totalNumOfAttempts\n",
    "#X_train['f7'] = X_train.fractionOfUsefullBoosters / X_train.numberOfBoostersUsed\n",
    "#X_train['f8'] = X_train.maxPlayerLevel / X_train.numberOfDaysActuallyPlayed\n",
    "#X_train['f9'] = X_train.numberOfAttemptedLevels / X_train.maxPlayerLevel\n",
    "X_train['totalScore'] = np.log(X_train['totalScore'] + 0.000001)\n",
    "X_train['attemptsOnTheHighestLevel'] = np.log(X_train['attemptsOnTheHighestLevel'] + 0.000001)\n",
    "X_train['totalNumOfAttempts'] = np.log(X_train['totalNumOfAttempts'] + 0.000001)\n",
    "X_train['kvant'] = X_train['totalBonusScore'] > 2300\n",
    "X_train['kv_1'] = X_train['totalScore'] > 550000\n",
    "\n",
    "\n",
    "X_test['f1'] = X_test.totalNumOfAttempts - X_test.attemptsOnTheHighestLevel\n",
    "X_test['f2'] = X_test.numberOfBoostersUsed - X_test.fractionOfUsefullBoosters\n",
    "#X_test['f3'] = X_test.numberOfAttemptedLevels - X_test.maxPlayerLevel \n",
    "X_test['f4'] = X_test.averageNumOfTurnsPerCompletedLevel * X_test.maxPlayerLevel\n",
    "#X_test['f5'] = X_test.totalBonusScore / X_test.totalScore \n",
    "#X_test['f6'] = X_test.attemptsOnTheHighestLevel / X_test.totalNumOfAttempts\n",
    "#X_test['f7'] = X_test.fractionOfUsefullBoosters / X_test.numberOfBoostersUsed\n",
    "#X_test['f8'] = X_test.maxPlayerLevel / X_test.numberOfDaysActuallyPlayed\n",
    "#X_test['f9'] = X_test.numberOfAttemptedLevels / X_test.maxPlayerLevel\n",
    "X_test['totalScore'] = np.log(X_test['totalScore'] + 0.000001)\n",
    "X_test['attemptsOnTheHighestLevel'] = np.log(X_test['attemptsOnTheHighestLevel'] + 0.000001)\n",
    "X_test['totalNumOfAttempts'] = np.log(X_test['totalNumOfAttempts'] + 0.000001)\n",
    "X_test['kvant'] = X_test['totalBonusScore'] > 2300\n",
    "X_test['kv_1'] = X_test['totalScore'] > 550000"
   ]
  },
  {
   "cell_type": "code",
   "execution_count": 32,
   "metadata": {
    "collapsed": false
   },
   "outputs": [
    {
     "data": {
      "text/plain": [
       "maxPlayerLevel                        0\n",
       "numberOfAttemptedLevels               0\n",
       "attemptsOnTheHighestLevel             0\n",
       "totalNumOfAttempts                    0\n",
       "averageNumOfTurnsPerCompletedLevel    0\n",
       "doReturnOnLowerLevels                 0\n",
       "numberOfBoostersUsed                  0\n",
       "fractionOfUsefullBoosters             0\n",
       "totalScore                            0\n",
       "totalBonusScore                       0\n",
       "totalStarsCount                       0\n",
       "numberOfDaysActuallyPlayed            0\n",
       "f1                                    0\n",
       "f2                                    0\n",
       "f4                                    0\n",
       "dtype: int64"
      ]
     },
     "execution_count": 32,
     "metadata": {},
     "output_type": "execute_result"
    }
   ],
   "source": [
    "X_train.isnull().sum()"
   ]
  },
  {
   "cell_type": "code",
   "execution_count": 38,
   "metadata": {
    "collapsed": false
   },
   "outputs": [
    {
     "data": {
      "text/plain": [
       "-13.815510557964274"
      ]
     },
     "execution_count": 38,
     "metadata": {},
     "output_type": "execute_result"
    }
   ],
   "source": [
    "X_train['averageNumOfTurnsPerCompletedLevel'].min()"
   ]
  },
  {
   "cell_type": "code",
   "execution_count": 3,
   "metadata": {
    "collapsed": true
   },
   "outputs": [],
   "source": [
    "from sklearn import cross_validation\n",
    "XX_train, H_data, yy_train, h_test = cross_validation.train_test_split(X_train, y_train, \n",
    "                                                                                     test_size = 0.2)"
   ]
  },
  {
   "cell_type": "code",
   "execution_count": 19,
   "metadata": {
    "collapsed": false
   },
   "outputs": [],
   "source": [
    "X_train.replace([np.inf, -np.inf], np.nan, inplace=True)\n",
    "X_test.replace([np.inf, -np.inf], np.nan, inplace=True)\n",
    "\n",
    "d_mean= X_train.median(axis=0)\n",
    "col = ['f5', 'f7']\n",
    "for c in col:\n",
    "    X_train[c + '_nan_'] = pd.isnull(X_train[c])\n",
    "    d_mean[c + '_nan_'] = 0\n",
    "X_train = X_train.fillna(d_mean)\n",
    "\n",
    "\n",
    "col = ['f5', 'f7']\n",
    "for c in col:\n",
    "    X_test[c + '_nan_'] = pd.isnull(X_test[c])\n",
    "    d_mean[c + '_nan_'] = 0\n",
    "X_test = X_test.fillna(d_mean)"
   ]
  },
  {
   "cell_type": "code",
   "execution_count": 30,
   "metadata": {
    "collapsed": false
   },
   "outputs": [
    {
     "data": {
      "text/html": [
       "<div>\n",
       "<table border=\"1\" class=\"dataframe\">\n",
       "  <thead>\n",
       "    <tr style=\"text-align: right;\">\n",
       "      <th></th>\n",
       "      <th>maxPlayerLevel</th>\n",
       "      <th>numberOfAttemptedLevels</th>\n",
       "      <th>attemptsOnTheHighestLevel</th>\n",
       "      <th>totalNumOfAttempts</th>\n",
       "      <th>averageNumOfTurnsPerCompletedLevel</th>\n",
       "      <th>doReturnOnLowerLevels</th>\n",
       "      <th>numberOfBoostersUsed</th>\n",
       "      <th>fractionOfUsefullBoosters</th>\n",
       "      <th>totalScore</th>\n",
       "      <th>totalBonusScore</th>\n",
       "      <th>totalStarsCount</th>\n",
       "      <th>numberOfDaysActuallyPlayed</th>\n",
       "      <th>f1</th>\n",
       "      <th>f2</th>\n",
       "      <th>f4</th>\n",
       "    </tr>\n",
       "  </thead>\n",
       "  <tbody>\n",
       "    <tr>\n",
       "      <th>0</th>\n",
       "      <td>39</td>\n",
       "      <td>10</td>\n",
       "      <td>3</td>\n",
       "      <td>17</td>\n",
       "      <td>3.196403</td>\n",
       "      <td>1</td>\n",
       "      <td>5</td>\n",
       "      <td>0.400000</td>\n",
       "      <td>2650000</td>\n",
       "      <td>1375</td>\n",
       "      <td>21</td>\n",
       "      <td>2</td>\n",
       "      <td>14</td>\n",
       "      <td>4.600000</td>\n",
       "      <td>953.333333</td>\n",
       "    </tr>\n",
       "    <tr>\n",
       "      <th>1</th>\n",
       "      <td>21</td>\n",
       "      <td>22</td>\n",
       "      <td>19</td>\n",
       "      <td>55</td>\n",
       "      <td>2.835884</td>\n",
       "      <td>1</td>\n",
       "      <td>6</td>\n",
       "      <td>0.333333</td>\n",
       "      <td>5614000</td>\n",
       "      <td>3825</td>\n",
       "      <td>51</td>\n",
       "      <td>4</td>\n",
       "      <td>36</td>\n",
       "      <td>5.666667</td>\n",
       "      <td>357.954545</td>\n",
       "    </tr>\n",
       "    <tr>\n",
       "      <th>2</th>\n",
       "      <td>5</td>\n",
       "      <td>6</td>\n",
       "      <td>1</td>\n",
       "      <td>6</td>\n",
       "      <td>2.128232</td>\n",
       "      <td>0</td>\n",
       "      <td>1</td>\n",
       "      <td>1.000000</td>\n",
       "      <td>857000</td>\n",
       "      <td>1150</td>\n",
       "      <td>14</td>\n",
       "      <td>1</td>\n",
       "      <td>5</td>\n",
       "      <td>0.000000</td>\n",
       "      <td>42.000000</td>\n",
       "    </tr>\n",
       "    <tr>\n",
       "      <th>3</th>\n",
       "      <td>21</td>\n",
       "      <td>2</td>\n",
       "      <td>5</td>\n",
       "      <td>6</td>\n",
       "      <td>2.944439</td>\n",
       "      <td>0</td>\n",
       "      <td>1</td>\n",
       "      <td>0.000000</td>\n",
       "      <td>120000</td>\n",
       "      <td>0</td>\n",
       "      <td>1</td>\n",
       "      <td>1</td>\n",
       "      <td>1</td>\n",
       "      <td>1.000000</td>\n",
       "      <td>399.000000</td>\n",
       "    </tr>\n",
       "    <tr>\n",
       "      <th>4</th>\n",
       "      <td>4</td>\n",
       "      <td>5</td>\n",
       "      <td>1</td>\n",
       "      <td>5</td>\n",
       "      <td>2.261763</td>\n",
       "      <td>0</td>\n",
       "      <td>1</td>\n",
       "      <td>1.000000</td>\n",
       "      <td>857000</td>\n",
       "      <td>1075</td>\n",
       "      <td>12</td>\n",
       "      <td>1</td>\n",
       "      <td>4</td>\n",
       "      <td>0.000000</td>\n",
       "      <td>38.400000</td>\n",
       "    </tr>\n",
       "    <tr>\n",
       "      <th>5</th>\n",
       "      <td>0</td>\n",
       "      <td>1</td>\n",
       "      <td>1</td>\n",
       "      <td>1</td>\n",
       "      <td>1.098612</td>\n",
       "      <td>0</td>\n",
       "      <td>0</td>\n",
       "      <td>0.000000</td>\n",
       "      <td>113000</td>\n",
       "      <td>250</td>\n",
       "      <td>0</td>\n",
       "      <td>1</td>\n",
       "      <td>0</td>\n",
       "      <td>0.000000</td>\n",
       "      <td>0.000000</td>\n",
       "    </tr>\n",
       "    <tr>\n",
       "      <th>6</th>\n",
       "      <td>13</td>\n",
       "      <td>14</td>\n",
       "      <td>2</td>\n",
       "      <td>19</td>\n",
       "      <td>2.740840</td>\n",
       "      <td>0</td>\n",
       "      <td>5</td>\n",
       "      <td>0.800000</td>\n",
       "      <td>3831000</td>\n",
       "      <td>2875</td>\n",
       "      <td>34</td>\n",
       "      <td>2</td>\n",
       "      <td>17</td>\n",
       "      <td>4.200000</td>\n",
       "      <td>201.500000</td>\n",
       "    </tr>\n",
       "    <tr>\n",
       "      <th>7</th>\n",
       "      <td>13</td>\n",
       "      <td>14</td>\n",
       "      <td>5</td>\n",
       "      <td>26</td>\n",
       "      <td>2.692546</td>\n",
       "      <td>0</td>\n",
       "      <td>4</td>\n",
       "      <td>0.500000</td>\n",
       "      <td>3458000</td>\n",
       "      <td>2375</td>\n",
       "      <td>31</td>\n",
       "      <td>2</td>\n",
       "      <td>21</td>\n",
       "      <td>3.500000</td>\n",
       "      <td>192.000000</td>\n",
       "    </tr>\n",
       "    <tr>\n",
       "      <th>8</th>\n",
       "      <td>2</td>\n",
       "      <td>3</td>\n",
       "      <td>1</td>\n",
       "      <td>3</td>\n",
       "      <td>2.036882</td>\n",
       "      <td>0</td>\n",
       "      <td>0</td>\n",
       "      <td>0.000000</td>\n",
       "      <td>420000</td>\n",
       "      <td>750</td>\n",
       "      <td>6</td>\n",
       "      <td>1</td>\n",
       "      <td>2</td>\n",
       "      <td>0.000000</td>\n",
       "      <td>15.333333</td>\n",
       "    </tr>\n",
       "    <tr>\n",
       "      <th>9</th>\n",
       "      <td>1</td>\n",
       "      <td>2</td>\n",
       "      <td>3</td>\n",
       "      <td>5</td>\n",
       "      <td>1.098612</td>\n",
       "      <td>1</td>\n",
       "      <td>0</td>\n",
       "      <td>0.000000</td>\n",
       "      <td>113000</td>\n",
       "      <td>250</td>\n",
       "      <td>3</td>\n",
       "      <td>1</td>\n",
       "      <td>2</td>\n",
       "      <td>0.000000</td>\n",
       "      <td>3.000000</td>\n",
       "    </tr>\n",
       "  </tbody>\n",
       "</table>\n",
       "</div>"
      ],
      "text/plain": [
       "   maxPlayerLevel  numberOfAttemptedLevels  attemptsOnTheHighestLevel  \\\n",
       "0              39                       10                          3   \n",
       "1              21                       22                         19   \n",
       "2               5                        6                          1   \n",
       "3              21                        2                          5   \n",
       "4               4                        5                          1   \n",
       "5               0                        1                          1   \n",
       "6              13                       14                          2   \n",
       "7              13                       14                          5   \n",
       "8               2                        3                          1   \n",
       "9               1                        2                          3   \n",
       "\n",
       "   totalNumOfAttempts  averageNumOfTurnsPerCompletedLevel  \\\n",
       "0                  17                            3.196403   \n",
       "1                  55                            2.835884   \n",
       "2                   6                            2.128232   \n",
       "3                   6                            2.944439   \n",
       "4                   5                            2.261763   \n",
       "5                   1                            1.098612   \n",
       "6                  19                            2.740840   \n",
       "7                  26                            2.692546   \n",
       "8                   3                            2.036882   \n",
       "9                   5                            1.098612   \n",
       "\n",
       "   doReturnOnLowerLevels  numberOfBoostersUsed  fractionOfUsefullBoosters  \\\n",
       "0                      1                     5                   0.400000   \n",
       "1                      1                     6                   0.333333   \n",
       "2                      0                     1                   1.000000   \n",
       "3                      0                     1                   0.000000   \n",
       "4                      0                     1                   1.000000   \n",
       "5                      0                     0                   0.000000   \n",
       "6                      0                     5                   0.800000   \n",
       "7                      0                     4                   0.500000   \n",
       "8                      0                     0                   0.000000   \n",
       "9                      1                     0                   0.000000   \n",
       "\n",
       "   totalScore  totalBonusScore  totalStarsCount  numberOfDaysActuallyPlayed  \\\n",
       "0     2650000             1375               21                           2   \n",
       "1     5614000             3825               51                           4   \n",
       "2      857000             1150               14                           1   \n",
       "3      120000                0                1                           1   \n",
       "4      857000             1075               12                           1   \n",
       "5      113000              250                0                           1   \n",
       "6     3831000             2875               34                           2   \n",
       "7     3458000             2375               31                           2   \n",
       "8      420000              750                6                           1   \n",
       "9      113000              250                3                           1   \n",
       "\n",
       "   f1        f2          f4  \n",
       "0  14  4.600000  953.333333  \n",
       "1  36  5.666667  357.954545  \n",
       "2   5  0.000000   42.000000  \n",
       "3   1  1.000000  399.000000  \n",
       "4   4  0.000000   38.400000  \n",
       "5   0  0.000000    0.000000  \n",
       "6  17  4.200000  201.500000  \n",
       "7  21  3.500000  192.000000  \n",
       "8   2  0.000000   15.333333  \n",
       "9   2  0.000000    3.000000  "
      ]
     },
     "execution_count": 30,
     "metadata": {},
     "output_type": "execute_result"
    }
   ],
   "source": [
    "X_train[:10]"
   ]
  },
  {
   "cell_type": "code",
   "execution_count": 92,
   "metadata": {
    "collapsed": false
   },
   "outputs": [],
   "source": [
    "from sklearn.datasets import load_iris, load_boston\n",
    "import xgboost as xgb\n",
    "import xgbfir\n",
    "\n",
    "\n",
    "# doing all the XGBoost magic\n",
    "xgb_model = xgb.XGBClassifier().fit(X_train, y_train)\n",
    "param = {'min_child_weight': 90,\n",
    "        'eta': 0.03,\n",
    "        #'colsample_bytree': 1.0,\n",
    "        'max_depth': 5,\n",
    "        #'subsample': 1.0,\n",
    "        #'alpha': 1,\n",
    "        #'gamma': 1,\n",
    "        #'silent': 1,\n",
    "        'eval_metric' : 'logloss',\n",
    "        'objective': 'reg:linear',\n",
    "        'verbose_eval': True}\n",
    "num_round = 195\n",
    "\n",
    "xgtrain = xgb.DMatrix(X_train, y_train)\n",
    "bst = xgb.train(param, xgtrain, num_round)\n",
    "\n",
    "# saving to file with proper feature names\n",
    "xgbfir.saveXgbFI(bst, feature_names=X_train.columns, MaxInteractionDepth= 10, OutputXlsxFile = 'irisFI.xlsx')"
   ]
  },
  {
   "cell_type": "code",
   "execution_count": null,
   "metadata": {
    "collapsed": true
   },
   "outputs": [],
   "source": []
  },
  {
   "cell_type": "code",
   "execution_count": null,
   "metadata": {
    "collapsed": true
   },
   "outputs": [],
   "source": []
  },
  {
   "cell_type": "code",
   "execution_count": null,
   "metadata": {
    "collapsed": true
   },
   "outputs": [],
   "source": []
  },
  {
   "cell_type": "code",
   "execution_count": 53,
   "metadata": {
    "collapsed": false
   },
   "outputs": [
    {
     "name": "stdout",
     "output_type": "stream",
     "text": [
      "(18001, 1)\n",
      "(7288, 1)\n"
     ]
    }
   ],
   "source": [
    "print y_train[y_train.y == 0].shape\n",
    "print y_train[y_train.y == 1].shape"
   ]
  },
  {
   "cell_type": "code",
   "execution_count": 37,
   "metadata": {
    "collapsed": false
   },
   "outputs": [
    {
     "data": {
      "text/plain": [
       "<matplotlib.axes._subplots.AxesSubplot at 0x7f32c555cd10>"
      ]
     },
     "execution_count": 37,
     "metadata": {},
     "output_type": "execute_result"
    },
    {
     "data": {
      "image/png": "[encoded data removed]",
      "text/plain": [
       "<matplotlib.figure.Figure at 0x7f32c9bf8710>"
      ]
     },
     "metadata": {},
     "output_type": "display_data"
    }
   ],
   "source": [
    "import seaborn as sns\n",
    "CorrKoef = X_train.corr()\n",
    "#pylab.figure(figsize=(50, 25))\n",
    "sns.heatmap(CorrKoef, annot=False)"
   ]
  },
  {
   "cell_type": "code",
   "execution_count": 56,
   "metadata": {
    "collapsed": false
   },
   "outputs": [
    {
     "data": {
      "image/png": "[encoded data removed]",
      "text/plain": [
       "<matplotlib.figure.Figure at 0x7f734957e610>"
      ]
     },
     "metadata": {},
     "output_type": "display_data"
    },
    {
     "data": {
      "image/png": "[encoded data removed]",
      "text/plain": [
       "<matplotlib.figure.Figure at 0x7f734bdfe290>"
      ]
     },
     "metadata": {},
     "output_type": "display_data"
    },
    {
     "data": {
      "image/png": "[encoded data removed]",
      "text/plain": [
       "<matplotlib.figure.Figure at 0x7f734a013610>"
      ]
     },
     "metadata": {},
     "output_type": "display_data"
    },
    {
     "data": {
      "image/png": "[encoded data removed]",
      "text/plain": [
       "<matplotlib.figure.Figure at 0x7f734b8e76d0>"
      ]
     },
     "metadata": {},
     "output_type": "display_data"
    },
    {
     "data": {
      "image/png": "[encoded data removed]",
      "text/plain": [
       "<matplotlib.figure.Figure at 0x7f73630b6190>"
      ]
     },
     "metadata": {},
     "output_type": "display_data"
    },
    {
     "data": {
      "image/png": "[encoded data removed]",
      "text/plain": [
       "<matplotlib.figure.Figure at 0x7f734b823710>"
      ]
     },
     "metadata": {},
     "output_type": "display_data"
    },
    {
     "data": {
      "image/png": "[encoded data removed]",
      "text/plain": [
       "<matplotlib.figure.Figure at 0x7f73603bda50>"
      ]
     },
     "metadata": {},
     "output_type": "display_data"
    },
    {
     "data": {
      "image/png": "[encoded data removed]",
      "text/plain": [
       "<matplotlib.figure.Figure at 0x7f734a36eb50>"
      ]
     },
     "metadata": {},
     "output_type": "display_data"
    },
    {
     "data": {
      "image/png": "[encoded data removed]",
      "text/plain": [
       "<matplotlib.figure.Figure at 0x7f7348fea5d0>"
      ]
     },
     "metadata": {},
     "output_type": "display_data"
    },
    {
     "data": {
      "image/png": "[encoded data removed]",
      "text/plain": [
       "<matplotlib.figure.Figure at 0x7f734a3f0f90>"
      ]
     },
     "metadata": {},
     "output_type": "display_data"
    },
    {
     "data": {
      "image/png": "[encoded data removed]",
      "text/plain": [
       "<matplotlib.figure.Figure at 0x7f734957e890>"
      ]
     },
     "metadata": {},
     "output_type": "display_data"
    },
    {
     "data": {
      "image/png": "[encoded data removed]",
      "text/plain": [
       "<matplotlib.figure.Figure at 0x7f7349104a90>"
      ]
     },
     "metadata": {},
     "output_type": "display_data"
    }
   ],
   "source": [
    "for i in X_train.columns:\n",
    "    plt.title(i)\n",
    "    #pylab.figure(figsize=(8, 6))\n",
    "    plt.hist(X_train[i], bins=100)\n",
    "    plt.show()"
   ]
  },
  {
   "cell_type": "markdown",
   "metadata": {},
   "source": [
    "# Модели первого уровня"
   ]
  },
  {
   "cell_type": "markdown",
   "metadata": {},
   "source": [
    "## Тюнинг"
   ]
  },
  {
   "cell_type": "code",
   "execution_count": 137,
   "metadata": {
    "collapsed": false
   },
   "outputs": [
    {
     "name": "stdout",
     "output_type": "stream",
     "text": [
      "[0]\ttrain-logloss:0.682436\ttest-logloss:0.682905\n",
      "[50]\ttrain-logloss:0.426582\ttest-logloss:0.447454\n",
      "[100]\ttrain-logloss:0.357438\ttest-logloss:0.39867\n",
      "[150]\ttrain-logloss:0.332969\ttest-logloss:0.389081\n",
      "[200]\ttrain-logloss:0.32224\ttest-logloss:0.387538\n",
      "[250]\ttrain-logloss:0.315005\ttest-logloss:0.388208\n",
      "0.3875052\n",
      "196\n",
      "CPU times: user 45.2 s, sys: 352 ms, total: 45.6 s\n",
      "Wall time: 14.5 s\n"
     ]
    }
   ],
   "source": [
    "%%time\n",
    "param = {'min_child_weight': 10,\n",
    "        'eta': 0.02,\n",
    "        #'colsample_bytree': 0.9,\n",
    "        'max_depth': 7,\n",
    "        #'subsample': 0.3,\n",
    "        #'alpha': 1,\n",
    "        #'gamma': 1,\n",
    "        #'silent': 1,\n",
    "        'eval_metric' : 'logloss',\n",
    "        'objective': 'reg:linear',\n",
    "        'verbose_eval': True}\n",
    "num_round = 300\n",
    "\n",
    "xgtrain = xgb.DMatrix(XX_train, yy_train)\n",
    "\n",
    "t = xgb.cv(param, xgtrain, num_boost_round=num_round, nfold=5, show_stdv=0, seed=0, verbose_eval=50)\n",
    "print t['test-logloss-mean'].min()\n",
    "print t['test-logloss-mean'].argmin() + 1"
   ]
  },
  {
   "cell_type": "code",
   "execution_count": null,
   "metadata": {
    "collapsed": true
   },
   "outputs": [],
   "source": [
    "0.381135"
   ]
  },
  {
   "cell_type": "code",
   "execution_count": 133,
   "metadata": {
    "collapsed": false
   },
   "outputs": [
    {
     "name": "stdout",
     "output_type": "stream",
     "text": [
      "-0.381382837481\n"
     ]
    },
    {
     "name": "stderr",
     "output_type": "stream",
     "text": [
      "[Parallel(n_jobs=1)]: Done   5 out of   5 | elapsed:   11.7s finished\n"
     ]
    }
   ],
   "source": [
    "clf = xgb.XGBClassifier(max_depth=8,\n",
    "                        learning_rate=0.02,\n",
    "                        n_estimators=245,\n",
    "                        silent=True,\n",
    "                        objective='binary:logistic',\n",
    "                        nthread=-1,\n",
    "                        #gamma=0,\n",
    "                        min_child_weight=100,\n",
    "                        #max_delta_step=0,\n",
    "                        subsample=0.83,\n",
    "                        #colsample_bytree=1,\n",
    "                        #colsample_bylevel=1,\n",
    "                        #reg_alpha=0,\n",
    "                        #reg_lambda=1,\n",
    "                        #scale_pos_weight=1,\n",
    "                        #base_score=0.5,\n",
    "                        seed=10,\n",
    "                        missing=None)\n",
    "\n",
    "print cross_val_score(clf, X_train, y_train.y, scoring='neg_log_loss', cv=5, verbose=1).mean()"
   ]
  },
  {
   "cell_type": "code",
   "execution_count": null,
   "metadata": {
    "collapsed": true
   },
   "outputs": [],
   "source": [
    "-0.381692472011\n"
   ]
  },
  {
   "cell_type": "code",
   "execution_count": 19,
   "metadata": {
    "collapsed": false
   },
   "outputs": [
    {
     "data": {
      "text/plain": [
       "0.37954981211232613"
      ]
     },
     "execution_count": 19,
     "metadata": {},
     "output_type": "execute_result"
    }
   ],
   "source": [
    "clf.fit(XX_train, yy_train)\n",
    "log_loss(h_test, clf.predict_proba(H_data))"
   ]
  },
  {
   "cell_type": "code",
   "execution_count": 69,
   "metadata": {
    "collapsed": false
   },
   "outputs": [
    {
     "data": {
      "text/plain": [
       "0.382925"
      ]
     },
     "execution_count": 69,
     "metadata": {},
     "output_type": "execute_result"
    }
   ],
   "source": [
    "0.3811612\n",
    "0.381396"
   ]
  },
  {
   "cell_type": "code",
   "execution_count": 126,
   "metadata": {
    "collapsed": false
   },
   "outputs": [
    {
     "name": "stdout",
     "output_type": "stream",
     "text": [
      "-0.383386457496\n"
     ]
    },
    {
     "name": "stderr",
     "output_type": "stream",
     "text": [
      "[Parallel(n_jobs=1)]: Done   5 out of   5 | elapsed:   14.1s finished\n"
     ]
    }
   ],
   "source": [
    "import sklearn\n",
    "from sklearn.model_selection import cross_val_score, KFold\n",
    "from sklearn.ensemble import ExtraTreesClassifier, RandomForestClassifier\n",
    "forest_regressor = sklearn.ensemble.RandomForestClassifier(n_estimators=295,\n",
    "                                       #criterion='mlog_loss',\n",
    "                                       max_depth=8,\n",
    "                                       min_samples_split=10,\n",
    "                                       min_samples_leaf=7,\n",
    "                                       #min_weight_fraction_leaf=0.0,\n",
    "                                       max_features='auto',\n",
    "                                       max_leaf_nodes=None,\n",
    "                                       bootstrap=True,\n",
    "                                       #oob_score=False,\n",
    "                                       n_jobs=-1,\n",
    "                                       random_state=13)\n",
    "\n",
    "et = ExtraTreesClassifier(n_estimators=200, n_jobs=-1, bootstrap=True,\n",
    "                          #max_features=0.3, \n",
    "                          max_depth=7, \n",
    "                          criterion='gini',\n",
    "                         )\n",
    "print cross_val_score(forest_regressor, X_train, y_train.y, scoring='neg_log_loss', cv=5, verbose=1).mean()"
   ]
  },
  {
   "cell_type": "code",
   "execution_count": null,
   "metadata": {
    "collapsed": true
   },
   "outputs": [],
   "source": [
    "0.382641140519\n",
    "0.382643069297\n",
    "0.383204495745\n",
    "0.383206985197\n",
    "0.383211369176\n",
    "0.383370806269\n",
    "0.383386457496"
   ]
  },
  {
   "cell_type": "markdown",
   "metadata": {},
   "source": [
    "# Предсказания "
   ]
  },
  {
   "cell_type": "code",
   "execution_count": 105,
   "metadata": {
    "collapsed": true
   },
   "outputs": [],
   "source": [
    "from sklearn.preprocessing import StandardScaler\n",
    "scaler = StandardScaler()\n",
    "scaler.fit(X_train, y_train)\n",
    "X_train = scaler.transform(X_train)\n",
    "X_train = pd.DataFrame(X_train)\n",
    "X_test = scaler.transform(X_test)\n",
    "X_test = pd.DataFrame(X_test)\n"
   ]
  },
  {
   "cell_type": "code",
   "execution_count": 81,
   "metadata": {
    "collapsed": false
   },
   "outputs": [],
   "source": [
    "from sklearn.cross_validation import KFold\n",
    "cv = KFold(X_train.shape[0], n_folds=5, random_state=42)"
   ]
  },
  {
   "cell_type": "code",
   "execution_count": 69,
   "metadata": {
    "collapsed": false
   },
   "outputs": [],
   "source": [
    "from sklearn.linear_model import LogisticRegression\n",
    "clf = LogisticRegression(C=1e-2, penalty='l1')\n",
    "\n",
    "preds_train = cross_val_predict(clf, X_train, y_train, cv=cv, method='predict_proba')\n",
    "preds_test = clf.fit(X_train, y_train).predict_proba(X_test)\n",
    "                     \n",
    "                     \n",
    "preds_train = pd.DataFrame(preds_train)\n",
    "preds_train.to_csv('stacking1/lin_train.csv', index=False, header = 0)\n",
    "preds_test = pd.DataFrame(preds_test)\n",
    "preds_test.to_csv('stacking1/lin_test.csv', index=False, header = 0)\n"
   ]
  },
  {
   "cell_type": "code",
   "execution_count": 70,
   "metadata": {
    "collapsed": false
   },
   "outputs": [
    {
     "data": {
      "text/plain": [
       "0.39817144319022629"
      ]
     },
     "execution_count": 70,
     "metadata": {},
     "output_type": "execute_result"
    }
   ],
   "source": [
    "tr = pd.read_csv('stacking1/lin_train.csv', header = None)\n",
    "log_loss(y_train, tr)"
   ]
  },
  {
   "cell_type": "code",
   "execution_count": 107,
   "metadata": {
    "collapsed": false
   },
   "outputs": [
    {
     "name": "stderr",
     "output_type": "stream",
     "text": [
      "/home/ubuntu/anaconda2/lib/python2.7/site-packages/ipykernel/__main__.py:15: DataConversionWarning: A column-vector y was passed when a 1d array was expected. Please change the shape of y to (n_samples,), for example using ravel().\n"
     ]
    }
   ],
   "source": [
    "clf = sklearn.ensemble.RandomForestClassifier(n_estimators=295,\n",
    "                                       #criterion='mlog_loss',\n",
    "                                       max_depth=8,\n",
    "                                       min_samples_split=10,\n",
    "                                       min_samples_leaf=7,\n",
    "                                       #min_weight_fraction_leaf=0.0,\n",
    "                                       max_features='auto',\n",
    "                                       max_leaf_nodes=None,\n",
    "                                       bootstrap=True,\n",
    "                                       #oob_score=False,\n",
    "                                       n_jobs=-1,\n",
    "                                       random_state=13)\n",
    "\n",
    "preds_train = cross_val_predict(clf, X_train, y_train, cv=cv, method='predict_proba')\n",
    "preds_test = clf.fit(X_train, y_train).predict_proba(X_test)\n",
    "preds_train = pd.DataFrame(preds_train)\n",
    "preds_train = preds_train.ix[:, 1]\n",
    "preds_train.to_csv('stacking1/f1_sc_train.csv', index=False, header = 0)\n",
    "preds_test = pd.DataFrame(preds_test)\n",
    "preds_test = preds_test.ix[:, 1]\n",
    "preds_test.to_csv('stacking1/f1_sc_test.csv', index=False, header = 0)"
   ]
  },
  {
   "cell_type": "code",
   "execution_count": 116,
   "metadata": {
    "collapsed": false
   },
   "outputs": [
    {
     "data": {
      "text/plain": [
       "0.38258262575798035"
      ]
     },
     "execution_count": 116,
     "metadata": {},
     "output_type": "execute_result"
    }
   ],
   "source": [
    "tr = pd.read_csv('stacking1/f1_sc_train.csv', header = None)\n",
    "log_loss(y_train, tr)"
   ]
  },
  {
   "cell_type": "code",
   "execution_count": 120,
   "metadata": {
    "collapsed": false
   },
   "outputs": [],
   "source": [
    "clf = xgb.XGBClassifier(max_depth=5,\n",
    "                        learning_rate=0.02,\n",
    "                        n_estimators=245,\n",
    "                        silent=True,\n",
    "                        objective='binary:logistic',\n",
    "                        nthread=-1,\n",
    "                        gamma=0,\n",
    "                        min_child_weight=100,\n",
    "                        #max_delta_step=0,\n",
    "                        #subsample=0.3,\n",
    "                        #colsample_bytree=1,\n",
    "                        #colsample_bylevel=1,\n",
    "                        #reg_alpha=0,\n",
    "                        #reg_lambda=1,\n",
    "                        #scale_pos_weight=1,\n",
    "                        #base_score=0.5,\n",
    "                        seed=10,\n",
    "                        missing=None)\n",
    "\n",
    "preds_train = cross_val_predict(clf, X_train, y_train, cv=cv, method='predict_proba')\n",
    "preds_test = clf.fit(X_train, y_train).predict_proba(X_test)\n",
    "preds_train = pd.DataFrame(preds_train)\n",
    "preds_train = preds_train.ix[:, 1]\n",
    "preds_train.to_csv('stacking1/b_1_sc_train.csv', index=False, header = 0)\n",
    "preds_test = pd.DataFrame(preds_test)\n",
    "preds_test = preds_test.ix[:, 1]\n",
    "preds_test.to_csv('stacking1/b_1_sc_test.csv', index=False, header = 0)"
   ]
  },
  {
   "cell_type": "code",
   "execution_count": 122,
   "metadata": {
    "collapsed": false
   },
   "outputs": [
    {
     "data": {
      "text/plain": [
       "0.38175116480266502"
      ]
     },
     "execution_count": 122,
     "metadata": {},
     "output_type": "execute_result"
    }
   ],
   "source": [
    "tr = pd.read_csv('stacking1/b_1_sc_train.csv', header = None)\n",
    "log_loss(y_train, tr)"
   ]
  },
  {
   "cell_type": "code",
   "execution_count": null,
   "metadata": {
    "collapsed": true
   },
   "outputs": [],
   "source": []
  },
  {
   "cell_type": "code",
   "execution_count": 96,
   "metadata": {
    "collapsed": false
   },
   "outputs": [
    {
     "name": "stderr",
     "output_type": "stream",
     "text": [
      "/home/ubuntu/anaconda2/lib/python2.7/site-packages/ipykernel/__main__.py:3: DataConversionWarning: A column-vector y was passed when a 1d array was expected. Please change the shape of y to (n_samples, ), for example using ravel().\n",
      "  app.launch_new_instance()\n"
     ]
    },
    {
     "name": "stdout",
     "output_type": "stream",
     "text": [
      "CPU times: user 2.83 s, sys: 188 ms, total: 3.02 s\n",
      "Wall time: 3.02 s\n"
     ]
    }
   ],
   "source": [
    "%%time\n",
    "from sklearn.neighbors import KNeighborsClassifier\n",
    "neigh = KNeighborsClassifier(n_neighbors=200)\n",
    "neigh.fit(X_train, y_train) \n",
    "preds_train = neigh.predict_proba(X_train)\n",
    "knn_pred = neigh.predict_proba(X_train)"
   ]
  },
  {
   "cell_type": "code",
   "execution_count": 97,
   "metadata": {
    "collapsed": false
   },
   "outputs": [
    {
     "data": {
      "text/plain": [
       "0.47775367180359751"
      ]
     },
     "execution_count": 97,
     "metadata": {},
     "output_type": "execute_result"
    }
   ],
   "source": [
    "log_loss(y_train, knn_pred)"
   ]
  },
  {
   "cell_type": "markdown",
   "metadata": {
    "collapsed": true
   },
   "source": [
    "# Корелляция моделей"
   ]
  },
  {
   "cell_type": "code",
   "execution_count": 103,
   "metadata": {
    "collapsed": false
   },
   "outputs": [],
   "source": [
    "b_1 = pd.read_csv('stacking/boost_test.csv', header = None)\n",
    "b_1.columns = ['boost_test']\n",
    "\n",
    "b_2 = pd.read_csv('stacking/boost_test_1_2_3_4.csv', header = None)\n",
    "b_2.columns = ['boost_test_1_2_3_4']\n",
    "\n",
    "b_3 = pd.read_csv('stacking/boost_test_1_2_3_4_5_6_7_8_9.csv', header = None)\n",
    "b_3.columns = ['boost_test_1_2_3_4_5_6_7_8_9']\n",
    "\n",
    "\n",
    "\n",
    "f_1 = pd.read_csv('stacking/for_test.csv', header = None)\n",
    "f_1.columns = ['for_test']\n",
    "\n",
    "f_2 = pd.read_csv('stacking/for_test_1_2_3_4.csv', header = None)\n",
    "f_2.columns = ['for_test_1_2_3_4']\n",
    "\n",
    "f_3 = pd.read_csv('stacking/for_test_1_2_3_4_5_6_7_8_9.csv', header = None)\n",
    "f_3.columns = ['for_test_1_2_3_4_5_6_7_8_9']\n",
    "\n",
    "X_b = pd.concat([b_1, b_2, b_3], axis = 1)\n",
    "X_f = pd.concat([f_1, f_2, f_3], axis = 1)\n",
    "\n",
    "\n",
    "\n",
    "\n",
    "\n",
    "b_1_ = pd.read_csv('stacking/boost_train.csv', header = None)\n",
    "b_1_.columns = ['boost_train']\n",
    "\n",
    "b_2_ = pd.read_csv('stacking/boost_train_1_2_3_4.csv', header = None)\n",
    "b_2_.columns = ['boost_train_1_2_3_4']\n",
    "\n",
    "b_3_ = pd.read_csv('stacking/boost_test_1_2_3_4_5_6_7_8_9.csv', header = None)\n",
    "b_3_.columns = ['boost_train_1_2_3_4_5_6_7_8_9']\n",
    "\n",
    "\n",
    "\n",
    "f_1_ = pd.read_csv('stacking/for_train.csv', header = None)\n",
    "f_1_.columns = ['for_train']\n",
    "\n",
    "f_2_ = pd.read_csv('stacking/for_train_1_2_3_4.csv', header = None)\n",
    "f_2_.columns = ['for_train_1_2_3_4']\n",
    "\n",
    "f_3_ = pd.read_csv('stacking/for_train_1_2_3_4_5_6_7_8_9.csv', header = None)\n",
    "f_3_.columns = ['for_train_1_2_3_4_5_6_7_8_9']\n",
    "\n",
    "X_b_ = pd.concat([b_1_, b_2_, b_3_], axis = 1)\n",
    "X_f_ = pd.concat([f_1_, f_2_, f_3_], axis = 1)\n"
   ]
  },
  {
   "cell_type": "code",
   "execution_count": 104,
   "metadata": {
    "collapsed": false
   },
   "outputs": [
    {
     "data": {
      "text/plain": [
       "<matplotlib.axes._subplots.AxesSubplot at 0x7f39e1a91c50>"
      ]
     },
     "execution_count": 104,
     "metadata": {},
     "output_type": "execute_result"
    },
    {
     "data": {
      "image/png": "[encoded data removed]",
      "text/plain": [
       "<matplotlib.figure.Figure at 0x7f39e1979110>"
      ]
     },
     "metadata": {},
     "output_type": "display_data"
    }
   ],
   "source": [
    "import seaborn as sns\n",
    "CorrKoef = X_b_.corr()\n",
    "#pylab.figure(figsize=(50, 25))\n",
    "sns.heatmap(CorrKoef, annot=False)\n"
   ]
  },
  {
   "cell_type": "code",
   "execution_count": 107,
   "metadata": {
    "collapsed": false
   },
   "outputs": [
    {
     "data": {
      "text/plain": [
       "<matplotlib.axes._subplots.AxesSubplot at 0x7f39e1631bd0>"
      ]
     },
     "execution_count": 107,
     "metadata": {},
     "output_type": "execute_result"
    },
    {
     "data": {
      "image/png": "[encoded data removed]",
      "text/plain": [
       "<matplotlib.figure.Figure at 0x7f39e187ef10>"
      ]
     },
     "metadata": {},
     "output_type": "display_data"
    }
   ],
   "source": [
    "\n",
    "import seaborn as sns\n",
    "CorrKoef = X_f.corr()\n",
    "#pylab.figure(figsize=(50, 25))\n",
    "sns.heatmap(CorrKoef, annot=False)"
   ]
  },
  {
   "cell_type": "code",
   "execution_count": 109,
   "metadata": {
    "collapsed": true
   },
   "outputs": [],
   "source": [
    "X_meta_train = pd.concat([X_b_, X_f_], axis = 1)\n",
    "X_meta_test = pd.concat([X_b, X_f], axis = 1)"
   ]
  },
  {
   "cell_type": "code",
   "execution_count": 122,
   "metadata": {
    "collapsed": false
   },
   "outputs": [
    {
     "name": "stdout",
     "output_type": "stream",
     "text": [
      "[0]\ttrain-logloss:0.677801\ttest-logloss:0.67787\n",
      "[50]\ttrain-logloss:0.408535\ttest-logloss:0.411056\n",
      "[100]\ttrain-logloss:0.379914\ttest-logloss:0.384658\n",
      "[150]\ttrain-logloss:0.375556\ttest-logloss:0.382153\n",
      "0.3818678\n",
      "182\n",
      "CPU times: user 23.3 s, sys: 428 ms, total: 23.7 s\n",
      "Wall time: 3.94 s\n"
     ]
    }
   ],
   "source": [
    "%%time\n",
    "param = {'min_child_weight': 80,\n",
    "        'eta': 0.03,\n",
    "        #'colsample_bytree': 0.9,\n",
    "        'max_depth': 3,\n",
    "        'subsample': 0.3,\n",
    "        #'alpha': 1,\n",
    "        #'gamma': 1,\n",
    "        #'silent': 1,\n",
    "        'eval_metric' : 'logloss',\n",
    "        'objective': 'reg:linear',\n",
    "        'verbose_eval': True}\n",
    "num_round = 195\n",
    "\n",
    "xgtrain = xgb.DMatrix(X_meta_train, y_train)\n",
    "\n",
    "t = xgb.cv(param, xgtrain, num_boost_round=num_round, nfold=5, show_stdv=0, seed=0, verbose_eval=50)\n",
    "print t['test-logloss-mean'].min()\n",
    "print t['test-logloss-mean'].argmin() + 1"
   ]
  },
  {
   "cell_type": "code",
   "execution_count": null,
   "metadata": {
    "collapsed": true
   },
   "outputs": [],
   "source": []
  },
  {
   "cell_type": "code",
   "execution_count": 125,
   "metadata": {
    "collapsed": true
   },
   "outputs": [],
   "source": [
    "X_meta_test.columns = X_meta_train.columns"
   ]
  },
  {
   "cell_type": "code",
   "execution_count": 123,
   "metadata": {
    "collapsed": true
   },
   "outputs": [],
   "source": [
    "num_round = 190\n",
    "\n",
    "bst = xgb.train(param, xgtrain, num_round)"
   ]
  },
  {
   "cell_type": "code",
   "execution_count": 126,
   "metadata": {
    "collapsed": false
   },
   "outputs": [],
   "source": [
    "bst_pred = bst.predict(xgb.DMatrix(data = X_meta_test))"
   ]
  },
  {
   "cell_type": "code",
   "execution_count": 127,
   "metadata": {
    "collapsed": true
   },
   "outputs": [],
   "source": [
    "bst_pred = pd.DataFrame(bst_pred)\n",
    "bst_pred.to_csv('first_stack.csv', index=False, header = 0)"
   ]
  },
  {
   "cell_type": "code",
   "execution_count": null,
   "metadata": {
    "collapsed": true
   },
   "outputs": [],
   "source": []
  },
  {
   "cell_type": "code",
   "execution_count": 22,
   "metadata": {
    "collapsed": false
   },
   "outputs": [
    {
     "data": {
      "image/png": "[encoded data removed]",
      "text/plain": [
       "<matplotlib.figure.Figure at 0x7f656ce80a50>"
      ]
     },
     "metadata": {},
     "output_type": "display_data"
    }
   ],
   "source": [
    "imp = pd.DataFrame(bst.get_fscore().items()).sort_values(1, ascending=False)\n",
    "imp.index = imp[0]\n",
    "imp[:80].plot(kind = \"bar\", figsize=(9, 6))\n",
    "plt.show()\n",
    "best = imp[:80].index"
   ]
  },
  {
   "cell_type": "code",
   "execution_count": 29,
   "metadata": {
    "collapsed": false
   },
   "outputs": [],
   "source": [
    "bst_pred = bst.predict(xgb.DMatrix(data = X_test))"
   ]
  },
  {
   "cell_type": "code",
   "execution_count": 24,
   "metadata": {
    "collapsed": false
   },
   "outputs": [
    {
     "name": "stdout",
     "output_type": "stream",
     "text": [
      "(25289, 12)\n",
      "(25289, 1)\n"
     ]
    }
   ],
   "source": [
    "print X_train.shape\n",
    "print y_train.shape"
   ]
  },
  {
   "cell_type": "code",
   "execution_count": 30,
   "metadata": {
    "collapsed": false
   },
   "outputs": [],
   "source": [
    "bst_pred = pd.DataFrame(bst_pred)\n",
    "bst_pred.to_csv('models/bst_pred.csv', index=False, header = 0)"
   ]
  },
  {
   "cell_type": "code",
   "execution_count": null,
   "metadata": {
    "collapsed": true
   },
   "outputs": [],
   "source": []
  },
  {
   "cell_type": "code",
   "execution_count": 86,
   "metadata": {
    "collapsed": false
   },
   "outputs": [
    {
     "data": {
      "text/plain": [
       "RandomForestClassifier(bootstrap=True, class_weight=None, criterion='gini',\n",
       "            max_depth=8, max_features='auto', max_leaf_nodes=None,\n",
       "            min_impurity_split=1e-07, min_samples_leaf=10,\n",
       "            min_samples_split=5, min_weight_fraction_leaf=0.0,\n",
       "            n_estimators=495, n_jobs=-1, oob_score=False, random_state=13,\n",
       "            verbose=0, warm_start=False)"
      ]
     },
     "execution_count": 86,
     "metadata": {},
     "output_type": "execute_result"
    }
   ],
   "source": [
    "forest_regressor.fit(X_train, y_train)"
   ]
  },
  {
   "cell_type": "code",
   "execution_count": 87,
   "metadata": {
    "collapsed": false
   },
   "outputs": [],
   "source": [
    "pre = pd.DataFrame(pd.DataFrame(forest_regressor.predict_proba(X_test)).ix[:,1])"
   ]
  },
  {
   "cell_type": "code",
   "execution_count": 88,
   "metadata": {
    "collapsed": true
   },
   "outputs": [],
   "source": [
    "pre.to_csv('models/forest_pred.csv', index=False, header = 0)"
   ]
  },
  {
   "cell_type": "code",
   "execution_count": 89,
   "metadata": {
    "collapsed": false
   },
   "outputs": [
    {
     "data": {
      "text/plain": [
       "(25289, 1)"
      ]
     },
     "execution_count": 89,
     "metadata": {},
     "output_type": "execute_result"
    }
   ],
   "source": [
    "bst_pred.shape"
   ]
  },
  {
   "cell_type": "code",
   "execution_count": 90,
   "metadata": {
    "collapsed": false
   },
   "outputs": [
    {
     "name": "stdout",
     "output_type": "stream",
     "text": [
      "0.8737\n",
      "1.0000\n"
     ]
    },
    {
     "data": {
      "image/png": "[encoded data removed]",
      "text/plain": [
       "<matplotlib.figure.Figure at 0x7fa3e5101310>"
      ]
     },
     "metadata": {},
     "output_type": "display_data"
    }
   ],
   "source": [
    "bst_pred = pd.read_csv('models/bst_pred.csv', header = None)\n",
    "forest_pred = pd.read_csv('models/forest_pred.csv', header = None)\n",
    "\n",
    "from sklearn.metrics import log_loss\n",
    "\n",
    "weights = np.linspace(0, 1, 100)\n",
    "scores = np.zeros_like(weights)\n",
    "for index, alpha in enumerate(weights):\n",
    "    preds = alpha * bst_pred.values + (1-alpha) * forest_pred.values\n",
    "    scores[index] = log_loss(y_train, preds)\n",
    "plt.plot(weights, scores)\n",
    "print \"{0:.4f}\".format(np.min(scores))\n",
    "print \"{0:.4f}\".format(weights[np.argmin(scores)])"
   ]
  },
  {
   "cell_type": "code",
   "execution_count": 91,
   "metadata": {
    "collapsed": false
   },
   "outputs": [
    {
     "name": "stdout",
     "output_type": "stream",
     "text": [
      "0.873714399855\n",
      "0.893898730995\n"
     ]
    }
   ],
   "source": [
    "print log_loss(y_train, bst_pred)\n",
    "print log_loss(y_train, forest_pred)\n"
   ]
  },
  {
   "cell_type": "code",
   "execution_count": 134,
   "metadata": {
    "collapsed": true
   },
   "outputs": [],
   "source": [
    "from sklearn.preprocessing import StandardScaler\n",
    "scaler = StandardScaler()\n",
    "scaler.fit(X_train, y_train)\n",
    "X_train = scaler.transform(X_train)\n",
    "X_train = pd.DataFrame(X_train)\n",
    "X_test = scaler.transform(X_test)\n",
    "X_test = pd.DataFrame(X_test)"
   ]
  },
  {
   "cell_type": "code",
   "execution_count": 103,
   "metadata": {
    "collapsed": false
   },
   "outputs": [
    {
     "name": "stderr",
     "output_type": "stream",
     "text": [
      "/home/ubuntu/anaconda2/lib/python2.7/site-packages/ipykernel/__main__.py:3: DataConversionWarning: A column-vector y was passed when a 1d array was expected. Please change the shape of y to (n_samples, ), for example using ravel().\n",
      "  app.launch_new_instance()\n"
     ]
    },
    {
     "name": "stdout",
     "output_type": "stream",
     "text": [
      "CPU times: user 1.61 s, sys: 20 ms, total: 1.63 s\n",
      "Wall time: 1.63 s\n"
     ]
    }
   ],
   "source": [
    "%%time\n",
    "from sklearn.neighbors import KNeighborsClassifier\n",
    "neigh = KNeighborsClassifier(n_neighbors=50)\n",
    "neigh.fit(X_train, y_train) \n",
    "knn_pred = neigh.predict_proba(X_test)\n",
    "knn_pred = neigh.predict_proba(X_train)"
   ]
  },
  {
   "cell_type": "code",
   "execution_count": 104,
   "metadata": {
    "collapsed": false
   },
   "outputs": [
    {
     "name": "stdout",
     "output_type": "stream",
     "text": [
      "0.404997759471\n"
     ]
    }
   ],
   "source": [
    "print log_loss(y_train, knn_pred)"
   ]
  },
  {
   "cell_type": "code",
   "execution_count": 13,
   "metadata": {
    "collapsed": false
   },
   "outputs": [],
   "source": [
    "knn_pred = pd.DataFrame(pd.DataFrame(knn_pred).ix[:, 1])"
   ]
  },
  {
   "cell_type": "code",
   "execution_count": 14,
   "metadata": {
    "collapsed": false
   },
   "outputs": [],
   "source": [
    "knn_pred.to_csv('models/knn_5.csv', index=False, header = 0)"
   ]
  },
  {
   "cell_type": "code",
   "execution_count": null,
   "metadata": {
    "collapsed": true
   },
   "outputs": [],
   "source": []
  }
 ],
 "metadata": {
  "kernelspec": {
   "display_name": "Python 2",
   "language": "python",
   "name": "python2"
  },
  "language_info": {
   "codemirror_mode": {
    "name": "ipython",
    "version": 2
   },
   "file_extension": ".py",
   "mimetype": "text/x-python",
   "name": "python",
   "nbconvert_exporter": "python",
   "pygments_lexer": "ipython2",
   "version": "2.7.12"
  }
 },
 "nbformat": 4,
 "nbformat_minor": 0
}
