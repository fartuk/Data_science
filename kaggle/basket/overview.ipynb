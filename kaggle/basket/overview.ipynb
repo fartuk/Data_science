{
 "cells": [
  {
   "cell_type": "code",
   "execution_count": 1,
   "metadata": {
    "collapsed": false
   },
   "outputs": [
    {
     "name": "stderr",
     "output_type": "stream",
     "text": [
      "/home/fartuk/anaconda2/lib/python2.7/site-packages/sklearn/cross_validation.py:44: DeprecationWarning: This module was deprecated in version 0.18 in favor of the model_selection module into which all the refactored classes and functions are moved. Also note that the interface of the new CV iterators are different from that of this module. This module will be removed in 0.20.\n",
      "  \"This module will be removed in 0.20.\", DeprecationWarning)\n"
     ]
    },
    {
     "name": "stdout",
     "output_type": "stream",
     "text": [
      "Populating the interactive namespace from numpy and matplotlib\n"
     ]
    }
   ],
   "source": [
    "import numpy as np\n",
    "import pandas as pd\n",
    "from sklearn import ensemble\n",
    "from sklearn.linear_model import LinearRegression\n",
    "from sklearn.ensemble import RandomForestClassifier\n",
    "from sklearn.cross_validation import cross_val_score\n",
    "from sklearn.feature_extraction.text import HashingVectorizer\n",
    "from sklearn import manifold, decomposition, linear_model, ensemble, neighbors, cross_validation\n",
    "import sklearn\n",
    "from sklearn import pipeline, preprocessing, feature_extraction\n",
    "import xgboost as xgb\n",
    "from sklearn.metrics import f1_score\n",
    "import xgboost as xgb\n",
    "from sklearn.metrics import mean_absolute_error\n",
    "import matplotlib.pyplot as plt\n",
    "import seaborn as sns\n",
    "from sklearn.metrics import log_loss\n",
    "%matplotlib inline\n",
    "%pylab inline"
   ]
  },
  {
   "cell_type": "code",
   "execution_count": 2,
   "metadata": {
    "collapsed": false
   },
   "outputs": [],
   "source": [
    "Seasons = pd.DataFrame.from_csv(\"Seasons.csv\",index_col=None)\n",
    "TourneySlots = pd.DataFrame.from_csv(\"TourneySlots.csv\",index_col=None)\n",
    "RegularSeasonCompactResults = pd.DataFrame.from_csv(\"RegularSeasonCompactResults.csv\",index_col=None)\n",
    "RegularSeasonDetailedResults = pd.DataFrame.from_csv(\"RegularSeasonDetailedResults.csv\",index_col=None)\n",
    "TourneyDetailedResults = pd.DataFrame.from_csv(\"TourneyDetailedResults.csv\",index_col=None)\n",
    "Teams = pd.DataFrame.from_csv(\"Teams.csv\",index_col=None)\n",
    "\n",
    "sample_submission = pd.DataFrame.from_csv(\"sample_submission.csv\",index_col=None)\n",
    "\n",
    "\n",
    "TourneySeeds = pd.DataFrame.from_csv(\"TourneySeeds.csv\",index_col=None)\n",
    "\n"
   ]
  },
  {
   "cell_type": "code",
   "execution_count": 78,
   "metadata": {
    "collapsed": false
   },
   "outputs": [
    {
     "name": "stdout",
     "output_type": "stream",
     "text": [
      "145289\n",
      "232\n",
      "327\n",
      "327\n"
     ]
    }
   ],
   "source": [
    "print len(RegularSeasonCompactResults)\n",
    "print len(TourneyDetailedResults.Lteam.unique())\n",
    "\n",
    "\n",
    "print len(RegularSeasonDetailedResults[RegularSeasonDetailedResults.Season == 2003].Wteam.unique())\n",
    "print len(RegularSeasonDetailedResults[RegularSeasonDetailedResults.Season == 2003].Lteam.unique())"
   ]
  },
  {
   "cell_type": "code",
   "execution_count": 3,
   "metadata": {
    "collapsed": false
   },
   "outputs": [
    {
     "data": {
      "text/html": [
       "<div>\n",
       "<table border=\"1\" class=\"dataframe\">\n",
       "  <thead>\n",
       "    <tr style=\"text-align: right;\">\n",
       "      <th></th>\n",
       "      <th>Season</th>\n",
       "      <th>Dayzero</th>\n",
       "      <th>Regionw</th>\n",
       "      <th>Regionx</th>\n",
       "      <th>Regiony</th>\n",
       "      <th>Regionz</th>\n",
       "    </tr>\n",
       "  </thead>\n",
       "  <tbody>\n",
       "    <tr>\n",
       "      <th>28</th>\n",
       "      <td>2013</td>\n",
       "      <td>11/5/2012</td>\n",
       "      <td>East</td>\n",
       "      <td>South</td>\n",
       "      <td>Midwest</td>\n",
       "      <td>West</td>\n",
       "    </tr>\n",
       "    <tr>\n",
       "      <th>29</th>\n",
       "      <td>2014</td>\n",
       "      <td>11/4/2013</td>\n",
       "      <td>East</td>\n",
       "      <td>South</td>\n",
       "      <td>Midwest</td>\n",
       "      <td>West</td>\n",
       "    </tr>\n",
       "    <tr>\n",
       "      <th>30</th>\n",
       "      <td>2015</td>\n",
       "      <td>11/3/2014</td>\n",
       "      <td>East</td>\n",
       "      <td>South</td>\n",
       "      <td>Midwest</td>\n",
       "      <td>West</td>\n",
       "    </tr>\n",
       "    <tr>\n",
       "      <th>31</th>\n",
       "      <td>2016</td>\n",
       "      <td>11/2/2015</td>\n",
       "      <td>East</td>\n",
       "      <td>Midwest</td>\n",
       "      <td>South</td>\n",
       "      <td>West</td>\n",
       "    </tr>\n",
       "    <tr>\n",
       "      <th>32</th>\n",
       "      <td>2017</td>\n",
       "      <td>10/31/2016</td>\n",
       "      <td>East</td>\n",
       "      <td>South</td>\n",
       "      <td>Midwest</td>\n",
       "      <td>West</td>\n",
       "    </tr>\n",
       "  </tbody>\n",
       "</table>\n",
       "</div>"
      ],
      "text/plain": [
       "    Season     Dayzero Regionw  Regionx  Regiony Regionz\n",
       "28    2013   11/5/2012    East    South  Midwest    West\n",
       "29    2014   11/4/2013    East    South  Midwest    West\n",
       "30    2015   11/3/2014    East    South  Midwest    West\n",
       "31    2016   11/2/2015    East  Midwest    South    West\n",
       "32    2017  10/31/2016    East    South  Midwest    West"
      ]
     },
     "execution_count": 3,
     "metadata": {},
     "output_type": "execute_result"
    }
   ],
   "source": [
    "Seasons[-5:]\n"
   ]
  },
  {
   "cell_type": "code",
   "execution_count": 264,
   "metadata": {
    "collapsed": false
   },
   "outputs": [
    {
     "data": {
      "text/html": [
       "<div>\n",
       "<table border=\"1\" class=\"dataframe\">\n",
       "  <thead>\n",
       "    <tr style=\"text-align: right;\">\n",
       "      <th></th>\n",
       "      <th>Season</th>\n",
       "      <th>Daynum</th>\n",
       "      <th>Wteam</th>\n",
       "      <th>Wscore</th>\n",
       "      <th>Lteam</th>\n",
       "      <th>Lscore</th>\n",
       "      <th>Wloc</th>\n",
       "      <th>Numot</th>\n",
       "      <th>Wfgm</th>\n",
       "      <th>Wfga</th>\n",
       "      <th>...</th>\n",
       "      <th>Lfga3</th>\n",
       "      <th>Lftm</th>\n",
       "      <th>Lfta</th>\n",
       "      <th>Lor</th>\n",
       "      <th>Ldr</th>\n",
       "      <th>Last</th>\n",
       "      <th>Lto</th>\n",
       "      <th>Lstl</th>\n",
       "      <th>Lblk</th>\n",
       "      <th>Lpf</th>\n",
       "    </tr>\n",
       "  </thead>\n",
       "  <tbody>\n",
       "    <tr>\n",
       "      <th>912</th>\n",
       "      <td>2016</td>\n",
       "      <td>152</td>\n",
       "      <td>1437</td>\n",
       "      <td>95</td>\n",
       "      <td>1328</td>\n",
       "      <td>51</td>\n",
       "      <td>N</td>\n",
       "      <td>0</td>\n",
       "      <td>35</td>\n",
       "      <td>49</td>\n",
       "      <td>...</td>\n",
       "      <td>27</td>\n",
       "      <td>7</td>\n",
       "      <td>11</td>\n",
       "      <td>19</td>\n",
       "      <td>10</td>\n",
       "      <td>8</td>\n",
       "      <td>17</td>\n",
       "      <td>6</td>\n",
       "      <td>2</td>\n",
       "      <td>20</td>\n",
       "    </tr>\n",
       "    <tr>\n",
       "      <th>913</th>\n",
       "      <td>2016</td>\n",
       "      <td>154</td>\n",
       "      <td>1437</td>\n",
       "      <td>77</td>\n",
       "      <td>1314</td>\n",
       "      <td>74</td>\n",
       "      <td>N</td>\n",
       "      <td>0</td>\n",
       "      <td>28</td>\n",
       "      <td>48</td>\n",
       "      <td>...</td>\n",
       "      <td>17</td>\n",
       "      <td>9</td>\n",
       "      <td>13</td>\n",
       "      <td>16</td>\n",
       "      <td>20</td>\n",
       "      <td>16</td>\n",
       "      <td>11</td>\n",
       "      <td>5</td>\n",
       "      <td>3</td>\n",
       "      <td>20</td>\n",
       "    </tr>\n",
       "  </tbody>\n",
       "</table>\n",
       "<p>2 rows × 34 columns</p>\n",
       "</div>"
      ],
      "text/plain": [
       "     Season  Daynum  Wteam  Wscore  Lteam  Lscore Wloc  Numot  Wfgm  Wfga  \\\n",
       "912    2016     152   1437      95   1328      51    N      0    35    49   \n",
       "913    2016     154   1437      77   1314      74    N      0    28    48   \n",
       "\n",
       "    ...   Lfga3  Lftm  Lfta  Lor  Ldr  Last  Lto  Lstl  Lblk  Lpf  \n",
       "912 ...      27     7    11   19   10     8   17     6     2   20  \n",
       "913 ...      17     9    13   16   20    16   11     5     3   20  \n",
       "\n",
       "[2 rows x 34 columns]"
      ]
     },
     "execution_count": 264,
     "metadata": {},
     "output_type": "execute_result"
    }
   ],
   "source": [
    "TourneyDetailedResults[-2:]"
   ]
  },
  {
   "cell_type": "markdown",
   "metadata": {},
   "source": [
    "## Рандомно свапаются первая и вторая команды"
   ]
  },
  {
   "cell_type": "code",
   "execution_count": 7,
   "metadata": {
    "collapsed": false
   },
   "outputs": [
    {
     "name": "stdout",
     "output_type": "stream",
     "text": [
      "0\n",
      "15000\n",
      "30000\n",
      "45000\n",
      "60000\n"
     ]
    }
   ],
   "source": [
    "Reg = pd.DataFrame(columns=RegularSeasonDetailedResults.columns)\n",
    "col_1 = ['Wteam','Wscore','Wfgm', 'Wfga', 'Wfgm3', 'Wfga3', 'Wftm', 'Wfta', 'Wor', 'Wdr', 'Wast', 'Wto', 'Wstl', 'Wblk', 'Wpf']\n",
    "col_2 = ['Lteam','Lscore','Lfgm', 'Lfga', 'Lfgm3', 'Lfga3', 'Lftm', 'Lfta', 'Lor', 'Ldr', 'Last', 'Lto', 'Lstl', 'Lblk', 'Lpf']\n",
    "k = 0\n",
    "rand_mask = np.random.randint(0, 2, len(RegularSeasonDetailedResults))\n",
    "for i in RegularSeasonDetailedResults.index:\n",
    "    if i % 15000 == 0:\n",
    "        print i\n",
    "    if rand_mask[i] == 0:\n",
    "        Reg = pd.concat([Reg, pd.DataFrame(RegularSeasonDetailedResults.loc[i]).transpose()], axis=0)\n",
    "    else:\n",
    "        tmp = pd.DataFrame(RegularSeasonDetailedResults.loc[i]).transpose()\n",
    "        temp = tmp[col_1]\n",
    "        tmp[col_1] = tmp[col_2]\n",
    "        tmp[col_2] = temp\n",
    "        Reg = pd.concat([Reg, tmp], axis=0)"
   ]
  },
  {
   "cell_type": "code",
   "execution_count": 9,
   "metadata": {
    "collapsed": true
   },
   "outputs": [],
   "source": [
    "Reg.to_csv('Reg.csv', index=False)"
   ]
  },
  {
   "cell_type": "markdown",
   "metadata": {},
   "source": [
    "#### в плейофф"
   ]
  },
  {
   "cell_type": "code",
   "execution_count": 265,
   "metadata": {
    "collapsed": true
   },
   "outputs": [],
   "source": [
    "Reg = pd.DataFrame(columns=TourneyDetailedResults.columns)\n",
    "col_1 = ['Wteam','Wscore','Wfgm', 'Wfga', 'Wfgm3', 'Wfga3', 'Wftm', 'Wfta', 'Wor', 'Wdr', 'Wast', 'Wto', 'Wstl', 'Wblk', 'Wpf']\n",
    "col_2 = ['Lteam','Lscore','Lfgm', 'Lfga', 'Lfgm3', 'Lfga3', 'Lftm', 'Lfta', 'Lor', 'Ldr', 'Last', 'Lto', 'Lstl', 'Lblk', 'Lpf']\n",
    "k = 0\n",
    "rand_mask = np.random.randint(0, 2, len(TourneyDetailedResults))\n",
    "for i in TourneyDetailedResults.index:\n",
    "    if rand_mask[i] == 0:\n",
    "        Reg = pd.concat([Reg, pd.DataFrame(TourneyDetailedResults.loc[i]).transpose()], axis=0)\n",
    "    else:\n",
    "        tmp = pd.DataFrame(TourneyDetailedResults.loc[i]).transpose()\n",
    "        temp = tmp[col_1]\n",
    "        tmp[col_1] = tmp[col_2]\n",
    "        tmp[col_2] = temp\n",
    "        Reg = pd.concat([Reg, tmp], axis=0)"
   ]
  },
  {
   "cell_type": "code",
   "execution_count": 266,
   "metadata": {
    "collapsed": true
   },
   "outputs": [],
   "source": [
    "Reg.to_csv('Reg_playoff.csv', index=False)"
   ]
  },
  {
   "cell_type": "code",
   "execution_count": 43,
   "metadata": {
    "collapsed": false
   },
   "outputs": [
    {
     "data": {
      "text/plain": [
       "<matplotlib.axes._subplots.AxesSubplot at 0x7fb72794b9d0>"
      ]
     },
     "execution_count": 43,
     "metadata": {},
     "output_type": "execute_result"
    },
    {
     "data": {
      "image/png": "[encoded data removed]",
      "text/plain": [
       "<matplotlib.figure.Figure at 0x7fb725ff5750>"
      ]
     },
     "metadata": {},
     "output_type": "display_data"
    }
   ],
   "source": [
    "import seaborn as sns\n",
    "CorrKoef = TourneyDetailedResults.corr()\n",
    "#pylab.figure(figsize=(50, 25))\n",
    "sns.heatmap(CorrKoef, annot=False)"
   ]
  },
  {
   "cell_type": "code",
   "execution_count": 44,
   "metadata": {
    "collapsed": false
   },
   "outputs": [
    {
     "data": {
      "text/plain": [
       "<pandas.core.groupby.DataFrameGroupBy object at 0x7fb725ea8b10>"
      ]
     },
     "execution_count": 44,
     "metadata": {},
     "output_type": "execute_result"
    }
   ],
   "source": [
    "RegularSeasonDetailedResults.groupby('Wteam')"
   ]
  },
  {
   "cell_type": "code",
   "execution_count": 4,
   "metadata": {
    "collapsed": false
   },
   "outputs": [
    {
     "data": {
      "text/html": [
       "<div>\n",
       "<table border=\"1\" class=\"dataframe\">\n",
       "  <thead>\n",
       "    <tr style=\"text-align: right;\">\n",
       "      <th></th>\n",
       "      <th>Season</th>\n",
       "      <th>Daynum</th>\n",
       "      <th>Wteam</th>\n",
       "      <th>Wscore</th>\n",
       "      <th>Lteam</th>\n",
       "      <th>Lscore</th>\n",
       "      <th>Wloc</th>\n",
       "      <th>Numot</th>\n",
       "      <th>Wfgm</th>\n",
       "      <th>Wfga</th>\n",
       "      <th>...</th>\n",
       "      <th>Lfga3</th>\n",
       "      <th>Lftm</th>\n",
       "      <th>Lfta</th>\n",
       "      <th>Lor</th>\n",
       "      <th>Ldr</th>\n",
       "      <th>Last</th>\n",
       "      <th>Lto</th>\n",
       "      <th>Lstl</th>\n",
       "      <th>Lblk</th>\n",
       "      <th>Lpf</th>\n",
       "    </tr>\n",
       "  </thead>\n",
       "  <tbody>\n",
       "    <tr>\n",
       "      <th>0</th>\n",
       "      <td>2003</td>\n",
       "      <td>10</td>\n",
       "      <td>1104</td>\n",
       "      <td>68</td>\n",
       "      <td>1328</td>\n",
       "      <td>62</td>\n",
       "      <td>N</td>\n",
       "      <td>0</td>\n",
       "      <td>27</td>\n",
       "      <td>58</td>\n",
       "      <td>...</td>\n",
       "      <td>10</td>\n",
       "      <td>16</td>\n",
       "      <td>22</td>\n",
       "      <td>10</td>\n",
       "      <td>22</td>\n",
       "      <td>8</td>\n",
       "      <td>18</td>\n",
       "      <td>9</td>\n",
       "      <td>2</td>\n",
       "      <td>20</td>\n",
       "    </tr>\n",
       "    <tr>\n",
       "      <th>1</th>\n",
       "      <td>2003</td>\n",
       "      <td>10</td>\n",
       "      <td>1272</td>\n",
       "      <td>70</td>\n",
       "      <td>1393</td>\n",
       "      <td>63</td>\n",
       "      <td>N</td>\n",
       "      <td>0</td>\n",
       "      <td>26</td>\n",
       "      <td>62</td>\n",
       "      <td>...</td>\n",
       "      <td>24</td>\n",
       "      <td>9</td>\n",
       "      <td>20</td>\n",
       "      <td>20</td>\n",
       "      <td>25</td>\n",
       "      <td>7</td>\n",
       "      <td>12</td>\n",
       "      <td>8</td>\n",
       "      <td>6</td>\n",
       "      <td>16</td>\n",
       "    </tr>\n",
       "    <tr>\n",
       "      <th>2</th>\n",
       "      <td>2003</td>\n",
       "      <td>11</td>\n",
       "      <td>1266</td>\n",
       "      <td>73</td>\n",
       "      <td>1437</td>\n",
       "      <td>61</td>\n",
       "      <td>N</td>\n",
       "      <td>0</td>\n",
       "      <td>24</td>\n",
       "      <td>58</td>\n",
       "      <td>...</td>\n",
       "      <td>26</td>\n",
       "      <td>14</td>\n",
       "      <td>23</td>\n",
       "      <td>31</td>\n",
       "      <td>22</td>\n",
       "      <td>9</td>\n",
       "      <td>12</td>\n",
       "      <td>2</td>\n",
       "      <td>5</td>\n",
       "      <td>23</td>\n",
       "    </tr>\n",
       "    <tr>\n",
       "      <th>3</th>\n",
       "      <td>2003</td>\n",
       "      <td>11</td>\n",
       "      <td>1296</td>\n",
       "      <td>56</td>\n",
       "      <td>1457</td>\n",
       "      <td>50</td>\n",
       "      <td>N</td>\n",
       "      <td>0</td>\n",
       "      <td>18</td>\n",
       "      <td>38</td>\n",
       "      <td>...</td>\n",
       "      <td>22</td>\n",
       "      <td>8</td>\n",
       "      <td>15</td>\n",
       "      <td>17</td>\n",
       "      <td>20</td>\n",
       "      <td>9</td>\n",
       "      <td>19</td>\n",
       "      <td>4</td>\n",
       "      <td>3</td>\n",
       "      <td>23</td>\n",
       "    </tr>\n",
       "    <tr>\n",
       "      <th>4</th>\n",
       "      <td>2003</td>\n",
       "      <td>11</td>\n",
       "      <td>1400</td>\n",
       "      <td>77</td>\n",
       "      <td>1208</td>\n",
       "      <td>71</td>\n",
       "      <td>N</td>\n",
       "      <td>0</td>\n",
       "      <td>30</td>\n",
       "      <td>61</td>\n",
       "      <td>...</td>\n",
       "      <td>16</td>\n",
       "      <td>17</td>\n",
       "      <td>27</td>\n",
       "      <td>21</td>\n",
       "      <td>15</td>\n",
       "      <td>12</td>\n",
       "      <td>10</td>\n",
       "      <td>7</td>\n",
       "      <td>1</td>\n",
       "      <td>14</td>\n",
       "    </tr>\n",
       "    <tr>\n",
       "      <th>5</th>\n",
       "      <td>2003</td>\n",
       "      <td>11</td>\n",
       "      <td>1458</td>\n",
       "      <td>81</td>\n",
       "      <td>1186</td>\n",
       "      <td>55</td>\n",
       "      <td>H</td>\n",
       "      <td>0</td>\n",
       "      <td>26</td>\n",
       "      <td>57</td>\n",
       "      <td>...</td>\n",
       "      <td>11</td>\n",
       "      <td>12</td>\n",
       "      <td>17</td>\n",
       "      <td>6</td>\n",
       "      <td>22</td>\n",
       "      <td>8</td>\n",
       "      <td>19</td>\n",
       "      <td>4</td>\n",
       "      <td>3</td>\n",
       "      <td>25</td>\n",
       "    </tr>\n",
       "    <tr>\n",
       "      <th>6</th>\n",
       "      <td>2003</td>\n",
       "      <td>12</td>\n",
       "      <td>1161</td>\n",
       "      <td>80</td>\n",
       "      <td>1236</td>\n",
       "      <td>62</td>\n",
       "      <td>H</td>\n",
       "      <td>0</td>\n",
       "      <td>23</td>\n",
       "      <td>55</td>\n",
       "      <td>...</td>\n",
       "      <td>15</td>\n",
       "      <td>20</td>\n",
       "      <td>28</td>\n",
       "      <td>9</td>\n",
       "      <td>21</td>\n",
       "      <td>11</td>\n",
       "      <td>30</td>\n",
       "      <td>10</td>\n",
       "      <td>4</td>\n",
       "      <td>28</td>\n",
       "    </tr>\n",
       "    <tr>\n",
       "      <th>7</th>\n",
       "      <td>2003</td>\n",
       "      <td>12</td>\n",
       "      <td>1186</td>\n",
       "      <td>75</td>\n",
       "      <td>1457</td>\n",
       "      <td>61</td>\n",
       "      <td>N</td>\n",
       "      <td>0</td>\n",
       "      <td>28</td>\n",
       "      <td>62</td>\n",
       "      <td>...</td>\n",
       "      <td>17</td>\n",
       "      <td>17</td>\n",
       "      <td>23</td>\n",
       "      <td>8</td>\n",
       "      <td>25</td>\n",
       "      <td>10</td>\n",
       "      <td>15</td>\n",
       "      <td>14</td>\n",
       "      <td>8</td>\n",
       "      <td>18</td>\n",
       "    </tr>\n",
       "    <tr>\n",
       "      <th>8</th>\n",
       "      <td>2003</td>\n",
       "      <td>12</td>\n",
       "      <td>1194</td>\n",
       "      <td>71</td>\n",
       "      <td>1156</td>\n",
       "      <td>66</td>\n",
       "      <td>N</td>\n",
       "      <td>0</td>\n",
       "      <td>28</td>\n",
       "      <td>58</td>\n",
       "      <td>...</td>\n",
       "      <td>18</td>\n",
       "      <td>12</td>\n",
       "      <td>27</td>\n",
       "      <td>13</td>\n",
       "      <td>26</td>\n",
       "      <td>13</td>\n",
       "      <td>25</td>\n",
       "      <td>8</td>\n",
       "      <td>2</td>\n",
       "      <td>18</td>\n",
       "    </tr>\n",
       "    <tr>\n",
       "      <th>9</th>\n",
       "      <td>2003</td>\n",
       "      <td>12</td>\n",
       "      <td>1458</td>\n",
       "      <td>84</td>\n",
       "      <td>1296</td>\n",
       "      <td>56</td>\n",
       "      <td>H</td>\n",
       "      <td>0</td>\n",
       "      <td>32</td>\n",
       "      <td>67</td>\n",
       "      <td>...</td>\n",
       "      <td>14</td>\n",
       "      <td>7</td>\n",
       "      <td>12</td>\n",
       "      <td>9</td>\n",
       "      <td>23</td>\n",
       "      <td>10</td>\n",
       "      <td>18</td>\n",
       "      <td>1</td>\n",
       "      <td>3</td>\n",
       "      <td>18</td>\n",
       "    </tr>\n",
       "  </tbody>\n",
       "</table>\n",
       "<p>10 rows × 34 columns</p>\n",
       "</div>"
      ],
      "text/plain": [
       "   Season  Daynum  Wteam  Wscore  Lteam  Lscore Wloc  Numot  Wfgm  Wfga ...   \\\n",
       "0    2003      10   1104      68   1328      62    N      0    27    58 ...    \n",
       "1    2003      10   1272      70   1393      63    N      0    26    62 ...    \n",
       "2    2003      11   1266      73   1437      61    N      0    24    58 ...    \n",
       "3    2003      11   1296      56   1457      50    N      0    18    38 ...    \n",
       "4    2003      11   1400      77   1208      71    N      0    30    61 ...    \n",
       "5    2003      11   1458      81   1186      55    H      0    26    57 ...    \n",
       "6    2003      12   1161      80   1236      62    H      0    23    55 ...    \n",
       "7    2003      12   1186      75   1457      61    N      0    28    62 ...    \n",
       "8    2003      12   1194      71   1156      66    N      0    28    58 ...    \n",
       "9    2003      12   1458      84   1296      56    H      0    32    67 ...    \n",
       "\n",
       "   Lfga3  Lftm  Lfta  Lor  Ldr  Last  Lto  Lstl  Lblk  Lpf  \n",
       "0     10    16    22   10   22     8   18     9     2   20  \n",
       "1     24     9    20   20   25     7   12     8     6   16  \n",
       "2     26    14    23   31   22     9   12     2     5   23  \n",
       "3     22     8    15   17   20     9   19     4     3   23  \n",
       "4     16    17    27   21   15    12   10     7     1   14  \n",
       "5     11    12    17    6   22     8   19     4     3   25  \n",
       "6     15    20    28    9   21    11   30    10     4   28  \n",
       "7     17    17    23    8   25    10   15    14     8   18  \n",
       "8     18    12    27   13   26    13   25     8     2   18  \n",
       "9     14     7    12    9   23    10   18     1     3   18  \n",
       "\n",
       "[10 rows x 34 columns]"
      ]
     },
     "execution_count": 4,
     "metadata": {},
     "output_type": "execute_result"
    }
   ],
   "source": [
    "RegularSeasonDetailedResults[:10]"
   ]
  },
  {
   "cell_type": "code",
   "execution_count": 32,
   "metadata": {
    "collapsed": false
   },
   "outputs": [
    {
     "data": {
      "text/html": [
       "<div>\n",
       "<table border=\"1\" class=\"dataframe\">\n",
       "  <thead>\n",
       "    <tr style=\"text-align: right;\">\n",
       "      <th></th>\n",
       "      <th>Season</th>\n",
       "      <th>Daynum</th>\n",
       "      <th>Wteam</th>\n",
       "      <th>Lteam</th>\n",
       "      <th>Numot</th>\n",
       "      <th>Wfgm</th>\n",
       "      <th>Wfga</th>\n",
       "      <th>Wfgm3</th>\n",
       "      <th>Wfga3</th>\n",
       "      <th>Wftm</th>\n",
       "      <th>...</th>\n",
       "      <th>Lfga3</th>\n",
       "      <th>Lftm</th>\n",
       "      <th>Lfta</th>\n",
       "      <th>Lor</th>\n",
       "      <th>Ldr</th>\n",
       "      <th>Last</th>\n",
       "      <th>Lto</th>\n",
       "      <th>Lstl</th>\n",
       "      <th>Lblk</th>\n",
       "      <th>Lpf</th>\n",
       "    </tr>\n",
       "  </thead>\n",
       "  <tbody>\n",
       "    <tr>\n",
       "      <th>0</th>\n",
       "      <td>2003</td>\n",
       "      <td>10</td>\n",
       "      <td>1104</td>\n",
       "      <td>1328</td>\n",
       "      <td>0</td>\n",
       "      <td>27</td>\n",
       "      <td>58</td>\n",
       "      <td>3</td>\n",
       "      <td>14</td>\n",
       "      <td>11</td>\n",
       "      <td>...</td>\n",
       "      <td>10</td>\n",
       "      <td>16</td>\n",
       "      <td>22</td>\n",
       "      <td>10</td>\n",
       "      <td>22</td>\n",
       "      <td>8</td>\n",
       "      <td>18</td>\n",
       "      <td>9</td>\n",
       "      <td>2</td>\n",
       "      <td>20</td>\n",
       "    </tr>\n",
       "    <tr>\n",
       "      <th>1</th>\n",
       "      <td>2003</td>\n",
       "      <td>10</td>\n",
       "      <td>1272</td>\n",
       "      <td>1393</td>\n",
       "      <td>0</td>\n",
       "      <td>26</td>\n",
       "      <td>62</td>\n",
       "      <td>8</td>\n",
       "      <td>20</td>\n",
       "      <td>10</td>\n",
       "      <td>...</td>\n",
       "      <td>24</td>\n",
       "      <td>9</td>\n",
       "      <td>20</td>\n",
       "      <td>20</td>\n",
       "      <td>25</td>\n",
       "      <td>7</td>\n",
       "      <td>12</td>\n",
       "      <td>8</td>\n",
       "      <td>6</td>\n",
       "      <td>16</td>\n",
       "    </tr>\n",
       "    <tr>\n",
       "      <th>2</th>\n",
       "      <td>2003</td>\n",
       "      <td>11</td>\n",
       "      <td>1437</td>\n",
       "      <td>1266</td>\n",
       "      <td>0</td>\n",
       "      <td>22</td>\n",
       "      <td>73</td>\n",
       "      <td>3</td>\n",
       "      <td>26</td>\n",
       "      <td>14</td>\n",
       "      <td>...</td>\n",
       "      <td>18</td>\n",
       "      <td>17</td>\n",
       "      <td>29</td>\n",
       "      <td>17</td>\n",
       "      <td>26</td>\n",
       "      <td>15</td>\n",
       "      <td>10</td>\n",
       "      <td>5</td>\n",
       "      <td>2</td>\n",
       "      <td>25</td>\n",
       "    </tr>\n",
       "    <tr>\n",
       "      <th>3</th>\n",
       "      <td>2003</td>\n",
       "      <td>11</td>\n",
       "      <td>1296</td>\n",
       "      <td>1457</td>\n",
       "      <td>0</td>\n",
       "      <td>18</td>\n",
       "      <td>38</td>\n",
       "      <td>3</td>\n",
       "      <td>9</td>\n",
       "      <td>17</td>\n",
       "      <td>...</td>\n",
       "      <td>22</td>\n",
       "      <td>8</td>\n",
       "      <td>15</td>\n",
       "      <td>17</td>\n",
       "      <td>20</td>\n",
       "      <td>9</td>\n",
       "      <td>19</td>\n",
       "      <td>4</td>\n",
       "      <td>3</td>\n",
       "      <td>23</td>\n",
       "    </tr>\n",
       "    <tr>\n",
       "      <th>4</th>\n",
       "      <td>2003</td>\n",
       "      <td>11</td>\n",
       "      <td>1400</td>\n",
       "      <td>1208</td>\n",
       "      <td>0</td>\n",
       "      <td>30</td>\n",
       "      <td>61</td>\n",
       "      <td>6</td>\n",
       "      <td>14</td>\n",
       "      <td>11</td>\n",
       "      <td>...</td>\n",
       "      <td>16</td>\n",
       "      <td>17</td>\n",
       "      <td>27</td>\n",
       "      <td>21</td>\n",
       "      <td>15</td>\n",
       "      <td>12</td>\n",
       "      <td>10</td>\n",
       "      <td>7</td>\n",
       "      <td>1</td>\n",
       "      <td>14</td>\n",
       "    </tr>\n",
       "    <tr>\n",
       "      <th>5</th>\n",
       "      <td>2003</td>\n",
       "      <td>11</td>\n",
       "      <td>1186</td>\n",
       "      <td>1458</td>\n",
       "      <td>0</td>\n",
       "      <td>20</td>\n",
       "      <td>46</td>\n",
       "      <td>3</td>\n",
       "      <td>11</td>\n",
       "      <td>12</td>\n",
       "      <td>...</td>\n",
       "      <td>12</td>\n",
       "      <td>23</td>\n",
       "      <td>27</td>\n",
       "      <td>12</td>\n",
       "      <td>24</td>\n",
       "      <td>12</td>\n",
       "      <td>9</td>\n",
       "      <td>9</td>\n",
       "      <td>3</td>\n",
       "      <td>18</td>\n",
       "    </tr>\n",
       "    <tr>\n",
       "      <th>6</th>\n",
       "      <td>2003</td>\n",
       "      <td>12</td>\n",
       "      <td>1161</td>\n",
       "      <td>1236</td>\n",
       "      <td>0</td>\n",
       "      <td>23</td>\n",
       "      <td>55</td>\n",
       "      <td>2</td>\n",
       "      <td>8</td>\n",
       "      <td>32</td>\n",
       "      <td>...</td>\n",
       "      <td>15</td>\n",
       "      <td>20</td>\n",
       "      <td>28</td>\n",
       "      <td>9</td>\n",
       "      <td>21</td>\n",
       "      <td>11</td>\n",
       "      <td>30</td>\n",
       "      <td>10</td>\n",
       "      <td>4</td>\n",
       "      <td>28</td>\n",
       "    </tr>\n",
       "    <tr>\n",
       "      <th>7</th>\n",
       "      <td>2003</td>\n",
       "      <td>12</td>\n",
       "      <td>1186</td>\n",
       "      <td>1457</td>\n",
       "      <td>0</td>\n",
       "      <td>28</td>\n",
       "      <td>62</td>\n",
       "      <td>4</td>\n",
       "      <td>14</td>\n",
       "      <td>15</td>\n",
       "      <td>...</td>\n",
       "      <td>17</td>\n",
       "      <td>17</td>\n",
       "      <td>23</td>\n",
       "      <td>8</td>\n",
       "      <td>25</td>\n",
       "      <td>10</td>\n",
       "      <td>15</td>\n",
       "      <td>14</td>\n",
       "      <td>8</td>\n",
       "      <td>18</td>\n",
       "    </tr>\n",
       "    <tr>\n",
       "      <th>8</th>\n",
       "      <td>2003</td>\n",
       "      <td>12</td>\n",
       "      <td>1156</td>\n",
       "      <td>1194</td>\n",
       "      <td>0</td>\n",
       "      <td>24</td>\n",
       "      <td>52</td>\n",
       "      <td>6</td>\n",
       "      <td>18</td>\n",
       "      <td>12</td>\n",
       "      <td>...</td>\n",
       "      <td>11</td>\n",
       "      <td>10</td>\n",
       "      <td>18</td>\n",
       "      <td>9</td>\n",
       "      <td>22</td>\n",
       "      <td>9</td>\n",
       "      <td>17</td>\n",
       "      <td>9</td>\n",
       "      <td>2</td>\n",
       "      <td>23</td>\n",
       "    </tr>\n",
       "    <tr>\n",
       "      <th>9</th>\n",
       "      <td>2003</td>\n",
       "      <td>12</td>\n",
       "      <td>1296</td>\n",
       "      <td>1458</td>\n",
       "      <td>0</td>\n",
       "      <td>23</td>\n",
       "      <td>52</td>\n",
       "      <td>3</td>\n",
       "      <td>14</td>\n",
       "      <td>7</td>\n",
       "      <td>...</td>\n",
       "      <td>17</td>\n",
       "      <td>15</td>\n",
       "      <td>19</td>\n",
       "      <td>14</td>\n",
       "      <td>22</td>\n",
       "      <td>11</td>\n",
       "      <td>6</td>\n",
       "      <td>12</td>\n",
       "      <td>0</td>\n",
       "      <td>13</td>\n",
       "    </tr>\n",
       "  </tbody>\n",
       "</table>\n",
       "<p>10 rows × 31 columns</p>\n",
       "</div>"
      ],
      "text/plain": [
       "  Season Daynum Wteam Lteam Numot Wfgm Wfga Wfgm3 Wfga3 Wftm ... Lfga3 Lftm  \\\n",
       "0   2003     10  1104  1328     0   27   58     3    14   11 ...    10   16   \n",
       "1   2003     10  1272  1393     0   26   62     8    20   10 ...    24    9   \n",
       "2   2003     11  1437  1266     0   22   73     3    26   14 ...    18   17   \n",
       "3   2003     11  1296  1457     0   18   38     3     9   17 ...    22    8   \n",
       "4   2003     11  1400  1208     0   30   61     6    14   11 ...    16   17   \n",
       "5   2003     11  1186  1458     0   20   46     3    11   12 ...    12   23   \n",
       "6   2003     12  1161  1236     0   23   55     2     8   32 ...    15   20   \n",
       "7   2003     12  1186  1457     0   28   62     4    14   15 ...    17   17   \n",
       "8   2003     12  1156  1194     0   24   52     6    18   12 ...    11   10   \n",
       "9   2003     12  1296  1458     0   23   52     3    14    7 ...    17   15   \n",
       "\n",
       "  Lfta Lor Ldr Last Lto Lstl Lblk Lpf  \n",
       "0   22  10  22    8  18    9    2  20  \n",
       "1   20  20  25    7  12    8    6  16  \n",
       "2   29  17  26   15  10    5    2  25  \n",
       "3   15  17  20    9  19    4    3  23  \n",
       "4   27  21  15   12  10    7    1  14  \n",
       "5   27  12  24   12   9    9    3  18  \n",
       "6   28   9  21   11  30   10    4  28  \n",
       "7   23   8  25   10  15   14    8  18  \n",
       "8   18   9  22    9  17    9    2  23  \n",
       "9   19  14  22   11   6   12    0  13  \n",
       "\n",
       "[10 rows x 31 columns]"
      ]
     },
     "execution_count": 32,
     "metadata": {},
     "output_type": "execute_result"
    }
   ],
   "source": [
    "Reg[:10]"
   ]
  },
  {
   "cell_type": "code",
   "execution_count": 6,
   "metadata": {
    "collapsed": false
   },
   "outputs": [],
   "source": [
    "del Reg['Wloc']"
   ]
  },
  {
   "cell_type": "code",
   "execution_count": 104,
   "metadata": {
    "collapsed": true
   },
   "outputs": [],
   "source": [
    "Reg_y = pd.DataFrame(Reg.Wscore - Reg.Lscore)\n",
    "Reg_y.columns = ['y']\n",
    "del Reg['Wscore']\n",
    "del Reg['Lscore']"
   ]
  },
  {
   "cell_type": "markdown",
   "metadata": {},
   "source": [
    "# Подсчет статистик по командам "
   ]
  },
  {
   "cell_type": "code",
   "execution_count": 27,
   "metadata": {
    "collapsed": false
   },
   "outputs": [
    {
     "name": "stdout",
     "output_type": "stream",
     "text": [
      "355\n"
     ]
    },
    {
     "data": {
      "text/plain": [
       "355"
      ]
     },
     "execution_count": 27,
     "metadata": {},
     "output_type": "execute_result"
    }
   ],
   "source": [
    "print len(Reg.Wteam.unique())\n",
    "len(Reg.Lteam.unique())"
   ]
  },
  {
   "cell_type": "code",
   "execution_count": 177,
   "metadata": {
    "collapsed": false
   },
   "outputs": [],
   "source": [
    "Reg = pd.DataFrame.from_csv(\"Reg.csv\",index_col=None)"
   ]
  },
  {
   "cell_type": "code",
   "execution_count": 106,
   "metadata": {
    "collapsed": false
   },
   "outputs": [],
   "source": [
    "col_1 = ['Season','Daynum','Wteam', 'Wfgm', 'Wfga', 'Wfgm3', 'Wfga3', 'Wftm', 'Wfta', 'Wor', 'Wdr', 'Wast', 'Wto', 'Wstl', 'Wblk', 'Wpf']\n",
    "col_2 = ['Season','Daynum','Lteam','Lfgm', 'Lfga', 'Lfgm3', 'Lfga3', 'Lftm', 'Lfta', 'Lor', 'Ldr', 'Last', 'Lto', 'Lstl', 'Lblk', 'Lpf']\n",
    "stat_w = Reg.groupby('Wteam').sum() \n",
    "for i in col_2:\n",
    "    del stat_w[i]\n",
    "stat_w_count = Reg.groupby('Wteam').count()\n",
    "for i in col_2:\n",
    "    del stat_w_count[i]\n",
    "\n",
    "\n",
    "stat_l = Reg.groupby('Lteam').sum()\n",
    "for i in col_1:\n",
    "    del stat_l[i]\n",
    "stat_l_count = Reg.groupby('Lteam').count()\n",
    "for i in col_1:\n",
    "    del stat_l_count[i]\n",
    "stat_l.columns = stat_w.columns\n",
    "stat_l_count.columns = stat_w_count.columns\n",
    "\n",
    "stat_w = stat_w + stat_l\n",
    "stat_w_count = stat_w_count + stat_l_count\n",
    "stat_w = stat_w * 1.0 / stat_w_count"
   ]
  },
  {
   "cell_type": "code",
   "execution_count": 107,
   "metadata": {
    "collapsed": true
   },
   "outputs": [],
   "source": [
    "stat_w['f1'] = stat_w['Wftm'] * 1.0 / stat_w['Wfta']\n",
    "stat_w['f2'] = stat_w['Wfgm3'] * 1.0 / stat_w['Wfga3']\n",
    "stat_w['f3'] = stat_w['Wfgm'] * 1.0 / stat_w['Wfga']\n"
   ]
  },
  {
   "cell_type": "code",
   "execution_count": 108,
   "metadata": {
    "collapsed": false
   },
   "outputs": [],
   "source": [
    "del stat_w['Wloc']"
   ]
  },
  {
   "cell_type": "code",
   "execution_count": 109,
   "metadata": {
    "collapsed": false
   },
   "outputs": [
    {
     "data": {
      "text/html": [
       "<div>\n",
       "<table border=\"1\" class=\"dataframe\">\n",
       "  <thead>\n",
       "    <tr style=\"text-align: right;\">\n",
       "      <th></th>\n",
       "      <th>Lscore</th>\n",
       "      <th>Numot</th>\n",
       "      <th>Wast</th>\n",
       "      <th>Wblk</th>\n",
       "      <th>Wdr</th>\n",
       "      <th>Wfga</th>\n",
       "      <th>Wfga3</th>\n",
       "      <th>Wfgm</th>\n",
       "      <th>Wfgm3</th>\n",
       "      <th>Wfta</th>\n",
       "      <th>Wftm</th>\n",
       "      <th>Wor</th>\n",
       "      <th>Wpf</th>\n",
       "      <th>Wscore</th>\n",
       "      <th>Wstl</th>\n",
       "      <th>Wto</th>\n",
       "      <th>f1</th>\n",
       "      <th>f2</th>\n",
       "      <th>f3</th>\n",
       "    </tr>\n",
       "    <tr>\n",
       "      <th>Wteam</th>\n",
       "      <th></th>\n",
       "      <th></th>\n",
       "      <th></th>\n",
       "      <th></th>\n",
       "      <th></th>\n",
       "      <th></th>\n",
       "      <th></th>\n",
       "      <th></th>\n",
       "      <th></th>\n",
       "      <th></th>\n",
       "      <th></th>\n",
       "      <th></th>\n",
       "      <th></th>\n",
       "      <th></th>\n",
       "      <th></th>\n",
       "      <th></th>\n",
       "      <th></th>\n",
       "      <th></th>\n",
       "      <th></th>\n",
       "    </tr>\n",
       "  </thead>\n",
       "  <tbody>\n",
       "    <tr>\n",
       "      <th>1101</th>\n",
       "      <td>68.052632</td>\n",
       "      <td>0.065789</td>\n",
       "      <td>11.710526</td>\n",
       "      <td>1.710526</td>\n",
       "      <td>20.855263</td>\n",
       "      <td>52.513158</td>\n",
       "      <td>18.697368</td>\n",
       "      <td>21.973684</td>\n",
       "      <td>6.947368</td>\n",
       "      <td>19.092105</td>\n",
       "      <td>13.842105</td>\n",
       "      <td>8.157895</td>\n",
       "      <td>21.500000</td>\n",
       "      <td>71.973684</td>\n",
       "      <td>6.171053</td>\n",
       "      <td>13.631579</td>\n",
       "      <td>0.725017</td>\n",
       "      <td>0.371569</td>\n",
       "      <td>0.418441</td>\n",
       "    </tr>\n",
       "    <tr>\n",
       "      <th>1102</th>\n",
       "      <td>62.035088</td>\n",
       "      <td>0.040100</td>\n",
       "      <td>13.631579</td>\n",
       "      <td>2.042607</td>\n",
       "      <td>20.328321</td>\n",
       "      <td>47.065163</td>\n",
       "      <td>20.390977</td>\n",
       "      <td>21.436090</td>\n",
       "      <td>7.428571</td>\n",
       "      <td>17.298246</td>\n",
       "      <td>12.010025</td>\n",
       "      <td>6.804511</td>\n",
       "      <td>17.360902</td>\n",
       "      <td>61.944862</td>\n",
       "      <td>6.373434</td>\n",
       "      <td>11.969925</td>\n",
       "      <td>0.694292</td>\n",
       "      <td>0.364307</td>\n",
       "      <td>0.455456</td>\n",
       "    </tr>\n",
       "    <tr>\n",
       "      <th>1103</th>\n",
       "      <td>68.828054</td>\n",
       "      <td>0.099548</td>\n",
       "      <td>14.022624</td>\n",
       "      <td>3.597285</td>\n",
       "      <td>22.911765</td>\n",
       "      <td>55.748869</td>\n",
       "      <td>21.081448</td>\n",
       "      <td>24.794118</td>\n",
       "      <td>7.590498</td>\n",
       "      <td>20.875566</td>\n",
       "      <td>14.251131</td>\n",
       "      <td>11.429864</td>\n",
       "      <td>18.995475</td>\n",
       "      <td>68.656109</td>\n",
       "      <td>6.787330</td>\n",
       "      <td>12.984163</td>\n",
       "      <td>0.682670</td>\n",
       "      <td>0.360056</td>\n",
       "      <td>0.444747</td>\n",
       "    </tr>\n",
       "    <tr>\n",
       "      <th>1104</th>\n",
       "      <td>67.692130</td>\n",
       "      <td>0.074074</td>\n",
       "      <td>12.166667</td>\n",
       "      <td>4.416667</td>\n",
       "      <td>24.178241</td>\n",
       "      <td>54.837963</td>\n",
       "      <td>17.574074</td>\n",
       "      <td>24.400463</td>\n",
       "      <td>6.006944</td>\n",
       "      <td>20.854167</td>\n",
       "      <td>14.534722</td>\n",
       "      <td>11.678241</td>\n",
       "      <td>17.402778</td>\n",
       "      <td>67.224537</td>\n",
       "      <td>6.868056</td>\n",
       "      <td>13.127315</td>\n",
       "      <td>0.696970</td>\n",
       "      <td>0.341807</td>\n",
       "      <td>0.444956</td>\n",
       "    </tr>\n",
       "    <tr>\n",
       "      <th>1105</th>\n",
       "      <td>68.008108</td>\n",
       "      <td>0.059459</td>\n",
       "      <td>11.691892</td>\n",
       "      <td>4.037838</td>\n",
       "      <td>23.294595</td>\n",
       "      <td>56.575676</td>\n",
       "      <td>18.262162</td>\n",
       "      <td>22.432432</td>\n",
       "      <td>5.551351</td>\n",
       "      <td>22.691892</td>\n",
       "      <td>14.867568</td>\n",
       "      <td>12.121622</td>\n",
       "      <td>20.118919</td>\n",
       "      <td>67.354054</td>\n",
       "      <td>7.394595</td>\n",
       "      <td>15.456757</td>\n",
       "      <td>0.655193</td>\n",
       "      <td>0.303981</td>\n",
       "      <td>0.396503</td>\n",
       "    </tr>\n",
       "  </tbody>\n",
       "</table>\n",
       "</div>"
      ],
      "text/plain": [
       "          Lscore     Numot       Wast      Wblk        Wdr       Wfga  \\\n",
       "Wteam                                                                   \n",
       "1101   68.052632  0.065789  11.710526  1.710526  20.855263  52.513158   \n",
       "1102   62.035088  0.040100  13.631579  2.042607  20.328321  47.065163   \n",
       "1103   68.828054  0.099548  14.022624  3.597285  22.911765  55.748869   \n",
       "1104   67.692130  0.074074  12.166667  4.416667  24.178241  54.837963   \n",
       "1105   68.008108  0.059459  11.691892  4.037838  23.294595  56.575676   \n",
       "\n",
       "           Wfga3       Wfgm     Wfgm3       Wfta       Wftm        Wor  \\\n",
       "Wteam                                                                    \n",
       "1101   18.697368  21.973684  6.947368  19.092105  13.842105   8.157895   \n",
       "1102   20.390977  21.436090  7.428571  17.298246  12.010025   6.804511   \n",
       "1103   21.081448  24.794118  7.590498  20.875566  14.251131  11.429864   \n",
       "1104   17.574074  24.400463  6.006944  20.854167  14.534722  11.678241   \n",
       "1105   18.262162  22.432432  5.551351  22.691892  14.867568  12.121622   \n",
       "\n",
       "             Wpf     Wscore      Wstl        Wto        f1        f2        f3  \n",
       "Wteam                                                                           \n",
       "1101   21.500000  71.973684  6.171053  13.631579  0.725017  0.371569  0.418441  \n",
       "1102   17.360902  61.944862  6.373434  11.969925  0.694292  0.364307  0.455456  \n",
       "1103   18.995475  68.656109  6.787330  12.984163  0.682670  0.360056  0.444747  \n",
       "1104   17.402778  67.224537  6.868056  13.127315  0.696970  0.341807  0.444956  \n",
       "1105   20.118919  67.354054  7.394595  15.456757  0.655193  0.303981  0.396503  "
      ]
     },
     "execution_count": 109,
     "metadata": {},
     "output_type": "execute_result"
    }
   ],
   "source": [
    "stat_w[:5]\n"
   ]
  },
  {
   "cell_type": "code",
   "execution_count": 110,
   "metadata": {
    "collapsed": true
   },
   "outputs": [],
   "source": [
    "stat_w_tmp = stat_w"
   ]
  },
  {
   "cell_type": "code",
   "execution_count": 187,
   "metadata": {
    "collapsed": false
   },
   "outputs": [
    {
     "data": {
      "text/plain": [
       "13.631578947368421"
      ]
     },
     "execution_count": 187,
     "metadata": {},
     "output_type": "execute_result"
    }
   ],
   "source": [
    "(Reg[Reg.Wteam == 1101].Wto.sum() * 1.0 + Reg[Reg.Lteam == 1101].Lto.sum()) *1.0 \\\n",
    "/ (len(Reg[Reg.Wteam == 1101].Wfgm) + len(Reg[Reg.Lteam == 1101].Lfgm)) "
   ]
  },
  {
   "cell_type": "code",
   "execution_count": 178,
   "metadata": {
    "collapsed": false
   },
   "outputs": [
    {
     "data": {
      "text/plain": [
       "355"
      ]
     },
     "execution_count": 178,
     "metadata": {},
     "output_type": "execute_result"
    }
   ],
   "source": [
    "Reg = Reg[['Wteam', 'Lteam', 'Season']]\n",
    "Reg['idx'] = Reg.index\n",
    "len(Reg.Wteam.unique())"
   ]
  },
  {
   "cell_type": "code",
   "execution_count": 167,
   "metadata": {
    "collapsed": false
   },
   "outputs": [
    {
     "data": {
      "text/plain": [
       "71241"
      ]
     },
     "execution_count": 167,
     "metadata": {},
     "output_type": "execute_result"
    }
   ],
   "source": [
    "len(Reg)"
   ]
  },
  {
   "cell_type": "code",
   "execution_count": 143,
   "metadata": {
    "collapsed": false
   },
   "outputs": [
    {
     "data": {
      "text/html": [
       "<div>\n",
       "<table border=\"1\" class=\"dataframe\">\n",
       "  <thead>\n",
       "    <tr style=\"text-align: right;\">\n",
       "      <th></th>\n",
       "      <th>Wteam</th>\n",
       "      <th>Lteam</th>\n",
       "      <th>Season</th>\n",
       "      <th>idx</th>\n",
       "    </tr>\n",
       "  </thead>\n",
       "  <tbody>\n",
       "    <tr>\n",
       "      <th>0</th>\n",
       "      <td>1104</td>\n",
       "      <td>1328</td>\n",
       "      <td>2003</td>\n",
       "      <td>0</td>\n",
       "    </tr>\n",
       "  </tbody>\n",
       "</table>\n",
       "</div>"
      ],
      "text/plain": [
       "  Wteam Lteam  Season  idx\n",
       "0  1104  1328    2003    0"
      ]
     },
     "execution_count": 143,
     "metadata": {},
     "output_type": "execute_result"
    }
   ],
   "source": [
    "Reg[:1]"
   ]
  },
  {
   "cell_type": "code",
   "execution_count": 179,
   "metadata": {
    "collapsed": false
   },
   "outputs": [],
   "source": [
    "Sub = pd.DataFrame.from_csv(\"SampleSubmission.csv\",index_col=None)"
   ]
  },
  {
   "cell_type": "code",
   "execution_count": 180,
   "metadata": {
    "collapsed": false
   },
   "outputs": [],
   "source": [
    "for i in Sub.index:\n",
    "    Sub.ix[i, 'Wteam'] = int(Sub.ix[i,0].split('_')[1])\n",
    "for i in Sub.index:\n",
    "    Sub.ix[i, 'Lteam'] = int(Sub.ix[i,0].split('_')[2])\n",
    "Sub['Season'] = 2017\n",
    "Sub['idx'] = Sub.index\n",
    "del Sub['Pred']\n",
    "del Sub['Id']"
   ]
  },
  {
   "cell_type": "code",
   "execution_count": 181,
   "metadata": {
    "collapsed": false
   },
   "outputs": [
    {
     "data": {
      "text/plain": [
       "array([ 1112.,  1116.,  1124.,  1137.,  1139.,  1153.,  1166.,  1173.,\n",
       "        1181.,  1190.,  1195.,  1196.,  1199.,  1211.,  1233.,  1235.,\n",
       "        1240.,  1242.,  1243.,  1245.,  1246.,  1257.,  1266.,  1268.,\n",
       "        1274.,  1276.,  1277.,  1278.,  1291.,  1292.,  1297.,  1300.,\n",
       "        1305.,  1308.,  1309.,  1314.,  1315.,  1321.,  1323.,  1329.,\n",
       "        1332.,  1343.,  1344.,  1345.,  1348.,  1355.,  1371.,  1374.,\n",
       "        1376.,  1388.,  1407.,  1411.,  1413.,  1417.,  1423.,  1425.,\n",
       "        1433.,  1435.,  1436.,  1437.,  1438.,  1439.,  1448.,  1452.,\n",
       "        1455.,  1457.,  1458.])"
      ]
     },
     "execution_count": 181,
     "metadata": {},
     "output_type": "execute_result"
    }
   ],
   "source": [
    "Sub.Wteam.unique()"
   ]
  },
  {
   "cell_type": "code",
   "execution_count": 183,
   "metadata": {
    "collapsed": true
   },
   "outputs": [],
   "source": [
    "Reg = pd.concat([Reg, Sub], axis=0)\n",
    "    "
   ]
  },
  {
   "cell_type": "code",
   "execution_count": 184,
   "metadata": {
    "collapsed": false
   },
   "outputs": [],
   "source": [
    "Reg.index = range(len(Reg))\n",
    "Reg.idx = Reg.index"
   ]
  },
  {
   "cell_type": "code",
   "execution_count": 185,
   "metadata": {
    "collapsed": false
   },
   "outputs": [
    {
     "data": {
      "text/plain": [
       "73519"
      ]
     },
     "execution_count": 185,
     "metadata": {},
     "output_type": "execute_result"
    }
   ],
   "source": [
    "len(Reg)"
   ]
  },
  {
   "cell_type": "code",
   "execution_count": 186,
   "metadata": {
    "collapsed": true
   },
   "outputs": [],
   "source": [
    "stat_w_good = stat_w"
   ]
  },
  {
   "cell_type": "code",
   "execution_count": 187,
   "metadata": {
    "collapsed": true
   },
   "outputs": [],
   "source": [
    "stat_w_good['Wteam'] = stat_w_good.index"
   ]
  },
  {
   "cell_type": "code",
   "execution_count": 188,
   "metadata": {
    "collapsed": false
   },
   "outputs": [
    {
     "name": "stdout",
     "output_type": "stream",
     "text": [
      "73519\n"
     ]
    },
    {
     "name": "stderr",
     "output_type": "stream",
     "text": [
      "/home/fartuk/anaconda2/lib/python2.7/site-packages/ipykernel/__main__.py:1: FutureWarning: sort(columns=....) is deprecated, use sort_values(by=.....)\n",
      "  if __name__ == '__main__':\n",
      "/home/fartuk/anaconda2/lib/python2.7/site-packages/ipykernel/__main__.py:5: FutureWarning: sort(columns=....) is deprecated, use sort_values(by=.....)\n"
     ]
    }
   ],
   "source": [
    "Reg = pd.merge(Reg, stat_w_good, on='Wteam').sort(columns=['idx'])\n",
    "print len(Reg)\n",
    "del stat_w_good['Wteam']\n",
    "stat_w_good['Lteam']= stat_w_good.index\n",
    "Reg = pd.merge(Reg, stat_w, on='Lteam').sort(columns=['idx'])\n",
    "del stat_w_good['Lteam']"
   ]
  },
  {
   "cell_type": "code",
   "execution_count": 189,
   "metadata": {
    "collapsed": true
   },
   "outputs": [],
   "source": [
    "Reg.index = Reg.idx\n",
    "del Reg['idx']"
   ]
  },
  {
   "cell_type": "code",
   "execution_count": 190,
   "metadata": {
    "collapsed": false
   },
   "outputs": [
    {
     "data": {
      "text/plain": [
       "73519"
      ]
     },
     "execution_count": 190,
     "metadata": {},
     "output_type": "execute_result"
    }
   ],
   "source": [
    "len(Reg)"
   ]
  },
  {
   "cell_type": "code",
   "execution_count": 18,
   "metadata": {
    "collapsed": true
   },
   "outputs": [],
   "source": [
    "Reg_ch = Reg"
   ]
  },
  {
   "cell_type": "markdown",
   "metadata": {},
   "source": [
    "#### в плейофф"
   ]
  },
  {
   "cell_type": "code",
   "execution_count": 76,
   "metadata": {
    "collapsed": true
   },
   "outputs": [],
   "source": [
    "Reg = pd.DataFrame.from_csv(\"Reg_playoff.csv\",index_col=None)"
   ]
  },
  {
   "cell_type": "code",
   "execution_count": 77,
   "metadata": {
    "collapsed": true
   },
   "outputs": [],
   "source": [
    "col_1 = ['Season','Daynum','Wteam', 'Wfgm', 'Wfga', 'Wfgm3', 'Wfga3', 'Wftm', 'Wfta', 'Wor', 'Wdr', 'Wast', 'Wto', 'Wstl', 'Wblk', 'Wpf']\n",
    "col_2 = ['Season','Daynum','Lteam','Lfgm', 'Lfga', 'Lfgm3', 'Lfga3', 'Lftm', 'Lfta', 'Lor', 'Ldr', 'Last', 'Lto', 'Lstl', 'Lblk', 'Lpf']\n",
    "stat_w = Reg.groupby('Wteam').sum() \n",
    "for i in col_2:\n",
    "    del stat_w[i]\n",
    "stat_w_count = Reg.groupby('Wteam').count()\n",
    "for i in col_2:\n",
    "    del stat_w_count[i]\n",
    "\n",
    "\n",
    "stat_l = Reg.groupby('Lteam').sum()\n",
    "for i in col_1:\n",
    "    del stat_l[i]\n",
    "stat_l_count = Reg.groupby('Lteam').count()\n",
    "for i in col_1:\n",
    "    del stat_l_count[i]\n",
    "stat_l.columns = stat_w.columns\n",
    "stat_l_count.columns = stat_w_count.columns\n",
    "\n",
    "stat_w = stat_w + stat_l\n",
    "stat_w_count = stat_w_count + stat_l_count\n",
    "stat_w = stat_w * 1.0 / stat_w_count"
   ]
  },
  {
   "cell_type": "code",
   "execution_count": 78,
   "metadata": {
    "collapsed": true
   },
   "outputs": [],
   "source": [
    "stat_w['f1'] = stat_w['Wftm'] * 1.0 / stat_w['Wfta']\n",
    "stat_w['f2'] = stat_w['Wfgm3'] * 1.0 / stat_w['Wfga3']\n",
    "stat_w['f3'] = stat_w['Wfgm'] * 1.0 / stat_w['Wfga']"
   ]
  },
  {
   "cell_type": "code",
   "execution_count": 79,
   "metadata": {
    "collapsed": false
   },
   "outputs": [],
   "source": [
    "del stat_w['Wloc']\n"
   ]
  },
  {
   "cell_type": "code",
   "execution_count": 80,
   "metadata": {
    "collapsed": true
   },
   "outputs": [],
   "source": [
    "stat_w.columns = stat_w.columns + '_in'"
   ]
  },
  {
   "cell_type": "code",
   "execution_count": 81,
   "metadata": {
    "collapsed": true
   },
   "outputs": [],
   "source": [
    "stat_w = pd.concat([stat_w,stat_w_tmp], axis=1)"
   ]
  },
  {
   "cell_type": "code",
   "execution_count": 82,
   "metadata": {
    "collapsed": false
   },
   "outputs": [],
   "source": [
    "stat_w_good = stat_w"
   ]
  },
  {
   "cell_type": "code",
   "execution_count": 87,
   "metadata": {
    "collapsed": false
   },
   "outputs": [
    {
     "data": {
      "text/html": [
       "<div>\n",
       "<table border=\"1\" class=\"dataframe\">\n",
       "  <thead>\n",
       "    <tr style=\"text-align: right;\">\n",
       "      <th></th>\n",
       "      <th>Lscore_in</th>\n",
       "      <th>Numot_in</th>\n",
       "      <th>Wast_in</th>\n",
       "      <th>Wblk_in</th>\n",
       "      <th>Wdr_in</th>\n",
       "      <th>Wfga_in</th>\n",
       "      <th>Wfga3_in</th>\n",
       "      <th>Wfgm_in</th>\n",
       "      <th>Wfgm3_in</th>\n",
       "      <th>Wfta_in</th>\n",
       "      <th>...</th>\n",
       "      <th>Wftm</th>\n",
       "      <th>Wor</th>\n",
       "      <th>Wpf</th>\n",
       "      <th>Wscore</th>\n",
       "      <th>Wstl</th>\n",
       "      <th>Wto</th>\n",
       "      <th>f1</th>\n",
       "      <th>f2</th>\n",
       "      <th>f3</th>\n",
       "      <th>Wteam</th>\n",
       "    </tr>\n",
       "  </thead>\n",
       "  <tbody>\n",
       "    <tr>\n",
       "      <th>1101</th>\n",
       "      <td>NaN</td>\n",
       "      <td>NaN</td>\n",
       "      <td>NaN</td>\n",
       "      <td>NaN</td>\n",
       "      <td>NaN</td>\n",
       "      <td>NaN</td>\n",
       "      <td>NaN</td>\n",
       "      <td>NaN</td>\n",
       "      <td>NaN</td>\n",
       "      <td>NaN</td>\n",
       "      <td>...</td>\n",
       "      <td>13.842105</td>\n",
       "      <td>8.157895</td>\n",
       "      <td>21.500000</td>\n",
       "      <td>71.973684</td>\n",
       "      <td>6.171053</td>\n",
       "      <td>13.631579</td>\n",
       "      <td>0.725017</td>\n",
       "      <td>0.371569</td>\n",
       "      <td>0.418441</td>\n",
       "      <td>1101</td>\n",
       "    </tr>\n",
       "    <tr>\n",
       "      <th>1102</th>\n",
       "      <td>65.000000</td>\n",
       "      <td>0.0</td>\n",
       "      <td>15.000000</td>\n",
       "      <td>1.500000</td>\n",
       "      <td>16.500000</td>\n",
       "      <td>40.000000</td>\n",
       "      <td>26.0</td>\n",
       "      <td>19.000000</td>\n",
       "      <td>10.500000</td>\n",
       "      <td>15.500000</td>\n",
       "      <td>...</td>\n",
       "      <td>12.010025</td>\n",
       "      <td>6.804511</td>\n",
       "      <td>17.360902</td>\n",
       "      <td>61.944862</td>\n",
       "      <td>6.373434</td>\n",
       "      <td>11.969925</td>\n",
       "      <td>0.694292</td>\n",
       "      <td>0.364307</td>\n",
       "      <td>0.455456</td>\n",
       "      <td>1102</td>\n",
       "    </tr>\n",
       "    <tr>\n",
       "      <th>1103</th>\n",
       "      <td>NaN</td>\n",
       "      <td>NaN</td>\n",
       "      <td>NaN</td>\n",
       "      <td>NaN</td>\n",
       "      <td>NaN</td>\n",
       "      <td>NaN</td>\n",
       "      <td>NaN</td>\n",
       "      <td>NaN</td>\n",
       "      <td>NaN</td>\n",
       "      <td>NaN</td>\n",
       "      <td>...</td>\n",
       "      <td>14.251131</td>\n",
       "      <td>11.429864</td>\n",
       "      <td>18.995475</td>\n",
       "      <td>68.656109</td>\n",
       "      <td>6.787330</td>\n",
       "      <td>12.984163</td>\n",
       "      <td>0.682670</td>\n",
       "      <td>0.360056</td>\n",
       "      <td>0.444747</td>\n",
       "      <td>1103</td>\n",
       "    </tr>\n",
       "    <tr>\n",
       "      <th>1104</th>\n",
       "      <td>70.888889</td>\n",
       "      <td>0.0</td>\n",
       "      <td>12.777778</td>\n",
       "      <td>4.444444</td>\n",
       "      <td>21.111111</td>\n",
       "      <td>50.222222</td>\n",
       "      <td>18.0</td>\n",
       "      <td>23.111111</td>\n",
       "      <td>6.777778</td>\n",
       "      <td>22.333333</td>\n",
       "      <td>...</td>\n",
       "      <td>14.534722</td>\n",
       "      <td>11.678241</td>\n",
       "      <td>17.402778</td>\n",
       "      <td>67.224537</td>\n",
       "      <td>6.868056</td>\n",
       "      <td>13.127315</td>\n",
       "      <td>0.696970</td>\n",
       "      <td>0.341807</td>\n",
       "      <td>0.444956</td>\n",
       "      <td>1104</td>\n",
       "    </tr>\n",
       "    <tr>\n",
       "      <th>1105</th>\n",
       "      <td>NaN</td>\n",
       "      <td>NaN</td>\n",
       "      <td>NaN</td>\n",
       "      <td>NaN</td>\n",
       "      <td>NaN</td>\n",
       "      <td>NaN</td>\n",
       "      <td>NaN</td>\n",
       "      <td>NaN</td>\n",
       "      <td>NaN</td>\n",
       "      <td>NaN</td>\n",
       "      <td>...</td>\n",
       "      <td>14.867568</td>\n",
       "      <td>12.121622</td>\n",
       "      <td>20.118919</td>\n",
       "      <td>67.354054</td>\n",
       "      <td>7.394595</td>\n",
       "      <td>15.456757</td>\n",
       "      <td>0.655193</td>\n",
       "      <td>0.303981</td>\n",
       "      <td>0.396503</td>\n",
       "      <td>1105</td>\n",
       "    </tr>\n",
       "  </tbody>\n",
       "</table>\n",
       "<p>5 rows × 39 columns</p>\n",
       "</div>"
      ],
      "text/plain": [
       "      Lscore_in  Numot_in    Wast_in   Wblk_in     Wdr_in    Wfga_in  \\\n",
       "1101        NaN       NaN        NaN       NaN        NaN        NaN   \n",
       "1102  65.000000       0.0  15.000000  1.500000  16.500000  40.000000   \n",
       "1103        NaN       NaN        NaN       NaN        NaN        NaN   \n",
       "1104  70.888889       0.0  12.777778  4.444444  21.111111  50.222222   \n",
       "1105        NaN       NaN        NaN       NaN        NaN        NaN   \n",
       "\n",
       "      Wfga3_in    Wfgm_in   Wfgm3_in    Wfta_in  ...         Wftm        Wor  \\\n",
       "1101       NaN        NaN        NaN        NaN  ...    13.842105   8.157895   \n",
       "1102      26.0  19.000000  10.500000  15.500000  ...    12.010025   6.804511   \n",
       "1103       NaN        NaN        NaN        NaN  ...    14.251131  11.429864   \n",
       "1104      18.0  23.111111   6.777778  22.333333  ...    14.534722  11.678241   \n",
       "1105       NaN        NaN        NaN        NaN  ...    14.867568  12.121622   \n",
       "\n",
       "            Wpf     Wscore      Wstl        Wto        f1        f2        f3  \\\n",
       "1101  21.500000  71.973684  6.171053  13.631579  0.725017  0.371569  0.418441   \n",
       "1102  17.360902  61.944862  6.373434  11.969925  0.694292  0.364307  0.455456   \n",
       "1103  18.995475  68.656109  6.787330  12.984163  0.682670  0.360056  0.444747   \n",
       "1104  17.402778  67.224537  6.868056  13.127315  0.696970  0.341807  0.444956   \n",
       "1105  20.118919  67.354054  7.394595  15.456757  0.655193  0.303981  0.396503   \n",
       "\n",
       "      Wteam  \n",
       "1101   1101  \n",
       "1102   1102  \n",
       "1103   1103  \n",
       "1104   1104  \n",
       "1105   1105  \n",
       "\n",
       "[5 rows x 39 columns]"
      ]
     },
     "execution_count": 87,
     "metadata": {},
     "output_type": "execute_result"
    }
   ],
   "source": [
    "stat_w_good[:5]"
   ]
  },
  {
   "cell_type": "code",
   "execution_count": 85,
   "metadata": {
    "collapsed": false
   },
   "outputs": [
    {
     "data": {
      "text/plain": [
       "196"
      ]
     },
     "execution_count": 85,
     "metadata": {},
     "output_type": "execute_result"
    }
   ],
   "source": [
    "Reg = Reg[['Wteam', 'Lteam', 'Season']]\n",
    "Reg['idx'] = Reg.index\n",
    "len(Reg.Wteam.unique())"
   ]
  },
  {
   "cell_type": "code",
   "execution_count": 86,
   "metadata": {
    "collapsed": true
   },
   "outputs": [],
   "source": [
    "stat_w_good['Wteam'] = stat_w_good.index"
   ]
  },
  {
   "cell_type": "code",
   "execution_count": 89,
   "metadata": {
    "collapsed": false
   },
   "outputs": [
    {
     "name": "stderr",
     "output_type": "stream",
     "text": [
      "/home/fartuk/anaconda2/lib/python2.7/site-packages/ipykernel/__main__.py:1: FutureWarning: sort(columns=....) is deprecated, use sort_values(by=.....)\n",
      "  if __name__ == '__main__':\n",
      "/home/fartuk/anaconda2/lib/python2.7/site-packages/ipykernel/__main__.py:4: FutureWarning: sort(columns=....) is deprecated, use sort_values(by=.....)\n"
     ]
    }
   ],
   "source": [
    "Reg = pd.merge(Reg, stat_w_good, on='Wteam').sort(columns=['idx'])\n",
    "del stat_w_good['Wteam']\n",
    "stat_w_good['Lteam']= stat_w_good.index\n",
    "Reg = pd.merge(Reg, stat_w, on='Lteam').sort(columns=['idx'])\n",
    "del stat_w_good['Lteam']"
   ]
  },
  {
   "cell_type": "code",
   "execution_count": 91,
   "metadata": {
    "collapsed": true
   },
   "outputs": [],
   "source": [
    "Reg.index = Reg.idx\n",
    "del Reg['idx']"
   ]
  },
  {
   "cell_type": "code",
   "execution_count": 93,
   "metadata": {
    "collapsed": false
   },
   "outputs": [
    {
     "data": {
      "text/html": [
       "<div>\n",
       "<table border=\"1\" class=\"dataframe\">\n",
       "  <thead>\n",
       "    <tr style=\"text-align: right;\">\n",
       "      <th></th>\n",
       "      <th>Wteam</th>\n",
       "      <th>Lteam</th>\n",
       "      <th>Season</th>\n",
       "      <th>Lscore_in_x</th>\n",
       "      <th>Numot_in_x</th>\n",
       "      <th>Wast_in_x</th>\n",
       "      <th>Wblk_in_x</th>\n",
       "      <th>Wdr_in_x</th>\n",
       "      <th>Wfga_in_x</th>\n",
       "      <th>Wfga3_in_x</th>\n",
       "      <th>...</th>\n",
       "      <th>Wfta_y</th>\n",
       "      <th>Wftm_y</th>\n",
       "      <th>Wor_y</th>\n",
       "      <th>Wpf_y</th>\n",
       "      <th>Wscore_y</th>\n",
       "      <th>Wstl_y</th>\n",
       "      <th>Wto_y</th>\n",
       "      <th>f1_y</th>\n",
       "      <th>f2_y</th>\n",
       "      <th>f3_y</th>\n",
       "    </tr>\n",
       "    <tr>\n",
       "      <th>idx</th>\n",
       "      <th></th>\n",
       "      <th></th>\n",
       "      <th></th>\n",
       "      <th></th>\n",
       "      <th></th>\n",
       "      <th></th>\n",
       "      <th></th>\n",
       "      <th></th>\n",
       "      <th></th>\n",
       "      <th></th>\n",
       "      <th></th>\n",
       "      <th></th>\n",
       "      <th></th>\n",
       "      <th></th>\n",
       "      <th></th>\n",
       "      <th></th>\n",
       "      <th></th>\n",
       "      <th></th>\n",
       "      <th></th>\n",
       "      <th></th>\n",
       "      <th></th>\n",
       "    </tr>\n",
       "  </thead>\n",
       "  <tbody>\n",
       "    <tr>\n",
       "      <th>0</th>\n",
       "      <td>1411</td>\n",
       "      <td>1421</td>\n",
       "      <td>2003</td>\n",
       "      <td>81.666667</td>\n",
       "      <td>0.333333</td>\n",
       "      <td>11.000000</td>\n",
       "      <td>1.333333</td>\n",
       "      <td>18.333333</td>\n",
       "      <td>56.000000</td>\n",
       "      <td>18.666667</td>\n",
       "      <td>...</td>\n",
       "      <td>21.577215</td>\n",
       "      <td>15.410127</td>\n",
       "      <td>11.513924</td>\n",
       "      <td>17.974684</td>\n",
       "      <td>72.754430</td>\n",
       "      <td>7.397468</td>\n",
       "      <td>15.050633</td>\n",
       "      <td>0.714185</td>\n",
       "      <td>0.341347</td>\n",
       "      <td>0.439538</td>\n",
       "    </tr>\n",
       "    <tr>\n",
       "      <th>1</th>\n",
       "      <td>1436</td>\n",
       "      <td>1112</td>\n",
       "      <td>2003</td>\n",
       "      <td>62.142857</td>\n",
       "      <td>0.142857</td>\n",
       "      <td>11.142857</td>\n",
       "      <td>1.428571</td>\n",
       "      <td>20.428571</td>\n",
       "      <td>61.714286</td>\n",
       "      <td>20.285714</td>\n",
       "      <td>...</td>\n",
       "      <td>22.648770</td>\n",
       "      <td>16.449664</td>\n",
       "      <td>11.731544</td>\n",
       "      <td>16.863535</td>\n",
       "      <td>71.796421</td>\n",
       "      <td>6.586130</td>\n",
       "      <td>13.058166</td>\n",
       "      <td>0.726294</td>\n",
       "      <td>0.372087</td>\n",
       "      <td>0.466868</td>\n",
       "    </tr>\n",
       "    <tr>\n",
       "      <th>2</th>\n",
       "      <td>1272</td>\n",
       "      <td>1113</td>\n",
       "      <td>2003</td>\n",
       "      <td>68.769231</td>\n",
       "      <td>0.038462</td>\n",
       "      <td>13.307692</td>\n",
       "      <td>4.730769</td>\n",
       "      <td>22.576923</td>\n",
       "      <td>58.076923</td>\n",
       "      <td>18.192308</td>\n",
       "      <td>...</td>\n",
       "      <td>20.967517</td>\n",
       "      <td>14.526682</td>\n",
       "      <td>10.331787</td>\n",
       "      <td>18.211137</td>\n",
       "      <td>68.684455</td>\n",
       "      <td>5.995360</td>\n",
       "      <td>13.313225</td>\n",
       "      <td>0.692818</td>\n",
       "      <td>0.352021</td>\n",
       "      <td>0.446391</td>\n",
       "    </tr>\n",
       "  </tbody>\n",
       "</table>\n",
       "<p>3 rows × 79 columns</p>\n",
       "</div>"
      ],
      "text/plain": [
       "     Wteam  Lteam  Season  Lscore_in_x  Numot_in_x  Wast_in_x  Wblk_in_x  \\\n",
       "idx                                                                        \n",
       "0     1411   1421    2003    81.666667    0.333333  11.000000   1.333333   \n",
       "1     1436   1112    2003    62.142857    0.142857  11.142857   1.428571   \n",
       "2     1272   1113    2003    68.769231    0.038462  13.307692   4.730769   \n",
       "\n",
       "      Wdr_in_x  Wfga_in_x  Wfga3_in_x    ...        Wfta_y     Wftm_y  \\\n",
       "idx                                      ...                            \n",
       "0    18.333333  56.000000   18.666667    ...     21.577215  15.410127   \n",
       "1    20.428571  61.714286   20.285714    ...     22.648770  16.449664   \n",
       "2    22.576923  58.076923   18.192308    ...     20.967517  14.526682   \n",
       "\n",
       "         Wor_y      Wpf_y   Wscore_y    Wstl_y      Wto_y      f1_y      f2_y  \\\n",
       "idx                                                                             \n",
       "0    11.513924  17.974684  72.754430  7.397468  15.050633  0.714185  0.341347   \n",
       "1    11.731544  16.863535  71.796421  6.586130  13.058166  0.726294  0.372087   \n",
       "2    10.331787  18.211137  68.684455  5.995360  13.313225  0.692818  0.352021   \n",
       "\n",
       "         f3_y  \n",
       "idx            \n",
       "0    0.439538  \n",
       "1    0.466868  \n",
       "2    0.446391  \n",
       "\n",
       "[3 rows x 79 columns]"
      ]
     },
     "execution_count": 93,
     "metadata": {},
     "output_type": "execute_result"
    }
   ],
   "source": [
    "Reg[:3]"
   ]
  },
  {
   "cell_type": "code",
   "execution_count": 94,
   "metadata": {
    "collapsed": true
   },
   "outputs": [],
   "source": [
    "Reg_playoff = Reg"
   ]
  },
  {
   "cell_type": "code",
   "execution_count": 105,
   "metadata": {
    "collapsed": false
   },
   "outputs": [
    {
     "name": "stdout",
     "output_type": "stream",
     "text": [
      "(914, 79)\n",
      "(71241, 79)\n"
     ]
    }
   ],
   "source": [
    "print Reg_playoff.shape\n",
    "print Reg_ch.shape"
   ]
  },
  {
   "cell_type": "code",
   "execution_count": 106,
   "metadata": {
    "collapsed": true
   },
   "outputs": [],
   "source": [
    "Reg = pd.concat([Reg_ch,Reg_playoff], axis=0)"
   ]
  },
  {
   "cell_type": "code",
   "execution_count": 113,
   "metadata": {
    "collapsed": false
   },
   "outputs": [
    {
     "name": "stdout",
     "output_type": "stream",
     "text": [
      "(72155, 805)\n"
     ]
    }
   ],
   "source": [
    "print Reg.shape"
   ]
  },
  {
   "cell_type": "code",
   "execution_count": 108,
   "metadata": {
    "collapsed": true
   },
   "outputs": [],
   "source": [
    "Reg.to_csv('Reg_all.csv', index=False)"
   ]
  },
  {
   "cell_type": "code",
   "execution_count": 196,
   "metadata": {
    "collapsed": false
   },
   "outputs": [],
   "source": [
    "Reg_ch = pd.DataFrame.from_csv(\"Reg.csv\",index_col=None)\n",
    "Reg_y_ch = pd.DataFrame(Reg_ch.Wscore - Reg_ch.Lscore)\n",
    "Reg_y_ch.columns = ['y']\n",
    "\n",
    "Reg_playoff = pd.DataFrame.from_csv(\"Reg_playoff.csv\",index_col=None)\n",
    "Reg_y_playoff = pd.DataFrame(Reg_playoff.Wscore - Reg_playoff.Lscore)\n",
    "Reg_y_playoff.columns = ['y']"
   ]
  },
  {
   "cell_type": "code",
   "execution_count": 200,
   "metadata": {
    "collapsed": true
   },
   "outputs": [],
   "source": [
    "Reg_y = Reg_y_ch"
   ]
  },
  {
   "cell_type": "code",
   "execution_count": 126,
   "metadata": {
    "collapsed": true
   },
   "outputs": [],
   "source": [
    "Reg_y = pd.concat([Reg_y_ch, Reg_y_playoff], axis=0)"
   ]
  },
  {
   "cell_type": "code",
   "execution_count": 127,
   "metadata": {
    "collapsed": true
   },
   "outputs": [],
   "source": [
    "Reg_y.to_csv('Reg_y.csv', index=False)"
   ]
  },
  {
   "cell_type": "markdown",
   "metadata": {},
   "source": [
    "добавление всех команд для onehot"
   ]
  },
  {
   "cell_type": "code",
   "execution_count": 191,
   "metadata": {
    "collapsed": false
   },
   "outputs": [],
   "source": [
    "all_team = pd.DataFrame(Teams.Team_Id)\n",
    "all_team = pd.concat([all_team,all_team], axis=1)\n",
    "all_team.columns = ['Wteam', 'Lteam']\n",
    "Reg = pd.concat([Reg, all_team], axis=0)"
   ]
  },
  {
   "cell_type": "code",
   "execution_count": 192,
   "metadata": {
    "collapsed": true
   },
   "outputs": [],
   "source": [
    "tmp_w = pd.get_dummies(Reg.loc[:, 'Wteam'])\n",
    "tmp_l = pd.get_dummies(Reg.loc[:, 'Lteam'])\n",
    "tmp_l.columns = tmp_l.columns * - 1\n",
    "del Reg['Wteam']\n",
    "del Reg['Lteam']\n",
    "\n",
    "Reg = pd.concat([Reg, tmp_w, tmp_l], axis=1)"
   ]
  },
  {
   "cell_type": "code",
   "execution_count": 193,
   "metadata": {
    "collapsed": false
   },
   "outputs": [],
   "source": [
    "Reg = Reg[:len(Reg) - 364]"
   ]
  },
  {
   "cell_type": "code",
   "execution_count": 194,
   "metadata": {
    "collapsed": false
   },
   "outputs": [],
   "source": [
    "Reg.index = range(len(Reg))"
   ]
  },
  {
   "cell_type": "code",
   "execution_count": 153,
   "metadata": {
    "collapsed": false
   },
   "outputs": [],
   "source": [
    "Reg.to_csv('Reg_all_fin.csv', index=False)"
   ]
  },
  {
   "cell_type": "code",
   "execution_count": 166,
   "metadata": {
    "collapsed": false
   },
   "outputs": [],
   "source": [
    "Reg.fillna(0, inplace=True)"
   ]
  },
  {
   "cell_type": "code",
   "execution_count": 195,
   "metadata": {
    "collapsed": false
   },
   "outputs": [
    {
     "data": {
      "text/html": [
       "<div>\n",
       "<table border=\"1\" class=\"dataframe\">\n",
       "  <thead>\n",
       "    <tr style=\"text-align: right;\">\n",
       "      <th></th>\n",
       "      <th>Lscore_x</th>\n",
       "      <th>Lscore_y</th>\n",
       "      <th>Numot_x</th>\n",
       "      <th>Numot_y</th>\n",
       "      <th>Season</th>\n",
       "      <th>Wast_x</th>\n",
       "      <th>Wast_y</th>\n",
       "      <th>Wblk_x</th>\n",
       "      <th>Wblk_y</th>\n",
       "      <th>Wdr_x</th>\n",
       "      <th>...</th>\n",
       "      <th>-1455.0</th>\n",
       "      <th>-1456.0</th>\n",
       "      <th>-1457.0</th>\n",
       "      <th>-1458.0</th>\n",
       "      <th>-1459.0</th>\n",
       "      <th>-1460.0</th>\n",
       "      <th>-1461.0</th>\n",
       "      <th>-1462.0</th>\n",
       "      <th>-1463.0</th>\n",
       "      <th>-1464.0</th>\n",
       "    </tr>\n",
       "  </thead>\n",
       "  <tbody>\n",
       "    <tr>\n",
       "      <th>0</th>\n",
       "      <td>67.692130</td>\n",
       "      <td>69.173210</td>\n",
       "      <td>0.074074</td>\n",
       "      <td>0.057737</td>\n",
       "      <td>2003.0</td>\n",
       "      <td>12.166667</td>\n",
       "      <td>13.588915</td>\n",
       "      <td>4.416667</td>\n",
       "      <td>3.861432</td>\n",
       "      <td>24.178241</td>\n",
       "      <td>...</td>\n",
       "      <td>0.0</td>\n",
       "      <td>0.0</td>\n",
       "      <td>0.0</td>\n",
       "      <td>0.0</td>\n",
       "      <td>0.0</td>\n",
       "      <td>0.0</td>\n",
       "      <td>0.0</td>\n",
       "      <td>0.0</td>\n",
       "      <td>0.0</td>\n",
       "      <td>0.0</td>\n",
       "    </tr>\n",
       "    <tr>\n",
       "      <th>1</th>\n",
       "      <td>70.403509</td>\n",
       "      <td>69.542222</td>\n",
       "      <td>0.039474</td>\n",
       "      <td>0.064444</td>\n",
       "      <td>2003.0</td>\n",
       "      <td>15.008772</td>\n",
       "      <td>15.588889</td>\n",
       "      <td>5.719298</td>\n",
       "      <td>6.002222</td>\n",
       "      <td>25.129386</td>\n",
       "      <td>...</td>\n",
       "      <td>0.0</td>\n",
       "      <td>0.0</td>\n",
       "      <td>0.0</td>\n",
       "      <td>0.0</td>\n",
       "      <td>0.0</td>\n",
       "      <td>0.0</td>\n",
       "      <td>0.0</td>\n",
       "      <td>0.0</td>\n",
       "      <td>0.0</td>\n",
       "      <td>0.0</td>\n",
       "    </tr>\n",
       "    <tr>\n",
       "      <th>2</th>\n",
       "      <td>70.825397</td>\n",
       "      <td>70.688787</td>\n",
       "      <td>0.058957</td>\n",
       "      <td>0.077803</td>\n",
       "      <td>2003.0</td>\n",
       "      <td>13.834467</td>\n",
       "      <td>15.082380</td>\n",
       "      <td>3.766440</td>\n",
       "      <td>3.260870</td>\n",
       "      <td>24.349206</td>\n",
       "      <td>...</td>\n",
       "      <td>0.0</td>\n",
       "      <td>0.0</td>\n",
       "      <td>0.0</td>\n",
       "      <td>0.0</td>\n",
       "      <td>0.0</td>\n",
       "      <td>0.0</td>\n",
       "      <td>0.0</td>\n",
       "      <td>0.0</td>\n",
       "      <td>0.0</td>\n",
       "      <td>0.0</td>\n",
       "    </tr>\n",
       "    <tr>\n",
       "      <th>3</th>\n",
       "      <td>66.894089</td>\n",
       "      <td>66.265509</td>\n",
       "      <td>0.071429</td>\n",
       "      <td>0.076923</td>\n",
       "      <td>2003.0</td>\n",
       "      <td>12.000000</td>\n",
       "      <td>12.176179</td>\n",
       "      <td>3.236453</td>\n",
       "      <td>3.684864</td>\n",
       "      <td>22.901478</td>\n",
       "      <td>...</td>\n",
       "      <td>0.0</td>\n",
       "      <td>0.0</td>\n",
       "      <td>1.0</td>\n",
       "      <td>0.0</td>\n",
       "      <td>0.0</td>\n",
       "      <td>0.0</td>\n",
       "      <td>0.0</td>\n",
       "      <td>0.0</td>\n",
       "      <td>0.0</td>\n",
       "      <td>0.0</td>\n",
       "    </tr>\n",
       "    <tr>\n",
       "      <th>4</th>\n",
       "      <td>69.752784</td>\n",
       "      <td>67.976798</td>\n",
       "      <td>0.080178</td>\n",
       "      <td>0.090487</td>\n",
       "      <td>2003.0</td>\n",
       "      <td>13.227171</td>\n",
       "      <td>12.756381</td>\n",
       "      <td>5.080178</td>\n",
       "      <td>4.243619</td>\n",
       "      <td>25.596882</td>\n",
       "      <td>...</td>\n",
       "      <td>0.0</td>\n",
       "      <td>0.0</td>\n",
       "      <td>0.0</td>\n",
       "      <td>0.0</td>\n",
       "      <td>0.0</td>\n",
       "      <td>0.0</td>\n",
       "      <td>0.0</td>\n",
       "      <td>0.0</td>\n",
       "      <td>0.0</td>\n",
       "      <td>0.0</td>\n",
       "    </tr>\n",
       "  </tbody>\n",
       "</table>\n",
       "<p>5 rows × 767 columns</p>\n",
       "</div>"
      ],
      "text/plain": [
       "    Lscore_x   Lscore_y   Numot_x   Numot_y  Season     Wast_x     Wast_y  \\\n",
       "0  67.692130  69.173210  0.074074  0.057737  2003.0  12.166667  13.588915   \n",
       "1  70.403509  69.542222  0.039474  0.064444  2003.0  15.008772  15.588889   \n",
       "2  70.825397  70.688787  0.058957  0.077803  2003.0  13.834467  15.082380   \n",
       "3  66.894089  66.265509  0.071429  0.076923  2003.0  12.000000  12.176179   \n",
       "4  69.752784  67.976798  0.080178  0.090487  2003.0  13.227171  12.756381   \n",
       "\n",
       "     Wblk_x    Wblk_y      Wdr_x   ...     -1455.0  -1456.0  -1457.0  -1458.0  \\\n",
       "0  4.416667  3.861432  24.178241   ...         0.0      0.0      0.0      0.0   \n",
       "1  5.719298  6.002222  25.129386   ...         0.0      0.0      0.0      0.0   \n",
       "2  3.766440  3.260870  24.349206   ...         0.0      0.0      0.0      0.0   \n",
       "3  3.236453  3.684864  22.901478   ...         0.0      0.0      1.0      0.0   \n",
       "4  5.080178  4.243619  25.596882   ...         0.0      0.0      0.0      0.0   \n",
       "\n",
       "   -1459.0  -1460.0  -1461.0  -1462.0  -1463.0  -1464.0  \n",
       "0      0.0      0.0      0.0      0.0      0.0      0.0  \n",
       "1      0.0      0.0      0.0      0.0      0.0      0.0  \n",
       "2      0.0      0.0      0.0      0.0      0.0      0.0  \n",
       "3      0.0      0.0      0.0      0.0      0.0      0.0  \n",
       "4      0.0      0.0      0.0      0.0      0.0      0.0  \n",
       "\n",
       "[5 rows x 767 columns]"
      ]
     },
     "execution_count": 195,
     "metadata": {},
     "output_type": "execute_result"
    }
   ],
   "source": [
    "Reg[:5]"
   ]
  },
  {
   "cell_type": "code",
   "execution_count": 221,
   "metadata": {
    "collapsed": false
   },
   "outputs": [],
   "source": [
    "Train = Reg[Reg.Season <= 2016]\n",
    "#Test = Reg[Reg.Season < 2015][Reg.Season <= 2003]\n",
    "Valid = Reg[Reg.Season == 2017]\n",
    "del Train['Season']\n",
    "#del Test['Season']\n",
    "del Valid['Season']\n",
    "\n",
    "Train_y = Reg_y[:len(Train)]\n",
    "#Test_y = Reg_y[len(Train) + 1:len(Train)+len(Test) + 1]\n",
    "Valid_y = Reg_y[-len(Valid):]\n",
    "\n",
    "\n",
    "#Test_y.index = range(len(Test))\n",
    "Valid_y.index = range(len(Valid))"
   ]
  },
  {
   "cell_type": "code",
   "execution_count": 222,
   "metadata": {
    "collapsed": false
   },
   "outputs": [],
   "source": [
    "Valid_y_bit = []\n",
    "for i in Valid_y.index:\n",
    "    if Valid_y.ix[i, 'y'] > 0:\n",
    "        Valid_y_bit += [1.0]\n",
    "    else:\n",
    "        Valid_y_bit += [0.0]\n",
    "Test_y_bit = []\n",
    "for i in Test_y.index:\n",
    "    if Test_y.ix[i, 'y'] > 0:\n",
    "        Test_y_bit += [1.0]\n",
    "    else:\n",
    "        Test_y_bit += [0.0]\n",
    "Train_y_bit = []\n",
    "for i in Train_y.index:\n",
    "    if Train_y.ix[i, 'y'] > 0:\n",
    "        Train_y_bit += [1.0]\n",
    "    else:\n",
    "        Train_y_bit += [0.0]"
   ]
  },
  {
   "cell_type": "code",
   "execution_count": 223,
   "metadata": {
    "collapsed": false
   },
   "outputs": [
    {
     "name": "stdout",
     "output_type": "stream",
     "text": [
      "(71241, 766)\n",
      "(4616, 766)\n",
      "(2278, 766)\n",
      "(71241, 1)\n"
     ]
    }
   ],
   "source": [
    "print Train.shape\n",
    "print Test.shape\n",
    "print Valid.shape\n",
    "\n",
    "print Reg_y.shape"
   ]
  },
  {
   "cell_type": "code",
   "execution_count": 224,
   "metadata": {
    "collapsed": false
   },
   "outputs": [],
   "source": [
    "from sklearn.preprocessing import StandardScaler\n",
    "scaler = StandardScaler()\n",
    "scaler.fit(Train, Train_y)\n",
    "Train = scaler.transform(Train)\n",
    "Train = pd.DataFrame(Train)\n",
    "Test = scaler.transform(Test)\n",
    "Test = pd.DataFrame(Test)\n",
    "Valid = scaler.transform(Valid)\n",
    "Valid = pd.DataFrame(Valid)"
   ]
  },
  {
   "cell_type": "markdown",
   "metadata": {},
   "source": [
    "### Линейная модель"
   ]
  },
  {
   "cell_type": "code",
   "execution_count": 209,
   "metadata": {
    "collapsed": false
   },
   "outputs": [],
   "source": [
    "lin = sklearn.linear_model.LinearRegression()"
   ]
  },
  {
   "cell_type": "code",
   "execution_count": 210,
   "metadata": {
    "collapsed": false
   },
   "outputs": [
    {
     "data": {
      "text/plain": [
       "LinearRegression(copy_X=True, fit_intercept=True, n_jobs=1, normalize=False)"
      ]
     },
     "execution_count": 210,
     "metadata": {},
     "output_type": "execute_result"
    }
   ],
   "source": [
    "lin.fit(Train, Train_y)"
   ]
  },
  {
   "cell_type": "code",
   "execution_count": 211,
   "metadata": {
    "collapsed": false
   },
   "outputs": [],
   "source": [
    "lin_pred = pd.DataFrame(lin.predict(Valid), columns=['pre'])"
   ]
  },
  {
   "cell_type": "code",
   "execution_count": 212,
   "metadata": {
    "collapsed": false
   },
   "outputs": [
    {
     "data": {
      "text/html": [
       "<div>\n",
       "<table border=\"1\" class=\"dataframe\">\n",
       "  <thead>\n",
       "    <tr style=\"text-align: right;\">\n",
       "      <th></th>\n",
       "      <th>pre</th>\n",
       "      <th>y</th>\n",
       "    </tr>\n",
       "  </thead>\n",
       "  <tbody>\n",
       "    <tr>\n",
       "      <th>5359</th>\n",
       "      <td>-6.849867</td>\n",
       "      <td>6</td>\n",
       "    </tr>\n",
       "    <tr>\n",
       "      <th>5360</th>\n",
       "      <td>0.672106</td>\n",
       "      <td>-33</td>\n",
       "    </tr>\n",
       "    <tr>\n",
       "      <th>5361</th>\n",
       "      <td>-3.074965</td>\n",
       "      <td>11</td>\n",
       "    </tr>\n",
       "    <tr>\n",
       "      <th>5362</th>\n",
       "      <td>-2.107435</td>\n",
       "      <td>-22</td>\n",
       "    </tr>\n",
       "    <tr>\n",
       "      <th>5363</th>\n",
       "      <td>-0.225844</td>\n",
       "      <td>3</td>\n",
       "    </tr>\n",
       "    <tr>\n",
       "      <th>5364</th>\n",
       "      <td>4.859117</td>\n",
       "      <td>20</td>\n",
       "    </tr>\n",
       "    <tr>\n",
       "      <th>5365</th>\n",
       "      <td>-1.864515</td>\n",
       "      <td>-14</td>\n",
       "    </tr>\n",
       "    <tr>\n",
       "      <th>5366</th>\n",
       "      <td>8.429918</td>\n",
       "      <td>5</td>\n",
       "    </tr>\n",
       "    <tr>\n",
       "      <th>5367</th>\n",
       "      <td>4.836656</td>\n",
       "      <td>4</td>\n",
       "    </tr>\n",
       "    <tr>\n",
       "      <th>5368</th>\n",
       "      <td>1.727281</td>\n",
       "      <td>-13</td>\n",
       "    </tr>\n",
       "  </tbody>\n",
       "</table>\n",
       "</div>"
      ],
      "text/plain": [
       "           pre   y\n",
       "5359 -6.849867   6\n",
       "5360  0.672106 -33\n",
       "5361 -3.074965  11\n",
       "5362 -2.107435 -22\n",
       "5363 -0.225844   3\n",
       "5364  4.859117  20\n",
       "5365 -1.864515 -14\n",
       "5366  8.429918   5\n",
       "5367  4.836656   4\n",
       "5368  1.727281 -13"
      ]
     },
     "execution_count": 212,
     "metadata": {},
     "output_type": "execute_result"
    }
   ],
   "source": [
    "pd.concat([lin_pred, Valid_y], axis=1)[-10:]"
   ]
  },
  {
   "cell_type": "code",
   "execution_count": 213,
   "metadata": {
    "collapsed": false
   },
   "outputs": [
    {
     "name": "stdout",
     "output_type": "stream",
     "text": [
      "pre    37.612047\n",
      "dtype: float64\n",
      "pre   -35.612562\n",
      "dtype: float64\n"
     ]
    }
   ],
   "source": [
    "print lin_pred.max()\n",
    "print lin_pred.min()"
   ]
  },
  {
   "cell_type": "markdown",
   "metadata": {},
   "source": [
    "Подбор сигмоиды"
   ]
  },
  {
   "cell_type": "code",
   "execution_count": 214,
   "metadata": {
    "collapsed": false
   },
   "outputs": [
    {
     "name": "stdout",
     "output_type": "stream",
     "text": [
      "0.613961517055\n",
      "0.109090909091\n"
     ]
    }
   ],
   "source": [
    "min_val = 1.0\n",
    "a = 0.01\n",
    "for i in np.linspace(0.01, 1.1, 100):\n",
    "    def sigmoid(x):\n",
    "        return 1.0 / (1.0 + np.exp(-i*x))\n",
    "    otv = sigmoid(lin_pred)\n",
    "    tmp = log_loss(pd.DataFrame(Valid_y_bit), otv)\n",
    "    if tmp < min_val:\n",
    "        min_val = tmp\n",
    "        a = i\n",
    "print min_val\n",
    "print a"
   ]
  },
  {
   "cell_type": "code",
   "execution_count": 222,
   "metadata": {
    "collapsed": false
   },
   "outputs": [],
   "source": [
    "o = []\n",
    "for i in otv.pre:\n",
    "    o += [0.5]"
   ]
  },
  {
   "cell_type": "code",
   "execution_count": 223,
   "metadata": {
    "collapsed": false
   },
   "outputs": [
    {
     "data": {
      "text/plain": [
       "0.69314718055994529"
      ]
     },
     "execution_count": 223,
     "metadata": {},
     "output_type": "execute_result"
    }
   ],
   "source": [
    "log_loss(pd.DataFrame(Valid_y_bit), pd.DataFrame(o))"
   ]
  },
  {
   "cell_type": "markdown",
   "metadata": {},
   "source": [
    "### XGB"
   ]
  },
  {
   "cell_type": "code",
   "execution_count": 225,
   "metadata": {
    "collapsed": true
   },
   "outputs": [],
   "source": [
    "dtrain = xgb.DMatrix(data = Train, label = Train_y)"
   ]
  },
  {
   "cell_type": "code",
   "execution_count": 226,
   "metadata": {
    "collapsed": true
   },
   "outputs": [],
   "source": [
    "param = {'min_child_weight': 100,\n",
    "        'eta': 0.3,\n",
    "        #'colsample_bytree': 0.9,\n",
    "        'max_depth': 5,\n",
    "        #'subsample': 0.3,\n",
    "        'alpha': 1,\n",
    "        'gamma': 1,\n",
    "        'silent': 1,\n",
    "        'objective': 'reg:linear',\n",
    "        'verbose_eval': True}\n",
    "num_round = 70"
   ]
  },
  {
   "cell_type": "code",
   "execution_count": 227,
   "metadata": {
    "collapsed": true
   },
   "outputs": [],
   "source": [
    "bst = xgb.train(param, dtrain, num_round)\n"
   ]
  },
  {
   "cell_type": "code",
   "execution_count": 238,
   "metadata": {
    "collapsed": false
   },
   "outputs": [],
   "source": [
    "boost_pred = bst.predict(xgb.DMatrix(data = Valid))\n"
   ]
  },
  {
   "cell_type": "code",
   "execution_count": 219,
   "metadata": {
    "collapsed": false
   },
   "outputs": [
    {
     "name": "stdout",
     "output_type": "stream",
     "text": [
      "0.611373109698\n",
      "0.122222222222\n"
     ]
    }
   ],
   "source": [
    "min_val = 1.0\n",
    "a = 0.01\n",
    "for i in np.linspace(0, 1.1, 100):\n",
    "    def sigmoid(x):\n",
    "        return 1.0 / (1.0 + np.exp(-i*x))\n",
    "    otv = sigmoid(boost_pred)\n",
    "    tmp = log_loss(pd.DataFrame(Valid_y_bit), otv)\n",
    "    if tmp < min_val:\n",
    "        min_val = tmp\n",
    "        a = i\n",
    "print min_val\n",
    "print a"
   ]
  },
  {
   "cell_type": "code",
   "execution_count": null,
   "metadata": {
    "collapsed": true
   },
   "outputs": [],
   "source": [
    "0.61135886733\n",
    "0.612736313283"
   ]
  },
  {
   "cell_type": "code",
   "execution_count": 239,
   "metadata": {
    "collapsed": false
   },
   "outputs": [
    {
     "data": {
      "text/plain": [
       "2278"
      ]
     },
     "execution_count": 239,
     "metadata": {},
     "output_type": "execute_result"
    }
   ],
   "source": [
    "len(boost_pred)"
   ]
  },
  {
   "cell_type": "code",
   "execution_count": 240,
   "metadata": {
    "collapsed": true
   },
   "outputs": [],
   "source": [
    "def sigmoid(x):\n",
    "    return 1.0 / (1.0 + np.exp(-0.122*x))\n",
    "otv = sigmoid(boost_pred)"
   ]
  },
  {
   "cell_type": "code",
   "execution_count": 241,
   "metadata": {
    "collapsed": false
   },
   "outputs": [
    {
     "data": {
      "text/plain": [
       "2278"
      ]
     },
     "execution_count": 241,
     "metadata": {},
     "output_type": "execute_result"
    }
   ],
   "source": [
    "len(otv)"
   ]
  },
  {
   "cell_type": "code",
   "execution_count": 244,
   "metadata": {
    "collapsed": false
   },
   "outputs": [
    {
     "data": {
      "text/plain": [
       "2278"
      ]
     },
     "execution_count": 244,
     "metadata": {},
     "output_type": "execute_result"
    }
   ],
   "source": [
    "Sub = pd.DataFrame.from_csv(\"SampleSubmission.csv\",index_col=None)\n",
    "Sub.Pred = otv\n",
    "len(Sub)"
   ]
  },
  {
   "cell_type": "code",
   "execution_count": 246,
   "metadata": {
    "collapsed": false
   },
   "outputs": [
    {
     "data": {
      "text/html": [
       "<div>\n",
       "<table border=\"1\" class=\"dataframe\">\n",
       "  <thead>\n",
       "    <tr style=\"text-align: right;\">\n",
       "      <th></th>\n",
       "      <th>Id</th>\n",
       "      <th>Pred</th>\n",
       "    </tr>\n",
       "  </thead>\n",
       "  <tbody>\n",
       "    <tr>\n",
       "      <th>0</th>\n",
       "      <td>2017_1112_1116</td>\n",
       "      <td>0.659465</td>\n",
       "    </tr>\n",
       "    <tr>\n",
       "      <th>1</th>\n",
       "      <td>2017_1112_1124</td>\n",
       "      <td>0.663233</td>\n",
       "    </tr>\n",
       "    <tr>\n",
       "      <th>2</th>\n",
       "      <td>2017_1112_1137</td>\n",
       "      <td>0.800348</td>\n",
       "    </tr>\n",
       "    <tr>\n",
       "      <th>3</th>\n",
       "      <td>2017_1112_1139</td>\n",
       "      <td>0.657611</td>\n",
       "    </tr>\n",
       "    <tr>\n",
       "      <th>4</th>\n",
       "      <td>2017_1112_1153</td>\n",
       "      <td>0.570716</td>\n",
       "    </tr>\n",
       "    <tr>\n",
       "      <th>5</th>\n",
       "      <td>2017_1112_1166</td>\n",
       "      <td>0.723217</td>\n",
       "    </tr>\n",
       "    <tr>\n",
       "      <th>6</th>\n",
       "      <td>2017_1112_1173</td>\n",
       "      <td>0.719898</td>\n",
       "    </tr>\n",
       "    <tr>\n",
       "      <th>7</th>\n",
       "      <td>2017_1112_1181</td>\n",
       "      <td>0.257752</td>\n",
       "    </tr>\n",
       "    <tr>\n",
       "      <th>8</th>\n",
       "      <td>2017_1112_1190</td>\n",
       "      <td>0.918038</td>\n",
       "    </tr>\n",
       "    <tr>\n",
       "      <th>9</th>\n",
       "      <td>2017_1112_1195</td>\n",
       "      <td>0.940902</td>\n",
       "    </tr>\n",
       "    <tr>\n",
       "      <th>10</th>\n",
       "      <td>2017_1112_1196</td>\n",
       "      <td>0.466169</td>\n",
       "    </tr>\n",
       "    <tr>\n",
       "      <th>11</th>\n",
       "      <td>2017_1112_1199</td>\n",
       "      <td>0.672465</td>\n",
       "    </tr>\n",
       "    <tr>\n",
       "      <th>12</th>\n",
       "      <td>2017_1112_1211</td>\n",
       "      <td>0.490003</td>\n",
       "    </tr>\n",
       "    <tr>\n",
       "      <th>13</th>\n",
       "      <td>2017_1112_1233</td>\n",
       "      <td>0.882443</td>\n",
       "    </tr>\n",
       "    <tr>\n",
       "      <th>14</th>\n",
       "      <td>2017_1112_1235</td>\n",
       "      <td>0.728425</td>\n",
       "    </tr>\n",
       "    <tr>\n",
       "      <th>15</th>\n",
       "      <td>2017_1112_1240</td>\n",
       "      <td>0.921700</td>\n",
       "    </tr>\n",
       "    <tr>\n",
       "      <th>16</th>\n",
       "      <td>2017_1112_1242</td>\n",
       "      <td>0.399339</td>\n",
       "    </tr>\n",
       "    <tr>\n",
       "      <th>17</th>\n",
       "      <td>2017_1112_1243</td>\n",
       "      <td>0.636301</td>\n",
       "    </tr>\n",
       "    <tr>\n",
       "      <th>18</th>\n",
       "      <td>2017_1112_1245</td>\n",
       "      <td>0.767524</td>\n",
       "    </tr>\n",
       "    <tr>\n",
       "      <th>19</th>\n",
       "      <td>2017_1112_1246</td>\n",
       "      <td>0.378431</td>\n",
       "    </tr>\n",
       "  </tbody>\n",
       "</table>\n",
       "</div>"
      ],
      "text/plain": [
       "                Id      Pred\n",
       "0   2017_1112_1116  0.659465\n",
       "1   2017_1112_1124  0.663233\n",
       "2   2017_1112_1137  0.800348\n",
       "3   2017_1112_1139  0.657611\n",
       "4   2017_1112_1153  0.570716\n",
       "5   2017_1112_1166  0.723217\n",
       "6   2017_1112_1173  0.719898\n",
       "7   2017_1112_1181  0.257752\n",
       "8   2017_1112_1190  0.918038\n",
       "9   2017_1112_1195  0.940902\n",
       "10  2017_1112_1196  0.466169\n",
       "11  2017_1112_1199  0.672465\n",
       "12  2017_1112_1211  0.490003\n",
       "13  2017_1112_1233  0.882443\n",
       "14  2017_1112_1235  0.728425\n",
       "15  2017_1112_1240  0.921700\n",
       "16  2017_1112_1242  0.399339\n",
       "17  2017_1112_1243  0.636301\n",
       "18  2017_1112_1245  0.767524\n",
       "19  2017_1112_1246  0.378431"
      ]
     },
     "execution_count": 246,
     "metadata": {},
     "output_type": "execute_result"
    }
   ],
   "source": [
    "# Итоговые предсказания\n",
    "Sub[:20]"
   ]
  },
  {
   "cell_type": "code",
   "execution_count": 247,
   "metadata": {
    "collapsed": true
   },
   "outputs": [],
   "source": [
    "Sub.to_csv('MySub.csv', index=False)"
   ]
  },
  {
   "cell_type": "code",
   "execution_count": null,
   "metadata": {
    "collapsed": true
   },
   "outputs": [],
   "source": []
  },
  {
   "cell_type": "code",
   "execution_count": null,
   "metadata": {
    "collapsed": true
   },
   "outputs": [],
   "source": []
  },
  {
   "cell_type": "code",
   "execution_count": 250,
   "metadata": {
    "collapsed": true
   },
   "outputs": [],
   "source": [
    "clf = xgb.XGBClassifier(max_depth=8,\n",
    "                        learning_rate=0.2,\n",
    "                        n_estimators=45,\n",
    "                        silent=True,\n",
    "                        objective='binary:logistic',\n",
    "                        nthread=-1,\n",
    "                        #gamma=0,\n",
    "                        min_child_weight=100,\n",
    "                        #max_delta_step=0,\n",
    "                        subsample=0.83,\n",
    "                        #colsample_bytree=1,\n",
    "                        #colsample_bylevel=1,\n",
    "                        #reg_alpha=0,\n",
    "                        #reg_lambda=1,\n",
    "                        #scale_pos_weight=1,\n",
    "                        #base_score=0.5,\n",
    "                        seed=10,\n",
    "                        missing=None)"
   ]
  },
  {
   "cell_type": "code",
   "execution_count": 251,
   "metadata": {
    "collapsed": false
   },
   "outputs": [
    {
     "data": {
      "text/plain": [
       "XGBClassifier(base_score=0.5, colsample_bylevel=1, colsample_bytree=1,\n",
       "       gamma=0, learning_rate=0.2, max_delta_step=0, max_depth=8,\n",
       "       min_child_weight=100, missing=None, n_estimators=45, nthread=-1,\n",
       "       objective='binary:logistic', reg_alpha=0, reg_lambda=1,\n",
       "       scale_pos_weight=1, seed=10, silent=True, subsample=0.83)"
      ]
     },
     "execution_count": 251,
     "metadata": {},
     "output_type": "execute_result"
    }
   ],
   "source": [
    "clf.fit(Train, Train_y_bit)\n",
    "\n",
    "\n"
   ]
  },
  {
   "cell_type": "code",
   "execution_count": 252,
   "metadata": {
    "collapsed": false
   },
   "outputs": [
    {
     "data": {
      "text/plain": [
       "0.81790152496892199"
      ]
     },
     "execution_count": 252,
     "metadata": {},
     "output_type": "execute_result"
    }
   ],
   "source": [
    "log_loss(pd.DataFrame(Test_y_bit), clf.predict_proba(Test))"
   ]
  },
  {
   "cell_type": "code",
   "execution_count": null,
   "metadata": {
    "collapsed": true
   },
   "outputs": [],
   "source": []
  },
  {
   "cell_type": "markdown",
   "metadata": {},
   "source": [
    "## RandomForest"
   ]
  },
  {
   "cell_type": "code",
   "execution_count": 73,
   "metadata": {
    "collapsed": true
   },
   "outputs": [],
   "source": [
    "import sklearn\n",
    "from sklearn.model_selection import cross_val_score, KFold\n",
    "from sklearn.ensemble import ExtraTreesClassifier, RandomForestRegressor\n",
    "forest_regressor = sklearn.ensemble.RandomForestRegressor(n_estimators=295,\n",
    "                                       #criterion='mlog_loss',\n",
    "                                       max_depth=8,\n",
    "                                       min_samples_split=10,\n",
    "                                       min_samples_leaf=7,\n",
    "                                       #min_weight_fraction_leaf=0.0,\n",
    "                                       max_features='auto',\n",
    "                                       max_leaf_nodes=None,\n",
    "                                       bootstrap=True,\n",
    "                                       #oob_score=False,\n",
    "                                       n_jobs=-1,\n",
    "                                       random_state=13)"
   ]
  },
  {
   "cell_type": "code",
   "execution_count": 74,
   "metadata": {
    "collapsed": false
   },
   "outputs": [
    {
     "name": "stderr",
     "output_type": "stream",
     "text": [
      "/home/ubuntu/anaconda2/lib/python2.7/site-packages/ipykernel/__main__.py:1: DataConversionWarning: A column-vector y was passed when a 1d array was expected. Please change the shape of y to (n_samples,), for example using ravel().\n",
      "  if __name__ == '__main__':\n"
     ]
    },
    {
     "data": {
      "text/plain": [
       "RandomForestRegressor(bootstrap=True, criterion='mse', max_depth=8,\n",
       "           max_features='auto', max_leaf_nodes=None,\n",
       "           min_impurity_split=1e-07, min_samples_leaf=7,\n",
       "           min_samples_split=10, min_weight_fraction_leaf=0.0,\n",
       "           n_estimators=295, n_jobs=-1, oob_score=False, random_state=13,\n",
       "           verbose=0, warm_start=False)"
      ]
     },
     "execution_count": 74,
     "metadata": {},
     "output_type": "execute_result"
    }
   ],
   "source": [
    "forest_regressor.fit(Train, Train_y)"
   ]
  },
  {
   "cell_type": "code",
   "execution_count": 75,
   "metadata": {
    "collapsed": false
   },
   "outputs": [],
   "source": [
    "forest_pred = forest_regressor.predict(Test)"
   ]
  },
  {
   "cell_type": "code",
   "execution_count": 76,
   "metadata": {
    "collapsed": false
   },
   "outputs": [
    {
     "name": "stdout",
     "output_type": "stream",
     "text": [
      "0.620726137321\n",
      "0.131111111111\n"
     ]
    }
   ],
   "source": [
    "min_val = 1.0\n",
    "a = 0.01\n",
    "for i in np.linspace(0.01, 1.1, 100):\n",
    "    def sigmoid(x):\n",
    "        return 1.0 / (1.0 + np.exp(-i*x))\n",
    "    otv = sigmoid(forest_pred)\n",
    "    tmp = log_loss(pd.DataFrame(Test_y_bit), otv)\n",
    "    if tmp < min_val:\n",
    "        min_val = tmp\n",
    "        a = i\n",
    "print min_val\n",
    "print a"
   ]
  },
  {
   "cell_type": "code",
   "execution_count": null,
   "metadata": {
    "collapsed": true
   },
   "outputs": [],
   "source": []
  },
  {
   "cell_type": "code",
   "execution_count": null,
   "metadata": {
    "collapsed": true
   },
   "outputs": [],
   "source": []
  },
  {
   "cell_type": "code",
   "execution_count": null,
   "metadata": {
    "collapsed": true
   },
   "outputs": [],
   "source": []
  },
  {
   "cell_type": "code",
   "execution_count": 158,
   "metadata": {
    "collapsed": true
   },
   "outputs": [],
   "source": [
    "def sigmoid(x):\n",
    "    return 1.0 / (1.0 + np.exp(-0.1*x))"
   ]
  },
  {
   "cell_type": "code",
   "execution_count": 159,
   "metadata": {
    "collapsed": false
   },
   "outputs": [
    {
     "data": {
      "text/plain": [
       "[<matplotlib.lines.Line2D at 0x7fb4deeb8850>]"
      ]
     },
     "execution_count": 159,
     "metadata": {},
     "output_type": "execute_result"
    },
    {
     "data": {
      "image/png": "[encoded data removed]",
      "text/plain": [
       "<matplotlib.figure.Figure at 0x7fb4deffbb50>"
      ]
     },
     "metadata": {},
     "output_type": "display_data"
    }
   ],
   "source": [
    "bins = np.linspace(-40, 40, 100)\n",
    "plt.plot(bins, sigmoid(bins), label='F')"
   ]
  },
  {
   "cell_type": "code",
   "execution_count": 160,
   "metadata": {
    "collapsed": true
   },
   "outputs": [],
   "source": [
    "otv = sigmoid(lin_pred)"
   ]
  },
  {
   "cell_type": "code",
   "execution_count": 161,
   "metadata": {
    "collapsed": false
   },
   "outputs": [
    {
     "data": {
      "text/html": [
       "<div>\n",
       "<table border=\"1\" class=\"dataframe\">\n",
       "  <thead>\n",
       "    <tr style=\"text-align: right;\">\n",
       "      <th></th>\n",
       "      <th>pre</th>\n",
       "    </tr>\n",
       "  </thead>\n",
       "  <tbody>\n",
       "    <tr>\n",
       "      <th>0</th>\n",
       "      <td>0.071240</td>\n",
       "    </tr>\n",
       "    <tr>\n",
       "      <th>1</th>\n",
       "      <td>0.802522</td>\n",
       "    </tr>\n",
       "    <tr>\n",
       "      <th>2</th>\n",
       "      <td>0.164756</td>\n",
       "    </tr>\n",
       "    <tr>\n",
       "      <th>3</th>\n",
       "      <td>0.237114</td>\n",
       "    </tr>\n",
       "    <tr>\n",
       "      <th>4</th>\n",
       "      <td>0.913305</td>\n",
       "    </tr>\n",
       "    <tr>\n",
       "      <th>5</th>\n",
       "      <td>0.530184</td>\n",
       "    </tr>\n",
       "    <tr>\n",
       "      <th>6</th>\n",
       "      <td>0.296610</td>\n",
       "    </tr>\n",
       "    <tr>\n",
       "      <th>7</th>\n",
       "      <td>0.226336</td>\n",
       "    </tr>\n",
       "    <tr>\n",
       "      <th>8</th>\n",
       "      <td>0.607892</td>\n",
       "    </tr>\n",
       "    <tr>\n",
       "      <th>9</th>\n",
       "      <td>0.885452</td>\n",
       "    </tr>\n",
       "  </tbody>\n",
       "</table>\n",
       "</div>"
      ],
      "text/plain": [
       "        pre\n",
       "0  0.071240\n",
       "1  0.802522\n",
       "2  0.164756\n",
       "3  0.237114\n",
       "4  0.913305\n",
       "5  0.530184\n",
       "6  0.296610\n",
       "7  0.226336\n",
       "8  0.607892\n",
       "9  0.885452"
      ]
     },
     "execution_count": 161,
     "metadata": {},
     "output_type": "execute_result"
    }
   ],
   "source": [
    "otv[:10]"
   ]
  },
  {
   "cell_type": "code",
   "execution_count": 162,
   "metadata": {
    "collapsed": false
   },
   "outputs": [
    {
     "data": {
      "text/plain": [
       "0.613034731010211"
      ]
     },
     "execution_count": 162,
     "metadata": {},
     "output_type": "execute_result"
    }
   ],
   "source": [
    "log_loss(pd.DataFrame(Test_y_bit), otv)"
   ]
  }
 ],
 "metadata": {
  "anaconda-cloud": {},
  "kernelspec": {
   "display_name": "Python [default]",
   "language": "python",
   "name": "python2"
  },
  "language_info": {
   "codemirror_mode": {
    "name": "ipython",
    "version": 2
   },
   "file_extension": ".py",
   "mimetype": "text/x-python",
   "name": "python",
   "nbconvert_exporter": "python",
   "pygments_lexer": "ipython2",
   "version": "2.7.12"
  }
 },
 "nbformat": 4,
 "nbformat_minor": 1
}
