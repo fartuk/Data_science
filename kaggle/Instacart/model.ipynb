{
 "cells": [
  {
   "cell_type": "code",
   "execution_count": 1,
   "metadata": {},
   "outputs": [
    {
     "name": "stderr",
     "output_type": "stream",
     "text": [
      "/home/fattahov.ao/anaconda3/lib/python3.6/site-packages/sklearn/cross_validation.py:44: DeprecationWarning: This module was deprecated in version 0.18 in favor of the model_selection module into which all the refactored classes and functions are moved. Also note that the interface of the new CV iterators are different from that of this module. This module will be removed in 0.20.\n",
      "  \"This module will be removed in 0.20.\", DeprecationWarning)\n"
     ]
    },
    {
     "name": "stdout",
     "output_type": "stream",
     "text": [
      "Populating the interactive namespace from numpy and matplotlib\n"
     ]
    }
   ],
   "source": [
    "import numpy as np\n",
    "import pandas as pd\n",
    "from sklearn import ensemble\n",
    "from sklearn.linear_model import LinearRegression\n",
    "\n",
    "from sklearn.cross_validation import cross_val_score\n",
    "from sklearn.feature_extraction.text import HashingVectorizer\n",
    "from sklearn import manifold, decomposition, linear_model, ensemble, neighbors, cross_validation\n",
    "import sklearn\n",
    "from sklearn import pipeline, preprocessing, feature_extraction\n",
    "from sklearn.metrics import f1_score\n",
    "import xgboost as xgb\n",
    "from sklearn.metrics import mean_absolute_error\n",
    "import time\n",
    "import datetime\n",
    "from sklearn.model_selection import StratifiedKFold\n",
    "from sklearn.metrics import log_loss, auc, roc_curve\n",
    "from sklearn.feature_extraction.text import TfidfVectorizer, CountVectorizer, HashingVectorizer\n",
    "from scipy import sparse\n",
    "from sklearn.neighbors import KNeighborsClassifier\n",
    "from sklearn.ensemble import RandomForestClassifier\n",
    "import lightgbm as lgbm\n",
    "import scipy\n",
    "from sklearn.preprocessing import StandardScaler\n",
    "\n",
    "%matplotlib inline\n",
    "%pylab inline"
   ]
  },
  {
   "cell_type": "code",
   "execution_count": 15,
   "metadata": {
    "collapsed": true
   },
   "outputs": [],
   "source": [
    "def f1_score_single(y_true, y_pred):\n",
    "    y_true = set(y_true)\n",
    "    y_pred = set(y_pred)\n",
    "    cross_size = len(y_true & y_pred)\n",
    "    if cross_size == 0: return 0.\n",
    "    p = 1. * cross_size / len(y_pred)\n",
    "    r = 1. * cross_size / len(y_true)\n",
    "    return 2 * p * r / (p + r)\n",
    "    \n",
    "def f1_score(y_true, y_pred):\n",
    "    return np.mean([f1_score_single(x, y) for x, y in zip(y_true, y_pred)])"
   ]
  },
  {
   "cell_type": "code",
   "execution_count": 7,
   "metadata": {
    "collapsed": true
   },
   "outputs": [],
   "source": [
    "def load_data(path_data):\n",
    "    '''\n",
    "    --------------------------------order_product--------------------------------\n",
    "    * Unique in order_id + product_id\n",
    "    '''\n",
    "    priors = pd.read_csv(path_data + 'order_products__prior.csv', \n",
    "                     dtype={\n",
    "                            'order_id': np.int32,\n",
    "                            'product_id': np.uint16,\n",
    "                            'add_to_cart_order': np.int16,\n",
    "                            'reordered': np.int8})\n",
    "    train = pd.read_csv(path_data + 'order_products__train.csv', \n",
    "                    dtype={\n",
    "                            'order_id': np.int32,\n",
    "                            'product_id': np.uint16,\n",
    "                            'add_to_cart_order': np.int16,\n",
    "                            'reordered': np.int8})\n",
    "    '''\n",
    "    --------------------------------order--------------------------------\n",
    "    * This file tells us which set (prior, train, test) an order belongs\n",
    "    * Unique in order_id\n",
    "    * order_id in train, prior, test has no intersection\n",
    "    * this is the #order_number order of this user\n",
    "    '''\n",
    "    orders = pd.read_csv(path_data + 'orders.csv', \n",
    "                         dtype={\n",
    "                                'order_id': np.int32,\n",
    "                                'user_id': np.int64,\n",
    "                                'eval_set': 'category',\n",
    "                                'order_number': np.int16,\n",
    "                                'order_dow': np.int8,\n",
    "                                'order_hour_of_day': np.int8,\n",
    "                                'days_since_prior_order': np.float32})\n",
    "\n",
    "    #  order in prior, train, test has no duplicate\n",
    "    #  order_ids_pri = priors.order_id.unique()\n",
    "    #  order_ids_trn = train.order_id.unique()\n",
    "    #  order_ids_tst = orders[orders.eval_set == 'test']['order_id'].unique()\n",
    "    #  print(set(order_ids_pri).intersection(set(order_ids_trn)))\n",
    "    #  print(set(order_ids_pri).intersection(set(order_ids_tst)))\n",
    "    #  print(set(order_ids_trn).intersection(set(order_ids_tst)))\n",
    "\n",
    "    '''\n",
    "    --------------------------------product--------------------------------\n",
    "    * Unique in product_id\n",
    "    '''\n",
    "    products = pd.read_csv(path_data + 'products.csv')\n",
    "    aisles = pd.read_csv(path_data + \"aisles.csv\")\n",
    "    departments = pd.read_csv(path_data + \"departments.csv\")\n",
    "    sample_submission = pd.read_csv(path_data + \"sample_submission.csv\")\n",
    "    \n",
    "    return priors, train, orders, products, aisles, departments, sample_submission\n",
    "\n",
    "class tick_tock:\n",
    "    def __init__(self, process_name, verbose=1):\n",
    "        self.process_name = process_name\n",
    "        self.verbose = verbose\n",
    "    def __enter__(self):\n",
    "        if self.verbose:\n",
    "            print(self.process_name + \" begin ......\")\n",
    "            self.begin_time = time.time()\n",
    "    def __exit__(self, type, value, traceback):\n",
    "        if self.verbose:\n",
    "            end_time = time.time()\n",
    "            print(self.process_name + \" end ......\")\n",
    "            print('time lapsing {0} s \\n'.format(end_time - self.begin_time))\n",
    "            \n",
    "def ka_add_groupby_features_1_vs_n(df, group_columns_list, agg_dict, only_new_feature=True):\n",
    "    '''Create statistical columns, group by [N columns] and compute stats on [N column]\n",
    "\n",
    "       Parameters\n",
    "       ----------\n",
    "       df: pandas dataframe\n",
    "          Features matrix\n",
    "       group_columns_list: list_like\n",
    "          List of columns you want to group with, could be multiple columns\n",
    "       agg_dict: python dictionary\n",
    "\n",
    "       Return\n",
    "       ------\n",
    "       new pandas dataframe with original columns and new added columns\n",
    "\n",
    "       Example\n",
    "       -------\n",
    "       {real_column_name: {your_specified_new_column_name : method}}\n",
    "       agg_dict = {'user_id':{'prod_tot_cnts':'count'},\n",
    "                   'reordered':{'reorder_tot_cnts_of_this_prod':'sum'},\n",
    "                   'user_buy_product_times': {'prod_order_once':lambda x: sum(x==1),\n",
    "                                              'prod_order_more_than_once':lambda x: sum(x==2)}}\n",
    "       ka_add_stats_features_1_vs_n(train, ['product_id'], agg_dict)\n",
    "    '''\n",
    "    with tick_tock(\"add stats features\"):\n",
    "        try:\n",
    "            if type(group_columns_list) == list:\n",
    "                pass\n",
    "            else:\n",
    "                raise TypeError(k + \"should be a list\")\n",
    "        except TypeError as e:\n",
    "            print(e)\n",
    "            raise\n",
    "\n",
    "        df_new = df.copy()\n",
    "        grouped = df_new.groupby(group_columns_list)\n",
    "\n",
    "        the_stats = grouped.agg(agg_dict)\n",
    "        the_stats.columns = the_stats.columns.droplevel(0)\n",
    "        the_stats.reset_index(inplace=True)\n",
    "        if only_new_feature:\n",
    "            df_new = the_stats\n",
    "        else:\n",
    "            df_new = pd.merge(left=df_new, right=the_stats, on=group_columns_list, how='left')\n",
    "\n",
    "    return df_new\n",
    "\n",
    "def ka_add_groupby_features_n_vs_1(df, group_columns_list, target_columns_list, methods_list, keep_only_stats=True, verbose=1):\n",
    "    '''Create statistical columns, group by [N columns] and compute stats on [1 column]\n",
    "\n",
    "       Parameters\n",
    "       ----------\n",
    "       df: pandas dataframe\n",
    "          Features matrix\n",
    "       group_columns_list: list_like\n",
    "          List of columns you want to group with, could be multiple columns\n",
    "       target_columns_list: list_like\n",
    "          column you want to compute stats, need to be a list with only one element\n",
    "       methods_list: list_like\n",
    "          methods that you want to use, all methods that supported by groupby in Pandas\n",
    "\n",
    "       Return\n",
    "       ------\n",
    "       new pandas dataframe with original columns and new added columns\n",
    "\n",
    "       Example\n",
    "       -------\n",
    "       ka_add_stats_features_n_vs_1(train, group_columns_list=['x0'], target_columns_list=['x10'])\n",
    "    '''\n",
    "    with tick_tock(\"add stats features\", verbose):\n",
    "        dicts = {\"group_columns_list\": group_columns_list , \"target_columns_list\": target_columns_list, \"methods_list\" :methods_list}\n",
    "\n",
    "        for k, v in dicts.items():\n",
    "            try:\n",
    "                if type(v) == list:\n",
    "                    pass\n",
    "                else:\n",
    "                    raise TypeError(k + \"should be a list\")\n",
    "            except TypeError as e:\n",
    "                print(e)\n",
    "                raise\n",
    "\n",
    "        grouped_name = ''.join(group_columns_list)\n",
    "        target_name = ''.join(target_columns_list)\n",
    "        combine_name = [[grouped_name] + [method_name] + [target_name] for method_name in methods_list]\n",
    "\n",
    "        df_new = df.copy()\n",
    "        grouped = df_new.groupby(group_columns_list)\n",
    "\n",
    "        the_stats = grouped[target_name].agg(methods_list).reset_index()\n",
    "        the_stats.columns = [grouped_name] + \\\n",
    "                            ['_%s_%s_by_%s' % (grouped_name, method_name, target_name) \\\n",
    "                             for (grouped_name, method_name, target_name) in combine_name]\n",
    "        if keep_only_stats:\n",
    "            return the_stats\n",
    "        else:\n",
    "            df_new = pd.merge(left=df_new, right=the_stats, on=group_columns_list, how='left')\n",
    "        return df_new"
   ]
  },
  {
   "cell_type": "code",
   "execution_count": 8,
   "metadata": {
    "collapsed": true
   },
   "outputs": [],
   "source": [
    "path_data = 'data/'\n",
    "priors, train, orders, products, aisles, departments, sample_submission = load_data(path_data)"
   ]
  },
  {
   "cell_type": "markdown",
   "metadata": {},
   "source": [
    "## Train из предпоследних товаров"
   ]
  },
  {
   "cell_type": "code",
   "execution_count": 19,
   "metadata": {
    "collapsed": true
   },
   "outputs": [],
   "source": [
    "prior_base = pd.merge(priors, orders, on=['order_id'], how='left')\n",
    "\n",
    "tmp = pd.DataFrame(prior_base.groupby('user_id')['order_number'].max())\n",
    "tmp.columns = ['max_order_number_']\n",
    "tmp.reset_index(inplace=True)\n",
    "\n",
    "prior_base = pd.merge(prior_base, tmp, on=['user_id'], how='left')\n",
    "prior_base['to_new_train'] = prior_base['order_number'] == prior_base['max_order_number_']\n",
    "\n",
    "new_train = prior_base[prior_base.to_new_train]\n",
    "prior_base.drop(prior_base[prior_base.to_new_train].index, inplace=True)\n",
    "\n",
    "\n",
    "\n",
    "del new_train['eval_set']\n",
    "del new_train['max_order_number_']\n",
    "del new_train['to_new_train']\n",
    "\n",
    "train1 = new_train.copy()\n",
    "train1= train1[['order_id','product_id','add_to_cart_order','reordered']]\n",
    "\n",
    "del new_train['add_to_cart_order']\n",
    "\n",
    "\n",
    "del prior_base['max_order_number_']\n",
    "del prior_base['to_new_train']"
   ]
  },
  {
   "cell_type": "code",
   "execution_count": 6,
   "metadata": {
    "collapsed": true
   },
   "outputs": [],
   "source": [
    "prior_base1 = prior_base[['user_id', 'product_id']]\n",
    "prior_base1 = prior_base1.drop_duplicates()\n",
    "\n",
    "tmp = pd.DataFrame(new_train.groupby('order_id')['user_id'].mean())\n",
    "tmp['order_id'] = tmp.index\n",
    "tmp.index = tmp.user_id\n",
    "new_train = pd.merge(prior_base1, tmp, on='user_id')"
   ]
  },
  {
   "cell_type": "code",
   "execution_count": 7,
   "metadata": {
    "collapsed": true
   },
   "outputs": [],
   "source": [
    "del new_train['user_id']\n",
    "new_train = pd.merge(new_train, orders, on=['order_id'], how='left')\n",
    "del new_train['eval_set']\n",
    "\n",
    "new_train = pd.merge(new_train, train1, on=['order_id', 'product_id'], how='left')\n",
    "del new_train['add_to_cart_order']\n",
    "new_train = new_train.fillna(0)"
   ]
  },
  {
   "cell_type": "markdown",
   "metadata": {},
   "source": [
    "## В train только юзеров из test"
   ]
  },
  {
   "cell_type": "code",
   "execution_count": 66,
   "metadata": {
    "collapsed": true
   },
   "outputs": [],
   "source": [
    "tmp = pd.merge(sample_submission, orders, on=['order_id'], how='left')\n",
    "tmp = tmp[['user_id', 'order_id']]\n",
    "tmp = pd.DataFrame(tmp.groupby('user_id')['order_id'].max())\n",
    "tmp.reset_index(inplace=True)\n",
    "tmp.columns = ['user_id', 'tmp']\n",
    "\n",
    "new_train = pd.merge(new_train, tmp, on=['user_id'], how='left')\n",
    "new_train['tmp'] = new_train['tmp'].isnull()\n",
    "new_train['tmp'] = 1 - new_train['tmp']\n",
    "\n",
    "new_train = new_train[new_train.tmp == 1]\n",
    "del new_train['tmp']"
   ]
  },
  {
   "cell_type": "code",
   "execution_count": 118,
   "metadata": {},
   "outputs": [
    {
     "data": {
      "text/plain": [
       "52380"
      ]
     },
     "execution_count": 118,
     "metadata": {},
     "output_type": "execute_result"
    }
   ],
   "source": [
    "import gc\n",
    "gc.collect()"
   ]
  },
  {
   "cell_type": "code",
   "execution_count": 19,
   "metadata": {},
   "outputs": [
    {
     "data": {
      "text/plain": [
       "1"
      ]
     },
     "execution_count": 19,
     "metadata": {},
     "output_type": "execute_result"
    }
   ],
   "source": [
    "1"
   ]
  },
  {
   "cell_type": "markdown",
   "metadata": {},
   "source": [
    "## Train"
   ]
  },
  {
   "cell_type": "code",
   "execution_count": 14,
   "metadata": {
    "collapsed": true
   },
   "outputs": [],
   "source": [
    "X_train = pd.merge(train, orders, on=['order_id'], how='left')\n",
    "prior_base = pd.merge(priors, orders, on=['order_id'], how='left')\n",
    "prior_base = prior_base[['user_id', 'product_id']]\n",
    "prior_base = prior_base.drop_duplicates()\n",
    "\n",
    "tmp = pd.DataFrame(X_train.groupby('order_id')['user_id'].mean())\n",
    "tmp['order_id'] = tmp.index\n",
    "tmp.index = tmp.user_id\n",
    "X_train = pd.merge(prior_base, tmp, on='user_id')\n",
    "del X_train['user_id']\n",
    "X_train = pd.merge(X_train, orders, on=['order_id'], how='left')\n",
    "del X_train['eval_set']\n",
    "\n",
    "\n",
    "X_train = pd.merge(X_train, train, on=['order_id', 'product_id'], how='left')\n",
    "del X_train['add_to_cart_order']\n",
    "X_train = X_train.fillna(0)"
   ]
  },
  {
   "cell_type": "code",
   "execution_count": 6,
   "metadata": {},
   "outputs": [
    {
     "data": {
      "text/html": [
       "<div>\n",
       "<style>\n",
       "    .dataframe thead tr:only-child th {\n",
       "        text-align: right;\n",
       "    }\n",
       "\n",
       "    .dataframe thead th {\n",
       "        text-align: left;\n",
       "    }\n",
       "\n",
       "    .dataframe tbody tr th {\n",
       "        vertical-align: top;\n",
       "    }\n",
       "</style>\n",
       "<table border=\"1\" class=\"dataframe\">\n",
       "  <thead>\n",
       "    <tr style=\"text-align: right;\">\n",
       "      <th></th>\n",
       "      <th>product_id</th>\n",
       "      <th>order_id</th>\n",
       "      <th>user_id</th>\n",
       "      <th>order_number</th>\n",
       "      <th>order_dow</th>\n",
       "      <th>order_hour_of_day</th>\n",
       "      <th>days_since_prior_order</th>\n",
       "      <th>reordered</th>\n",
       "    </tr>\n",
       "  </thead>\n",
       "  <tbody>\n",
       "    <tr>\n",
       "      <th>0</th>\n",
       "      <td>33120</td>\n",
       "      <td>1050357</td>\n",
       "      <td>202279</td>\n",
       "      <td>9</td>\n",
       "      <td>1</td>\n",
       "      <td>14</td>\n",
       "      <td>30.0</td>\n",
       "      <td>1.0</td>\n",
       "    </tr>\n",
       "    <tr>\n",
       "      <th>1</th>\n",
       "      <td>28985</td>\n",
       "      <td>1050357</td>\n",
       "      <td>202279</td>\n",
       "      <td>9</td>\n",
       "      <td>1</td>\n",
       "      <td>14</td>\n",
       "      <td>30.0</td>\n",
       "      <td>0.0</td>\n",
       "    </tr>\n",
       "    <tr>\n",
       "      <th>2</th>\n",
       "      <td>9327</td>\n",
       "      <td>1050357</td>\n",
       "      <td>202279</td>\n",
       "      <td>9</td>\n",
       "      <td>1</td>\n",
       "      <td>14</td>\n",
       "      <td>30.0</td>\n",
       "      <td>0.0</td>\n",
       "    </tr>\n",
       "    <tr>\n",
       "      <th>3</th>\n",
       "      <td>45918</td>\n",
       "      <td>1050357</td>\n",
       "      <td>202279</td>\n",
       "      <td>9</td>\n",
       "      <td>1</td>\n",
       "      <td>14</td>\n",
       "      <td>30.0</td>\n",
       "      <td>0.0</td>\n",
       "    </tr>\n",
       "    <tr>\n",
       "      <th>4</th>\n",
       "      <td>30035</td>\n",
       "      <td>1050357</td>\n",
       "      <td>202279</td>\n",
       "      <td>9</td>\n",
       "      <td>1</td>\n",
       "      <td>14</td>\n",
       "      <td>30.0</td>\n",
       "      <td>0.0</td>\n",
       "    </tr>\n",
       "    <tr>\n",
       "      <th>5</th>\n",
       "      <td>17794</td>\n",
       "      <td>1050357</td>\n",
       "      <td>202279</td>\n",
       "      <td>9</td>\n",
       "      <td>1</td>\n",
       "      <td>14</td>\n",
       "      <td>30.0</td>\n",
       "      <td>0.0</td>\n",
       "    </tr>\n",
       "    <tr>\n",
       "      <th>6</th>\n",
       "      <td>40141</td>\n",
       "      <td>1050357</td>\n",
       "      <td>202279</td>\n",
       "      <td>9</td>\n",
       "      <td>1</td>\n",
       "      <td>14</td>\n",
       "      <td>30.0</td>\n",
       "      <td>0.0</td>\n",
       "    </tr>\n",
       "  </tbody>\n",
       "</table>\n",
       "</div>"
      ],
      "text/plain": [
       "   product_id  order_id  user_id  order_number  order_dow  order_hour_of_day  \\\n",
       "0       33120   1050357   202279             9          1                 14   \n",
       "1       28985   1050357   202279             9          1                 14   \n",
       "2        9327   1050357   202279             9          1                 14   \n",
       "3       45918   1050357   202279             9          1                 14   \n",
       "4       30035   1050357   202279             9          1                 14   \n",
       "5       17794   1050357   202279             9          1                 14   \n",
       "6       40141   1050357   202279             9          1                 14   \n",
       "\n",
       "   days_since_prior_order  reordered  \n",
       "0                    30.0        1.0  \n",
       "1                    30.0        0.0  \n",
       "2                    30.0        0.0  \n",
       "3                    30.0        0.0  \n",
       "4                    30.0        0.0  \n",
       "5                    30.0        0.0  \n",
       "6                    30.0        0.0  "
      ]
     },
     "execution_count": 6,
     "metadata": {},
     "output_type": "execute_result"
    }
   ],
   "source": [
    "X_train[:7]"
   ]
  },
  {
   "cell_type": "code",
   "execution_count": null,
   "metadata": {
    "collapsed": true
   },
   "outputs": [],
   "source": []
  },
  {
   "cell_type": "code",
   "execution_count": null,
   "metadata": {
    "collapsed": true
   },
   "outputs": [],
   "source": []
  },
  {
   "cell_type": "code",
   "execution_count": 8,
   "metadata": {
    "collapsed": true
   },
   "outputs": [],
   "source": [
    "X_train = new_train"
   ]
  },
  {
   "cell_type": "code",
   "execution_count": 20,
   "metadata": {
    "collapsed": true
   },
   "outputs": [],
   "source": [
    "# Количество раз, которое был куплен товар пользователем\n",
    "prior_base = pd.merge(priors, orders, on=['order_id'], how='left')\n",
    "tmp = pd.DataFrame(prior_base.groupby(['user_id', 'product_id'])['order_id'].count())\n",
    "tmp.reset_index(inplace=True)\n",
    "tmp.columns = ['user_id', 'product_id', 'ord_count']\n",
    "X_train = pd.merge(X_train, tmp, on=['user_id', 'product_id'], how='left')\n",
    "\n",
    "# Доля товара в заказах\n",
    "X_train['part_ord'] = X_train['ord_count'] / X_train['order_number']\n",
    "\n",
    "# Среднее место в корзине\n",
    "tmp = pd.DataFrame(prior_base.groupby(['user_id', 'product_id'])['add_to_cart_order'].mean())\n",
    "tmp.reset_index(inplace=True)\n",
    "tmp.columns = ['user_id', 'product_id', 'ave_add_to_cart_order']\n",
    "X_train = pd.merge(X_train, tmp, on=['user_id', 'product_id'], how='left')\n",
    "\n",
    "# Макс место в корзине\n",
    "tmp = pd.DataFrame(prior_base.groupby(['user_id', 'product_id'])['add_to_cart_order'].max())\n",
    "tmp.reset_index(inplace=True)\n",
    "tmp.columns = ['user_id', 'product_id', 'max_add_to_cart_order']\n",
    "X_train = pd.merge(X_train, tmp, on=['user_id', 'product_id'], how='left')\n",
    "\n",
    "# Мин место в корзине\n",
    "tmp = pd.DataFrame(prior_base.groupby(['user_id', 'product_id'])['add_to_cart_order'].min())\n",
    "tmp.reset_index(inplace=True)\n",
    "tmp.columns = ['user_id', 'product_id', 'min_add_to_cart_order']\n",
    "X_train = pd.merge(X_train, tmp, on=['user_id', 'product_id'], how='left')\n",
    "\n",
    "# Число заказов пользователя\n",
    "tmp = pd.DataFrame(prior_base.groupby(['user_id'])['product_id'].count())\n",
    "tmp['user_id'] = tmp.index\n",
    "tmp.columns = ['tot_prod_count_user', 'user_id']\n",
    "X_train = pd.merge(X_train, tmp, on=['user_id'], how='left')\n",
    "\n",
    "# Доля заказов продукта пользователем ко всем заказам пользователя\n",
    "X_train['tot_part_ord'] = X_train['ord_count'] / X_train['tot_prod_count_user']\n",
    "\n",
    "# Средний размер корзины\n",
    "X_train['ave_cart'] = X_train['tot_prod_count_user'] / X_train['order_number']\n",
    "\n",
    "# Количество раз, которое товар покупался всего \n",
    "tmp = pd.DataFrame(prior_base.groupby(['product_id'])['product_id'].count())\n",
    "tmp.columns = ['prod_tot_count']\n",
    "tmp['product_id'] = tmp.index\n",
    "tmp.columns = ['prod_tot_count', 'product_id']\n",
    "X_train = pd.merge(X_train, tmp, on=['product_id'], how='left')\n",
    "\n",
    "# Количество раз, которое товар перепокупался всего \n",
    "tmp = pd.DataFrame(prior_base[prior_base.reordered==1].groupby(['product_id'])['product_id'].count())\n",
    "tmp.columns = ['prod_tot_reord_count']\n",
    "tmp['product_id'] = tmp.index\n",
    "tmp.columns = ['prod_tot_reord_count', 'product_id']\n",
    "X_train = pd.merge(X_train, tmp, on=['product_id'], how='left')\n",
    "\n",
    "# Доля перепокупок\n",
    "X_train['tot_reord_part'] = X_train['prod_tot_reord_count'] / X_train['prod_tot_count']\n",
    "\n",
    "# Номер предыдущего заказа товара\n",
    "tmp = pd.DataFrame(prior_base.groupby(['user_id','product_id'])['order_number'].max())\n",
    "tmp.reset_index(inplace=True)\n",
    "tmp.columns = ['user_id', 'product_id', 'max_last_order']\n",
    "X_train = pd.merge(X_train, tmp, on=['user_id', 'product_id'], how='left')\n",
    "\n",
    "# Расстояние до предыдущего заказа\n",
    "X_train['last_ord_dist'] = X_train['order_number'] - X_train['max_last_order']\n",
    "\n",
    "# Ордер, в котором товар был куплен первый раз\n",
    "tmp = pd.DataFrame(prior_base.groupby(['user_id','product_id'])['order_number'].min())\n",
    "tmp.reset_index(inplace=True)\n",
    "tmp.columns = ['user_id', 'product_id', 'min_last_order']\n",
    "X_train = pd.merge(X_train, tmp, on=['user_id', 'product_id'], how='left')\n",
    "\n",
    "# Расстояние до первого заказа\n",
    "X_train['min_ord_dist'] = X_train['order_number'] - X_train['min_last_order']\n",
    "\n",
    "# Расстояние между первой и последней покупкой\n",
    "X_train['dist_min_max_ord'] = X_train['max_last_order'] - X_train['min_last_order']\n",
    "# Среднее число заказов товара за ордер в этот период\n",
    "X_train['ave_min_max_count'] = X_train['ord_count'] / X_train['dist_min_max_ord']\n",
    "\n",
    "# Среднее число заказов товара за ордер с момента первой покупки\n",
    "X_train['ave_min_count'] = X_train['ord_count'] / X_train['min_ord_dist']\n",
    "\n",
    "# Среднее время между заказами\n",
    "tmp = pd.DataFrame(prior_base.groupby(['user_id'])['days_since_prior_order'].mean())\n",
    "tmp.columns = ['ave_time']\n",
    "tmp['user_id'] = tmp.index\n",
    "tmp.columns = ['ave_time', 'user_id']\n",
    "X_train = pd.merge(X_train, tmp, on=['user_id'], how='left')\n",
    "\n",
    "# Отношение времени до предыдущего заказа к среднему\n",
    "X_train['rate_time'] = X_train['days_since_prior_order'] / X_train['ave_time']"
   ]
  },
  {
   "cell_type": "code",
   "execution_count": 21,
   "metadata": {
    "collapsed": true
   },
   "outputs": [],
   "source": [
    "X_train = pd.merge(X_train, products, on=['product_id'], how='left')\n",
    "del X_train['product_name']\n",
    "\n",
    "prior_base = pd.merge(prior_base, products, on=['product_id'], how='left')\n",
    "prior_base = pd.merge(prior_base, pd.DataFrame(X_train[['user_id', 'product_id','max_last_order']]), on=['user_id', 'product_id'], how='left')\n",
    "\n",
    "tmp = X_train[['user_id', 'product_id', 'order_number']]\n",
    "tmp.columns = ['user_id', 'product_id', 'cur_order_number']\n",
    "prior_base = pd.merge(prior_base, tmp, on=['user_id', 'product_id'], how='left')\n",
    "prior_base['dist_to_ord'] = prior_base['cur_order_number'] - prior_base['order_number']\n",
    "\n",
    "\n",
    "# Время в днях с последнего заказа пользователем этого товара\n",
    "tmp = pd.DataFrame(prior_base.groupby(['user_id','order_number'])['order_id', 'days_since_prior_order'].mean())\n",
    "tmp.reset_index(inplace=True)\n",
    "del tmp['order_id']\n",
    "\n",
    "tmp1 = pd.DataFrame(prior_base.groupby(['user_id','product_id'])['max_last_order'].mean())\n",
    "tmp1.reset_index(inplace=True)\n",
    "\n",
    "mask = pd.merge(tmp, tmp1, on=['user_id'], how='inner')['max_last_order'] < pd.merge(tmp, tmp1, on=['user_id'], how='inner')['order_number']\n",
    "base = pd.merge(tmp, tmp1, on=['user_id'], how='inner')[mask]\n",
    "base = pd.DataFrame(base.groupby(['user_id', 'product_id'])['days_since_prior_order'].sum())\n",
    "base.columns = ['days_to last_buy']\n",
    "\n",
    "base.reset_index(inplace=True)\n",
    "X_train = pd.merge(X_train, base, on=['user_id', 'product_id'], how='left')\n",
    "\n",
    "\n",
    "\n",
    "# Среднее число дней до предыдущего заказа по товару\n",
    "tmp = pd.DataFrame(prior_base.groupby(['user_id','product_id'])['days_since_prior_order'].mean())\n",
    "tmp.reset_index(inplace=True)\n",
    "tmp.columns = ['user_id', 'product_id', 'ave_last_ord']\n",
    "X_train = pd.merge(X_train, tmp, on=['user_id', 'product_id'], how='left')"
   ]
  },
  {
   "cell_type": "code",
   "execution_count": 22,
   "metadata": {
    "collapsed": true
   },
   "outputs": [],
   "source": [
    "tmp = pd.DataFrame(prior_base.groupby(['department_id'])['reordered'].mean())\n",
    "tmp.columns = ['like_dep']\n",
    "tmp['department_id'] = tmp.index\n",
    "tmp.columns = ['like_dep', 'department_id']\n",
    "X_train = pd.merge(X_train, tmp, on=['department_id'], how='left')\n",
    "\n",
    "tmp = pd.DataFrame(prior_base.groupby(['aisle_id'])['reordered'].mean())\n",
    "tmp.columns = ['like_aisle']\n",
    "tmp['aisle_id'] = tmp.index\n",
    "tmp.columns = ['like_aisle', 'aisle_id']\n",
    "X_train = pd.merge(X_train, tmp, on=['aisle_id'], how='left')\n",
    "\n",
    "tmp = pd.DataFrame(prior_base.groupby(['department_id', 'user_id'])['reordered'].mean())\n",
    "tmp.columns = ['like_dep_user']\n",
    "tmp.reset_index(inplace=True)\n",
    "X_train = pd.merge(X_train, tmp, on=['department_id', 'user_id'], how='left')\n",
    "\n",
    "tmp = pd.DataFrame(prior_base.groupby(['aisle_id', 'user_id'])['reordered'].mean())\n",
    "tmp.columns = ['like_aisle_user']\n",
    "tmp.reset_index(inplace=True)\n",
    "X_train = pd.merge(X_train, tmp, on=['aisle_id', 'user_id'], how='left')\n",
    "\n",
    "tmp = pd.DataFrame(prior_base.groupby(['user_id', 'product_id'])['reordered'].mean())\n",
    "tmp.columns = ['like_user_prod']\n",
    "tmp.reset_index(inplace=True)\n",
    "X_train = pd.merge(X_train, tmp, on=['user_id', 'product_id'], how='left')"
   ]
  },
  {
   "cell_type": "code",
   "execution_count": 23,
   "metadata": {
    "collapsed": true
   },
   "outputs": [],
   "source": [
    "# Сколько раз товар покупался пользователем за последние 3 заказа\n",
    "tmp = pd.DataFrame(prior_base[prior_base.dist_to_ord <= 3].groupby(['user_id', 'product_id'])['order_id'].count())\n",
    "tmp.columns = ['last_3_count']\n",
    "tmp.reset_index(inplace=True)\n",
    "X_train = pd.merge(X_train, tmp, on=['user_id', 'product_id'], how='left')\n",
    "X_train['last_3_count'] = X_train['last_3_count'].fillna(0)\n",
    "\n",
    "# Сколько раз товар покупался пользователем за последние 5 заказа\n",
    "tmp = pd.DataFrame(prior_base[prior_base.dist_to_ord <= 5].groupby(['user_id', 'product_id'])['order_id'].count())\n",
    "tmp.columns = ['last_5_count']\n",
    "tmp.reset_index(inplace=True)\n",
    "X_train = pd.merge(X_train, tmp, on=['user_id', 'product_id'], how='left')\n",
    "X_train['last_5_count'] = X_train['last_5_count'].fillna(0)\n",
    "\n",
    "# Сколько раз товар покупался пользователем за последние 7 заказа\n",
    "tmp = pd.DataFrame(prior_base[prior_base.dist_to_ord <= 7].groupby(['user_id', 'product_id'])['order_id'].count())\n",
    "tmp.columns = ['last_7_count']\n",
    "tmp.reset_index(inplace=True)\n",
    "X_train = pd.merge(X_train, tmp, on=['user_id', 'product_id'], how='left')\n",
    "X_train['last_7_count'] = X_train['last_7_count'].fillna(0)\n",
    "\n",
    "# Среднее время, когда покупался товар\n",
    "tmp = pd.DataFrame(prior_base.groupby(['product_id'])['order_hour_of_day'].mean())\n",
    "tmp['product_id'] = tmp.index\n",
    "tmp.columns = ['ave_time_of_product', 'product_id']\n",
    "X_train = pd.merge(X_train, tmp, on=['product_id'], how='left')\n",
    "\n",
    "# Время до среднего времени заказа этого товара\n",
    "X_train['dist_to_ave_time'] = np.abs(X_train['ave_time_of_product'] - X_train['order_hour_of_day'])"
   ]
  },
  {
   "cell_type": "code",
   "execution_count": 124,
   "metadata": {},
   "outputs": [
    {
     "data": {
      "text/plain": [
       "(8474661, 43)"
      ]
     },
     "execution_count": 124,
     "metadata": {},
     "output_type": "execute_result"
    }
   ],
   "source": [
    "X_train.shape"
   ]
  },
  {
   "cell_type": "code",
   "execution_count": 11,
   "metadata": {},
   "outputs": [
    {
     "data": {
      "text/html": [
       "<div>\n",
       "<style>\n",
       "    .dataframe thead tr:only-child th {\n",
       "        text-align: right;\n",
       "    }\n",
       "\n",
       "    .dataframe thead th {\n",
       "        text-align: left;\n",
       "    }\n",
       "\n",
       "    .dataframe tbody tr th {\n",
       "        vertical-align: top;\n",
       "    }\n",
       "</style>\n",
       "<table border=\"1\" class=\"dataframe\">\n",
       "  <thead>\n",
       "    <tr style=\"text-align: right;\">\n",
       "      <th></th>\n",
       "      <th>product_id</th>\n",
       "      <th>order_id</th>\n",
       "      <th>user_id</th>\n",
       "      <th>order_number</th>\n",
       "      <th>order_dow</th>\n",
       "      <th>order_hour_of_day</th>\n",
       "      <th>days_since_prior_order</th>\n",
       "      <th>reordered</th>\n",
       "      <th>ord_count</th>\n",
       "      <th>part_ord</th>\n",
       "      <th>...</th>\n",
       "      <th>like_dep</th>\n",
       "      <th>like_aisle</th>\n",
       "      <th>like_dep_user</th>\n",
       "      <th>like_aisle_user</th>\n",
       "      <th>like_user_prod</th>\n",
       "      <th>last_3_count</th>\n",
       "      <th>last_5_count</th>\n",
       "      <th>last_7_count</th>\n",
       "      <th>ave_time_of_product</th>\n",
       "      <th>dist_to_ave_time</th>\n",
       "    </tr>\n",
       "  </thead>\n",
       "  <tbody>\n",
       "    <tr>\n",
       "      <th>0</th>\n",
       "      <td>33120</td>\n",
       "      <td>1050357</td>\n",
       "      <td>202279</td>\n",
       "      <td>9</td>\n",
       "      <td>1</td>\n",
       "      <td>14</td>\n",
       "      <td>30.0</td>\n",
       "      <td>1.0</td>\n",
       "      <td>5</td>\n",
       "      <td>0.555556</td>\n",
       "      <td>...</td>\n",
       "      <td>0.669969</td>\n",
       "      <td>0.705366</td>\n",
       "      <td>0.545455</td>\n",
       "      <td>0.666667</td>\n",
       "      <td>0.8</td>\n",
       "      <td>2.0</td>\n",
       "      <td>3.0</td>\n",
       "      <td>4.0</td>\n",
       "      <td>13.424381</td>\n",
       "      <td>0.575619</td>\n",
       "    </tr>\n",
       "    <tr>\n",
       "      <th>1</th>\n",
       "      <td>28985</td>\n",
       "      <td>1050357</td>\n",
       "      <td>202279</td>\n",
       "      <td>9</td>\n",
       "      <td>1</td>\n",
       "      <td>14</td>\n",
       "      <td>30.0</td>\n",
       "      <td>0.0</td>\n",
       "      <td>5</td>\n",
       "      <td>0.555556</td>\n",
       "      <td>...</td>\n",
       "      <td>0.649913</td>\n",
       "      <td>0.594546</td>\n",
       "      <td>0.700000</td>\n",
       "      <td>0.769231</td>\n",
       "      <td>0.8</td>\n",
       "      <td>1.0</td>\n",
       "      <td>2.0</td>\n",
       "      <td>4.0</td>\n",
       "      <td>13.571691</td>\n",
       "      <td>0.428309</td>\n",
       "    </tr>\n",
       "    <tr>\n",
       "      <th>2</th>\n",
       "      <td>9327</td>\n",
       "      <td>1050357</td>\n",
       "      <td>202279</td>\n",
       "      <td>9</td>\n",
       "      <td>1</td>\n",
       "      <td>14</td>\n",
       "      <td>30.0</td>\n",
       "      <td>0.0</td>\n",
       "      <td>1</td>\n",
       "      <td>0.111111</td>\n",
       "      <td>...</td>\n",
       "      <td>0.346721</td>\n",
       "      <td>0.152391</td>\n",
       "      <td>0.512195</td>\n",
       "      <td>0.500000</td>\n",
       "      <td>0.0</td>\n",
       "      <td>0.0</td>\n",
       "      <td>0.0</td>\n",
       "      <td>1.0</td>\n",
       "      <td>13.594698</td>\n",
       "      <td>0.405302</td>\n",
       "    </tr>\n",
       "    <tr>\n",
       "      <th>3</th>\n",
       "      <td>45918</td>\n",
       "      <td>1050357</td>\n",
       "      <td>202279</td>\n",
       "      <td>9</td>\n",
       "      <td>1</td>\n",
       "      <td>14</td>\n",
       "      <td>30.0</td>\n",
       "      <td>0.0</td>\n",
       "      <td>5</td>\n",
       "      <td>0.555556</td>\n",
       "      <td>...</td>\n",
       "      <td>0.346721</td>\n",
       "      <td>0.350843</td>\n",
       "      <td>0.512195</td>\n",
       "      <td>0.500000</td>\n",
       "      <td>0.8</td>\n",
       "      <td>2.0</td>\n",
       "      <td>3.0</td>\n",
       "      <td>5.0</td>\n",
       "      <td>13.646505</td>\n",
       "      <td>0.353495</td>\n",
       "    </tr>\n",
       "  </tbody>\n",
       "</table>\n",
       "<p>4 rows × 42 columns</p>\n",
       "</div>"
      ],
      "text/plain": [
       "   product_id  order_id  user_id  order_number  order_dow  order_hour_of_day  \\\n",
       "0       33120   1050357   202279             9          1                 14   \n",
       "1       28985   1050357   202279             9          1                 14   \n",
       "2        9327   1050357   202279             9          1                 14   \n",
       "3       45918   1050357   202279             9          1                 14   \n",
       "\n",
       "   days_since_prior_order  reordered  ord_count  part_ord        ...         \\\n",
       "0                    30.0        1.0          5  0.555556        ...          \n",
       "1                    30.0        0.0          5  0.555556        ...          \n",
       "2                    30.0        0.0          1  0.111111        ...          \n",
       "3                    30.0        0.0          5  0.555556        ...          \n",
       "\n",
       "   like_dep  like_aisle  like_dep_user  like_aisle_user  like_user_prod  \\\n",
       "0  0.669969    0.705366       0.545455         0.666667             0.8   \n",
       "1  0.649913    0.594546       0.700000         0.769231             0.8   \n",
       "2  0.346721    0.152391       0.512195         0.500000             0.0   \n",
       "3  0.346721    0.350843       0.512195         0.500000             0.8   \n",
       "\n",
       "   last_3_count  last_5_count  last_7_count  ave_time_of_product  \\\n",
       "0           2.0           3.0           4.0            13.424381   \n",
       "1           1.0           2.0           4.0            13.571691   \n",
       "2           0.0           0.0           1.0            13.594698   \n",
       "3           2.0           3.0           5.0            13.646505   \n",
       "\n",
       "   dist_to_ave_time  \n",
       "0          0.575619  \n",
       "1          0.428309  \n",
       "2          0.405302  \n",
       "3          0.353495  \n",
       "\n",
       "[4 rows x 42 columns]"
      ]
     },
     "execution_count": 11,
     "metadata": {},
     "output_type": "execute_result"
    }
   ],
   "source": [
    "X_train[:4]"
   ]
  },
  {
   "cell_type": "code",
   "execution_count": 24,
   "metadata": {},
   "outputs": [
    {
     "data": {
      "text/plain": [
       "(8474661, 42)"
      ]
     },
     "execution_count": 24,
     "metadata": {},
     "output_type": "execute_result"
    }
   ],
   "source": [
    "X_train.shape"
   ]
  },
  {
   "cell_type": "code",
   "execution_count": 26,
   "metadata": {
    "collapsed": true
   },
   "outputs": [],
   "source": []
  },
  {
   "cell_type": "code",
   "execution_count": 27,
   "metadata": {
    "collapsed": true
   },
   "outputs": [],
   "source": [
    "X_train_public = pd.read_csv('public_train.csv')\n",
    "X_train_public.fillna(0, inplace=True)\n",
    "del X_train_public['reordered']\n",
    "X_train = pd.merge(X_train, X_train_public, on=['user_id', 'product_id'], how='left')"
   ]
  },
  {
   "cell_type": "code",
   "execution_count": 29,
   "metadata": {
    "collapsed": true
   },
   "outputs": [],
   "source": [
    "del X_train['user_id']\n",
    "del X_train['product_id']\n",
    "del X_train['order_id']"
   ]
  },
  {
   "cell_type": "code",
   "execution_count": 28,
   "metadata": {
    "collapsed": true
   },
   "outputs": [],
   "source": []
  },
  {
   "cell_type": "code",
   "execution_count": 29,
   "metadata": {
    "collapsed": true
   },
   "outputs": [],
   "source": []
  },
  {
   "cell_type": "code",
   "execution_count": 30,
   "metadata": {
    "collapsed": true
   },
   "outputs": [],
   "source": []
  },
  {
   "cell_type": "code",
   "execution_count": 32,
   "metadata": {
    "collapsed": true
   },
   "outputs": [],
   "source": []
  },
  {
   "cell_type": "code",
   "execution_count": 33,
   "metadata": {
    "collapsed": true
   },
   "outputs": [],
   "source": []
  },
  {
   "cell_type": "code",
   "execution_count": 35,
   "metadata": {
    "collapsed": true
   },
   "outputs": [],
   "source": []
  },
  {
   "cell_type": "code",
   "execution_count": 36,
   "metadata": {
    "collapsed": true
   },
   "outputs": [],
   "source": []
  },
  {
   "cell_type": "code",
   "execution_count": 38,
   "metadata": {
    "collapsed": true
   },
   "outputs": [],
   "source": []
  },
  {
   "cell_type": "code",
   "execution_count": 40,
   "metadata": {
    "collapsed": true
   },
   "outputs": [],
   "source": [
    "df = pd.read_pickle('imba/data/user_department_products.pkl')\n",
    "X_train = pd.merge(X_train, df, on=['user_id', 'department_id'], how='left')\n",
    "df = pd.read_pickle('imba/data/user_aisle_products.pkl')\n",
    "X_train = pd.merge(X_train, df, on=['user_id', 'aisle_id'], how='left')\n",
    "df = pd.read_pickle('imba/data/product_periods_stat.pkl')\n",
    "X_train = pd.merge(X_train, df, on=['user_id', 'product_id'], how='left')\n",
    "df = pd.read_pickle('imba/data/product_embeddings.pkl')\n",
    "del df['product_name']\n",
    "X_train = pd.merge(X_train, df, on=['product_id'], how='left')\n",
    "df = pd.read_pickle('imba/data/orders_comsum.pkl')\n",
    "X_train = pd.merge(X_train, df, on=['user_id', 'order_number'], how='left')"
   ]
  },
  {
   "cell_type": "code",
   "execution_count": 42,
   "metadata": {
    "collapsed": true
   },
   "outputs": [],
   "source": []
  },
  {
   "cell_type": "code",
   "execution_count": 43,
   "metadata": {
    "collapsed": true
   },
   "outputs": [],
   "source": []
  },
  {
   "cell_type": "code",
   "execution_count": 44,
   "metadata": {
    "collapsed": true
   },
   "outputs": [],
   "source": []
  },
  {
   "cell_type": "code",
   "execution_count": 46,
   "metadata": {
    "collapsed": true
   },
   "outputs": [],
   "source": []
  },
  {
   "cell_type": "code",
   "execution_count": 47,
   "metadata": {},
   "outputs": [
    {
     "data": {
      "text/plain": [
       "(8474661, 110)"
      ]
     },
     "execution_count": 47,
     "metadata": {},
     "output_type": "execute_result"
    }
   ],
   "source": [
    "X_train.shape"
   ]
  },
  {
   "cell_type": "code",
   "execution_count": 50,
   "metadata": {
    "collapsed": true
   },
   "outputs": [],
   "source": [
    "X_train.to_csv('tr.csv')"
   ]
  },
  {
   "cell_type": "code",
   "execution_count": 52,
   "metadata": {},
   "outputs": [
    {
     "ename": "ModuleNotFoundError",
     "evalue": "No module named 'seaborn'",
     "output_type": "error",
     "traceback": [
      "\u001b[0;31m---------------------------------------------------------------------------\u001b[0m",
      "\u001b[0;31mModuleNotFoundError\u001b[0m                       Traceback (most recent call last)",
      "\u001b[0;32m<ipython-input-52-202760eec248>\u001b[0m in \u001b[0;36m<module>\u001b[0;34m()\u001b[0m\n\u001b[0;32m----> 1\u001b[0;31m \u001b[0;32mimport\u001b[0m \u001b[0mseaborn\u001b[0m \u001b[0;32mas\u001b[0m \u001b[0msns\u001b[0m\u001b[0;34m\u001b[0m\u001b[0m\n\u001b[0m\u001b[1;32m      2\u001b[0m \u001b[0mCorrKoef\u001b[0m \u001b[0;34m=\u001b[0m \u001b[0mX_train\u001b[0m\u001b[0;34m.\u001b[0m\u001b[0mcorr\u001b[0m\u001b[0;34m(\u001b[0m\u001b[0;34m)\u001b[0m\u001b[0;34m\u001b[0m\u001b[0m\n\u001b[1;32m      3\u001b[0m \u001b[0;31m#pylab.figure(figsize=(50, 25))\u001b[0m\u001b[0;34m\u001b[0m\u001b[0;34m\u001b[0m\u001b[0m\n\u001b[1;32m      4\u001b[0m \u001b[0msns\u001b[0m\u001b[0;34m.\u001b[0m\u001b[0mheatmap\u001b[0m\u001b[0;34m(\u001b[0m\u001b[0mCorrKoef\u001b[0m\u001b[0;34m,\u001b[0m \u001b[0mannot\u001b[0m\u001b[0;34m=\u001b[0m\u001b[0;32mFalse\u001b[0m\u001b[0;34m)\u001b[0m\u001b[0;34m\u001b[0m\u001b[0m\n",
      "\u001b[0;31mModuleNotFoundError\u001b[0m: No module named 'seaborn'"
     ]
    }
   ],
   "source": [
    "import seaborn as sns\n",
    "CorrKoef = X_train.corr()\n",
    "#pylab.figure(figsize=(50, 25))\n",
    "sns.heatmap(CorrKoef, annot=False)"
   ]
  },
  {
   "cell_type": "code",
   "execution_count": 134,
   "metadata": {},
   "outputs": [
    {
     "data": {
      "text/plain": [
       "583"
      ]
     },
     "execution_count": 134,
     "metadata": {},
     "output_type": "execute_result"
    }
   ],
   "source": [
    "\n",
    "import gc\n",
    "gc.collect()"
   ]
  },
  {
   "cell_type": "code",
   "execution_count": 29,
   "metadata": {
    "collapsed": true
   },
   "outputs": [],
   "source": [
    "y_train.index = range(len(X_train))"
   ]
  },
  {
   "cell_type": "code",
   "execution_count": 21,
   "metadata": {},
   "outputs": [
    {
     "ename": "FileNotFoundError",
     "evalue": "File b'te.csv' does not exist",
     "output_type": "error",
     "traceback": [
      "\u001b[0;31m---------------------------------------------------------------------------\u001b[0m",
      "\u001b[0;31mFileNotFoundError\u001b[0m                         Traceback (most recent call last)",
      "\u001b[0;32m<ipython-input-21-940b74f9cbd1>\u001b[0m in \u001b[0;36m<module>\u001b[0;34m()\u001b[0m\n\u001b[0;32m----> 1\u001b[0;31m \u001b[0mX_train\u001b[0m \u001b[0;34m=\u001b[0m \u001b[0mpd\u001b[0m\u001b[0;34m.\u001b[0m\u001b[0mread_csv\u001b[0m\u001b[0;34m(\u001b[0m\u001b[0;34m'te.csv'\u001b[0m\u001b[0;34m)\u001b[0m\u001b[0;34m\u001b[0m\u001b[0m\n\u001b[0m",
      "\u001b[0;32m/home/fattahov.ao/anaconda3/lib/python3.6/site-packages/pandas/io/parsers.py\u001b[0m in \u001b[0;36mparser_f\u001b[0;34m(filepath_or_buffer, sep, delimiter, header, names, index_col, usecols, squeeze, prefix, mangle_dupe_cols, dtype, engine, converters, true_values, false_values, skipinitialspace, skiprows, nrows, na_values, keep_default_na, na_filter, verbose, skip_blank_lines, parse_dates, infer_datetime_format, keep_date_col, date_parser, dayfirst, iterator, chunksize, compression, thousands, decimal, lineterminator, quotechar, quoting, escapechar, comment, encoding, dialect, tupleize_cols, error_bad_lines, warn_bad_lines, skipfooter, skip_footer, doublequote, delim_whitespace, as_recarray, compact_ints, use_unsigned, low_memory, buffer_lines, memory_map, float_precision)\u001b[0m\n\u001b[1;32m    653\u001b[0m                     skip_blank_lines=skip_blank_lines)\n\u001b[1;32m    654\u001b[0m \u001b[0;34m\u001b[0m\u001b[0m\n\u001b[0;32m--> 655\u001b[0;31m         \u001b[0;32mreturn\u001b[0m \u001b[0m_read\u001b[0m\u001b[0;34m(\u001b[0m\u001b[0mfilepath_or_buffer\u001b[0m\u001b[0;34m,\u001b[0m \u001b[0mkwds\u001b[0m\u001b[0;34m)\u001b[0m\u001b[0;34m\u001b[0m\u001b[0m\n\u001b[0m\u001b[1;32m    656\u001b[0m \u001b[0;34m\u001b[0m\u001b[0m\n\u001b[1;32m    657\u001b[0m     \u001b[0mparser_f\u001b[0m\u001b[0;34m.\u001b[0m\u001b[0m__name__\u001b[0m \u001b[0;34m=\u001b[0m \u001b[0mname\u001b[0m\u001b[0;34m\u001b[0m\u001b[0m\n",
      "\u001b[0;32m/home/fattahov.ao/anaconda3/lib/python3.6/site-packages/pandas/io/parsers.py\u001b[0m in \u001b[0;36m_read\u001b[0;34m(filepath_or_buffer, kwds)\u001b[0m\n\u001b[1;32m    403\u001b[0m \u001b[0;34m\u001b[0m\u001b[0m\n\u001b[1;32m    404\u001b[0m     \u001b[0;31m# Create the parser.\u001b[0m\u001b[0;34m\u001b[0m\u001b[0;34m\u001b[0m\u001b[0m\n\u001b[0;32m--> 405\u001b[0;31m     \u001b[0mparser\u001b[0m \u001b[0;34m=\u001b[0m \u001b[0mTextFileReader\u001b[0m\u001b[0;34m(\u001b[0m\u001b[0mfilepath_or_buffer\u001b[0m\u001b[0;34m,\u001b[0m \u001b[0;34m**\u001b[0m\u001b[0mkwds\u001b[0m\u001b[0;34m)\u001b[0m\u001b[0;34m\u001b[0m\u001b[0m\n\u001b[0m\u001b[1;32m    406\u001b[0m \u001b[0;34m\u001b[0m\u001b[0m\n\u001b[1;32m    407\u001b[0m     \u001b[0;32mif\u001b[0m \u001b[0mchunksize\u001b[0m \u001b[0;32mor\u001b[0m \u001b[0miterator\u001b[0m\u001b[0;34m:\u001b[0m\u001b[0;34m\u001b[0m\u001b[0m\n",
      "\u001b[0;32m/home/fattahov.ao/anaconda3/lib/python3.6/site-packages/pandas/io/parsers.py\u001b[0m in \u001b[0;36m__init__\u001b[0;34m(self, f, engine, **kwds)\u001b[0m\n\u001b[1;32m    762\u001b[0m             \u001b[0mself\u001b[0m\u001b[0;34m.\u001b[0m\u001b[0moptions\u001b[0m\u001b[0;34m[\u001b[0m\u001b[0;34m'has_index_names'\u001b[0m\u001b[0;34m]\u001b[0m \u001b[0;34m=\u001b[0m \u001b[0mkwds\u001b[0m\u001b[0;34m[\u001b[0m\u001b[0;34m'has_index_names'\u001b[0m\u001b[0;34m]\u001b[0m\u001b[0;34m\u001b[0m\u001b[0m\n\u001b[1;32m    763\u001b[0m \u001b[0;34m\u001b[0m\u001b[0m\n\u001b[0;32m--> 764\u001b[0;31m         \u001b[0mself\u001b[0m\u001b[0;34m.\u001b[0m\u001b[0m_make_engine\u001b[0m\u001b[0;34m(\u001b[0m\u001b[0mself\u001b[0m\u001b[0;34m.\u001b[0m\u001b[0mengine\u001b[0m\u001b[0;34m)\u001b[0m\u001b[0;34m\u001b[0m\u001b[0m\n\u001b[0m\u001b[1;32m    765\u001b[0m \u001b[0;34m\u001b[0m\u001b[0m\n\u001b[1;32m    766\u001b[0m     \u001b[0;32mdef\u001b[0m \u001b[0mclose\u001b[0m\u001b[0;34m(\u001b[0m\u001b[0mself\u001b[0m\u001b[0;34m)\u001b[0m\u001b[0;34m:\u001b[0m\u001b[0;34m\u001b[0m\u001b[0m\n",
      "\u001b[0;32m/home/fattahov.ao/anaconda3/lib/python3.6/site-packages/pandas/io/parsers.py\u001b[0m in \u001b[0;36m_make_engine\u001b[0;34m(self, engine)\u001b[0m\n\u001b[1;32m    983\u001b[0m     \u001b[0;32mdef\u001b[0m \u001b[0m_make_engine\u001b[0m\u001b[0;34m(\u001b[0m\u001b[0mself\u001b[0m\u001b[0;34m,\u001b[0m \u001b[0mengine\u001b[0m\u001b[0;34m=\u001b[0m\u001b[0;34m'c'\u001b[0m\u001b[0;34m)\u001b[0m\u001b[0;34m:\u001b[0m\u001b[0;34m\u001b[0m\u001b[0m\n\u001b[1;32m    984\u001b[0m         \u001b[0;32mif\u001b[0m \u001b[0mengine\u001b[0m \u001b[0;34m==\u001b[0m \u001b[0;34m'c'\u001b[0m\u001b[0;34m:\u001b[0m\u001b[0;34m\u001b[0m\u001b[0m\n\u001b[0;32m--> 985\u001b[0;31m             \u001b[0mself\u001b[0m\u001b[0;34m.\u001b[0m\u001b[0m_engine\u001b[0m \u001b[0;34m=\u001b[0m \u001b[0mCParserWrapper\u001b[0m\u001b[0;34m(\u001b[0m\u001b[0mself\u001b[0m\u001b[0;34m.\u001b[0m\u001b[0mf\u001b[0m\u001b[0;34m,\u001b[0m \u001b[0;34m**\u001b[0m\u001b[0mself\u001b[0m\u001b[0;34m.\u001b[0m\u001b[0moptions\u001b[0m\u001b[0;34m)\u001b[0m\u001b[0;34m\u001b[0m\u001b[0m\n\u001b[0m\u001b[1;32m    986\u001b[0m         \u001b[0;32melse\u001b[0m\u001b[0;34m:\u001b[0m\u001b[0;34m\u001b[0m\u001b[0m\n\u001b[1;32m    987\u001b[0m             \u001b[0;32mif\u001b[0m \u001b[0mengine\u001b[0m \u001b[0;34m==\u001b[0m \u001b[0;34m'python'\u001b[0m\u001b[0;34m:\u001b[0m\u001b[0;34m\u001b[0m\u001b[0m\n",
      "\u001b[0;32m/home/fattahov.ao/anaconda3/lib/python3.6/site-packages/pandas/io/parsers.py\u001b[0m in \u001b[0;36m__init__\u001b[0;34m(self, src, **kwds)\u001b[0m\n\u001b[1;32m   1603\u001b[0m         \u001b[0mkwds\u001b[0m\u001b[0;34m[\u001b[0m\u001b[0;34m'allow_leading_cols'\u001b[0m\u001b[0;34m]\u001b[0m \u001b[0;34m=\u001b[0m \u001b[0mself\u001b[0m\u001b[0;34m.\u001b[0m\u001b[0mindex_col\u001b[0m \u001b[0;32mis\u001b[0m \u001b[0;32mnot\u001b[0m \u001b[0;32mFalse\u001b[0m\u001b[0;34m\u001b[0m\u001b[0m\n\u001b[1;32m   1604\u001b[0m \u001b[0;34m\u001b[0m\u001b[0m\n\u001b[0;32m-> 1605\u001b[0;31m         \u001b[0mself\u001b[0m\u001b[0;34m.\u001b[0m\u001b[0m_reader\u001b[0m \u001b[0;34m=\u001b[0m \u001b[0mparsers\u001b[0m\u001b[0;34m.\u001b[0m\u001b[0mTextReader\u001b[0m\u001b[0;34m(\u001b[0m\u001b[0msrc\u001b[0m\u001b[0;34m,\u001b[0m \u001b[0;34m**\u001b[0m\u001b[0mkwds\u001b[0m\u001b[0;34m)\u001b[0m\u001b[0;34m\u001b[0m\u001b[0m\n\u001b[0m\u001b[1;32m   1606\u001b[0m \u001b[0;34m\u001b[0m\u001b[0m\n\u001b[1;32m   1607\u001b[0m         \u001b[0;31m# XXX\u001b[0m\u001b[0;34m\u001b[0m\u001b[0;34m\u001b[0m\u001b[0m\n",
      "\u001b[0;32mpandas/_libs/parsers.pyx\u001b[0m in \u001b[0;36mpandas._libs.parsers.TextReader.__cinit__ (pandas/_libs/parsers.c:4209)\u001b[0;34m()\u001b[0m\n",
      "\u001b[0;32mpandas/_libs/parsers.pyx\u001b[0m in \u001b[0;36mpandas._libs.parsers.TextReader._setup_parser_source (pandas/_libs/parsers.c:8873)\u001b[0;34m()\u001b[0m\n",
      "\u001b[0;31mFileNotFoundError\u001b[0m: File b'te.csv' does not exist"
     ]
    }
   ],
   "source": [
    "X_train = pd.read_csv('tr.csv')"
   ]
  },
  {
   "cell_type": "code",
   "execution_count": 14,
   "metadata": {
    "collapsed": true
   },
   "outputs": [],
   "source": [
    "del X_train['Unnamed: 0']\n",
    "del X_train['product_id']\n",
    "del X_train['order_id_x']\n",
    "del X_train['department_id_x']\n",
    "del X_train['aisle_id_x']\n",
    "del X_train['order_id_y']\n",
    "del X_train['eval_set']\n",
    "del X_train['aisle_id_y']\n",
    "del X_train['department_id_y']"
   ]
  },
  {
   "cell_type": "code",
   "execution_count": 10,
   "metadata": {},
   "outputs": [
    {
     "data": {
      "text/plain": [
       "Index(['order_id_x', 'user_id', 'order_number', 'order_dow',\n",
       "       'order_hour_of_day', 'days_since_prior_order', 'reordered', 'ord_count',\n",
       "       'part_ord', 'ave_add_to_cart_order', 'max_add_to_cart_order',\n",
       "       'min_add_to_cart_order', 'tot_prod_count_user', 'tot_part_ord',\n",
       "       'ave_cart', 'prod_tot_count', 'prod_tot_reord_count', 'tot_reord_part',\n",
       "       'max_last_order', 'last_ord_dist', 'min_last_order', 'min_ord_dist',\n",
       "       'dist_min_max_ord', 'ave_min_max_count', 'ave_min_count', 'ave_time',\n",
       "       'rate_time', 'aisle_id_x', 'department_id_x', 'days_to last_buy',\n",
       "       'ave_last_ord', 'like_dep', 'like_aisle', 'like_dep_user',\n",
       "       'like_aisle_user', 'like_user_prod', 'last_3_count', 'last_5_count',\n",
       "       'last_7_count', 'ave_time_of_product', 'dist_to_ave_time',\n",
       "       '_up_order_count', '_up_first_order_number', '_up_last_order_number',\n",
       "       '_up_average_cart_position', '_prod_tot_cnts', '_prod_reorder_tot_cnts',\n",
       "       '_prod_buy_first_time_total_cnt', '_prod_buy_second_time_total_cnt',\n",
       "       '_prod_reorder_prob', '_prod_reorder_ratio', '_prod_reorder_times',\n",
       "       '_user_total_orders', '_user_sum_days_since_prior_order',\n",
       "       '_user_mean_days_since_prior_order', '_user_reorder_ratio',\n",
       "       '_user_total_products', '_user_distinct_products',\n",
       "       '_user_average_basket', 'order_id_y', 'eval_set',\n",
       "       'time_since_last_order', '_up_order_rate', '_up_order_since_last_order',\n",
       "       '_up_order_rate_since_first_order', 'dep_products', 'dep_reordered',\n",
       "       'aisle_products', 'aisle_reordered', 'last', 'prev1', 'prev2', 'median',\n",
       "       'mean', 'aisle_id_y', 'department_id_y', '0', '1', '2', '3', '4', '5',\n",
       "       '6', '7', '8', '9', '10', '11', '12', '13', '14', '15', '16', '17',\n",
       "       '18', '19', '20', '21', '22', '23'],\n",
       "      dtype='object')"
      ]
     },
     "execution_count": 10,
     "metadata": {},
     "output_type": "execute_result"
    }
   ],
   "source": [
    "X_train.columns[:100]"
   ]
  },
  {
   "cell_type": "code",
   "execution_count": 4,
   "metadata": {
    "collapsed": true
   },
   "outputs": [],
   "source": [
    "pr_id = X_train.product_id"
   ]
  },
  {
   "cell_type": "code",
   "execution_count": 114,
   "metadata": {
    "collapsed": true
   },
   "outputs": [],
   "source": [
    "tmp = pd.DataFrame(prior_base.groupby(['user_id', 'product_id'])['order_number'].mean() / prior_base.groupby(['user_id', 'product_id'])['order_number'].max())\n",
    "tmp.reset_index(inplace=True)\n",
    "tmp.columns = ['user_id', 'product_id', 'f1']"
   ]
  },
  {
   "cell_type": "code",
   "execution_count": 110,
   "metadata": {},
   "outputs": [
    {
     "data": {
      "text/plain": [
       "13307953"
      ]
     },
     "execution_count": 110,
     "metadata": {},
     "output_type": "execute_result"
    }
   ],
   "source": [
    "X_train = pd.merge(X_train, tmp, on=['user_id', 'product_id'], how='left')"
   ]
  },
  {
   "cell_type": "code",
   "execution_count": 5,
   "metadata": {
    "collapsed": true
   },
   "outputs": [],
   "source": [
    "X_train = X_train[:600000]"
   ]
  },
  {
   "cell_type": "markdown",
   "metadata": {},
   "source": [
    "## Модели"
   ]
  },
  {
   "cell_type": "code",
   "execution_count": 15,
   "metadata": {
    "collapsed": true
   },
   "outputs": [],
   "source": [
    "y_train = X_train['reordered']\n",
    "del X_train['reordered']\n",
    "y_train = pd.DataFrame(y_train)"
   ]
  },
  {
   "cell_type": "code",
   "execution_count": 16,
   "metadata": {
    "collapsed": true
   },
   "outputs": [],
   "source": [
    "y_train.index=range(len(X_train))"
   ]
  },
  {
   "cell_type": "code",
   "execution_count": 41,
   "metadata": {},
   "outputs": [
    {
     "data": {
      "text/plain": [
       "20897419"
      ]
     },
     "execution_count": 41,
     "metadata": {},
     "output_type": "execute_result"
    }
   ],
   "source": [
    "len(X_train)"
   ]
  },
  {
   "cell_type": "code",
   "execution_count": 17,
   "metadata": {
    "collapsed": true
   },
   "outputs": [],
   "source": [
    "from sklearn.model_selection import GroupKFold\n",
    "group_kfold = GroupKFold(n_splits=4)\n",
    "\n",
    "folds = []\n",
    "for itr, ite in group_kfold.split(X_train, y_train, X_train.user_id):\n",
    "    folds += [[itr, ite]]"
   ]
  },
  {
   "cell_type": "code",
   "execution_count": 18,
   "metadata": {
    "collapsed": true
   },
   "outputs": [],
   "source": [
    "del X_train['user_id']\n"
   ]
  },
  {
   "cell_type": "code",
   "execution_count": 19,
   "metadata": {},
   "outputs": [
    {
     "data": {
      "text/plain": [
       "(8474661, 100)"
      ]
     },
     "execution_count": 19,
     "metadata": {},
     "output_type": "execute_result"
    }
   ],
   "source": [
    "X_train.shape"
   ]
  },
  {
   "cell_type": "code",
   "execution_count": 22,
   "metadata": {},
   "outputs": [
    {
     "name": "stderr",
     "output_type": "stream",
     "text": [
      "/home/fattahov.ao/anaconda3/lib/python3.6/site-packages/sklearn/preprocessing/label.py:112: DataConversionWarning: A column-vector y was passed when a 1d array was expected. Please change the shape of y to (n_samples, ), for example using ravel().\n",
      "  y = column_or_1d(y, warn=True)\n",
      "/home/fattahov.ao/anaconda3/lib/python3.6/site-packages/sklearn/preprocessing/label.py:147: DataConversionWarning: A column-vector y was passed when a 1d array was expected. Please change the shape of y to (n_samples, ), for example using ravel().\n",
      "  y = column_or_1d(y, warn=True)\n"
     ]
    },
    {
     "data": {
      "text/plain": [
       "LGBMClassifier(boosting_type='gbdt', colsample_bytree=0.8, learning_rate=0.05,\n",
       "        max_bin=255, max_depth=-1, min_child_samples=10,\n",
       "        min_child_weight=5, min_split_gain=0, n_estimators=2000,\n",
       "        nthread=-1, num_leaves=31, objective='binary', reg_alpha=0,\n",
       "        reg_lambda=0, seed=0, silent=True, subsample=0.8,\n",
       "        subsample_for_bin=50000, subsample_freq=1)"
      ]
     },
     "execution_count": 22,
     "metadata": {},
     "output_type": "execute_result"
    }
   ],
   "source": [
    "#LGBM\n",
    "params = {\n",
    "    #'task': 'train',\n",
    "    #'boosting_type': 'gbdt',\n",
    "    #'objective': 'regression',\n",
    "    #'metric': {'l2', 'auc'},\n",
    "    #'metric': {'logloss'},\n",
    "    #'num_leaves': 31,\n",
    "    #'feature_fraction': 0.9,\n",
    "    #'bagging_fraction': 0.8,\n",
    "    #'bagging_freq': 5,\n",
    "    'subsample': 0.8,\n",
    "    'colsample_bytree': 0.8,\n",
    "    'objective': 'binary',\n",
    "    'nthread': -1,\n",
    "    'learning_rate': 0.05,\n",
    "    #'min_child_weight': 50,\n",
    "    #'max_depth': 7\n",
    "    #'num_class': 3\n",
    "    \n",
    "}\n",
    "\n",
    "\n",
    "pred_train = np.zeros(len(y_train))\n",
    "pred_train_value = np.zeros(len(y_train))\n",
    "\n",
    "xgbs = []\n",
    "sc,sc_mean = [],[]\n",
    "\n",
    "ypred = []\n",
    "lgb = lgbm.sklearn.LGBMClassifier(n_estimators=2000, seed=0, **params)\n",
    "lgb.fit(X_train.ix[:, :], y_train.ix[:])"
   ]
  },
  {
   "cell_type": "code",
   "execution_count": null,
   "metadata": {
    "collapsed": true
   },
   "outputs": [],
   "source": [
    "with open('lgb.pickle', 'wb') as f:\n",
    "    pickle.dump(lgb, f)"
   ]
  },
  {
   "cell_type": "code",
   "execution_count": 4,
   "metadata": {},
   "outputs": [],
   "source": [
    "import pickle\n",
    "with open('lgb.pickle', 'rb') as f:\n",
    "    lgb = pickle.load(f)"
   ]
  },
  {
   "cell_type": "code",
   "execution_count": 5,
   "metadata": {},
   "outputs": [
    {
     "data": {
      "text/plain": [
       "LGBMClassifier(boosting_type='gbdt', colsample_bytree=0.8, learning_rate=0.05,\n",
       "        max_bin=255, max_depth=-1, min_child_samples=10,\n",
       "        min_child_weight=5, min_split_gain=0, n_estimators=2000,\n",
       "        nthread=-1, num_leaves=31, objective='binary', reg_alpha=0,\n",
       "        reg_lambda=0, seed=0, silent=True, subsample=0.8,\n",
       "        subsample_for_bin=50000, subsample_freq=1)"
      ]
     },
     "execution_count": 5,
     "metadata": {},
     "output_type": "execute_result"
    }
   ],
   "source": [
    "lgb"
   ]
  },
  {
   "cell_type": "code",
   "execution_count": 10,
   "metadata": {},
   "outputs": [
    {
     "data": {
      "text/plain": [
       "(8474661, 107)"
      ]
     },
     "execution_count": 10,
     "metadata": {},
     "output_type": "execute_result"
    }
   ],
   "source": [
    "X_train.shape"
   ]
  },
  {
   "cell_type": "code",
   "execution_count": 11,
   "metadata": {},
   "outputs": [
    {
     "data": {
      "text/html": [
       "<div>\n",
       "<style>\n",
       "    .dataframe thead tr:only-child th {\n",
       "        text-align: right;\n",
       "    }\n",
       "\n",
       "    .dataframe thead th {\n",
       "        text-align: left;\n",
       "    }\n",
       "\n",
       "    .dataframe tbody tr th {\n",
       "        vertical-align: top;\n",
       "    }\n",
       "</style>\n",
       "<table border=\"1\" class=\"dataframe\">\n",
       "  <thead>\n",
       "    <tr style=\"text-align: right;\">\n",
       "      <th></th>\n",
       "      <th>order_id_x</th>\n",
       "      <th>user_id</th>\n",
       "      <th>order_number</th>\n",
       "      <th>order_dow</th>\n",
       "      <th>order_hour_of_day</th>\n",
       "      <th>days_since_prior_order</th>\n",
       "      <th>ord_count</th>\n",
       "      <th>part_ord</th>\n",
       "      <th>ave_add_to_cart_order</th>\n",
       "      <th>max_add_to_cart_order</th>\n",
       "      <th>...</th>\n",
       "      <th>23</th>\n",
       "      <th>24</th>\n",
       "      <th>25</th>\n",
       "      <th>26</th>\n",
       "      <th>27</th>\n",
       "      <th>28</th>\n",
       "      <th>29</th>\n",
       "      <th>30</th>\n",
       "      <th>31</th>\n",
       "      <th>days_since_prior_order_comsum</th>\n",
       "    </tr>\n",
       "  </thead>\n",
       "  <tbody>\n",
       "    <tr>\n",
       "      <th>0</th>\n",
       "      <td>1050357</td>\n",
       "      <td>202279</td>\n",
       "      <td>9</td>\n",
       "      <td>1</td>\n",
       "      <td>14</td>\n",
       "      <td>30.0</td>\n",
       "      <td>5</td>\n",
       "      <td>0.555556</td>\n",
       "      <td>2.000000</td>\n",
       "      <td>5</td>\n",
       "      <td>...</td>\n",
       "      <td>-0.712415</td>\n",
       "      <td>-0.257007</td>\n",
       "      <td>0.442925</td>\n",
       "      <td>0.836659</td>\n",
       "      <td>-0.516521</td>\n",
       "      <td>0.324850</td>\n",
       "      <td>0.097400</td>\n",
       "      <td>0.122544</td>\n",
       "      <td>0.706632</td>\n",
       "      <td>181.0</td>\n",
       "    </tr>\n",
       "    <tr>\n",
       "      <th>1</th>\n",
       "      <td>1050357</td>\n",
       "      <td>202279</td>\n",
       "      <td>9</td>\n",
       "      <td>1</td>\n",
       "      <td>14</td>\n",
       "      <td>30.0</td>\n",
       "      <td>5</td>\n",
       "      <td>0.555556</td>\n",
       "      <td>3.200000</td>\n",
       "      <td>7</td>\n",
       "      <td>...</td>\n",
       "      <td>-1.440057</td>\n",
       "      <td>-0.341293</td>\n",
       "      <td>-0.181801</td>\n",
       "      <td>-0.041113</td>\n",
       "      <td>-0.444187</td>\n",
       "      <td>0.072365</td>\n",
       "      <td>-0.072816</td>\n",
       "      <td>-0.540247</td>\n",
       "      <td>0.638955</td>\n",
       "      <td>181.0</td>\n",
       "    </tr>\n",
       "    <tr>\n",
       "      <th>2</th>\n",
       "      <td>1050357</td>\n",
       "      <td>202279</td>\n",
       "      <td>9</td>\n",
       "      <td>1</td>\n",
       "      <td>14</td>\n",
       "      <td>30.0</td>\n",
       "      <td>1</td>\n",
       "      <td>0.111111</td>\n",
       "      <td>3.000000</td>\n",
       "      <td>3</td>\n",
       "      <td>...</td>\n",
       "      <td>-0.567778</td>\n",
       "      <td>-0.006069</td>\n",
       "      <td>-0.079597</td>\n",
       "      <td>-0.006223</td>\n",
       "      <td>-0.712110</td>\n",
       "      <td>0.781953</td>\n",
       "      <td>-0.829072</td>\n",
       "      <td>-0.282451</td>\n",
       "      <td>0.025362</td>\n",
       "      <td>181.0</td>\n",
       "    </tr>\n",
       "    <tr>\n",
       "      <th>3</th>\n",
       "      <td>1050357</td>\n",
       "      <td>202279</td>\n",
       "      <td>9</td>\n",
       "      <td>1</td>\n",
       "      <td>14</td>\n",
       "      <td>30.0</td>\n",
       "      <td>5</td>\n",
       "      <td>0.555556</td>\n",
       "      <td>4.800000</td>\n",
       "      <td>7</td>\n",
       "      <td>...</td>\n",
       "      <td>0.058721</td>\n",
       "      <td>-0.515334</td>\n",
       "      <td>-0.682242</td>\n",
       "      <td>0.466110</td>\n",
       "      <td>-0.135325</td>\n",
       "      <td>0.017535</td>\n",
       "      <td>0.530425</td>\n",
       "      <td>0.820272</td>\n",
       "      <td>-0.515187</td>\n",
       "      <td>181.0</td>\n",
       "    </tr>\n",
       "    <tr>\n",
       "      <th>4</th>\n",
       "      <td>1050357</td>\n",
       "      <td>202279</td>\n",
       "      <td>9</td>\n",
       "      <td>1</td>\n",
       "      <td>14</td>\n",
       "      <td>30.0</td>\n",
       "      <td>3</td>\n",
       "      <td>0.333333</td>\n",
       "      <td>4.666667</td>\n",
       "      <td>5</td>\n",
       "      <td>...</td>\n",
       "      <td>0.842769</td>\n",
       "      <td>0.326977</td>\n",
       "      <td>0.488381</td>\n",
       "      <td>-0.761405</td>\n",
       "      <td>-0.523062</td>\n",
       "      <td>-0.377091</td>\n",
       "      <td>-0.288043</td>\n",
       "      <td>-0.432461</td>\n",
       "      <td>-0.657825</td>\n",
       "      <td>181.0</td>\n",
       "    </tr>\n",
       "  </tbody>\n",
       "</table>\n",
       "<p>5 rows × 107 columns</p>\n",
       "</div>"
      ],
      "text/plain": [
       "   order_id_x  user_id  order_number  order_dow  order_hour_of_day  \\\n",
       "0     1050357   202279             9          1                 14   \n",
       "1     1050357   202279             9          1                 14   \n",
       "2     1050357   202279             9          1                 14   \n",
       "3     1050357   202279             9          1                 14   \n",
       "4     1050357   202279             9          1                 14   \n",
       "\n",
       "   days_since_prior_order  ord_count  part_ord  ave_add_to_cart_order  \\\n",
       "0                    30.0          5  0.555556               2.000000   \n",
       "1                    30.0          5  0.555556               3.200000   \n",
       "2                    30.0          1  0.111111               3.000000   \n",
       "3                    30.0          5  0.555556               4.800000   \n",
       "4                    30.0          3  0.333333               4.666667   \n",
       "\n",
       "   max_add_to_cart_order              ...                      23        24  \\\n",
       "0                      5              ...               -0.712415 -0.257007   \n",
       "1                      7              ...               -1.440057 -0.341293   \n",
       "2                      3              ...               -0.567778 -0.006069   \n",
       "3                      7              ...                0.058721 -0.515334   \n",
       "4                      5              ...                0.842769  0.326977   \n",
       "\n",
       "         25        26        27        28        29        30        31  \\\n",
       "0  0.442925  0.836659 -0.516521  0.324850  0.097400  0.122544  0.706632   \n",
       "1 -0.181801 -0.041113 -0.444187  0.072365 -0.072816 -0.540247  0.638955   \n",
       "2 -0.079597 -0.006223 -0.712110  0.781953 -0.829072 -0.282451  0.025362   \n",
       "3 -0.682242  0.466110 -0.135325  0.017535  0.530425  0.820272 -0.515187   \n",
       "4  0.488381 -0.761405 -0.523062 -0.377091 -0.288043 -0.432461 -0.657825   \n",
       "\n",
       "   days_since_prior_order_comsum  \n",
       "0                          181.0  \n",
       "1                          181.0  \n",
       "2                          181.0  \n",
       "3                          181.0  \n",
       "4                          181.0  \n",
       "\n",
       "[5 rows x 107 columns]"
      ]
     },
     "execution_count": 11,
     "metadata": {},
     "output_type": "execute_result"
    }
   ],
   "source": [
    "X_train[:5]"
   ]
  },
  {
   "cell_type": "code",
   "execution_count": 69,
   "metadata": {
    "collapsed": true
   },
   "outputs": [],
   "source": [
    "del X_train_public"
   ]
  },
  {
   "cell_type": "code",
   "execution_count": 123,
   "metadata": {
    "collapsed": true
   },
   "outputs": [],
   "source": [
    "del train, orders, priors"
   ]
  },
  {
   "cell_type": "code",
   "execution_count": 128,
   "metadata": {
    "collapsed": true
   },
   "outputs": [],
   "source": [
    "del tmp"
   ]
  },
  {
   "cell_type": "code",
   "execution_count": 11,
   "metadata": {},
   "outputs": [
    {
     "data": {
      "text/plain": [
       "211"
      ]
     },
     "execution_count": 11,
     "metadata": {},
     "output_type": "execute_result"
    }
   ],
   "source": [
    "import gc\n",
    "gc.collect()"
   ]
  },
  {
   "cell_type": "code",
   "execution_count": 20,
   "metadata": {},
   "outputs": [
    {
     "name": "stderr",
     "output_type": "stream",
     "text": [
      "/home/fattahov.ao/anaconda3/lib/python3.6/site-packages/ipykernel_launcher.py:55: DeprecationWarning: \n",
      ".ix is deprecated. Please use\n",
      ".loc for label based indexing or\n",
      ".iloc for positional indexing\n",
      "\n",
      "See the documentation here:\n",
      "http://pandas.pydata.org/pandas-docs/stable/indexing.html#ix-indexer-is-deprecated\n",
      "/home/fattahov.ao/anaconda3/lib/python3.6/site-packages/sklearn/preprocessing/label.py:112: DataConversionWarning: A column-vector y was passed when a 1d array was expected. Please change the shape of y to (n_samples, ), for example using ravel().\n",
      "  y = column_or_1d(y, warn=True)\n",
      "/home/fattahov.ao/anaconda3/lib/python3.6/site-packages/sklearn/preprocessing/label.py:147: DataConversionWarning: A column-vector y was passed when a 1d array was expected. Please change the shape of y to (n_samples, ), for example using ravel().\n",
      "  y = column_or_1d(y, warn=True)\n",
      "/home/fattahov.ao/anaconda3/lib/python3.6/site-packages/sklearn/preprocessing/label.py:112: DataConversionWarning: A column-vector y was passed when a 1d array was expected. Please change the shape of y to (n_samples, ), for example using ravel().\n",
      "  y = column_or_1d(y, warn=True)\n",
      "/home/fattahov.ao/anaconda3/lib/python3.6/site-packages/sklearn/preprocessing/label.py:147: DataConversionWarning: A column-vector y was passed when a 1d array was expected. Please change the shape of y to (n_samples, ), for example using ravel().\n",
      "  y = column_or_1d(y, warn=True)\n",
      "/home/fattahov.ao/anaconda3/lib/python3.6/site-packages/sklearn/preprocessing/label.py:112: DataConversionWarning: A column-vector y was passed when a 1d array was expected. Please change the shape of y to (n_samples, ), for example using ravel().\n",
      "  y = column_or_1d(y, warn=True)\n",
      "/home/fattahov.ao/anaconda3/lib/python3.6/site-packages/sklearn/preprocessing/label.py:147: DataConversionWarning: A column-vector y was passed when a 1d array was expected. Please change the shape of y to (n_samples, ), for example using ravel().\n",
      "  y = column_or_1d(y, warn=True)\n",
      "/home/fattahov.ao/anaconda3/lib/python3.6/site-packages/sklearn/preprocessing/label.py:112: DataConversionWarning: A column-vector y was passed when a 1d array was expected. Please change the shape of y to (n_samples, ), for example using ravel().\n",
      "  y = column_or_1d(y, warn=True)\n",
      "/home/fattahov.ao/anaconda3/lib/python3.6/site-packages/sklearn/preprocessing/label.py:147: DataConversionWarning: A column-vector y was passed when a 1d array was expected. Please change the shape of y to (n_samples, ), for example using ravel().\n",
      "  y = column_or_1d(y, warn=True)\n"
     ]
    },
    {
     "name": "stdout",
     "output_type": "stream",
     "text": [
      "XGB: 0.242311 +- 0.000311\n"
     ]
    }
   ],
   "source": [
    "#LGBM\n",
    "params = {\n",
    "    #'task': 'train',\n",
    "    #'boosting_type': 'gbdt',\n",
    "    #'objective': 'regression',\n",
    "    #'metric': {'l2', 'auc'},\n",
    "    #'metric': {'logloss'},\n",
    "    #'num_leaves': 31,\n",
    "    #'feature_fraction': 0.9,\n",
    "    #'bagging_fraction': 0.8,\n",
    "    #'bagging_freq': 5,\n",
    "    'subsample': 0.8,\n",
    "    'colsample_bytree': 0.8,\n",
    "    'objective': 'binary',\n",
    "    'nthread': -1,\n",
    "    'learning_rate': 0.05,\n",
    "    #'min_child_weight': 50,\n",
    "    #'max_depth': 7\n",
    "    #'num_class': 3\n",
    "    \n",
    "}\n",
    "\n",
    "\n",
    "\n",
    "param = {}\n",
    "param['objective'] = 'binary:logistic'\n",
    "param['eval_metric'] = 'logloss'\n",
    "param['max_depth'] = 7\n",
    "# param['booster'] = 'dart'\n",
    "#param['booster'] = 'gblinear'\n",
    "param['eta'] = 0.1\n",
    "#param['subsample'] = 1.0\n",
    "# param[\"scale_pos_weight\"] = 0.5\n",
    "#param['colsample_bytree'] = 0.7\n",
    "param['nthread'] = -1\n",
    "#param['num_class'] =3\n",
    "#param['alpha'] = 0.00\n",
    "#param['lambda_bias'] = 0.1\n",
    "# param['lambda'] = 0\n",
    "#param['min_child_weight'] = 100\n",
    "\n",
    "# if param['booster'] == 'gblinear': param['eta'] *= 1e-4\n",
    "numround = 50\n",
    "\n",
    "\n",
    "pred_train = np.zeros(len(y_train))\n",
    "\n",
    "xgbs = []\n",
    "sc,sc_mean = [],[]\n",
    "\n",
    "for itr, ite in folds:\n",
    "    ypred = []\n",
    "    \n",
    "    lgb = lgbm.sklearn.LGBMClassifier(n_estimators=2500, seed=0, **params)\n",
    "    lgb.fit(X_train.ix[itr, :], y_train.ix[itr])\n",
    "    ypred = lgb.predict_proba(X_train.ix[ite, :])[:, 1]\n",
    "    '''\n",
    "    bst = xgb.XGBClassifier(max_depth=6, learning_rate=0.1, n_estimators=100)\n",
    "    bst.fit(X_train.ix[itr, :], y_train.ix[itr])\n",
    "    ypred = bst.predict_proba(X_train.ix[ite, :])[:, 1]\n",
    "    '''\n",
    "    \n",
    "    pred_train[ite] = ypred    \n",
    "    \n",
    "    sc.append(log_loss(y_train.ix[ite, :], pred_train[ite]))\n",
    "    import gc\n",
    "    gc.collect()\n",
    "    \n",
    "print('XGB: {:.6f} +- {:.6f}'.format(np.mean(sc), np.std(sc)))"
   ]
  },
  {
   "cell_type": "code",
   "execution_count": 1,
   "metadata": {},
   "outputs": [
    {
     "data": {
      "text/plain": [
       "1"
      ]
     },
     "execution_count": 1,
     "metadata": {},
     "output_type": "execute_result"
    }
   ],
   "source": [
    "1"
   ]
  },
  {
   "cell_type": "code",
   "execution_count": 25,
   "metadata": {
    "collapsed": true
   },
   "outputs": [],
   "source": [
    "pd.DataFrame(pred_train).to_csv('lgb.csv')"
   ]
  },
  {
   "cell_type": "code",
   "execution_count": 90,
   "metadata": {},
   "outputs": [
    {
     "data": {
      "text/plain": [
       "(8474661, 107)"
      ]
     },
     "execution_count": 90,
     "metadata": {},
     "output_type": "execute_result"
    }
   ],
   "source": [
    "X_train.shape"
   ]
  },
  {
   "cell_type": "code",
   "execution_count": null,
   "metadata": {
    "collapsed": true
   },
   "outputs": [],
   "source": [
    "0.242486\n",
    "0.242571\n",
    "0.243467"
   ]
  },
  {
   "cell_type": "code",
   "execution_count": null,
   "metadata": {
    "collapsed": true
   },
   "outputs": [],
   "source": [
    "0.249935"
   ]
  },
  {
   "cell_type": "code",
   "execution_count": null,
   "metadata": {
    "collapsed": true
   },
   "outputs": [],
   "source": [
    "0.249074"
   ]
  },
  {
   "cell_type": "code",
   "execution_count": 29,
   "metadata": {},
   "outputs": [
    {
     "data": {
      "image/png": "[encoded data removed]",
      "text/plain": [
       "<matplotlib.figure.Figure at 0x7f99f40957b8>"
      ]
     },
     "metadata": {},
     "output_type": "display_data"
    }
   ],
   "source": [
    "lgbm.plot_importance(lgb, max_num_features=150,figsize=(8, 50))\n",
    "plt.show()\n"
   ]
  },
  {
   "cell_type": "code",
   "execution_count": null,
   "metadata": {
    "collapsed": true
   },
   "outputs": [],
   "source": [
    "0.243793\n",
    "0.244334\n",
    "0.244372\n",
    "0.244874\n",
    "0.244969\n",
    "0.245499\n",
    "0.245540\n",
    "0.245933"
   ]
  },
  {
   "cell_type": "code",
   "execution_count": 16,
   "metadata": {
    "collapsed": true
   },
   "outputs": [],
   "source": [
    "X_train['pred'] = pred_train"
   ]
  },
  {
   "cell_type": "code",
   "execution_count": 114,
   "metadata": {
    "collapsed": true
   },
   "outputs": [],
   "source": [
    "tmp = X_train[['order_id_x', 'product_id', 'pred']]\n",
    "tmp.columns = ['order_id', 'product_id', 'pred']\n",
    "tmp.to_csv('my_pub_train.csv', index=False)"
   ]
  },
  {
   "cell_type": "code",
   "execution_count": 5,
   "metadata": {
    "collapsed": true
   },
   "outputs": [],
   "source": [
    "# -*- coding: utf-8 -*-\n",
    "\"\"\"\n",
    "@author: Faron, cpmp\n",
    "\"\"\"\n",
    "import numpy as np\n",
    "import pandas as pd\n",
    "import matplotlib.pylab as plt\n",
    "from datetime import datetime\n",
    "from numba import jit\n",
    "\n",
    "'''\n",
    "This kernel implements the O(n²) F1-Score expectation maximization algorithm presented in\n",
    "\"Ye, N., Chai, K., Lee, W., and Chieu, H.  Optimizing F-measures: A Tale of Two Approaches. In ICML, 2012.\"\n",
    "\n",
    "It solves argmax_(0 <= k <= n,[[None]]) E[F1(P,k,[[None]])]\n",
    "with [[None]] being the indicator for predicting label \"None\"\n",
    "given posteriors P = [p_1, p_2, ... , p_n], where p_1 > p_2 > ... > p_n\n",
    "under label independence assumption by means of dynamic programming in O(n²).\n",
    "'''\n",
    "\n",
    "\n",
    "class F1Optimizer():\n",
    "    def __init__(self):\n",
    "        pass\n",
    "\n",
    "    @staticmethod\n",
    "    @jit\n",
    "    def get_expectations(P, pNone=None):\n",
    "        expectations = []\n",
    "        P = np.sort(P)[::-1]\n",
    "\n",
    "        n = np.array(P).shape[0]\n",
    "        DP_C = np.zeros((n + 2, n + 1))\n",
    "        if pNone is None:\n",
    "            pNone = (1.0 - P).prod()\n",
    "\n",
    "        DP_C[0][0] = 1.0\n",
    "        for j in range(1, n):\n",
    "            DP_C[0][j] = (1.0 - P[j - 1]) * DP_C[0, j - 1]\n",
    "\n",
    "        for i in range(1, n + 1):\n",
    "            DP_C[i, i] = DP_C[i - 1, i - 1] * P[i - 1]\n",
    "            for j in range(i + 1, n + 1):\n",
    "                DP_C[i, j] = P[j - 1] * DP_C[i - 1, j - 1] + (1.0 - P[j - 1]) * DP_C[i, j - 1]\n",
    "\n",
    "        DP_S = np.zeros((2 * n + 1,))\n",
    "        DP_SNone = np.zeros((2 * n + 1,))\n",
    "        for i in range(1, 2 * n + 1):\n",
    "            DP_S[i] = 1. / (1. * i)\n",
    "            DP_SNone[i] = 1. / (1. * i + 1)\n",
    "        for k in range(n + 1)[::-1]:\n",
    "            f1 = 0\n",
    "            f1None = 0\n",
    "            for k1 in range(n + 1):\n",
    "                f1 += 2 * k1 * DP_C[k1][k] * DP_S[k + k1]\n",
    "                f1None += 2 * k1 * DP_C[k1][k] * DP_SNone[k + k1]\n",
    "            for i in range(1, 2 * k - 1):\n",
    "                DP_S[i] = (1 - P[k - 1]) * DP_S[i] + P[k - 1] * DP_S[i + 1]\n",
    "                DP_SNone[i] = (1 - P[k - 1]) * DP_SNone[i] + P[k - 1] * DP_SNone[i + 1]\n",
    "            expectations.append([f1None + 2 * pNone / (2 + k), f1])\n",
    "\n",
    "        return np.array(expectations[::-1]).T\n",
    "\n",
    "    @staticmethod\n",
    "    @jit\n",
    "    def maximize_expectation(P, pNone=None):\n",
    "        expectations = F1Optimizer.get_expectations(P, pNone)\n",
    "\n",
    "        ix_max = np.unravel_index(expectations.argmax(), expectations.shape)\n",
    "        max_f1 = expectations[ix_max]\n",
    "\n",
    "        predNone = True if ix_max[0] == 0 else False\n",
    "        best_k = ix_max[1]\n",
    "\n",
    "        return best_k, predNone, max_f1\n",
    "\n",
    "    @staticmethod\n",
    "    def _F1(tp, fp, fn):\n",
    "        return 2 * tp / (2 * tp + fp + fn)\n",
    "\n",
    "    @staticmethod\n",
    "    def _Fbeta(tp, fp, fn, beta=1.0):\n",
    "        beta_squared = beta ** 2\n",
    "        return (1.0 + beta_squared) * tp / ((1.0 + beta_squared) * tp + fp + beta_squared * fn)\n",
    "\n",
    "\n",
    "def print_best_prediction(P, pNone=None):\n",
    "    #print(\"Maximize F1-Expectation\")\n",
    "    #print(\"=\" * 23)\n",
    "    P = np.sort(P)[::-1]\n",
    "    n = P.shape[0]\n",
    "    L = ['L{}'.format(i + 1) for i in range(n)]\n",
    "\n",
    "    if pNone is None:\n",
    "        #print(\"Estimate p(None|x) as (1-p_1)*(1-p_2)*...*(1-p_n)\")\n",
    "        pNone = (1.0 - P).prod()\n",
    "\n",
    "    PL = ['p({}|x)={}'.format(l, p) for l, p in zip(L, P)]\n",
    "    #print(\"Posteriors: {} (n={})\".format(PL, n))\n",
    "    #print(\"p(None|x)={}\".format(pNone))\n",
    "\n",
    "    opt = F1Optimizer.maximize_expectation(P, pNone)\n",
    "    best_prediction = ['None'] if opt[1] else []\n",
    "    best_prediction += (L[:opt[0]])\n",
    "    f1_max = opt[2]\n",
    "    #print(opt[0])\n",
    "    #print(\"Prediction {} yields best E[F1] of {}\\n\".format(best_prediction, f1_max))\n",
    "    return opt[0]\n",
    "\n",
    "def save_plot(P, filename='expected_f1.png'):\n",
    "    E_F1 = pd.DataFrame(F1Optimizer.get_expectations(P).T, columns=[\"/w None\", \"/wo None\"])\n",
    "    best_k, _, max_f1 = F1Optimizer.maximize_expectation(P)\n",
    "\n",
    "    plt.style.use('ggplot')\n",
    "    plt.figure()\n",
    "    E_F1.plot()\n",
    "    plt.title('Expected F1-Score for \\n {}'.format(\"P = [{}]\".format(\",\".join(map(str, P)))), fontsize=12)\n",
    "    plt.xlabel('k')\n",
    "    plt.xticks(np.arange(0, len(P) + 1, 1.0))\n",
    "    plt.ylabel('E[F1(P,k)]')\n",
    "    plt.plot([best_k], [max_f1], 'o', color='#000000', markersize=4)\n",
    "    plt.annotate('max E[F1(P,k)] = E[F1(P,{})] = {:.5f}'.format(best_k, max_f1), xy=(best_k, max_f1),\n",
    "                 xytext=(best_k, max_f1 * 0.8), arrowprops=dict(facecolor='black', shrink=0.05, width=1, headwidth=7),\n",
    "                 horizontalalignment='center', verticalalignment='top')\n",
    "    plt.gcf().savefig(filename)\n",
    "\n",
    "\n",
    "\n",
    "def timeit(P):\n",
    "    s = datetime.now()\n",
    "    F1Optimizer.maximize_expectation(P)\n",
    "    e = datetime.now()\n",
    "    return (e-s).microseconds / 1E6\n",
    "\n",
    "\n",
    "def benchmark(n=100, filename='runtimes.png'):\n",
    "    results = pd.DataFrame(index=np.arange(1,n+1))\n",
    "    results['runtimes'] = 0\n",
    "\n",
    "    for i in range(1,n+1):\n",
    "        runtimes = []\n",
    "        for j in range(5):\n",
    "            runtimes.append(timeit(np.sort(np.random.rand(i))[::-1]))\n",
    "        results.iloc[i-1] = np.mean(runtimes)\n",
    "\n",
    "    x = results.index\n",
    "    y = results.runtimes\n",
    "    results['quadratic fit'] = np.poly1d(np.polyfit(x, y, deg=2))(x)\n",
    "\n",
    "    plt.style.use('ggplot')\n",
    "    plt.figure()\n",
    "    results.plot()\n",
    "    plt.title('Expectation Maximization Runtimes', fontsize=12)\n",
    "    plt.xlabel('n = |P|')\n",
    "    plt.ylabel('time in seconds')\n",
    "    plt.gcf().savefig(filename)\n"
   ]
  },
  {
   "cell_type": "code",
   "execution_count": 32,
   "metadata": {
    "collapsed": true
   },
   "outputs": [],
   "source": [
    "def calc_approx_ef1(df_group):\n",
    "\n",
    "    df = df_group.copy()\n",
    "    order_id = np.int(df.iloc[0]['order_id'])\n",
    "    \n",
    "    df = df.sort_values('pred', ascending=False)[['product_id', 'pred', 'true']]\n",
    "    products, preds = (zip(*df.sort_values('pred', ascending=False)[['product_id', 'pred']].values))\n",
    "    _true = list(map(int, df['true'].values))\n",
    "    pred_none = np.cumprod([1-x for x in preds])[-1]\n",
    "\n",
    "    # add 'None' as product with p_none\n",
    "    # ************************************************************\n",
    "    \n",
    "    products = list(products)[::-1]\n",
    "    preds = list(preds)[::-1]\n",
    "    ii = bisect.bisect(preds, pred_none)\n",
    "    bisect.insort(preds, pred_none)\n",
    "    products.insert(ii, 65535)\n",
    "    products = products[::-1]\n",
    "    preds = preds[::-1]\n",
    "    # ************************************************************\n",
    "    \n",
    "    pi_sum = np.sum(preds)\n",
    "    _len = len(products)\n",
    "    mask = np.tril(np.ones((_len, _len)))\n",
    "    hi_sum = mask.sum(1)\n",
    "\n",
    "    phi_sum = 2*np.dot(mask, preds)\n",
    "    ef1 = phi_sum / (pi_sum+hi_sum)\n",
    "\n",
    "    ef1_max = np.max(ef1)\n",
    "\n",
    "    prod_max = ' '.join(map(str, map(int, filter(bool, mask[np.argmax(ef1)]*products))))\n",
    "    prod_list = prod_max.replace('65535', '65535') # if ef1_max > pred_none else 'None'\n",
    "\n",
    "    return pd.DataFrame({'products':[prod_list], 'ef1':[ef1_max]})"
   ]
  },
  {
   "cell_type": "code",
   "execution_count": 131,
   "metadata": {
    "collapsed": true
   },
   "outputs": [],
   "source": [
    "X_train['true'] = 0"
   ]
  },
  {
   "cell_type": "code",
   "execution_count": 12,
   "metadata": {},
   "outputs": [
    {
     "data": {
      "text/plain": [
       "268"
      ]
     },
     "execution_count": 12,
     "metadata": {},
     "output_type": "execute_result"
    }
   ],
   "source": [
    "import gc\n",
    "gc.collect()"
   ]
  },
  {
   "cell_type": "code",
   "execution_count": 133,
   "metadata": {
    "collapsed": true
   },
   "outputs": [],
   "source": [
    "dfg = X_train[['user_id', 'product_id', 'order_id', 'pred', 'true']].groupby(['order_id'])\n",
    "df_ef1 = dfg.apply(lambda x: calc_approx_ef1(x))\n",
    "df_ef1.reset_index(inplace=True)"
   ]
  },
  {
   "cell_type": "code",
   "execution_count": 136,
   "metadata": {
    "collapsed": true
   },
   "outputs": [],
   "source": [
    "df_ef1['products'] = df_ef1['products'].apply(lambda x: x.split())\n",
    "df_ef1['products'] = df_ef1['products'].apply(lambda x: [int(i) for i in x])\n",
    "del df_ef1['level_1']\n",
    "del df_ef1['ef1']"
   ]
  },
  {
   "cell_type": "code",
   "execution_count": 42,
   "metadata": {
    "collapsed": true
   },
   "outputs": [],
   "source": []
  },
  {
   "cell_type": "code",
   "execution_count": 116,
   "metadata": {
    "collapsed": true
   },
   "outputs": [],
   "source": []
  },
  {
   "cell_type": "code",
   "execution_count": 88,
   "metadata": {},
   "outputs": [
    {
     "ename": "NameError",
     "evalue": "name 'print_best_prediction' is not defined",
     "output_type": "error",
     "traceback": [
      "\u001b[0;31m---------------------------------------------------------------------------\u001b[0m",
      "\u001b[0;31mNameError\u001b[0m                                 Traceback (most recent call last)",
      "\u001b[0;32m<ipython-input-88-f090eecb4a29>\u001b[0m in \u001b[0;36m<module>\u001b[0;34m()\u001b[0m\n\u001b[0;32m----> 1\u001b[0;31m \u001b[0mprint_best_prediction\u001b[0m\u001b[0;34m(\u001b[0m\u001b[0;34m[\u001b[0m\u001b[0;36m0.6\u001b[0m\u001b[0;34m,\u001b[0m \u001b[0;36m0.4\u001b[0m\u001b[0;34m]\u001b[0m\u001b[0;34m,\u001b[0m \u001b[0mpNone\u001b[0m\u001b[0;34m=\u001b[0m\u001b[0;36m0.5\u001b[0m\u001b[0;34m)\u001b[0m\u001b[0;34m\u001b[0m\u001b[0m\n\u001b[0m",
      "\u001b[0;31mNameError\u001b[0m: name 'print_best_prediction' is not defined"
     ]
    }
   ],
   "source": [
    "print_best_prediction([0.6, 0.4], pNone=0.5)"
   ]
  },
  {
   "cell_type": "code",
   "execution_count": 104,
   "metadata": {
    "collapsed": true
   },
   "outputs": [],
   "source": [
    "tmp = pd.DataFrame(X_train.sort_values(['order_id','pred']).groupby('order_id')['pred'].aggregate(lambda x: tuple(x)))"
   ]
  },
  {
   "cell_type": "code",
   "execution_count": 117,
   "metadata": {},
   "outputs": [
    {
     "data": {
      "text/plain": [
       "3931.6807650000005"
      ]
     },
     "execution_count": 117,
     "metadata": {},
     "output_type": "execute_result"
    }
   ],
   "source": [
    "t_start = time.clock()\n",
    "res_cnt = tmp['pred'][:].apply(lambda x: print_best_prediction(x))\n",
    "t_end = time.clock()\n",
    "t_end-t_start\n",
    "\n",
    "\n",
    "res_cnt = pd.DataFrame(X_train.sort_values(['order_id','pred']).groupby('order_id')['product_id'].aggregate(lambda x: tuple(x)))\n",
    "res = pd.concat([res, res_cnt], axis=1)"
   ]
  },
  {
   "cell_type": "code",
   "execution_count": 131,
   "metadata": {
    "collapsed": true
   },
   "outputs": [],
   "source": [
    "val = []\n",
    "for product_id, res in tmp[:].values:\n",
    "    val += [product_id[-res:]]"
   ]
  },
  {
   "cell_type": "code",
   "execution_count": 175,
   "metadata": {
    "collapsed": true
   },
   "outputs": [],
   "source": [
    "res['product_id'] = val\n",
    "res['order_id'] = res.index"
   ]
  },
  {
   "cell_type": "code",
   "execution_count": 53,
   "metadata": {
    "collapsed": true
   },
   "outputs": [],
   "source": [
    "tr_y.index = range(len(tr_y))"
   ]
  },
  {
   "cell_type": "code",
   "execution_count": 107,
   "metadata": {},
   "outputs": [
    {
     "data": {
      "text/plain": [
       "0.75"
      ]
     },
     "execution_count": 107,
     "metadata": {},
     "output_type": "execute_result"
    }
   ],
   "source": [
    "f1_score([[None], [1, 2]], [[None], [4, 2]])"
   ]
  },
  {
   "cell_type": "code",
   "execution_count": 137,
   "metadata": {},
   "outputs": [
    {
     "data": {
      "text/plain": [
       "0.37992610581347819"
      ]
     },
     "execution_count": 137,
     "metadata": {},
     "output_type": "execute_result"
    }
   ],
   "source": [
    "f1_score(tr_y['products'], df_ef1['products'])"
   ]
  },
  {
   "cell_type": "code",
   "execution_count": null,
   "metadata": {
    "collapsed": true
   },
   "outputs": [],
   "source": [
    "0.37996139085153019"
   ]
  },
  {
   "cell_type": "code",
   "execution_count": 183,
   "metadata": {},
   "outputs": [
    {
     "data": {
      "text/plain": [
       "131209"
      ]
     },
     "execution_count": 183,
     "metadata": {},
     "output_type": "execute_result"
    }
   ],
   "source": [
    "len(res)"
   ]
  },
  {
   "cell_type": "code",
   "execution_count": 77,
   "metadata": {
    "collapsed": true
   },
   "outputs": [],
   "source": [
    "tr_y = pd.DataFrame(train.groupby('order_id')['product_id'].aggregate(lambda x: tuple(x)))\n",
    "tr_y['order_id'] = tr_y.index\n",
    "tmp = pd.DataFrame(tr_y['order_id'])\n",
    "\n",
    "tr_y = pd.DataFrame(train[train.reordered==1].groupby('order_id')['product_id'].aggregate(lambda x: tuple(x)))\n",
    "tr_y['product_id'] = tr_y['product_id'].apply(lambda x: list(x))\n",
    "\n",
    "tr_y['order_id'] = tr_y.index"
   ]
  },
  {
   "cell_type": "code",
   "execution_count": 58,
   "metadata": {},
   "outputs": [
    {
     "data": {
      "text/plain": [
       "131209"
      ]
     },
     "execution_count": 58,
     "metadata": {},
     "output_type": "execute_result"
    }
   ],
   "source": [
    "len(tr_y)"
   ]
  },
  {
   "cell_type": "code",
   "execution_count": 78,
   "metadata": {},
   "outputs": [
    {
     "ename": "NameError",
     "evalue": "name 'res' is not defined",
     "output_type": "error",
     "traceback": [
      "\u001b[0;31m---------------------------------------------------------------------------\u001b[0m",
      "\u001b[0;31mNameError\u001b[0m                                 Traceback (most recent call last)",
      "\u001b[0;32m<ipython-input-78-6a1097f926fa>\u001b[0m in \u001b[0;36m<module>\u001b[0;34m()\u001b[0m\n\u001b[0;32m----> 1\u001b[0;31m \u001b[0mres\u001b[0m \u001b[0;34m=\u001b[0m \u001b[0mpd\u001b[0m\u001b[0;34m.\u001b[0m\u001b[0mmerge\u001b[0m\u001b[0;34m(\u001b[0m\u001b[0mtmp\u001b[0m\u001b[0;34m,\u001b[0m \u001b[0mres\u001b[0m\u001b[0;34m,\u001b[0m \u001b[0mon\u001b[0m\u001b[0;34m=\u001b[0m\u001b[0;34m[\u001b[0m\u001b[0;34m'order_id'\u001b[0m\u001b[0;34m]\u001b[0m\u001b[0;34m,\u001b[0m \u001b[0mhow\u001b[0m\u001b[0;34m=\u001b[0m\u001b[0;34m'left'\u001b[0m\u001b[0;34m)\u001b[0m\u001b[0;34m\u001b[0m\u001b[0m\n\u001b[0m\u001b[1;32m      2\u001b[0m \u001b[0mres\u001b[0m\u001b[0;34m.\u001b[0m\u001b[0mindex\u001b[0m \u001b[0;34m=\u001b[0m \u001b[0mtmp\u001b[0m\u001b[0;34m.\u001b[0m\u001b[0mindex\u001b[0m\u001b[0;34m\u001b[0m\u001b[0m\n\u001b[1;32m      3\u001b[0m \u001b[0mres\u001b[0m\u001b[0;34m.\u001b[0m\u001b[0mcolumns\u001b[0m \u001b[0;34m=\u001b[0m \u001b[0;34m[\u001b[0m\u001b[0;34m'order_id'\u001b[0m\u001b[0;34m,\u001b[0m\u001b[0;34m'products'\u001b[0m\u001b[0;34m]\u001b[0m\u001b[0;34m\u001b[0m\u001b[0m\n\u001b[1;32m      4\u001b[0m \u001b[0mres\u001b[0m \u001b[0;34m=\u001b[0m \u001b[0mres\u001b[0m\u001b[0;34m.\u001b[0m\u001b[0mfillna\u001b[0m\u001b[0;34m(\u001b[0m\u001b[0;34m''\u001b[0m\u001b[0;34m)\u001b[0m\u001b[0;34m\u001b[0m\u001b[0m\n",
      "\u001b[0;31mNameError\u001b[0m: name 'res' is not defined"
     ]
    }
   ],
   "source": [
    "res = pd.merge(tmp, res, on=['order_id'], how='left')\n",
    "res.index = tmp.index\n",
    "res.columns = ['order_id','products']\n",
    "res = res.fillna('')"
   ]
  },
  {
   "cell_type": "code",
   "execution_count": 79,
   "metadata": {
    "collapsed": true
   },
   "outputs": [],
   "source": [
    "\n",
    "tr_y = pd.merge(tmp, tr_y, on=['order_id'], how='left')\n",
    "tr_y.index = tmp.index\n",
    "tr_y.columns = ['order_id','products']\n",
    "tr_y = tr_y.fillna('')"
   ]
  },
  {
   "cell_type": "code",
   "execution_count": 80,
   "metadata": {
    "collapsed": true
   },
   "outputs": [],
   "source": [
    "tmp = []\n",
    "for i in tr_y['products']:\n",
    "    if i == '':\n",
    "        tmp += [[]]\n",
    "    else:\n",
    "        tmp += [i]\n",
    "tr_y['products'] = tmp"
   ]
  },
  {
   "cell_type": "code",
   "execution_count": 187,
   "metadata": {
    "collapsed": true
   },
   "outputs": [],
   "source": [
    "tmp = []\n",
    "for i in res['products']:\n",
    "    if i == '':\n",
    "        tmp += [[]]\n",
    "    else:\n",
    "        tmp += [i]\n",
    "res['products'] = tmp\n",
    "\n",
    "\n",
    "tmp = []\n",
    "for i in tr_y['products']:\n",
    "    if i == '':\n",
    "        tmp += [[]]\n",
    "    else:\n",
    "        tmp += [i]\n",
    "tr_y['products'] = tmp"
   ]
  },
  {
   "cell_type": "code",
   "execution_count": 16,
   "metadata": {
    "collapsed": true
   },
   "outputs": [],
   "source": [
    "X_train['pred'] = pred_train\n",
    "X_train['pred'] = X_train['pred'] > 0.185\n",
    "\n",
    "tr_y = pd.DataFrame(train.groupby('order_id')['product_id'].aggregate(lambda x: tuple(x)))\n",
    "tr_y['order_id'] = tr_y.index\n",
    "tmp = pd.DataFrame(tr_y['order_id'])\n",
    "\n",
    "tr_y = pd.DataFrame(train[train.reordered==1].groupby('order_id')['product_id'].aggregate(lambda x: tuple(x)))\n",
    "tr_y['product_id'] = tr_y['product_id'].apply(lambda x: list(x))\n",
    "\n",
    "res = pd.DataFrame(X_train[X_train.pred].groupby('order_id')['product_id'].aggregate(lambda x: tuple(x)))\n",
    "res['product_id'] = res['product_id'].apply(lambda x: list(x))\n",
    "\n",
    "res['order_id'] = res.index\n",
    "tr_y['order_id'] = tr_y.index\n",
    "\n",
    "res = pd.merge(tmp, res, on=['order_id'], how='left')\n",
    "res.index = tmp.index\n",
    "res.columns = ['order_id','products']\n",
    "res = res.fillna('')\n",
    "\n",
    "tr_y = pd.merge(tmp, tr_y, on=['order_id'], how='left')\n",
    "tr_y.index = tmp.index\n",
    "tr_y.columns = ['order_id','products']\n",
    "tr_y = tr_y.fillna('')\n",
    "\n",
    "tmp = []\n",
    "for i in res['products']:\n",
    "    if i == '':\n",
    "        tmp += [[]]\n",
    "    else:\n",
    "        tmp += [i]\n",
    "res['products'] = tmp\n",
    "\n",
    "\n",
    "tmp = []\n",
    "for i in tr_y['products']:\n",
    "    if i == '':\n",
    "        tmp += [[]]\n",
    "    else:\n",
    "        tmp += [i]\n",
    "tr_y['products'] = tmp"
   ]
  },
  {
   "cell_type": "code",
   "execution_count": 59,
   "metadata": {},
   "outputs": [
    {
     "ename": "NameError",
     "evalue": "name 'res' is not defined",
     "output_type": "error",
     "traceback": [
      "\u001b[0;31m---------------------------------------------------------------------------\u001b[0m",
      "\u001b[0;31mNameError\u001b[0m                                 Traceback (most recent call last)",
      "\u001b[0;32m<ipython-input-59-5d71db20460f>\u001b[0m in \u001b[0;36m<module>\u001b[0;34m()\u001b[0m\n\u001b[0;32m----> 1\u001b[0;31m \u001b[0mf1_score\u001b[0m\u001b[0;34m(\u001b[0m\u001b[0mtr_y\u001b[0m\u001b[0;34m.\u001b[0m\u001b[0mix\u001b[0m\u001b[0;34m[\u001b[0m\u001b[0mres\u001b[0m\u001b[0;34m.\u001b[0m\u001b[0mindex\u001b[0m\u001b[0;34m,\u001b[0m \u001b[0;34m'products'\u001b[0m\u001b[0;34m]\u001b[0m\u001b[0;34m,\u001b[0m \u001b[0mres\u001b[0m\u001b[0;34m.\u001b[0m\u001b[0mix\u001b[0m\u001b[0;34m[\u001b[0m\u001b[0;34m:\u001b[0m\u001b[0;34m,\u001b[0m \u001b[0;34m'products'\u001b[0m\u001b[0;34m]\u001b[0m\u001b[0;34m)\u001b[0m\u001b[0;34m\u001b[0m\u001b[0m\n\u001b[0m",
      "\u001b[0;31mNameError\u001b[0m: name 'res' is not defined"
     ]
    }
   ],
   "source": [
    "f1_score(tr_y.ix[res.index, 'products'], res.ix[:, 'products'])"
   ]
  },
  {
   "cell_type": "code",
   "execution_count": null,
   "metadata": {
    "collapsed": true
   },
   "outputs": [],
   "source": [
    "0.38427334040363975"
   ]
  },
  {
   "cell_type": "code",
   "execution_count": null,
   "metadata": {
    "collapsed": true
   },
   "outputs": [],
   "source": [
    "0.37370660212065726\n",
    "0.37338596594352669\n",
    "0.37275321576951187\n",
    "0.37156955488712173\n",
    "0.37170138617722104\n",
    "0.37105389669479422\n",
    "0.370843547871051"
   ]
  },
  {
   "cell_type": "markdown",
   "metadata": {
    "collapsed": true
   },
   "source": [
    "## Test"
   ]
  },
  {
   "cell_type": "code",
   "execution_count": 27,
   "metadata": {
    "collapsed": true
   },
   "outputs": [],
   "source": [
    "X_train_ = X_train.copy()"
   ]
  },
  {
   "cell_type": "code",
   "execution_count": 117,
   "metadata": {},
   "outputs": [
    {
     "data": {
      "text/html": [
       "<div>\n",
       "<style>\n",
       "    .dataframe thead tr:only-child th {\n",
       "        text-align: right;\n",
       "    }\n",
       "\n",
       "    .dataframe thead th {\n",
       "        text-align: left;\n",
       "    }\n",
       "\n",
       "    .dataframe tbody tr th {\n",
       "        vertical-align: top;\n",
       "    }\n",
       "</style>\n",
       "<table border=\"1\" class=\"dataframe\">\n",
       "  <thead>\n",
       "    <tr style=\"text-align: right;\">\n",
       "      <th></th>\n",
       "      <th>product_id</th>\n",
       "      <th>order_id_x</th>\n",
       "      <th>user_id</th>\n",
       "      <th>order_number</th>\n",
       "      <th>order_dow</th>\n",
       "      <th>order_hour_of_day</th>\n",
       "      <th>days_since_prior_order</th>\n",
       "      <th>ord_count</th>\n",
       "      <th>part_ord</th>\n",
       "      <th>ave_add_to_cart_order</th>\n",
       "      <th>...</th>\n",
       "      <th>_user_reorder_ratio</th>\n",
       "      <th>_user_total_products</th>\n",
       "      <th>_user_distinct_products</th>\n",
       "      <th>_user_average_basket</th>\n",
       "      <th>order_id_y</th>\n",
       "      <th>time_since_last_order</th>\n",
       "      <th>_up_order_rate</th>\n",
       "      <th>_up_order_since_last_order</th>\n",
       "      <th>_up_order_rate_since_first_order</th>\n",
       "      <th>pred</th>\n",
       "    </tr>\n",
       "  </thead>\n",
       "  <tbody>\n",
       "    <tr>\n",
       "      <th>0</th>\n",
       "      <td>33120</td>\n",
       "      <td>1050357</td>\n",
       "      <td>202279</td>\n",
       "      <td>9</td>\n",
       "      <td>1</td>\n",
       "      <td>14</td>\n",
       "      <td>30.0</td>\n",
       "      <td>5</td>\n",
       "      <td>0.555556</td>\n",
       "      <td>2.000000</td>\n",
       "      <td>...</td>\n",
       "      <td>0.5375</td>\n",
       "      <td>90</td>\n",
       "      <td>47</td>\n",
       "      <td>11.25</td>\n",
       "      <td>1050357</td>\n",
       "      <td>30.0</td>\n",
       "      <td>0.625</td>\n",
       "      <td>0</td>\n",
       "      <td>0.625000</td>\n",
       "      <td>0.512450</td>\n",
       "    </tr>\n",
       "    <tr>\n",
       "      <th>1</th>\n",
       "      <td>28985</td>\n",
       "      <td>1050357</td>\n",
       "      <td>202279</td>\n",
       "      <td>9</td>\n",
       "      <td>1</td>\n",
       "      <td>14</td>\n",
       "      <td>30.0</td>\n",
       "      <td>5</td>\n",
       "      <td>0.555556</td>\n",
       "      <td>3.200000</td>\n",
       "      <td>...</td>\n",
       "      <td>0.5375</td>\n",
       "      <td>90</td>\n",
       "      <td>47</td>\n",
       "      <td>11.25</td>\n",
       "      <td>1050357</td>\n",
       "      <td>30.0</td>\n",
       "      <td>0.625</td>\n",
       "      <td>2</td>\n",
       "      <td>0.625000</td>\n",
       "      <td>0.285229</td>\n",
       "    </tr>\n",
       "    <tr>\n",
       "      <th>2</th>\n",
       "      <td>9327</td>\n",
       "      <td>1050357</td>\n",
       "      <td>202279</td>\n",
       "      <td>9</td>\n",
       "      <td>1</td>\n",
       "      <td>14</td>\n",
       "      <td>30.0</td>\n",
       "      <td>1</td>\n",
       "      <td>0.111111</td>\n",
       "      <td>3.000000</td>\n",
       "      <td>...</td>\n",
       "      <td>0.5375</td>\n",
       "      <td>90</td>\n",
       "      <td>47</td>\n",
       "      <td>11.25</td>\n",
       "      <td>1050357</td>\n",
       "      <td>30.0</td>\n",
       "      <td>0.125</td>\n",
       "      <td>5</td>\n",
       "      <td>0.166667</td>\n",
       "      <td>0.022736</td>\n",
       "    </tr>\n",
       "    <tr>\n",
       "      <th>3</th>\n",
       "      <td>45918</td>\n",
       "      <td>1050357</td>\n",
       "      <td>202279</td>\n",
       "      <td>9</td>\n",
       "      <td>1</td>\n",
       "      <td>14</td>\n",
       "      <td>30.0</td>\n",
       "      <td>5</td>\n",
       "      <td>0.555556</td>\n",
       "      <td>4.800000</td>\n",
       "      <td>...</td>\n",
       "      <td>0.5375</td>\n",
       "      <td>90</td>\n",
       "      <td>47</td>\n",
       "      <td>11.25</td>\n",
       "      <td>1050357</td>\n",
       "      <td>30.0</td>\n",
       "      <td>0.625</td>\n",
       "      <td>1</td>\n",
       "      <td>0.714286</td>\n",
       "      <td>0.254252</td>\n",
       "    </tr>\n",
       "    <tr>\n",
       "      <th>4</th>\n",
       "      <td>30035</td>\n",
       "      <td>1050357</td>\n",
       "      <td>202279</td>\n",
       "      <td>9</td>\n",
       "      <td>1</td>\n",
       "      <td>14</td>\n",
       "      <td>30.0</td>\n",
       "      <td>3</td>\n",
       "      <td>0.333333</td>\n",
       "      <td>4.666667</td>\n",
       "      <td>...</td>\n",
       "      <td>0.5375</td>\n",
       "      <td>90</td>\n",
       "      <td>47</td>\n",
       "      <td>11.25</td>\n",
       "      <td>1050357</td>\n",
       "      <td>30.0</td>\n",
       "      <td>0.375</td>\n",
       "      <td>1</td>\n",
       "      <td>0.500000</td>\n",
       "      <td>0.191346</td>\n",
       "    </tr>\n",
       "  </tbody>\n",
       "</table>\n",
       "<p>5 rows × 65 columns</p>\n",
       "</div>"
      ],
      "text/plain": [
       "   product_id  order_id_x  user_id  order_number  order_dow  \\\n",
       "0       33120     1050357   202279             9          1   \n",
       "1       28985     1050357   202279             9          1   \n",
       "2        9327     1050357   202279             9          1   \n",
       "3       45918     1050357   202279             9          1   \n",
       "4       30035     1050357   202279             9          1   \n",
       "\n",
       "   order_hour_of_day  days_since_prior_order  ord_count  part_ord  \\\n",
       "0                 14                    30.0          5  0.555556   \n",
       "1                 14                    30.0          5  0.555556   \n",
       "2                 14                    30.0          1  0.111111   \n",
       "3                 14                    30.0          5  0.555556   \n",
       "4                 14                    30.0          3  0.333333   \n",
       "\n",
       "   ave_add_to_cart_order    ...     _user_reorder_ratio  _user_total_products  \\\n",
       "0               2.000000    ...                  0.5375                    90   \n",
       "1               3.200000    ...                  0.5375                    90   \n",
       "2               3.000000    ...                  0.5375                    90   \n",
       "3               4.800000    ...                  0.5375                    90   \n",
       "4               4.666667    ...                  0.5375                    90   \n",
       "\n",
       "   _user_distinct_products  _user_average_basket  order_id_y  \\\n",
       "0                       47                 11.25     1050357   \n",
       "1                       47                 11.25     1050357   \n",
       "2                       47                 11.25     1050357   \n",
       "3                       47                 11.25     1050357   \n",
       "4                       47                 11.25     1050357   \n",
       "\n",
       "   time_since_last_order  _up_order_rate  _up_order_since_last_order  \\\n",
       "0                   30.0           0.625                           0   \n",
       "1                   30.0           0.625                           2   \n",
       "2                   30.0           0.125                           5   \n",
       "3                   30.0           0.625                           1   \n",
       "4                   30.0           0.375                           1   \n",
       "\n",
       "   _up_order_rate_since_first_order      pred  \n",
       "0                          0.625000  0.512450  \n",
       "1                          0.625000  0.285229  \n",
       "2                          0.166667  0.022736  \n",
       "3                          0.714286  0.254252  \n",
       "4                          0.500000  0.191346  \n",
       "\n",
       "[5 rows x 65 columns]"
      ]
     },
     "execution_count": 117,
     "metadata": {},
     "output_type": "execute_result"
    }
   ],
   "source": [
    "X_train[:5]"
   ]
  },
  {
   "cell_type": "code",
   "execution_count": 31,
   "metadata": {
    "collapsed": true
   },
   "outputs": [],
   "source": [
    "del X_train"
   ]
  },
  {
   "cell_type": "code",
   "execution_count": 16,
   "metadata": {},
   "outputs": [
    {
     "data": {
      "text/plain": [
       "184"
      ]
     },
     "execution_count": 16,
     "metadata": {},
     "output_type": "execute_result"
    }
   ],
   "source": [
    "import gc\n",
    "gc.collect()"
   ]
  },
  {
   "cell_type": "code",
   "execution_count": 9,
   "metadata": {},
   "outputs": [],
   "source": [
    "del sample_submission['products']\n",
    "\n",
    "X_train = pd.merge(sample_submission, orders, on=['order_id'], how='left')\n",
    "prior_base = pd.merge(priors, orders, on=['order_id'], how='left')\n",
    "prior_base = prior_base[['user_id', 'product_id']]\n",
    "prior_base = prior_base.drop_duplicates()\n",
    "\n",
    "\n",
    "tmp = pd.DataFrame(X_train.groupby('order_id')['user_id'].mean())\n",
    "tmp['order_id'] = tmp.index\n",
    "tmp.index = tmp.user_id\n",
    "X_train = pd.merge(prior_base, tmp, on='user_id')\n",
    "del X_train['user_id']\n",
    "X_train = pd.merge(X_train, orders, on=['order_id'], how='left')\n",
    "del X_train['eval_set']\n",
    "\n",
    "\n",
    "X_train = pd.merge(X_train, train, on=['order_id', 'product_id'], how='left')\n",
    "del X_train['add_to_cart_order']\n",
    "X_train = X_train.fillna(0)"
   ]
  },
  {
   "cell_type": "code",
   "execution_count": 10,
   "metadata": {
    "collapsed": true
   },
   "outputs": [],
   "source": [
    "# Количество раз, которое был куплен товар пользователем\n",
    "prior_base = pd.merge(priors, orders, on=['order_id'], how='left')\n",
    "tmp = pd.DataFrame(prior_base.groupby(['user_id', 'product_id'])['order_id'].count())\n",
    "tmp.reset_index(inplace=True)\n",
    "tmp.columns = ['user_id', 'product_id', 'ord_count']\n",
    "X_train = pd.merge(X_train, tmp, on=['user_id', 'product_id'], how='left')\n",
    "\n",
    "# Доля товара в заказах\n",
    "X_train['part_ord'] = X_train['ord_count'] / X_train['order_number']\n",
    "\n",
    "# Среднее место в корзине\n",
    "tmp = pd.DataFrame(prior_base.groupby(['user_id', 'product_id'])['add_to_cart_order'].mean())\n",
    "tmp.reset_index(inplace=True)\n",
    "tmp.columns = ['user_id', 'product_id', 'ave_add_to_cart_order']\n",
    "X_train = pd.merge(X_train, tmp, on=['user_id', 'product_id'], how='left')\n",
    "\n",
    "# Макс место в корзине\n",
    "tmp = pd.DataFrame(prior_base.groupby(['user_id', 'product_id'])['add_to_cart_order'].max())\n",
    "tmp.reset_index(inplace=True)\n",
    "tmp.columns = ['user_id', 'product_id', 'max_add_to_cart_order']\n",
    "X_train = pd.merge(X_train, tmp, on=['user_id', 'product_id'], how='left')\n",
    "\n",
    "# Мин место в корзине\n",
    "tmp = pd.DataFrame(prior_base.groupby(['user_id', 'product_id'])['add_to_cart_order'].min())\n",
    "tmp.reset_index(inplace=True)\n",
    "tmp.columns = ['user_id', 'product_id', 'min_add_to_cart_order']\n",
    "X_train = pd.merge(X_train, tmp, on=['user_id', 'product_id'], how='left')\n",
    "\n",
    "# Число заказов пользователя\n",
    "tmp = pd.DataFrame(prior_base.groupby(['user_id'])['product_id'].count())\n",
    "tmp['user_id'] = tmp.index\n",
    "tmp.columns = ['tot_prod_count_user', 'user_id']\n",
    "X_train = pd.merge(X_train, tmp, on=['user_id'], how='left')\n",
    "\n",
    "# Доля заказов продукта пользователем ко всем заказам пользователя\n",
    "X_train['tot_part_ord'] = X_train['ord_count'] / X_train['tot_prod_count_user']\n",
    "\n",
    "# Средний размер корзины\n",
    "X_train['ave_cart'] = X_train['tot_prod_count_user'] / X_train['order_number']\n",
    "\n",
    "# Количество раз, которое товар покупался всего \n",
    "tmp = pd.DataFrame(prior_base.groupby(['product_id'])['product_id'].count())\n",
    "tmp.columns = ['prod_tot_count']\n",
    "tmp['product_id'] = tmp.index\n",
    "tmp.columns = ['prod_tot_count', 'product_id']\n",
    "X_train = pd.merge(X_train, tmp, on=['product_id'], how='left')\n",
    "\n",
    "# Количество раз, которое товар перепокупался всего \n",
    "tmp = pd.DataFrame(prior_base[prior_base.reordered==1].groupby(['product_id'])['product_id'].count())\n",
    "tmp.columns = ['prod_tot_reord_count']\n",
    "tmp['product_id'] = tmp.index\n",
    "tmp.columns = ['prod_tot_reord_count', 'product_id']\n",
    "X_train = pd.merge(X_train, tmp, on=['product_id'], how='left')\n",
    "\n",
    "# Доля перепокупок\n",
    "X_train['tot_reord_part'] = X_train['prod_tot_reord_count'] / X_train['prod_tot_count']\n",
    "\n",
    "# Номер предыдущего заказа товара\n",
    "tmp = pd.DataFrame(prior_base.groupby(['user_id','product_id'])['order_number'].max())\n",
    "tmp.reset_index(inplace=True)\n",
    "tmp.columns = ['user_id', 'product_id', 'max_last_order']\n",
    "X_train = pd.merge(X_train, tmp, on=['user_id', 'product_id'], how='left')\n",
    "\n",
    "# Расстояние до предыдущего заказа\n",
    "X_train['last_ord_dist'] = X_train['order_number'] - X_train['max_last_order']\n",
    "\n",
    "# Ордер, в котором товар был куплен первый раз\n",
    "tmp = pd.DataFrame(prior_base.groupby(['user_id','product_id'])['order_number'].min())\n",
    "tmp.reset_index(inplace=True)\n",
    "tmp.columns = ['user_id', 'product_id', 'min_last_order']\n",
    "X_train = pd.merge(X_train, tmp, on=['user_id', 'product_id'], how='left')\n",
    "\n",
    "# Расстояние до первого заказа\n",
    "X_train['min_ord_dist'] = X_train['order_number'] - X_train['min_last_order']\n",
    "\n",
    "# Расстояние между первой и последней покупкой\n",
    "X_train['dist_min_max_ord'] = X_train['max_last_order'] - X_train['min_last_order']\n",
    "# Среднее число заказов товара за ордер в этот период\n",
    "X_train['ave_min_max_count'] = X_train['ord_count'] / X_train['dist_min_max_ord']\n",
    "\n",
    "# Среднее число заказов товара за ордер с момента первой покупки\n",
    "X_train['ave_min_count'] = X_train['ord_count'] / X_train['min_ord_dist']\n",
    "\n",
    "# Среднее время между заказами\n",
    "tmp = pd.DataFrame(prior_base.groupby(['user_id'])['days_since_prior_order'].mean())\n",
    "tmp.columns = ['ave_time']\n",
    "tmp['user_id'] = tmp.index\n",
    "tmp.columns = ['ave_time', 'user_id']\n",
    "X_train = pd.merge(X_train, tmp, on=['user_id'], how='left')\n",
    "\n",
    "# Отношение времени до предыдущего заказа к среднему\n",
    "X_train['rate_time'] = X_train['days_since_prior_order'] / X_train['ave_time']"
   ]
  },
  {
   "cell_type": "code",
   "execution_count": 11,
   "metadata": {
    "collapsed": true
   },
   "outputs": [],
   "source": [
    "X_train = pd.merge(X_train, products, on=['product_id'], how='left')\n",
    "del X_train['product_name']\n",
    "\n",
    "prior_base = pd.merge(prior_base, products, on=['product_id'], how='left')\n",
    "prior_base = pd.merge(prior_base, pd.DataFrame(X_train[['user_id', 'product_id','max_last_order']]), on=['user_id', 'product_id'], how='left')\n",
    "\n",
    "tmp = X_train[['user_id', 'product_id', 'order_number']]\n",
    "tmp.columns = ['user_id', 'product_id', 'cur_order_number']\n",
    "prior_base = pd.merge(prior_base, tmp, on=['user_id', 'product_id'], how='left')\n",
    "prior_base['dist_to_ord'] = prior_base['cur_order_number'] - prior_base['order_number']\n",
    "\n",
    "\n",
    "# Время в днях с последнего заказа пользователем этого товара\n",
    "tmp = pd.DataFrame(prior_base.groupby(['user_id','order_number'])['order_id', 'days_since_prior_order'].mean())\n",
    "tmp.reset_index(inplace=True)\n",
    "del tmp['order_id']\n",
    "\n",
    "tmp1 = pd.DataFrame(prior_base.groupby(['user_id','product_id'])['max_last_order'].mean())\n",
    "tmp1.reset_index(inplace=True)\n",
    "\n",
    "mask = pd.merge(tmp, tmp1, on=['user_id'], how='inner')['max_last_order'] < pd.merge(tmp, tmp1, on=['user_id'], how='inner')['order_number']\n",
    "base = pd.merge(tmp, tmp1, on=['user_id'], how='inner')[mask]\n",
    "base = pd.DataFrame(base.groupby(['user_id', 'product_id'])['days_since_prior_order'].sum())\n",
    "base.columns = ['days_to last_buy']\n",
    "\n",
    "base.reset_index(inplace=True)\n",
    "X_train = pd.merge(X_train, base, on=['user_id', 'product_id'], how='left')\n",
    "\n",
    "\n",
    "\n",
    "# Среднее число дней до предыдущего заказа по товару\n",
    "tmp = pd.DataFrame(prior_base.groupby(['user_id','product_id'])['days_since_prior_order'].mean())\n",
    "tmp.reset_index(inplace=True)\n",
    "tmp.columns = ['user_id', 'product_id', 'ave_last_ord']\n",
    "X_train = pd.merge(X_train, tmp, on=['user_id', 'product_id'], how='left')"
   ]
  },
  {
   "cell_type": "code",
   "execution_count": 12,
   "metadata": {
    "collapsed": true
   },
   "outputs": [],
   "source": [
    "tmp = pd.DataFrame(prior_base.groupby(['department_id'])['reordered'].mean())\n",
    "tmp.columns = ['like_dep']\n",
    "tmp['department_id'] = tmp.index\n",
    "tmp.columns = ['like_dep', 'department_id']\n",
    "X_train = pd.merge(X_train, tmp, on=['department_id'], how='left')\n",
    "\n",
    "tmp = pd.DataFrame(prior_base.groupby(['aisle_id'])['reordered'].mean())\n",
    "tmp.columns = ['like_aisle']\n",
    "tmp['aisle_id'] = tmp.index\n",
    "tmp.columns = ['like_aisle', 'aisle_id']\n",
    "X_train = pd.merge(X_train, tmp, on=['aisle_id'], how='left')\n",
    "\n",
    "tmp = pd.DataFrame(prior_base.groupby(['department_id', 'user_id'])['reordered'].mean())\n",
    "tmp.columns = ['like_dep_user']\n",
    "tmp.reset_index(inplace=True)\n",
    "X_train = pd.merge(X_train, tmp, on=['department_id', 'user_id'], how='left')\n",
    "\n",
    "tmp = pd.DataFrame(prior_base.groupby(['aisle_id', 'user_id'])['reordered'].mean())\n",
    "tmp.columns = ['like_aisle_user']\n",
    "tmp.reset_index(inplace=True)\n",
    "X_train = pd.merge(X_train, tmp, on=['aisle_id', 'user_id'], how='left')\n",
    "\n",
    "tmp = pd.DataFrame(prior_base.groupby(['user_id', 'product_id'])['reordered'].mean())\n",
    "tmp.columns = ['like_user_prod']\n",
    "tmp.reset_index(inplace=True)\n",
    "X_train = pd.merge(X_train, tmp, on=['user_id', 'product_id'], how='left')"
   ]
  },
  {
   "cell_type": "code",
   "execution_count": 13,
   "metadata": {
    "collapsed": true
   },
   "outputs": [],
   "source": [
    "# Сколько раз товар покупался пользователем за последние 3 заказа\n",
    "tmp = pd.DataFrame(prior_base[prior_base.dist_to_ord <= 3].groupby(['user_id', 'product_id'])['order_id'].count())\n",
    "tmp.columns = ['last_3_count']\n",
    "tmp.reset_index(inplace=True)\n",
    "X_train = pd.merge(X_train, tmp, on=['user_id', 'product_id'], how='left')\n",
    "X_train['last_3_count'] = X_train['last_3_count'].fillna(0)\n",
    "\n",
    "# Сколько раз товар покупался пользователем за последние 5 заказа\n",
    "tmp = pd.DataFrame(prior_base[prior_base.dist_to_ord <= 5].groupby(['user_id', 'product_id'])['order_id'].count())\n",
    "tmp.columns = ['last_5_count']\n",
    "tmp.reset_index(inplace=True)\n",
    "X_train = pd.merge(X_train, tmp, on=['user_id', 'product_id'], how='left')\n",
    "X_train['last_5_count'] = X_train['last_5_count'].fillna(0)\n",
    "\n",
    "# Сколько раз товар покупался пользователем за последние 7 заказа\n",
    "tmp = pd.DataFrame(prior_base[prior_base.dist_to_ord <= 7].groupby(['user_id', 'product_id'])['order_id'].count())\n",
    "tmp.columns = ['last_7_count']\n",
    "tmp.reset_index(inplace=True)\n",
    "X_train = pd.merge(X_train, tmp, on=['user_id', 'product_id'], how='left')\n",
    "X_train['last_7_count'] = X_train['last_7_count'].fillna(0)\n",
    "\n",
    "\n",
    "# Среднее время, когда покупался товар\n",
    "tmp = pd.DataFrame(prior_base.groupby(['product_id'])['order_hour_of_day'].mean())\n",
    "tmp['product_id'] = tmp.index\n",
    "tmp.columns = ['ave_time_of_product', 'product_id']\n",
    "X_train = pd.merge(X_train, tmp, on=['product_id'], how='left')\n",
    "\n",
    "# Время до среднего времени заказа этого товара\n",
    "X_train['dist_to_ave_time'] = np.abs(X_train['ave_time_of_product'] - X_train['order_hour_of_day'])"
   ]
  },
  {
   "cell_type": "code",
   "execution_count": 22,
   "metadata": {},
   "outputs": [
    {
     "data": {
      "text/html": [
       "<div>\n",
       "<style>\n",
       "    .dataframe thead tr:only-child th {\n",
       "        text-align: right;\n",
       "    }\n",
       "\n",
       "    .dataframe thead th {\n",
       "        text-align: left;\n",
       "    }\n",
       "\n",
       "    .dataframe tbody tr th {\n",
       "        vertical-align: top;\n",
       "    }\n",
       "</style>\n",
       "<table border=\"1\" class=\"dataframe\">\n",
       "  <thead>\n",
       "    <tr style=\"text-align: right;\">\n",
       "      <th></th>\n",
       "      <th>product_id</th>\n",
       "      <th>order_id</th>\n",
       "      <th>user_id</th>\n",
       "      <th>order_number</th>\n",
       "      <th>order_dow</th>\n",
       "      <th>order_hour_of_day</th>\n",
       "      <th>days_since_prior_order</th>\n",
       "      <th>reordered</th>\n",
       "      <th>ord_count</th>\n",
       "      <th>part_ord</th>\n",
       "      <th>...</th>\n",
       "      <th>like_dep</th>\n",
       "      <th>like_aisle</th>\n",
       "      <th>like_dep_user</th>\n",
       "      <th>like_aisle_user</th>\n",
       "      <th>like_user_prod</th>\n",
       "      <th>last_3_count</th>\n",
       "      <th>last_5_count</th>\n",
       "      <th>last_7_count</th>\n",
       "      <th>ave_time_of_product</th>\n",
       "      <th>dist_to_ave_time</th>\n",
       "    </tr>\n",
       "  </thead>\n",
       "  <tbody>\n",
       "    <tr>\n",
       "      <th>0</th>\n",
       "      <td>17330</td>\n",
       "      <td>65432</td>\n",
       "      <td>45082</td>\n",
       "      <td>11</td>\n",
       "      <td>4</td>\n",
       "      <td>12</td>\n",
       "      <td>15.0</td>\n",
       "      <td>0.0</td>\n",
       "      <td>1</td>\n",
       "      <td>0.090909</td>\n",
       "      <td>...</td>\n",
       "      <td>0.569924</td>\n",
       "      <td>0.565304</td>\n",
       "      <td>0.0</td>\n",
       "      <td>0.0</td>\n",
       "      <td>0.0</td>\n",
       "      <td>0.0</td>\n",
       "      <td>0.0</td>\n",
       "      <td>0.0</td>\n",
       "      <td>13.268595</td>\n",
       "      <td>1.268595</td>\n",
       "    </tr>\n",
       "    <tr>\n",
       "      <th>1</th>\n",
       "      <td>27407</td>\n",
       "      <td>65432</td>\n",
       "      <td>45082</td>\n",
       "      <td>11</td>\n",
       "      <td>4</td>\n",
       "      <td>12</td>\n",
       "      <td>15.0</td>\n",
       "      <td>0.0</td>\n",
       "      <td>1</td>\n",
       "      <td>0.090909</td>\n",
       "      <td>...</td>\n",
       "      <td>0.346721</td>\n",
       "      <td>0.469100</td>\n",
       "      <td>0.0</td>\n",
       "      <td>0.0</td>\n",
       "      <td>0.0</td>\n",
       "      <td>0.0</td>\n",
       "      <td>0.0</td>\n",
       "      <td>0.0</td>\n",
       "      <td>13.617828</td>\n",
       "      <td>1.617828</td>\n",
       "    </tr>\n",
       "    <tr>\n",
       "      <th>2</th>\n",
       "      <td>35419</td>\n",
       "      <td>65432</td>\n",
       "      <td>45082</td>\n",
       "      <td>11</td>\n",
       "      <td>4</td>\n",
       "      <td>12</td>\n",
       "      <td>15.0</td>\n",
       "      <td>0.0</td>\n",
       "      <td>1</td>\n",
       "      <td>0.090909</td>\n",
       "      <td>...</td>\n",
       "      <td>0.569924</td>\n",
       "      <td>0.572344</td>\n",
       "      <td>0.0</td>\n",
       "      <td>0.0</td>\n",
       "      <td>0.0</td>\n",
       "      <td>0.0</td>\n",
       "      <td>0.0</td>\n",
       "      <td>0.0</td>\n",
       "      <td>14.147910</td>\n",
       "      <td>2.147910</td>\n",
       "    </tr>\n",
       "  </tbody>\n",
       "</table>\n",
       "<p>3 rows × 42 columns</p>\n",
       "</div>"
      ],
      "text/plain": [
       "   product_id  order_id  user_id  order_number  order_dow  order_hour_of_day  \\\n",
       "0       17330     65432    45082            11          4                 12   \n",
       "1       27407     65432    45082            11          4                 12   \n",
       "2       35419     65432    45082            11          4                 12   \n",
       "\n",
       "   days_since_prior_order  reordered  ord_count  part_ord        ...         \\\n",
       "0                    15.0        0.0          1  0.090909        ...          \n",
       "1                    15.0        0.0          1  0.090909        ...          \n",
       "2                    15.0        0.0          1  0.090909        ...          \n",
       "\n",
       "   like_dep  like_aisle  like_dep_user  like_aisle_user  like_user_prod  \\\n",
       "0  0.569924    0.565304            0.0              0.0             0.0   \n",
       "1  0.346721    0.469100            0.0              0.0             0.0   \n",
       "2  0.569924    0.572344            0.0              0.0             0.0   \n",
       "\n",
       "   last_3_count  last_5_count  last_7_count  ave_time_of_product  \\\n",
       "0           0.0           0.0           0.0            13.268595   \n",
       "1           0.0           0.0           0.0            13.617828   \n",
       "2           0.0           0.0           0.0            14.147910   \n",
       "\n",
       "   dist_to_ave_time  \n",
       "0          1.268595  \n",
       "1          1.617828  \n",
       "2          2.147910  \n",
       "\n",
       "[3 rows x 42 columns]"
      ]
     },
     "execution_count": 22,
     "metadata": {},
     "output_type": "execute_result"
    }
   ],
   "source": [
    "X_train[:3]"
   ]
  },
  {
   "cell_type": "code",
   "execution_count": 14,
   "metadata": {
    "collapsed": true
   },
   "outputs": [],
   "source": [
    "del X_train['reordered']"
   ]
  },
  {
   "cell_type": "code",
   "execution_count": 15,
   "metadata": {
    "collapsed": true
   },
   "outputs": [],
   "source": [
    "X_train_public = pd.read_csv('public_test.csv')\n",
    "X_train_public.fillna(0, inplace=True)\n",
    "del X_train_public['reordered']\n",
    "X_train = pd.merge(X_train, X_train_public, on=['user_id', 'product_id'], how='left')"
   ]
  },
  {
   "cell_type": "code",
   "execution_count": 16,
   "metadata": {
    "collapsed": true
   },
   "outputs": [],
   "source": [
    "df = pd.read_pickle('imba/data/user_department_products.pkl')\n",
    "X_train = pd.merge(X_train, df, on=['user_id', 'department_id'], how='left')\n",
    "df = pd.read_pickle('imba/data/user_aisle_products.pkl')\n",
    "X_train = pd.merge(X_train, df, on=['user_id', 'aisle_id'], how='left')\n",
    "df = pd.read_pickle('imba/data/product_periods_stat.pkl')\n",
    "X_train = pd.merge(X_train, df, on=['user_id', 'product_id'], how='left')\n",
    "df = pd.read_pickle('imba/data/product_embeddings.pkl')\n",
    "del df['product_name']\n",
    "X_train = pd.merge(X_train, df, on=['product_id'], how='left')\n",
    "df = pd.read_pickle('imba/data/orders_comsum.pkl')\n",
    "X_train = pd.merge(X_train, df, on=['user_id', 'order_number'], how='left')"
   ]
  },
  {
   "cell_type": "code",
   "execution_count": 19,
   "metadata": {
    "collapsed": true
   },
   "outputs": [],
   "source": [
    "del X_train['product_id']\n",
    "del X_train['order_id_x']\n",
    "del X_train['department_id_x']\n",
    "del X_train['aisle_id_x']\n",
    "del X_train['order_id_y']\n",
    "del X_train['eval_set']\n",
    "del X_train['aisle_id_y']\n",
    "del X_train['department_id_y']"
   ]
  },
  {
   "cell_type": "code",
   "execution_count": 17,
   "metadata": {
    "collapsed": true
   },
   "outputs": [],
   "source": [
    "del X_train['user_id']"
   ]
  },
  {
   "cell_type": "code",
   "execution_count": 20,
   "metadata": {},
   "outputs": [
    {
     "data": {
      "text/html": [
       "<div>\n",
       "<style>\n",
       "    .dataframe thead tr:only-child th {\n",
       "        text-align: right;\n",
       "    }\n",
       "\n",
       "    .dataframe thead th {\n",
       "        text-align: left;\n",
       "    }\n",
       "\n",
       "    .dataframe tbody tr th {\n",
       "        vertical-align: top;\n",
       "    }\n",
       "</style>\n",
       "<table border=\"1\" class=\"dataframe\">\n",
       "  <thead>\n",
       "    <tr style=\"text-align: right;\">\n",
       "      <th></th>\n",
       "      <th>order_number</th>\n",
       "      <th>order_dow</th>\n",
       "      <th>order_hour_of_day</th>\n",
       "      <th>days_since_prior_order</th>\n",
       "      <th>ord_count</th>\n",
       "      <th>part_ord</th>\n",
       "      <th>ave_add_to_cart_order</th>\n",
       "      <th>max_add_to_cart_order</th>\n",
       "      <th>min_add_to_cart_order</th>\n",
       "      <th>tot_prod_count_user</th>\n",
       "      <th>...</th>\n",
       "      <th>23</th>\n",
       "      <th>24</th>\n",
       "      <th>25</th>\n",
       "      <th>26</th>\n",
       "      <th>27</th>\n",
       "      <th>28</th>\n",
       "      <th>29</th>\n",
       "      <th>30</th>\n",
       "      <th>31</th>\n",
       "      <th>days_since_prior_order_comsum</th>\n",
       "    </tr>\n",
       "  </thead>\n",
       "  <tbody>\n",
       "    <tr>\n",
       "      <th>0</th>\n",
       "      <td>11</td>\n",
       "      <td>4</td>\n",
       "      <td>12</td>\n",
       "      <td>15.0</td>\n",
       "      <td>1</td>\n",
       "      <td>0.090909</td>\n",
       "      <td>1.0</td>\n",
       "      <td>1</td>\n",
       "      <td>1</td>\n",
       "      <td>67</td>\n",
       "      <td>...</td>\n",
       "      <td>1.177001</td>\n",
       "      <td>0.420436</td>\n",
       "      <td>-0.241807</td>\n",
       "      <td>-0.373233</td>\n",
       "      <td>-0.741965</td>\n",
       "      <td>-0.190637</td>\n",
       "      <td>-0.434844</td>\n",
       "      <td>0.955453</td>\n",
       "      <td>0.614790</td>\n",
       "      <td>83.0</td>\n",
       "    </tr>\n",
       "    <tr>\n",
       "      <th>1</th>\n",
       "      <td>11</td>\n",
       "      <td>4</td>\n",
       "      <td>12</td>\n",
       "      <td>15.0</td>\n",
       "      <td>1</td>\n",
       "      <td>0.090909</td>\n",
       "      <td>2.0</td>\n",
       "      <td>2</td>\n",
       "      <td>2</td>\n",
       "      <td>67</td>\n",
       "      <td>...</td>\n",
       "      <td>0.544554</td>\n",
       "      <td>0.269158</td>\n",
       "      <td>0.256089</td>\n",
       "      <td>0.578440</td>\n",
       "      <td>-0.883728</td>\n",
       "      <td>-0.902744</td>\n",
       "      <td>-0.467266</td>\n",
       "      <td>-0.266802</td>\n",
       "      <td>-0.032882</td>\n",
       "      <td>83.0</td>\n",
       "    </tr>\n",
       "    <tr>\n",
       "      <th>2</th>\n",
       "      <td>11</td>\n",
       "      <td>4</td>\n",
       "      <td>12</td>\n",
       "      <td>15.0</td>\n",
       "      <td>1</td>\n",
       "      <td>0.090909</td>\n",
       "      <td>3.0</td>\n",
       "      <td>3</td>\n",
       "      <td>3</td>\n",
       "      <td>67</td>\n",
       "      <td>...</td>\n",
       "      <td>0.389326</td>\n",
       "      <td>0.926182</td>\n",
       "      <td>0.409069</td>\n",
       "      <td>-0.884879</td>\n",
       "      <td>-0.232139</td>\n",
       "      <td>-0.625273</td>\n",
       "      <td>0.641618</td>\n",
       "      <td>0.690887</td>\n",
       "      <td>0.495006</td>\n",
       "      <td>83.0</td>\n",
       "    </tr>\n",
       "  </tbody>\n",
       "</table>\n",
       "<p>3 rows × 100 columns</p>\n",
       "</div>"
      ],
      "text/plain": [
       "   order_number  order_dow  order_hour_of_day  days_since_prior_order  \\\n",
       "0            11          4                 12                    15.0   \n",
       "1            11          4                 12                    15.0   \n",
       "2            11          4                 12                    15.0   \n",
       "\n",
       "   ord_count  part_ord  ave_add_to_cart_order  max_add_to_cart_order  \\\n",
       "0          1  0.090909                    1.0                      1   \n",
       "1          1  0.090909                    2.0                      2   \n",
       "2          1  0.090909                    3.0                      3   \n",
       "\n",
       "   min_add_to_cart_order  tot_prod_count_user              ...                \\\n",
       "0                      1                   67              ...                 \n",
       "1                      2                   67              ...                 \n",
       "2                      3                   67              ...                 \n",
       "\n",
       "         23        24        25        26        27        28        29  \\\n",
       "0  1.177001  0.420436 -0.241807 -0.373233 -0.741965 -0.190637 -0.434844   \n",
       "1  0.544554  0.269158  0.256089  0.578440 -0.883728 -0.902744 -0.467266   \n",
       "2  0.389326  0.926182  0.409069 -0.884879 -0.232139 -0.625273  0.641618   \n",
       "\n",
       "         30        31  days_since_prior_order_comsum  \n",
       "0  0.955453  0.614790                           83.0  \n",
       "1 -0.266802 -0.032882                           83.0  \n",
       "2  0.690887  0.495006                           83.0  \n",
       "\n",
       "[3 rows x 100 columns]"
      ]
     },
     "execution_count": 20,
     "metadata": {},
     "output_type": "execute_result"
    }
   ],
   "source": [
    "X_train[:3]"
   ]
  },
  {
   "cell_type": "code",
   "execution_count": 34,
   "metadata": {},
   "outputs": [
    {
     "ename": "OSError",
     "evalue": "[Errno 28] No space left on device",
     "output_type": "error",
     "traceback": [
      "\u001b[0;31m---------------------------------------------------------------------------\u001b[0m",
      "\u001b[0;31mOSError\u001b[0m                                   Traceback (most recent call last)",
      "\u001b[0;32m/home/fattahov.ao/anaconda3/lib/python3.6/site-packages/pandas/io/formats/format.py\u001b[0m in \u001b[0;36msave\u001b[0;34m(self)\u001b[0m\n\u001b[1;32m   1591\u001b[0m \u001b[0;34m\u001b[0m\u001b[0m\n\u001b[0;32m-> 1592\u001b[0;31m             \u001b[0mself\u001b[0m\u001b[0;34m.\u001b[0m\u001b[0m_save\u001b[0m\u001b[0;34m(\u001b[0m\u001b[0;34m)\u001b[0m\u001b[0;34m\u001b[0m\u001b[0m\n\u001b[0m\u001b[1;32m   1593\u001b[0m \u001b[0;34m\u001b[0m\u001b[0m\n",
      "\u001b[0;32m/home/fattahov.ao/anaconda3/lib/python3.6/site-packages/pandas/io/formats/format.py\u001b[0m in \u001b[0;36m_save\u001b[0;34m(self)\u001b[0m\n\u001b[1;32m   1692\u001b[0m \u001b[0;34m\u001b[0m\u001b[0m\n\u001b[0;32m-> 1693\u001b[0;31m             \u001b[0mself\u001b[0m\u001b[0;34m.\u001b[0m\u001b[0m_save_chunk\u001b[0m\u001b[0;34m(\u001b[0m\u001b[0mstart_i\u001b[0m\u001b[0;34m,\u001b[0m \u001b[0mend_i\u001b[0m\u001b[0;34m)\u001b[0m\u001b[0;34m\u001b[0m\u001b[0m\n\u001b[0m\u001b[1;32m   1694\u001b[0m \u001b[0;34m\u001b[0m\u001b[0m\n",
      "\u001b[0;32m/home/fattahov.ao/anaconda3/lib/python3.6/site-packages/pandas/io/formats/format.py\u001b[0m in \u001b[0;36m_save_chunk\u001b[0;34m(self, start_i, end_i)\u001b[0m\n\u001b[1;32m   1718\u001b[0m \u001b[0;34m\u001b[0m\u001b[0m\n\u001b[0;32m-> 1719\u001b[0;31m         \u001b[0mlib\u001b[0m\u001b[0;34m.\u001b[0m\u001b[0mwrite_csv_rows\u001b[0m\u001b[0;34m(\u001b[0m\u001b[0mself\u001b[0m\u001b[0;34m.\u001b[0m\u001b[0mdata\u001b[0m\u001b[0;34m,\u001b[0m \u001b[0mix\u001b[0m\u001b[0;34m,\u001b[0m \u001b[0mself\u001b[0m\u001b[0;34m.\u001b[0m\u001b[0mnlevels\u001b[0m\u001b[0;34m,\u001b[0m \u001b[0mself\u001b[0m\u001b[0;34m.\u001b[0m\u001b[0mcols\u001b[0m\u001b[0;34m,\u001b[0m \u001b[0mself\u001b[0m\u001b[0;34m.\u001b[0m\u001b[0mwriter\u001b[0m\u001b[0;34m)\u001b[0m\u001b[0;34m\u001b[0m\u001b[0m\n\u001b[0m\u001b[1;32m   1720\u001b[0m \u001b[0;34m\u001b[0m\u001b[0m\n",
      "\u001b[0;32mpandas/_libs/lib.pyx\u001b[0m in \u001b[0;36mpandas._libs.lib.write_csv_rows (pandas/_libs/lib.c:20130)\u001b[0;34m()\u001b[0m\n",
      "\u001b[0;31mOSError\u001b[0m: [Errno 28] No space left on device",
      "\nDuring handling of the above exception, another exception occurred:\n",
      "\u001b[0;31mOSError\u001b[0m                                   Traceback (most recent call last)",
      "\u001b[0;31mOSError\u001b[0m: [Errno 28] No space left on device",
      "\nDuring handling of the above exception, another exception occurred:\n",
      "\u001b[0;31mOSError\u001b[0m                                   Traceback (most recent call last)",
      "\u001b[0;32m<ipython-input-34-8ed0bfe6623b>\u001b[0m in \u001b[0;36m<module>\u001b[0;34m()\u001b[0m\n\u001b[0;32m----> 1\u001b[0;31m \u001b[0mX_train\u001b[0m\u001b[0;34m.\u001b[0m\u001b[0mto_csv\u001b[0m\u001b[0;34m(\u001b[0m\u001b[0;34m'te.csv'\u001b[0m\u001b[0;34m,\u001b[0m \u001b[0mindex\u001b[0m\u001b[0;34m=\u001b[0m\u001b[0;32mFalse\u001b[0m\u001b[0;34m)\u001b[0m\u001b[0;34m\u001b[0m\u001b[0m\n\u001b[0m",
      "\u001b[0;32m/home/fattahov.ao/anaconda3/lib/python3.6/site-packages/pandas/core/frame.py\u001b[0m in \u001b[0;36mto_csv\u001b[0;34m(self, path_or_buf, sep, na_rep, float_format, columns, header, index, index_label, mode, encoding, compression, quoting, quotechar, line_terminator, chunksize, tupleize_cols, date_format, doublequote, escapechar, decimal)\u001b[0m\n\u001b[1;32m   1401\u001b[0m                                      \u001b[0mdoublequote\u001b[0m\u001b[0;34m=\u001b[0m\u001b[0mdoublequote\u001b[0m\u001b[0;34m,\u001b[0m\u001b[0;34m\u001b[0m\u001b[0m\n\u001b[1;32m   1402\u001b[0m                                      escapechar=escapechar, decimal=decimal)\n\u001b[0;32m-> 1403\u001b[0;31m         \u001b[0mformatter\u001b[0m\u001b[0;34m.\u001b[0m\u001b[0msave\u001b[0m\u001b[0;34m(\u001b[0m\u001b[0;34m)\u001b[0m\u001b[0;34m\u001b[0m\u001b[0m\n\u001b[0m\u001b[1;32m   1404\u001b[0m \u001b[0;34m\u001b[0m\u001b[0m\n\u001b[1;32m   1405\u001b[0m         \u001b[0;32mif\u001b[0m \u001b[0mpath_or_buf\u001b[0m \u001b[0;32mis\u001b[0m \u001b[0;32mNone\u001b[0m\u001b[0;34m:\u001b[0m\u001b[0;34m\u001b[0m\u001b[0m\n",
      "\u001b[0;32m/home/fattahov.ao/anaconda3/lib/python3.6/site-packages/pandas/io/formats/format.py\u001b[0m in \u001b[0;36msave\u001b[0;34m(self)\u001b[0m\n\u001b[1;32m   1594\u001b[0m         \u001b[0;32mfinally\u001b[0m\u001b[0;34m:\u001b[0m\u001b[0;34m\u001b[0m\u001b[0m\n\u001b[1;32m   1595\u001b[0m             \u001b[0;32mif\u001b[0m \u001b[0mclose\u001b[0m\u001b[0;34m:\u001b[0m\u001b[0;34m\u001b[0m\u001b[0m\n\u001b[0;32m-> 1596\u001b[0;31m                 \u001b[0mf\u001b[0m\u001b[0;34m.\u001b[0m\u001b[0mclose\u001b[0m\u001b[0;34m(\u001b[0m\u001b[0;34m)\u001b[0m\u001b[0;34m\u001b[0m\u001b[0m\n\u001b[0m\u001b[1;32m   1597\u001b[0m \u001b[0;34m\u001b[0m\u001b[0m\n\u001b[1;32m   1598\u001b[0m     \u001b[0;32mdef\u001b[0m \u001b[0m_save_header\u001b[0m\u001b[0;34m(\u001b[0m\u001b[0mself\u001b[0m\u001b[0;34m)\u001b[0m\u001b[0;34m:\u001b[0m\u001b[0;34m\u001b[0m\u001b[0m\n",
      "\u001b[0;31mOSError\u001b[0m: [Errno 28] No space left on device"
     ]
    }
   ],
   "source": [
    "X_train.to_csv('te.csv', index=False)"
   ]
  },
  {
   "cell_type": "code",
   "execution_count": null,
   "metadata": {
    "collapsed": true
   },
   "outputs": [],
   "source": [
    "1"
   ]
  },
  {
   "cell_type": "code",
   "execution_count": null,
   "metadata": {
    "collapsed": true
   },
   "outputs": [],
   "source": [
    "X_train['product_id'] = 0"
   ]
  },
  {
   "cell_type": "code",
   "execution_count": 23,
   "metadata": {},
   "outputs": [
    {
     "name": "stderr",
     "output_type": "stream",
     "text": [
      "/home/fattahov.ao/anaconda3/lib/python3.6/site-packages/ipykernel_launcher.py:1: DeprecationWarning: \n",
      ".ix is deprecated. Please use\n",
      ".loc for label based indexing or\n",
      ".iloc for positional indexing\n",
      "\n",
      "See the documentation here:\n",
      "http://pandas.pydata.org/pandas-docs/stable/indexing.html#ix-indexer-is-deprecated\n",
      "  \"\"\"Entry point for launching an IPython kernel.\n"
     ]
    }
   ],
   "source": [
    "test_pred = lgb.predict_proba(X_train.ix[:, :])[:, 1]\n"
   ]
  },
  {
   "cell_type": "code",
   "execution_count": 24,
   "metadata": {},
   "outputs": [
    {
     "data": {
      "text/plain": [
       "array([ 0.02670364,  0.02256627,  0.02197021, ...,  0.11218608,\n",
       "        0.16823318,  0.15425495])"
      ]
     },
     "execution_count": 24,
     "metadata": {},
     "output_type": "execute_result"
    }
   ],
   "source": [
    "test_pred"
   ]
  },
  {
   "cell_type": "code",
   "execution_count": 25,
   "metadata": {
    "collapsed": true
   },
   "outputs": [],
   "source": [
    "X_train['pred'] = test_pred"
   ]
  },
  {
   "cell_type": "code",
   "execution_count": 26,
   "metadata": {
    "collapsed": true
   },
   "outputs": [],
   "source": [
    "tmp = X_train[['pred']]\n",
    "tmp.to_csv('m.csv', index=False)"
   ]
  },
  {
   "cell_type": "code",
   "execution_count": 21,
   "metadata": {},
   "outputs": [
    {
     "data": {
      "text/plain": [
       "0.94550065364403602"
      ]
     },
     "execution_count": 21,
     "metadata": {},
     "output_type": "execute_result"
    }
   ],
   "source": [
    "test_pred.max()"
   ]
  },
  {
   "cell_type": "code",
   "execution_count": 190,
   "metadata": {},
   "outputs": [
    {
     "name": "stdout",
     "output_type": "stream",
     "text": [
      "0.996746307596\n"
     ]
    }
   ],
   "source": [
    "import scipy.stats as st\n",
    "print(st.spearmanr(t1.pred, t4.pred)[0])"
   ]
  },
  {
   "cell_type": "code",
   "execution_count": 41,
   "metadata": {},
   "outputs": [
    {
     "data": {
      "text/plain": [
       "(4833292, 42)"
      ]
     },
     "execution_count": 41,
     "metadata": {},
     "output_type": "execute_result"
    }
   ],
   "source": [
    "X_train.shape"
   ]
  },
  {
   "cell_type": "code",
   "execution_count": 22,
   "metadata": {
    "collapsed": true
   },
   "outputs": [],
   "source": [
    "tmp = pd.DataFrame(X_train.sort_values(['order_id','pred']).groupby('order_id')['pred'].aggregate(lambda x: tuple(x)))"
   ]
  },
  {
   "cell_type": "code",
   "execution_count": 23,
   "metadata": {},
   "outputs": [
    {
     "name": "stdout",
     "output_type": "stream",
     "text": [
      "2186.464405\n"
     ]
    }
   ],
   "source": [
    "t_start = time.clock()\n",
    "res_cnt = tmp['pred'][:].apply(lambda x: print_best_prediction(x))\n",
    "t_end = time.clock()\n",
    "print(t_end-t_start)\n",
    "\n",
    "res = pd.DataFrame(X_train.sort_values(['order_id','pred']).groupby('order_id')['product_id'].aggregate(lambda x: tuple(x)))\n",
    "res = pd.concat([res, res_cnt], axis=1)"
   ]
  },
  {
   "cell_type": "code",
   "execution_count": 24,
   "metadata": {},
   "outputs": [
    {
     "data": {
      "text/plain": [
       "1"
      ]
     },
     "execution_count": 24,
     "metadata": {},
     "output_type": "execute_result"
    }
   ],
   "source": [
    "1"
   ]
  },
  {
   "cell_type": "code",
   "execution_count": 25,
   "metadata": {},
   "outputs": [
    {
     "data": {
      "text/plain": [
       "1"
      ]
     },
     "execution_count": 25,
     "metadata": {},
     "output_type": "execute_result"
    }
   ],
   "source": [
    "1"
   ]
  },
  {
   "cell_type": "code",
   "execution_count": 26,
   "metadata": {
    "collapsed": true
   },
   "outputs": [],
   "source": [
    "val = []\n",
    "for product_id, pred in res[:].values:\n",
    "    val += [product_id[-pred:]]"
   ]
  },
  {
   "cell_type": "code",
   "execution_count": 27,
   "metadata": {
    "collapsed": true
   },
   "outputs": [],
   "source": [
    "res['product_id'] = val\n",
    "res['order_id'] = res.index"
   ]
  },
  {
   "cell_type": "code",
   "execution_count": 28,
   "metadata": {
    "collapsed": true
   },
   "outputs": [],
   "source": [
    "del res['pred']"
   ]
  },
  {
   "cell_type": "code",
   "execution_count": 99,
   "metadata": {},
   "outputs": [
    {
     "data": {
      "text/plain": [
       "75000"
      ]
     },
     "execution_count": 99,
     "metadata": {},
     "output_type": "execute_result"
    }
   ],
   "source": [
    "len(res)"
   ]
  },
  {
   "cell_type": "code",
   "execution_count": 155,
   "metadata": {
    "collapsed": true
   },
   "outputs": [],
   "source": [
    "res_ = res"
   ]
  },
  {
   "cell_type": "code",
   "execution_count": 61,
   "metadata": {
    "collapsed": true
   },
   "outputs": [],
   "source": [
    "res = res_"
   ]
  },
  {
   "cell_type": "code",
   "execution_count": 29,
   "metadata": {
    "collapsed": true
   },
   "outputs": [],
   "source": [
    "res = pd.merge(sample_submission, res, on=['order_id'], how='left')\n",
    "res.index = sample_submission.index\n",
    "res.columns = ['order_id','products']\n",
    "res = res.fillna('')"
   ]
  },
  {
   "cell_type": "code",
   "execution_count": 45,
   "metadata": {},
   "outputs": [
    {
     "data": {
      "text/plain": [
       "75000"
      ]
     },
     "execution_count": 45,
     "metadata": {},
     "output_type": "execute_result"
    }
   ],
   "source": [
    "len(res)"
   ]
  },
  {
   "cell_type": "code",
   "execution_count": 30,
   "metadata": {
    "collapsed": true
   },
   "outputs": [],
   "source": [
    "tmp = []\n",
    "for i in res['products']:\n",
    "    if i == '':\n",
    "        tmp += [[]]\n",
    "    else:\n",
    "        tmp += [i]\n",
    "res['products'] = tmp"
   ]
  },
  {
   "cell_type": "code",
   "execution_count": 31,
   "metadata": {
    "collapsed": true
   },
   "outputs": [],
   "source": [
    "tmp = []\n",
    "for i in res['products']:\n",
    "    if i == '':\n",
    "        tmp += ['']\n",
    "    else:\n",
    "        st = ''\n",
    "        for j in i:\n",
    "            st += ' '+str(j)\n",
    "        tmp += [st]\n",
    "res['products'] = tmp"
   ]
  },
  {
   "cell_type": "code",
   "execution_count": 32,
   "metadata": {
    "collapsed": true
   },
   "outputs": [],
   "source": [
    "res.to_csv('blend_045.csv', index=False)"
   ]
  },
  {
   "cell_type": "code",
   "execution_count": 44,
   "metadata": {},
   "outputs": [
    {
     "data": {
      "text/plain": [
       "16.590367054784224"
      ]
     },
     "execution_count": 44,
     "metadata": {},
     "output_type": "execute_result"
    }
   ],
   "source": [
    "orders.groupby('user_id')['order_id'].count().mean()"
   ]
  },
  {
   "cell_type": "code",
   "execution_count": 33,
   "metadata": {},
   "outputs": [
    {
     "data": {
      "text/html": [
       "<div>\n",
       "<style>\n",
       "    .dataframe thead tr:only-child th {\n",
       "        text-align: right;\n",
       "    }\n",
       "\n",
       "    .dataframe thead th {\n",
       "        text-align: left;\n",
       "    }\n",
       "\n",
       "    .dataframe tbody tr th {\n",
       "        vertical-align: top;\n",
       "    }\n",
       "</style>\n",
       "<table border=\"1\" class=\"dataframe\">\n",
       "  <thead>\n",
       "    <tr style=\"text-align: right;\">\n",
       "      <th></th>\n",
       "      <th>order_id</th>\n",
       "      <th>products</th>\n",
       "    </tr>\n",
       "  </thead>\n",
       "  <tbody>\n",
       "    <tr>\n",
       "      <th>0</th>\n",
       "      <td>17</td>\n",
       "      <td>38777 21709 47766 21463 13107</td>\n",
       "    </tr>\n",
       "    <tr>\n",
       "      <th>1</th>\n",
       "      <td>34</td>\n",
       "      <td>44632 13176 39180 44663 2596 47792 43504 2113...</td>\n",
       "    </tr>\n",
       "    <tr>\n",
       "      <th>2</th>\n",
       "      <td>137</td>\n",
       "      <td>2326 5134 25890 41787 38689 23794 24852</td>\n",
       "    </tr>\n",
       "    <tr>\n",
       "      <th>3</th>\n",
       "      <td>182</td>\n",
       "      <td>32109 41149 47209 11520 33000 47672 13629 547...</td>\n",
       "    </tr>\n",
       "    <tr>\n",
       "      <th>4</th>\n",
       "      <td>257</td>\n",
       "      <td>28476 21137 24838 45013 30233 29837 39475 279...</td>\n",
       "    </tr>\n",
       "    <tr>\n",
       "      <th>5</th>\n",
       "      <td>313</td>\n",
       "      <td>25890 28535 30391 13198 46906 21903 12779 45007</td>\n",
       "    </tr>\n",
       "    <tr>\n",
       "      <th>6</th>\n",
       "      <td>353</td>\n",
       "      <td>33000 21137 40688 35561</td>\n",
       "    </tr>\n",
       "    <tr>\n",
       "      <th>7</th>\n",
       "      <td>386</td>\n",
       "      <td>6046 2326 35221 17652 37935 25513 8174 28985 ...</td>\n",
       "    </tr>\n",
       "    <tr>\n",
       "      <th>8</th>\n",
       "      <td>414</td>\n",
       "      <td>36865 35221 31215 21376 19006 7539 44292 4472...</td>\n",
       "    </tr>\n",
       "    <tr>\n",
       "      <th>9</th>\n",
       "      <td>418</td>\n",
       "      <td>12036 5262 1503 38694 41950 13702 30489 40268...</td>\n",
       "    </tr>\n",
       "    <tr>\n",
       "      <th>10</th>\n",
       "      <td>437</td>\n",
       "      <td>25936 22825 30233 16797 45106 1463 10132 365 ...</td>\n",
       "    </tr>\n",
       "    <tr>\n",
       "      <th>11</th>\n",
       "      <td>452</td>\n",
       "      <td>2923 18171 4656 23644 43504 48395 25371 10036...</td>\n",
       "    </tr>\n",
       "    <tr>\n",
       "      <th>12</th>\n",
       "      <td>474</td>\n",
       "      <td>23356 47865 26586 31268 5098 20022 15464 354 ...</td>\n",
       "    </tr>\n",
       "    <tr>\n",
       "      <th>13</th>\n",
       "      <td>492</td>\n",
       "      <td>45603 29453 27323 8424 24952 24933 33198 2449...</td>\n",
       "    </tr>\n",
       "    <tr>\n",
       "      <th>14</th>\n",
       "      <td>497</td>\n",
       "      <td>39947 27275 1831 31964</td>\n",
       "    </tr>\n",
       "    <tr>\n",
       "      <th>15</th>\n",
       "      <td>513</td>\n",
       "      <td>34995 49614 16023 49328 17820</td>\n",
       "    </tr>\n",
       "    <tr>\n",
       "      <th>16</th>\n",
       "      <td>517</td>\n",
       "      <td>39619 38293 27355 9071 28946 8518 21938 32734...</td>\n",
       "    </tr>\n",
       "    <tr>\n",
       "      <th>17</th>\n",
       "      <td>604</td>\n",
       "      <td>16797 13176 19660 24852 12099</td>\n",
       "    </tr>\n",
       "    <tr>\n",
       "      <th>18</th>\n",
       "      <td>680</td>\n",
       "      <td>7693 27275 30353 47977 30441 14836 7743</td>\n",
       "    </tr>\n",
       "    <tr>\n",
       "      <th>19</th>\n",
       "      <td>758</td>\n",
       "      <td>651 19660</td>\n",
       "    </tr>\n",
       "    <tr>\n",
       "      <th>20</th>\n",
       "      <td>759</td>\n",
       "      <td>24398 24427 449 44697 28836 47626 26209 46654...</td>\n",
       "    </tr>\n",
       "    <tr>\n",
       "      <th>21</th>\n",
       "      <td>887</td>\n",
       "      <td>12144 28993 21137 22108 39275 49683 18615 416...</td>\n",
       "    </tr>\n",
       "    <tr>\n",
       "      <th>22</th>\n",
       "      <td>1161</td>\n",
       "      <td>43772 26209 44142 22935 47626</td>\n",
       "    </tr>\n",
       "    <tr>\n",
       "      <th>23</th>\n",
       "      <td>1195</td>\n",
       "      <td>22275 2707 13870</td>\n",
       "    </tr>\n",
       "    <tr>\n",
       "      <th>24</th>\n",
       "      <td>1304</td>\n",
       "      <td>26209 27104 45066 42265 17122 42585 23909 142...</td>\n",
       "    </tr>\n",
       "    <tr>\n",
       "      <th>25</th>\n",
       "      <td>1408</td>\n",
       "      <td>2091 47626 31915 47209 1158 43352 16428 10163...</td>\n",
       "    </tr>\n",
       "    <tr>\n",
       "      <th>26</th>\n",
       "      <td>1513</td>\n",
       "      <td>10070 16556 26250 5385 29373</td>\n",
       "    </tr>\n",
       "    <tr>\n",
       "      <th>27</th>\n",
       "      <td>1564</td>\n",
       "      <td>25169</td>\n",
       "    </tr>\n",
       "    <tr>\n",
       "      <th>28</th>\n",
       "      <td>1727</td>\n",
       "      <td>28710 40310 12218</td>\n",
       "    </tr>\n",
       "    <tr>\n",
       "      <th>29</th>\n",
       "      <td>1789</td>\n",
       "      <td>42272 2556 39512 10439 1405 42746 20468 17409...</td>\n",
       "    </tr>\n",
       "    <tr>\n",
       "      <th>...</th>\n",
       "      <td>...</td>\n",
       "      <td>...</td>\n",
       "    </tr>\n",
       "    <tr>\n",
       "      <th>74970</th>\n",
       "      <td>3419522</td>\n",
       "      <td>37436 1700 47759 40910 28199</td>\n",
       "    </tr>\n",
       "    <tr>\n",
       "      <th>74971</th>\n",
       "      <td>3419568</td>\n",
       "      <td>11266 47402 31651 6184 196</td>\n",
       "    </tr>\n",
       "    <tr>\n",
       "      <th>74972</th>\n",
       "      <td>3419574</td>\n",
       "      <td>26038 49235 35527</td>\n",
       "    </tr>\n",
       "    <tr>\n",
       "      <th>74973</th>\n",
       "      <td>3419600</td>\n",
       "      <td>30135 29103 6287 2086 13996</td>\n",
       "    </tr>\n",
       "    <tr>\n",
       "      <th>74974</th>\n",
       "      <td>3419623</td>\n",
       "      <td>49236 4461</td>\n",
       "    </tr>\n",
       "    <tr>\n",
       "      <th>74975</th>\n",
       "      <td>3419726</td>\n",
       "      <td>20995 26165 49412 22935 38944 13176 19057 439...</td>\n",
       "    </tr>\n",
       "    <tr>\n",
       "      <th>74976</th>\n",
       "      <td>3419729</td>\n",
       "      <td>34915 49683 13884 40164 21137 39581</td>\n",
       "    </tr>\n",
       "    <tr>\n",
       "      <th>74977</th>\n",
       "      <td>3419732</td>\n",
       "      <td>8518 12624 19057 33787 28769 22993 39275 2662...</td>\n",
       "    </tr>\n",
       "    <tr>\n",
       "      <th>74978</th>\n",
       "      <td>3419743</td>\n",
       "      <td>37710 38928 43154 6184 13176 45051</td>\n",
       "    </tr>\n",
       "    <tr>\n",
       "      <th>74979</th>\n",
       "      <td>3419832</td>\n",
       "      <td>21872 49236 22281 38689 38694 27845 5450 2660...</td>\n",
       "    </tr>\n",
       "    <tr>\n",
       "      <th>74980</th>\n",
       "      <td>3419878</td>\n",
       "      <td>4086 26209 40706 16398 38480 38456 5212 23783...</td>\n",
       "    </tr>\n",
       "    <tr>\n",
       "      <th>74981</th>\n",
       "      <td>3419910</td>\n",
       "      <td>37927 5385 27360 27966</td>\n",
       "    </tr>\n",
       "    <tr>\n",
       "      <th>74982</th>\n",
       "      <td>3419934</td>\n",
       "      <td>33768 12889 19173 12614 21497 25146 26209 476...</td>\n",
       "    </tr>\n",
       "    <tr>\n",
       "      <th>74983</th>\n",
       "      <td>3420147</td>\n",
       "      <td>25771 5025 19030 15290</td>\n",
       "    </tr>\n",
       "    <tr>\n",
       "      <th>74984</th>\n",
       "      <td>3420168</td>\n",
       "      <td>12341 44359 21137 18441 18370 38383 35921 148...</td>\n",
       "    </tr>\n",
       "    <tr>\n",
       "      <th>74985</th>\n",
       "      <td>3420237</td>\n",
       "      <td>8424 20900 32433 19354 44949 8193 36377 27423...</td>\n",
       "    </tr>\n",
       "    <tr>\n",
       "      <th>74986</th>\n",
       "      <td>3420327</td>\n",
       "      <td>10673 31502 18362 34234 5077 36988 1940</td>\n",
       "    </tr>\n",
       "    <tr>\n",
       "      <th>74987</th>\n",
       "      <td>3420360</td>\n",
       "      <td>12238 27695 47626 8859 8929 18352 11481 9430 ...</td>\n",
       "    </tr>\n",
       "    <tr>\n",
       "      <th>74988</th>\n",
       "      <td>3420390</td>\n",
       "      <td>8539 31717 19508 30830 16254 7905 7308 47209 ...</td>\n",
       "    </tr>\n",
       "    <tr>\n",
       "      <th>74989</th>\n",
       "      <td>3420443</td>\n",
       "      <td>45007 27966 21903 4920 39558 21982 21543 8518...</td>\n",
       "    </tr>\n",
       "    <tr>\n",
       "      <th>74990</th>\n",
       "      <td>3420449</td>\n",
       "      <td>21903 37687 4920</td>\n",
       "    </tr>\n",
       "    <tr>\n",
       "      <th>74991</th>\n",
       "      <td>3420544</td>\n",
       "      <td>13083 36431 40332 34063 3934 34027 46284 2973...</td>\n",
       "    </tr>\n",
       "    <tr>\n",
       "      <th>74992</th>\n",
       "      <td>3420569</td>\n",
       "      <td>44359 21137 13176 49683 25890 45948 5450 1675...</td>\n",
       "    </tr>\n",
       "    <tr>\n",
       "      <th>74993</th>\n",
       "      <td>3420651</td>\n",
       "      <td>49175 42701 13870 16797 22035 39928</td>\n",
       "    </tr>\n",
       "    <tr>\n",
       "      <th>74994</th>\n",
       "      <td>3420702</td>\n",
       "      <td>5077 10305 5803 41885 24852 9018</td>\n",
       "    </tr>\n",
       "    <tr>\n",
       "      <th>74995</th>\n",
       "      <td>3420740</td>\n",
       "      <td>12016 47621 38772 21777 18362 28476 48070 399...</td>\n",
       "    </tr>\n",
       "    <tr>\n",
       "      <th>74996</th>\n",
       "      <td>3420877</td>\n",
       "      <td>17652 8193 23765 10912 21903 36865 31766 4245...</td>\n",
       "    </tr>\n",
       "    <tr>\n",
       "      <th>74997</th>\n",
       "      <td>3420888</td>\n",
       "      <td>20542 22935 7963 2361 35951 10880 44632</td>\n",
       "    </tr>\n",
       "    <tr>\n",
       "      <th>74998</th>\n",
       "      <td>3420989</td>\n",
       "      <td>35951 5134 45866 21616 47229 43210 13517 4245...</td>\n",
       "    </tr>\n",
       "    <tr>\n",
       "      <th>74999</th>\n",
       "      <td>3421054</td>\n",
       "      <td>38448 24852 18426 13375 11123 31231</td>\n",
       "    </tr>\n",
       "  </tbody>\n",
       "</table>\n",
       "<p>75000 rows × 2 columns</p>\n",
       "</div>"
      ],
      "text/plain": [
       "       order_id                                           products\n",
       "0            17                      38777 21709 47766 21463 13107\n",
       "1            34   44632 13176 39180 44663 2596 47792 43504 2113...\n",
       "2           137            2326 5134 25890 41787 38689 23794 24852\n",
       "3           182   32109 41149 47209 11520 33000 47672 13629 547...\n",
       "4           257   28476 21137 24838 45013 30233 29837 39475 279...\n",
       "5           313    25890 28535 30391 13198 46906 21903 12779 45007\n",
       "6           353                            33000 21137 40688 35561\n",
       "7           386   6046 2326 35221 17652 37935 25513 8174 28985 ...\n",
       "8           414   36865 35221 31215 21376 19006 7539 44292 4472...\n",
       "9           418   12036 5262 1503 38694 41950 13702 30489 40268...\n",
       "10          437   25936 22825 30233 16797 45106 1463 10132 365 ...\n",
       "11          452   2923 18171 4656 23644 43504 48395 25371 10036...\n",
       "12          474   23356 47865 26586 31268 5098 20022 15464 354 ...\n",
       "13          492   45603 29453 27323 8424 24952 24933 33198 2449...\n",
       "14          497                             39947 27275 1831 31964\n",
       "15          513                      34995 49614 16023 49328 17820\n",
       "16          517   39619 38293 27355 9071 28946 8518 21938 32734...\n",
       "17          604                      16797 13176 19660 24852 12099\n",
       "18          680            7693 27275 30353 47977 30441 14836 7743\n",
       "19          758                                          651 19660\n",
       "20          759   24398 24427 449 44697 28836 47626 26209 46654...\n",
       "21          887   12144 28993 21137 22108 39275 49683 18615 416...\n",
       "22         1161                      43772 26209 44142 22935 47626\n",
       "23         1195                                   22275 2707 13870\n",
       "24         1304   26209 27104 45066 42265 17122 42585 23909 142...\n",
       "25         1408   2091 47626 31915 47209 1158 43352 16428 10163...\n",
       "26         1513                       10070 16556 26250 5385 29373\n",
       "27         1564                                              25169\n",
       "28         1727                                  28710 40310 12218\n",
       "29         1789   42272 2556 39512 10439 1405 42746 20468 17409...\n",
       "...         ...                                                ...\n",
       "74970   3419522                       37436 1700 47759 40910 28199\n",
       "74971   3419568                         11266 47402 31651 6184 196\n",
       "74972   3419574                                  26038 49235 35527\n",
       "74973   3419600                        30135 29103 6287 2086 13996\n",
       "74974   3419623                                         49236 4461\n",
       "74975   3419726   20995 26165 49412 22935 38944 13176 19057 439...\n",
       "74976   3419729                34915 49683 13884 40164 21137 39581\n",
       "74977   3419732   8518 12624 19057 33787 28769 22993 39275 2662...\n",
       "74978   3419743                 37710 38928 43154 6184 13176 45051\n",
       "74979   3419832   21872 49236 22281 38689 38694 27845 5450 2660...\n",
       "74980   3419878   4086 26209 40706 16398 38480 38456 5212 23783...\n",
       "74981   3419910                             37927 5385 27360 27966\n",
       "74982   3419934   33768 12889 19173 12614 21497 25146 26209 476...\n",
       "74983   3420147                             25771 5025 19030 15290\n",
       "74984   3420168   12341 44359 21137 18441 18370 38383 35921 148...\n",
       "74985   3420237   8424 20900 32433 19354 44949 8193 36377 27423...\n",
       "74986   3420327            10673 31502 18362 34234 5077 36988 1940\n",
       "74987   3420360   12238 27695 47626 8859 8929 18352 11481 9430 ...\n",
       "74988   3420390   8539 31717 19508 30830 16254 7905 7308 47209 ...\n",
       "74989   3420443   45007 27966 21903 4920 39558 21982 21543 8518...\n",
       "74990   3420449                                   21903 37687 4920\n",
       "74991   3420544   13083 36431 40332 34063 3934 34027 46284 2973...\n",
       "74992   3420569   44359 21137 13176 49683 25890 45948 5450 1675...\n",
       "74993   3420651                49175 42701 13870 16797 22035 39928\n",
       "74994   3420702                   5077 10305 5803 41885 24852 9018\n",
       "74995   3420740   12016 47621 38772 21777 18362 28476 48070 399...\n",
       "74996   3420877   17652 8193 23765 10912 21903 36865 31766 4245...\n",
       "74997   3420888            20542 22935 7963 2361 35951 10880 44632\n",
       "74998   3420989   35951 5134 45866 21616 47229 43210 13517 4245...\n",
       "74999   3421054                38448 24852 18426 13375 11123 31231\n",
       "\n",
       "[75000 rows x 2 columns]"
      ]
     },
     "execution_count": 33,
     "metadata": {},
     "output_type": "execute_result"
    }
   ],
   "source": [
    "res"
   ]
  }
 ],
 "metadata": {
  "kernelspec": {
   "display_name": "Python 3",
   "language": "python",
   "name": "python3"
  },
  "language_info": {
   "codemirror_mode": {
    "name": "ipython",
    "version": 3
   },
   "file_extension": ".py",
   "mimetype": "text/x-python",
   "name": "python",
   "nbconvert_exporter": "python",
   "pygments_lexer": "ipython3",
   "version": "3.6.1"
  }
 },
 "nbformat": 4,
 "nbformat_minor": 2
}
