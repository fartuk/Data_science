{
 "cells": [
  {
   "cell_type": "code",
   "execution_count": 1,
   "metadata": {},
   "outputs": [
    {
     "name": "stderr",
     "output_type": "stream",
     "text": [
      "/home/fattahov.ao/anaconda3/lib/python3.6/site-packages/sklearn/cross_validation.py:44: DeprecationWarning: This module was deprecated in version 0.18 in favor of the model_selection module into which all the refactored classes and functions are moved. Also note that the interface of the new CV iterators are different from that of this module. This module will be removed in 0.20.\n",
      "  \"This module will be removed in 0.20.\", DeprecationWarning)\n"
     ]
    },
    {
     "name": "stdout",
     "output_type": "stream",
     "text": [
      "Populating the interactive namespace from numpy and matplotlib\n"
     ]
    }
   ],
   "source": [
    "import numpy as np\n",
    "import pandas as pd\n",
    "from sklearn import ensemble\n",
    "from sklearn.linear_model import LinearRegression\n",
    "\n",
    "from sklearn.cross_validation import cross_val_score\n",
    "from sklearn.feature_extraction.text import HashingVectorizer\n",
    "from sklearn import manifold, decomposition, linear_model, ensemble, neighbors, cross_validation\n",
    "import sklearn\n",
    "from sklearn import pipeline, preprocessing, feature_extraction\n",
    "from sklearn.metrics import f1_score\n",
    "import xgboost as xgb\n",
    "from sklearn.metrics import mean_absolute_error\n",
    "import time\n",
    "import datetime\n",
    "from sklearn.model_selection import StratifiedKFold\n",
    "from sklearn.metrics import log_loss, auc, roc_curve\n",
    "from sklearn.feature_extraction.text import TfidfVectorizer, CountVectorizer, HashingVectorizer\n",
    "from scipy import sparse\n",
    "from sklearn.neighbors import KNeighborsClassifier\n",
    "from sklearn.ensemble import RandomForestClassifier\n",
    "import lightgbm as lgbm\n",
    "import scipy\n",
    "from sklearn.preprocessing import StandardScaler\n",
    "\n",
    "%matplotlib inline\n",
    "%pylab inline"
   ]
  },
  {
   "cell_type": "code",
   "execution_count": 8,
   "metadata": {},
   "outputs": [],
   "source": [
    "s = 'akn.002.014.left.avi  akn.020.013.left.avi  akn.030.039.left.avi  akn.060.018.left.avi akn.155.036.left.avi akn.002.040.left.avi  akn.020.014.left.avi  akn.030.049.left.avi  akn.151.063.left.avi akn.155.052.left.avi akn.002.078.left.avi  akn.020.019.left.avi  akn.031.016.left.avi  akn.151.076.left.avi\takn.155.061.left.avi akn.002.084.left.avi  akn.020.023.left.avi  akn.031.023.left.avi  akn.151.079.left.avi\takn.155.084.left.avi akn.002.098.left.avi  akn.020.036.left.avi  akn.031.067.left.avi  akn.151.088.left.avi\takn.155.085.left.avi akn.002.135.left.avi  akn.021.003.left.avi  akn.033.063.left.avi  akn.151.099.left.avi\takn.156.108.left.avi akn.003.023.left.avi  akn.021.024.left.avi  akn.033.073.left.avi  akn.151.110.left.avi\takn.156.112.left.avi akn.003.027.left.avi  akn.023.021.left.avi  akn.033.084.left.avi  akn.151.157.left.avi\takn.156.116.left.avi akn.003.134.left.avi  akn.023.050.left.avi  akn.034.002.left.avi  akn.151.164.left.avi\takn.157.023.left.avi akn.003.148.left.avi  akn.024.019.left.avi  akn.034.024.left.avi  akn.151.169.left.avi\takn.157.032.left.avi akn.003.156.left.avi  akn.024.084.left.avi  akn.035.015.left.avi  akn.152.014.left.avi\takn.158.044.left.avi akn.019.002.left.avi  akn.025.002.left.avi  akn.035.017.left.avi  akn.152.015.left.avi\takn.159.004.left.avi akn.019.012.left.avi  akn.025.015.left.avi  akn.036.001.left.avi  akn.152.036.left.avi\takn.159.025.left.avi akn.019.025.left.avi  akn.025.026.left.avi  akn.036.012.left.avi  akn.154.006.left.avi\takn.160.012.left.avi akn.019.035.left.avi  akn.025.027.left.avi  akn.036.020.left.avi  akn.154.021.left.avi\takn.222.027.left.avi akn.019.037.left.avi  akn.025.032.left.avi  akn.036.021.left.avi  akn.154.031.left.avi\takn.222.075.left.avi akn.019.061.left.avi  akn.025.050.left.avi  akn.036.030.left.avi  akn.154.049.left.avi akn.019.075.left.avi  akn.026.021.left.avi  akn.036.040.left.avi  akn.154.059.left.avi akn.019.100.left.avi  akn.026.028.left.avi  akn.036.045.left.avi  akn.154.216.left.avi akn.020.002.left.avi  akn.028.024.left.avi  akn.036.050.left.avi  akn.155.002.left.avi akn.020.011.left.avi  akn.030.015.left.avi  akn.036.056.left.avi  akn.155.008.left.avi'\n",
    "s = s.split()"
   ]
  },
  {
   "cell_type": "code",
   "execution_count": 9,
   "metadata": {},
   "outputs": [
    {
     "data": {
      "text/plain": [
       "100"
      ]
     },
     "execution_count": 9,
     "metadata": {},
     "output_type": "execute_result"
    }
   ],
   "source": [
    "len(s)"
   ]
  },
  {
   "cell_type": "code",
   "execution_count": 14,
   "metadata": {},
   "outputs": [
    {
     "name": "stdout",
     "output_type": "stream",
     "text": [
      "ffmpeg -i  akn.002.014.left.avi  data/akn.002.014.left.avi%d.jpg\n",
      "ffmpeg -i  akn.020.013.left.avi  data/akn.020.013.left.avi%d.jpg\n",
      "ffmpeg -i  akn.030.039.left.avi  data/akn.030.039.left.avi%d.jpg\n",
      "ffmpeg -i  akn.060.018.left.avi  data/akn.060.018.left.avi%d.jpg\n",
      "ffmpeg -i  akn.155.036.left.avi  data/akn.155.036.left.avi%d.jpg\n",
      "ffmpeg -i  akn.002.040.left.avi  data/akn.002.040.left.avi%d.jpg\n",
      "ffmpeg -i  akn.020.014.left.avi  data/akn.020.014.left.avi%d.jpg\n",
      "ffmpeg -i  akn.030.049.left.avi  data/akn.030.049.left.avi%d.jpg\n",
      "ffmpeg -i  akn.151.063.left.avi  data/akn.151.063.left.avi%d.jpg\n",
      "ffmpeg -i  akn.155.052.left.avi  data/akn.155.052.left.avi%d.jpg\n",
      "ffmpeg -i  akn.002.078.left.avi  data/akn.002.078.left.avi%d.jpg\n",
      "ffmpeg -i  akn.020.019.left.avi  data/akn.020.019.left.avi%d.jpg\n",
      "ffmpeg -i  akn.031.016.left.avi  data/akn.031.016.left.avi%d.jpg\n",
      "ffmpeg -i  akn.151.076.left.avi  data/akn.151.076.left.avi%d.jpg\n",
      "ffmpeg -i  akn.155.061.left.avi  data/akn.155.061.left.avi%d.jpg\n",
      "ffmpeg -i  akn.002.084.left.avi  data/akn.002.084.left.avi%d.jpg\n",
      "ffmpeg -i  akn.020.023.left.avi  data/akn.020.023.left.avi%d.jpg\n",
      "ffmpeg -i  akn.031.023.left.avi  data/akn.031.023.left.avi%d.jpg\n",
      "ffmpeg -i  akn.151.079.left.avi  data/akn.151.079.left.avi%d.jpg\n",
      "ffmpeg -i  akn.155.084.left.avi  data/akn.155.084.left.avi%d.jpg\n",
      "ffmpeg -i  akn.002.098.left.avi  data/akn.002.098.left.avi%d.jpg\n",
      "ffmpeg -i  akn.020.036.left.avi  data/akn.020.036.left.avi%d.jpg\n",
      "ffmpeg -i  akn.031.067.left.avi  data/akn.031.067.left.avi%d.jpg\n",
      "ffmpeg -i  akn.151.088.left.avi  data/akn.151.088.left.avi%d.jpg\n",
      "ffmpeg -i  akn.155.085.left.avi  data/akn.155.085.left.avi%d.jpg\n",
      "ffmpeg -i  akn.002.135.left.avi  data/akn.002.135.left.avi%d.jpg\n",
      "ffmpeg -i  akn.021.003.left.avi  data/akn.021.003.left.avi%d.jpg\n",
      "ffmpeg -i  akn.033.063.left.avi  data/akn.033.063.left.avi%d.jpg\n",
      "ffmpeg -i  akn.151.099.left.avi  data/akn.151.099.left.avi%d.jpg\n",
      "ffmpeg -i  akn.156.108.left.avi  data/akn.156.108.left.avi%d.jpg\n",
      "ffmpeg -i  akn.003.023.left.avi  data/akn.003.023.left.avi%d.jpg\n",
      "ffmpeg -i  akn.021.024.left.avi  data/akn.021.024.left.avi%d.jpg\n",
      "ffmpeg -i  akn.033.073.left.avi  data/akn.033.073.left.avi%d.jpg\n",
      "ffmpeg -i  akn.151.110.left.avi  data/akn.151.110.left.avi%d.jpg\n",
      "ffmpeg -i  akn.156.112.left.avi  data/akn.156.112.left.avi%d.jpg\n",
      "ffmpeg -i  akn.003.027.left.avi  data/akn.003.027.left.avi%d.jpg\n",
      "ffmpeg -i  akn.023.021.left.avi  data/akn.023.021.left.avi%d.jpg\n",
      "ffmpeg -i  akn.033.084.left.avi  data/akn.033.084.left.avi%d.jpg\n",
      "ffmpeg -i  akn.151.157.left.avi  data/akn.151.157.left.avi%d.jpg\n",
      "ffmpeg -i  akn.156.116.left.avi  data/akn.156.116.left.avi%d.jpg\n",
      "ffmpeg -i  akn.003.134.left.avi  data/akn.003.134.left.avi%d.jpg\n",
      "ffmpeg -i  akn.023.050.left.avi  data/akn.023.050.left.avi%d.jpg\n",
      "ffmpeg -i  akn.034.002.left.avi  data/akn.034.002.left.avi%d.jpg\n",
      "ffmpeg -i  akn.151.164.left.avi  data/akn.151.164.left.avi%d.jpg\n",
      "ffmpeg -i  akn.157.023.left.avi  data/akn.157.023.left.avi%d.jpg\n",
      "ffmpeg -i  akn.003.148.left.avi  data/akn.003.148.left.avi%d.jpg\n",
      "ffmpeg -i  akn.024.019.left.avi  data/akn.024.019.left.avi%d.jpg\n",
      "ffmpeg -i  akn.034.024.left.avi  data/akn.034.024.left.avi%d.jpg\n",
      "ffmpeg -i  akn.151.169.left.avi  data/akn.151.169.left.avi%d.jpg\n",
      "ffmpeg -i  akn.157.032.left.avi  data/akn.157.032.left.avi%d.jpg\n",
      "ffmpeg -i  akn.003.156.left.avi  data/akn.003.156.left.avi%d.jpg\n",
      "ffmpeg -i  akn.024.084.left.avi  data/akn.024.084.left.avi%d.jpg\n",
      "ffmpeg -i  akn.035.015.left.avi  data/akn.035.015.left.avi%d.jpg\n",
      "ffmpeg -i  akn.152.014.left.avi  data/akn.152.014.left.avi%d.jpg\n",
      "ffmpeg -i  akn.158.044.left.avi  data/akn.158.044.left.avi%d.jpg\n",
      "ffmpeg -i  akn.019.002.left.avi  data/akn.019.002.left.avi%d.jpg\n",
      "ffmpeg -i  akn.025.002.left.avi  data/akn.025.002.left.avi%d.jpg\n",
      "ffmpeg -i  akn.035.017.left.avi  data/akn.035.017.left.avi%d.jpg\n",
      "ffmpeg -i  akn.152.015.left.avi  data/akn.152.015.left.avi%d.jpg\n",
      "ffmpeg -i  akn.159.004.left.avi  data/akn.159.004.left.avi%d.jpg\n",
      "ffmpeg -i  akn.019.012.left.avi  data/akn.019.012.left.avi%d.jpg\n",
      "ffmpeg -i  akn.025.015.left.avi  data/akn.025.015.left.avi%d.jpg\n",
      "ffmpeg -i  akn.036.001.left.avi  data/akn.036.001.left.avi%d.jpg\n",
      "ffmpeg -i  akn.152.036.left.avi  data/akn.152.036.left.avi%d.jpg\n",
      "ffmpeg -i  akn.159.025.left.avi  data/akn.159.025.left.avi%d.jpg\n",
      "ffmpeg -i  akn.019.025.left.avi  data/akn.019.025.left.avi%d.jpg\n",
      "ffmpeg -i  akn.025.026.left.avi  data/akn.025.026.left.avi%d.jpg\n",
      "ffmpeg -i  akn.036.012.left.avi  data/akn.036.012.left.avi%d.jpg\n",
      "ffmpeg -i  akn.154.006.left.avi  data/akn.154.006.left.avi%d.jpg\n",
      "ffmpeg -i  akn.160.012.left.avi  data/akn.160.012.left.avi%d.jpg\n",
      "ffmpeg -i  akn.019.035.left.avi  data/akn.019.035.left.avi%d.jpg\n",
      "ffmpeg -i  akn.025.027.left.avi  data/akn.025.027.left.avi%d.jpg\n",
      "ffmpeg -i  akn.036.020.left.avi  data/akn.036.020.left.avi%d.jpg\n",
      "ffmpeg -i  akn.154.021.left.avi  data/akn.154.021.left.avi%d.jpg\n",
      "ffmpeg -i  akn.222.027.left.avi  data/akn.222.027.left.avi%d.jpg\n",
      "ffmpeg -i  akn.019.037.left.avi  data/akn.019.037.left.avi%d.jpg\n",
      "ffmpeg -i  akn.025.032.left.avi  data/akn.025.032.left.avi%d.jpg\n",
      "ffmpeg -i  akn.036.021.left.avi  data/akn.036.021.left.avi%d.jpg\n",
      "ffmpeg -i  akn.154.031.left.avi  data/akn.154.031.left.avi%d.jpg\n",
      "ffmpeg -i  akn.222.075.left.avi  data/akn.222.075.left.avi%d.jpg\n",
      "ffmpeg -i  akn.019.061.left.avi  data/akn.019.061.left.avi%d.jpg\n",
      "ffmpeg -i  akn.025.050.left.avi  data/akn.025.050.left.avi%d.jpg\n",
      "ffmpeg -i  akn.036.030.left.avi  data/akn.036.030.left.avi%d.jpg\n",
      "ffmpeg -i  akn.154.049.left.avi  data/akn.154.049.left.avi%d.jpg\n",
      "ffmpeg -i  akn.019.075.left.avi  data/akn.019.075.left.avi%d.jpg\n",
      "ffmpeg -i  akn.026.021.left.avi  data/akn.026.021.left.avi%d.jpg\n",
      "ffmpeg -i  akn.036.040.left.avi  data/akn.036.040.left.avi%d.jpg\n",
      "ffmpeg -i  akn.154.059.left.avi  data/akn.154.059.left.avi%d.jpg\n",
      "ffmpeg -i  akn.019.100.left.avi  data/akn.019.100.left.avi%d.jpg\n",
      "ffmpeg -i  akn.026.028.left.avi  data/akn.026.028.left.avi%d.jpg\n",
      "ffmpeg -i  akn.036.045.left.avi  data/akn.036.045.left.avi%d.jpg\n",
      "ffmpeg -i  akn.154.216.left.avi  data/akn.154.216.left.avi%d.jpg\n",
      "ffmpeg -i  akn.020.002.left.avi  data/akn.020.002.left.avi%d.jpg\n",
      "ffmpeg -i  akn.028.024.left.avi  data/akn.028.024.left.avi%d.jpg\n",
      "ffmpeg -i  akn.036.050.left.avi  data/akn.036.050.left.avi%d.jpg\n",
      "ffmpeg -i  akn.155.002.left.avi  data/akn.155.002.left.avi%d.jpg\n",
      "ffmpeg -i  akn.020.011.left.avi  data/akn.020.011.left.avi%d.jpg\n",
      "ffmpeg -i  akn.030.015.left.avi  data/akn.030.015.left.avi%d.jpg\n",
      "ffmpeg -i  akn.036.056.left.avi  data/akn.036.056.left.avi%d.jpg\n",
      "ffmpeg -i  akn.155.008.left.avi  data/akn.155.008.left.avi%d.jpg\n"
     ]
    }
   ],
   "source": [
    "for i in s:\n",
    "    print('ffmpeg -i ',i,' data/'+i+'%d.jpg')"
   ]
  },
  {
   "cell_type": "code",
   "execution_count": 3,
   "metadata": {
    "collapsed": true
   },
   "outputs": [],
   "source": [
    "def load_data(path_data):\n",
    "    '''\n",
    "    --------------------------------order_product--------------------------------\n",
    "    * Unique in order_id + product_id\n",
    "    '''\n",
    "    priors = pd.read_csv(path_data + 'order_products__prior.csv', \n",
    "                     dtype={\n",
    "                            'order_id': np.int32,\n",
    "                            'product_id': np.uint16,\n",
    "                            'add_to_cart_order': np.int16,\n",
    "                            'reordered': np.int8})\n",
    "    train = pd.read_csv(path_data + 'order_products__train.csv', \n",
    "                    dtype={\n",
    "                            'order_id': np.int32,\n",
    "                            'product_id': np.uint16,\n",
    "                            'add_to_cart_order': np.int16,\n",
    "                            'reordered': np.int8})\n",
    "    '''\n",
    "    --------------------------------order--------------------------------\n",
    "    * This file tells us which set (prior, train, test) an order belongs\n",
    "    * Unique in order_id\n",
    "    * order_id in train, prior, test has no intersection\n",
    "    * this is the #order_number order of this user\n",
    "    '''\n",
    "    orders = pd.read_csv(path_data + 'orders.csv', \n",
    "                         dtype={\n",
    "                                'order_id': np.int32,\n",
    "                                'user_id': np.int64,\n",
    "                                'eval_set': 'category',\n",
    "                                'order_number': np.int16,\n",
    "                                'order_dow': np.int8,\n",
    "                                'order_hour_of_day': np.int8,\n",
    "                                'days_since_prior_order': np.float32})\n",
    "\n",
    "    #  order in prior, train, test has no duplicate\n",
    "    #  order_ids_pri = priors.order_id.unique()\n",
    "    #  order_ids_trn = train.order_id.unique()\n",
    "    #  order_ids_tst = orders[orders.eval_set == 'test']['order_id'].unique()\n",
    "    #  print(set(order_ids_pri).intersection(set(order_ids_trn)))\n",
    "    #  print(set(order_ids_pri).intersection(set(order_ids_tst)))\n",
    "    #  print(set(order_ids_trn).intersection(set(order_ids_tst)))\n",
    "\n",
    "    '''\n",
    "    --------------------------------product--------------------------------\n",
    "    * Unique in product_id\n",
    "    '''\n",
    "    products = pd.read_csv(path_data + 'products.csv')\n",
    "    aisles = pd.read_csv(path_data + \"aisles.csv\")\n",
    "    departments = pd.read_csv(path_data + \"departments.csv\")\n",
    "    sample_submission = pd.read_csv(path_data + \"sample_submission.csv\")\n",
    "    \n",
    "    return priors, train, orders, products, aisles, departments, sample_submission\n",
    "\n",
    "class tick_tock:\n",
    "    def __init__(self, process_name, verbose=1):\n",
    "        self.process_name = process_name\n",
    "        self.verbose = verbose\n",
    "    def __enter__(self):\n",
    "        if self.verbose:\n",
    "            print(self.process_name + \" begin ......\")\n",
    "            self.begin_time = time.time()\n",
    "    def __exit__(self, type, value, traceback):\n",
    "        if self.verbose:\n",
    "            end_time = time.time()\n",
    "            print(self.process_name + \" end ......\")\n",
    "            print('time lapsing {0} s \\n'.format(end_time - self.begin_time))\n",
    "            \n",
    "def ka_add_groupby_features_1_vs_n(df, group_columns_list, agg_dict, only_new_feature=True):\n",
    "    '''Create statistical columns, group by [N columns] and compute stats on [N column]\n",
    "\n",
    "       Parameters\n",
    "       ----------\n",
    "       df: pandas dataframe\n",
    "          Features matrix\n",
    "       group_columns_list: list_like\n",
    "          List of columns you want to group with, could be multiple columns\n",
    "       agg_dict: python dictionary\n",
    "\n",
    "       Return\n",
    "       ------\n",
    "       new pandas dataframe with original columns and new added columns\n",
    "\n",
    "       Example\n",
    "       -------\n",
    "       {real_column_name: {your_specified_new_column_name : method}}\n",
    "       agg_dict = {'user_id':{'prod_tot_cnts':'count'},\n",
    "                   'reordered':{'reorder_tot_cnts_of_this_prod':'sum'},\n",
    "                   'user_buy_product_times': {'prod_order_once':lambda x: sum(x==1),\n",
    "                                              'prod_order_more_than_once':lambda x: sum(x==2)}}\n",
    "       ka_add_stats_features_1_vs_n(train, ['product_id'], agg_dict)\n",
    "    '''\n",
    "    with tick_tock(\"add stats features\"):\n",
    "        try:\n",
    "            if type(group_columns_list) == list:\n",
    "                pass\n",
    "            else:\n",
    "                raise TypeError(k + \"should be a list\")\n",
    "        except TypeError as e:\n",
    "            print(e)\n",
    "            raise\n",
    "\n",
    "        df_new = df.copy()\n",
    "        grouped = df_new.groupby(group_columns_list)\n",
    "\n",
    "        the_stats = grouped.agg(agg_dict)\n",
    "        the_stats.columns = the_stats.columns.droplevel(0)\n",
    "        the_stats.reset_index(inplace=True)\n",
    "        if only_new_feature:\n",
    "            df_new = the_stats\n",
    "        else:\n",
    "            df_new = pd.merge(left=df_new, right=the_stats, on=group_columns_list, how='left')\n",
    "\n",
    "    return df_new\n",
    "\n",
    "def ka_add_groupby_features_n_vs_1(df, group_columns_list, target_columns_list, methods_list, keep_only_stats=True, verbose=1):\n",
    "    '''Create statistical columns, group by [N columns] and compute stats on [1 column]\n",
    "\n",
    "       Parameters\n",
    "       ----------\n",
    "       df: pandas dataframe\n",
    "          Features matrix\n",
    "       group_columns_list: list_like\n",
    "          List of columns you want to group with, could be multiple columns\n",
    "       target_columns_list: list_like\n",
    "          column you want to compute stats, need to be a list with only one element\n",
    "       methods_list: list_like\n",
    "          methods that you want to use, all methods that supported by groupby in Pandas\n",
    "\n",
    "       Return\n",
    "       ------\n",
    "       new pandas dataframe with original columns and new added columns\n",
    "\n",
    "       Example\n",
    "       -------\n",
    "       ka_add_stats_features_n_vs_1(train, group_columns_list=['x0'], target_columns_list=['x10'])\n",
    "    '''\n",
    "    with tick_tock(\"add stats features\", verbose):\n",
    "        dicts = {\"group_columns_list\": group_columns_list , \"target_columns_list\": target_columns_list, \"methods_list\" :methods_list}\n",
    "\n",
    "        for k, v in dicts.items():\n",
    "            try:\n",
    "                if type(v) == list:\n",
    "                    pass\n",
    "                else:\n",
    "                    raise TypeError(k + \"should be a list\")\n",
    "            except TypeError as e:\n",
    "                print(e)\n",
    "                raise\n",
    "\n",
    "        grouped_name = ''.join(group_columns_list)\n",
    "        target_name = ''.join(target_columns_list)\n",
    "        combine_name = [[grouped_name] + [method_name] + [target_name] for method_name in methods_list]\n",
    "\n",
    "        df_new = df.copy()\n",
    "        grouped = df_new.groupby(group_columns_list)\n",
    "\n",
    "        the_stats = grouped[target_name].agg(methods_list).reset_index()\n",
    "        the_stats.columns = [grouped_name] + \\\n",
    "                            ['_%s_%s_by_%s' % (grouped_name, method_name, target_name) \\\n",
    "                             for (grouped_name, method_name, target_name) in combine_name]\n",
    "        if keep_only_stats:\n",
    "            return the_stats\n",
    "        else:\n",
    "            df_new = pd.merge(left=df_new, right=the_stats, on=group_columns_list, how='left')\n",
    "        return df_new"
   ]
  },
  {
   "cell_type": "code",
   "execution_count": 4,
   "metadata": {
    "collapsed": true
   },
   "outputs": [],
   "source": [
    "path_data = 'data/'\n",
    "priors, train, orders, products, aisles, departments, sample_submission = load_data(path_data)"
   ]
  },
  {
   "cell_type": "code",
   "execution_count": 14,
   "metadata": {},
   "outputs": [
    {
     "data": {
      "text/plain": [
       "32434489"
      ]
     },
     "execution_count": 14,
     "metadata": {},
     "output_type": "execute_result"
    }
   ],
   "source": [
    "len(priors)"
   ]
  },
  {
   "cell_type": "code",
   "execution_count": 15,
   "metadata": {},
   "outputs": [
    {
     "data": {
      "text/plain": [
       "1384617"
      ]
     },
     "execution_count": 15,
     "metadata": {},
     "output_type": "execute_result"
    }
   ],
   "source": [
    "len(train)"
   ]
  },
  {
   "cell_type": "code",
   "execution_count": 16,
   "metadata": {},
   "outputs": [
    {
     "data": {
      "text/plain": [
       "75000"
      ]
     },
     "execution_count": 16,
     "metadata": {},
     "output_type": "execute_result"
    }
   ],
   "source": [
    "len(sample_submission)"
   ]
  },
  {
   "cell_type": "code",
   "execution_count": 12,
   "metadata": {},
   "outputs": [
    {
     "data": {
      "text/plain": [
       "134"
      ]
     },
     "execution_count": 12,
     "metadata": {},
     "output_type": "execute_result"
    }
   ],
   "source": [
    "len(aisles.aisle.unique())"
   ]
  },
  {
   "cell_type": "code",
   "execution_count": 23,
   "metadata": {},
   "outputs": [
    {
     "data": {
      "image/png": "[encoded data removed]",
      "text/plain": [
       "<matplotlib.figure.Figure at 0x7ff41f2846d8>"
      ]
     },
     "metadata": {},
     "output_type": "display_data"
    }
   ],
   "source": [
    "#plt.title(i)\n",
    "pylab.figure(figsize=(8, 6))\n",
    "plt.hist(orders.order_dow, bins=100)\n",
    "plt.show()"
   ]
  },
  {
   "cell_type": "code",
   "execution_count": 24,
   "metadata": {},
   "outputs": [
    {
     "data": {
      "image/png": "[encoded data removed]",
      "text/plain": [
       "<matplotlib.figure.Figure at 0x7ff41eec5898>"
      ]
     },
     "metadata": {},
     "output_type": "display_data"
    }
   ],
   "source": [
    "pylab.figure(figsize=(8, 6))\n",
    "plt.hist(orders.order_hour_of_day, bins=100)\n",
    "plt.show()"
   ]
  },
  {
   "cell_type": "code",
   "execution_count": 7,
   "metadata": {},
   "outputs": [
    {
     "data": {
      "text/plain": [
       "206209"
      ]
     },
     "execution_count": 7,
     "metadata": {},
     "output_type": "execute_result"
    }
   ],
   "source": [
    "len(orders.user_id.unique())"
   ]
  },
  {
   "cell_type": "code",
   "execution_count": null,
   "metadata": {
    "collapsed": true
   },
   "outputs": [],
   "source": []
  },
  {
   "cell_type": "code",
   "execution_count": null,
   "metadata": {
    "collapsed": true
   },
   "outputs": [],
   "source": []
  }
 ],
 "metadata": {
  "kernelspec": {
   "display_name": "Python 3",
   "language": "python",
   "name": "python3"
  },
  "language_info": {
   "codemirror_mode": {
    "name": "ipython",
    "version": 3
   },
   "file_extension": ".py",
   "mimetype": "text/x-python",
   "name": "python",
   "nbconvert_exporter": "python",
   "pygments_lexer": "ipython3",
   "version": "3.6.1"
  }
 },
 "nbformat": 4,
 "nbformat_minor": 2
}
