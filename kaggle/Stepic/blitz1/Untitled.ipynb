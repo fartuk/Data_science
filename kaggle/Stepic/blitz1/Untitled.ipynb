{
 "cells": [
  {
   "cell_type": "code",
   "execution_count": 1,
   "metadata": {
    "collapsed": true
   },
   "outputs": [],
   "source": [
    "import pandas as pd\n",
    "import numpy as np"
   ]
  },
  {
   "cell_type": "markdown",
   "metadata": {},
   "source": [
    "Импорт данных"
   ]
  },
  {
   "cell_type": "code",
   "execution_count": 2,
   "metadata": {
    "collapsed": true
   },
   "outputs": [],
   "source": [
    "events = pd.read_csv('course-217-events.csv')\n",
    "structure = pd.read_csv('course-217-structure.csv')"
   ]
  },
  {
   "cell_type": "code",
   "execution_count": 4,
   "metadata": {
    "collapsed": false
   },
   "outputs": [
    {
     "data": {
      "text/html": [
       "<div>\n",
       "<table border=\"1\" class=\"dataframe\">\n",
       "  <thead>\n",
       "    <tr style=\"text-align: right;\">\n",
       "      <th></th>\n",
       "      <th>user_id</th>\n",
       "      <th>action</th>\n",
       "      <th>step_id</th>\n",
       "      <th>time</th>\n",
       "    </tr>\n",
       "  </thead>\n",
       "  <tbody>\n",
       "    <tr>\n",
       "      <th>0</th>\n",
       "      <td>1</td>\n",
       "      <td>viewed</td>\n",
       "      <td>47435</td>\n",
       "      <td>1465181036</td>\n",
       "    </tr>\n",
       "    <tr>\n",
       "      <th>1</th>\n",
       "      <td>1</td>\n",
       "      <td>viewed</td>\n",
       "      <td>47438</td>\n",
       "      <td>1465181034</td>\n",
       "    </tr>\n",
       "    <tr>\n",
       "      <th>2</th>\n",
       "      <td>1</td>\n",
       "      <td>viewed</td>\n",
       "      <td>47435</td>\n",
       "      <td>1465181021</td>\n",
       "    </tr>\n",
       "    <tr>\n",
       "      <th>3</th>\n",
       "      <td>1</td>\n",
       "      <td>viewed</td>\n",
       "      <td>47436</td>\n",
       "      <td>1465181015</td>\n",
       "    </tr>\n",
       "    <tr>\n",
       "      <th>4</th>\n",
       "      <td>1</td>\n",
       "      <td>viewed</td>\n",
       "      <td>41605</td>\n",
       "      <td>1465180037</td>\n",
       "    </tr>\n",
       "  </tbody>\n",
       "</table>\n",
       "</div>"
      ],
      "text/plain": [
       "   user_id  action  step_id        time\n",
       "0        1  viewed    47435  1465181036\n",
       "1        1  viewed    47438  1465181034\n",
       "2        1  viewed    47435  1465181021\n",
       "3        1  viewed    47436  1465181015\n",
       "4        1  viewed    41605  1465180037"
      ]
     },
     "execution_count": 4,
     "metadata": {},
     "output_type": "execute_result"
    }
   ],
   "source": [
    "events[:5]"
   ]
  },
  {
   "cell_type": "code",
   "execution_count": 5,
   "metadata": {
    "collapsed": false
   },
   "outputs": [
    {
     "data": {
      "text/html": [
       "<div>\n",
       "<table border=\"1\" class=\"dataframe\">\n",
       "  <thead>\n",
       "    <tr style=\"text-align: right;\">\n",
       "      <th></th>\n",
       "      <th>course_id</th>\n",
       "      <th>module_id</th>\n",
       "      <th>module_position</th>\n",
       "      <th>lesson_id</th>\n",
       "      <th>lesson_position</th>\n",
       "      <th>step_id</th>\n",
       "      <th>step_position</th>\n",
       "      <th>step_type</th>\n",
       "      <th>step_cost</th>\n",
       "    </tr>\n",
       "  </thead>\n",
       "  <tbody>\n",
       "    <tr>\n",
       "      <th>0</th>\n",
       "      <td>217</td>\n",
       "      <td>614</td>\n",
       "      <td>2</td>\n",
       "      <td>13228</td>\n",
       "      <td>2</td>\n",
       "      <td>38842</td>\n",
       "      <td>1</td>\n",
       "      <td>text</td>\n",
       "      <td>0</td>\n",
       "    </tr>\n",
       "    <tr>\n",
       "      <th>1</th>\n",
       "      <td>217</td>\n",
       "      <td>614</td>\n",
       "      <td>2</td>\n",
       "      <td>13228</td>\n",
       "      <td>2</td>\n",
       "      <td>39715</td>\n",
       "      <td>6</td>\n",
       "      <td>code</td>\n",
       "      <td>1</td>\n",
       "    </tr>\n",
       "    <tr>\n",
       "      <th>2</th>\n",
       "      <td>217</td>\n",
       "      <td>614</td>\n",
       "      <td>2</td>\n",
       "      <td>13228</td>\n",
       "      <td>2</td>\n",
       "      <td>39716</td>\n",
       "      <td>7</td>\n",
       "      <td>code</td>\n",
       "      <td>1</td>\n",
       "    </tr>\n",
       "    <tr>\n",
       "      <th>3</th>\n",
       "      <td>217</td>\n",
       "      <td>614</td>\n",
       "      <td>2</td>\n",
       "      <td>13228</td>\n",
       "      <td>2</td>\n",
       "      <td>39717</td>\n",
       "      <td>8</td>\n",
       "      <td>code</td>\n",
       "      <td>1</td>\n",
       "    </tr>\n",
       "    <tr>\n",
       "      <th>4</th>\n",
       "      <td>217</td>\n",
       "      <td>614</td>\n",
       "      <td>2</td>\n",
       "      <td>13228</td>\n",
       "      <td>2</td>\n",
       "      <td>39721</td>\n",
       "      <td>9</td>\n",
       "      <td>free-answer</td>\n",
       "      <td>0</td>\n",
       "    </tr>\n",
       "  </tbody>\n",
       "</table>\n",
       "</div>"
      ],
      "text/plain": [
       "   course_id  module_id  module_position  lesson_id  lesson_position  step_id  \\\n",
       "0        217        614                2      13228                2    38842   \n",
       "1        217        614                2      13228                2    39715   \n",
       "2        217        614                2      13228                2    39716   \n",
       "3        217        614                2      13228                2    39717   \n",
       "4        217        614                2      13228                2    39721   \n",
       "\n",
       "   step_position    step_type  step_cost  \n",
       "0              1         text          0  \n",
       "1              6         code          1  \n",
       "2              7         code          1  \n",
       "3              8         code          1  \n",
       "4              9  free-answer          0  "
      ]
     },
     "execution_count": 5,
     "metadata": {},
     "output_type": "execute_result"
    }
   ],
   "source": [
    "structure[:5]"
   ]
  },
  {
   "cell_type": "code",
   "execution_count": 6,
   "metadata": {
    "collapsed": true
   },
   "outputs": [],
   "source": [
    "events = events.sort_values('time', axis=0)"
   ]
  },
  {
   "cell_type": "code",
   "execution_count": 9,
   "metadata": {
    "collapsed": false
   },
   "outputs": [],
   "source": [
    "passed_events = events[events['action'] == 'passed']"
   ]
  },
  {
   "cell_type": "code",
   "execution_count": 10,
   "metadata": {
    "collapsed": false
   },
   "outputs": [
    {
     "data": {
      "text/html": [
       "<div>\n",
       "<table border=\"1\" class=\"dataframe\">\n",
       "  <thead>\n",
       "    <tr style=\"text-align: right;\">\n",
       "      <th></th>\n",
       "      <th>user_id</th>\n",
       "      <th>action</th>\n",
       "      <th>step_id</th>\n",
       "      <th>time</th>\n",
       "    </tr>\n",
       "  </thead>\n",
       "  <tbody>\n",
       "    <tr>\n",
       "      <th>1431920</th>\n",
       "      <td>1229</td>\n",
       "      <td>passed</td>\n",
       "      <td>38518</td>\n",
       "      <td>1440065573</td>\n",
       "    </tr>\n",
       "    <tr>\n",
       "      <th>1431917</th>\n",
       "      <td>1229</td>\n",
       "      <td>passed</td>\n",
       "      <td>38521</td>\n",
       "      <td>1440065578</td>\n",
       "    </tr>\n",
       "    <tr>\n",
       "      <th>1431908</th>\n",
       "      <td>1229</td>\n",
       "      <td>passed</td>\n",
       "      <td>38527</td>\n",
       "      <td>1440065595</td>\n",
       "    </tr>\n",
       "    <tr>\n",
       "      <th>1431905</th>\n",
       "      <td>1229</td>\n",
       "      <td>passed</td>\n",
       "      <td>38522</td>\n",
       "      <td>1440065597</td>\n",
       "    </tr>\n",
       "    <tr>\n",
       "      <th>1431902</th>\n",
       "      <td>1229</td>\n",
       "      <td>passed</td>\n",
       "      <td>38523</td>\n",
       "      <td>1440065607</td>\n",
       "    </tr>\n",
       "  </tbody>\n",
       "</table>\n",
       "</div>"
      ],
      "text/plain": [
       "         user_id  action  step_id        time\n",
       "1431920     1229  passed    38518  1440065573\n",
       "1431917     1229  passed    38521  1440065578\n",
       "1431908     1229  passed    38527  1440065595\n",
       "1431905     1229  passed    38522  1440065597\n",
       "1431902     1229  passed    38523  1440065607"
      ]
     },
     "execution_count": 10,
     "metadata": {},
     "output_type": "execute_result"
    }
   ],
   "source": [
    "passed_events[:5]"
   ]
  },
  {
   "cell_type": "markdown",
   "metadata": {},
   "source": [
    "Определим начало прохождения курса для каждого юзера"
   ]
  },
  {
   "cell_type": "code",
   "execution_count": 38,
   "metadata": {
    "collapsed": true
   },
   "outputs": [],
   "source": [
    "start_time = {}\n",
    "for i in passed_events.index.values:\n",
    "    if passed_events.ix[i, 'user_id'] in start_time:\n",
    "        pass\n",
    "    else:\n",
    "        start_time[passed_events.ix[i, 'user_id']] = passed_events.ix[i, 'time']"
   ]
  },
  {
   "cell_type": "code",
   "execution_count": 42,
   "metadata": {
    "collapsed": false
   },
   "outputs": [],
   "source": [
    "top_users = []\n",
    "top_users_time = []\n",
    "score_user = {}\n",
    "for i in passed_events.index.values:\n",
    "    if passed_events.ix[i, 'user_id'] in score_user:\n",
    "        # Подсчет новых баллов.\n",
    "        step_cost = 0\n",
    "        for j in structure.values:\n",
    "            if j[5] == passed_events.ix[i, 'step_id']:\n",
    "                step_cost = j[8]\n",
    "        score_user[passed_events.ix[i, 'user_id']] += step_cost\n",
    "        if score_user[passed_events.ix[i, 'user_id']] >= 24:\n",
    "            if passed_events.ix[i, 'user_id'] not in top_users:\n",
    "                top_users.append(passed_events.ix[i, 'user_id'])\n",
    "                top_users_time += [[passed_events.ix[i, 'user_id'], passed_events.ix[i, 'time'] - start_time[passed_events.ix[i, 'user_id']]]]\n",
    "    else: \n",
    "        # Подсчет новых баллов.\n",
    "        step_cost = 0\n",
    "        for j in structure.values:\n",
    "            if j[5] == passed_events.ix[i, 'step_id']:\n",
    "                step_cost = j[8]\n",
    "        score_user[passed_events.ix[i, 'user_id']] = step_cost\n",
    "        "
   ]
  },
  {
   "cell_type": "code",
   "execution_count": 55,
   "metadata": {
    "collapsed": false
   },
   "outputs": [],
   "source": [
    "top_users_time = pd.DataFrame(top_users_time)\n",
    "top_users_time.columns = ['id', 'time']"
   ]
  },
  {
   "cell_type": "code",
   "execution_count": 64,
   "metadata": {
    "collapsed": false
   },
   "outputs": [],
   "source": [
    "top_users_time_sorted = top_users_time.sort_values(['time'],  axis = 0)\n",
    "top_users_time_sorted = pd.DataFrame(top_users_time_sorted)"
   ]
  },
  {
   "cell_type": "code",
   "execution_count": 72,
   "metadata": {
    "collapsed": false
   },
   "outputs": [
    {
     "data": {
      "text/html": [
       "<div>\n",
       "<table border=\"1\" class=\"dataframe\">\n",
       "  <thead>\n",
       "    <tr style=\"text-align: right;\">\n",
       "      <th></th>\n",
       "      <th>id</th>\n",
       "      <th>time</th>\n",
       "    </tr>\n",
       "  </thead>\n",
       "  <tbody>\n",
       "    <tr>\n",
       "      <th>108</th>\n",
       "      <td>4313</td>\n",
       "      <td>41390</td>\n",
       "    </tr>\n",
       "    <tr>\n",
       "      <th>502</th>\n",
       "      <td>1264</td>\n",
       "      <td>207886</td>\n",
       "    </tr>\n",
       "    <tr>\n",
       "      <th>522</th>\n",
       "      <td>821</td>\n",
       "      <td>348179</td>\n",
       "    </tr>\n",
       "    <tr>\n",
       "      <th>500</th>\n",
       "      <td>1146</td>\n",
       "      <td>549445</td>\n",
       "    </tr>\n",
       "    <tr>\n",
       "      <th>519</th>\n",
       "      <td>1124</td>\n",
       "      <td>575883</td>\n",
       "    </tr>\n",
       "    <tr>\n",
       "      <th>497</th>\n",
       "      <td>2622</td>\n",
       "      <td>847958</td>\n",
       "    </tr>\n",
       "    <tr>\n",
       "      <th>513</th>\n",
       "      <td>713</td>\n",
       "      <td>868600</td>\n",
       "    </tr>\n",
       "    <tr>\n",
       "      <th>521</th>\n",
       "      <td>972</td>\n",
       "      <td>1079659</td>\n",
       "    </tr>\n",
       "    <tr>\n",
       "      <th>261</th>\n",
       "      <td>4280</td>\n",
       "      <td>1081656</td>\n",
       "    </tr>\n",
       "    <tr>\n",
       "      <th>504</th>\n",
       "      <td>1291</td>\n",
       "      <td>1181486</td>\n",
       "    </tr>\n",
       "  </tbody>\n",
       "</table>\n",
       "</div>"
      ],
      "text/plain": [
       "       id     time\n",
       "108  4313    41390\n",
       "502  1264   207886\n",
       "522   821   348179\n",
       "500  1146   549445\n",
       "519  1124   575883\n",
       "497  2622   847958\n",
       "513   713   868600\n",
       "521   972  1079659\n",
       "261  4280  1081656\n",
       "504  1291  1181486"
      ]
     },
     "execution_count": 72,
     "metadata": {},
     "output_type": "execute_result"
    }
   ],
   "source": [
    "top_users_time_sorted[:10]"
   ]
  },
  {
   "cell_type": "code",
   "execution_count": null,
   "metadata": {
    "collapsed": true
   },
   "outputs": [],
   "source": []
  }
 ],
 "metadata": {
  "anaconda-cloud": {},
  "kernelspec": {
   "display_name": "Python [conda root]",
   "language": "python",
   "name": "conda-root-py"
  },
  "language_info": {
   "codemirror_mode": {
    "name": "ipython",
    "version": 2
   },
   "file_extension": ".py",
   "mimetype": "text/x-python",
   "name": "python",
   "nbconvert_exporter": "python",
   "pygments_lexer": "ipython2",
   "version": "2.7.12"
  }
 },
 "nbformat": 4,
 "nbformat_minor": 1
}
