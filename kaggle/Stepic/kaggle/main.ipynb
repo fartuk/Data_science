{
 "cells": [
  {
   "cell_type": "code",
   "execution_count": 8,
   "metadata": {
    "collapsed": false
   },
   "outputs": [],
   "source": [
    "import numpy as np\n",
    "import pandas as pd\n",
    "from sklearn import ensemble\n",
    "from sklearn.linear_model import LinearRegression\n",
    "\n",
    "from sklearn.cross_validation import cross_val_score\n",
    "from sklearn.feature_extraction.text import HashingVectorizer\n",
    "from sklearn import manifold, decomposition, linear_model, ensemble, neighbors, cross_validation\n",
    "import sklearn\n",
    "from sklearn import pipeline, preprocessing, feature_extraction\n",
    "import xgboost as xgb\n",
    "from sklearn.metrics import f1_score\n",
    "import xgboost as xgb"
   ]
  },
  {
   "cell_type": "code",
   "execution_count": 9,
   "metadata": {
    "collapsed": true
   },
   "outputs": [],
   "source": [
    "events = pd.DataFrame.from_csv(\"user_activity.csv\",index_col=None)\n",
    "structure = pd.DataFrame.from_csv(\"structure.csv\",index_col=None)\n",
    "targets = pd.DataFrame.from_csv(\"targets.csv\",index_col=None)\n",
    "events_test = pd.DataFrame.from_csv(\"user_activity_test.csv\",index_col=None)"
   ]
  },
  {
   "cell_type": "code",
   "execution_count": 10,
   "metadata": {
    "collapsed": true
   },
   "outputs": [],
   "source": [
    "tmin1  = events.groupby('user_id').time.min()\n",
    "tmax  = events.groupby('user_id').time.max()\n",
    "tmin = tmax - tmin1\n",
    "\n",
    "tmin1 = pd.DataFrame(tmin1)\n",
    "tmin1.columns = ['start_time']\n",
    "tmin1['user'] = tmin1.index"
   ]
  },
  {
   "cell_type": "code",
   "execution_count": 11,
   "metadata": {
    "collapsed": false
   },
   "outputs": [
    {
     "data": {
      "text/plain": [
       "13.920520833333333"
      ]
     },
     "execution_count": 11,
     "metadata": {},
     "output_type": "execute_result"
    }
   ],
   "source": [
    "1202733.0 / (3600 * 24)"
   ]
  },
  {
   "cell_type": "code",
   "execution_count": 12,
   "metadata": {
    "collapsed": false
   },
   "outputs": [
    {
     "data": {
      "text/plain": [
       "54000"
      ]
     },
     "execution_count": 12,
     "metadata": {},
     "output_type": "execute_result"
    }
   ],
   "source": [
    "3600 * 15"
   ]
  },
  {
   "cell_type": "code",
   "execution_count": 13,
   "metadata": {
    "collapsed": false
   },
   "outputs": [
    {
     "data": {
      "text/html": [
       "<div>\n",
       "<table border=\"1\" class=\"dataframe\">\n",
       "  <thead>\n",
       "    <tr style=\"text-align: right;\">\n",
       "      <th></th>\n",
       "      <th>user_id</th>\n",
       "      <th>action</th>\n",
       "      <th>step_id</th>\n",
       "      <th>time</th>\n",
       "      <th>step_type</th>\n",
       "      <th>step_cost</th>\n",
       "    </tr>\n",
       "  </thead>\n",
       "  <tbody>\n",
       "    <tr>\n",
       "      <th>2189845</th>\n",
       "      <td>4</td>\n",
       "      <td>discovered</td>\n",
       "      <td>41483</td>\n",
       "      <td>1465181906</td>\n",
       "      <td>text</td>\n",
       "      <td>0</td>\n",
       "    </tr>\n",
       "    <tr>\n",
       "      <th>2189846</th>\n",
       "      <td>4</td>\n",
       "      <td>passed</td>\n",
       "      <td>41483</td>\n",
       "      <td>1465181906</td>\n",
       "      <td>text</td>\n",
       "      <td>0</td>\n",
       "    </tr>\n",
       "    <tr>\n",
       "      <th>2189847</th>\n",
       "      <td>4</td>\n",
       "      <td>viewed</td>\n",
       "      <td>7322</td>\n",
       "      <td>1465182052</td>\n",
       "      <td>video</td>\n",
       "      <td>0</td>\n",
       "    </tr>\n",
       "    <tr>\n",
       "      <th>2189848</th>\n",
       "      <td>4</td>\n",
       "      <td>discovered</td>\n",
       "      <td>7322</td>\n",
       "      <td>1465182052</td>\n",
       "      <td>video</td>\n",
       "      <td>0</td>\n",
       "    </tr>\n",
       "    <tr>\n",
       "      <th>2189849</th>\n",
       "      <td>4</td>\n",
       "      <td>passed</td>\n",
       "      <td>7322</td>\n",
       "      <td>1465182052</td>\n",
       "      <td>video</td>\n",
       "      <td>0</td>\n",
       "    </tr>\n",
       "    <tr>\n",
       "      <th>2189850</th>\n",
       "      <td>1</td>\n",
       "      <td>viewed</td>\n",
       "      <td>39540</td>\n",
       "      <td>1465182117</td>\n",
       "      <td>code</td>\n",
       "      <td>1</td>\n",
       "    </tr>\n",
       "    <tr>\n",
       "      <th>2189851</th>\n",
       "      <td>1</td>\n",
       "      <td>viewed</td>\n",
       "      <td>44097</td>\n",
       "      <td>1465182653</td>\n",
       "      <td>choice</td>\n",
       "      <td>1</td>\n",
       "    </tr>\n",
       "    <tr>\n",
       "      <th>2189852</th>\n",
       "      <td>1</td>\n",
       "      <td>viewed</td>\n",
       "      <td>11077</td>\n",
       "      <td>1465182700</td>\n",
       "      <td>video</td>\n",
       "      <td>0</td>\n",
       "    </tr>\n",
       "    <tr>\n",
       "      <th>2189853</th>\n",
       "      <td>1</td>\n",
       "      <td>viewed</td>\n",
       "      <td>39540</td>\n",
       "      <td>1465182918</td>\n",
       "      <td>code</td>\n",
       "      <td>1</td>\n",
       "    </tr>\n",
       "    <tr>\n",
       "      <th>2189854</th>\n",
       "      <td>1</td>\n",
       "      <td>viewed</td>\n",
       "      <td>10192</td>\n",
       "      <td>1465182971</td>\n",
       "      <td>code</td>\n",
       "      <td>2</td>\n",
       "    </tr>\n",
       "  </tbody>\n",
       "</table>\n",
       "</div>"
      ],
      "text/plain": [
       "         user_id      action  step_id        time step_type  step_cost\n",
       "2189845        4  discovered    41483  1465181906      text          0\n",
       "2189846        4      passed    41483  1465181906      text          0\n",
       "2189847        4      viewed     7322  1465182052     video          0\n",
       "2189848        4  discovered     7322  1465182052     video          0\n",
       "2189849        4      passed     7322  1465182052     video          0\n",
       "2189850        1      viewed    39540  1465182117      code          1\n",
       "2189851        1      viewed    44097  1465182653    choice          1\n",
       "2189852        1      viewed    11077  1465182700     video          0\n",
       "2189853        1      viewed    39540  1465182918      code          1\n",
       "2189854        1      viewed    10192  1465182971      code          2"
      ]
     },
     "execution_count": 13,
     "metadata": {},
     "output_type": "execute_result"
    }
   ],
   "source": [
    "events[-10:]"
   ]
  },
  {
   "cell_type": "code",
   "execution_count": 14,
   "metadata": {
    "collapsed": false
   },
   "outputs": [
    {
     "data": {
      "text/plain": [
       "(2189855, 6)"
      ]
     },
     "execution_count": 14,
     "metadata": {},
     "output_type": "execute_result"
    }
   ],
   "source": [
    "events.shape"
   ]
  },
  {
   "cell_type": "code",
   "execution_count": 15,
   "metadata": {
    "collapsed": false
   },
   "outputs": [],
   "source": [
    "events_last_week = events"
   ]
  },
  {
   "cell_type": "code",
   "execution_count": 16,
   "metadata": {
    "collapsed": false
   },
   "outputs": [],
   "source": [
    "events_last_week = pd.merge(events_last_week, tmin1, left_on='user_id', right_on='user', how='outer')"
   ]
  },
  {
   "cell_type": "code",
   "execution_count": 17,
   "metadata": {
    "collapsed": false
   },
   "outputs": [
    {
     "data": {
      "text/plain": [
       "(2189855, 8)"
      ]
     },
     "execution_count": 17,
     "metadata": {},
     "output_type": "execute_result"
    }
   ],
   "source": [
    "events_last_week.shape"
   ]
  },
  {
   "cell_type": "code",
   "execution_count": 18,
   "metadata": {
    "collapsed": false
   },
   "outputs": [
    {
     "data": {
      "text/plain": [
       "604800"
      ]
     },
     "execution_count": 18,
     "metadata": {},
     "output_type": "execute_result"
    }
   ],
   "source": [
    "7 * 3600 * 24"
   ]
  },
  {
   "cell_type": "code",
   "execution_count": 19,
   "metadata": {
    "collapsed": true
   },
   "outputs": [],
   "source": [
    "events_last_week = events_last_week[events_last_week.time > events_last_week.start_time + 604800]"
   ]
  },
  {
   "cell_type": "code",
   "execution_count": 20,
   "metadata": {
    "collapsed": false
   },
   "outputs": [
    {
     "data": {
      "text/plain": [
       "(498985, 8)"
      ]
     },
     "execution_count": 20,
     "metadata": {},
     "output_type": "execute_result"
    }
   ],
   "source": [
    "events_last_week.shape"
   ]
  },
  {
   "cell_type": "code",
   "execution_count": 21,
   "metadata": {
    "collapsed": true
   },
   "outputs": [],
   "source": [
    "H_last = events_last_week.groupby('user_id') \\\n",
    "                    .apply(lambda x: x[['step_type']].unstack().value_counts()) \\\n",
    "                    .unstack() \\\n",
    "                    .fillna(0)"
   ]
  },
  {
   "cell_type": "code",
   "execution_count": 22,
   "metadata": {
    "collapsed": false
   },
   "outputs": [
    {
     "data": {
      "text/plain": [
       "(4211, 6)"
      ]
     },
     "execution_count": 22,
     "metadata": {},
     "output_type": "execute_result"
    }
   ],
   "source": [
    "H_last.shape"
   ]
  },
  {
   "cell_type": "code",
   "execution_count": 23,
   "metadata": {
    "collapsed": false
   },
   "outputs": [],
   "source": [
    "H = events.groupby('user_id') \\\n",
    "                    .apply(lambda x: x[['step_type']].unstack().value_counts()) \\\n",
    "                    .unstack() \\\n",
    "                    .fillna(0)"
   ]
  },
  {
   "cell_type": "code",
   "execution_count": 24,
   "metadata": {
    "collapsed": false
   },
   "outputs": [
    {
     "data": {
      "text/plain": [
       "(16625, 6)"
      ]
     },
     "execution_count": 24,
     "metadata": {},
     "output_type": "execute_result"
    }
   ],
   "source": [
    "H.shape"
   ]
  },
  {
   "cell_type": "code",
   "execution_count": 25,
   "metadata": {
    "collapsed": true
   },
   "outputs": [],
   "source": [
    "H_last['user_last'] = H_last.index"
   ]
  },
  {
   "cell_type": "code",
   "execution_count": 26,
   "metadata": {
    "collapsed": false
   },
   "outputs": [
    {
     "data": {
      "text/html": [
       "<div>\n",
       "<table border=\"1\" class=\"dataframe\">\n",
       "  <thead>\n",
       "    <tr style=\"text-align: right;\">\n",
       "      <th></th>\n",
       "      <th>choice</th>\n",
       "      <th>code</th>\n",
       "      <th>number</th>\n",
       "      <th>string</th>\n",
       "      <th>text</th>\n",
       "      <th>video</th>\n",
       "      <th>user_last</th>\n",
       "    </tr>\n",
       "    <tr>\n",
       "      <th>user_id</th>\n",
       "      <th></th>\n",
       "      <th></th>\n",
       "      <th></th>\n",
       "      <th></th>\n",
       "      <th></th>\n",
       "      <th></th>\n",
       "      <th></th>\n",
       "    </tr>\n",
       "  </thead>\n",
       "  <tbody>\n",
       "    <tr>\n",
       "      <th>7</th>\n",
       "      <td>0.0</td>\n",
       "      <td>12.0</td>\n",
       "      <td>4.0</td>\n",
       "      <td>0.0</td>\n",
       "      <td>0.0</td>\n",
       "      <td>0.0</td>\n",
       "      <td>7</td>\n",
       "    </tr>\n",
       "    <tr>\n",
       "      <th>13</th>\n",
       "      <td>0.0</td>\n",
       "      <td>0.0</td>\n",
       "      <td>0.0</td>\n",
       "      <td>0.0</td>\n",
       "      <td>16.0</td>\n",
       "      <td>0.0</td>\n",
       "      <td>13</td>\n",
       "    </tr>\n",
       "    <tr>\n",
       "      <th>14</th>\n",
       "      <td>1.0</td>\n",
       "      <td>80.0</td>\n",
       "      <td>8.0</td>\n",
       "      <td>0.0</td>\n",
       "      <td>106.0</td>\n",
       "      <td>177.0</td>\n",
       "      <td>14</td>\n",
       "    </tr>\n",
       "    <tr>\n",
       "      <th>17</th>\n",
       "      <td>22.0</td>\n",
       "      <td>14.0</td>\n",
       "      <td>3.0</td>\n",
       "      <td>0.0</td>\n",
       "      <td>45.0</td>\n",
       "      <td>88.0</td>\n",
       "      <td>17</td>\n",
       "    </tr>\n",
       "  </tbody>\n",
       "</table>\n",
       "</div>"
      ],
      "text/plain": [
       "         choice  code  number  string   text  video  user_last\n",
       "user_id                                                       \n",
       "7           0.0  12.0     4.0     0.0    0.0    0.0          7\n",
       "13          0.0   0.0     0.0     0.0   16.0    0.0         13\n",
       "14          1.0  80.0     8.0     0.0  106.0  177.0         14\n",
       "17         22.0  14.0     3.0     0.0   45.0   88.0         17"
      ]
     },
     "execution_count": 26,
     "metadata": {},
     "output_type": "execute_result"
    }
   ],
   "source": [
    "H_last[:4]"
   ]
  },
  {
   "cell_type": "code",
   "execution_count": 27,
   "metadata": {
    "collapsed": false
   },
   "outputs": [],
   "source": [
    "steps = structure.step_id\n",
    "steps = steps.tolist()"
   ]
  },
  {
   "cell_type": "code",
   "execution_count": 28,
   "metadata": {
    "collapsed": true
   },
   "outputs": [],
   "source": [
    "pasted_events = events[events.action == 'passed']"
   ]
  },
  {
   "cell_type": "code",
   "execution_count": 29,
   "metadata": {
    "collapsed": false
   },
   "outputs": [],
   "source": [
    "S = pasted_events.groupby('user_id') \\\n",
    "                    .apply(lambda x: x[['step_id']].unstack().value_counts()) \\\n",
    "                    .unstack() \\\n",
    "                    .fillna(0)"
   ]
  },
  {
   "cell_type": "code",
   "execution_count": 30,
   "metadata": {
    "collapsed": false
   },
   "outputs": [
    {
     "data": {
      "text/html": [
       "<div>\n",
       "<table border=\"1\" class=\"dataframe\">\n",
       "  <thead>\n",
       "    <tr style=\"text-align: right;\">\n",
       "      <th></th>\n",
       "      <th>2681</th>\n",
       "      <th>2682</th>\n",
       "      <th>2687</th>\n",
       "      <th>2688</th>\n",
       "      <th>2689</th>\n",
       "      <th>2690</th>\n",
       "      <th>2691</th>\n",
       "      <th>2692</th>\n",
       "      <th>2693</th>\n",
       "      <th>2694</th>\n",
       "      <th>...</th>\n",
       "      <th>43608</th>\n",
       "      <th>44097</th>\n",
       "      <th>44160</th>\n",
       "      <th>44167</th>\n",
       "      <th>44174</th>\n",
       "      <th>44313</th>\n",
       "      <th>54850</th>\n",
       "      <th>84377</th>\n",
       "      <th>84530</th>\n",
       "      <th>84531</th>\n",
       "    </tr>\n",
       "    <tr>\n",
       "      <th>user_id</th>\n",
       "      <th></th>\n",
       "      <th></th>\n",
       "      <th></th>\n",
       "      <th></th>\n",
       "      <th></th>\n",
       "      <th></th>\n",
       "      <th></th>\n",
       "      <th></th>\n",
       "      <th></th>\n",
       "      <th></th>\n",
       "      <th></th>\n",
       "      <th></th>\n",
       "      <th></th>\n",
       "      <th></th>\n",
       "      <th></th>\n",
       "      <th></th>\n",
       "      <th></th>\n",
       "      <th></th>\n",
       "      <th></th>\n",
       "      <th></th>\n",
       "      <th></th>\n",
       "    </tr>\n",
       "  </thead>\n",
       "  <tbody>\n",
       "    <tr>\n",
       "      <th>1</th>\n",
       "      <td>1.0</td>\n",
       "      <td>1.0</td>\n",
       "      <td>1.0</td>\n",
       "      <td>1.0</td>\n",
       "      <td>1.0</td>\n",
       "      <td>1.0</td>\n",
       "      <td>1.0</td>\n",
       "      <td>1.0</td>\n",
       "      <td>1.0</td>\n",
       "      <td>1.0</td>\n",
       "      <td>...</td>\n",
       "      <td>1.0</td>\n",
       "      <td>0.0</td>\n",
       "      <td>0.0</td>\n",
       "      <td>0.0</td>\n",
       "      <td>0.0</td>\n",
       "      <td>0.0</td>\n",
       "      <td>1.0</td>\n",
       "      <td>1.0</td>\n",
       "      <td>1.0</td>\n",
       "      <td>1.0</td>\n",
       "    </tr>\n",
       "    <tr>\n",
       "      <th>2</th>\n",
       "      <td>0.0</td>\n",
       "      <td>0.0</td>\n",
       "      <td>0.0</td>\n",
       "      <td>0.0</td>\n",
       "      <td>0.0</td>\n",
       "      <td>0.0</td>\n",
       "      <td>0.0</td>\n",
       "      <td>0.0</td>\n",
       "      <td>0.0</td>\n",
       "      <td>0.0</td>\n",
       "      <td>...</td>\n",
       "      <td>0.0</td>\n",
       "      <td>0.0</td>\n",
       "      <td>0.0</td>\n",
       "      <td>0.0</td>\n",
       "      <td>0.0</td>\n",
       "      <td>0.0</td>\n",
       "      <td>0.0</td>\n",
       "      <td>0.0</td>\n",
       "      <td>0.0</td>\n",
       "      <td>0.0</td>\n",
       "    </tr>\n",
       "    <tr>\n",
       "      <th>3</th>\n",
       "      <td>1.0</td>\n",
       "      <td>0.0</td>\n",
       "      <td>0.0</td>\n",
       "      <td>1.0</td>\n",
       "      <td>0.0</td>\n",
       "      <td>0.0</td>\n",
       "      <td>0.0</td>\n",
       "      <td>0.0</td>\n",
       "      <td>0.0</td>\n",
       "      <td>0.0</td>\n",
       "      <td>...</td>\n",
       "      <td>0.0</td>\n",
       "      <td>1.0</td>\n",
       "      <td>0.0</td>\n",
       "      <td>0.0</td>\n",
       "      <td>0.0</td>\n",
       "      <td>0.0</td>\n",
       "      <td>0.0</td>\n",
       "      <td>1.0</td>\n",
       "      <td>1.0</td>\n",
       "      <td>1.0</td>\n",
       "    </tr>\n",
       "    <tr>\n",
       "      <th>4</th>\n",
       "      <td>0.0</td>\n",
       "      <td>0.0</td>\n",
       "      <td>0.0</td>\n",
       "      <td>0.0</td>\n",
       "      <td>0.0</td>\n",
       "      <td>0.0</td>\n",
       "      <td>0.0</td>\n",
       "      <td>0.0</td>\n",
       "      <td>0.0</td>\n",
       "      <td>0.0</td>\n",
       "      <td>...</td>\n",
       "      <td>1.0</td>\n",
       "      <td>1.0</td>\n",
       "      <td>0.0</td>\n",
       "      <td>0.0</td>\n",
       "      <td>0.0</td>\n",
       "      <td>0.0</td>\n",
       "      <td>1.0</td>\n",
       "      <td>0.0</td>\n",
       "      <td>0.0</td>\n",
       "      <td>0.0</td>\n",
       "    </tr>\n",
       "    <tr>\n",
       "      <th>6</th>\n",
       "      <td>1.0</td>\n",
       "      <td>1.0</td>\n",
       "      <td>0.0</td>\n",
       "      <td>0.0</td>\n",
       "      <td>0.0</td>\n",
       "      <td>0.0</td>\n",
       "      <td>0.0</td>\n",
       "      <td>0.0</td>\n",
       "      <td>0.0</td>\n",
       "      <td>0.0</td>\n",
       "      <td>...</td>\n",
       "      <td>1.0</td>\n",
       "      <td>1.0</td>\n",
       "      <td>0.0</td>\n",
       "      <td>0.0</td>\n",
       "      <td>0.0</td>\n",
       "      <td>0.0</td>\n",
       "      <td>1.0</td>\n",
       "      <td>0.0</td>\n",
       "      <td>0.0</td>\n",
       "      <td>0.0</td>\n",
       "    </tr>\n",
       "    <tr>\n",
       "      <th>7</th>\n",
       "      <td>0.0</td>\n",
       "      <td>0.0</td>\n",
       "      <td>0.0</td>\n",
       "      <td>0.0</td>\n",
       "      <td>0.0</td>\n",
       "      <td>0.0</td>\n",
       "      <td>0.0</td>\n",
       "      <td>0.0</td>\n",
       "      <td>0.0</td>\n",
       "      <td>0.0</td>\n",
       "      <td>...</td>\n",
       "      <td>0.0</td>\n",
       "      <td>0.0</td>\n",
       "      <td>0.0</td>\n",
       "      <td>0.0</td>\n",
       "      <td>0.0</td>\n",
       "      <td>0.0</td>\n",
       "      <td>0.0</td>\n",
       "      <td>0.0</td>\n",
       "      <td>0.0</td>\n",
       "      <td>0.0</td>\n",
       "    </tr>\n",
       "    <tr>\n",
       "      <th>8</th>\n",
       "      <td>0.0</td>\n",
       "      <td>0.0</td>\n",
       "      <td>0.0</td>\n",
       "      <td>0.0</td>\n",
       "      <td>0.0</td>\n",
       "      <td>0.0</td>\n",
       "      <td>0.0</td>\n",
       "      <td>0.0</td>\n",
       "      <td>0.0</td>\n",
       "      <td>0.0</td>\n",
       "      <td>...</td>\n",
       "      <td>0.0</td>\n",
       "      <td>1.0</td>\n",
       "      <td>0.0</td>\n",
       "      <td>0.0</td>\n",
       "      <td>0.0</td>\n",
       "      <td>0.0</td>\n",
       "      <td>0.0</td>\n",
       "      <td>0.0</td>\n",
       "      <td>0.0</td>\n",
       "      <td>0.0</td>\n",
       "    </tr>\n",
       "    <tr>\n",
       "      <th>10</th>\n",
       "      <td>0.0</td>\n",
       "      <td>0.0</td>\n",
       "      <td>0.0</td>\n",
       "      <td>0.0</td>\n",
       "      <td>0.0</td>\n",
       "      <td>0.0</td>\n",
       "      <td>0.0</td>\n",
       "      <td>0.0</td>\n",
       "      <td>0.0</td>\n",
       "      <td>0.0</td>\n",
       "      <td>...</td>\n",
       "      <td>0.0</td>\n",
       "      <td>0.0</td>\n",
       "      <td>0.0</td>\n",
       "      <td>0.0</td>\n",
       "      <td>0.0</td>\n",
       "      <td>0.0</td>\n",
       "      <td>0.0</td>\n",
       "      <td>0.0</td>\n",
       "      <td>0.0</td>\n",
       "      <td>0.0</td>\n",
       "    </tr>\n",
       "    <tr>\n",
       "      <th>11</th>\n",
       "      <td>0.0</td>\n",
       "      <td>0.0</td>\n",
       "      <td>0.0</td>\n",
       "      <td>0.0</td>\n",
       "      <td>0.0</td>\n",
       "      <td>0.0</td>\n",
       "      <td>0.0</td>\n",
       "      <td>0.0</td>\n",
       "      <td>0.0</td>\n",
       "      <td>0.0</td>\n",
       "      <td>...</td>\n",
       "      <td>0.0</td>\n",
       "      <td>0.0</td>\n",
       "      <td>0.0</td>\n",
       "      <td>0.0</td>\n",
       "      <td>0.0</td>\n",
       "      <td>0.0</td>\n",
       "      <td>0.0</td>\n",
       "      <td>0.0</td>\n",
       "      <td>0.0</td>\n",
       "      <td>0.0</td>\n",
       "    </tr>\n",
       "    <tr>\n",
       "      <th>12</th>\n",
       "      <td>0.0</td>\n",
       "      <td>0.0</td>\n",
       "      <td>0.0</td>\n",
       "      <td>1.0</td>\n",
       "      <td>1.0</td>\n",
       "      <td>0.0</td>\n",
       "      <td>0.0</td>\n",
       "      <td>0.0</td>\n",
       "      <td>0.0</td>\n",
       "      <td>0.0</td>\n",
       "      <td>...</td>\n",
       "      <td>0.0</td>\n",
       "      <td>0.0</td>\n",
       "      <td>0.0</td>\n",
       "      <td>0.0</td>\n",
       "      <td>0.0</td>\n",
       "      <td>0.0</td>\n",
       "      <td>0.0</td>\n",
       "      <td>0.0</td>\n",
       "      <td>0.0</td>\n",
       "      <td>0.0</td>\n",
       "    </tr>\n",
       "  </tbody>\n",
       "</table>\n",
       "<p>10 rows × 354 columns</p>\n",
       "</div>"
      ],
      "text/plain": [
       "         2681   2682   2687   2688   2689   2690   2691   2692   2693   2694   \\\n",
       "user_id                                                                         \n",
       "1          1.0    1.0    1.0    1.0    1.0    1.0    1.0    1.0    1.0    1.0   \n",
       "2          0.0    0.0    0.0    0.0    0.0    0.0    0.0    0.0    0.0    0.0   \n",
       "3          1.0    0.0    0.0    1.0    0.0    0.0    0.0    0.0    0.0    0.0   \n",
       "4          0.0    0.0    0.0    0.0    0.0    0.0    0.0    0.0    0.0    0.0   \n",
       "6          1.0    1.0    0.0    0.0    0.0    0.0    0.0    0.0    0.0    0.0   \n",
       "7          0.0    0.0    0.0    0.0    0.0    0.0    0.0    0.0    0.0    0.0   \n",
       "8          0.0    0.0    0.0    0.0    0.0    0.0    0.0    0.0    0.0    0.0   \n",
       "10         0.0    0.0    0.0    0.0    0.0    0.0    0.0    0.0    0.0    0.0   \n",
       "11         0.0    0.0    0.0    0.0    0.0    0.0    0.0    0.0    0.0    0.0   \n",
       "12         0.0    0.0    0.0    1.0    1.0    0.0    0.0    0.0    0.0    0.0   \n",
       "\n",
       "         ...    43608  44097  44160  44167  44174  44313  54850  84377  84530  \\\n",
       "user_id  ...                                                                    \n",
       "1        ...      1.0    0.0    0.0    0.0    0.0    0.0    1.0    1.0    1.0   \n",
       "2        ...      0.0    0.0    0.0    0.0    0.0    0.0    0.0    0.0    0.0   \n",
       "3        ...      0.0    1.0    0.0    0.0    0.0    0.0    0.0    1.0    1.0   \n",
       "4        ...      1.0    1.0    0.0    0.0    0.0    0.0    1.0    0.0    0.0   \n",
       "6        ...      1.0    1.0    0.0    0.0    0.0    0.0    1.0    0.0    0.0   \n",
       "7        ...      0.0    0.0    0.0    0.0    0.0    0.0    0.0    0.0    0.0   \n",
       "8        ...      0.0    1.0    0.0    0.0    0.0    0.0    0.0    0.0    0.0   \n",
       "10       ...      0.0    0.0    0.0    0.0    0.0    0.0    0.0    0.0    0.0   \n",
       "11       ...      0.0    0.0    0.0    0.0    0.0    0.0    0.0    0.0    0.0   \n",
       "12       ...      0.0    0.0    0.0    0.0    0.0    0.0    0.0    0.0    0.0   \n",
       "\n",
       "         84531  \n",
       "user_id         \n",
       "1          1.0  \n",
       "2          0.0  \n",
       "3          1.0  \n",
       "4          0.0  \n",
       "6          0.0  \n",
       "7          0.0  \n",
       "8          0.0  \n",
       "10         0.0  \n",
       "11         0.0  \n",
       "12         0.0  \n",
       "\n",
       "[10 rows x 354 columns]"
      ]
     },
     "execution_count": 30,
     "metadata": {},
     "output_type": "execute_result"
    }
   ],
   "source": [
    "S[:10]"
   ]
  },
  {
   "cell_type": "code",
   "execution_count": 31,
   "metadata": {
    "collapsed": true
   },
   "outputs": [],
   "source": [
    "S = S[steps]"
   ]
  },
  {
   "cell_type": "code",
   "execution_count": 32,
   "metadata": {
    "collapsed": true
   },
   "outputs": [],
   "source": [
    "H['skip'] = -1"
   ]
  },
  {
   "cell_type": "code",
   "execution_count": 33,
   "metadata": {
    "collapsed": true
   },
   "outputs": [],
   "source": [
    "H['skip_part'] = 0"
   ]
  },
  {
   "cell_type": "code",
   "execution_count": 34,
   "metadata": {
    "collapsed": false
   },
   "outputs": [],
   "source": [
    "su = 0\n",
    "k = 0\n",
    "flag = 0\n",
    "for i in S.index:\n",
    "    for j in S.ix[i,:]:\n",
    "        if j == 0 and flag == 1:\n",
    "            flag = 0\n",
    "            su += 1\n",
    "        if j == 1 and flag == 0:\n",
    "            flag = 1\n",
    "    H.ix[i, 'skip'] = su\n",
    "    su = 0\n",
    "    flag = 0\n"
   ]
  },
  {
   "cell_type": "code",
   "execution_count": 35,
   "metadata": {
    "collapsed": false
   },
   "outputs": [],
   "source": [
    "su = 0\n",
    "k = 0\n",
    "flag = 0\n",
    "tmp_su = 0\n",
    "for i in S.index:\n",
    "    ones = 0\n",
    "    su = 0\n",
    "    tmp_su = 0\n",
    "    flag = 0\n",
    "    for j in S.ix[i,:]:\n",
    "        if j == 0 and flag == 1:\n",
    "            flag = 0\n",
    "            tmp_su = 1\n",
    "        if j == 0 and flag == 0:\n",
    "            tmp_su += 1\n",
    "        if j == 1 and flag == 0:\n",
    "            flag = 1\n",
    "            su += tmp_su\n",
    "            tmp_su = 0\n",
    "        if j == 1:\n",
    "            ones += 1  \n",
    "        t = su / (su + ones + 0.00000000001) * 1.0\n",
    "    H.ix[i, 'skip_part'] = t"
   ]
  },
  {
   "cell_type": "code",
   "execution_count": 36,
   "metadata": {
    "collapsed": true
   },
   "outputs": [],
   "source": [
    "A = events.groupby('user_id') \\\n",
    "                    .apply(lambda x: x[['action']].unstack().value_counts()) \\\n",
    "                    .unstack() \\\n",
    "                    .fillna(0)"
   ]
  },
  {
   "cell_type": "code",
   "execution_count": 37,
   "metadata": {
    "collapsed": true
   },
   "outputs": [],
   "source": [
    "A['user'] = A.index"
   ]
  },
  {
   "cell_type": "code",
   "execution_count": 38,
   "metadata": {
    "collapsed": false
   },
   "outputs": [
    {
     "data": {
      "text/html": [
       "<div>\n",
       "<table border=\"1\" class=\"dataframe\">\n",
       "  <thead>\n",
       "    <tr style=\"text-align: right;\">\n",
       "      <th></th>\n",
       "      <th>discovered</th>\n",
       "      <th>passed</th>\n",
       "      <th>started_attempt</th>\n",
       "      <th>viewed</th>\n",
       "      <th>user</th>\n",
       "    </tr>\n",
       "    <tr>\n",
       "      <th>user_id</th>\n",
       "      <th></th>\n",
       "      <th></th>\n",
       "      <th></th>\n",
       "      <th></th>\n",
       "      <th></th>\n",
       "    </tr>\n",
       "  </thead>\n",
       "  <tbody>\n",
       "    <tr>\n",
       "      <th>1</th>\n",
       "      <td>322.0</td>\n",
       "      <td>254.0</td>\n",
       "      <td>0.0</td>\n",
       "      <td>1371.0</td>\n",
       "      <td>1</td>\n",
       "    </tr>\n",
       "    <tr>\n",
       "      <th>2</th>\n",
       "      <td>9.0</td>\n",
       "      <td>9.0</td>\n",
       "      <td>0.0</td>\n",
       "      <td>11.0</td>\n",
       "      <td>2</td>\n",
       "    </tr>\n",
       "    <tr>\n",
       "      <th>3</th>\n",
       "      <td>31.0</td>\n",
       "      <td>31.0</td>\n",
       "      <td>21.0</td>\n",
       "      <td>46.0</td>\n",
       "      <td>3</td>\n",
       "    </tr>\n",
       "    <tr>\n",
       "      <th>4</th>\n",
       "      <td>66.0</td>\n",
       "      <td>66.0</td>\n",
       "      <td>24.0</td>\n",
       "      <td>105.0</td>\n",
       "      <td>4</td>\n",
       "    </tr>\n",
       "  </tbody>\n",
       "</table>\n",
       "</div>"
      ],
      "text/plain": [
       "         discovered  passed  started_attempt  viewed  user\n",
       "user_id                                                   \n",
       "1             322.0   254.0              0.0  1371.0     1\n",
       "2               9.0     9.0              0.0    11.0     2\n",
       "3              31.0    31.0             21.0    46.0     3\n",
       "4              66.0    66.0             24.0   105.0     4"
      ]
     },
     "execution_count": 38,
     "metadata": {},
     "output_type": "execute_result"
    }
   ],
   "source": [
    "A[:4]"
   ]
  },
  {
   "cell_type": "code",
   "execution_count": 39,
   "metadata": {
    "collapsed": true
   },
   "outputs": [],
   "source": [
    "A = pd.concat([A, H],axis=1)"
   ]
  },
  {
   "cell_type": "code",
   "execution_count": 40,
   "metadata": {
    "collapsed": true
   },
   "outputs": [],
   "source": [
    "tmin = pd.DataFrame(tmin)\n",
    "tmin.columns = ['period']"
   ]
  },
  {
   "cell_type": "code",
   "execution_count": 41,
   "metadata": {
    "collapsed": true
   },
   "outputs": [],
   "source": [
    "A = pd.concat([A, tmin],axis=1)"
   ]
  },
  {
   "cell_type": "code",
   "execution_count": 42,
   "metadata": {
    "collapsed": false
   },
   "outputs": [
    {
     "data": {
      "text/html": [
       "<div>\n",
       "<table border=\"1\" class=\"dataframe\">\n",
       "  <thead>\n",
       "    <tr style=\"text-align: right;\">\n",
       "      <th></th>\n",
       "      <th>discovered</th>\n",
       "      <th>passed</th>\n",
       "      <th>started_attempt</th>\n",
       "      <th>viewed</th>\n",
       "      <th>user</th>\n",
       "      <th>choice</th>\n",
       "      <th>code</th>\n",
       "      <th>number</th>\n",
       "      <th>string</th>\n",
       "      <th>text</th>\n",
       "      <th>video</th>\n",
       "      <th>skip</th>\n",
       "      <th>skip_part</th>\n",
       "      <th>period</th>\n",
       "    </tr>\n",
       "    <tr>\n",
       "      <th>user_id</th>\n",
       "      <th></th>\n",
       "      <th></th>\n",
       "      <th></th>\n",
       "      <th></th>\n",
       "      <th></th>\n",
       "      <th></th>\n",
       "      <th></th>\n",
       "      <th></th>\n",
       "      <th></th>\n",
       "      <th></th>\n",
       "      <th></th>\n",
       "      <th></th>\n",
       "      <th></th>\n",
       "      <th></th>\n",
       "    </tr>\n",
       "  </thead>\n",
       "  <tbody>\n",
       "    <tr>\n",
       "      <th>1</th>\n",
       "      <td>322.0</td>\n",
       "      <td>254.0</td>\n",
       "      <td>0.0</td>\n",
       "      <td>1371.0</td>\n",
       "      <td>1</td>\n",
       "      <td>104.0</td>\n",
       "      <td>410.0</td>\n",
       "      <td>34.0</td>\n",
       "      <td>6.0</td>\n",
       "      <td>475.0</td>\n",
       "      <td>918.0</td>\n",
       "      <td>50</td>\n",
       "      <td>0.371287</td>\n",
       "      <td>488967</td>\n",
       "    </tr>\n",
       "    <tr>\n",
       "      <th>2</th>\n",
       "      <td>9.0</td>\n",
       "      <td>9.0</td>\n",
       "      <td>0.0</td>\n",
       "      <td>11.0</td>\n",
       "      <td>2</td>\n",
       "      <td>0.0</td>\n",
       "      <td>0.0</td>\n",
       "      <td>0.0</td>\n",
       "      <td>0.0</td>\n",
       "      <td>14.0</td>\n",
       "      <td>15.0</td>\n",
       "      <td>4</td>\n",
       "      <td>0.887500</td>\n",
       "      <td>97</td>\n",
       "    </tr>\n",
       "    <tr>\n",
       "      <th>3</th>\n",
       "      <td>31.0</td>\n",
       "      <td>31.0</td>\n",
       "      <td>21.0</td>\n",
       "      <td>46.0</td>\n",
       "      <td>3</td>\n",
       "      <td>42.0</td>\n",
       "      <td>8.0</td>\n",
       "      <td>0.0</td>\n",
       "      <td>0.0</td>\n",
       "      <td>72.0</td>\n",
       "      <td>7.0</td>\n",
       "      <td>11</td>\n",
       "      <td>0.915068</td>\n",
       "      <td>413917</td>\n",
       "    </tr>\n",
       "    <tr>\n",
       "      <th>4</th>\n",
       "      <td>66.0</td>\n",
       "      <td>66.0</td>\n",
       "      <td>24.0</td>\n",
       "      <td>105.0</td>\n",
       "      <td>4</td>\n",
       "      <td>49.0</td>\n",
       "      <td>12.0</td>\n",
       "      <td>0.0</td>\n",
       "      <td>0.0</td>\n",
       "      <td>66.0</td>\n",
       "      <td>134.0</td>\n",
       "      <td>1</td>\n",
       "      <td>0.000000</td>\n",
       "      <td>399001</td>\n",
       "    </tr>\n",
       "  </tbody>\n",
       "</table>\n",
       "</div>"
      ],
      "text/plain": [
       "         discovered  passed  started_attempt  viewed  user  choice   code  \\\n",
       "user_id                                                                     \n",
       "1             322.0   254.0              0.0  1371.0     1   104.0  410.0   \n",
       "2               9.0     9.0              0.0    11.0     2     0.0    0.0   \n",
       "3              31.0    31.0             21.0    46.0     3    42.0    8.0   \n",
       "4              66.0    66.0             24.0   105.0     4    49.0   12.0   \n",
       "\n",
       "         number  string   text  video  skip  skip_part  period  \n",
       "user_id                                                         \n",
       "1          34.0     6.0  475.0  918.0    50   0.371287  488967  \n",
       "2           0.0     0.0   14.0   15.0     4   0.887500      97  \n",
       "3           0.0     0.0   72.0    7.0    11   0.915068  413917  \n",
       "4           0.0     0.0   66.0  134.0     1   0.000000  399001  "
      ]
     },
     "execution_count": 42,
     "metadata": {},
     "output_type": "execute_result"
    }
   ],
   "source": [
    "A[:4]"
   ]
  },
  {
   "cell_type": "code",
   "execution_count": 43,
   "metadata": {
    "collapsed": false
   },
   "outputs": [
    {
     "data": {
      "text/plain": [
       "(4211, 7)"
      ]
     },
     "execution_count": 43,
     "metadata": {},
     "output_type": "execute_result"
    }
   ],
   "source": [
    "H_last.shape"
   ]
  },
  {
   "cell_type": "code",
   "execution_count": 44,
   "metadata": {
    "collapsed": false
   },
   "outputs": [
    {
     "data": {
      "text/plain": [
       "(16625, 14)"
      ]
     },
     "execution_count": 44,
     "metadata": {},
     "output_type": "execute_result"
    }
   ],
   "source": [
    "A.shape"
   ]
  },
  {
   "cell_type": "code",
   "execution_count": 45,
   "metadata": {
    "collapsed": true
   },
   "outputs": [],
   "source": [
    "A = pd.merge(A, H_last, left_on='user', right_on='user_last', how='outer')"
   ]
  },
  {
   "cell_type": "code",
   "execution_count": 46,
   "metadata": {
    "collapsed": false
   },
   "outputs": [
    {
     "data": {
      "text/plain": [
       "(16625, 21)"
      ]
     },
     "execution_count": 46,
     "metadata": {},
     "output_type": "execute_result"
    }
   ],
   "source": [
    "A.shape"
   ]
  },
  {
   "cell_type": "code",
   "execution_count": 47,
   "metadata": {
    "collapsed": false
   },
   "outputs": [
    {
     "data": {
      "text/html": [
       "<div>\n",
       "<table border=\"1\" class=\"dataframe\">\n",
       "  <thead>\n",
       "    <tr style=\"text-align: right;\">\n",
       "      <th></th>\n",
       "      <th>discovered</th>\n",
       "      <th>passed</th>\n",
       "      <th>started_attempt</th>\n",
       "      <th>viewed</th>\n",
       "      <th>user</th>\n",
       "      <th>choice_x</th>\n",
       "      <th>code_x</th>\n",
       "      <th>number_x</th>\n",
       "      <th>string_x</th>\n",
       "      <th>text_x</th>\n",
       "      <th>...</th>\n",
       "      <th>skip</th>\n",
       "      <th>skip_part</th>\n",
       "      <th>period</th>\n",
       "      <th>choice_y</th>\n",
       "      <th>code_y</th>\n",
       "      <th>number_y</th>\n",
       "      <th>string_y</th>\n",
       "      <th>text_y</th>\n",
       "      <th>video_y</th>\n",
       "      <th>user_last</th>\n",
       "    </tr>\n",
       "    <tr>\n",
       "      <th>user</th>\n",
       "      <th></th>\n",
       "      <th></th>\n",
       "      <th></th>\n",
       "      <th></th>\n",
       "      <th></th>\n",
       "      <th></th>\n",
       "      <th></th>\n",
       "      <th></th>\n",
       "      <th></th>\n",
       "      <th></th>\n",
       "      <th></th>\n",
       "      <th></th>\n",
       "      <th></th>\n",
       "      <th></th>\n",
       "      <th></th>\n",
       "      <th></th>\n",
       "      <th></th>\n",
       "      <th></th>\n",
       "      <th></th>\n",
       "      <th></th>\n",
       "      <th></th>\n",
       "    </tr>\n",
       "  </thead>\n",
       "  <tbody>\n",
       "    <tr>\n",
       "      <th>1</th>\n",
       "      <td>322.0</td>\n",
       "      <td>254.0</td>\n",
       "      <td>0.0</td>\n",
       "      <td>1371.0</td>\n",
       "      <td>1</td>\n",
       "      <td>104.0</td>\n",
       "      <td>410.0</td>\n",
       "      <td>34.0</td>\n",
       "      <td>6.0</td>\n",
       "      <td>475.0</td>\n",
       "      <td>...</td>\n",
       "      <td>50</td>\n",
       "      <td>0.371287</td>\n",
       "      <td>488967</td>\n",
       "      <td>NaN</td>\n",
       "      <td>NaN</td>\n",
       "      <td>NaN</td>\n",
       "      <td>NaN</td>\n",
       "      <td>NaN</td>\n",
       "      <td>NaN</td>\n",
       "      <td>NaN</td>\n",
       "    </tr>\n",
       "    <tr>\n",
       "      <th>2</th>\n",
       "      <td>9.0</td>\n",
       "      <td>9.0</td>\n",
       "      <td>0.0</td>\n",
       "      <td>11.0</td>\n",
       "      <td>2</td>\n",
       "      <td>0.0</td>\n",
       "      <td>0.0</td>\n",
       "      <td>0.0</td>\n",
       "      <td>0.0</td>\n",
       "      <td>14.0</td>\n",
       "      <td>...</td>\n",
       "      <td>4</td>\n",
       "      <td>0.887500</td>\n",
       "      <td>97</td>\n",
       "      <td>NaN</td>\n",
       "      <td>NaN</td>\n",
       "      <td>NaN</td>\n",
       "      <td>NaN</td>\n",
       "      <td>NaN</td>\n",
       "      <td>NaN</td>\n",
       "      <td>NaN</td>\n",
       "    </tr>\n",
       "    <tr>\n",
       "      <th>3</th>\n",
       "      <td>31.0</td>\n",
       "      <td>31.0</td>\n",
       "      <td>21.0</td>\n",
       "      <td>46.0</td>\n",
       "      <td>3</td>\n",
       "      <td>42.0</td>\n",
       "      <td>8.0</td>\n",
       "      <td>0.0</td>\n",
       "      <td>0.0</td>\n",
       "      <td>72.0</td>\n",
       "      <td>...</td>\n",
       "      <td>11</td>\n",
       "      <td>0.915068</td>\n",
       "      <td>413917</td>\n",
       "      <td>NaN</td>\n",
       "      <td>NaN</td>\n",
       "      <td>NaN</td>\n",
       "      <td>NaN</td>\n",
       "      <td>NaN</td>\n",
       "      <td>NaN</td>\n",
       "      <td>NaN</td>\n",
       "    </tr>\n",
       "    <tr>\n",
       "      <th>4</th>\n",
       "      <td>66.0</td>\n",
       "      <td>66.0</td>\n",
       "      <td>24.0</td>\n",
       "      <td>105.0</td>\n",
       "      <td>4</td>\n",
       "      <td>49.0</td>\n",
       "      <td>12.0</td>\n",
       "      <td>0.0</td>\n",
       "      <td>0.0</td>\n",
       "      <td>66.0</td>\n",
       "      <td>...</td>\n",
       "      <td>1</td>\n",
       "      <td>0.000000</td>\n",
       "      <td>399001</td>\n",
       "      <td>NaN</td>\n",
       "      <td>NaN</td>\n",
       "      <td>NaN</td>\n",
       "      <td>NaN</td>\n",
       "      <td>NaN</td>\n",
       "      <td>NaN</td>\n",
       "      <td>NaN</td>\n",
       "    </tr>\n",
       "    <tr>\n",
       "      <th>6</th>\n",
       "      <td>106.0</td>\n",
       "      <td>106.0</td>\n",
       "      <td>27.0</td>\n",
       "      <td>198.0</td>\n",
       "      <td>6</td>\n",
       "      <td>39.0</td>\n",
       "      <td>65.0</td>\n",
       "      <td>9.0</td>\n",
       "      <td>0.0</td>\n",
       "      <td>120.0</td>\n",
       "      <td>...</td>\n",
       "      <td>1</td>\n",
       "      <td>0.000000</td>\n",
       "      <td>201220</td>\n",
       "      <td>NaN</td>\n",
       "      <td>NaN</td>\n",
       "      <td>NaN</td>\n",
       "      <td>NaN</td>\n",
       "      <td>NaN</td>\n",
       "      <td>NaN</td>\n",
       "      <td>NaN</td>\n",
       "    </tr>\n",
       "    <tr>\n",
       "      <th>7</th>\n",
       "      <td>72.0</td>\n",
       "      <td>64.0</td>\n",
       "      <td>13.0</td>\n",
       "      <td>106.0</td>\n",
       "      <td>7</td>\n",
       "      <td>32.0</td>\n",
       "      <td>20.0</td>\n",
       "      <td>4.0</td>\n",
       "      <td>0.0</td>\n",
       "      <td>87.0</td>\n",
       "      <td>...</td>\n",
       "      <td>14</td>\n",
       "      <td>0.597484</td>\n",
       "      <td>608322</td>\n",
       "      <td>0.0</td>\n",
       "      <td>12.0</td>\n",
       "      <td>4.0</td>\n",
       "      <td>0.0</td>\n",
       "      <td>0.0</td>\n",
       "      <td>0.0</td>\n",
       "      <td>7.0</td>\n",
       "    </tr>\n",
       "    <tr>\n",
       "      <th>8</th>\n",
       "      <td>55.0</td>\n",
       "      <td>55.0</td>\n",
       "      <td>16.0</td>\n",
       "      <td>57.0</td>\n",
       "      <td>8</td>\n",
       "      <td>36.0</td>\n",
       "      <td>8.0</td>\n",
       "      <td>0.0</td>\n",
       "      <td>0.0</td>\n",
       "      <td>48.0</td>\n",
       "      <td>...</td>\n",
       "      <td>1</td>\n",
       "      <td>0.000000</td>\n",
       "      <td>36571</td>\n",
       "      <td>NaN</td>\n",
       "      <td>NaN</td>\n",
       "      <td>NaN</td>\n",
       "      <td>NaN</td>\n",
       "      <td>NaN</td>\n",
       "      <td>NaN</td>\n",
       "      <td>NaN</td>\n",
       "    </tr>\n",
       "  </tbody>\n",
       "</table>\n",
       "<p>7 rows × 21 columns</p>\n",
       "</div>"
      ],
      "text/plain": [
       "      discovered  passed  started_attempt  viewed  user  choice_x  code_x  \\\n",
       "user                                                                        \n",
       "1          322.0   254.0              0.0  1371.0     1     104.0   410.0   \n",
       "2            9.0     9.0              0.0    11.0     2       0.0     0.0   \n",
       "3           31.0    31.0             21.0    46.0     3      42.0     8.0   \n",
       "4           66.0    66.0             24.0   105.0     4      49.0    12.0   \n",
       "6          106.0   106.0             27.0   198.0     6      39.0    65.0   \n",
       "7           72.0    64.0             13.0   106.0     7      32.0    20.0   \n",
       "8           55.0    55.0             16.0    57.0     8      36.0     8.0   \n",
       "\n",
       "      number_x  string_x  text_x    ...      skip  skip_part  period  \\\n",
       "user                                ...                                \n",
       "1         34.0       6.0   475.0    ...        50   0.371287  488967   \n",
       "2          0.0       0.0    14.0    ...         4   0.887500      97   \n",
       "3          0.0       0.0    72.0    ...        11   0.915068  413917   \n",
       "4          0.0       0.0    66.0    ...         1   0.000000  399001   \n",
       "6          9.0       0.0   120.0    ...         1   0.000000  201220   \n",
       "7          4.0       0.0    87.0    ...        14   0.597484  608322   \n",
       "8          0.0       0.0    48.0    ...         1   0.000000   36571   \n",
       "\n",
       "      choice_y  code_y  number_y  string_y  text_y  video_y  user_last  \n",
       "user                                                                    \n",
       "1          NaN     NaN       NaN       NaN     NaN      NaN        NaN  \n",
       "2          NaN     NaN       NaN       NaN     NaN      NaN        NaN  \n",
       "3          NaN     NaN       NaN       NaN     NaN      NaN        NaN  \n",
       "4          NaN     NaN       NaN       NaN     NaN      NaN        NaN  \n",
       "6          NaN     NaN       NaN       NaN     NaN      NaN        NaN  \n",
       "7          0.0    12.0       4.0       0.0     0.0      0.0        7.0  \n",
       "8          NaN     NaN       NaN       NaN     NaN      NaN        NaN  \n",
       "\n",
       "[7 rows x 21 columns]"
      ]
     },
     "execution_count": 47,
     "metadata": {},
     "output_type": "execute_result"
    }
   ],
   "source": [
    "A.index = A.user\n",
    "A[:7]"
   ]
  },
  {
   "cell_type": "code",
   "execution_count": 48,
   "metadata": {
    "collapsed": false
   },
   "outputs": [],
   "source": [
    "sum_score = pasted_events.groupby('user_id')['step_cost'].apply(lambda x: sum(x))\n",
    "sum_score = pd.DataFrame(sum_score)\n",
    "sum_score.columns = ['sum_score']"
   ]
  },
  {
   "cell_type": "code",
   "execution_count": 49,
   "metadata": {
    "collapsed": true
   },
   "outputs": [],
   "source": [
    "A = pd.concat([A, sum_score],axis=1)"
   ]
  },
  {
   "cell_type": "code",
   "execution_count": 50,
   "metadata": {
    "collapsed": true
   },
   "outputs": [],
   "source": [
    "pasted_events_last = events_last_week[events_last_week.action == 'passed']"
   ]
  },
  {
   "cell_type": "code",
   "execution_count": 51,
   "metadata": {
    "collapsed": true
   },
   "outputs": [],
   "source": [
    "sum_score = pasted_events_last.groupby('user_id')['step_cost'].apply(lambda x: sum(x))\n",
    "sum_score = pd.DataFrame(sum_score)\n",
    "sum_score.columns = ['sum_score_last']"
   ]
  },
  {
   "cell_type": "code",
   "execution_count": 52,
   "metadata": {
    "collapsed": false
   },
   "outputs": [
    {
     "data": {
      "text/html": [
       "<div>\n",
       "<table border=\"1\" class=\"dataframe\">\n",
       "  <thead>\n",
       "    <tr style=\"text-align: right;\">\n",
       "      <th></th>\n",
       "      <th>sum_score_last</th>\n",
       "      <th>user</th>\n",
       "    </tr>\n",
       "    <tr>\n",
       "      <th>user_id</th>\n",
       "      <th></th>\n",
       "      <th></th>\n",
       "    </tr>\n",
       "  </thead>\n",
       "  <tbody>\n",
       "    <tr>\n",
       "      <th>7</th>\n",
       "      <td>1</td>\n",
       "      <td>7</td>\n",
       "    </tr>\n",
       "    <tr>\n",
       "      <th>14</th>\n",
       "      <td>11</td>\n",
       "      <td>14</td>\n",
       "    </tr>\n",
       "    <tr>\n",
       "      <th>20</th>\n",
       "      <td>5</td>\n",
       "      <td>20</td>\n",
       "    </tr>\n",
       "    <tr>\n",
       "      <th>22</th>\n",
       "      <td>4</td>\n",
       "      <td>22</td>\n",
       "    </tr>\n",
       "  </tbody>\n",
       "</table>\n",
       "</div>"
      ],
      "text/plain": [
       "         sum_score_last  user\n",
       "user_id                      \n",
       "7                     1     7\n",
       "14                   11    14\n",
       "20                    5    20\n",
       "22                    4    22"
      ]
     },
     "execution_count": 52,
     "metadata": {},
     "output_type": "execute_result"
    }
   ],
   "source": [
    "sum_score['user'] = sum_score.index\n",
    "sum_score[:4]"
   ]
  },
  {
   "cell_type": "code",
   "execution_count": 53,
   "metadata": {
    "collapsed": true
   },
   "outputs": [],
   "source": [
    "A = pd.merge(A, sum_score, left_on='user', right_on='user', how='outer')"
   ]
  },
  {
   "cell_type": "code",
   "execution_count": 54,
   "metadata": {
    "collapsed": false
   },
   "outputs": [
    {
     "data": {
      "text/html": [
       "<div>\n",
       "<table border=\"1\" class=\"dataframe\">\n",
       "  <thead>\n",
       "    <tr style=\"text-align: right;\">\n",
       "      <th></th>\n",
       "      <th>discovered</th>\n",
       "      <th>passed</th>\n",
       "      <th>started_attempt</th>\n",
       "      <th>viewed</th>\n",
       "      <th>user</th>\n",
       "      <th>choice_x</th>\n",
       "      <th>code_x</th>\n",
       "      <th>number_x</th>\n",
       "      <th>string_x</th>\n",
       "      <th>text_x</th>\n",
       "      <th>...</th>\n",
       "      <th>period</th>\n",
       "      <th>choice_y</th>\n",
       "      <th>code_y</th>\n",
       "      <th>number_y</th>\n",
       "      <th>string_y</th>\n",
       "      <th>text_y</th>\n",
       "      <th>video_y</th>\n",
       "      <th>user_last</th>\n",
       "      <th>sum_score</th>\n",
       "      <th>sum_score_last</th>\n",
       "    </tr>\n",
       "  </thead>\n",
       "  <tbody>\n",
       "    <tr>\n",
       "      <th>0</th>\n",
       "      <td>322.0</td>\n",
       "      <td>254.0</td>\n",
       "      <td>0.0</td>\n",
       "      <td>1371.0</td>\n",
       "      <td>1</td>\n",
       "      <td>104.0</td>\n",
       "      <td>410.0</td>\n",
       "      <td>34.0</td>\n",
       "      <td>6.0</td>\n",
       "      <td>475.0</td>\n",
       "      <td>...</td>\n",
       "      <td>488967</td>\n",
       "      <td>NaN</td>\n",
       "      <td>NaN</td>\n",
       "      <td>NaN</td>\n",
       "      <td>NaN</td>\n",
       "      <td>NaN</td>\n",
       "      <td>NaN</td>\n",
       "      <td>NaN</td>\n",
       "      <td>0.0</td>\n",
       "      <td>NaN</td>\n",
       "    </tr>\n",
       "    <tr>\n",
       "      <th>1</th>\n",
       "      <td>9.0</td>\n",
       "      <td>9.0</td>\n",
       "      <td>0.0</td>\n",
       "      <td>11.0</td>\n",
       "      <td>2</td>\n",
       "      <td>0.0</td>\n",
       "      <td>0.0</td>\n",
       "      <td>0.0</td>\n",
       "      <td>0.0</td>\n",
       "      <td>14.0</td>\n",
       "      <td>...</td>\n",
       "      <td>97</td>\n",
       "      <td>NaN</td>\n",
       "      <td>NaN</td>\n",
       "      <td>NaN</td>\n",
       "      <td>NaN</td>\n",
       "      <td>NaN</td>\n",
       "      <td>NaN</td>\n",
       "      <td>NaN</td>\n",
       "      <td>0.0</td>\n",
       "      <td>NaN</td>\n",
       "    </tr>\n",
       "    <tr>\n",
       "      <th>2</th>\n",
       "      <td>31.0</td>\n",
       "      <td>31.0</td>\n",
       "      <td>21.0</td>\n",
       "      <td>46.0</td>\n",
       "      <td>3</td>\n",
       "      <td>42.0</td>\n",
       "      <td>8.0</td>\n",
       "      <td>0.0</td>\n",
       "      <td>0.0</td>\n",
       "      <td>72.0</td>\n",
       "      <td>...</td>\n",
       "      <td>413917</td>\n",
       "      <td>NaN</td>\n",
       "      <td>NaN</td>\n",
       "      <td>NaN</td>\n",
       "      <td>NaN</td>\n",
       "      <td>NaN</td>\n",
       "      <td>NaN</td>\n",
       "      <td>NaN</td>\n",
       "      <td>9.0</td>\n",
       "      <td>NaN</td>\n",
       "    </tr>\n",
       "    <tr>\n",
       "      <th>3</th>\n",
       "      <td>66.0</td>\n",
       "      <td>66.0</td>\n",
       "      <td>24.0</td>\n",
       "      <td>105.0</td>\n",
       "      <td>4</td>\n",
       "      <td>49.0</td>\n",
       "      <td>12.0</td>\n",
       "      <td>0.0</td>\n",
       "      <td>0.0</td>\n",
       "      <td>66.0</td>\n",
       "      <td>...</td>\n",
       "      <td>399001</td>\n",
       "      <td>NaN</td>\n",
       "      <td>NaN</td>\n",
       "      <td>NaN</td>\n",
       "      <td>NaN</td>\n",
       "      <td>NaN</td>\n",
       "      <td>NaN</td>\n",
       "      <td>NaN</td>\n",
       "      <td>9.0</td>\n",
       "      <td>NaN</td>\n",
       "    </tr>\n",
       "    <tr>\n",
       "      <th>4</th>\n",
       "      <td>106.0</td>\n",
       "      <td>106.0</td>\n",
       "      <td>27.0</td>\n",
       "      <td>198.0</td>\n",
       "      <td>6</td>\n",
       "      <td>39.0</td>\n",
       "      <td>65.0</td>\n",
       "      <td>9.0</td>\n",
       "      <td>0.0</td>\n",
       "      <td>120.0</td>\n",
       "      <td>...</td>\n",
       "      <td>201220</td>\n",
       "      <td>NaN</td>\n",
       "      <td>NaN</td>\n",
       "      <td>NaN</td>\n",
       "      <td>NaN</td>\n",
       "      <td>NaN</td>\n",
       "      <td>NaN</td>\n",
       "      <td>NaN</td>\n",
       "      <td>26.0</td>\n",
       "      <td>NaN</td>\n",
       "    </tr>\n",
       "    <tr>\n",
       "      <th>5</th>\n",
       "      <td>72.0</td>\n",
       "      <td>64.0</td>\n",
       "      <td>13.0</td>\n",
       "      <td>106.0</td>\n",
       "      <td>7</td>\n",
       "      <td>32.0</td>\n",
       "      <td>20.0</td>\n",
       "      <td>4.0</td>\n",
       "      <td>0.0</td>\n",
       "      <td>87.0</td>\n",
       "      <td>...</td>\n",
       "      <td>608322</td>\n",
       "      <td>0.0</td>\n",
       "      <td>12.0</td>\n",
       "      <td>4.0</td>\n",
       "      <td>0.0</td>\n",
       "      <td>0.0</td>\n",
       "      <td>0.0</td>\n",
       "      <td>7.0</td>\n",
       "      <td>6.0</td>\n",
       "      <td>1.0</td>\n",
       "    </tr>\n",
       "    <tr>\n",
       "      <th>6</th>\n",
       "      <td>55.0</td>\n",
       "      <td>55.0</td>\n",
       "      <td>16.0</td>\n",
       "      <td>57.0</td>\n",
       "      <td>8</td>\n",
       "      <td>36.0</td>\n",
       "      <td>8.0</td>\n",
       "      <td>0.0</td>\n",
       "      <td>0.0</td>\n",
       "      <td>48.0</td>\n",
       "      <td>...</td>\n",
       "      <td>36571</td>\n",
       "      <td>NaN</td>\n",
       "      <td>NaN</td>\n",
       "      <td>NaN</td>\n",
       "      <td>NaN</td>\n",
       "      <td>NaN</td>\n",
       "      <td>NaN</td>\n",
       "      <td>NaN</td>\n",
       "      <td>9.0</td>\n",
       "      <td>NaN</td>\n",
       "    </tr>\n",
       "  </tbody>\n",
       "</table>\n",
       "<p>7 rows × 23 columns</p>\n",
       "</div>"
      ],
      "text/plain": [
       "   discovered  passed  started_attempt  viewed  user  choice_x  code_x  \\\n",
       "0       322.0   254.0              0.0  1371.0     1     104.0   410.0   \n",
       "1         9.0     9.0              0.0    11.0     2       0.0     0.0   \n",
       "2        31.0    31.0             21.0    46.0     3      42.0     8.0   \n",
       "3        66.0    66.0             24.0   105.0     4      49.0    12.0   \n",
       "4       106.0   106.0             27.0   198.0     6      39.0    65.0   \n",
       "5        72.0    64.0             13.0   106.0     7      32.0    20.0   \n",
       "6        55.0    55.0             16.0    57.0     8      36.0     8.0   \n",
       "\n",
       "   number_x  string_x  text_x       ...        period  choice_y  code_y  \\\n",
       "0      34.0       6.0   475.0       ...        488967       NaN     NaN   \n",
       "1       0.0       0.0    14.0       ...            97       NaN     NaN   \n",
       "2       0.0       0.0    72.0       ...        413917       NaN     NaN   \n",
       "3       0.0       0.0    66.0       ...        399001       NaN     NaN   \n",
       "4       9.0       0.0   120.0       ...        201220       NaN     NaN   \n",
       "5       4.0       0.0    87.0       ...        608322       0.0    12.0   \n",
       "6       0.0       0.0    48.0       ...         36571       NaN     NaN   \n",
       "\n",
       "   number_y  string_y  text_y  video_y  user_last  sum_score  sum_score_last  \n",
       "0       NaN       NaN     NaN      NaN        NaN        0.0             NaN  \n",
       "1       NaN       NaN     NaN      NaN        NaN        0.0             NaN  \n",
       "2       NaN       NaN     NaN      NaN        NaN        9.0             NaN  \n",
       "3       NaN       NaN     NaN      NaN        NaN        9.0             NaN  \n",
       "4       NaN       NaN     NaN      NaN        NaN       26.0             NaN  \n",
       "5       4.0       0.0     0.0      0.0        7.0        6.0             1.0  \n",
       "6       NaN       NaN     NaN      NaN        NaN        9.0             NaN  \n",
       "\n",
       "[7 rows x 23 columns]"
      ]
     },
     "execution_count": 54,
     "metadata": {},
     "output_type": "execute_result"
    }
   ],
   "source": [
    "A[:7]"
   ]
  },
  {
   "cell_type": "code",
   "execution_count": 55,
   "metadata": {
    "collapsed": false
   },
   "outputs": [
    {
     "data": {
      "text/plain": [
       "(16625, 23)"
      ]
     },
     "execution_count": 55,
     "metadata": {},
     "output_type": "execute_result"
    }
   ],
   "source": [
    "A.shape"
   ]
  },
  {
   "cell_type": "code",
   "execution_count": 56,
   "metadata": {
    "collapsed": true
   },
   "outputs": [],
   "source": [
    "A_last = events_last_week.groupby('user_id') \\\n",
    "                    .apply(lambda x: x[['action']].unstack().value_counts()) \\\n",
    "                    .unstack() \\\n",
    "                    .fillna(0)"
   ]
  },
  {
   "cell_type": "code",
   "execution_count": 57,
   "metadata": {
    "collapsed": false
   },
   "outputs": [
    {
     "data": {
      "text/html": [
       "<div>\n",
       "<table border=\"1\" class=\"dataframe\">\n",
       "  <thead>\n",
       "    <tr style=\"text-align: right;\">\n",
       "      <th></th>\n",
       "      <th>discovered</th>\n",
       "      <th>passed</th>\n",
       "      <th>started_attempt</th>\n",
       "      <th>viewed</th>\n",
       "      <th>user</th>\n",
       "    </tr>\n",
       "    <tr>\n",
       "      <th>user_id</th>\n",
       "      <th></th>\n",
       "      <th></th>\n",
       "      <th></th>\n",
       "      <th></th>\n",
       "      <th></th>\n",
       "    </tr>\n",
       "  </thead>\n",
       "  <tbody>\n",
       "    <tr>\n",
       "      <th>7</th>\n",
       "      <td>5.0</td>\n",
       "      <td>1.0</td>\n",
       "      <td>4.0</td>\n",
       "      <td>6.0</td>\n",
       "      <td>7</td>\n",
       "    </tr>\n",
       "    <tr>\n",
       "      <th>13</th>\n",
       "      <td>0.0</td>\n",
       "      <td>0.0</td>\n",
       "      <td>0.0</td>\n",
       "      <td>16.0</td>\n",
       "      <td>13</td>\n",
       "    </tr>\n",
       "    <tr>\n",
       "      <th>14</th>\n",
       "      <td>48.0</td>\n",
       "      <td>47.0</td>\n",
       "      <td>13.0</td>\n",
       "      <td>264.0</td>\n",
       "      <td>14</td>\n",
       "    </tr>\n",
       "    <tr>\n",
       "      <th>17</th>\n",
       "      <td>0.0</td>\n",
       "      <td>0.0</td>\n",
       "      <td>16.0</td>\n",
       "      <td>156.0</td>\n",
       "      <td>17</td>\n",
       "    </tr>\n",
       "  </tbody>\n",
       "</table>\n",
       "</div>"
      ],
      "text/plain": [
       "         discovered  passed  started_attempt  viewed  user\n",
       "user_id                                                   \n",
       "7               5.0     1.0              4.0     6.0     7\n",
       "13              0.0     0.0              0.0    16.0    13\n",
       "14             48.0    47.0             13.0   264.0    14\n",
       "17              0.0     0.0             16.0   156.0    17"
      ]
     },
     "execution_count": 57,
     "metadata": {},
     "output_type": "execute_result"
    }
   ],
   "source": [
    "A_last['user'] = A_last.index\n",
    "A_last[:4]"
   ]
  },
  {
   "cell_type": "code",
   "execution_count": 58,
   "metadata": {
    "collapsed": true
   },
   "outputs": [],
   "source": [
    "A = pd.merge(A, A_last, left_on='user', right_on='user', how='outer')"
   ]
  },
  {
   "cell_type": "code",
   "execution_count": 59,
   "metadata": {
    "collapsed": false
   },
   "outputs": [
    {
     "data": {
      "text/html": [
       "<div>\n",
       "<table border=\"1\" class=\"dataframe\">\n",
       "  <thead>\n",
       "    <tr style=\"text-align: right;\">\n",
       "      <th></th>\n",
       "      <th>discovered_x</th>\n",
       "      <th>passed_x</th>\n",
       "      <th>started_attempt_x</th>\n",
       "      <th>viewed_x</th>\n",
       "      <th>user</th>\n",
       "      <th>choice_x</th>\n",
       "      <th>code_x</th>\n",
       "      <th>number_x</th>\n",
       "      <th>string_x</th>\n",
       "      <th>text_x</th>\n",
       "      <th>...</th>\n",
       "      <th>string_y</th>\n",
       "      <th>text_y</th>\n",
       "      <th>video_y</th>\n",
       "      <th>user_last</th>\n",
       "      <th>sum_score</th>\n",
       "      <th>sum_score_last</th>\n",
       "      <th>discovered_y</th>\n",
       "      <th>passed_y</th>\n",
       "      <th>started_attempt_y</th>\n",
       "      <th>viewed_y</th>\n",
       "    </tr>\n",
       "  </thead>\n",
       "  <tbody>\n",
       "    <tr>\n",
       "      <th>0</th>\n",
       "      <td>322.0</td>\n",
       "      <td>254.0</td>\n",
       "      <td>0.0</td>\n",
       "      <td>1371.0</td>\n",
       "      <td>1</td>\n",
       "      <td>104.0</td>\n",
       "      <td>410.0</td>\n",
       "      <td>34.0</td>\n",
       "      <td>6.0</td>\n",
       "      <td>475.0</td>\n",
       "      <td>...</td>\n",
       "      <td>NaN</td>\n",
       "      <td>NaN</td>\n",
       "      <td>NaN</td>\n",
       "      <td>NaN</td>\n",
       "      <td>0.0</td>\n",
       "      <td>NaN</td>\n",
       "      <td>NaN</td>\n",
       "      <td>NaN</td>\n",
       "      <td>NaN</td>\n",
       "      <td>NaN</td>\n",
       "    </tr>\n",
       "    <tr>\n",
       "      <th>1</th>\n",
       "      <td>9.0</td>\n",
       "      <td>9.0</td>\n",
       "      <td>0.0</td>\n",
       "      <td>11.0</td>\n",
       "      <td>2</td>\n",
       "      <td>0.0</td>\n",
       "      <td>0.0</td>\n",
       "      <td>0.0</td>\n",
       "      <td>0.0</td>\n",
       "      <td>14.0</td>\n",
       "      <td>...</td>\n",
       "      <td>NaN</td>\n",
       "      <td>NaN</td>\n",
       "      <td>NaN</td>\n",
       "      <td>NaN</td>\n",
       "      <td>0.0</td>\n",
       "      <td>NaN</td>\n",
       "      <td>NaN</td>\n",
       "      <td>NaN</td>\n",
       "      <td>NaN</td>\n",
       "      <td>NaN</td>\n",
       "    </tr>\n",
       "    <tr>\n",
       "      <th>2</th>\n",
       "      <td>31.0</td>\n",
       "      <td>31.0</td>\n",
       "      <td>21.0</td>\n",
       "      <td>46.0</td>\n",
       "      <td>3</td>\n",
       "      <td>42.0</td>\n",
       "      <td>8.0</td>\n",
       "      <td>0.0</td>\n",
       "      <td>0.0</td>\n",
       "      <td>72.0</td>\n",
       "      <td>...</td>\n",
       "      <td>NaN</td>\n",
       "      <td>NaN</td>\n",
       "      <td>NaN</td>\n",
       "      <td>NaN</td>\n",
       "      <td>9.0</td>\n",
       "      <td>NaN</td>\n",
       "      <td>NaN</td>\n",
       "      <td>NaN</td>\n",
       "      <td>NaN</td>\n",
       "      <td>NaN</td>\n",
       "    </tr>\n",
       "    <tr>\n",
       "      <th>3</th>\n",
       "      <td>66.0</td>\n",
       "      <td>66.0</td>\n",
       "      <td>24.0</td>\n",
       "      <td>105.0</td>\n",
       "      <td>4</td>\n",
       "      <td>49.0</td>\n",
       "      <td>12.0</td>\n",
       "      <td>0.0</td>\n",
       "      <td>0.0</td>\n",
       "      <td>66.0</td>\n",
       "      <td>...</td>\n",
       "      <td>NaN</td>\n",
       "      <td>NaN</td>\n",
       "      <td>NaN</td>\n",
       "      <td>NaN</td>\n",
       "      <td>9.0</td>\n",
       "      <td>NaN</td>\n",
       "      <td>NaN</td>\n",
       "      <td>NaN</td>\n",
       "      <td>NaN</td>\n",
       "      <td>NaN</td>\n",
       "    </tr>\n",
       "    <tr>\n",
       "      <th>4</th>\n",
       "      <td>106.0</td>\n",
       "      <td>106.0</td>\n",
       "      <td>27.0</td>\n",
       "      <td>198.0</td>\n",
       "      <td>6</td>\n",
       "      <td>39.0</td>\n",
       "      <td>65.0</td>\n",
       "      <td>9.0</td>\n",
       "      <td>0.0</td>\n",
       "      <td>120.0</td>\n",
       "      <td>...</td>\n",
       "      <td>NaN</td>\n",
       "      <td>NaN</td>\n",
       "      <td>NaN</td>\n",
       "      <td>NaN</td>\n",
       "      <td>26.0</td>\n",
       "      <td>NaN</td>\n",
       "      <td>NaN</td>\n",
       "      <td>NaN</td>\n",
       "      <td>NaN</td>\n",
       "      <td>NaN</td>\n",
       "    </tr>\n",
       "    <tr>\n",
       "      <th>5</th>\n",
       "      <td>72.0</td>\n",
       "      <td>64.0</td>\n",
       "      <td>13.0</td>\n",
       "      <td>106.0</td>\n",
       "      <td>7</td>\n",
       "      <td>32.0</td>\n",
       "      <td>20.0</td>\n",
       "      <td>4.0</td>\n",
       "      <td>0.0</td>\n",
       "      <td>87.0</td>\n",
       "      <td>...</td>\n",
       "      <td>0.0</td>\n",
       "      <td>0.0</td>\n",
       "      <td>0.0</td>\n",
       "      <td>7.0</td>\n",
       "      <td>6.0</td>\n",
       "      <td>1.0</td>\n",
       "      <td>5.0</td>\n",
       "      <td>1.0</td>\n",
       "      <td>4.0</td>\n",
       "      <td>6.0</td>\n",
       "    </tr>\n",
       "    <tr>\n",
       "      <th>6</th>\n",
       "      <td>55.0</td>\n",
       "      <td>55.0</td>\n",
       "      <td>16.0</td>\n",
       "      <td>57.0</td>\n",
       "      <td>8</td>\n",
       "      <td>36.0</td>\n",
       "      <td>8.0</td>\n",
       "      <td>0.0</td>\n",
       "      <td>0.0</td>\n",
       "      <td>48.0</td>\n",
       "      <td>...</td>\n",
       "      <td>NaN</td>\n",
       "      <td>NaN</td>\n",
       "      <td>NaN</td>\n",
       "      <td>NaN</td>\n",
       "      <td>9.0</td>\n",
       "      <td>NaN</td>\n",
       "      <td>NaN</td>\n",
       "      <td>NaN</td>\n",
       "      <td>NaN</td>\n",
       "      <td>NaN</td>\n",
       "    </tr>\n",
       "  </tbody>\n",
       "</table>\n",
       "<p>7 rows × 27 columns</p>\n",
       "</div>"
      ],
      "text/plain": [
       "   discovered_x  passed_x  started_attempt_x  viewed_x  user  choice_x  \\\n",
       "0         322.0     254.0                0.0    1371.0     1     104.0   \n",
       "1           9.0       9.0                0.0      11.0     2       0.0   \n",
       "2          31.0      31.0               21.0      46.0     3      42.0   \n",
       "3          66.0      66.0               24.0     105.0     4      49.0   \n",
       "4         106.0     106.0               27.0     198.0     6      39.0   \n",
       "5          72.0      64.0               13.0     106.0     7      32.0   \n",
       "6          55.0      55.0               16.0      57.0     8      36.0   \n",
       "\n",
       "   code_x  number_x  string_x  text_x    ...     string_y  text_y  video_y  \\\n",
       "0   410.0      34.0       6.0   475.0    ...          NaN     NaN      NaN   \n",
       "1     0.0       0.0       0.0    14.0    ...          NaN     NaN      NaN   \n",
       "2     8.0       0.0       0.0    72.0    ...          NaN     NaN      NaN   \n",
       "3    12.0       0.0       0.0    66.0    ...          NaN     NaN      NaN   \n",
       "4    65.0       9.0       0.0   120.0    ...          NaN     NaN      NaN   \n",
       "5    20.0       4.0       0.0    87.0    ...          0.0     0.0      0.0   \n",
       "6     8.0       0.0       0.0    48.0    ...          NaN     NaN      NaN   \n",
       "\n",
       "   user_last  sum_score  sum_score_last  discovered_y  passed_y  \\\n",
       "0        NaN        0.0             NaN           NaN       NaN   \n",
       "1        NaN        0.0             NaN           NaN       NaN   \n",
       "2        NaN        9.0             NaN           NaN       NaN   \n",
       "3        NaN        9.0             NaN           NaN       NaN   \n",
       "4        NaN       26.0             NaN           NaN       NaN   \n",
       "5        7.0        6.0             1.0           5.0       1.0   \n",
       "6        NaN        9.0             NaN           NaN       NaN   \n",
       "\n",
       "   started_attempt_y  viewed_y  \n",
       "0                NaN       NaN  \n",
       "1                NaN       NaN  \n",
       "2                NaN       NaN  \n",
       "3                NaN       NaN  \n",
       "4                NaN       NaN  \n",
       "5                4.0       6.0  \n",
       "6                NaN       NaN  \n",
       "\n",
       "[7 rows x 27 columns]"
      ]
     },
     "execution_count": 59,
     "metadata": {},
     "output_type": "execute_result"
    }
   ],
   "source": [
    "A[:7]"
   ]
  },
  {
   "cell_type": "code",
   "execution_count": 60,
   "metadata": {
    "collapsed": false
   },
   "outputs": [
    {
     "data": {
      "text/plain": [
       "(16625, 27)"
      ]
     },
     "execution_count": 60,
     "metadata": {},
     "output_type": "execute_result"
    }
   ],
   "source": [
    "A.shape"
   ]
  },
  {
   "cell_type": "code",
   "execution_count": 61,
   "metadata": {
    "collapsed": false
   },
   "outputs": [],
   "source": [
    "perc = A.passed_x / A.discovered_x * 1.0\n",
    "perc = pd.DataFrame(perc, columns = ['perc']) \n",
    "A = pd.concat([A, perc],axis=1)\n",
    "A.fillna(0, inplace = True)"
   ]
  },
  {
   "cell_type": "code",
   "execution_count": 62,
   "metadata": {
    "collapsed": false
   },
   "outputs": [
    {
     "data": {
      "text/html": [
       "<div>\n",
       "<table border=\"1\" class=\"dataframe\">\n",
       "  <thead>\n",
       "    <tr style=\"text-align: right;\">\n",
       "      <th></th>\n",
       "      <th>discovered_x</th>\n",
       "      <th>passed_x</th>\n",
       "      <th>started_attempt_x</th>\n",
       "      <th>viewed_x</th>\n",
       "      <th>user</th>\n",
       "      <th>choice_x</th>\n",
       "      <th>code_x</th>\n",
       "      <th>number_x</th>\n",
       "      <th>string_x</th>\n",
       "      <th>text_x</th>\n",
       "      <th>...</th>\n",
       "      <th>text_y</th>\n",
       "      <th>video_y</th>\n",
       "      <th>user_last</th>\n",
       "      <th>sum_score</th>\n",
       "      <th>sum_score_last</th>\n",
       "      <th>discovered_y</th>\n",
       "      <th>passed_y</th>\n",
       "      <th>started_attempt_y</th>\n",
       "      <th>viewed_y</th>\n",
       "      <th>perc</th>\n",
       "    </tr>\n",
       "    <tr>\n",
       "      <th>user</th>\n",
       "      <th></th>\n",
       "      <th></th>\n",
       "      <th></th>\n",
       "      <th></th>\n",
       "      <th></th>\n",
       "      <th></th>\n",
       "      <th></th>\n",
       "      <th></th>\n",
       "      <th></th>\n",
       "      <th></th>\n",
       "      <th></th>\n",
       "      <th></th>\n",
       "      <th></th>\n",
       "      <th></th>\n",
       "      <th></th>\n",
       "      <th></th>\n",
       "      <th></th>\n",
       "      <th></th>\n",
       "      <th></th>\n",
       "      <th></th>\n",
       "      <th></th>\n",
       "    </tr>\n",
       "  </thead>\n",
       "  <tbody>\n",
       "    <tr>\n",
       "      <th>1</th>\n",
       "      <td>322.0</td>\n",
       "      <td>254.0</td>\n",
       "      <td>0.0</td>\n",
       "      <td>1371.0</td>\n",
       "      <td>1</td>\n",
       "      <td>104.0</td>\n",
       "      <td>410.0</td>\n",
       "      <td>34.0</td>\n",
       "      <td>6.0</td>\n",
       "      <td>475.0</td>\n",
       "      <td>...</td>\n",
       "      <td>0.0</td>\n",
       "      <td>0.0</td>\n",
       "      <td>0.0</td>\n",
       "      <td>0.0</td>\n",
       "      <td>0.0</td>\n",
       "      <td>0.0</td>\n",
       "      <td>0.0</td>\n",
       "      <td>0.0</td>\n",
       "      <td>0.0</td>\n",
       "      <td>0.78882</td>\n",
       "    </tr>\n",
       "    <tr>\n",
       "      <th>2</th>\n",
       "      <td>9.0</td>\n",
       "      <td>9.0</td>\n",
       "      <td>0.0</td>\n",
       "      <td>11.0</td>\n",
       "      <td>2</td>\n",
       "      <td>0.0</td>\n",
       "      <td>0.0</td>\n",
       "      <td>0.0</td>\n",
       "      <td>0.0</td>\n",
       "      <td>14.0</td>\n",
       "      <td>...</td>\n",
       "      <td>0.0</td>\n",
       "      <td>0.0</td>\n",
       "      <td>0.0</td>\n",
       "      <td>0.0</td>\n",
       "      <td>0.0</td>\n",
       "      <td>0.0</td>\n",
       "      <td>0.0</td>\n",
       "      <td>0.0</td>\n",
       "      <td>0.0</td>\n",
       "      <td>1.00000</td>\n",
       "    </tr>\n",
       "    <tr>\n",
       "      <th>3</th>\n",
       "      <td>31.0</td>\n",
       "      <td>31.0</td>\n",
       "      <td>21.0</td>\n",
       "      <td>46.0</td>\n",
       "      <td>3</td>\n",
       "      <td>42.0</td>\n",
       "      <td>8.0</td>\n",
       "      <td>0.0</td>\n",
       "      <td>0.0</td>\n",
       "      <td>72.0</td>\n",
       "      <td>...</td>\n",
       "      <td>0.0</td>\n",
       "      <td>0.0</td>\n",
       "      <td>0.0</td>\n",
       "      <td>9.0</td>\n",
       "      <td>0.0</td>\n",
       "      <td>0.0</td>\n",
       "      <td>0.0</td>\n",
       "      <td>0.0</td>\n",
       "      <td>0.0</td>\n",
       "      <td>1.00000</td>\n",
       "    </tr>\n",
       "    <tr>\n",
       "      <th>4</th>\n",
       "      <td>66.0</td>\n",
       "      <td>66.0</td>\n",
       "      <td>24.0</td>\n",
       "      <td>105.0</td>\n",
       "      <td>4</td>\n",
       "      <td>49.0</td>\n",
       "      <td>12.0</td>\n",
       "      <td>0.0</td>\n",
       "      <td>0.0</td>\n",
       "      <td>66.0</td>\n",
       "      <td>...</td>\n",
       "      <td>0.0</td>\n",
       "      <td>0.0</td>\n",
       "      <td>0.0</td>\n",
       "      <td>9.0</td>\n",
       "      <td>0.0</td>\n",
       "      <td>0.0</td>\n",
       "      <td>0.0</td>\n",
       "      <td>0.0</td>\n",
       "      <td>0.0</td>\n",
       "      <td>1.00000</td>\n",
       "    </tr>\n",
       "    <tr>\n",
       "      <th>6</th>\n",
       "      <td>106.0</td>\n",
       "      <td>106.0</td>\n",
       "      <td>27.0</td>\n",
       "      <td>198.0</td>\n",
       "      <td>6</td>\n",
       "      <td>39.0</td>\n",
       "      <td>65.0</td>\n",
       "      <td>9.0</td>\n",
       "      <td>0.0</td>\n",
       "      <td>120.0</td>\n",
       "      <td>...</td>\n",
       "      <td>0.0</td>\n",
       "      <td>0.0</td>\n",
       "      <td>0.0</td>\n",
       "      <td>26.0</td>\n",
       "      <td>0.0</td>\n",
       "      <td>0.0</td>\n",
       "      <td>0.0</td>\n",
       "      <td>0.0</td>\n",
       "      <td>0.0</td>\n",
       "      <td>1.00000</td>\n",
       "    </tr>\n",
       "  </tbody>\n",
       "</table>\n",
       "<p>5 rows × 28 columns</p>\n",
       "</div>"
      ],
      "text/plain": [
       "      discovered_x  passed_x  started_attempt_x  viewed_x  user  choice_x  \\\n",
       "user                                                                        \n",
       "1            322.0     254.0                0.0    1371.0     1     104.0   \n",
       "2              9.0       9.0                0.0      11.0     2       0.0   \n",
       "3             31.0      31.0               21.0      46.0     3      42.0   \n",
       "4             66.0      66.0               24.0     105.0     4      49.0   \n",
       "6            106.0     106.0               27.0     198.0     6      39.0   \n",
       "\n",
       "      code_x  number_x  string_x  text_x   ...     text_y  video_y  user_last  \\\n",
       "user                                       ...                                  \n",
       "1      410.0      34.0       6.0   475.0   ...        0.0      0.0        0.0   \n",
       "2        0.0       0.0       0.0    14.0   ...        0.0      0.0        0.0   \n",
       "3        8.0       0.0       0.0    72.0   ...        0.0      0.0        0.0   \n",
       "4       12.0       0.0       0.0    66.0   ...        0.0      0.0        0.0   \n",
       "6       65.0       9.0       0.0   120.0   ...        0.0      0.0        0.0   \n",
       "\n",
       "      sum_score  sum_score_last  discovered_y  passed_y  started_attempt_y  \\\n",
       "user                                                                         \n",
       "1           0.0             0.0           0.0       0.0                0.0   \n",
       "2           0.0             0.0           0.0       0.0                0.0   \n",
       "3           9.0             0.0           0.0       0.0                0.0   \n",
       "4           9.0             0.0           0.0       0.0                0.0   \n",
       "6          26.0             0.0           0.0       0.0                0.0   \n",
       "\n",
       "      viewed_y     perc  \n",
       "user                     \n",
       "1          0.0  0.78882  \n",
       "2          0.0  1.00000  \n",
       "3          0.0  1.00000  \n",
       "4          0.0  1.00000  \n",
       "6          0.0  1.00000  \n",
       "\n",
       "[5 rows x 28 columns]"
      ]
     },
     "execution_count": 62,
     "metadata": {},
     "output_type": "execute_result"
    }
   ],
   "source": [
    "A.index = A.user\n",
    "A[:5]"
   ]
  },
  {
   "cell_type": "code",
   "execution_count": 63,
   "metadata": {
    "collapsed": false
   },
   "outputs": [],
   "source": [
    "def count_work_5(x):\n",
    "    count = 0\n",
    "    last = -1000000\n",
    "    i = 0\n",
    "    for elem in x:\n",
    "        if i != len(x):\n",
    "            if elem - last > 18000:\n",
    "                count = count + 1\n",
    "        last = elem\n",
    "        i = i + 1\n",
    "    return count"
   ]
  },
  {
   "cell_type": "code",
   "execution_count": 64,
   "metadata": {
    "collapsed": false
   },
   "outputs": [
    {
     "data": {
      "text/plain": [
       "129600"
      ]
     },
     "execution_count": 64,
     "metadata": {},
     "output_type": "execute_result"
    }
   ],
   "source": [
    "3600 * 36"
   ]
  },
  {
   "cell_type": "code",
   "execution_count": 65,
   "metadata": {
    "collapsed": false
   },
   "outputs": [],
   "source": [
    "count_5 = events.groupby('user_id')['time'].apply(lambda x: count_work_5(x))\n",
    "count_5 = pd.DataFrame(count_5)\n",
    "count_5.columns = ['count_5']\n"
   ]
  },
  {
   "cell_type": "code",
   "execution_count": 66,
   "metadata": {
    "collapsed": false
   },
   "outputs": [
    {
     "data": {
      "text/html": [
       "<div>\n",
       "<table border=\"1\" class=\"dataframe\">\n",
       "  <thead>\n",
       "    <tr style=\"text-align: right;\">\n",
       "      <th></th>\n",
       "      <th>count_5</th>\n",
       "    </tr>\n",
       "    <tr>\n",
       "      <th>user_id</th>\n",
       "      <th></th>\n",
       "    </tr>\n",
       "  </thead>\n",
       "  <tbody>\n",
       "    <tr>\n",
       "      <th>1</th>\n",
       "      <td>1</td>\n",
       "    </tr>\n",
       "    <tr>\n",
       "      <th>2</th>\n",
       "      <td>1</td>\n",
       "    </tr>\n",
       "    <tr>\n",
       "      <th>3</th>\n",
       "      <td>3</td>\n",
       "    </tr>\n",
       "    <tr>\n",
       "      <th>4</th>\n",
       "      <td>9</td>\n",
       "    </tr>\n",
       "    <tr>\n",
       "      <th>6</th>\n",
       "      <td>3</td>\n",
       "    </tr>\n",
       "  </tbody>\n",
       "</table>\n",
       "</div>"
      ],
      "text/plain": [
       "         count_5\n",
       "user_id         \n",
       "1              1\n",
       "2              1\n",
       "3              3\n",
       "4              9\n",
       "6              3"
      ]
     },
     "execution_count": 66,
     "metadata": {},
     "output_type": "execute_result"
    }
   ],
   "source": [
    "count_5[:5]"
   ]
  },
  {
   "cell_type": "code",
   "execution_count": 67,
   "metadata": {
    "collapsed": true
   },
   "outputs": [],
   "source": [
    "A = pd.concat([A, count_5],axis=1)"
   ]
  },
  {
   "cell_type": "code",
   "execution_count": 68,
   "metadata": {
    "collapsed": false
   },
   "outputs": [
    {
     "data": {
      "text/plain": [
       "(16625, 29)"
      ]
     },
     "execution_count": 68,
     "metadata": {},
     "output_type": "execute_result"
    }
   ],
   "source": [
    "A.shape"
   ]
  },
  {
   "cell_type": "code",
   "execution_count": 192,
   "metadata": {
    "collapsed": false
   },
   "outputs": [
    {
     "data": {
      "text/html": [
       "<div>\n",
       "<table border=\"1\" class=\"dataframe\">\n",
       "  <thead>\n",
       "    <tr style=\"text-align: right;\">\n",
       "      <th></th>\n",
       "      <th>discovered_x</th>\n",
       "      <th>passed_x</th>\n",
       "      <th>started_attempt_x</th>\n",
       "      <th>viewed_x</th>\n",
       "      <th>choice_x</th>\n",
       "      <th>code_x</th>\n",
       "      <th>number_x</th>\n",
       "      <th>string_x</th>\n",
       "      <th>text_x</th>\n",
       "      <th>video_x</th>\n",
       "      <th>...</th>\n",
       "      <th>sum_score</th>\n",
       "      <th>sum_score_last</th>\n",
       "      <th>discovered_y</th>\n",
       "      <th>passed_y</th>\n",
       "      <th>started_attempt_y</th>\n",
       "      <th>viewed_y</th>\n",
       "      <th>perc</th>\n",
       "      <th>count_5</th>\n",
       "      <th>time_period</th>\n",
       "      <th>time_sum</th>\n",
       "    </tr>\n",
       "    <tr>\n",
       "      <th>user</th>\n",
       "      <th></th>\n",
       "      <th></th>\n",
       "      <th></th>\n",
       "      <th></th>\n",
       "      <th></th>\n",
       "      <th></th>\n",
       "      <th></th>\n",
       "      <th></th>\n",
       "      <th></th>\n",
       "      <th></th>\n",
       "      <th></th>\n",
       "      <th></th>\n",
       "      <th></th>\n",
       "      <th></th>\n",
       "      <th></th>\n",
       "      <th></th>\n",
       "      <th></th>\n",
       "      <th></th>\n",
       "      <th></th>\n",
       "      <th></th>\n",
       "      <th></th>\n",
       "    </tr>\n",
       "  </thead>\n",
       "  <tbody>\n",
       "    <tr>\n",
       "      <th>176</th>\n",
       "      <td>324.0</td>\n",
       "      <td>323.0</td>\n",
       "      <td>89.0</td>\n",
       "      <td>520.0</td>\n",
       "      <td>99.0</td>\n",
       "      <td>186.0</td>\n",
       "      <td>32.0</td>\n",
       "      <td>6.0</td>\n",
       "      <td>260.0</td>\n",
       "      <td>673.0</td>\n",
       "      <td>...</td>\n",
       "      <td>101.0</td>\n",
       "      <td>12.0</td>\n",
       "      <td>29.0</td>\n",
       "      <td>29.0</td>\n",
       "      <td>9.0</td>\n",
       "      <td>61.0</td>\n",
       "      <td>0.996914</td>\n",
       "      <td>14</td>\n",
       "      <td>13886.0</td>\n",
       "      <td>194406.0</td>\n",
       "    </tr>\n",
       "    <tr>\n",
       "      <th>309</th>\n",
       "      <td>339.0</td>\n",
       "      <td>337.0</td>\n",
       "      <td>83.0</td>\n",
       "      <td>388.0</td>\n",
       "      <td>87.0</td>\n",
       "      <td>186.0</td>\n",
       "      <td>34.0</td>\n",
       "      <td>5.0</td>\n",
       "      <td>235.0</td>\n",
       "      <td>600.0</td>\n",
       "      <td>...</td>\n",
       "      <td>109.0</td>\n",
       "      <td>41.0</td>\n",
       "      <td>92.0</td>\n",
       "      <td>92.0</td>\n",
       "      <td>30.0</td>\n",
       "      <td>119.0</td>\n",
       "      <td>0.994100</td>\n",
       "      <td>11</td>\n",
       "      <td>14516.0</td>\n",
       "      <td>159682.0</td>\n",
       "    </tr>\n",
       "    <tr>\n",
       "      <th>698</th>\n",
       "      <td>333.0</td>\n",
       "      <td>330.0</td>\n",
       "      <td>137.0</td>\n",
       "      <td>729.0</td>\n",
       "      <td>157.0</td>\n",
       "      <td>271.0</td>\n",
       "      <td>33.0</td>\n",
       "      <td>7.0</td>\n",
       "      <td>339.0</td>\n",
       "      <td>722.0</td>\n",
       "      <td>...</td>\n",
       "      <td>102.0</td>\n",
       "      <td>42.0</td>\n",
       "      <td>110.0</td>\n",
       "      <td>107.0</td>\n",
       "      <td>69.0</td>\n",
       "      <td>340.0</td>\n",
       "      <td>0.990991</td>\n",
       "      <td>17</td>\n",
       "      <td>16165.0</td>\n",
       "      <td>274817.0</td>\n",
       "    </tr>\n",
       "    <tr>\n",
       "      <th>961</th>\n",
       "      <td>354.0</td>\n",
       "      <td>354.0</td>\n",
       "      <td>99.0</td>\n",
       "      <td>579.0</td>\n",
       "      <td>89.0</td>\n",
       "      <td>289.0</td>\n",
       "      <td>32.0</td>\n",
       "      <td>5.0</td>\n",
       "      <td>280.0</td>\n",
       "      <td>691.0</td>\n",
       "      <td>...</td>\n",
       "      <td>119.0</td>\n",
       "      <td>0.0</td>\n",
       "      <td>0.0</td>\n",
       "      <td>0.0</td>\n",
       "      <td>0.0</td>\n",
       "      <td>1.0</td>\n",
       "      <td>1.000000</td>\n",
       "      <td>9</td>\n",
       "      <td>26752.0</td>\n",
       "      <td>240771.0</td>\n",
       "    </tr>\n",
       "    <tr>\n",
       "      <th>2224</th>\n",
       "      <td>317.0</td>\n",
       "      <td>322.0</td>\n",
       "      <td>126.0</td>\n",
       "      <td>688.0</td>\n",
       "      <td>121.0</td>\n",
       "      <td>235.0</td>\n",
       "      <td>33.0</td>\n",
       "      <td>4.0</td>\n",
       "      <td>289.0</td>\n",
       "      <td>771.0</td>\n",
       "      <td>...</td>\n",
       "      <td>95.0</td>\n",
       "      <td>31.0</td>\n",
       "      <td>85.0</td>\n",
       "      <td>88.0</td>\n",
       "      <td>32.0</td>\n",
       "      <td>208.0</td>\n",
       "      <td>1.015773</td>\n",
       "      <td>17</td>\n",
       "      <td>20990.0</td>\n",
       "      <td>356842.0</td>\n",
       "    </tr>\n",
       "    <tr>\n",
       "      <th>3092</th>\n",
       "      <td>354.0</td>\n",
       "      <td>354.0</td>\n",
       "      <td>94.0</td>\n",
       "      <td>475.0</td>\n",
       "      <td>95.0</td>\n",
       "      <td>198.0</td>\n",
       "      <td>32.0</td>\n",
       "      <td>4.0</td>\n",
       "      <td>306.0</td>\n",
       "      <td>642.0</td>\n",
       "      <td>...</td>\n",
       "      <td>119.0</td>\n",
       "      <td>0.0</td>\n",
       "      <td>0.0</td>\n",
       "      <td>0.0</td>\n",
       "      <td>0.0</td>\n",
       "      <td>0.0</td>\n",
       "      <td>1.000000</td>\n",
       "      <td>9</td>\n",
       "      <td>19568.0</td>\n",
       "      <td>176119.0</td>\n",
       "    </tr>\n",
       "    <tr>\n",
       "      <th>3337</th>\n",
       "      <td>308.0</td>\n",
       "      <td>305.0</td>\n",
       "      <td>93.0</td>\n",
       "      <td>475.0</td>\n",
       "      <td>124.0</td>\n",
       "      <td>190.0</td>\n",
       "      <td>36.0</td>\n",
       "      <td>5.0</td>\n",
       "      <td>236.0</td>\n",
       "      <td>590.0</td>\n",
       "      <td>...</td>\n",
       "      <td>96.0</td>\n",
       "      <td>0.0</td>\n",
       "      <td>0.0</td>\n",
       "      <td>0.0</td>\n",
       "      <td>0.0</td>\n",
       "      <td>0.0</td>\n",
       "      <td>0.990260</td>\n",
       "      <td>10</td>\n",
       "      <td>14998.0</td>\n",
       "      <td>149982.0</td>\n",
       "    </tr>\n",
       "    <tr>\n",
       "      <th>4814</th>\n",
       "      <td>337.0</td>\n",
       "      <td>334.0</td>\n",
       "      <td>139.0</td>\n",
       "      <td>532.0</td>\n",
       "      <td>143.0</td>\n",
       "      <td>248.0</td>\n",
       "      <td>47.0</td>\n",
       "      <td>8.0</td>\n",
       "      <td>283.0</td>\n",
       "      <td>613.0</td>\n",
       "      <td>...</td>\n",
       "      <td>115.0</td>\n",
       "      <td>36.0</td>\n",
       "      <td>65.0</td>\n",
       "      <td>68.0</td>\n",
       "      <td>48.0</td>\n",
       "      <td>160.0</td>\n",
       "      <td>0.991098</td>\n",
       "      <td>11</td>\n",
       "      <td>19154.0</td>\n",
       "      <td>210701.0</td>\n",
       "    </tr>\n",
       "    <tr>\n",
       "      <th>4818</th>\n",
       "      <td>354.0</td>\n",
       "      <td>354.0</td>\n",
       "      <td>97.0</td>\n",
       "      <td>529.0</td>\n",
       "      <td>104.0</td>\n",
       "      <td>221.0</td>\n",
       "      <td>34.0</td>\n",
       "      <td>4.0</td>\n",
       "      <td>277.0</td>\n",
       "      <td>694.0</td>\n",
       "      <td>...</td>\n",
       "      <td>119.0</td>\n",
       "      <td>0.0</td>\n",
       "      <td>0.0</td>\n",
       "      <td>0.0</td>\n",
       "      <td>0.0</td>\n",
       "      <td>0.0</td>\n",
       "      <td>1.000000</td>\n",
       "      <td>8</td>\n",
       "      <td>19766.0</td>\n",
       "      <td>158133.0</td>\n",
       "    </tr>\n",
       "    <tr>\n",
       "      <th>5133</th>\n",
       "      <td>115.0</td>\n",
       "      <td>114.0</td>\n",
       "      <td>129.0</td>\n",
       "      <td>164.0</td>\n",
       "      <td>118.0</td>\n",
       "      <td>226.0</td>\n",
       "      <td>32.0</td>\n",
       "      <td>5.0</td>\n",
       "      <td>126.0</td>\n",
       "      <td>15.0</td>\n",
       "      <td>...</td>\n",
       "      <td>115.0</td>\n",
       "      <td>0.0</td>\n",
       "      <td>0.0</td>\n",
       "      <td>0.0</td>\n",
       "      <td>0.0</td>\n",
       "      <td>0.0</td>\n",
       "      <td>0.991304</td>\n",
       "      <td>2</td>\n",
       "      <td>26764.0</td>\n",
       "      <td>53529.0</td>\n",
       "    </tr>\n",
       "    <tr>\n",
       "      <th>5141</th>\n",
       "      <td>354.0</td>\n",
       "      <td>354.0</td>\n",
       "      <td>111.0</td>\n",
       "      <td>474.0</td>\n",
       "      <td>113.0</td>\n",
       "      <td>239.0</td>\n",
       "      <td>33.0</td>\n",
       "      <td>4.0</td>\n",
       "      <td>280.0</td>\n",
       "      <td>624.0</td>\n",
       "      <td>...</td>\n",
       "      <td>119.0</td>\n",
       "      <td>0.0</td>\n",
       "      <td>0.0</td>\n",
       "      <td>0.0</td>\n",
       "      <td>0.0</td>\n",
       "      <td>0.0</td>\n",
       "      <td>1.000000</td>\n",
       "      <td>2</td>\n",
       "      <td>24695.0</td>\n",
       "      <td>49391.0</td>\n",
       "    </tr>\n",
       "    <tr>\n",
       "      <th>5657</th>\n",
       "      <td>351.0</td>\n",
       "      <td>348.0</td>\n",
       "      <td>93.0</td>\n",
       "      <td>443.0</td>\n",
       "      <td>93.0</td>\n",
       "      <td>204.0</td>\n",
       "      <td>32.0</td>\n",
       "      <td>4.0</td>\n",
       "      <td>235.0</td>\n",
       "      <td>667.0</td>\n",
       "      <td>...</td>\n",
       "      <td>109.0</td>\n",
       "      <td>0.0</td>\n",
       "      <td>0.0</td>\n",
       "      <td>0.0</td>\n",
       "      <td>0.0</td>\n",
       "      <td>0.0</td>\n",
       "      <td>0.991453</td>\n",
       "      <td>10</td>\n",
       "      <td>19794.0</td>\n",
       "      <td>197944.0</td>\n",
       "    </tr>\n",
       "  </tbody>\n",
       "</table>\n",
       "<p>12 rows × 29 columns</p>\n",
       "</div>"
      ],
      "text/plain": [
       "      discovered_x  passed_x  started_attempt_x  viewed_x  choice_x  code_x  \\\n",
       "user                                                                          \n",
       "176          324.0     323.0               89.0     520.0      99.0   186.0   \n",
       "309          339.0     337.0               83.0     388.0      87.0   186.0   \n",
       "698          333.0     330.0              137.0     729.0     157.0   271.0   \n",
       "961          354.0     354.0               99.0     579.0      89.0   289.0   \n",
       "2224         317.0     322.0              126.0     688.0     121.0   235.0   \n",
       "3092         354.0     354.0               94.0     475.0      95.0   198.0   \n",
       "3337         308.0     305.0               93.0     475.0     124.0   190.0   \n",
       "4814         337.0     334.0              139.0     532.0     143.0   248.0   \n",
       "4818         354.0     354.0               97.0     529.0     104.0   221.0   \n",
       "5133         115.0     114.0              129.0     164.0     118.0   226.0   \n",
       "5141         354.0     354.0              111.0     474.0     113.0   239.0   \n",
       "5657         351.0     348.0               93.0     443.0      93.0   204.0   \n",
       "\n",
       "      number_x  string_x  text_x  video_x    ...     sum_score  \\\n",
       "user                                         ...                 \n",
       "176       32.0       6.0   260.0    673.0    ...         101.0   \n",
       "309       34.0       5.0   235.0    600.0    ...         109.0   \n",
       "698       33.0       7.0   339.0    722.0    ...         102.0   \n",
       "961       32.0       5.0   280.0    691.0    ...         119.0   \n",
       "2224      33.0       4.0   289.0    771.0    ...          95.0   \n",
       "3092      32.0       4.0   306.0    642.0    ...         119.0   \n",
       "3337      36.0       5.0   236.0    590.0    ...          96.0   \n",
       "4814      47.0       8.0   283.0    613.0    ...         115.0   \n",
       "4818      34.0       4.0   277.0    694.0    ...         119.0   \n",
       "5133      32.0       5.0   126.0     15.0    ...         115.0   \n",
       "5141      33.0       4.0   280.0    624.0    ...         119.0   \n",
       "5657      32.0       4.0   235.0    667.0    ...         109.0   \n",
       "\n",
       "      sum_score_last  discovered_y  passed_y  started_attempt_y  viewed_y  \\\n",
       "user                                                                        \n",
       "176             12.0          29.0      29.0                9.0      61.0   \n",
       "309             41.0          92.0      92.0               30.0     119.0   \n",
       "698             42.0         110.0     107.0               69.0     340.0   \n",
       "961              0.0           0.0       0.0                0.0       1.0   \n",
       "2224            31.0          85.0      88.0               32.0     208.0   \n",
       "3092             0.0           0.0       0.0                0.0       0.0   \n",
       "3337             0.0           0.0       0.0                0.0       0.0   \n",
       "4814            36.0          65.0      68.0               48.0     160.0   \n",
       "4818             0.0           0.0       0.0                0.0       0.0   \n",
       "5133             0.0           0.0       0.0                0.0       0.0   \n",
       "5141             0.0           0.0       0.0                0.0       0.0   \n",
       "5657             0.0           0.0       0.0                0.0       0.0   \n",
       "\n",
       "          perc  count_5  time_period  time_sum  \n",
       "user                                            \n",
       "176   0.996914       14      13886.0  194406.0  \n",
       "309   0.994100       11      14516.0  159682.0  \n",
       "698   0.990991       17      16165.0  274817.0  \n",
       "961   1.000000        9      26752.0  240771.0  \n",
       "2224  1.015773       17      20990.0  356842.0  \n",
       "3092  1.000000        9      19568.0  176119.0  \n",
       "3337  0.990260       10      14998.0  149982.0  \n",
       "4814  0.991098       11      19154.0  210701.0  \n",
       "4818  1.000000        8      19766.0  158133.0  \n",
       "5133  0.991304        2      26764.0   53529.0  \n",
       "5141  1.000000        2      24695.0   49391.0  \n",
       "5657  0.991453       10      19794.0  197944.0  \n",
       "\n",
       "[12 rows x 29 columns]"
      ]
     },
     "execution_count": 192,
     "metadata": {},
     "output_type": "execute_result"
    }
   ],
   "source": [
    "A[A.sum_score > 91]"
   ]
  },
  {
   "cell_type": "code",
   "execution_count": 70,
   "metadata": {
    "collapsed": true
   },
   "outputs": [],
   "source": [
    "def ave_time(x):\n",
    "    count = 1\n",
    "    last = 0\n",
    "    i = 0\n",
    "    start = 0\n",
    "    end = 0\n",
    "    ave_sum = 0\n",
    "    for elem in x:\n",
    "        if i != len(x):\n",
    "            if i == 0:\n",
    "                start = elem\n",
    "                last = elem\n",
    "            else:\n",
    "                if elem - last > 18000:\n",
    "                    end = last\n",
    "                    ave_sum += (end - start)\n",
    "                    start = elem\n",
    "                    count = count + 1 \n",
    "        last = elem\n",
    "        i = i + 1\n",
    "    t = ave_sum / count * 1.0\n",
    "    return t"
   ]
  },
  {
   "cell_type": "code",
   "execution_count": 72,
   "metadata": {
    "collapsed": false
   },
   "outputs": [
    {
     "data": {
      "text/plain": [
       "18000"
      ]
     },
     "execution_count": 72,
     "metadata": {},
     "output_type": "execute_result"
    }
   ],
   "source": [
    "3600*5"
   ]
  },
  {
   "cell_type": "code",
   "execution_count": 73,
   "metadata": {
    "collapsed": false
   },
   "outputs": [],
   "source": [
    "time_period = events.groupby('user_id')['time'].apply(lambda x: ave_time(x))\n",
    "time_period = pd.DataFrame(time_period)\n",
    "time_period.columns = ['time_period']"
   ]
  },
  {
   "cell_type": "code",
   "execution_count": 74,
   "metadata": {
    "collapsed": false
   },
   "outputs": [],
   "source": [
    "A = pd.concat([A, time_period],axis=1)"
   ]
  },
  {
   "cell_type": "code",
   "execution_count": 76,
   "metadata": {
    "collapsed": false
   },
   "outputs": [
    {
     "data": {
      "text/plain": [
       "(16625, 31)"
      ]
     },
     "execution_count": 76,
     "metadata": {},
     "output_type": "execute_result"
    }
   ],
   "source": [
    "A.shape"
   ]
  },
  {
   "cell_type": "code",
   "execution_count": 77,
   "metadata": {
    "collapsed": false
   },
   "outputs": [
    {
     "data": {
      "text/html": [
       "<div>\n",
       "<table border=\"1\" class=\"dataframe\">\n",
       "  <thead>\n",
       "    <tr style=\"text-align: right;\">\n",
       "      <th></th>\n",
       "      <th>discovered_x</th>\n",
       "      <th>passed_x</th>\n",
       "      <th>started_attempt_x</th>\n",
       "      <th>viewed_x</th>\n",
       "      <th>user</th>\n",
       "      <th>choice_x</th>\n",
       "      <th>code_x</th>\n",
       "      <th>number_x</th>\n",
       "      <th>string_x</th>\n",
       "      <th>text_x</th>\n",
       "      <th>...</th>\n",
       "      <th>sum_score</th>\n",
       "      <th>sum_score_last</th>\n",
       "      <th>discovered_y</th>\n",
       "      <th>passed_y</th>\n",
       "      <th>started_attempt_y</th>\n",
       "      <th>viewed_y</th>\n",
       "      <th>perc</th>\n",
       "      <th>count_5</th>\n",
       "      <th>time_period</th>\n",
       "      <th>time_sum</th>\n",
       "    </tr>\n",
       "    <tr>\n",
       "      <th>user</th>\n",
       "      <th></th>\n",
       "      <th></th>\n",
       "      <th></th>\n",
       "      <th></th>\n",
       "      <th></th>\n",
       "      <th></th>\n",
       "      <th></th>\n",
       "      <th></th>\n",
       "      <th></th>\n",
       "      <th></th>\n",
       "      <th></th>\n",
       "      <th></th>\n",
       "      <th></th>\n",
       "      <th></th>\n",
       "      <th></th>\n",
       "      <th></th>\n",
       "      <th></th>\n",
       "      <th></th>\n",
       "      <th></th>\n",
       "      <th></th>\n",
       "      <th></th>\n",
       "    </tr>\n",
       "  </thead>\n",
       "  <tbody>\n",
       "    <tr>\n",
       "      <th>1</th>\n",
       "      <td>322.0</td>\n",
       "      <td>254.0</td>\n",
       "      <td>0.0</td>\n",
       "      <td>1371.0</td>\n",
       "      <td>1</td>\n",
       "      <td>104.0</td>\n",
       "      <td>410.0</td>\n",
       "      <td>34.0</td>\n",
       "      <td>6.0</td>\n",
       "      <td>475.0</td>\n",
       "      <td>...</td>\n",
       "      <td>0.0</td>\n",
       "      <td>0.0</td>\n",
       "      <td>0.0</td>\n",
       "      <td>0.0</td>\n",
       "      <td>0.0</td>\n",
       "      <td>0.0</td>\n",
       "      <td>0.788820</td>\n",
       "      <td>1</td>\n",
       "      <td>0.0</td>\n",
       "      <td>0.0</td>\n",
       "    </tr>\n",
       "    <tr>\n",
       "      <th>2</th>\n",
       "      <td>9.0</td>\n",
       "      <td>9.0</td>\n",
       "      <td>0.0</td>\n",
       "      <td>11.0</td>\n",
       "      <td>2</td>\n",
       "      <td>0.0</td>\n",
       "      <td>0.0</td>\n",
       "      <td>0.0</td>\n",
       "      <td>0.0</td>\n",
       "      <td>14.0</td>\n",
       "      <td>...</td>\n",
       "      <td>0.0</td>\n",
       "      <td>0.0</td>\n",
       "      <td>0.0</td>\n",
       "      <td>0.0</td>\n",
       "      <td>0.0</td>\n",
       "      <td>0.0</td>\n",
       "      <td>1.000000</td>\n",
       "      <td>1</td>\n",
       "      <td>0.0</td>\n",
       "      <td>0.0</td>\n",
       "    </tr>\n",
       "    <tr>\n",
       "      <th>3</th>\n",
       "      <td>31.0</td>\n",
       "      <td>31.0</td>\n",
       "      <td>21.0</td>\n",
       "      <td>46.0</td>\n",
       "      <td>3</td>\n",
       "      <td>42.0</td>\n",
       "      <td>8.0</td>\n",
       "      <td>0.0</td>\n",
       "      <td>0.0</td>\n",
       "      <td>72.0</td>\n",
       "      <td>...</td>\n",
       "      <td>9.0</td>\n",
       "      <td>0.0</td>\n",
       "      <td>0.0</td>\n",
       "      <td>0.0</td>\n",
       "      <td>0.0</td>\n",
       "      <td>0.0</td>\n",
       "      <td>1.000000</td>\n",
       "      <td>3</td>\n",
       "      <td>1196.0</td>\n",
       "      <td>3590.0</td>\n",
       "    </tr>\n",
       "    <tr>\n",
       "      <th>4</th>\n",
       "      <td>66.0</td>\n",
       "      <td>66.0</td>\n",
       "      <td>24.0</td>\n",
       "      <td>105.0</td>\n",
       "      <td>4</td>\n",
       "      <td>49.0</td>\n",
       "      <td>12.0</td>\n",
       "      <td>0.0</td>\n",
       "      <td>0.0</td>\n",
       "      <td>66.0</td>\n",
       "      <td>...</td>\n",
       "      <td>9.0</td>\n",
       "      <td>0.0</td>\n",
       "      <td>0.0</td>\n",
       "      <td>0.0</td>\n",
       "      <td>0.0</td>\n",
       "      <td>0.0</td>\n",
       "      <td>1.000000</td>\n",
       "      <td>9</td>\n",
       "      <td>4877.0</td>\n",
       "      <td>43894.0</td>\n",
       "    </tr>\n",
       "    <tr>\n",
       "      <th>6</th>\n",
       "      <td>106.0</td>\n",
       "      <td>106.0</td>\n",
       "      <td>27.0</td>\n",
       "      <td>198.0</td>\n",
       "      <td>6</td>\n",
       "      <td>39.0</td>\n",
       "      <td>65.0</td>\n",
       "      <td>9.0</td>\n",
       "      <td>0.0</td>\n",
       "      <td>120.0</td>\n",
       "      <td>...</td>\n",
       "      <td>26.0</td>\n",
       "      <td>0.0</td>\n",
       "      <td>0.0</td>\n",
       "      <td>0.0</td>\n",
       "      <td>0.0</td>\n",
       "      <td>0.0</td>\n",
       "      <td>1.000000</td>\n",
       "      <td>3</td>\n",
       "      <td>5829.0</td>\n",
       "      <td>17487.0</td>\n",
       "    </tr>\n",
       "    <tr>\n",
       "      <th>7</th>\n",
       "      <td>72.0</td>\n",
       "      <td>64.0</td>\n",
       "      <td>13.0</td>\n",
       "      <td>106.0</td>\n",
       "      <td>7</td>\n",
       "      <td>32.0</td>\n",
       "      <td>20.0</td>\n",
       "      <td>4.0</td>\n",
       "      <td>0.0</td>\n",
       "      <td>87.0</td>\n",
       "      <td>...</td>\n",
       "      <td>6.0</td>\n",
       "      <td>1.0</td>\n",
       "      <td>5.0</td>\n",
       "      <td>1.0</td>\n",
       "      <td>4.0</td>\n",
       "      <td>6.0</td>\n",
       "      <td>0.888889</td>\n",
       "      <td>4</td>\n",
       "      <td>2480.0</td>\n",
       "      <td>9921.0</td>\n",
       "    </tr>\n",
       "    <tr>\n",
       "      <th>8</th>\n",
       "      <td>55.0</td>\n",
       "      <td>55.0</td>\n",
       "      <td>16.0</td>\n",
       "      <td>57.0</td>\n",
       "      <td>8</td>\n",
       "      <td>36.0</td>\n",
       "      <td>8.0</td>\n",
       "      <td>0.0</td>\n",
       "      <td>0.0</td>\n",
       "      <td>48.0</td>\n",
       "      <td>...</td>\n",
       "      <td>9.0</td>\n",
       "      <td>0.0</td>\n",
       "      <td>0.0</td>\n",
       "      <td>0.0</td>\n",
       "      <td>0.0</td>\n",
       "      <td>0.0</td>\n",
       "      <td>1.000000</td>\n",
       "      <td>2</td>\n",
       "      <td>154.0</td>\n",
       "      <td>309.0</td>\n",
       "    </tr>\n",
       "    <tr>\n",
       "      <th>10</th>\n",
       "      <td>28.0</td>\n",
       "      <td>28.0</td>\n",
       "      <td>7.0</td>\n",
       "      <td>33.0</td>\n",
       "      <td>10</td>\n",
       "      <td>18.0</td>\n",
       "      <td>0.0</td>\n",
       "      <td>0.0</td>\n",
       "      <td>0.0</td>\n",
       "      <td>35.0</td>\n",
       "      <td>...</td>\n",
       "      <td>3.0</td>\n",
       "      <td>0.0</td>\n",
       "      <td>0.0</td>\n",
       "      <td>0.0</td>\n",
       "      <td>0.0</td>\n",
       "      <td>0.0</td>\n",
       "      <td>1.000000</td>\n",
       "      <td>1</td>\n",
       "      <td>0.0</td>\n",
       "      <td>0.0</td>\n",
       "    </tr>\n",
       "    <tr>\n",
       "      <th>11</th>\n",
       "      <td>1.0</td>\n",
       "      <td>1.0</td>\n",
       "      <td>0.0</td>\n",
       "      <td>1.0</td>\n",
       "      <td>11</td>\n",
       "      <td>0.0</td>\n",
       "      <td>0.0</td>\n",
       "      <td>0.0</td>\n",
       "      <td>0.0</td>\n",
       "      <td>3.0</td>\n",
       "      <td>...</td>\n",
       "      <td>0.0</td>\n",
       "      <td>0.0</td>\n",
       "      <td>0.0</td>\n",
       "      <td>0.0</td>\n",
       "      <td>0.0</td>\n",
       "      <td>0.0</td>\n",
       "      <td>1.000000</td>\n",
       "      <td>1</td>\n",
       "      <td>0.0</td>\n",
       "      <td>0.0</td>\n",
       "    </tr>\n",
       "    <tr>\n",
       "      <th>12</th>\n",
       "      <td>11.0</td>\n",
       "      <td>10.0</td>\n",
       "      <td>1.0</td>\n",
       "      <td>14.0</td>\n",
       "      <td>12</td>\n",
       "      <td>0.0</td>\n",
       "      <td>0.0</td>\n",
       "      <td>5.0</td>\n",
       "      <td>0.0</td>\n",
       "      <td>10.0</td>\n",
       "      <td>...</td>\n",
       "      <td>0.0</td>\n",
       "      <td>0.0</td>\n",
       "      <td>0.0</td>\n",
       "      <td>0.0</td>\n",
       "      <td>0.0</td>\n",
       "      <td>0.0</td>\n",
       "      <td>0.909091</td>\n",
       "      <td>1</td>\n",
       "      <td>0.0</td>\n",
       "      <td>0.0</td>\n",
       "    </tr>\n",
       "  </tbody>\n",
       "</table>\n",
       "<p>10 rows × 31 columns</p>\n",
       "</div>"
      ],
      "text/plain": [
       "      discovered_x  passed_x  started_attempt_x  viewed_x  user  choice_x  \\\n",
       "user                                                                        \n",
       "1            322.0     254.0                0.0    1371.0     1     104.0   \n",
       "2              9.0       9.0                0.0      11.0     2       0.0   \n",
       "3             31.0      31.0               21.0      46.0     3      42.0   \n",
       "4             66.0      66.0               24.0     105.0     4      49.0   \n",
       "6            106.0     106.0               27.0     198.0     6      39.0   \n",
       "7             72.0      64.0               13.0     106.0     7      32.0   \n",
       "8             55.0      55.0               16.0      57.0     8      36.0   \n",
       "10            28.0      28.0                7.0      33.0    10      18.0   \n",
       "11             1.0       1.0                0.0       1.0    11       0.0   \n",
       "12            11.0      10.0                1.0      14.0    12       0.0   \n",
       "\n",
       "      code_x  number_x  string_x  text_x    ...     sum_score  sum_score_last  \\\n",
       "user                                        ...                                 \n",
       "1      410.0      34.0       6.0   475.0    ...           0.0             0.0   \n",
       "2        0.0       0.0       0.0    14.0    ...           0.0             0.0   \n",
       "3        8.0       0.0       0.0    72.0    ...           9.0             0.0   \n",
       "4       12.0       0.0       0.0    66.0    ...           9.0             0.0   \n",
       "6       65.0       9.0       0.0   120.0    ...          26.0             0.0   \n",
       "7       20.0       4.0       0.0    87.0    ...           6.0             1.0   \n",
       "8        8.0       0.0       0.0    48.0    ...           9.0             0.0   \n",
       "10       0.0       0.0       0.0    35.0    ...           3.0             0.0   \n",
       "11       0.0       0.0       0.0     3.0    ...           0.0             0.0   \n",
       "12       0.0       5.0       0.0    10.0    ...           0.0             0.0   \n",
       "\n",
       "      discovered_y  passed_y  started_attempt_y  viewed_y      perc  count_5  \\\n",
       "user                                                                           \n",
       "1              0.0       0.0                0.0       0.0  0.788820        1   \n",
       "2              0.0       0.0                0.0       0.0  1.000000        1   \n",
       "3              0.0       0.0                0.0       0.0  1.000000        3   \n",
       "4              0.0       0.0                0.0       0.0  1.000000        9   \n",
       "6              0.0       0.0                0.0       0.0  1.000000        3   \n",
       "7              5.0       1.0                4.0       6.0  0.888889        4   \n",
       "8              0.0       0.0                0.0       0.0  1.000000        2   \n",
       "10             0.0       0.0                0.0       0.0  1.000000        1   \n",
       "11             0.0       0.0                0.0       0.0  1.000000        1   \n",
       "12             0.0       0.0                0.0       0.0  0.909091        1   \n",
       "\n",
       "      time_period  time_sum  \n",
       "user                         \n",
       "1             0.0       0.0  \n",
       "2             0.0       0.0  \n",
       "3          1196.0    3590.0  \n",
       "4          4877.0   43894.0  \n",
       "6          5829.0   17487.0  \n",
       "7          2480.0    9921.0  \n",
       "8           154.0     309.0  \n",
       "10            0.0       0.0  \n",
       "11            0.0       0.0  \n",
       "12            0.0       0.0  \n",
       "\n",
       "[10 rows x 31 columns]"
      ]
     },
     "execution_count": 77,
     "metadata": {},
     "output_type": "execute_result"
    }
   ],
   "source": [
    "A.fillna(0, inplace = True)\n",
    "A[:10]"
   ]
  },
  {
   "cell_type": "code",
   "execution_count": 78,
   "metadata": {
    "collapsed": false
   },
   "outputs": [
    {
     "data": {
      "text/plain": [
       "<bound method Index.unique of Index([u'discovered_x', u'passed_x', u'started_attempt_x', u'viewed_x',\n",
       "       u'user', u'choice_x', u'code_x', u'number_x', u'string_x', u'text_x',\n",
       "       u'video_x', u'skip', u'skip_part', u'period', u'choice_y', u'code_y',\n",
       "       u'number_y', u'string_y', u'text_y', u'video_y', u'user_last',\n",
       "       u'sum_score', u'sum_score_last', u'discovered_y', u'passed_y',\n",
       "       u'started_attempt_y', u'viewed_y', u'perc', u'count_5', u'time_period',\n",
       "       u'time_sum'],\n",
       "      dtype='object')>"
      ]
     },
     "execution_count": 78,
     "metadata": {},
     "output_type": "execute_result"
    }
   ],
   "source": [
    "A.columns.unique"
   ]
  },
  {
   "cell_type": "code",
   "execution_count": 79,
   "metadata": {
    "collapsed": true
   },
   "outputs": [],
   "source": [
    "#A = A[['sum_score', 'period', 'perc', 'passed', 'time_period', 'viewed', 'text', 'count_10']]"
   ]
  },
  {
   "cell_type": "code",
   "execution_count": 80,
   "metadata": {
    "collapsed": false
   },
   "outputs": [],
   "source": [
    "del A['user']\n",
    "del A['user_last']"
   ]
  },
  {
   "cell_type": "code",
   "execution_count": 81,
   "metadata": {
    "collapsed": false
   },
   "outputs": [],
   "source": [
    "features = []\n",
    "for i in A.columns:\n",
    "    features += [i]"
   ]
  },
  {
   "cell_type": "code",
   "execution_count": 82,
   "metadata": {
    "collapsed": false
   },
   "outputs": [
    {
     "data": {
      "text/plain": [
       "(16625,)"
      ]
     },
     "execution_count": 82,
     "metadata": {},
     "output_type": "execute_result"
    }
   ],
   "source": [
    "users = A.index\n",
    "users.shape"
   ]
  },
  {
   "cell_type": "code",
   "execution_count": 83,
   "metadata": {
    "collapsed": false
   },
   "outputs": [],
   "source": [
    "y = targets.score\n",
    "ind = targets.user_id\n",
    "y = pd.DataFrame(y)\n",
    "y.index = ind"
   ]
  },
  {
   "cell_type": "code",
   "execution_count": 298,
   "metadata": {
    "collapsed": false
   },
   "outputs": [],
   "source": [
    "from sklearn.preprocessing import StandardScaler\n",
    "scaler = StandardScaler()\n",
    "scaler.fit(A, y)\n",
    "A_scaled = scaler.transform(A)\n",
    "A_scaled = pd.DataFrame(A_scaled, columns = features)\n",
    "A_scaled.index = users"
   ]
  },
  {
   "cell_type": "code",
   "execution_count": 299,
   "metadata": {
    "collapsed": false
   },
   "outputs": [
    {
     "data": {
      "text/html": [
       "<div>\n",
       "<table border=\"1\" class=\"dataframe\">\n",
       "  <thead>\n",
       "    <tr style=\"text-align: right;\">\n",
       "      <th></th>\n",
       "      <th>discovered_x</th>\n",
       "      <th>passed_x</th>\n",
       "      <th>started_attempt_x</th>\n",
       "      <th>viewed_x</th>\n",
       "      <th>choice_x</th>\n",
       "      <th>code_x</th>\n",
       "      <th>number_x</th>\n",
       "      <th>string_x</th>\n",
       "      <th>text_x</th>\n",
       "      <th>video_x</th>\n",
       "      <th>...</th>\n",
       "      <th>sum_score</th>\n",
       "      <th>sum_score_last</th>\n",
       "      <th>discovered_y</th>\n",
       "      <th>passed_y</th>\n",
       "      <th>started_attempt_y</th>\n",
       "      <th>viewed_y</th>\n",
       "      <th>perc</th>\n",
       "      <th>count_5</th>\n",
       "      <th>time_period</th>\n",
       "      <th>time_sum</th>\n",
       "    </tr>\n",
       "    <tr>\n",
       "      <th>user</th>\n",
       "      <th></th>\n",
       "      <th></th>\n",
       "      <th></th>\n",
       "      <th></th>\n",
       "      <th></th>\n",
       "      <th></th>\n",
       "      <th></th>\n",
       "      <th></th>\n",
       "      <th></th>\n",
       "      <th></th>\n",
       "      <th></th>\n",
       "      <th></th>\n",
       "      <th></th>\n",
       "      <th></th>\n",
       "      <th></th>\n",
       "      <th></th>\n",
       "      <th></th>\n",
       "      <th></th>\n",
       "      <th></th>\n",
       "      <th></th>\n",
       "      <th></th>\n",
       "    </tr>\n",
       "  </thead>\n",
       "  <tbody>\n",
       "    <tr>\n",
       "      <th>1</th>\n",
       "      <td>6.454864</td>\n",
       "      <td>5.091881</td>\n",
       "      <td>-0.541558</td>\n",
       "      <td>12.759889</td>\n",
       "      <td>3.971266</td>\n",
       "      <td>12.149705</td>\n",
       "      <td>7.103748</td>\n",
       "      <td>9.967881</td>\n",
       "      <td>8.021377</td>\n",
       "      <td>8.679873</td>\n",
       "      <td>...</td>\n",
       "      <td>-0.475626</td>\n",
       "      <td>-0.311063</td>\n",
       "      <td>-0.355144</td>\n",
       "      <td>-0.353553</td>\n",
       "      <td>-0.271543</td>\n",
       "      <td>-0.289451</td>\n",
       "      <td>-1.019345</td>\n",
       "      <td>-0.567737</td>\n",
       "      <td>-0.528211</td>\n",
       "      <td>-0.419137</td>\n",
       "    </tr>\n",
       "    <tr>\n",
       "      <th>2</th>\n",
       "      <td>-0.527094</td>\n",
       "      <td>-0.518239</td>\n",
       "      <td>-0.541558</td>\n",
       "      <td>-0.449576</td>\n",
       "      <td>-0.700249</td>\n",
       "      <td>-0.373019</td>\n",
       "      <td>-0.366627</td>\n",
       "      <td>-0.092179</td>\n",
       "      <td>-0.509807</td>\n",
       "      <td>-0.462125</td>\n",
       "      <td>...</td>\n",
       "      <td>-0.475626</td>\n",
       "      <td>-0.311063</td>\n",
       "      <td>-0.355144</td>\n",
       "      <td>-0.353553</td>\n",
       "      <td>-0.271543</td>\n",
       "      <td>-0.289451</td>\n",
       "      <td>0.340447</td>\n",
       "      <td>-0.567737</td>\n",
       "      <td>-0.528211</td>\n",
       "      <td>-0.419137</td>\n",
       "    </tr>\n",
       "    <tr>\n",
       "      <th>3</th>\n",
       "      <td>-0.036349</td>\n",
       "      <td>-0.014473</td>\n",
       "      <td>0.576454</td>\n",
       "      <td>-0.109626</td>\n",
       "      <td>1.186324</td>\n",
       "      <td>-0.128673</td>\n",
       "      <td>-0.366627</td>\n",
       "      <td>-0.092179</td>\n",
       "      <td>0.563531</td>\n",
       "      <td>-0.543117</td>\n",
       "      <td>...</td>\n",
       "      <td>0.432017</td>\n",
       "      <td>-0.311063</td>\n",
       "      <td>-0.355144</td>\n",
       "      <td>-0.353553</td>\n",
       "      <td>-0.271543</td>\n",
       "      <td>-0.289451</td>\n",
       "      <td>0.340447</td>\n",
       "      <td>0.017024</td>\n",
       "      <td>-0.230780</td>\n",
       "      <td>-0.316567</td>\n",
       "    </tr>\n",
       "    <tr>\n",
       "      <th>4</th>\n",
       "      <td>0.744381</td>\n",
       "      <td>0.786972</td>\n",
       "      <td>0.736170</td>\n",
       "      <td>0.463431</td>\n",
       "      <td>1.500753</td>\n",
       "      <td>-0.006500</td>\n",
       "      <td>-0.366627</td>\n",
       "      <td>-0.092179</td>\n",
       "      <td>0.452496</td>\n",
       "      <td>0.742634</td>\n",
       "      <td>...</td>\n",
       "      <td>0.432017</td>\n",
       "      <td>-0.311063</td>\n",
       "      <td>-0.355144</td>\n",
       "      <td>-0.353553</td>\n",
       "      <td>-0.271543</td>\n",
       "      <td>-0.289451</td>\n",
       "      <td>0.340447</td>\n",
       "      <td>1.771306</td>\n",
       "      <td>0.684643</td>\n",
       "      <td>0.834963</td>\n",
       "    </tr>\n",
       "  </tbody>\n",
       "</table>\n",
       "<p>4 rows × 29 columns</p>\n",
       "</div>"
      ],
      "text/plain": [
       "      discovered_x  passed_x  started_attempt_x   viewed_x  choice_x  \\\n",
       "user                                                                   \n",
       "1         6.454864  5.091881          -0.541558  12.759889  3.971266   \n",
       "2        -0.527094 -0.518239          -0.541558  -0.449576 -0.700249   \n",
       "3        -0.036349 -0.014473           0.576454  -0.109626  1.186324   \n",
       "4         0.744381  0.786972           0.736170   0.463431  1.500753   \n",
       "\n",
       "         code_x  number_x  string_x    text_x   video_x    ...     sum_score  \\\n",
       "user                                                       ...                 \n",
       "1     12.149705  7.103748  9.967881  8.021377  8.679873    ...     -0.475626   \n",
       "2     -0.373019 -0.366627 -0.092179 -0.509807 -0.462125    ...     -0.475626   \n",
       "3     -0.128673 -0.366627 -0.092179  0.563531 -0.543117    ...      0.432017   \n",
       "4     -0.006500 -0.366627 -0.092179  0.452496  0.742634    ...      0.432017   \n",
       "\n",
       "      sum_score_last  discovered_y  passed_y  started_attempt_y  viewed_y  \\\n",
       "user                                                                        \n",
       "1          -0.311063     -0.355144 -0.353553          -0.271543 -0.289451   \n",
       "2          -0.311063     -0.355144 -0.353553          -0.271543 -0.289451   \n",
       "3          -0.311063     -0.355144 -0.353553          -0.271543 -0.289451   \n",
       "4          -0.311063     -0.355144 -0.353553          -0.271543 -0.289451   \n",
       "\n",
       "          perc   count_5  time_period  time_sum  \n",
       "user                                             \n",
       "1    -1.019345 -0.567737    -0.528211 -0.419137  \n",
       "2     0.340447 -0.567737    -0.528211 -0.419137  \n",
       "3     0.340447  0.017024    -0.230780 -0.316567  \n",
       "4     0.340447  1.771306     0.684643  0.834963  \n",
       "\n",
       "[4 rows x 29 columns]"
      ]
     },
     "execution_count": 299,
     "metadata": {},
     "output_type": "execute_result"
    }
   ],
   "source": [
    "A_scaled[:4]"
   ]
  },
  {
   "cell_type": "code",
   "execution_count": 219,
   "metadata": {
    "collapsed": false
   },
   "outputs": [
    {
     "data": {
      "text/plain": [
       "<bound method Index.unique of Index([u'discovered_x', u'passed_x', u'started_attempt_x', u'viewed_x',\n",
       "       u'choice_x', u'code_x', u'number_x', u'string_x', u'text_x', u'video_x',\n",
       "       u'skip', u'skip_part', u'period', u'choice_y', u'code_y', u'number_y',\n",
       "       u'string_y', u'text_y', u'video_y', u'sum_score', u'sum_score_last',\n",
       "       u'discovered_y', u'passed_y', u'started_attempt_y', u'viewed_y',\n",
       "       u'perc', u'count_5', u'time_period', u'time_sum'],\n",
       "      dtype='object')>"
      ]
     },
     "execution_count": 219,
     "metadata": {},
     "output_type": "execute_result"
    }
   ],
   "source": [
    "A_scaled.columns.unique"
   ]
  },
  {
   "cell_type": "code",
   "execution_count": 269,
   "metadata": {
    "collapsed": true
   },
   "outputs": [],
   "source": [
    "#A_scaled = A_scaled[['discovered_x', 'passed_x', 'started_attempt_x',\n",
    "#                    'viewed_x', 'choice_x', 'code_x', 'number_x', 'string_x',\n",
    "#                    'text_x', 'video_x', 'skip', 'skip_part', 'period', 'sum_score',\n",
    "#                    'time_period', 'time_sum']]"
   ]
  },
  {
   "cell_type": "code",
   "execution_count": 300,
   "metadata": {
    "collapsed": false
   },
   "outputs": [],
   "source": [
    "train_data, test_data, train_labels, test_labels = cross_validation.train_test_split(A_scaled, y, \n",
    "                                                                                     test_size = 0.3)"
   ]
  },
  {
   "cell_type": "code",
   "execution_count": 301,
   "metadata": {
    "collapsed": true
   },
   "outputs": [],
   "source": [
    "test_bi = []\n",
    "for i in test_labels.index.values:\n",
    "    if test_labels.ix[i, 0] >= 91:\n",
    "        test_bi += [1]\n",
    "    else:\n",
    "        test_bi += [0]"
   ]
  },
  {
   "cell_type": "code",
   "execution_count": 302,
   "metadata": {
    "collapsed": true
   },
   "outputs": [],
   "source": [
    "train_bi = []\n",
    "for i in train_labels.index.values:\n",
    "    if train_labels.ix[i, 0] >= 91:\n",
    "        train_bi += [1]\n",
    "    else:\n",
    "        train_bi += [0]"
   ]
  },
  {
   "cell_type": "code",
   "execution_count": 181,
   "metadata": {
    "collapsed": false
   },
   "outputs": [
    {
     "data": {
      "text/plain": [
       "(11637, 1)"
      ]
     },
     "execution_count": 181,
     "metadata": {},
     "output_type": "execute_result"
    }
   ],
   "source": [
    "train_labels.shape"
   ]
  },
  {
   "cell_type": "code",
   "execution_count": null,
   "metadata": {
    "collapsed": true
   },
   "outputs": [],
   "source": []
  },
  {
   "cell_type": "markdown",
   "metadata": {
    "collapsed": true
   },
   "source": [
    "# Задача классификации"
   ]
  },
  {
   "cell_type": "code",
   "execution_count": 89,
   "metadata": {
    "collapsed": true
   },
   "outputs": [],
   "source": [
    "logreg = sklearn.linear_model.LogisticRegression(penalty='l2',\n",
    "                                        dual=False,\n",
    "                                        tol=0.0001,\n",
    "                                        C=1.0,\n",
    "                                        fit_intercept=True,\n",
    "                                        intercept_scaling=1,\n",
    "                                        class_weight=None,\n",
    "                                        random_state=None,\n",
    "                                        solver='liblinear',\n",
    "                                        max_iter=100,\n",
    "                                        multi_class='ovr',\n",
    "                                        verbose=0,\n",
    "                                        warm_start=False,\n",
    "                                        n_jobs=1)"
   ]
  },
  {
   "cell_type": "code",
   "execution_count": 90,
   "metadata": {
    "collapsed": false
   },
   "outputs": [
    {
     "data": {
      "text/plain": [
       "LogisticRegression(C=1.0, class_weight=None, dual=False, fit_intercept=True,\n",
       "          intercept_scaling=1, max_iter=100, multi_class='ovr', n_jobs=1,\n",
       "          penalty='l2', random_state=None, solver='liblinear', tol=0.0001,\n",
       "          verbose=0, warm_start=False)"
      ]
     },
     "execution_count": 90,
     "metadata": {},
     "output_type": "execute_result"
    }
   ],
   "source": [
    "logreg.fit(train_data, train_bi)"
   ]
  },
  {
   "cell_type": "code",
   "execution_count": 91,
   "metadata": {
    "collapsed": true
   },
   "outputs": [],
   "source": [
    "logreg_pred = logreg.predict(test_data)"
   ]
  },
  {
   "cell_type": "code",
   "execution_count": 97,
   "metadata": {
    "collapsed": false
   },
   "outputs": [
    {
     "data": {
      "text/plain": [
       "0.35820895522388058"
      ]
     },
     "execution_count": 97,
     "metadata": {},
     "output_type": "execute_result"
    }
   ],
   "source": [
    "f1_score(test_bi, logreg_pred)"
   ]
  },
  {
   "cell_type": "code",
   "execution_count": 100,
   "metadata": {
    "collapsed": false
   },
   "outputs": [],
   "source": [
    "xgb_cla = xgb.XGBClassifier(max_depth=3,\n",
    "                      learning_rate=0.1,\n",
    "                      n_estimators=100,\n",
    "                      silent=True,\n",
    "                      objective='binary:logistic',\n",
    "                      nthread=-1,\n",
    "                      gamma=0,\n",
    "                      min_child_weight=1,\n",
    "                      max_delta_step=0,\n",
    "                      subsample=1,\n",
    "                      colsample_bytree=1,\n",
    "                      colsample_bylevel=1,\n",
    "                      reg_alpha=0,\n",
    "                      reg_lambda=1,\n",
    "                      scale_pos_weight=1,\n",
    "                      base_score=0.5,\n",
    "                      seed=0,\n",
    "                      missing=None)"
   ]
  },
  {
   "cell_type": "code",
   "execution_count": 101,
   "metadata": {
    "collapsed": false
   },
   "outputs": [
    {
     "data": {
      "text/plain": [
       "XGBClassifier(base_score=0.5, colsample_bylevel=1, colsample_bytree=1,\n",
       "       gamma=0, learning_rate=0.1, max_delta_step=0, max_depth=3,\n",
       "       min_child_weight=1, missing=None, n_estimators=100, nthread=-1,\n",
       "       objective='binary:logistic', reg_alpha=0, reg_lambda=1,\n",
       "       scale_pos_weight=1, seed=0, silent=True, subsample=1)"
      ]
     },
     "execution_count": 101,
     "metadata": {},
     "output_type": "execute_result"
    }
   ],
   "source": [
    "xgb_cla.fit(train_data, train_bi)"
   ]
  },
  {
   "cell_type": "code",
   "execution_count": 102,
   "metadata": {
    "collapsed": true
   },
   "outputs": [],
   "source": [
    "bst_cla_pred = xgb_cla.predict(test_data)"
   ]
  },
  {
   "cell_type": "code",
   "execution_count": 105,
   "metadata": {
    "collapsed": false
   },
   "outputs": [
    {
     "data": {
      "text/plain": [
       "array([0, 0, 0, 0, 0, 0, 0, 0, 0, 0, 0, 0, 0, 0, 0, 0, 0, 0, 0, 0, 0, 0, 0,\n",
       "       0, 0, 0, 0, 0, 0, 0, 0, 0, 0, 0, 0, 0, 0, 0, 0, 0, 0, 0, 0, 0, 0, 0,\n",
       "       0, 0, 0, 0, 0, 0, 0, 0, 0, 0, 0, 0, 0, 0, 0, 0, 0, 0, 0, 0, 0, 0, 0,\n",
       "       0, 0, 0, 0, 0, 0, 0, 0, 0, 0, 0, 0, 0, 0, 0, 0, 0, 0, 0, 0, 0, 1, 0,\n",
       "       1, 0, 0, 0, 0, 0, 0, 0])"
      ]
     },
     "execution_count": 105,
     "metadata": {},
     "output_type": "execute_result"
    }
   ],
   "source": [
    "bst_cla_pred[:100]"
   ]
  },
  {
   "cell_type": "code",
   "execution_count": 106,
   "metadata": {
    "collapsed": false
   },
   "outputs": [
    {
     "data": {
      "text/plain": [
       "0.33333333333333331"
      ]
     },
     "execution_count": 106,
     "metadata": {},
     "output_type": "execute_result"
    }
   ],
   "source": [
    "f1_score(test_bi, bst_cla_pred)"
   ]
  },
  {
   "cell_type": "markdown",
   "metadata": {},
   "source": [
    "# Задача регрессии"
   ]
  },
  {
   "cell_type": "markdown",
   "metadata": {},
   "source": [
    "## Линейная "
   ]
  },
  {
   "cell_type": "code",
   "execution_count": 303,
   "metadata": {
    "collapsed": false
   },
   "outputs": [
    {
     "data": {
      "text/plain": [
       "LinearRegression(copy_X=True, fit_intercept=True, n_jobs=1, normalize=False)"
      ]
     },
     "execution_count": 303,
     "metadata": {},
     "output_type": "execute_result"
    }
   ],
   "source": [
    "from sklearn import ensemble, linear_model\n",
    "linear_regressor = linear_model.LinearRegression()\n",
    "linear_regressor.fit(train_data, train_labels)"
   ]
  },
  {
   "cell_type": "code",
   "execution_count": 304,
   "metadata": {
    "collapsed": false
   },
   "outputs": [
    {
     "data": {
      "text/plain": [
       "array([[  5.22924808e+12,   5.09408413e+12,   2.19101426e+12,\n",
       "          1.20095254e+13,  -2.59685532e+12,  -3.81906659e+12,\n",
       "         -5.30895089e+11,  -6.95701327e+10,  -6.30323913e+12,\n",
       "         -1.15217593e+13,   2.28840604e+00,   5.61181179e-02,\n",
       "          2.70438555e+00,  -3.59676838e+00,  -1.59734445e+00,\n",
       "         -2.54956122e-01,  -3.50158387e-01,   3.32360097e+00,\n",
       "          1.29260044e-01,   6.68066525e+00,   4.39079696e+00,\n",
       "          3.95683633e+00,  -3.96728890e+00,   1.69920231e+00,\n",
       "          4.31337046e-02,  -2.48325577e-01,  -6.09441454e-01,\n",
       "         -4.99897098e-01,  -4.74831814e-02]])"
      ]
     },
     "execution_count": 304,
     "metadata": {},
     "output_type": "execute_result"
    }
   ],
   "source": [
    "linear_regressor.coef_"
   ]
  },
  {
   "cell_type": "code",
   "execution_count": 311,
   "metadata": {
    "collapsed": false
   },
   "outputs": [],
   "source": [
    "pred_linear = linear_regressor.predict(test_data)\n",
    "#rmse(pred_linear, test_labels)"
   ]
  },
  {
   "cell_type": "code",
   "execution_count": 312,
   "metadata": {
    "collapsed": false
   },
   "outputs": [],
   "source": [
    "pred_linear = pd.DataFrame(pred_linear, columns = ['passed'])\n",
    "#rmse(pred_linear, test_labels)\n",
    "#pred_linear"
   ]
  },
  {
   "cell_type": "code",
   "execution_count": 313,
   "metadata": {
    "collapsed": false
   },
   "outputs": [
    {
     "data": {
      "text/plain": [
       "(202, 1)"
      ]
     },
     "execution_count": 313,
     "metadata": {},
     "output_type": "execute_result"
    }
   ],
   "source": [
    "pred_linear[pred_linear.passed >= 59].shape"
   ]
  },
  {
   "cell_type": "code",
   "execution_count": 314,
   "metadata": {
    "collapsed": false
   },
   "outputs": [],
   "source": [
    "for i in pred_linear.index.values:\n",
    "    if pred_linear.ix[i, 0] >= 59:\n",
    "        pred_linear.ix[i, 0] = 1\n",
    "    else:\n",
    "        pred_linear.ix[i, 0] = 0"
   ]
  },
  {
   "cell_type": "code",
   "execution_count": 315,
   "metadata": {
    "collapsed": false
   },
   "outputs": [
    {
     "data": {
      "text/plain": [
       "0.39294710327455923"
      ]
     },
     "execution_count": 315,
     "metadata": {},
     "output_type": "execute_result"
    }
   ],
   "source": [
    "f1_score(test_bi, pred_linear)"
   ]
  },
  {
   "cell_type": "code",
   "execution_count": 1078,
   "metadata": {
    "collapsed": false
   },
   "outputs": [
    {
     "data": {
      "text/plain": [
       "(4988, 1)"
      ]
     },
     "execution_count": 1078,
     "metadata": {},
     "output_type": "execute_result"
    }
   ],
   "source": [
    "pred_linear.shape"
   ]
  },
  {
   "cell_type": "markdown",
   "metadata": {},
   "source": [
    "## Буст"
   ]
  },
  {
   "cell_type": "code",
   "execution_count": 289,
   "metadata": {
    "collapsed": true
   },
   "outputs": [],
   "source": [
    "dtrain = xgb.DMatrix(data = train_data, label = train_labels)"
   ]
  },
  {
   "cell_type": "code",
   "execution_count": 290,
   "metadata": {
    "collapsed": true
   },
   "outputs": [],
   "source": [
    "param = {'max_depth':9,\n",
    "         'eta':0.13,\n",
    "         'silent':1,\n",
    "         'objective':'reg:linear',\n",
    "         'min_child_weight': 2}\n",
    "num_round = 10000"
   ]
  },
  {
   "cell_type": "code",
   "execution_count": 291,
   "metadata": {
    "collapsed": true
   },
   "outputs": [],
   "source": [
    "bst = xgb.train(param, dtrain, num_round)"
   ]
  },
  {
   "cell_type": "code",
   "execution_count": 292,
   "metadata": {
    "collapsed": true
   },
   "outputs": [],
   "source": [
    "boost_pred = bst.predict(xgb.DMatrix(data = test_data))"
   ]
  },
  {
   "cell_type": "code",
   "execution_count": 293,
   "metadata": {
    "collapsed": false
   },
   "outputs": [],
   "source": [
    "boost_pred = pd.DataFrame(boost_pred)\n",
    "boost_pred.columns = ['passed']"
   ]
  },
  {
   "cell_type": "code",
   "execution_count": 294,
   "metadata": {
    "collapsed": false
   },
   "outputs": [
    {
     "data": {
      "text/plain": [
       "(217, 1)"
      ]
     },
     "execution_count": 294,
     "metadata": {},
     "output_type": "execute_result"
    }
   ],
   "source": [
    "boost_pred[boost_pred.passed > 66].shape"
   ]
  },
  {
   "cell_type": "code",
   "execution_count": 295,
   "metadata": {
    "collapsed": false
   },
   "outputs": [
    {
     "name": "stdout",
     "output_type": "stream",
     "text": [
      "Populating the interactive namespace from numpy and matplotlib\n"
     ]
    },
    {
     "data": {
      "image/png": "[encoded data removed]",
      "text/plain": [
       "<matplotlib.figure.Figure at 0x7fb6bbc7b9d0>"
      ]
     },
     "metadata": {},
     "output_type": "display_data"
    }
   ],
   "source": [
    "%pylab inline\n",
    "xgb.plot_importance(bst)\n",
    "pyplot.show()"
   ]
  },
  {
   "cell_type": "code",
   "execution_count": 296,
   "metadata": {
    "collapsed": true
   },
   "outputs": [],
   "source": [
    "for i in boost_pred.index.values:\n",
    "    if boost_pred.ix[i, 0] >= 66:\n",
    "        boost_pred.ix[i, 0] = 1\n",
    "    else:\n",
    "        boost_pred.ix[i, 0] = 0"
   ]
  },
  {
   "cell_type": "code",
   "execution_count": 297,
   "metadata": {
    "collapsed": false
   },
   "outputs": [
    {
     "data": {
      "text/plain": [
       "0.37647058823529411"
      ]
     },
     "execution_count": 297,
     "metadata": {},
     "output_type": "execute_result"
    }
   ],
   "source": [
    "f1_score(test_bi, boost_pred)"
   ]
  },
  {
   "cell_type": "markdown",
   "metadata": {},
   "source": [
    "## Random Forest"
   ]
  },
  {
   "cell_type": "code",
   "execution_count": 127,
   "metadata": {
    "collapsed": false
   },
   "outputs": [],
   "source": [
    "forest_regressor = sklearn.ensemble.RandomForestRegressor(n_estimators=40,\n",
    "                                       criterion='mse',\n",
    "                                       max_depth=None,\n",
    "                                       min_samples_split=2,\n",
    "                                       min_samples_leaf=1,\n",
    "                                       min_weight_fraction_leaf=0.0,\n",
    "                                       max_features='auto',\n",
    "                                       max_leaf_nodes=None,\n",
    "                                       bootstrap=True,\n",
    "                                       oob_score=False,\n",
    "                                       n_jobs=1,\n",
    "                                       random_state=None)"
   ]
  },
  {
   "cell_type": "code",
   "execution_count": 128,
   "metadata": {
    "collapsed": false
   },
   "outputs": [
    {
     "name": "stderr",
     "output_type": "stream",
     "text": [
      "/home/ubuntu/anaconda2/lib/python2.7/site-packages/ipykernel/__main__.py:1: DataConversionWarning: A column-vector y was passed when a 1d array was expected. Please change the shape of y to (n_samples,), for example using ravel().\n",
      "  if __name__ == '__main__':\n"
     ]
    },
    {
     "data": {
      "text/plain": [
       "RandomForestRegressor(bootstrap=True, criterion='mse', max_depth=None,\n",
       "           max_features='auto', max_leaf_nodes=None, min_samples_leaf=1,\n",
       "           min_samples_split=2, min_weight_fraction_leaf=0.0,\n",
       "           n_estimators=40, n_jobs=1, oob_score=False, random_state=None,\n",
       "           verbose=0, warm_start=False)"
      ]
     },
     "execution_count": 128,
     "metadata": {},
     "output_type": "execute_result"
    }
   ],
   "source": [
    "forest_regressor.fit(train_data, train_labels)"
   ]
  },
  {
   "cell_type": "code",
   "execution_count": 129,
   "metadata": {
    "collapsed": false
   },
   "outputs": [
    {
     "name": "stdout",
     "output_type": "stream",
     "text": [
      "[  1.33946466e-02   1.28034239e-02   2.25048467e-02   2.64815421e-02\n",
      "   2.81762256e-02   1.24335378e-02   6.86927507e-03   1.88982699e-04\n",
      "   2.82689522e-02   2.48430493e-02   1.59650166e-02   3.42992600e-02\n",
      "   8.24834205e-02   5.17648560e-03   8.49114282e-03   5.42172769e-03\n",
      "   8.32415483e-05   1.49220430e-02   7.63407054e-03   5.26170807e-01\n",
      "   1.27156368e-02   6.52864737e-03   1.03610692e-02   1.32653099e-02\n",
      "   1.02354175e-02   1.84012585e-02   1.14420237e-02   2.23550552e-02\n",
      "   1.80838844e-02]\n"
     ]
    }
   ],
   "source": [
    "print forest_regressor.feature_importances_"
   ]
  },
  {
   "cell_type": "code",
   "execution_count": 130,
   "metadata": {
    "collapsed": false
   },
   "outputs": [
    {
     "data": {
      "text/plain": [
       "(217, 1)"
      ]
     },
     "execution_count": 130,
     "metadata": {},
     "output_type": "execute_result"
    }
   ],
   "source": [
    "forest_pred = forest_regressor.predict(test_data)\n",
    "forest_pred = pd.DataFrame(forest_pred)\n",
    "forest_pred.columns = ['passed']\n",
    "forest_pred[forest_pred.passed >= 65].shape"
   ]
  },
  {
   "cell_type": "code",
   "execution_count": 131,
   "metadata": {
    "collapsed": false
   },
   "outputs": [],
   "source": [
    "for i in forest_pred.index.values:\n",
    "    if forest_pred.ix[i, 0] >=65:\n",
    "        forest_pred.ix[i, 0] = 1\n",
    "    else:\n",
    "        forest_pred.ix[i, 0] = 0"
   ]
  },
  {
   "cell_type": "code",
   "execution_count": 132,
   "metadata": {
    "collapsed": false
   },
   "outputs": [
    {
     "data": {
      "text/plain": [
       "0.44444444444444442"
      ]
     },
     "execution_count": 132,
     "metadata": {},
     "output_type": "execute_result"
    }
   ],
   "source": [
    "f1_score(test_bi, forest_pred)"
   ]
  },
  {
   "cell_type": "code",
   "execution_count": 133,
   "metadata": {
    "collapsed": false
   },
   "outputs": [
    {
     "data": {
      "text/plain": [
       "array([  1.33946466e-02,   1.28034239e-02,   2.25048467e-02,\n",
       "         2.64815421e-02,   2.81762256e-02,   1.24335378e-02,\n",
       "         6.86927507e-03,   1.88982699e-04,   2.82689522e-02,\n",
       "         2.48430493e-02,   1.59650166e-02,   3.42992600e-02,\n",
       "         8.24834205e-02,   5.17648560e-03,   8.49114282e-03,\n",
       "         5.42172769e-03,   8.32415483e-05,   1.49220430e-02,\n",
       "         7.63407054e-03,   5.26170807e-01,   1.27156368e-02,\n",
       "         6.52864737e-03,   1.03610692e-02,   1.32653099e-02,\n",
       "         1.02354175e-02,   1.84012585e-02,   1.14420237e-02,\n",
       "         2.23550552e-02,   1.80838844e-02])"
      ]
     },
     "execution_count": 133,
     "metadata": {},
     "output_type": "execute_result"
    }
   ],
   "source": [
    "forest_regressor.feature_importances_"
   ]
  },
  {
   "cell_type": "markdown",
   "metadata": {},
   "source": [
    "## голосование"
   ]
  },
  {
   "cell_type": "code",
   "execution_count": 317,
   "metadata": {
    "collapsed": false
   },
   "outputs": [],
   "source": [
    "gol_pred = []\n",
    "for i in forest_pred.index.values:\n",
    "    if forest_pred.ix[i, 0] + boost_pred.ix[i, 0] + pred_linear.ix[i, 0] >= 2:\n",
    "        gol_pred += [1]\n",
    "    else:\n",
    "        gol_pred += [0]\n",
    "gol_pred = pd.DataFrame(gol_pred)"
   ]
  },
  {
   "cell_type": "code",
   "execution_count": 318,
   "metadata": {
    "collapsed": false
   },
   "outputs": [
    {
     "data": {
      "text/plain": [
       "0.062499999999999986"
      ]
     },
     "execution_count": 318,
     "metadata": {},
     "output_type": "execute_result"
    }
   ],
   "source": [
    "f1_score(test_bi, gol_pred)"
   ]
  },
  {
   "cell_type": "markdown",
   "metadata": {},
   "source": [
    "# Тест"
   ]
  },
  {
   "cell_type": "code",
   "execution_count": 319,
   "metadata": {
    "collapsed": true
   },
   "outputs": [],
   "source": [
    "events = events_test\n",
    "\n",
    "tmin1  = events.groupby('user_id').time.min()\n",
    "tmax  = events.groupby('user_id').time.max()\n",
    "tmin = tmax - tmin1\n",
    "\n",
    "tmin1 = pd.DataFrame(tmin1)\n",
    "tmin1.columns = ['start_time']\n",
    "tmin1['user'] = tmin1.index\n"
   ]
  },
  {
   "cell_type": "code",
   "execution_count": 1125,
   "metadata": {
    "collapsed": true
   },
   "outputs": [],
   "source": [
    "\n",
    "\n",
    "\n",
    "events_last_week = events\n",
    "events_last_week = pd.merge(events_last_week, tmin1, left_on='user_id', right_on='user', how='outer')\n",
    "events_last_week = events_last_week[events_last_week.time > events_last_week.start_time + 604800]\n"
   ]
  },
  {
   "cell_type": "code",
   "execution_count": 1126,
   "metadata": {
    "collapsed": true
   },
   "outputs": [],
   "source": [
    "H_last = events_last_week.groupby('user_id') \\\n",
    "                    .apply(lambda x: x[['step_type']].unstack().value_counts()) \\\n",
    "                    .unstack() \\\n",
    "                    .fillna(0)\n",
    "\n",
    "\n",
    "H = events.groupby('user_id') \\\n",
    "                    .apply(lambda x: x[['step_type']].unstack().value_counts()) \\\n",
    "                    .unstack() \\\n",
    "                    .fillna(0)\n",
    "\n",
    "H_last['user_last'] = H_last.index\n"
   ]
  },
  {
   "cell_type": "code",
   "execution_count": 1127,
   "metadata": {
    "collapsed": true
   },
   "outputs": [],
   "source": [
    "\n",
    "\n",
    "steps = structure.step_id\n",
    "steps = steps.tolist()\n",
    "\n",
    "\n",
    "S = pasted_events.groupby('user_id') \\\n",
    "                    .apply(lambda x: x[['step_id']].unstack().value_counts()) \\\n",
    "                    .unstack() \\\n",
    "                    .fillna(0)\n",
    "\n",
    "S = S[steps]\n",
    "\n",
    "\n",
    "\n",
    "H['skip'] = -1\n",
    "\n",
    "H['skip_part'] = 0"
   ]
  },
  {
   "cell_type": "code",
   "execution_count": 1128,
   "metadata": {
    "collapsed": true
   },
   "outputs": [],
   "source": [
    "\n",
    "\n",
    "\n",
    "su = 0\n",
    "k = 0\n",
    "flag = 0\n",
    "for i in S.index:\n",
    "    for j in S.ix[i,:]:\n",
    "        if j == 0 and flag == 1:\n",
    "            flag = 0\n",
    "            su += 1\n",
    "        if j == 1 and flag == 0:\n",
    "            flag = 1\n",
    "    H.ix[i, 'skip'] = su\n",
    "    su = 0\n",
    "    flag = 0\n",
    "su = 0\n",
    "k = 0\n",
    "flag = 0\n",
    "tmp_su = 0\n",
    "for i in S.index:\n",
    "    ones = 0\n",
    "    su = 0\n",
    "    tmp_su = 0\n",
    "    flag = 0\n",
    "    for j in S.ix[i,:]:\n",
    "        if j == 0 and flag == 1:\n",
    "            flag = 0\n",
    "            tmp_su = 1\n",
    "        if j == 0 and flag == 0:\n",
    "            tmp_su += 1\n",
    "        if j == 1 and flag == 0:\n",
    "            flag = 1\n",
    "            su += tmp_su\n",
    "            tmp_su = 0\n",
    "        if j == 1:\n",
    "            ones += 1  \n",
    "        t = su / (su + ones + 0.00000000001) * 1.0\n",
    "    H.ix[i, 'skip_part'] = t"
   ]
  },
  {
   "cell_type": "code",
   "execution_count": 1129,
   "metadata": {
    "collapsed": true
   },
   "outputs": [],
   "source": [
    "\n",
    "A = events.groupby('user_id') \\\n",
    "                    .apply(lambda x: x[['action']].unstack().value_counts()) \\\n",
    "                    .unstack() \\\n",
    "                    .fillna(0)\n",
    "\n",
    "A['user'] = A.index\n",
    "\n",
    "\n",
    "A = pd.concat([A, H],axis=1)\n",
    "\n",
    "tmin = pd.DataFrame(tmin)\n",
    "tmin.columns = ['period']\n",
    "\n",
    "\n",
    "A = pd.concat([A, tmin],axis=1)\n",
    "\n",
    "A = pd.merge(A, H_last, left_on='user', right_on='user_last', how='outer')\n",
    "\n",
    "A.index = A.user\n"
   ]
  },
  {
   "cell_type": "code",
   "execution_count": 1130,
   "metadata": {
    "collapsed": true
   },
   "outputs": [],
   "source": [
    "\n",
    "\n",
    "pasted_events = events[events.action == 'passed']\n",
    "\n",
    "sum_score = pasted_events.groupby('user_id')['step_cost'].apply(lambda x: sum(x))\n",
    "sum_score = pd.DataFrame(sum_score)\n",
    "sum_score.columns = ['sum_score']\n",
    "\n",
    "A = pd.concat([A, sum_score],axis=1)\n",
    "\n",
    "pasted_events_last = events_last_week[events_last_week.action == 'passed']"
   ]
  },
  {
   "cell_type": "code",
   "execution_count": 1131,
   "metadata": {
    "collapsed": true
   },
   "outputs": [],
   "source": [
    "\n",
    "sum_score = pasted_events_last.groupby('user_id')['step_cost'].apply(lambda x: sum(x))\n",
    "sum_score = pd.DataFrame(sum_score)\n",
    "sum_score.columns = ['sum_score_last']\n",
    "\n",
    "\n",
    "sum_score['user'] = sum_score.index"
   ]
  },
  {
   "cell_type": "code",
   "execution_count": 1132,
   "metadata": {
    "collapsed": true
   },
   "outputs": [],
   "source": [
    "\n",
    "A = pd.merge(A, sum_score, left_on='user', right_on='user', how='outer')\n",
    "\n",
    "A_last = events_last_week.groupby('user_id') \\\n",
    "                    .apply(lambda x: x[['action']].unstack().value_counts()) \\\n",
    "                    .unstack() \\\n",
    "                    .fillna(0)"
   ]
  },
  {
   "cell_type": "code",
   "execution_count": 1133,
   "metadata": {
    "collapsed": true
   },
   "outputs": [],
   "source": [
    "\n",
    "A_last['user'] = A_last.index\n",
    "\n",
    "\n",
    "A = pd.merge(A, A_last, left_on='user', right_on='user', how='outer')\n",
    "\n",
    "perc = A.passed_x / A.discovered_x * 1.0\n",
    "perc = pd.DataFrame(perc, columns = ['perc']) \n",
    "A = pd.concat([A, perc],axis=1)\n",
    "A.fillna(0, inplace = True)"
   ]
  },
  {
   "cell_type": "code",
   "execution_count": 1134,
   "metadata": {
    "collapsed": true
   },
   "outputs": [],
   "source": [
    "A.index = A.user\n",
    "\n",
    "count_5 = events.groupby('user_id')['time'].apply(lambda x: count_work_5(x))\n",
    "count_5 = pd.DataFrame(count_5)\n",
    "count_5.columns = ['count_5']\n",
    "\n",
    "\n",
    "A = pd.concat([A, count_5],axis=1)"
   ]
  },
  {
   "cell_type": "code",
   "execution_count": 1135,
   "metadata": {
    "collapsed": true
   },
   "outputs": [],
   "source": [
    "time_period = events.groupby('user_id')['time'].apply(lambda x: ave_time(x))\n",
    "time_period = pd.DataFrame(time_period)\n",
    "time_period.columns = ['time_period']\n",
    "\n",
    "A = pd.concat([A, time_period],axis=1)"
   ]
  },
  {
   "cell_type": "code",
   "execution_count": 1136,
   "metadata": {
    "collapsed": true
   },
   "outputs": [],
   "source": [
    "A.fillna(0, inplace = True)\n",
    "\n",
    "del A['user']\n",
    "del A['user_last']\n"
   ]
  },
  {
   "cell_type": "code",
   "execution_count": 1155,
   "metadata": {
    "collapsed": true
   },
   "outputs": [],
   "source": [
    "features = []\n",
    "for i in A.columns:\n",
    "    features += [i]\n",
    "users = A.index"
   ]
  },
  {
   "cell_type": "code",
   "execution_count": 1138,
   "metadata": {
    "collapsed": false
   },
   "outputs": [],
   "source": [
    "\n",
    "\n",
    "A_scaled = scaler.transform(A)\n",
    "A_scaled = pd.DataFrame(A_scaled, columns = features)\n",
    "A_scaled.index = users"
   ]
  },
  {
   "cell_type": "code",
   "execution_count": 1144,
   "metadata": {
    "collapsed": false
   },
   "outputs": [
    {
     "data": {
      "text/plain": [
       "(4255, 1)"
      ]
     },
     "execution_count": 1144,
     "metadata": {},
     "output_type": "execute_result"
    }
   ],
   "source": [
    "pred_linear.shape"
   ]
  },
  {
   "cell_type": "code",
   "execution_count": 1182,
   "metadata": {
    "collapsed": false
   },
   "outputs": [
    {
     "data": {
      "text/plain": [
       "(174, 1)"
      ]
     },
     "execution_count": 1182,
     "metadata": {},
     "output_type": "execute_result"
    }
   ],
   "source": [
    "pred_linear = linear_regressor.predict(A_scaled)\n",
    "pred_linear = pd.DataFrame(pred_linear, columns = ['passed'])\n",
    "pred_linear[pred_linear.passed >= 61].shape"
   ]
  },
  {
   "cell_type": "code",
   "execution_count": 1177,
   "metadata": {
    "collapsed": false
   },
   "outputs": [],
   "source": [
    "users = A.index"
   ]
  },
  {
   "cell_type": "code",
   "execution_count": 1183,
   "metadata": {
    "collapsed": true
   },
   "outputs": [],
   "source": [
    "for i in pred_linear.index.values:\n",
    "    if pred_linear.ix[i, 0] >= 61:\n",
    "        pred_linear.ix[i, 0] = 1\n",
    "    else:\n",
    "        pred_linear.ix[i, 0] = 0"
   ]
  },
  {
   "cell_type": "code",
   "execution_count": 1178,
   "metadata": {
    "collapsed": false
   },
   "outputs": [],
   "source": [
    "users = pd.DataFrame(users)"
   ]
  },
  {
   "cell_type": "code",
   "execution_count": 1180,
   "metadata": {
    "collapsed": false
   },
   "outputs": [],
   "source": [
    "users.columns = ['user_id']"
   ]
  },
  {
   "cell_type": "code",
   "execution_count": 1184,
   "metadata": {
    "collapsed": false
   },
   "outputs": [],
   "source": [
    "pred_linear = pd.concat([users, pred_linear],axis=1)"
   ]
  },
  {
   "cell_type": "code",
   "execution_count": 1185,
   "metadata": {
    "collapsed": false
   },
   "outputs": [
    {
     "data": {
      "text/html": [
       "<div>\n",
       "<table border=\"1\" class=\"dataframe\">\n",
       "  <thead>\n",
       "    <tr style=\"text-align: right;\">\n",
       "      <th></th>\n",
       "      <th>user_id</th>\n",
       "      <th>passed</th>\n",
       "    </tr>\n",
       "  </thead>\n",
       "  <tbody>\n",
       "    <tr>\n",
       "      <th>0</th>\n",
       "      <td>5</td>\n",
       "      <td>0.0</td>\n",
       "    </tr>\n",
       "    <tr>\n",
       "      <th>1</th>\n",
       "      <td>9</td>\n",
       "      <td>0.0</td>\n",
       "    </tr>\n",
       "    <tr>\n",
       "      <th>2</th>\n",
       "      <td>21</td>\n",
       "      <td>0.0</td>\n",
       "    </tr>\n",
       "    <tr>\n",
       "      <th>3</th>\n",
       "      <td>26</td>\n",
       "      <td>0.0</td>\n",
       "    </tr>\n",
       "    <tr>\n",
       "      <th>4</th>\n",
       "      <td>29</td>\n",
       "      <td>1.0</td>\n",
       "    </tr>\n",
       "  </tbody>\n",
       "</table>\n",
       "</div>"
      ],
      "text/plain": [
       "   user_id  passed\n",
       "0        5     0.0\n",
       "1        9     0.0\n",
       "2       21     0.0\n",
       "3       26     0.0\n",
       "4       29     1.0"
      ]
     },
     "execution_count": 1185,
     "metadata": {},
     "output_type": "execute_result"
    }
   ],
   "source": [
    "pred_linear[:5]"
   ]
  },
  {
   "cell_type": "code",
   "execution_count": 1186,
   "metadata": {
    "collapsed": true
   },
   "outputs": [],
   "source": [
    "pred_linear.to_csv('lin_itog.csv', index=False)"
   ]
  },
  {
   "cell_type": "code",
   "execution_count": null,
   "metadata": {
    "collapsed": true
   },
   "outputs": [],
   "source": []
  },
  {
   "cell_type": "code",
   "execution_count": 1187,
   "metadata": {
    "collapsed": true
   },
   "outputs": [],
   "source": [
    "boost_pred = bst.predict(xgb.DMatrix(data = A_scaled))"
   ]
  },
  {
   "cell_type": "code",
   "execution_count": 1190,
   "metadata": {
    "collapsed": false
   },
   "outputs": [],
   "source": [
    "boost_pred = pd.DataFrame(boost_pred, columns = ['passed'])"
   ]
  },
  {
   "cell_type": "code",
   "execution_count": 1192,
   "metadata": {
    "collapsed": false
   },
   "outputs": [
    {
     "data": {
      "text/plain": [
       "(196, 1)"
      ]
     },
     "execution_count": 1192,
     "metadata": {},
     "output_type": "execute_result"
    }
   ],
   "source": [
    "boost_pred[boost_pred.passed >= 64].shape"
   ]
  },
  {
   "cell_type": "code",
   "execution_count": 1193,
   "metadata": {
    "collapsed": true
   },
   "outputs": [],
   "source": [
    "for i in boost_pred.index.values:\n",
    "    if boost_pred.ix[i, 0] >= 64:\n",
    "        boost_pred.ix[i, 0] = 1\n",
    "    else:\n",
    "        boost_pred.ix[i, 0] = 0"
   ]
  },
  {
   "cell_type": "code",
   "execution_count": 1194,
   "metadata": {
    "collapsed": true
   },
   "outputs": [],
   "source": [
    "boost_pred = pd.concat([users, boost_pred],axis=1)"
   ]
  },
  {
   "cell_type": "code",
   "execution_count": 1196,
   "metadata": {
    "collapsed": false
   },
   "outputs": [
    {
     "data": {
      "text/html": [
       "<div>\n",
       "<table border=\"1\" class=\"dataframe\">\n",
       "  <thead>\n",
       "    <tr style=\"text-align: right;\">\n",
       "      <th></th>\n",
       "      <th>user_id</th>\n",
       "      <th>passed</th>\n",
       "    </tr>\n",
       "  </thead>\n",
       "  <tbody>\n",
       "    <tr>\n",
       "      <th>0</th>\n",
       "      <td>5</td>\n",
       "      <td>0.0</td>\n",
       "    </tr>\n",
       "    <tr>\n",
       "      <th>1</th>\n",
       "      <td>9</td>\n",
       "      <td>0.0</td>\n",
       "    </tr>\n",
       "    <tr>\n",
       "      <th>2</th>\n",
       "      <td>21</td>\n",
       "      <td>0.0</td>\n",
       "    </tr>\n",
       "    <tr>\n",
       "      <th>3</th>\n",
       "      <td>26</td>\n",
       "      <td>0.0</td>\n",
       "    </tr>\n",
       "    <tr>\n",
       "      <th>4</th>\n",
       "      <td>29</td>\n",
       "      <td>1.0</td>\n",
       "    </tr>\n",
       "    <tr>\n",
       "      <th>5</th>\n",
       "      <td>32</td>\n",
       "      <td>0.0</td>\n",
       "    </tr>\n",
       "    <tr>\n",
       "      <th>6</th>\n",
       "      <td>36</td>\n",
       "      <td>0.0</td>\n",
       "    </tr>\n",
       "  </tbody>\n",
       "</table>\n",
       "</div>"
      ],
      "text/plain": [
       "   user_id  passed\n",
       "0        5     0.0\n",
       "1        9     0.0\n",
       "2       21     0.0\n",
       "3       26     0.0\n",
       "4       29     1.0\n",
       "5       32     0.0\n",
       "6       36     0.0"
      ]
     },
     "execution_count": 1196,
     "metadata": {},
     "output_type": "execute_result"
    }
   ],
   "source": [
    "boost_pred[:7]"
   ]
  },
  {
   "cell_type": "code",
   "execution_count": 1197,
   "metadata": {
    "collapsed": true
   },
   "outputs": [],
   "source": [
    "boost_pred.to_csv('boost_itog.csv', index=False)"
   ]
  },
  {
   "cell_type": "code",
   "execution_count": null,
   "metadata": {
    "collapsed": true
   },
   "outputs": [],
   "source": []
  },
  {
   "cell_type": "code",
   "execution_count": 1214,
   "metadata": {
    "collapsed": false
   },
   "outputs": [
    {
     "data": {
      "text/plain": [
       "(196, 1)"
      ]
     },
     "execution_count": 1214,
     "metadata": {},
     "output_type": "execute_result"
    }
   ],
   "source": [
    "forest_pred = forest_regressor.predict(A_scaled)\n",
    "forest_pred = pd.DataFrame(forest_pred)\n",
    "forest_pred.columns = ['passed']\n",
    "forest_pred[forest_pred.passed >= 65].shape"
   ]
  },
  {
   "cell_type": "code",
   "execution_count": 1215,
   "metadata": {
    "collapsed": true
   },
   "outputs": [],
   "source": [
    "for i in forest_pred.index.values:\n",
    "    if forest_pred.ix[i, 0] >=65:\n",
    "        forest_pred.ix[i, 0] = '1'\n",
    "    else:\n",
    "        forest_pred.ix[i, 0] = '0'"
   ]
  },
  {
   "cell_type": "code",
   "execution_count": 1216,
   "metadata": {
    "collapsed": true
   },
   "outputs": [],
   "source": [
    "forest_pred = pd.concat([users, forest_pred],axis=1)"
   ]
  },
  {
   "cell_type": "code",
   "execution_count": 1217,
   "metadata": {
    "collapsed": false
   },
   "outputs": [
    {
     "data": {
      "text/html": [
       "<div>\n",
       "<table border=\"1\" class=\"dataframe\">\n",
       "  <thead>\n",
       "    <tr style=\"text-align: right;\">\n",
       "      <th></th>\n",
       "      <th>user_id</th>\n",
       "      <th>passed</th>\n",
       "    </tr>\n",
       "  </thead>\n",
       "  <tbody>\n",
       "    <tr>\n",
       "      <th>0</th>\n",
       "      <td>5</td>\n",
       "      <td>0</td>\n",
       "    </tr>\n",
       "    <tr>\n",
       "      <th>1</th>\n",
       "      <td>9</td>\n",
       "      <td>0</td>\n",
       "    </tr>\n",
       "    <tr>\n",
       "      <th>2</th>\n",
       "      <td>21</td>\n",
       "      <td>0</td>\n",
       "    </tr>\n",
       "  </tbody>\n",
       "</table>\n",
       "</div>"
      ],
      "text/plain": [
       "   user_id passed\n",
       "0        5      0\n",
       "1        9      0\n",
       "2       21      0"
      ]
     },
     "execution_count": 1217,
     "metadata": {},
     "output_type": "execute_result"
    }
   ],
   "source": [
    "forest_pred[:3]"
   ]
  },
  {
   "cell_type": "code",
   "execution_count": 1218,
   "metadata": {
    "collapsed": true
   },
   "outputs": [],
   "source": [
    "forest_pred.to_csv('forest_itog.csv', index=False)"
   ]
  },
  {
   "cell_type": "markdown",
   "metadata": {},
   "source": [
    "## голосование"
   ]
  },
  {
   "cell_type": "code",
   "execution_count": 1210,
   "metadata": {
    "collapsed": true
   },
   "outputs": [],
   "source": [
    "s1 = pd.read_csv('lin_itog.csv')\n",
    "s2 = pd.read_csv('boost_itog.csv')\n",
    "s3 = pd.read_csv('forest_itog.csv')\n"
   ]
  },
  {
   "cell_type": "code",
   "execution_count": 1211,
   "metadata": {
    "collapsed": false
   },
   "outputs": [
    {
     "data": {
      "text/plain": [
       "(0, 2)"
      ]
     },
     "execution_count": 1211,
     "metadata": {},
     "output_type": "execute_result"
    }
   ],
   "source": [
    "for i in s1.index.values:\n",
    "    if s1.ix[i, 1] + s2.ix[i, 1] + s3.ix[i, 1] >= 2:\n",
    "        s1.ix[i, 1] = '1'\n",
    "    else:\n",
    "        s1.ix[i, 1] = '0'\n",
    "s1[s1.passed == 0].shape"
   ]
  },
  {
   "cell_type": "code",
   "execution_count": 1212,
   "metadata": {
    "collapsed": false
   },
   "outputs": [
    {
     "data": {
      "text/plain": [
       "(188, 2)"
      ]
     },
     "execution_count": 1212,
     "metadata": {},
     "output_type": "execute_result"
    }
   ],
   "source": [
    "s1[s1.passed == '1'].shape"
   ]
  },
  {
   "cell_type": "code",
   "execution_count": 1213,
   "metadata": {
    "collapsed": true
   },
   "outputs": [],
   "source": [
    "s1.to_csv('golos_itog.csv', index=False)"
   ]
  },
  {
   "cell_type": "code",
   "execution_count": 360,
   "metadata": {
    "collapsed": false
   },
   "outputs": [
    {
     "data": {
      "text/plain": [
       "0.039"
      ]
     },
     "execution_count": 360,
     "metadata": {},
     "output_type": "execute_result"
    }
   ],
   "source": [
    "195.0/5000"
   ]
  },
  {
   "cell_type": "code",
   "execution_count": 198,
   "metadata": {
    "collapsed": false
   },
   "outputs": [
    {
     "data": {
      "text/plain": [
       "(16625, 4)"
      ]
     },
     "execution_count": 198,
     "metadata": {},
     "output_type": "execute_result"
    }
   ],
   "source": [
    "targets.shape"
   ]
  },
  {
   "cell_type": "code",
   "execution_count": 171,
   "metadata": {
    "collapsed": false
   },
   "outputs": [
    {
     "data": {
      "text/plain": [
       "(659, 4)"
      ]
     },
     "execution_count": 171,
     "metadata": {},
     "output_type": "execute_result"
    }
   ],
   "source": [
    "targets[targets.passed == 1].shape"
   ]
  },
  {
   "cell_type": "code",
   "execution_count": 199,
   "metadata": {
    "collapsed": false
   },
   "outputs": [
    {
     "data": {
      "text/plain": [
       "0.039639097744360904"
      ]
     },
     "execution_count": 199,
     "metadata": {},
     "output_type": "execute_result"
    }
   ],
   "source": [
    "659.0 / 16625"
   ]
  },
  {
   "cell_type": "code",
   "execution_count": 174,
   "metadata": {
    "collapsed": false
   },
   "outputs": [
    {
     "data": {
      "text/html": [
       "<div>\n",
       "<table border=\"1\" class=\"dataframe\">\n",
       "  <thead>\n",
       "    <tr style=\"text-align: right;\">\n",
       "      <th></th>\n",
       "      <th>user_id</th>\n",
       "      <th>score</th>\n",
       "      <th>passed</th>\n",
       "      <th>distinction</th>\n",
       "    </tr>\n",
       "    <tr>\n",
       "      <th>user_id</th>\n",
       "      <th></th>\n",
       "      <th></th>\n",
       "      <th></th>\n",
       "      <th></th>\n",
       "    </tr>\n",
       "  </thead>\n",
       "  <tbody>\n",
       "    <tr>\n",
       "      <th>1</th>\n",
       "      <td>2</td>\n",
       "      <td>82</td>\n",
       "      <td>0</td>\n",
       "      <td>0</td>\n",
       "    </tr>\n",
       "    <tr>\n",
       "      <th>2</th>\n",
       "      <td>3</td>\n",
       "      <td>89</td>\n",
       "      <td>0</td>\n",
       "      <td>0</td>\n",
       "    </tr>\n",
       "    <tr>\n",
       "      <th>3</th>\n",
       "      <td>4</td>\n",
       "      <td>9</td>\n",
       "      <td>0</td>\n",
       "      <td>0</td>\n",
       "    </tr>\n",
       "    <tr>\n",
       "      <th>4</th>\n",
       "      <td>6</td>\n",
       "      <td>26</td>\n",
       "      <td>0</td>\n",
       "      <td>0</td>\n",
       "    </tr>\n",
       "    <tr>\n",
       "      <th>6</th>\n",
       "      <td>8</td>\n",
       "      <td>9</td>\n",
       "      <td>0</td>\n",
       "      <td>0</td>\n",
       "    </tr>\n",
       "    <tr>\n",
       "      <th>7</th>\n",
       "      <td>10</td>\n",
       "      <td>3</td>\n",
       "      <td>0</td>\n",
       "      <td>0</td>\n",
       "    </tr>\n",
       "    <tr>\n",
       "      <th>8</th>\n",
       "      <td>11</td>\n",
       "      <td>11</td>\n",
       "      <td>0</td>\n",
       "      <td>0</td>\n",
       "    </tr>\n",
       "    <tr>\n",
       "      <th>10</th>\n",
       "      <td>13</td>\n",
       "      <td>0</td>\n",
       "      <td>0</td>\n",
       "      <td>0</td>\n",
       "    </tr>\n",
       "    <tr>\n",
       "      <th>11</th>\n",
       "      <td>14</td>\n",
       "      <td>119</td>\n",
       "      <td>1</td>\n",
       "      <td>1</td>\n",
       "    </tr>\n",
       "    <tr>\n",
       "      <th>12</th>\n",
       "      <td>15</td>\n",
       "      <td>37</td>\n",
       "      <td>0</td>\n",
       "      <td>0</td>\n",
       "    </tr>\n",
       "    <tr>\n",
       "      <th>13</th>\n",
       "      <td>16</td>\n",
       "      <td>36</td>\n",
       "      <td>0</td>\n",
       "      <td>0</td>\n",
       "    </tr>\n",
       "    <tr>\n",
       "      <th>14</th>\n",
       "      <td>17</td>\n",
       "      <td>32</td>\n",
       "      <td>0</td>\n",
       "      <td>0</td>\n",
       "    </tr>\n",
       "    <tr>\n",
       "      <th>15</th>\n",
       "      <td>18</td>\n",
       "      <td>50</td>\n",
       "      <td>0</td>\n",
       "      <td>0</td>\n",
       "    </tr>\n",
       "    <tr>\n",
       "      <th>16</th>\n",
       "      <td>19</td>\n",
       "      <td>9</td>\n",
       "      <td>0</td>\n",
       "      <td>0</td>\n",
       "    </tr>\n",
       "    <tr>\n",
       "      <th>17</th>\n",
       "      <td>20</td>\n",
       "      <td>14</td>\n",
       "      <td>0</td>\n",
       "      <td>0</td>\n",
       "    </tr>\n",
       "    <tr>\n",
       "      <th>18</th>\n",
       "      <td>22</td>\n",
       "      <td>13</td>\n",
       "      <td>0</td>\n",
       "      <td>0</td>\n",
       "    </tr>\n",
       "    <tr>\n",
       "      <th>19</th>\n",
       "      <td>23</td>\n",
       "      <td>43</td>\n",
       "      <td>0</td>\n",
       "      <td>0</td>\n",
       "    </tr>\n",
       "    <tr>\n",
       "      <th>20</th>\n",
       "      <td>24</td>\n",
       "      <td>78</td>\n",
       "      <td>0</td>\n",
       "      <td>0</td>\n",
       "    </tr>\n",
       "    <tr>\n",
       "      <th>22</th>\n",
       "      <td>27</td>\n",
       "      <td>8</td>\n",
       "      <td>0</td>\n",
       "      <td>0</td>\n",
       "    </tr>\n",
       "    <tr>\n",
       "      <th>23</th>\n",
       "      <td>28</td>\n",
       "      <td>32</td>\n",
       "      <td>0</td>\n",
       "      <td>0</td>\n",
       "    </tr>\n",
       "    <tr>\n",
       "      <th>24</th>\n",
       "      <td>30</td>\n",
       "      <td>24</td>\n",
       "      <td>0</td>\n",
       "      <td>0</td>\n",
       "    </tr>\n",
       "    <tr>\n",
       "      <th>25</th>\n",
       "      <td>31</td>\n",
       "      <td>13</td>\n",
       "      <td>0</td>\n",
       "      <td>0</td>\n",
       "    </tr>\n",
       "    <tr>\n",
       "      <th>27</th>\n",
       "      <td>34</td>\n",
       "      <td>12</td>\n",
       "      <td>0</td>\n",
       "      <td>0</td>\n",
       "    </tr>\n",
       "    <tr>\n",
       "      <th>28</th>\n",
       "      <td>35</td>\n",
       "      <td>75</td>\n",
       "      <td>0</td>\n",
       "      <td>0</td>\n",
       "    </tr>\n",
       "    <tr>\n",
       "      <th>30</th>\n",
       "      <td>38</td>\n",
       "      <td>24</td>\n",
       "      <td>0</td>\n",
       "      <td>0</td>\n",
       "    </tr>\n",
       "    <tr>\n",
       "      <th>31</th>\n",
       "      <td>39</td>\n",
       "      <td>49</td>\n",
       "      <td>0</td>\n",
       "      <td>0</td>\n",
       "    </tr>\n",
       "    <tr>\n",
       "      <th>33</th>\n",
       "      <td>41</td>\n",
       "      <td>47</td>\n",
       "      <td>0</td>\n",
       "      <td>0</td>\n",
       "    </tr>\n",
       "    <tr>\n",
       "      <th>34</th>\n",
       "      <td>42</td>\n",
       "      <td>0</td>\n",
       "      <td>0</td>\n",
       "      <td>0</td>\n",
       "    </tr>\n",
       "    <tr>\n",
       "      <th>35</th>\n",
       "      <td>43</td>\n",
       "      <td>104</td>\n",
       "      <td>1</td>\n",
       "      <td>0</td>\n",
       "    </tr>\n",
       "    <tr>\n",
       "      <th>37</th>\n",
       "      <td>46</td>\n",
       "      <td>16</td>\n",
       "      <td>0</td>\n",
       "      <td>0</td>\n",
       "    </tr>\n",
       "    <tr>\n",
       "      <th>...</th>\n",
       "      <td>...</td>\n",
       "      <td>...</td>\n",
       "      <td>...</td>\n",
       "      <td>...</td>\n",
       "    </tr>\n",
       "    <tr>\n",
       "      <th>14531</th>\n",
       "      <td>18218</td>\n",
       "      <td>0</td>\n",
       "      <td>0</td>\n",
       "      <td>0</td>\n",
       "    </tr>\n",
       "    <tr>\n",
       "      <th>14532</th>\n",
       "      <td>18219</td>\n",
       "      <td>0</td>\n",
       "      <td>0</td>\n",
       "      <td>0</td>\n",
       "    </tr>\n",
       "    <tr>\n",
       "      <th>14533</th>\n",
       "      <td>18220</td>\n",
       "      <td>0</td>\n",
       "      <td>0</td>\n",
       "      <td>0</td>\n",
       "    </tr>\n",
       "    <tr>\n",
       "      <th>14534</th>\n",
       "      <td>18221</td>\n",
       "      <td>4</td>\n",
       "      <td>0</td>\n",
       "      <td>0</td>\n",
       "    </tr>\n",
       "    <tr>\n",
       "      <th>14535</th>\n",
       "      <td>18222</td>\n",
       "      <td>2</td>\n",
       "      <td>0</td>\n",
       "      <td>0</td>\n",
       "    </tr>\n",
       "    <tr>\n",
       "      <th>14536</th>\n",
       "      <td>18223</td>\n",
       "      <td>2</td>\n",
       "      <td>0</td>\n",
       "      <td>0</td>\n",
       "    </tr>\n",
       "    <tr>\n",
       "      <th>14537</th>\n",
       "      <td>18224</td>\n",
       "      <td>2</td>\n",
       "      <td>0</td>\n",
       "      <td>0</td>\n",
       "    </tr>\n",
       "    <tr>\n",
       "      <th>14538</th>\n",
       "      <td>18225</td>\n",
       "      <td>1</td>\n",
       "      <td>0</td>\n",
       "      <td>0</td>\n",
       "    </tr>\n",
       "    <tr>\n",
       "      <th>14539</th>\n",
       "      <td>18226</td>\n",
       "      <td>0</td>\n",
       "      <td>0</td>\n",
       "      <td>0</td>\n",
       "    </tr>\n",
       "    <tr>\n",
       "      <th>14540</th>\n",
       "      <td>18228</td>\n",
       "      <td>0</td>\n",
       "      <td>0</td>\n",
       "      <td>0</td>\n",
       "    </tr>\n",
       "    <tr>\n",
       "      <th>14543</th>\n",
       "      <td>18231</td>\n",
       "      <td>3</td>\n",
       "      <td>0</td>\n",
       "      <td>0</td>\n",
       "    </tr>\n",
       "    <tr>\n",
       "      <th>14545</th>\n",
       "      <td>18233</td>\n",
       "      <td>0</td>\n",
       "      <td>0</td>\n",
       "      <td>0</td>\n",
       "    </tr>\n",
       "    <tr>\n",
       "      <th>14546</th>\n",
       "      <td>18234</td>\n",
       "      <td>0</td>\n",
       "      <td>0</td>\n",
       "      <td>0</td>\n",
       "    </tr>\n",
       "    <tr>\n",
       "      <th>14547</th>\n",
       "      <td>18235</td>\n",
       "      <td>4</td>\n",
       "      <td>0</td>\n",
       "      <td>0</td>\n",
       "    </tr>\n",
       "    <tr>\n",
       "      <th>14548</th>\n",
       "      <td>18236</td>\n",
       "      <td>41</td>\n",
       "      <td>0</td>\n",
       "      <td>0</td>\n",
       "    </tr>\n",
       "    <tr>\n",
       "      <th>14551</th>\n",
       "      <td>18239</td>\n",
       "      <td>5</td>\n",
       "      <td>0</td>\n",
       "      <td>0</td>\n",
       "    </tr>\n",
       "    <tr>\n",
       "      <th>14552</th>\n",
       "      <td>18241</td>\n",
       "      <td>2</td>\n",
       "      <td>0</td>\n",
       "      <td>0</td>\n",
       "    </tr>\n",
       "    <tr>\n",
       "      <th>14553</th>\n",
       "      <td>18242</td>\n",
       "      <td>5</td>\n",
       "      <td>0</td>\n",
       "      <td>0</td>\n",
       "    </tr>\n",
       "    <tr>\n",
       "      <th>14555</th>\n",
       "      <td>18245</td>\n",
       "      <td>0</td>\n",
       "      <td>0</td>\n",
       "      <td>0</td>\n",
       "    </tr>\n",
       "    <tr>\n",
       "      <th>14556</th>\n",
       "      <td>18246</td>\n",
       "      <td>0</td>\n",
       "      <td>0</td>\n",
       "      <td>0</td>\n",
       "    </tr>\n",
       "    <tr>\n",
       "      <th>14557</th>\n",
       "      <td>18247</td>\n",
       "      <td>0</td>\n",
       "      <td>0</td>\n",
       "      <td>0</td>\n",
       "    </tr>\n",
       "    <tr>\n",
       "      <th>14558</th>\n",
       "      <td>18248</td>\n",
       "      <td>2</td>\n",
       "      <td>0</td>\n",
       "      <td>0</td>\n",
       "    </tr>\n",
       "    <tr>\n",
       "      <th>14559</th>\n",
       "      <td>18249</td>\n",
       "      <td>1</td>\n",
       "      <td>0</td>\n",
       "      <td>0</td>\n",
       "    </tr>\n",
       "    <tr>\n",
       "      <th>14560</th>\n",
       "      <td>18250</td>\n",
       "      <td>0</td>\n",
       "      <td>0</td>\n",
       "      <td>0</td>\n",
       "    </tr>\n",
       "    <tr>\n",
       "      <th>14561</th>\n",
       "      <td>18251</td>\n",
       "      <td>0</td>\n",
       "      <td>0</td>\n",
       "      <td>0</td>\n",
       "    </tr>\n",
       "    <tr>\n",
       "      <th>14562</th>\n",
       "      <td>18252</td>\n",
       "      <td>3</td>\n",
       "      <td>0</td>\n",
       "      <td>0</td>\n",
       "    </tr>\n",
       "    <tr>\n",
       "      <th>14564</th>\n",
       "      <td>18254</td>\n",
       "      <td>0</td>\n",
       "      <td>0</td>\n",
       "      <td>0</td>\n",
       "    </tr>\n",
       "    <tr>\n",
       "      <th>14565</th>\n",
       "      <td>18255</td>\n",
       "      <td>2</td>\n",
       "      <td>0</td>\n",
       "      <td>0</td>\n",
       "    </tr>\n",
       "    <tr>\n",
       "      <th>14566</th>\n",
       "      <td>18257</td>\n",
       "      <td>0</td>\n",
       "      <td>0</td>\n",
       "      <td>0</td>\n",
       "    </tr>\n",
       "    <tr>\n",
       "      <th>14567</th>\n",
       "      <td>18258</td>\n",
       "      <td>0</td>\n",
       "      <td>0</td>\n",
       "      <td>0</td>\n",
       "    </tr>\n",
       "  </tbody>\n",
       "</table>\n",
       "<p>11625 rows × 4 columns</p>\n",
       "</div>"
      ],
      "text/plain": [
       "         user_id  score  passed  distinction\n",
       "user_id                                     \n",
       "1              2     82       0            0\n",
       "2              3     89       0            0\n",
       "3              4      9       0            0\n",
       "4              6     26       0            0\n",
       "6              8      9       0            0\n",
       "7             10      3       0            0\n",
       "8             11     11       0            0\n",
       "10            13      0       0            0\n",
       "11            14    119       1            1\n",
       "12            15     37       0            0\n",
       "13            16     36       0            0\n",
       "14            17     32       0            0\n",
       "15            18     50       0            0\n",
       "16            19      9       0            0\n",
       "17            20     14       0            0\n",
       "18            22     13       0            0\n",
       "19            23     43       0            0\n",
       "20            24     78       0            0\n",
       "22            27      8       0            0\n",
       "23            28     32       0            0\n",
       "24            30     24       0            0\n",
       "25            31     13       0            0\n",
       "27            34     12       0            0\n",
       "28            35     75       0            0\n",
       "30            38     24       0            0\n",
       "31            39     49       0            0\n",
       "33            41     47       0            0\n",
       "34            42      0       0            0\n",
       "35            43    104       1            0\n",
       "37            46     16       0            0\n",
       "...          ...    ...     ...          ...\n",
       "14531      18218      0       0            0\n",
       "14532      18219      0       0            0\n",
       "14533      18220      0       0            0\n",
       "14534      18221      4       0            0\n",
       "14535      18222      2       0            0\n",
       "14536      18223      2       0            0\n",
       "14537      18224      2       0            0\n",
       "14538      18225      1       0            0\n",
       "14539      18226      0       0            0\n",
       "14540      18228      0       0            0\n",
       "14543      18231      3       0            0\n",
       "14545      18233      0       0            0\n",
       "14546      18234      0       0            0\n",
       "14547      18235      4       0            0\n",
       "14548      18236     41       0            0\n",
       "14551      18239      5       0            0\n",
       "14552      18241      2       0            0\n",
       "14553      18242      5       0            0\n",
       "14555      18245      0       0            0\n",
       "14556      18246      0       0            0\n",
       "14557      18247      0       0            0\n",
       "14558      18248      2       0            0\n",
       "14559      18249      1       0            0\n",
       "14560      18250      0       0            0\n",
       "14561      18251      0       0            0\n",
       "14562      18252      3       0            0\n",
       "14564      18254      0       0            0\n",
       "14565      18255      2       0            0\n",
       "14566      18257      0       0            0\n",
       "14567      18258      0       0            0\n",
       "\n",
       "[11625 rows x 4 columns]"
      ]
     },
     "execution_count": 174,
     "metadata": {},
     "output_type": "execute_result"
    }
   ],
   "source": [
    "targets.ix[users_train,:]"
   ]
  },
  {
   "cell_type": "code",
   "execution_count": 378,
   "metadata": {
    "collapsed": false
   },
   "outputs": [
    {
     "data": {
      "text/html": [
       "<div>\n",
       "<table border=\"1\" class=\"dataframe\">\n",
       "  <thead>\n",
       "    <tr style=\"text-align: right;\">\n",
       "      <th></th>\n",
       "      <th>course_id</th>\n",
       "      <th>module_id</th>\n",
       "      <th>module_position</th>\n",
       "      <th>lesson_id</th>\n",
       "      <th>lesson_position</th>\n",
       "      <th>step_id</th>\n",
       "      <th>step_position</th>\n",
       "      <th>step_type</th>\n",
       "      <th>step_cost</th>\n",
       "    </tr>\n",
       "  </thead>\n",
       "  <tbody>\n",
       "    <tr>\n",
       "      <th>0</th>\n",
       "      <td>7</td>\n",
       "      <td>17</td>\n",
       "      <td>1</td>\n",
       "      <td>2721</td>\n",
       "      <td>1</td>\n",
       "      <td>7225</td>\n",
       "      <td>1</td>\n",
       "      <td>text</td>\n",
       "      <td>0</td>\n",
       "    </tr>\n",
       "    <tr>\n",
       "      <th>1</th>\n",
       "      <td>7</td>\n",
       "      <td>17</td>\n",
       "      <td>1</td>\n",
       "      <td>2721</td>\n",
       "      <td>1</td>\n",
       "      <td>7230</td>\n",
       "      <td>2</td>\n",
       "      <td>text</td>\n",
       "      <td>0</td>\n",
       "    </tr>\n",
       "    <tr>\n",
       "      <th>2</th>\n",
       "      <td>7</td>\n",
       "      <td>17</td>\n",
       "      <td>1</td>\n",
       "      <td>2721</td>\n",
       "      <td>1</td>\n",
       "      <td>7231</td>\n",
       "      <td>3</td>\n",
       "      <td>text</td>\n",
       "      <td>0</td>\n",
       "    </tr>\n",
       "    <tr>\n",
       "      <th>3</th>\n",
       "      <td>7</td>\n",
       "      <td>17</td>\n",
       "      <td>1</td>\n",
       "      <td>2721</td>\n",
       "      <td>1</td>\n",
       "      <td>7232</td>\n",
       "      <td>4</td>\n",
       "      <td>text</td>\n",
       "      <td>0</td>\n",
       "    </tr>\n",
       "    <tr>\n",
       "      <th>4</th>\n",
       "      <td>7</td>\n",
       "      <td>17</td>\n",
       "      <td>1</td>\n",
       "      <td>2721</td>\n",
       "      <td>1</td>\n",
       "      <td>43604</td>\n",
       "      <td>5</td>\n",
       "      <td>text</td>\n",
       "      <td>0</td>\n",
       "    </tr>\n",
       "    <tr>\n",
       "      <th>5</th>\n",
       "      <td>7</td>\n",
       "      <td>17</td>\n",
       "      <td>1</td>\n",
       "      <td>2721</td>\n",
       "      <td>1</td>\n",
       "      <td>7233</td>\n",
       "      <td>6</td>\n",
       "      <td>text</td>\n",
       "      <td>0</td>\n",
       "    </tr>\n",
       "    <tr>\n",
       "      <th>6</th>\n",
       "      <td>7</td>\n",
       "      <td>17</td>\n",
       "      <td>1</td>\n",
       "      <td>2721</td>\n",
       "      <td>1</td>\n",
       "      <td>10828</td>\n",
       "      <td>7</td>\n",
       "      <td>text</td>\n",
       "      <td>0</td>\n",
       "    </tr>\n",
       "    <tr>\n",
       "      <th>7</th>\n",
       "      <td>7</td>\n",
       "      <td>17</td>\n",
       "      <td>1</td>\n",
       "      <td>531</td>\n",
       "      <td>2</td>\n",
       "      <td>2828</td>\n",
       "      <td>1</td>\n",
       "      <td>text</td>\n",
       "      <td>0</td>\n",
       "    </tr>\n",
       "    <tr>\n",
       "      <th>8</th>\n",
       "      <td>7</td>\n",
       "      <td>17</td>\n",
       "      <td>1</td>\n",
       "      <td>531</td>\n",
       "      <td>2</td>\n",
       "      <td>4848</td>\n",
       "      <td>2</td>\n",
       "      <td>video</td>\n",
       "      <td>0</td>\n",
       "    </tr>\n",
       "    <tr>\n",
       "      <th>9</th>\n",
       "      <td>7</td>\n",
       "      <td>17</td>\n",
       "      <td>1</td>\n",
       "      <td>531</td>\n",
       "      <td>2</td>\n",
       "      <td>4850</td>\n",
       "      <td>3</td>\n",
       "      <td>video</td>\n",
       "      <td>0</td>\n",
       "    </tr>\n",
       "    <tr>\n",
       "      <th>10</th>\n",
       "      <td>7</td>\n",
       "      <td>17</td>\n",
       "      <td>1</td>\n",
       "      <td>531</td>\n",
       "      <td>2</td>\n",
       "      <td>4851</td>\n",
       "      <td>4</td>\n",
       "      <td>video</td>\n",
       "      <td>0</td>\n",
       "    </tr>\n",
       "    <tr>\n",
       "      <th>11</th>\n",
       "      <td>7</td>\n",
       "      <td>17</td>\n",
       "      <td>1</td>\n",
       "      <td>531</td>\n",
       "      <td>2</td>\n",
       "      <td>6219</td>\n",
       "      <td>5</td>\n",
       "      <td>video</td>\n",
       "      <td>0</td>\n",
       "    </tr>\n",
       "    <tr>\n",
       "      <th>12</th>\n",
       "      <td>7</td>\n",
       "      <td>17</td>\n",
       "      <td>1</td>\n",
       "      <td>531</td>\n",
       "      <td>2</td>\n",
       "      <td>6220</td>\n",
       "      <td>6</td>\n",
       "      <td>video</td>\n",
       "      <td>0</td>\n",
       "    </tr>\n",
       "    <tr>\n",
       "      <th>13</th>\n",
       "      <td>7</td>\n",
       "      <td>17</td>\n",
       "      <td>1</td>\n",
       "      <td>531</td>\n",
       "      <td>2</td>\n",
       "      <td>6221</td>\n",
       "      <td>7</td>\n",
       "      <td>video</td>\n",
       "      <td>0</td>\n",
       "    </tr>\n",
       "    <tr>\n",
       "      <th>14</th>\n",
       "      <td>7</td>\n",
       "      <td>17</td>\n",
       "      <td>1</td>\n",
       "      <td>531</td>\n",
       "      <td>2</td>\n",
       "      <td>6222</td>\n",
       "      <td>8</td>\n",
       "      <td>video</td>\n",
       "      <td>0</td>\n",
       "    </tr>\n",
       "    <tr>\n",
       "      <th>15</th>\n",
       "      <td>7</td>\n",
       "      <td>17</td>\n",
       "      <td>1</td>\n",
       "      <td>531</td>\n",
       "      <td>2</td>\n",
       "      <td>2824</td>\n",
       "      <td>9</td>\n",
       "      <td>choice</td>\n",
       "      <td>1</td>\n",
       "    </tr>\n",
       "    <tr>\n",
       "      <th>16</th>\n",
       "      <td>7</td>\n",
       "      <td>17</td>\n",
       "      <td>1</td>\n",
       "      <td>531</td>\n",
       "      <td>2</td>\n",
       "      <td>2825</td>\n",
       "      <td>10</td>\n",
       "      <td>choice</td>\n",
       "      <td>1</td>\n",
       "    </tr>\n",
       "    <tr>\n",
       "      <th>17</th>\n",
       "      <td>7</td>\n",
       "      <td>17</td>\n",
       "      <td>1</td>\n",
       "      <td>532</td>\n",
       "      <td>3</td>\n",
       "      <td>7257</td>\n",
       "      <td>1</td>\n",
       "      <td>text</td>\n",
       "      <td>0</td>\n",
       "    </tr>\n",
       "    <tr>\n",
       "      <th>18</th>\n",
       "      <td>7</td>\n",
       "      <td>17</td>\n",
       "      <td>1</td>\n",
       "      <td>532</td>\n",
       "      <td>3</td>\n",
       "      <td>6950</td>\n",
       "      <td>2</td>\n",
       "      <td>video</td>\n",
       "      <td>0</td>\n",
       "    </tr>\n",
       "    <tr>\n",
       "      <th>19</th>\n",
       "      <td>7</td>\n",
       "      <td>17</td>\n",
       "      <td>1</td>\n",
       "      <td>532</td>\n",
       "      <td>3</td>\n",
       "      <td>2827</td>\n",
       "      <td>3</td>\n",
       "      <td>text</td>\n",
       "      <td>0</td>\n",
       "    </tr>\n",
       "    <tr>\n",
       "      <th>20</th>\n",
       "      <td>7</td>\n",
       "      <td>17</td>\n",
       "      <td>1</td>\n",
       "      <td>532</td>\n",
       "      <td>3</td>\n",
       "      <td>6951</td>\n",
       "      <td>4</td>\n",
       "      <td>video</td>\n",
       "      <td>0</td>\n",
       "    </tr>\n",
       "    <tr>\n",
       "      <th>21</th>\n",
       "      <td>7</td>\n",
       "      <td>17</td>\n",
       "      <td>1</td>\n",
       "      <td>532</td>\n",
       "      <td>3</td>\n",
       "      <td>6954</td>\n",
       "      <td>5</td>\n",
       "      <td>video</td>\n",
       "      <td>0</td>\n",
       "    </tr>\n",
       "    <tr>\n",
       "      <th>22</th>\n",
       "      <td>7</td>\n",
       "      <td>17</td>\n",
       "      <td>1</td>\n",
       "      <td>532</td>\n",
       "      <td>3</td>\n",
       "      <td>6956</td>\n",
       "      <td>6</td>\n",
       "      <td>video</td>\n",
       "      <td>0</td>\n",
       "    </tr>\n",
       "    <tr>\n",
       "      <th>23</th>\n",
       "      <td>7</td>\n",
       "      <td>17</td>\n",
       "      <td>1</td>\n",
       "      <td>532</td>\n",
       "      <td>3</td>\n",
       "      <td>6957</td>\n",
       "      <td>7</td>\n",
       "      <td>video</td>\n",
       "      <td>0</td>\n",
       "    </tr>\n",
       "    <tr>\n",
       "      <th>24</th>\n",
       "      <td>7</td>\n",
       "      <td>17</td>\n",
       "      <td>1</td>\n",
       "      <td>532</td>\n",
       "      <td>3</td>\n",
       "      <td>6958</td>\n",
       "      <td>8</td>\n",
       "      <td>video</td>\n",
       "      <td>0</td>\n",
       "    </tr>\n",
       "    <tr>\n",
       "      <th>25</th>\n",
       "      <td>7</td>\n",
       "      <td>17</td>\n",
       "      <td>1</td>\n",
       "      <td>532</td>\n",
       "      <td>3</td>\n",
       "      <td>6959</td>\n",
       "      <td>9</td>\n",
       "      <td>video</td>\n",
       "      <td>0</td>\n",
       "    </tr>\n",
       "    <tr>\n",
       "      <th>26</th>\n",
       "      <td>7</td>\n",
       "      <td>17</td>\n",
       "      <td>1</td>\n",
       "      <td>532</td>\n",
       "      <td>3</td>\n",
       "      <td>2829</td>\n",
       "      <td>10</td>\n",
       "      <td>choice</td>\n",
       "      <td>1</td>\n",
       "    </tr>\n",
       "    <tr>\n",
       "      <th>27</th>\n",
       "      <td>7</td>\n",
       "      <td>17</td>\n",
       "      <td>1</td>\n",
       "      <td>533</td>\n",
       "      <td>4</td>\n",
       "      <td>7268</td>\n",
       "      <td>1</td>\n",
       "      <td>text</td>\n",
       "      <td>0</td>\n",
       "    </tr>\n",
       "    <tr>\n",
       "      <th>28</th>\n",
       "      <td>7</td>\n",
       "      <td>17</td>\n",
       "      <td>1</td>\n",
       "      <td>533</td>\n",
       "      <td>4</td>\n",
       "      <td>6962</td>\n",
       "      <td>2</td>\n",
       "      <td>video</td>\n",
       "      <td>0</td>\n",
       "    </tr>\n",
       "    <tr>\n",
       "      <th>29</th>\n",
       "      <td>7</td>\n",
       "      <td>17</td>\n",
       "      <td>1</td>\n",
       "      <td>533</td>\n",
       "      <td>4</td>\n",
       "      <td>6963</td>\n",
       "      <td>3</td>\n",
       "      <td>video</td>\n",
       "      <td>0</td>\n",
       "    </tr>\n",
       "    <tr>\n",
       "      <th>...</th>\n",
       "      <td>...</td>\n",
       "      <td>...</td>\n",
       "      <td>...</td>\n",
       "      <td>...</td>\n",
       "      <td>...</td>\n",
       "      <td>...</td>\n",
       "      <td>...</td>\n",
       "      <td>...</td>\n",
       "      <td>...</td>\n",
       "    </tr>\n",
       "    <tr>\n",
       "      <th>324</th>\n",
       "      <td>7</td>\n",
       "      <td>131</td>\n",
       "      <td>6</td>\n",
       "      <td>563</td>\n",
       "      <td>1</td>\n",
       "      <td>11575</td>\n",
       "      <td>8</td>\n",
       "      <td>code</td>\n",
       "      <td>2</td>\n",
       "    </tr>\n",
       "    <tr>\n",
       "      <th>325</th>\n",
       "      <td>7</td>\n",
       "      <td>131</td>\n",
       "      <td>6</td>\n",
       "      <td>564</td>\n",
       "      <td>2</td>\n",
       "      <td>2708</td>\n",
       "      <td>1</td>\n",
       "      <td>text</td>\n",
       "      <td>0</td>\n",
       "    </tr>\n",
       "    <tr>\n",
       "      <th>326</th>\n",
       "      <td>7</td>\n",
       "      <td>131</td>\n",
       "      <td>6</td>\n",
       "      <td>564</td>\n",
       "      <td>2</td>\n",
       "      <td>11540</td>\n",
       "      <td>2</td>\n",
       "      <td>video</td>\n",
       "      <td>0</td>\n",
       "    </tr>\n",
       "    <tr>\n",
       "      <th>327</th>\n",
       "      <td>7</td>\n",
       "      <td>131</td>\n",
       "      <td>6</td>\n",
       "      <td>564</td>\n",
       "      <td>2</td>\n",
       "      <td>11541</td>\n",
       "      <td>3</td>\n",
       "      <td>video</td>\n",
       "      <td>0</td>\n",
       "    </tr>\n",
       "    <tr>\n",
       "      <th>328</th>\n",
       "      <td>7</td>\n",
       "      <td>131</td>\n",
       "      <td>6</td>\n",
       "      <td>564</td>\n",
       "      <td>2</td>\n",
       "      <td>11542</td>\n",
       "      <td>4</td>\n",
       "      <td>video</td>\n",
       "      <td>0</td>\n",
       "    </tr>\n",
       "    <tr>\n",
       "      <th>329</th>\n",
       "      <td>7</td>\n",
       "      <td>131</td>\n",
       "      <td>6</td>\n",
       "      <td>564</td>\n",
       "      <td>2</td>\n",
       "      <td>11479</td>\n",
       "      <td>5</td>\n",
       "      <td>code</td>\n",
       "      <td>2</td>\n",
       "    </tr>\n",
       "    <tr>\n",
       "      <th>330</th>\n",
       "      <td>7</td>\n",
       "      <td>131</td>\n",
       "      <td>6</td>\n",
       "      <td>564</td>\n",
       "      <td>2</td>\n",
       "      <td>11469</td>\n",
       "      <td>6</td>\n",
       "      <td>text</td>\n",
       "      <td>0</td>\n",
       "    </tr>\n",
       "    <tr>\n",
       "      <th>331</th>\n",
       "      <td>7</td>\n",
       "      <td>131</td>\n",
       "      <td>6</td>\n",
       "      <td>564</td>\n",
       "      <td>2</td>\n",
       "      <td>11685</td>\n",
       "      <td>7</td>\n",
       "      <td>text</td>\n",
       "      <td>0</td>\n",
       "    </tr>\n",
       "    <tr>\n",
       "      <th>332</th>\n",
       "      <td>7</td>\n",
       "      <td>131</td>\n",
       "      <td>6</td>\n",
       "      <td>564</td>\n",
       "      <td>2</td>\n",
       "      <td>11471</td>\n",
       "      <td>8</td>\n",
       "      <td>code</td>\n",
       "      <td>2</td>\n",
       "    </tr>\n",
       "    <tr>\n",
       "      <th>333</th>\n",
       "      <td>7</td>\n",
       "      <td>131</td>\n",
       "      <td>6</td>\n",
       "      <td>564</td>\n",
       "      <td>2</td>\n",
       "      <td>11463</td>\n",
       "      <td>9</td>\n",
       "      <td>code</td>\n",
       "      <td>2</td>\n",
       "    </tr>\n",
       "    <tr>\n",
       "      <th>334</th>\n",
       "      <td>7</td>\n",
       "      <td>131</td>\n",
       "      <td>6</td>\n",
       "      <td>564</td>\n",
       "      <td>2</td>\n",
       "      <td>11543</td>\n",
       "      <td>10</td>\n",
       "      <td>video</td>\n",
       "      <td>0</td>\n",
       "    </tr>\n",
       "    <tr>\n",
       "      <th>335</th>\n",
       "      <td>7</td>\n",
       "      <td>131</td>\n",
       "      <td>6</td>\n",
       "      <td>564</td>\n",
       "      <td>2</td>\n",
       "      <td>11572</td>\n",
       "      <td>11</td>\n",
       "      <td>code</td>\n",
       "      <td>3</td>\n",
       "    </tr>\n",
       "    <tr>\n",
       "      <th>336</th>\n",
       "      <td>7</td>\n",
       "      <td>131</td>\n",
       "      <td>6</td>\n",
       "      <td>566</td>\n",
       "      <td>3</td>\n",
       "      <td>2710</td>\n",
       "      <td>1</td>\n",
       "      <td>text</td>\n",
       "      <td>0</td>\n",
       "    </tr>\n",
       "    <tr>\n",
       "      <th>337</th>\n",
       "      <td>7</td>\n",
       "      <td>131</td>\n",
       "      <td>6</td>\n",
       "      <td>566</td>\n",
       "      <td>3</td>\n",
       "      <td>11545</td>\n",
       "      <td>2</td>\n",
       "      <td>video</td>\n",
       "      <td>0</td>\n",
       "    </tr>\n",
       "    <tr>\n",
       "      <th>338</th>\n",
       "      <td>7</td>\n",
       "      <td>131</td>\n",
       "      <td>6</td>\n",
       "      <td>566</td>\n",
       "      <td>3</td>\n",
       "      <td>11544</td>\n",
       "      <td>3</td>\n",
       "      <td>video</td>\n",
       "      <td>0</td>\n",
       "    </tr>\n",
       "    <tr>\n",
       "      <th>339</th>\n",
       "      <td>7</td>\n",
       "      <td>131</td>\n",
       "      <td>6</td>\n",
       "      <td>566</td>\n",
       "      <td>3</td>\n",
       "      <td>11546</td>\n",
       "      <td>4</td>\n",
       "      <td>video</td>\n",
       "      <td>0</td>\n",
       "    </tr>\n",
       "    <tr>\n",
       "      <th>340</th>\n",
       "      <td>7</td>\n",
       "      <td>131</td>\n",
       "      <td>6</td>\n",
       "      <td>566</td>\n",
       "      <td>3</td>\n",
       "      <td>11547</td>\n",
       "      <td>5</td>\n",
       "      <td>video</td>\n",
       "      <td>0</td>\n",
       "    </tr>\n",
       "    <tr>\n",
       "      <th>341</th>\n",
       "      <td>7</td>\n",
       "      <td>131</td>\n",
       "      <td>6</td>\n",
       "      <td>566</td>\n",
       "      <td>3</td>\n",
       "      <td>11486</td>\n",
       "      <td>6</td>\n",
       "      <td>text</td>\n",
       "      <td>0</td>\n",
       "    </tr>\n",
       "    <tr>\n",
       "      <th>342</th>\n",
       "      <td>7</td>\n",
       "      <td>131</td>\n",
       "      <td>6</td>\n",
       "      <td>566</td>\n",
       "      <td>3</td>\n",
       "      <td>11484</td>\n",
       "      <td>7</td>\n",
       "      <td>code</td>\n",
       "      <td>2</td>\n",
       "    </tr>\n",
       "    <tr>\n",
       "      <th>343</th>\n",
       "      <td>7</td>\n",
       "      <td>131</td>\n",
       "      <td>6</td>\n",
       "      <td>567</td>\n",
       "      <td>4</td>\n",
       "      <td>2711</td>\n",
       "      <td>1</td>\n",
       "      <td>text</td>\n",
       "      <td>0</td>\n",
       "    </tr>\n",
       "    <tr>\n",
       "      <th>344</th>\n",
       "      <td>7</td>\n",
       "      <td>131</td>\n",
       "      <td>6</td>\n",
       "      <td>567</td>\n",
       "      <td>4</td>\n",
       "      <td>11548</td>\n",
       "      <td>2</td>\n",
       "      <td>video</td>\n",
       "      <td>0</td>\n",
       "    </tr>\n",
       "    <tr>\n",
       "      <th>345</th>\n",
       "      <td>7</td>\n",
       "      <td>131</td>\n",
       "      <td>6</td>\n",
       "      <td>567</td>\n",
       "      <td>4</td>\n",
       "      <td>11487</td>\n",
       "      <td>3</td>\n",
       "      <td>code</td>\n",
       "      <td>2</td>\n",
       "    </tr>\n",
       "    <tr>\n",
       "      <th>346</th>\n",
       "      <td>7</td>\n",
       "      <td>131</td>\n",
       "      <td>6</td>\n",
       "      <td>567</td>\n",
       "      <td>4</td>\n",
       "      <td>11549</td>\n",
       "      <td>4</td>\n",
       "      <td>video</td>\n",
       "      <td>0</td>\n",
       "    </tr>\n",
       "    <tr>\n",
       "      <th>347</th>\n",
       "      <td>7</td>\n",
       "      <td>131</td>\n",
       "      <td>6</td>\n",
       "      <td>567</td>\n",
       "      <td>4</td>\n",
       "      <td>11550</td>\n",
       "      <td>5</td>\n",
       "      <td>video</td>\n",
       "      <td>0</td>\n",
       "    </tr>\n",
       "    <tr>\n",
       "      <th>348</th>\n",
       "      <td>7</td>\n",
       "      <td>131</td>\n",
       "      <td>6</td>\n",
       "      <td>567</td>\n",
       "      <td>4</td>\n",
       "      <td>11551</td>\n",
       "      <td>6</td>\n",
       "      <td>video</td>\n",
       "      <td>0</td>\n",
       "    </tr>\n",
       "    <tr>\n",
       "      <th>349</th>\n",
       "      <td>7</td>\n",
       "      <td>131</td>\n",
       "      <td>6</td>\n",
       "      <td>567</td>\n",
       "      <td>4</td>\n",
       "      <td>11552</td>\n",
       "      <td>7</td>\n",
       "      <td>video</td>\n",
       "      <td>0</td>\n",
       "    </tr>\n",
       "    <tr>\n",
       "      <th>350</th>\n",
       "      <td>7</td>\n",
       "      <td>131</td>\n",
       "      <td>6</td>\n",
       "      <td>567</td>\n",
       "      <td>4</td>\n",
       "      <td>11553</td>\n",
       "      <td>8</td>\n",
       "      <td>video</td>\n",
       "      <td>0</td>\n",
       "    </tr>\n",
       "    <tr>\n",
       "      <th>351</th>\n",
       "      <td>7</td>\n",
       "      <td>1309</td>\n",
       "      <td>7</td>\n",
       "      <td>24498</td>\n",
       "      <td>1</td>\n",
       "      <td>84530</td>\n",
       "      <td>1</td>\n",
       "      <td>text</td>\n",
       "      <td>0</td>\n",
       "    </tr>\n",
       "    <tr>\n",
       "      <th>352</th>\n",
       "      <td>7</td>\n",
       "      <td>1309</td>\n",
       "      <td>7</td>\n",
       "      <td>24498</td>\n",
       "      <td>1</td>\n",
       "      <td>84531</td>\n",
       "      <td>2</td>\n",
       "      <td>video</td>\n",
       "      <td>0</td>\n",
       "    </tr>\n",
       "    <tr>\n",
       "      <th>353</th>\n",
       "      <td>7</td>\n",
       "      <td>1309</td>\n",
       "      <td>7</td>\n",
       "      <td>24498</td>\n",
       "      <td>1</td>\n",
       "      <td>84377</td>\n",
       "      <td>3</td>\n",
       "      <td>text</td>\n",
       "      <td>0</td>\n",
       "    </tr>\n",
       "  </tbody>\n",
       "</table>\n",
       "<p>354 rows × 9 columns</p>\n",
       "</div>"
      ],
      "text/plain": [
       "     course_id  module_id  module_position  lesson_id  lesson_position  \\\n",
       "0            7         17                1       2721                1   \n",
       "1            7         17                1       2721                1   \n",
       "2            7         17                1       2721                1   \n",
       "3            7         17                1       2721                1   \n",
       "4            7         17                1       2721                1   \n",
       "5            7         17                1       2721                1   \n",
       "6            7         17                1       2721                1   \n",
       "7            7         17                1        531                2   \n",
       "8            7         17                1        531                2   \n",
       "9            7         17                1        531                2   \n",
       "10           7         17                1        531                2   \n",
       "11           7         17                1        531                2   \n",
       "12           7         17                1        531                2   \n",
       "13           7         17                1        531                2   \n",
       "14           7         17                1        531                2   \n",
       "15           7         17                1        531                2   \n",
       "16           7         17                1        531                2   \n",
       "17           7         17                1        532                3   \n",
       "18           7         17                1        532                3   \n",
       "19           7         17                1        532                3   \n",
       "20           7         17                1        532                3   \n",
       "21           7         17                1        532                3   \n",
       "22           7         17                1        532                3   \n",
       "23           7         17                1        532                3   \n",
       "24           7         17                1        532                3   \n",
       "25           7         17                1        532                3   \n",
       "26           7         17                1        532                3   \n",
       "27           7         17                1        533                4   \n",
       "28           7         17                1        533                4   \n",
       "29           7         17                1        533                4   \n",
       "..         ...        ...              ...        ...              ...   \n",
       "324          7        131                6        563                1   \n",
       "325          7        131                6        564                2   \n",
       "326          7        131                6        564                2   \n",
       "327          7        131                6        564                2   \n",
       "328          7        131                6        564                2   \n",
       "329          7        131                6        564                2   \n",
       "330          7        131                6        564                2   \n",
       "331          7        131                6        564                2   \n",
       "332          7        131                6        564                2   \n",
       "333          7        131                6        564                2   \n",
       "334          7        131                6        564                2   \n",
       "335          7        131                6        564                2   \n",
       "336          7        131                6        566                3   \n",
       "337          7        131                6        566                3   \n",
       "338          7        131                6        566                3   \n",
       "339          7        131                6        566                3   \n",
       "340          7        131                6        566                3   \n",
       "341          7        131                6        566                3   \n",
       "342          7        131                6        566                3   \n",
       "343          7        131                6        567                4   \n",
       "344          7        131                6        567                4   \n",
       "345          7        131                6        567                4   \n",
       "346          7        131                6        567                4   \n",
       "347          7        131                6        567                4   \n",
       "348          7        131                6        567                4   \n",
       "349          7        131                6        567                4   \n",
       "350          7        131                6        567                4   \n",
       "351          7       1309                7      24498                1   \n",
       "352          7       1309                7      24498                1   \n",
       "353          7       1309                7      24498                1   \n",
       "\n",
       "     step_id  step_position step_type  step_cost  \n",
       "0       7225              1      text          0  \n",
       "1       7230              2      text          0  \n",
       "2       7231              3      text          0  \n",
       "3       7232              4      text          0  \n",
       "4      43604              5      text          0  \n",
       "5       7233              6      text          0  \n",
       "6      10828              7      text          0  \n",
       "7       2828              1      text          0  \n",
       "8       4848              2     video          0  \n",
       "9       4850              3     video          0  \n",
       "10      4851              4     video          0  \n",
       "11      6219              5     video          0  \n",
       "12      6220              6     video          0  \n",
       "13      6221              7     video          0  \n",
       "14      6222              8     video          0  \n",
       "15      2824              9    choice          1  \n",
       "16      2825             10    choice          1  \n",
       "17      7257              1      text          0  \n",
       "18      6950              2     video          0  \n",
       "19      2827              3      text          0  \n",
       "20      6951              4     video          0  \n",
       "21      6954              5     video          0  \n",
       "22      6956              6     video          0  \n",
       "23      6957              7     video          0  \n",
       "24      6958              8     video          0  \n",
       "25      6959              9     video          0  \n",
       "26      2829             10    choice          1  \n",
       "27      7268              1      text          0  \n",
       "28      6962              2     video          0  \n",
       "29      6963              3     video          0  \n",
       "..       ...            ...       ...        ...  \n",
       "324    11575              8      code          2  \n",
       "325     2708              1      text          0  \n",
       "326    11540              2     video          0  \n",
       "327    11541              3     video          0  \n",
       "328    11542              4     video          0  \n",
       "329    11479              5      code          2  \n",
       "330    11469              6      text          0  \n",
       "331    11685              7      text          0  \n",
       "332    11471              8      code          2  \n",
       "333    11463              9      code          2  \n",
       "334    11543             10     video          0  \n",
       "335    11572             11      code          3  \n",
       "336     2710              1      text          0  \n",
       "337    11545              2     video          0  \n",
       "338    11544              3     video          0  \n",
       "339    11546              4     video          0  \n",
       "340    11547              5     video          0  \n",
       "341    11486              6      text          0  \n",
       "342    11484              7      code          2  \n",
       "343     2711              1      text          0  \n",
       "344    11548              2     video          0  \n",
       "345    11487              3      code          2  \n",
       "346    11549              4     video          0  \n",
       "347    11550              5     video          0  \n",
       "348    11551              6     video          0  \n",
       "349    11552              7     video          0  \n",
       "350    11553              8     video          0  \n",
       "351    84530              1      text          0  \n",
       "352    84531              2     video          0  \n",
       "353    84377              3      text          0  \n",
       "\n",
       "[354 rows x 9 columns]"
      ]
     },
     "execution_count": 378,
     "metadata": {},
     "output_type": "execute_result"
    }
   ],
   "source": [
    "structure"
   ]
  },
  {
   "cell_type": "code",
   "execution_count": 104,
   "metadata": {
    "collapsed": false
   },
   "outputs": [
    {
     "data": {
      "text/plain": [
       "354"
      ]
     },
     "execution_count": 104,
     "metadata": {},
     "output_type": "execute_result"
    }
   ],
   "source": [
    "len(structure.groupby('step_id').step_cost.sum())"
   ]
  },
  {
   "cell_type": "code",
   "execution_count": null,
   "metadata": {
    "collapsed": true
   },
   "outputs": [],
   "source": []
  }
 ],
 "metadata": {
  "kernelspec": {
   "display_name": "Python 2",
   "language": "python",
   "name": "python2"
  },
  "language_info": {
   "codemirror_mode": {
    "name": "ipython",
    "version": 2
   },
   "file_extension": ".py",
   "mimetype": "text/x-python",
   "name": "python",
   "nbconvert_exporter": "python",
   "pygments_lexer": "ipython2",
   "version": "2.7.11"
  }
 },
 "nbformat": 4,
 "nbformat_minor": 0
}
