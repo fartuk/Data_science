{
 "cells": [
  {
   "cell_type": "code",
   "execution_count": 1,
   "metadata": {
    "collapsed": true
   },
   "outputs": [],
   "source": [
    "import numpy as np"
   ]
  },
  {
   "cell_type": "code",
   "execution_count": 4,
   "metadata": {
    "collapsed": true
   },
   "outputs": [],
   "source": [
    "data = np.genfromtxt(\"train/0_train.csv\", delimiter=\",\")"
   ]
  },
  {
   "cell_type": "code",
   "execution_count": 5,
   "metadata": {
    "collapsed": false
   },
   "outputs": [
    {
     "data": {
      "text/plain": [
       "array([[  2.40000000e+01,   2.66300000e-01,   3.63316630e+03, ...,\n",
       "          1.00000000e+02,   1.25809000e+01,   1.11810800e+02],\n",
       "       [  2.40010000e+01,   2.68200000e-01,   3.66047580e+03, ...,\n",
       "          1.00000000e+02,   1.24640000e+01,   1.11906900e+02],\n",
       "       [  2.40020000e+01,   2.65400000e-01,   3.65622140e+03, ...,\n",
       "          1.00000000e+02,   1.25461000e+01,   1.10433000e+02],\n",
       "       ..., \n",
       "       [  1.19997000e+02,   2.66600000e-01,   3.62695280e+03, ...,\n",
       "          1.00000000e+02,   1.24360000e+01,   1.07811200e+02],\n",
       "       [  1.19998000e+02,   2.64100000e-01,   3.65544540e+03, ...,\n",
       "          1.00000000e+02,   1.23914000e+01,   1.09188300e+02],\n",
       "       [  1.19999000e+02,   2.66900000e-01,   3.67687730e+03, ...,\n",
       "          1.00000000e+02,   1.23407000e+01,   1.08578500e+02]])"
      ]
     },
     "execution_count": 5,
     "metadata": {},
     "output_type": "execute_result"
    }
   ],
   "source": [
    "data"
   ]
  },
  {
   "cell_type": "code",
   "execution_count": null,
   "metadata": {
    "collapsed": true
   },
   "outputs": [],
   "source": []
  }
 ],
 "metadata": {
  "kernelspec": {
   "display_name": "Python 3",
   "language": "python",
   "name": "python3"
  },
  "language_info": {
   "codemirror_mode": {
    "name": "ipython",
    "version": 3
   },
   "file_extension": ".py",
   "mimetype": "text/x-python",
   "name": "python",
   "nbconvert_exporter": "python",
   "pygments_lexer": "ipython3",
   "version": "3.6.0"
  }
 },
 "nbformat": 4,
 "nbformat_minor": 2
}
