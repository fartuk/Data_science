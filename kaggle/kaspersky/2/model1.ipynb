{
 "cells": [
  {
   "cell_type": "code",
   "execution_count": 1,
   "metadata": {
    "collapsed": false
   },
   "outputs": [
    {
     "name": "stderr",
     "output_type": "stream",
     "text": [
      "Using TensorFlow backend.\n"
     ]
    }
   ],
   "source": [
    "from keras import backend as K\n",
    "#from keras.regularizers import l2, activity_l2\n",
    "from keras import backend as K\n",
    "from keras.engine.topology import Layer\n",
    "from keras.optimizers import RMSprop, SGD, Adam\n",
    "from keras.layers.core import Dense, Dropout, Activation, Flatten, Lambda\n",
    "from keras.layers.recurrent import LSTM, GRU\n",
    "from keras.models import Sequential, Model, load_model\n",
    "from keras.layers import Input, Bidirectional, merge\n",
    "from keras.layers.convolutional import Convolution1D, AtrousConvolution1D\n",
    "from keras.layers.pooling import MaxPooling1D, AveragePooling1D, GlobalMaxPooling1D\n",
    "from keras.layers import Conv1D\n",
    "from keras.utils import to_categorical"
   ]
  },
  {
   "cell_type": "code",
   "execution_count": 3,
   "metadata": {
    "collapsed": true
   },
   "outputs": [],
   "source": [
    "import numpy as np"
   ]
  },
  {
   "cell_type": "code",
   "execution_count": 115,
   "metadata": {
    "collapsed": false
   },
   "outputs": [],
   "source": [
    "def generator():\n",
    "    while True:\n",
    "        i = np.random.randint(0, sample.shape[0])\n",
    "        yield (sample[i], yy[i], 30)"
   ]
  },
  {
   "cell_type": "code",
   "execution_count": 92,
   "metadata": {
    "collapsed": false
   },
   "outputs": [
    {
     "name": "stdout",
     "output_type": "stream",
     "text": [
      "(array([[ 0.08615708, -1.89882613, -0.13941598, ..., -0.50305493,\n",
      "         0.20421334,  0.75733661],\n",
      "       [ 2.91522135,  1.52441417,  0.50018479, ...,  0.61513535,\n",
      "        -2.23832961,  0.2083807 ],\n",
      "       [-0.21958251,  0.3368149 , -0.67985296, ...,  1.10958897,\n",
      "        -0.06078336,  0.36359119],\n",
      "       ..., \n",
      "       [ 3.60625366, -0.38582191, -1.65815392, ...,  0.31991186,\n",
      "        -0.90265581, -1.31626427],\n",
      "       [-0.32769401,  0.80332547,  0.04600251, ..., -1.65983444,\n",
      "         0.57924885,  0.51091438],\n",
      "       [ 1.96451977,  1.29494467, -0.21375413, ..., -0.97620746,\n",
      "         0.10469743, -1.92524715]]), 2)\n"
     ]
    }
   ],
   "source": [
    "for tmp in generator():\n",
    "    print(tmp)\n",
    "    break"
   ]
  },
  {
   "cell_type": "code",
   "execution_count": 4,
   "metadata": {
    "collapsed": true
   },
   "outputs": [],
   "source": [
    "def get_data():\n",
    "    xtrain = np.array()\n",
    "    for i in range():\n",
    "        buf = np.genfromtxt(str(i) + \"_train.csv\")\n",
    "        np.append(xtrain, buf, axis=0)"
   ]
  },
  {
   "cell_type": "code",
   "execution_count": 34,
   "metadata": {
    "collapsed": false
   },
   "outputs": [
    {
     "name": "stdout",
     "output_type": "stream",
     "text": [
      "Epoch 1/10\n",
      "200/200 [==============================] - 1s - loss: 0.7472 - acc: 0.4750\n",
      "Epoch 2/10\n",
      "200/200 [==============================] - 1s - loss: 0.6916 - acc: 0.5250\n",
      "Epoch 3/10\n",
      "200/200 [==============================] - 1s - loss: 0.6916 - acc: 0.5250\n",
      "Epoch 4/10\n",
      "200/200 [==============================] - 1s - loss: 0.6909 - acc: 0.5250\n",
      "Epoch 5/10\n",
      "200/200 [==============================] - 1s - loss: 0.6921 - acc: 0.6700\n",
      "Epoch 6/10\n",
      "200/200 [==============================] - 1s - loss: 0.6924 - acc: 0.5250\n",
      "Epoch 7/10\n",
      "200/200 [==============================] - 1s - loss: 0.6919 - acc: 0.5250\n",
      "Epoch 8/10\n",
      "200/200 [==============================] - 1s - loss: 0.6918 - acc: 0.5250\n",
      "Epoch 9/10\n",
      "200/200 [==============================] - 1s - loss: 0.6916 - acc: 0.5250\n",
      "Epoch 10/10\n",
      "200/200 [==============================] - 1s - loss: 0.6906 - acc: 0.5250\n"
     ]
    },
    {
     "data": {
      "text/plain": [
       "<keras.callbacks.History at 0x7fbfbad44240>"
      ]
     },
     "execution_count": 34,
     "metadata": {},
     "output_type": "execute_result"
    }
   ],
   "source": [
    "x_train = np.random.randint(0, 100,size=[200,1000, 100])\n",
    "#y_train = np.random.randint(0, 2,size=[200])\n",
    "y_train = x_train[:,0,0] % 2\n",
    "one_hot_labels = to_categorical(y_train, num_classes=2)\n",
    "\n",
    "from keras.models import Sequential\n",
    "from keras.layers import Dense, Dropout\n",
    "from keras.layers import Embedding\n",
    "from keras.layers import Conv1D, GlobalAveragePooling1D, MaxPooling1D\n",
    "\n",
    "model = Sequential()\n",
    "model.add(Conv1D(64, 10, activation='relu', input_shape=(1000, 100)))\n",
    "\n",
    "\n",
    "model.add(GlobalMaxPooling1D())\n",
    "model.add(Dense(20, activation='sigmoid'))\n",
    "\n",
    "model.add(Dense(2, activation='sigmoid'))\n",
    "\n",
    "model.compile(loss='categorical_crossentropy',\n",
    "              optimizer='rmsprop',\n",
    "              metrics=['accuracy'])\n",
    "\n",
    "model.fit(x_train, one_hot_labels, batch_size=500, epochs=10)\n",
    "#score = model.evaluate(x_test, y_test, batch_size=16)"
   ]
  },
  {
   "cell_type": "code",
   "execution_count": 9,
   "metadata": {
    "collapsed": false
   },
   "outputs": [
    {
     "name": "stdout",
     "output_type": "stream",
     "text": [
      "Populating the interactive namespace from numpy and matplotlib\n"
     ]
    }
   ],
   "source": [
    "import pandas as pd\n",
    "import matplotlib.pyplot as plt\n",
    "%matplotlib inline\n",
    "%pylab inline\n",
    "ytrain = pd.read_csv(\"train/train_labels.csv\")\n"
   ]
  },
  {
   "cell_type": "code",
   "execution_count": 12,
   "metadata": {
    "collapsed": false
   },
   "outputs": [
    {
     "data": {
      "image/png": "[encoded data removed]",
      "text/plain": [
       "<matplotlib.figure.Figure at 0x7fd9c8eca630>"
      ]
     },
     "metadata": {},
     "output_type": "display_data"
    }
   ],
   "source": [
    "pylab.figure(figsize=(20, 6))\n",
    "plt.hist(ytrain.Attack, bins=200)\n",
    "plt.show()\n"
   ]
  }
 ],
 "metadata": {
  "kernelspec": {
   "display_name": "Python 3",
   "language": "python",
   "name": "python3"
  },
  "language_info": {
   "codemirror_mode": {
    "name": "ipython",
    "version": 3
   },
   "file_extension": ".py",
   "mimetype": "text/x-python",
   "name": "python",
   "nbconvert_exporter": "python",
   "pygments_lexer": "ipython3",
   "version": "3.6.0"
  }
 },
 "nbformat": 4,
 "nbformat_minor": 2
}
