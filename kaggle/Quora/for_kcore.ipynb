{
 "cells": [
  {
   "cell_type": "code",
   "execution_count": 1,
   "metadata": {
    "collapsed": true
   },
   "outputs": [],
   "source": [
    "import numpy as np # linear algebra\n",
    "import pandas as pd # data processing, CSV file I/O (e.g. pd.read_csv)\n",
    "from collections import defaultdict"
   ]
  },
  {
   "cell_type": "code",
   "execution_count": 2,
   "metadata": {
    "collapsed": true
   },
   "outputs": [],
   "source": [
    "train_orig =  pd.read_csv('data/train.csv', header=0)\n",
    "test_orig =  pd.read_csv('data/test.csv', header=0)"
   ]
  },
  {
   "cell_type": "code",
   "execution_count": 10,
   "metadata": {
    "collapsed": false
   },
   "outputs": [
    {
     "data": {
      "text/plain": [
       "2345796"
      ]
     },
     "execution_count": 10,
     "metadata": {},
     "output_type": "execute_result"
    }
   ],
   "source": [
    "len(test_orig)"
   ]
  },
  {
   "cell_type": "code",
   "execution_count": 3,
   "metadata": {
    "collapsed": false
   },
   "outputs": [
    {
     "name": "stdout",
     "output_type": "stream",
     "text": [
      "(290654, 2) (299364, 2)\n",
      "(290654, 2) (299364, 2) (537933, 2)\n"
     ]
    }
   ],
   "source": [
    "# \"id\",\"qid1\",\"qid2\",\"question1\",\"question2\",\"is_duplicate\"\n",
    "df_id1 = train_orig[[\"qid1\", \"question1\"]].drop_duplicates(keep=\"first\").copy().reset_index(drop=True)\n",
    "df_id2 = train_orig[[\"qid2\", \"question2\"]].drop_duplicates(keep=\"first\").copy().reset_index(drop=True)\n",
    "\n",
    "df_id1.columns = [\"qid\", \"question\"]\n",
    "df_id2.columns = [\"qid\", \"question\"]\n",
    "\n",
    "print(df_id1.shape, df_id2.shape)\n",
    "\n",
    "df_id = pd.concat([df_id1, df_id2]).drop_duplicates(keep=\"first\").reset_index(drop=True)\n",
    "print(df_id1.shape, df_id2.shape, df_id.shape)"
   ]
  },
  {
   "cell_type": "code",
   "execution_count": 5,
   "metadata": {
    "collapsed": false
   },
   "outputs": [
    {
     "name": "stdout",
     "output_type": "stream",
     "text": [
      "['test_id', 'question1', 'question2', 'qid1', 'qid2']\n"
     ]
    }
   ],
   "source": [
    "import csv\n",
    "dict_questions = df_id.set_index('question').to_dict()\n",
    "dict_questions = dict_questions[\"qid\"]\n",
    "\n",
    "new_id = 538000 # df_id[\"qid\"].max() ==> 537933\n",
    "\n",
    "def get_id(question):\n",
    "    global dict_questions \n",
    "    global new_id \n",
    "    \n",
    "    if question in dict_questions:\n",
    "        return dict_questions[question]\n",
    "    else:\n",
    "        new_id += 1\n",
    "        dict_questions[question] = new_id\n",
    "        return new_id\n",
    "    \n",
    "rows = []\n",
    "max_lines = 10\n",
    "if True:\n",
    "    with open('data/test.csv', 'r', encoding=\"utf8\") as infile:\n",
    "        reader = csv.reader(infile, delimiter=\",\")\n",
    "        header = next(reader)\n",
    "        header.append('qid1')\n",
    "        header.append('qid2')\n",
    "        \n",
    "        if True:\n",
    "            print(header)\n",
    "            pos, max_lines = 0, 10*1000*1000\n",
    "            for row in reader:\n",
    "                # \"test_id\",\"question1\",\"question2\"\n",
    "                question1 = row[1]\n",
    "                question2 = row[2]\n",
    "\n",
    "                qid1 = get_id(question1)\n",
    "                qid2 = get_id(question2)\n",
    "                row.append(qid1)\n",
    "                row.append(qid2)\n",
    "\n",
    "                pos += 1\n",
    "                if pos >= max_lines:\n",
    "                    break\n",
    "                rows.append(row)"
   ]
  },
  {
   "cell_type": "code",
   "execution_count": 12,
   "metadata": {
    "collapsed": false
   },
   "outputs": [],
   "source": [
    "rows = pd.DataFrame(rows)\n",
    "rows.columns = ['id','question1', 'question2', 'qid1', 'qid2']"
   ]
  },
  {
   "cell_type": "code",
   "execution_count": 13,
   "metadata": {
    "collapsed": true
   },
   "outputs": [],
   "source": [
    "rows.to_csv(\"data/test_with_ids.csv\", index=None)"
   ]
  },
  {
   "cell_type": "code",
   "execution_count": null,
   "metadata": {
    "collapsed": true
   },
   "outputs": [],
   "source": []
  },
  {
   "cell_type": "code",
   "execution_count": null,
   "metadata": {
    "collapsed": true
   },
   "outputs": [],
   "source": []
  },
  {
   "cell_type": "code",
   "execution_count": null,
   "metadata": {
    "collapsed": true
   },
   "outputs": [],
   "source": []
  },
  {
   "cell_type": "code",
   "execution_count": null,
   "metadata": {
    "collapsed": true
   },
   "outputs": [],
   "source": []
  },
  {
   "cell_type": "code",
   "execution_count": null,
   "metadata": {
    "collapsed": true
   },
   "outputs": [],
   "source": []
  },
  {
   "cell_type": "code",
   "execution_count": null,
   "metadata": {
    "collapsed": true
   },
   "outputs": [],
   "source": []
  },
  {
   "cell_type": "code",
   "execution_count": null,
   "metadata": {
    "collapsed": true
   },
   "outputs": [],
   "source": []
  }
 ],
 "metadata": {
  "kernelspec": {
   "display_name": "Python 3",
   "language": "python",
   "name": "python3"
  },
  "language_info": {
   "codemirror_mode": {
    "name": "ipython",
    "version": 3
   },
   "file_extension": ".py",
   "mimetype": "text/x-python",
   "name": "python",
   "nbconvert_exporter": "python",
   "pygments_lexer": "ipython3",
   "version": "3.6.0"
  }
 },
 "nbformat": 4,
 "nbformat_minor": 2
}
