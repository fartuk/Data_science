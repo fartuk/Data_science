{
 "cells": [
  {
   "cell_type": "code",
   "execution_count": null,
   "metadata": {
    "collapsed": true
   },
   "outputs": [],
   "source": [
    "adj = [[] for i in range(537933)]\n",
    "for i in rebalance1.index:\n",
    "    if i % 1000 == 0:\n",
    "        print(i)\n",
    "    for j in np.array(X_train[X_train.qid1 == i].qid2):\n",
    "        adj[i] += [j]\n",
    "        adj[j] += [i]"
   ]
  },
  {
   "cell_type": "code",
   "execution_count": null,
   "metadata": {
    "collapsed": true
   },
   "outputs": [],
   "source": [
    "rebalance1 = pd.DataFrame(X_train.groupby('qid1')['id'].count())\n",
    "rebalance1.columns = ['counter']\n",
    "rebalance2 = pd.DataFrame(X_train.groupby('qid2')['id'].count())\n",
    "rebalance2.columns = ['counter']\n",
    "rebalance1[rebalance1.counter > 1][:10]"
   ]
  },
  {
   "cell_type": "code",
   "execution_count": null,
   "metadata": {
    "collapsed": true
   },
   "outputs": [],
   "source": []
  },
  {
   "cell_type": "code",
   "execution_count": null,
   "metadata": {
    "collapsed": true
   },
   "outputs": [],
   "source": []
  },
  {
   "cell_type": "code",
   "execution_count": null,
   "metadata": {
    "collapsed": true
   },
   "outputs": [],
   "source": []
  }
 ],
 "metadata": {
  "kernelspec": {
   "display_name": "Python 3",
   "language": "python",
   "name": "python3"
  },
  "language_info": {
   "codemirror_mode": {
    "name": "ipython",
    "version": 3
   },
   "file_extension": ".py",
   "mimetype": "text/x-python",
   "name": "python",
   "nbconvert_exporter": "python",
   "pygments_lexer": "ipython3",
   "version": "3.6.0"
  }
 },
 "nbformat": 4,
 "nbformat_minor": 2
}
