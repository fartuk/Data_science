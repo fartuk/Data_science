{
 "cells": [
  {
   "cell_type": "code",
   "execution_count": 1,
   "metadata": {
    "collapsed": false
   },
   "outputs": [
    {
     "name": "stderr",
     "output_type": "stream",
     "text": [
      "/home/fao3864/anaconda3/lib/python3.6/site-packages/sklearn/cross_validation.py:44: DeprecationWarning: This module was deprecated in version 0.18 in favor of the model_selection module into which all the refactored classes and functions are moved. Also note that the interface of the new CV iterators are different from that of this module. This module will be removed in 0.20.\n",
      "  \"This module will be removed in 0.20.\", DeprecationWarning)\n"
     ]
    },
    {
     "name": "stdout",
     "output_type": "stream",
     "text": [
      "Populating the interactive namespace from numpy and matplotlib\n"
     ]
    }
   ],
   "source": [
    "import numpy as np\n",
    "import pandas as pd\n",
    "from sklearn import ensemble\n",
    "from sklearn.linear_model import LinearRegression\n",
    "\n",
    "from sklearn.cross_validation import cross_val_score\n",
    "from sklearn.feature_extraction.text import HashingVectorizer\n",
    "from sklearn import manifold, decomposition, linear_model, ensemble, neighbors, cross_validation\n",
    "import sklearn\n",
    "from sklearn import pipeline, preprocessing, feature_extraction\n",
    "import xgboost as xgb\n",
    "from sklearn.metrics import f1_score\n",
    "import xgboost as xgb\n",
    "from sklearn.metrics import mean_absolute_error\n",
    "import time\n",
    "import datetime\n",
    "from sklearn.model_selection import StratifiedKFold\n",
    "from sklearn.metrics import log_loss, auc, roc_curve\n",
    "from sklearn.feature_extraction.text import TfidfVectorizer, CountVectorizer, HashingVectorizer\n",
    "from scipy import sparse\n",
    "from sklearn.neighbors import KNeighborsClassifier\n",
    "from sklearn.ensemble import RandomForestClassifier\n",
    "import lightgbm as lgbm\n",
    "import scipy\n",
    "from sklearn.preprocessing import StandardScaler\n",
    "\n",
    "%matplotlib inline\n",
    "%pylab inline"
   ]
  },
  {
   "cell_type": "code",
   "execution_count": 47,
   "metadata": {
    "collapsed": false
   },
   "outputs": [
    {
     "data": {
      "text/plain": [
       "2345796"
      ]
     },
     "execution_count": 47,
     "metadata": {},
     "output_type": "execute_result"
    }
   ],
   "source": [
    "len(m_svd)"
   ]
  },
  {
   "cell_type": "code",
   "execution_count": 41,
   "metadata": {
    "collapsed": false
   },
   "outputs": [
    {
     "data": {
      "text/plain": [
       "2345796"
      ]
     },
     "execution_count": 41,
     "metadata": {},
     "output_type": "execute_result"
    }
   ],
   "source": [
    "len(X_test)"
   ]
  },
  {
   "cell_type": "code",
   "execution_count": 42,
   "metadata": {
    "collapsed": false
   },
   "outputs": [
    {
     "data": {
      "text/plain": [
       "2750086"
      ]
     },
     "execution_count": 42,
     "metadata": {},
     "output_type": "execute_result"
    }
   ],
   "source": [
    "404290+2345796"
   ]
  },
  {
   "cell_type": "code",
   "execution_count": 2,
   "metadata": {
    "collapsed": false
   },
   "outputs": [],
   "source": [
    "X_train = pd.read_csv(\"data/train.csv\")\n",
    "X_test = pd.read_csv(\"data/test.csv\")\n",
    "\n",
    "y_train = pd.DataFrame(X_train['is_duplicate'])\n",
    "y_train.columns = ['y']\n",
    "del X_train['is_duplicate']\n",
    "\n",
    "skf = StratifiedKFold(5, shuffle=True, random_state=0)\n",
    "folds = []\n",
    "for itr, ite in skf.split(X_train, y_train.y):\n",
    "    folds += [[itr, ite]]"
   ]
  },
  {
   "cell_type": "code",
   "execution_count": 3,
   "metadata": {
    "collapsed": false
   },
   "outputs": [],
   "source": [
    "X_train = pd.read_csv(\"data/train_inter.csv\")\n",
    "\n",
    "X_train['question1'] = X_train['question1'].apply(lambda x: str(x))\n",
    "X_train['question2'] = X_train['question2'].apply(lambda x: str(x))\n",
    "\n",
    "X_train['question1'] = X_train['question1'].apply(lambda x: x.lower().split())\n",
    "X_train['question2'] = X_train['question2'].apply(lambda x: x.lower().split())\n",
    "\n"
   ]
  },
  {
   "cell_type": "code",
   "execution_count": 4,
   "metadata": {
    "collapsed": false
   },
   "outputs": [],
   "source": [
    "X_test = pd.read_csv(\"data/test_inter.csv\")\n",
    "\n",
    "X_test['question1'] = X_test['question1'].apply(lambda x: str(x))\n",
    "X_test['question2'] = X_test['question2'].apply(lambda x: str(x))\n",
    "\n",
    "X_test['question1'] = X_test['question1'].apply(lambda x: x.lower().split())\n",
    "X_test['question2'] = X_test['question2'].apply(lambda x: x.lower().split())"
   ]
  },
  {
   "cell_type": "code",
   "execution_count": 5,
   "metadata": {
    "collapsed": false
   },
   "outputs": [],
   "source": [
    "X = map(lambda x: ' '.join(x), X_train['question1'])\n",
    "X1 = map(lambda x: ' '.join(x), X_train['question2'])\n",
    "Y = map(lambda x: ' '.join(x), X_test['question1'])\n",
    "Y1 = map(lambda x: ' '.join(x), X_test['question2'])\n",
    "hw = HashingVectorizer(n_features=200).fit(X_train['question1'] + X_train['question2'])\n"
   ]
  },
  {
   "cell_type": "code",
   "execution_count": 6,
   "metadata": {
    "collapsed": false
   },
   "outputs": [],
   "source": [
    "X = pd.DataFrame(hw.transform(X).todense())\n",
    "X1 = pd.DataFrame(hw.transform(X1).todense())\n",
    "Y = pd.DataFrame(hw.transform(Y).todense())\n",
    "Y1 = pd.DataFrame(hw.transform(Y1).todense())"
   ]
  },
  {
   "cell_type": "code",
   "execution_count": 7,
   "metadata": {
    "collapsed": true
   },
   "outputs": [],
   "source": [
    "tfidf = feature_extraction.text.TfidfTransformer()\n",
    "tfidf.fit(X+X1)\n",
    "\n",
    "X = pd.DataFrame(tfidf.transform(X).todense())\n",
    "X1 = pd.DataFrame(tfidf.transform(X1).todense())\n",
    "Y = pd.DataFrame(tfidf.transform(Y).todense())\n",
    "Y1 = pd.DataFrame(tfidf.transform(Y1).todense())"
   ]
  },
  {
   "cell_type": "code",
   "execution_count": 8,
   "metadata": {
    "collapsed": false
   },
   "outputs": [],
   "source": [
    "X_train = pd.concat([X_train, X], axis=1, join_axes=[X_train.index])\n",
    "del X\n",
    "X_train = pd.concat([X_train, X1], axis=1, join_axes=[X_train.index])\n",
    "del X1\n",
    "X_test = pd.concat([X_test, Y], axis=1, join_axes=[X_test.index])\n",
    "del Y\n",
    "X_test = pd.concat([X_test, Y1], axis=1, join_axes=[X_test.index])\n",
    "del Y1"
   ]
  },
  {
   "cell_type": "code",
   "execution_count": 8,
   "metadata": {
    "collapsed": true
   },
   "outputs": [],
   "source": [
    "tmp = np.abs(X - X1)\n",
    "X_train = pd.concat([X_train, tmp], axis=1, join_axes=[X_train.index])\n"
   ]
  },
  {
   "cell_type": "code",
   "execution_count": 9,
   "metadata": {
    "collapsed": true
   },
   "outputs": [],
   "source": [
    "tmp = np.abs(Y - Y1)\n",
    "X_test = pd.concat([X_test, tmp], axis=1, join_axes=[X_test.index])\n"
   ]
  },
  {
   "cell_type": "code",
   "execution_count": 10,
   "metadata": {
    "collapsed": false
   },
   "outputs": [],
   "source": [
    "cores_dict = pd.read_csv(\"data/question_max_kcores.csv\", index_col=\"qid\").to_dict()[\"max_kcore\"]\n",
    "def gen_qid1_max_kcore(row):\n",
    "    return cores_dict[row[\"qid1\"]]\n",
    "def gen_qid2_max_kcore(row):\n",
    "    return cores_dict[row[\"qid2\"]]\n",
    "\n",
    "#def gen_max_kcore(row):\n",
    "#    return max(row[\"qid1_max_kcore\"], row[\"qid2_max_kcore\"])\n",
    "\n",
    "X_train[\"qid1_max_kcore\"] = X_train.apply(gen_qid1_max_kcore, axis=1)\n",
    "#X_test[\"qid1_max_kcore\"] = X_test.apply(gen_qid1_max_kcore, axis=1)\n",
    "X_train[\"qid2_max_kcore\"] = X_train.apply(gen_qid2_max_kcore, axis=1)\n",
    "#X_test[\"qid2_max_kcore\"] = X_test.apply(gen_qid2_max_kcore, axis=1)"
   ]
  },
  {
   "cell_type": "code",
   "execution_count": 11,
   "metadata": {
    "collapsed": true
   },
   "outputs": [],
   "source": [
    "q_test = pd.read_csv(\"data/kcore_test.csv\")\n",
    "X_test = pd.concat([X_test, q_test], axis=1)"
   ]
  },
  {
   "cell_type": "code",
   "execution_count": 13,
   "metadata": {
    "collapsed": false
   },
   "outputs": [
    {
     "data": {
      "text/html": [
       "<div>\n",
       "<table border=\"1\" class=\"dataframe\">\n",
       "  <thead>\n",
       "    <tr style=\"text-align: right;\">\n",
       "      <th></th>\n",
       "      <th>test_id</th>\n",
       "      <th>question1</th>\n",
       "      <th>question2</th>\n",
       "      <th>word_match</th>\n",
       "      <th>tfidf_word_match</th>\n",
       "      <th>0</th>\n",
       "      <th>1</th>\n",
       "      <th>2</th>\n",
       "      <th>3</th>\n",
       "      <th>4</th>\n",
       "      <th>...</th>\n",
       "      <th>192</th>\n",
       "      <th>193</th>\n",
       "      <th>194</th>\n",
       "      <th>195</th>\n",
       "      <th>196</th>\n",
       "      <th>197</th>\n",
       "      <th>198</th>\n",
       "      <th>199</th>\n",
       "      <th>qid1_max_kcore</th>\n",
       "      <th>qid2_max_kcore</th>\n",
       "    </tr>\n",
       "  </thead>\n",
       "  <tbody>\n",
       "    <tr>\n",
       "      <th>0</th>\n",
       "      <td>0</td>\n",
       "      <td>[how, does, the, surface, pro, himself, 4, com...</td>\n",
       "      <td>[why, did, microsoft, choose, core, m3, and, n...</td>\n",
       "      <td>0.266667</td>\n",
       "      <td>0.274019</td>\n",
       "      <td>0.0</td>\n",
       "      <td>0.0</td>\n",
       "      <td>0.0</td>\n",
       "      <td>0.0</td>\n",
       "      <td>0.0</td>\n",
       "      <td>...</td>\n",
       "      <td>0.0</td>\n",
       "      <td>0.0</td>\n",
       "      <td>0.0</td>\n",
       "      <td>0.0</td>\n",
       "      <td>0.0</td>\n",
       "      <td>0.00000</td>\n",
       "      <td>0.0</td>\n",
       "      <td>0.0</td>\n",
       "      <td>0</td>\n",
       "      <td>0</td>\n",
       "    </tr>\n",
       "    <tr>\n",
       "      <th>1</th>\n",
       "      <td>1</td>\n",
       "      <td>[should, i, have, a, hair, transplant, at, age...</td>\n",
       "      <td>[how, much, cost, does, hair, transplant, requ...</td>\n",
       "      <td>0.500000</td>\n",
       "      <td>0.480962</td>\n",
       "      <td>0.0</td>\n",
       "      <td>0.0</td>\n",
       "      <td>0.0</td>\n",
       "      <td>0.0</td>\n",
       "      <td>0.0</td>\n",
       "      <td>...</td>\n",
       "      <td>0.0</td>\n",
       "      <td>0.0</td>\n",
       "      <td>0.0</td>\n",
       "      <td>0.0</td>\n",
       "      <td>0.0</td>\n",
       "      <td>0.30673</td>\n",
       "      <td>0.0</td>\n",
       "      <td>0.0</td>\n",
       "      <td>0</td>\n",
       "      <td>0</td>\n",
       "    </tr>\n",
       "  </tbody>\n",
       "</table>\n",
       "<p>2 rows × 207 columns</p>\n",
       "</div>"
      ],
      "text/plain": [
       "   test_id                                          question1  \\\n",
       "0        0  [how, does, the, surface, pro, himself, 4, com...   \n",
       "1        1  [should, i, have, a, hair, transplant, at, age...   \n",
       "\n",
       "                                           question2  word_match  \\\n",
       "0  [why, did, microsoft, choose, core, m3, and, n...    0.266667   \n",
       "1  [how, much, cost, does, hair, transplant, requ...    0.500000   \n",
       "\n",
       "   tfidf_word_match    0    1    2    3    4       ...        192  193  194  \\\n",
       "0          0.274019  0.0  0.0  0.0  0.0  0.0       ...        0.0  0.0  0.0   \n",
       "1          0.480962  0.0  0.0  0.0  0.0  0.0       ...        0.0  0.0  0.0   \n",
       "\n",
       "   195  196      197  198  199  qid1_max_kcore  qid2_max_kcore  \n",
       "0  0.0  0.0  0.00000  0.0  0.0               0               0  \n",
       "1  0.0  0.0  0.30673  0.0  0.0               0               0  \n",
       "\n",
       "[2 rows x 207 columns]"
      ]
     },
     "execution_count": 13,
     "metadata": {},
     "output_type": "execute_result"
    }
   ],
   "source": [
    "X_test[:2]"
   ]
  },
  {
   "cell_type": "code",
   "execution_count": 12,
   "metadata": {
    "collapsed": false
   },
   "outputs": [],
   "source": [
    "del X_train['question1']\n",
    "del X_train['question2']\n",
    "del X_train['qid1']\n",
    "del X_train['qid2']\n",
    "del X_train['id']\n",
    "\n",
    "del X_test['question1']\n",
    "del X_test['question2']\n",
    "del X_test['test_id']"
   ]
  },
  {
   "cell_type": "code",
   "execution_count": 15,
   "metadata": {
    "collapsed": false
   },
   "outputs": [
    {
     "data": {
      "text/html": [
       "<div>\n",
       "<table border=\"1\" class=\"dataframe\">\n",
       "  <thead>\n",
       "    <tr style=\"text-align: right;\">\n",
       "      <th></th>\n",
       "      <th>word_match</th>\n",
       "      <th>tfidf_word_match</th>\n",
       "      <th>0</th>\n",
       "      <th>1</th>\n",
       "      <th>2</th>\n",
       "      <th>3</th>\n",
       "      <th>4</th>\n",
       "      <th>5</th>\n",
       "      <th>6</th>\n",
       "      <th>7</th>\n",
       "      <th>...</th>\n",
       "      <th>192</th>\n",
       "      <th>193</th>\n",
       "      <th>194</th>\n",
       "      <th>195</th>\n",
       "      <th>196</th>\n",
       "      <th>197</th>\n",
       "      <th>198</th>\n",
       "      <th>199</th>\n",
       "      <th>qid1_max_kcore</th>\n",
       "      <th>qid2_max_kcore</th>\n",
       "    </tr>\n",
       "  </thead>\n",
       "  <tbody>\n",
       "    <tr>\n",
       "      <th>0</th>\n",
       "      <td>0.266667</td>\n",
       "      <td>0.274019</td>\n",
       "      <td>0.0</td>\n",
       "      <td>0.0</td>\n",
       "      <td>0.0</td>\n",
       "      <td>0.0</td>\n",
       "      <td>0.0</td>\n",
       "      <td>0.156312</td>\n",
       "      <td>0.0</td>\n",
       "      <td>0.0</td>\n",
       "      <td>...</td>\n",
       "      <td>0.0</td>\n",
       "      <td>0.0</td>\n",
       "      <td>0.0</td>\n",
       "      <td>0.0</td>\n",
       "      <td>0.0</td>\n",
       "      <td>0.00000</td>\n",
       "      <td>0.0</td>\n",
       "      <td>0.0</td>\n",
       "      <td>0</td>\n",
       "      <td>0</td>\n",
       "    </tr>\n",
       "    <tr>\n",
       "      <th>1</th>\n",
       "      <td>0.500000</td>\n",
       "      <td>0.480962</td>\n",
       "      <td>0.0</td>\n",
       "      <td>0.0</td>\n",
       "      <td>0.0</td>\n",
       "      <td>0.0</td>\n",
       "      <td>0.0</td>\n",
       "      <td>0.037057</td>\n",
       "      <td>0.0</td>\n",
       "      <td>0.0</td>\n",
       "      <td>...</td>\n",
       "      <td>0.0</td>\n",
       "      <td>0.0</td>\n",
       "      <td>0.0</td>\n",
       "      <td>0.0</td>\n",
       "      <td>0.0</td>\n",
       "      <td>0.30673</td>\n",
       "      <td>0.0</td>\n",
       "      <td>0.0</td>\n",
       "      <td>0</td>\n",
       "      <td>0</td>\n",
       "    </tr>\n",
       "  </tbody>\n",
       "</table>\n",
       "<p>2 rows × 204 columns</p>\n",
       "</div>"
      ],
      "text/plain": [
       "   word_match  tfidf_word_match    0    1    2    3    4         5    6    7  \\\n",
       "0    0.266667          0.274019  0.0  0.0  0.0  0.0  0.0  0.156312  0.0  0.0   \n",
       "1    0.500000          0.480962  0.0  0.0  0.0  0.0  0.0  0.037057  0.0  0.0   \n",
       "\n",
       "        ...        192  193  194  195  196      197  198  199  qid1_max_kcore  \\\n",
       "0       ...        0.0  0.0  0.0  0.0  0.0  0.00000  0.0  0.0               0   \n",
       "1       ...        0.0  0.0  0.0  0.0  0.0  0.30673  0.0  0.0               0   \n",
       "\n",
       "   qid2_max_kcore  \n",
       "0               0  \n",
       "1               0  \n",
       "\n",
       "[2 rows x 204 columns]"
      ]
     },
     "execution_count": 15,
     "metadata": {},
     "output_type": "execute_result"
    }
   ],
   "source": [
    "X_test[:2]"
   ]
  },
  {
   "cell_type": "code",
   "execution_count": 28,
   "metadata": {
    "collapsed": false
   },
   "outputs": [
    {
     "data": {
      "text/html": [
       "<div>\n",
       "<table border=\"1\" class=\"dataframe\">\n",
       "  <thead>\n",
       "    <tr style=\"text-align: right;\">\n",
       "      <th></th>\n",
       "      <th>0</th>\n",
       "      <th>1</th>\n",
       "      <th>2</th>\n",
       "      <th>3</th>\n",
       "      <th>4</th>\n",
       "      <th>5</th>\n",
       "      <th>6</th>\n",
       "      <th>7</th>\n",
       "      <th>8</th>\n",
       "      <th>9</th>\n",
       "      <th>...</th>\n",
       "      <th>190</th>\n",
       "      <th>191</th>\n",
       "      <th>192</th>\n",
       "      <th>193</th>\n",
       "      <th>194</th>\n",
       "      <th>195</th>\n",
       "      <th>196</th>\n",
       "      <th>197</th>\n",
       "      <th>198</th>\n",
       "      <th>199</th>\n",
       "    </tr>\n",
       "  </thead>\n",
       "  <tbody>\n",
       "    <tr>\n",
       "      <th>0</th>\n",
       "      <td>0.0</td>\n",
       "      <td>0.0</td>\n",
       "      <td>0.0</td>\n",
       "      <td>0.0</td>\n",
       "      <td>0.0</td>\n",
       "      <td>0.000000</td>\n",
       "      <td>0.0</td>\n",
       "      <td>0.0</td>\n",
       "      <td>0.0</td>\n",
       "      <td>0.119495</td>\n",
       "      <td>...</td>\n",
       "      <td>0.0</td>\n",
       "      <td>0.0</td>\n",
       "      <td>0.325385</td>\n",
       "      <td>0.0</td>\n",
       "      <td>0.0</td>\n",
       "      <td>0.0</td>\n",
       "      <td>0.0</td>\n",
       "      <td>0.0</td>\n",
       "      <td>0.0</td>\n",
       "      <td>0.0</td>\n",
       "    </tr>\n",
       "    <tr>\n",
       "      <th>1</th>\n",
       "      <td>0.0</td>\n",
       "      <td>0.0</td>\n",
       "      <td>0.0</td>\n",
       "      <td>0.0</td>\n",
       "      <td>0.0</td>\n",
       "      <td>0.000000</td>\n",
       "      <td>0.0</td>\n",
       "      <td>0.0</td>\n",
       "      <td>0.0</td>\n",
       "      <td>0.131759</td>\n",
       "      <td>...</td>\n",
       "      <td>0.0</td>\n",
       "      <td>0.0</td>\n",
       "      <td>0.000000</td>\n",
       "      <td>0.0</td>\n",
       "      <td>0.0</td>\n",
       "      <td>0.0</td>\n",
       "      <td>0.0</td>\n",
       "      <td>0.0</td>\n",
       "      <td>0.0</td>\n",
       "      <td>0.0</td>\n",
       "    </tr>\n",
       "    <tr>\n",
       "      <th>2</th>\n",
       "      <td>0.0</td>\n",
       "      <td>0.0</td>\n",
       "      <td>0.0</td>\n",
       "      <td>0.0</td>\n",
       "      <td>0.0</td>\n",
       "      <td>-0.167796</td>\n",
       "      <td>0.0</td>\n",
       "      <td>0.0</td>\n",
       "      <td>0.0</td>\n",
       "      <td>0.000000</td>\n",
       "      <td>...</td>\n",
       "      <td>0.0</td>\n",
       "      <td>0.0</td>\n",
       "      <td>0.000000</td>\n",
       "      <td>0.0</td>\n",
       "      <td>0.0</td>\n",
       "      <td>0.0</td>\n",
       "      <td>0.0</td>\n",
       "      <td>0.0</td>\n",
       "      <td>0.0</td>\n",
       "      <td>0.0</td>\n",
       "    </tr>\n",
       "  </tbody>\n",
       "</table>\n",
       "<p>3 rows × 200 columns</p>\n",
       "</div>"
      ],
      "text/plain": [
       "   0    1    2    3    4         5    6    7    8         9   ...   190  191  \\\n",
       "0  0.0  0.0  0.0  0.0  0.0  0.000000  0.0  0.0  0.0  0.119495 ...   0.0  0.0   \n",
       "1  0.0  0.0  0.0  0.0  0.0  0.000000  0.0  0.0  0.0  0.131759 ...   0.0  0.0   \n",
       "2  0.0  0.0  0.0  0.0  0.0 -0.167796  0.0  0.0  0.0  0.000000 ...   0.0  0.0   \n",
       "\n",
       "        192  193  194  195  196  197  198  199  \n",
       "0  0.325385  0.0  0.0  0.0  0.0  0.0  0.0  0.0  \n",
       "1  0.000000  0.0  0.0  0.0  0.0  0.0  0.0  0.0  \n",
       "2  0.000000  0.0  0.0  0.0  0.0  0.0  0.0  0.0  \n",
       "\n",
       "[3 rows x 200 columns]"
      ]
     },
     "execution_count": 28,
     "metadata": {},
     "output_type": "execute_result"
    }
   ],
   "source": [
    "X_train.ix[:2, 202:402]"
   ]
  },
  {
   "cell_type": "code",
   "execution_count": 29,
   "metadata": {
    "collapsed": false
   },
   "outputs": [
    {
     "data": {
      "text/html": [
       "<div>\n",
       "<table border=\"1\" class=\"dataframe\">\n",
       "  <thead>\n",
       "    <tr style=\"text-align: right;\">\n",
       "      <th></th>\n",
       "      <th>0</th>\n",
       "      <th>1</th>\n",
       "      <th>2</th>\n",
       "      <th>3</th>\n",
       "      <th>4</th>\n",
       "      <th>5</th>\n",
       "      <th>6</th>\n",
       "      <th>7</th>\n",
       "      <th>8</th>\n",
       "      <th>9</th>\n",
       "      <th>...</th>\n",
       "      <th>190</th>\n",
       "      <th>191</th>\n",
       "      <th>192</th>\n",
       "      <th>193</th>\n",
       "      <th>194</th>\n",
       "      <th>195</th>\n",
       "      <th>196</th>\n",
       "      <th>197</th>\n",
       "      <th>198</th>\n",
       "      <th>199</th>\n",
       "    </tr>\n",
       "  </thead>\n",
       "  <tbody>\n",
       "    <tr>\n",
       "      <th>0</th>\n",
       "      <td>0.0</td>\n",
       "      <td>0.0</td>\n",
       "      <td>0.0</td>\n",
       "      <td>0.0</td>\n",
       "      <td>0.0</td>\n",
       "      <td>0.0</td>\n",
       "      <td>0.0</td>\n",
       "      <td>0.0</td>\n",
       "      <td>0.000000</td>\n",
       "      <td>0.113341</td>\n",
       "      <td>...</td>\n",
       "      <td>0.0</td>\n",
       "      <td>0.0</td>\n",
       "      <td>0.308628</td>\n",
       "      <td>0.0</td>\n",
       "      <td>0.0</td>\n",
       "      <td>0.0</td>\n",
       "      <td>0.000000</td>\n",
       "      <td>0.0</td>\n",
       "      <td>0.0</td>\n",
       "      <td>0.0</td>\n",
       "    </tr>\n",
       "    <tr>\n",
       "      <th>1</th>\n",
       "      <td>0.0</td>\n",
       "      <td>0.0</td>\n",
       "      <td>0.0</td>\n",
       "      <td>0.0</td>\n",
       "      <td>0.0</td>\n",
       "      <td>0.0</td>\n",
       "      <td>0.0</td>\n",
       "      <td>0.0</td>\n",
       "      <td>0.000000</td>\n",
       "      <td>0.165352</td>\n",
       "      <td>...</td>\n",
       "      <td>0.0</td>\n",
       "      <td>0.0</td>\n",
       "      <td>0.000000</td>\n",
       "      <td>0.0</td>\n",
       "      <td>0.0</td>\n",
       "      <td>0.0</td>\n",
       "      <td>0.209907</td>\n",
       "      <td>0.0</td>\n",
       "      <td>0.0</td>\n",
       "      <td>0.0</td>\n",
       "    </tr>\n",
       "    <tr>\n",
       "      <th>2</th>\n",
       "      <td>0.0</td>\n",
       "      <td>0.0</td>\n",
       "      <td>0.0</td>\n",
       "      <td>0.0</td>\n",
       "      <td>0.0</td>\n",
       "      <td>0.0</td>\n",
       "      <td>0.0</td>\n",
       "      <td>0.0</td>\n",
       "      <td>-0.380265</td>\n",
       "      <td>0.000000</td>\n",
       "      <td>...</td>\n",
       "      <td>0.0</td>\n",
       "      <td>0.0</td>\n",
       "      <td>0.000000</td>\n",
       "      <td>0.0</td>\n",
       "      <td>0.0</td>\n",
       "      <td>0.0</td>\n",
       "      <td>0.186087</td>\n",
       "      <td>0.0</td>\n",
       "      <td>0.0</td>\n",
       "      <td>0.0</td>\n",
       "    </tr>\n",
       "  </tbody>\n",
       "</table>\n",
       "<p>3 rows × 200 columns</p>\n",
       "</div>"
      ],
      "text/plain": [
       "   0    1    2    3    4    5    6    7         8         9   ...   190  191  \\\n",
       "0  0.0  0.0  0.0  0.0  0.0  0.0  0.0  0.0  0.000000  0.113341 ...   0.0  0.0   \n",
       "1  0.0  0.0  0.0  0.0  0.0  0.0  0.0  0.0  0.000000  0.165352 ...   0.0  0.0   \n",
       "2  0.0  0.0  0.0  0.0  0.0  0.0  0.0  0.0 -0.380265  0.000000 ...   0.0  0.0   \n",
       "\n",
       "        192  193  194  195       196  197  198  199  \n",
       "0  0.308628  0.0  0.0  0.0  0.000000  0.0  0.0  0.0  \n",
       "1  0.000000  0.0  0.0  0.0  0.209907  0.0  0.0  0.0  \n",
       "2  0.000000  0.0  0.0  0.0  0.186087  0.0  0.0  0.0  \n",
       "\n",
       "[3 rows x 200 columns]"
      ]
     },
     "execution_count": 29,
     "metadata": {},
     "output_type": "execute_result"
    }
   ],
   "source": [
    "X_train.ix[:2, 2:202]"
   ]
  },
  {
   "cell_type": "code",
   "execution_count": 85,
   "metadata": {
    "collapsed": false
   },
   "outputs": [],
   "source": [
    "del X_train"
   ]
  },
  {
   "cell_type": "code",
   "execution_count": 13,
   "metadata": {
    "collapsed": true
   },
   "outputs": [],
   "source": [
    "#X_train = pd.read_csv(\"data/train_inter.csv\")\n",
    "q_train = pd.read_csv(\"data/freq_train.csv\")\n",
    "X_train = pd.concat([X_train, q_train], axis=1)\n",
    "\n",
    "f_train = pd.read_csv(\"data/train_features.csv\", encoding = \"ISO-8859-1\")\n",
    "f_train = f_train.ix[:, 2:]\n",
    "X_train = pd.concat([X_train, f_train], axis=1)"
   ]
  },
  {
   "cell_type": "code",
   "execution_count": 14,
   "metadata": {
    "collapsed": true
   },
   "outputs": [],
   "source": [
    "q_train = pd.read_csv(\"data/f1_train.csv\")\n",
    "X_train = pd.concat([X_train, q_train], axis=1)"
   ]
  },
  {
   "cell_type": "code",
   "execution_count": 15,
   "metadata": {
    "collapsed": false
   },
   "outputs": [],
   "source": [
    "q_train = pd.read_csv(\"data/train_lda_feat.csv\", encoding = \"ISO-8859-1\")\n",
    "q_train = q_train.ix[:, 6:]\n",
    "X_train = pd.concat([X_train, q_train], axis=1)"
   ]
  },
  {
   "cell_type": "code",
   "execution_count": 16,
   "metadata": {
    "collapsed": true
   },
   "outputs": [],
   "source": [
    "q_train = pd.read_csv(\"stacking/nn_21.csv\")\n",
    "X_train = pd.concat([X_train, q_train], axis=1)"
   ]
  },
  {
   "cell_type": "code",
   "execution_count": 17,
   "metadata": {
    "collapsed": false
   },
   "outputs": [],
   "source": [
    "q_train = pd.read_csv(\"data/pagerank_train.csv\")\n",
    "X_train = pd.concat([X_train, q_train], axis=1)\n",
    "#q_train[:2]"
   ]
  },
  {
   "cell_type": "code",
   "execution_count": 18,
   "metadata": {
    "collapsed": true
   },
   "outputs": [],
   "source": [
    "q_train = pd.read_csv(\"data/jaccard_train.csv\")\n",
    "X_train = pd.concat([X_train, q_train], axis=1)"
   ]
  },
  {
   "cell_type": "code",
   "execution_count": 19,
   "metadata": {
    "collapsed": true
   },
   "outputs": [],
   "source": [
    "q_train = pd.read_csv(\"stacking/nn_21_lstm1.csv\")\n",
    "X_train = pd.concat([X_train, q_train], axis=1)"
   ]
  },
  {
   "cell_type": "code",
   "execution_count": 24,
   "metadata": {
    "collapsed": false
   },
   "outputs": [
    {
     "data": {
      "text/html": [
       "<div>\n",
       "<table border=\"1\" class=\"dataframe\">\n",
       "  <thead>\n",
       "    <tr style=\"text-align: right;\">\n",
       "      <th></th>\n",
       "      <th>word_match</th>\n",
       "      <th>tfidf_word_match</th>\n",
       "      <th>0</th>\n",
       "      <th>1</th>\n",
       "      <th>2</th>\n",
       "      <th>3</th>\n",
       "      <th>4</th>\n",
       "      <th>5</th>\n",
       "      <th>6</th>\n",
       "      <th>7</th>\n",
       "      <th>...</th>\n",
       "      <th>jaccard_distance_lda</th>\n",
       "      <th>canberra_distance_lda</th>\n",
       "      <th>euclidean_distance_lda</th>\n",
       "      <th>minkowski_distance_lda</th>\n",
       "      <th>braycurtis_distance_lda</th>\n",
       "      <th>lstm</th>\n",
       "      <th>q1_pr</th>\n",
       "      <th>q2_pr</th>\n",
       "      <th>jaccard</th>\n",
       "      <th>lstm1</th>\n",
       "    </tr>\n",
       "  </thead>\n",
       "  <tbody>\n",
       "    <tr>\n",
       "      <th>0</th>\n",
       "      <td>0.727273</td>\n",
       "      <td>0.772164</td>\n",
       "      <td>0.0</td>\n",
       "      <td>0.0</td>\n",
       "      <td>0.0</td>\n",
       "      <td>0.0</td>\n",
       "      <td>0.0</td>\n",
       "      <td>0.0</td>\n",
       "      <td>0.0</td>\n",
       "      <td>0.0</td>\n",
       "      <td>...</td>\n",
       "      <td>1.0</td>\n",
       "      <td>1.266667</td>\n",
       "      <td>0.137590</td>\n",
       "      <td>0.127564</td>\n",
       "      <td>0.134090</td>\n",
       "      <td>0.588275</td>\n",
       "      <td>1.608480e-07</td>\n",
       "      <td>3.047631e-07</td>\n",
       "      <td>1.0</td>\n",
       "      <td>0.329186</td>\n",
       "    </tr>\n",
       "    <tr>\n",
       "      <th>1</th>\n",
       "      <td>0.307692</td>\n",
       "      <td>0.361758</td>\n",
       "      <td>0.0</td>\n",
       "      <td>0.0</td>\n",
       "      <td>0.0</td>\n",
       "      <td>0.0</td>\n",
       "      <td>0.0</td>\n",
       "      <td>0.0</td>\n",
       "      <td>0.0</td>\n",
       "      <td>0.0</td>\n",
       "      <td>...</td>\n",
       "      <td>1.0</td>\n",
       "      <td>5.400000</td>\n",
       "      <td>0.538923</td>\n",
       "      <td>0.423051</td>\n",
       "      <td>0.812442</td>\n",
       "      <td>0.203615</td>\n",
       "      <td>8.198776e-07</td>\n",
       "      <td>3.097268e-07</td>\n",
       "      <td>1.0</td>\n",
       "      <td>0.280913</td>\n",
       "    </tr>\n",
       "  </tbody>\n",
       "</table>\n",
       "<p>2 rows × 247 columns</p>\n",
       "</div>"
      ],
      "text/plain": [
       "   word_match  tfidf_word_match    0    1    2    3    4    5    6    7  \\\n",
       "0    0.727273          0.772164  0.0  0.0  0.0  0.0  0.0  0.0  0.0  0.0   \n",
       "1    0.307692          0.361758  0.0  0.0  0.0  0.0  0.0  0.0  0.0  0.0   \n",
       "\n",
       "     ...     jaccard_distance_lda  canberra_distance_lda  \\\n",
       "0    ...                      1.0               1.266667   \n",
       "1    ...                      1.0               5.400000   \n",
       "\n",
       "   euclidean_distance_lda  minkowski_distance_lda  braycurtis_distance_lda  \\\n",
       "0                0.137590                0.127564                 0.134090   \n",
       "1                0.538923                0.423051                 0.812442   \n",
       "\n",
       "       lstm         q1_pr         q2_pr  jaccard     lstm1  \n",
       "0  0.588275  1.608480e-07  3.047631e-07      1.0  0.329186  \n",
       "1  0.203615  8.198776e-07  3.097268e-07      1.0  0.280913  \n",
       "\n",
       "[2 rows x 247 columns]"
      ]
     },
     "execution_count": 24,
     "metadata": {},
     "output_type": "execute_result"
    }
   ],
   "source": [
    "X_train[:2]"
   ]
  },
  {
   "cell_type": "code",
   "execution_count": 129,
   "metadata": {
    "collapsed": false
   },
   "outputs": [
    {
     "data": {
      "text/html": [
       "<div>\n",
       "<table border=\"1\" class=\"dataframe\">\n",
       "  <thead>\n",
       "    <tr style=\"text-align: right;\">\n",
       "      <th></th>\n",
       "      <th>word_match</th>\n",
       "      <th>tfidf_word_match</th>\n",
       "      <th>0</th>\n",
       "      <th>1</th>\n",
       "      <th>2</th>\n",
       "      <th>3</th>\n",
       "      <th>4</th>\n",
       "      <th>5</th>\n",
       "      <th>6</th>\n",
       "      <th>7</th>\n",
       "      <th>...</th>\n",
       "      <th>kur_q2vec</th>\n",
       "      <th>q1_q2_intersect</th>\n",
       "      <th>cosine_distance_lda</th>\n",
       "      <th>cityblock_distance_lda</th>\n",
       "      <th>jaccard_distance_lda</th>\n",
       "      <th>canberra_distance_lda</th>\n",
       "      <th>euclidean_distance_lda</th>\n",
       "      <th>minkowski_distance_lda</th>\n",
       "      <th>braycurtis_distance_lda</th>\n",
       "      <th>lstm</th>\n",
       "    </tr>\n",
       "  </thead>\n",
       "  <tbody>\n",
       "    <tr>\n",
       "      <th>0</th>\n",
       "      <td>0.266667</td>\n",
       "      <td>0.274019</td>\n",
       "      <td>0.0</td>\n",
       "      <td>0.0</td>\n",
       "      <td>0.0</td>\n",
       "      <td>0.0</td>\n",
       "      <td>0.0</td>\n",
       "      <td>0.156312</td>\n",
       "      <td>0.0</td>\n",
       "      <td>0.0</td>\n",
       "      <td>...</td>\n",
       "      <td>-0.144866</td>\n",
       "      <td>0</td>\n",
       "      <td>0.573341</td>\n",
       "      <td>1.160190</td>\n",
       "      <td>1.0</td>\n",
       "      <td>7.833784</td>\n",
       "      <td>0.399663</td>\n",
       "      <td>0.290631</td>\n",
       "      <td>0.65838</td>\n",
       "      <td>0.102577</td>\n",
       "    </tr>\n",
       "    <tr>\n",
       "      <th>1</th>\n",
       "      <td>0.500000</td>\n",
       "      <td>0.480962</td>\n",
       "      <td>0.0</td>\n",
       "      <td>0.0</td>\n",
       "      <td>0.0</td>\n",
       "      <td>0.0</td>\n",
       "      <td>0.0</td>\n",
       "      <td>0.037057</td>\n",
       "      <td>0.0</td>\n",
       "      <td>0.0</td>\n",
       "      <td>...</td>\n",
       "      <td>-0.042937</td>\n",
       "      <td>0</td>\n",
       "      <td>0.251020</td>\n",
       "      <td>0.615409</td>\n",
       "      <td>1.0</td>\n",
       "      <td>3.595264</td>\n",
       "      <td>0.265033</td>\n",
       "      <td>0.210156</td>\n",
       "      <td>0.35913</td>\n",
       "      <td>0.310506</td>\n",
       "    </tr>\n",
       "  </tbody>\n",
       "</table>\n",
       "<p>2 rows × 243 columns</p>\n",
       "</div>"
      ],
      "text/plain": [
       "   word_match  tfidf_word_match    0    1    2    3    4         5    6    7  \\\n",
       "0    0.266667          0.274019  0.0  0.0  0.0  0.0  0.0  0.156312  0.0  0.0   \n",
       "1    0.500000          0.480962  0.0  0.0  0.0  0.0  0.0  0.037057  0.0  0.0   \n",
       "\n",
       "     ...     kur_q2vec  q1_q2_intersect  cosine_distance_lda  \\\n",
       "0    ...     -0.144866                0             0.573341   \n",
       "1    ...     -0.042937                0             0.251020   \n",
       "\n",
       "   cityblock_distance_lda  jaccard_distance_lda  canberra_distance_lda  \\\n",
       "0                1.160190                   1.0               7.833784   \n",
       "1                0.615409                   1.0               3.595264   \n",
       "\n",
       "   euclidean_distance_lda  minkowski_distance_lda  braycurtis_distance_lda  \\\n",
       "0                0.399663                0.290631                  0.65838   \n",
       "1                0.265033                0.210156                  0.35913   \n",
       "\n",
       "       lstm  \n",
       "0  0.102577  \n",
       "1  0.310506  \n",
       "\n",
       "[2 rows x 243 columns]"
      ]
     },
     "execution_count": 129,
     "metadata": {},
     "output_type": "execute_result"
    }
   ],
   "source": [
    "X_test[:2]"
   ]
  },
  {
   "cell_type": "code",
   "execution_count": 82,
   "metadata": {
    "collapsed": false
   },
   "outputs": [],
   "source": [
    "del X, X1"
   ]
  },
  {
   "cell_type": "code",
   "execution_count": 21,
   "metadata": {
    "collapsed": false
   },
   "outputs": [
    {
     "data": {
      "text/plain": [
       "158"
      ]
     },
     "execution_count": 21,
     "metadata": {},
     "output_type": "execute_result"
    }
   ],
   "source": [
    "import gc\n",
    "gc.collect()"
   ]
  },
  {
   "cell_type": "code",
   "execution_count": 25,
   "metadata": {
    "collapsed": true
   },
   "outputs": [],
   "source": [
    "q_test = pd.read_csv(\"data/freq_test.csv\")\n"
   ]
  },
  {
   "cell_type": "code",
   "execution_count": 26,
   "metadata": {
    "collapsed": false
   },
   "outputs": [],
   "source": [
    "X_test = pd.concat([X_test, q_test], axis=1)"
   ]
  },
  {
   "cell_type": "code",
   "execution_count": 27,
   "metadata": {
    "collapsed": true
   },
   "outputs": [],
   "source": [
    "f_test = pd.read_csv(\"data/test_features.csv\", encoding = \"ISO-8859-1\")\n",
    "f_test = f_test.ix[:, 2:]"
   ]
  },
  {
   "cell_type": "code",
   "execution_count": 28,
   "metadata": {
    "collapsed": false
   },
   "outputs": [],
   "source": [
    "X_test = pd.concat([X_test, f_test], axis=1)"
   ]
  },
  {
   "cell_type": "code",
   "execution_count": 29,
   "metadata": {
    "collapsed": true
   },
   "outputs": [],
   "source": [
    "q_test = pd.read_csv(\"data/f1_test.csv\")\n",
    "X_test = pd.concat([X_test, q_test], axis=1)"
   ]
  },
  {
   "cell_type": "code",
   "execution_count": 30,
   "metadata": {
    "collapsed": false
   },
   "outputs": [],
   "source": [
    "q_test = pd.read_csv(\"data/test_lda_feat.csv\", encoding = \"ISO-8859-1\")\n",
    "q_test = q_test.ix[:, 3:]\n",
    "X_test = pd.concat([X_test, q_test], axis=1)"
   ]
  },
  {
   "cell_type": "code",
   "execution_count": 31,
   "metadata": {
    "collapsed": true
   },
   "outputs": [],
   "source": [
    "q_test = pd.read_csv(\"stacking/nn_21_test.csv\")\n",
    "X_test = pd.concat([X_test, q_test], axis=1)"
   ]
  },
  {
   "cell_type": "code",
   "execution_count": 32,
   "metadata": {
    "collapsed": true
   },
   "outputs": [],
   "source": [
    "q_test = pd.read_csv(\"data/pagerank_test.csv\")\n",
    "X_test = pd.concat([X_test, q_test], axis=1)"
   ]
  },
  {
   "cell_type": "code",
   "execution_count": 33,
   "metadata": {
    "collapsed": true
   },
   "outputs": [],
   "source": [
    "q_test = pd.read_csv(\"data/jaccard_test.csv\")\n",
    "X_test = pd.concat([X_test, q_test], axis=1)"
   ]
  },
  {
   "cell_type": "code",
   "execution_count": 34,
   "metadata": {
    "collapsed": false
   },
   "outputs": [],
   "source": [
    "q_test = pd.read_csv(\"stacking/nn_21_lstm1_test.csv\")\n",
    "X_test = pd.concat([X_test, q_test], axis=1)"
   ]
  },
  {
   "cell_type": "code",
   "execution_count": 35,
   "metadata": {
    "collapsed": false
   },
   "outputs": [
    {
     "data": {
      "text/html": [
       "<div>\n",
       "<table border=\"1\" class=\"dataframe\">\n",
       "  <thead>\n",
       "    <tr style=\"text-align: right;\">\n",
       "      <th></th>\n",
       "      <th>word_match</th>\n",
       "      <th>tfidf_word_match</th>\n",
       "      <th>0</th>\n",
       "      <th>1</th>\n",
       "      <th>2</th>\n",
       "      <th>3</th>\n",
       "      <th>4</th>\n",
       "      <th>5</th>\n",
       "      <th>6</th>\n",
       "      <th>7</th>\n",
       "      <th>...</th>\n",
       "      <th>jaccard_distance_lda</th>\n",
       "      <th>canberra_distance_lda</th>\n",
       "      <th>euclidean_distance_lda</th>\n",
       "      <th>minkowski_distance_lda</th>\n",
       "      <th>braycurtis_distance_lda</th>\n",
       "      <th>lstm</th>\n",
       "      <th>q1_pr</th>\n",
       "      <th>q2_pr</th>\n",
       "      <th>jaccard</th>\n",
       "      <th>lstm1</th>\n",
       "    </tr>\n",
       "  </thead>\n",
       "  <tbody>\n",
       "    <tr>\n",
       "      <th>0</th>\n",
       "      <td>0.266667</td>\n",
       "      <td>0.274019</td>\n",
       "      <td>0.0</td>\n",
       "      <td>0.0</td>\n",
       "      <td>0.0</td>\n",
       "      <td>0.0</td>\n",
       "      <td>0.0</td>\n",
       "      <td>0.156312</td>\n",
       "      <td>0.0</td>\n",
       "      <td>0.0</td>\n",
       "      <td>...</td>\n",
       "      <td>1.0</td>\n",
       "      <td>7.833784</td>\n",
       "      <td>0.399663</td>\n",
       "      <td>0.290631</td>\n",
       "      <td>0.65838</td>\n",
       "      <td>0.102577</td>\n",
       "      <td>2.088105e-07</td>\n",
       "      <td>2.088105e-07</td>\n",
       "      <td>1.0</td>\n",
       "      <td>0.075481</td>\n",
       "    </tr>\n",
       "    <tr>\n",
       "      <th>1</th>\n",
       "      <td>0.500000</td>\n",
       "      <td>0.480962</td>\n",
       "      <td>0.0</td>\n",
       "      <td>0.0</td>\n",
       "      <td>0.0</td>\n",
       "      <td>0.0</td>\n",
       "      <td>0.0</td>\n",
       "      <td>0.037057</td>\n",
       "      <td>0.0</td>\n",
       "      <td>0.0</td>\n",
       "      <td>...</td>\n",
       "      <td>1.0</td>\n",
       "      <td>3.595264</td>\n",
       "      <td>0.265033</td>\n",
       "      <td>0.210156</td>\n",
       "      <td>0.35913</td>\n",
       "      <td>0.310506</td>\n",
       "      <td>2.368239e-07</td>\n",
       "      <td>2.194807e-07</td>\n",
       "      <td>1.0</td>\n",
       "      <td>0.413205</td>\n",
       "    </tr>\n",
       "  </tbody>\n",
       "</table>\n",
       "<p>2 rows × 247 columns</p>\n",
       "</div>"
      ],
      "text/plain": [
       "   word_match  tfidf_word_match    0    1    2    3    4         5    6    7  \\\n",
       "0    0.266667          0.274019  0.0  0.0  0.0  0.0  0.0  0.156312  0.0  0.0   \n",
       "1    0.500000          0.480962  0.0  0.0  0.0  0.0  0.0  0.037057  0.0  0.0   \n",
       "\n",
       "     ...     jaccard_distance_lda  canberra_distance_lda  \\\n",
       "0    ...                      1.0               7.833784   \n",
       "1    ...                      1.0               3.595264   \n",
       "\n",
       "   euclidean_distance_lda  minkowski_distance_lda  braycurtis_distance_lda  \\\n",
       "0                0.399663                0.290631                  0.65838   \n",
       "1                0.265033                0.210156                  0.35913   \n",
       "\n",
       "       lstm         q1_pr         q2_pr  jaccard     lstm1  \n",
       "0  0.102577  2.088105e-07  2.088105e-07      1.0  0.075481  \n",
       "1  0.310506  2.368239e-07  2.194807e-07      1.0  0.413205  \n",
       "\n",
       "[2 rows x 247 columns]"
      ]
     },
     "execution_count": 35,
     "metadata": {},
     "output_type": "execute_result"
    }
   ],
   "source": [
    "X_test[:2]"
   ]
  },
  {
   "cell_type": "code",
   "execution_count": 36,
   "metadata": {
    "collapsed": false
   },
   "outputs": [
    {
     "data": {
      "text/html": [
       "<div>\n",
       "<table border=\"1\" class=\"dataframe\">\n",
       "  <thead>\n",
       "    <tr style=\"text-align: right;\">\n",
       "      <th></th>\n",
       "      <th>word_match</th>\n",
       "      <th>tfidf_word_match</th>\n",
       "      <th>0</th>\n",
       "      <th>1</th>\n",
       "      <th>2</th>\n",
       "      <th>3</th>\n",
       "      <th>4</th>\n",
       "      <th>5</th>\n",
       "      <th>6</th>\n",
       "      <th>7</th>\n",
       "      <th>...</th>\n",
       "      <th>jaccard_distance_lda</th>\n",
       "      <th>canberra_distance_lda</th>\n",
       "      <th>euclidean_distance_lda</th>\n",
       "      <th>minkowski_distance_lda</th>\n",
       "      <th>braycurtis_distance_lda</th>\n",
       "      <th>lstm</th>\n",
       "      <th>q1_pr</th>\n",
       "      <th>q2_pr</th>\n",
       "      <th>jaccard</th>\n",
       "      <th>lstm1</th>\n",
       "    </tr>\n",
       "  </thead>\n",
       "  <tbody>\n",
       "    <tr>\n",
       "      <th>0</th>\n",
       "      <td>0.727273</td>\n",
       "      <td>0.772164</td>\n",
       "      <td>0.0</td>\n",
       "      <td>0.0</td>\n",
       "      <td>0.0</td>\n",
       "      <td>0.0</td>\n",
       "      <td>0.0</td>\n",
       "      <td>0.0</td>\n",
       "      <td>0.0</td>\n",
       "      <td>0.0</td>\n",
       "      <td>...</td>\n",
       "      <td>1.0</td>\n",
       "      <td>1.266667</td>\n",
       "      <td>0.137590</td>\n",
       "      <td>0.127564</td>\n",
       "      <td>0.134090</td>\n",
       "      <td>0.588275</td>\n",
       "      <td>1.608480e-07</td>\n",
       "      <td>3.047631e-07</td>\n",
       "      <td>1.0</td>\n",
       "      <td>0.329186</td>\n",
       "    </tr>\n",
       "    <tr>\n",
       "      <th>1</th>\n",
       "      <td>0.307692</td>\n",
       "      <td>0.361758</td>\n",
       "      <td>0.0</td>\n",
       "      <td>0.0</td>\n",
       "      <td>0.0</td>\n",
       "      <td>0.0</td>\n",
       "      <td>0.0</td>\n",
       "      <td>0.0</td>\n",
       "      <td>0.0</td>\n",
       "      <td>0.0</td>\n",
       "      <td>...</td>\n",
       "      <td>1.0</td>\n",
       "      <td>5.400000</td>\n",
       "      <td>0.538923</td>\n",
       "      <td>0.423051</td>\n",
       "      <td>0.812442</td>\n",
       "      <td>0.203615</td>\n",
       "      <td>8.198776e-07</td>\n",
       "      <td>3.097268e-07</td>\n",
       "      <td>1.0</td>\n",
       "      <td>0.280913</td>\n",
       "    </tr>\n",
       "  </tbody>\n",
       "</table>\n",
       "<p>2 rows × 247 columns</p>\n",
       "</div>"
      ],
      "text/plain": [
       "   word_match  tfidf_word_match    0    1    2    3    4    5    6    7  \\\n",
       "0    0.727273          0.772164  0.0  0.0  0.0  0.0  0.0  0.0  0.0  0.0   \n",
       "1    0.307692          0.361758  0.0  0.0  0.0  0.0  0.0  0.0  0.0  0.0   \n",
       "\n",
       "     ...     jaccard_distance_lda  canberra_distance_lda  \\\n",
       "0    ...                      1.0               1.266667   \n",
       "1    ...                      1.0               5.400000   \n",
       "\n",
       "   euclidean_distance_lda  minkowski_distance_lda  braycurtis_distance_lda  \\\n",
       "0                0.137590                0.127564                 0.134090   \n",
       "1                0.538923                0.423051                 0.812442   \n",
       "\n",
       "       lstm         q1_pr         q2_pr  jaccard     lstm1  \n",
       "0  0.588275  1.608480e-07  3.047631e-07      1.0  0.329186  \n",
       "1  0.203615  8.198776e-07  3.097268e-07      1.0  0.280913  \n",
       "\n",
       "[2 rows x 247 columns]"
      ]
     },
     "execution_count": 36,
     "metadata": {},
     "output_type": "execute_result"
    }
   ],
   "source": [
    "X_train[:2]"
   ]
  },
  {
   "cell_type": "code",
   "execution_count": 246,
   "metadata": {
    "collapsed": true
   },
   "outputs": [],
   "source": [
    "X_train1 = X_train"
   ]
  },
  {
   "cell_type": "code",
   "execution_count": 254,
   "metadata": {
    "collapsed": false
   },
   "outputs": [
    {
     "data": {
      "text/html": [
       "<div>\n",
       "<table border=\"1\" class=\"dataframe\">\n",
       "  <thead>\n",
       "    <tr style=\"text-align: right;\">\n",
       "      <th></th>\n",
       "      <th>word_match</th>\n",
       "      <th>tfidf_word_match</th>\n",
       "      <th>0</th>\n",
       "      <th>1</th>\n",
       "      <th>2</th>\n",
       "      <th>3</th>\n",
       "      <th>4</th>\n",
       "      <th>5</th>\n",
       "      <th>6</th>\n",
       "      <th>7</th>\n",
       "      <th>...</th>\n",
       "      <th>cityblock_distance_lda</th>\n",
       "      <th>jaccard_distance_lda</th>\n",
       "      <th>canberra_distance_lda</th>\n",
       "      <th>euclidean_distance_lda</th>\n",
       "      <th>minkowski_distance_lda</th>\n",
       "      <th>braycurtis_distance_lda</th>\n",
       "      <th>lstm</th>\n",
       "      <th>q1_pr</th>\n",
       "      <th>q2_pr</th>\n",
       "      <th>lstm1</th>\n",
       "    </tr>\n",
       "  </thead>\n",
       "  <tbody>\n",
       "    <tr>\n",
       "      <th>0</th>\n",
       "      <td>0.727273</td>\n",
       "      <td>0.772164</td>\n",
       "      <td>0.0</td>\n",
       "      <td>0.0</td>\n",
       "      <td>0.0</td>\n",
       "      <td>0.0</td>\n",
       "      <td>0.0</td>\n",
       "      <td>0.000000</td>\n",
       "      <td>0.0</td>\n",
       "      <td>0.0</td>\n",
       "      <td>...</td>\n",
       "      <td>0.232798</td>\n",
       "      <td>1.0</td>\n",
       "      <td>1.266667</td>\n",
       "      <td>0.137590</td>\n",
       "      <td>0.127564</td>\n",
       "      <td>0.134090</td>\n",
       "      <td>0.588275</td>\n",
       "      <td>1.608480e-07</td>\n",
       "      <td>3.047631e-07</td>\n",
       "      <td>0.329186</td>\n",
       "    </tr>\n",
       "    <tr>\n",
       "      <th>1</th>\n",
       "      <td>0.307692</td>\n",
       "      <td>0.361758</td>\n",
       "      <td>0.0</td>\n",
       "      <td>0.0</td>\n",
       "      <td>0.0</td>\n",
       "      <td>0.0</td>\n",
       "      <td>0.0</td>\n",
       "      <td>0.000000</td>\n",
       "      <td>0.0</td>\n",
       "      <td>0.0</td>\n",
       "      <td>...</td>\n",
       "      <td>1.241746</td>\n",
       "      <td>1.0</td>\n",
       "      <td>5.400000</td>\n",
       "      <td>0.538923</td>\n",
       "      <td>0.423051</td>\n",
       "      <td>0.812442</td>\n",
       "      <td>0.203615</td>\n",
       "      <td>8.198776e-07</td>\n",
       "      <td>3.097268e-07</td>\n",
       "      <td>0.280913</td>\n",
       "    </tr>\n",
       "    <tr>\n",
       "      <th>2</th>\n",
       "      <td>0.363636</td>\n",
       "      <td>0.355191</td>\n",
       "      <td>0.0</td>\n",
       "      <td>0.0</td>\n",
       "      <td>0.0</td>\n",
       "      <td>0.0</td>\n",
       "      <td>0.0</td>\n",
       "      <td>0.167796</td>\n",
       "      <td>0.0</td>\n",
       "      <td>0.0</td>\n",
       "      <td>...</td>\n",
       "      <td>1.089333</td>\n",
       "      <td>1.0</td>\n",
       "      <td>6.333333</td>\n",
       "      <td>0.411444</td>\n",
       "      <td>0.304798</td>\n",
       "      <td>0.655172</td>\n",
       "      <td>0.476624</td>\n",
       "      <td>3.049200e-07</td>\n",
       "      <td>1.609126e-07</td>\n",
       "      <td>0.677454</td>\n",
       "    </tr>\n",
       "  </tbody>\n",
       "</table>\n",
       "<p>3 rows × 246 columns</p>\n",
       "</div>"
      ],
      "text/plain": [
       "   word_match  tfidf_word_match    0    1    2    3    4         5    6    7  \\\n",
       "0    0.727273          0.772164  0.0  0.0  0.0  0.0  0.0  0.000000  0.0  0.0   \n",
       "1    0.307692          0.361758  0.0  0.0  0.0  0.0  0.0  0.000000  0.0  0.0   \n",
       "2    0.363636          0.355191  0.0  0.0  0.0  0.0  0.0  0.167796  0.0  0.0   \n",
       "\n",
       "     ...     cityblock_distance_lda  jaccard_distance_lda  \\\n",
       "0    ...                   0.232798                   1.0   \n",
       "1    ...                   1.241746                   1.0   \n",
       "2    ...                   1.089333                   1.0   \n",
       "\n",
       "   canberra_distance_lda  euclidean_distance_lda  minkowski_distance_lda  \\\n",
       "0               1.266667                0.137590                0.127564   \n",
       "1               5.400000                0.538923                0.423051   \n",
       "2               6.333333                0.411444                0.304798   \n",
       "\n",
       "   braycurtis_distance_lda      lstm         q1_pr         q2_pr     lstm1  \n",
       "0                 0.134090  0.588275  1.608480e-07  3.047631e-07  0.329186  \n",
       "1                 0.812442  0.203615  8.198776e-07  3.097268e-07  0.280913  \n",
       "2                 0.655172  0.476624  3.049200e-07  1.609126e-07  0.677454  \n",
       "\n",
       "[3 rows x 246 columns]"
      ]
     },
     "execution_count": 254,
     "metadata": {},
     "output_type": "execute_result"
    }
   ],
   "source": [
    "X_train1[:3]"
   ]
  },
  {
   "cell_type": "code",
   "execution_count": 37,
   "metadata": {
    "collapsed": true
   },
   "outputs": [],
   "source": [
    "X_train = X_train.replace([np.inf, -np.inf], np.nan)"
   ]
  },
  {
   "cell_type": "code",
   "execution_count": 38,
   "metadata": {
    "collapsed": false
   },
   "outputs": [],
   "source": [
    "X_train= X_train.fillna(X_train.mean())"
   ]
  },
  {
   "cell_type": "code",
   "execution_count": 39,
   "metadata": {
    "collapsed": false
   },
   "outputs": [],
   "source": [
    "X_train=X_train.astype(np.float32)"
   ]
  },
  {
   "cell_type": "code",
   "execution_count": 40,
   "metadata": {
    "collapsed": false
   },
   "outputs": [
    {
     "data": {
      "text/plain": [
       "0"
      ]
     },
     "execution_count": 40,
     "metadata": {},
     "output_type": "execute_result"
    }
   ],
   "source": [
    "X_train.isnull().sum().sum()"
   ]
  },
  {
   "cell_type": "code",
   "execution_count": 41,
   "metadata": {
    "collapsed": true
   },
   "outputs": [],
   "source": [
    "X_test = X_test.replace([np.inf, -np.inf], np.nan)"
   ]
  },
  {
   "cell_type": "code",
   "execution_count": 42,
   "metadata": {
    "collapsed": true
   },
   "outputs": [],
   "source": [
    "X_test= X_test.fillna(X_test.mean())"
   ]
  },
  {
   "cell_type": "code",
   "execution_count": 43,
   "metadata": {
    "collapsed": true
   },
   "outputs": [],
   "source": [
    "X_test=X_test.astype(np.float32)"
   ]
  },
  {
   "cell_type": "code",
   "execution_count": 44,
   "metadata": {
    "collapsed": false
   },
   "outputs": [
    {
     "data": {
      "text/plain": [
       "0"
      ]
     },
     "execution_count": 44,
     "metadata": {},
     "output_type": "execute_result"
    }
   ],
   "source": [
    "X_test.isnull().sum().sum()"
   ]
  },
  {
   "cell_type": "code",
   "execution_count": 180,
   "metadata": {
    "collapsed": true
   },
   "outputs": [],
   "source": [
    "del X_test['jaccard']\n",
    "del X_train['jaccard']"
   ]
  },
  {
   "cell_type": "code",
   "execution_count": 63,
   "metadata": {
    "collapsed": false
   },
   "outputs": [
    {
     "name": "stderr",
     "output_type": "stream",
     "text": [
      "/home/fao3864/anaconda3/lib/python3.6/site-packages/sklearn/utils/validation.py:526: DataConversionWarning: A column-vector y was passed when a 1d array was expected. Please change the shape of y to (n_samples, ), for example using ravel().\n",
      "  y = column_or_1d(y, warn=True)\n"
     ]
    },
    {
     "name": "stdout",
     "output_type": "stream",
     "text": [
      "XGB: 0.281 +- 0.003\n"
     ]
    }
   ],
   "source": [
    "param = {}\n",
    "param['objective'] = 'binary:logistic'\n",
    "param['eval_metric'] = 'logloss'\n",
    "param['max_depth'] = 7\n",
    "# param['booster'] = 'dart'\n",
    "#param['booster'] = 'gblinear'\n",
    "param['eta'] = 0.07\n",
    "#param['subsample'] = 1.0\n",
    "# param[\"scale_pos_weight\"] = 0.5\n",
    "#param['colsample_bytree'] = 0.7\n",
    "param['nthread'] = 8\n",
    "#param['num_class'] =3\n",
    "#param['alpha'] = 0.00\n",
    "#param['lambda_bias'] = 0.1\n",
    "# param['lambda'] = 0\n",
    "#param['min_child_weight'] = 100\n",
    "\n",
    "# if param['booster'] == 'gblinear': param['eta'] *= 1e-4\n",
    "numround = 2000\n",
    "\n",
    "#LGBM\n",
    "params = {\n",
    "    #'task': 'train',\n",
    "    #'boosting_type': 'gbdt',\n",
    "    #'objective': 'regression',\n",
    "    #'metric': {'l2', 'auc'},\n",
    "    #'num_leaves': 31,\n",
    "    #'feature_fraction': 0.9,\n",
    "    #'bagging_fraction': 0.8,\n",
    "    #'bagging_freq': 5,\n",
    "    #'subsample': 0.8,\n",
    "    #'colsample_bytree': 0.7,\n",
    "    'objective': 'binary',\n",
    "    'nthread': -1,\n",
    "    'learning_rate': 0.05,\n",
    "    'min_child_weight': 50,\n",
    "    #'max_depth': 7\n",
    "    #'num_class': 3\n",
    "    \n",
    "}\n",
    "\n",
    "pred_train = np.zeros(len(y_train))\n",
    "xgbs = []\n",
    "sc,sc_mean = [],[]\n",
    "\n",
    "for itr, ite in folds:\n",
    "    ypred = []\n",
    "    for i in range(1):\n",
    "               \n",
    "        param['seed'] = i+1\n",
    "        \n",
    "        #xgboost\n",
    "        '''\n",
    "        Xdatatrain = xgb.DMatrix(data=X_train.ix[itr, :].values,\n",
    "                                     label=y_train.ix[itr].values)\n",
    "        Xdataval = xgb.DMatrix(data=X_train.ix[ite, :].values,\n",
    "                                     label=y_train.ix[ite].values)\n",
    "\n",
    "        plst = list(param.items())\n",
    "        watchlist = [(Xdatatrain, 'train'), (Xdataval, 'eval')]\n",
    "        bst = xgb.train(plst, Xdatatrain, numround, evals=watchlist, verbose_eval=15)\n",
    "\n",
    "        \n",
    "        #rc = ensemble.ExtraTreesClassifier(n_estimators=1300, criterion='gini', max_depth=None, n_jobs=-1)\n",
    "        #pred_train[ite] = bst.predict(Xdataval)\n",
    "        #neigh = KNeighborsClassifier(n_neighbors=2)\n",
    "        #neigh.fit(X_train.ix[itr, :], y_train.ix[itr])\n",
    "        ypred = bst.predict(Xdataval)\n",
    "        #ypred = neigh.predict_proba(X_train.ix[ite, :])\n",
    "        xgbs.append(bst)\n",
    "        '''\n",
    "        '''\n",
    "        # train\n",
    "        lgb = lgbm.sklearn.LGBMClassifier(n_estimators=2000, seed=0, **params)\n",
    "        lgb.fit(X_train.ix[itr, :], y_train.ix[itr])\n",
    "        ypred = lgb.predict_proba(X_train.ix[ite, :])[:, 1]\n",
    "        \n",
    "        \n",
    "        model.fit(X_train.ix[itr, :].values, y_train_cat[itr],\n",
    "            epochs=60,\n",
    "            batch_size=1000)\n",
    "        ypred = model.predict(X_train.ix[ite, :].values)\n",
    "        '''\n",
    "        ext = sklearn.linear_model.LogisticRegression()\n",
    "        ext.fit(X_train.ix[itr, :], y_train.ix[itr])\n",
    "        ypred = ext.predict_proba(X_train.ix[ite, :])[:, 1]\n",
    "    #ypred = sum(ypred) / len(ypred) 0.401408 0.392476\n",
    "    pred_train[ite] = ypred\n",
    "\n",
    "    \n",
    "    sc.append(log_loss(y_train.ix[ite, :], pred_train[ite]))\n",
    "\n",
    "    \n",
    "print('XGB: {:.3f} +- {:.3f}'.format(np.mean(sc), np.std(sc)))"
   ]
  },
  {
   "cell_type": "code",
   "execution_count": null,
   "metadata": {
    "collapsed": true
   },
   "outputs": [],
   "source": [
    "0.268\n",
    "0.294\n",
    "0.323"
   ]
  },
  {
   "cell_type": "code",
   "execution_count": 64,
   "metadata": {
    "collapsed": true
   },
   "outputs": [],
   "source": [
    "def foo(x):\n",
    "    a = 0.165 / 0.37\n",
    "    b = (1 - 0.165) / (1 - 0.37) \n",
    "    return  a * x / (a * x + b * (1 - x))"
   ]
  },
  {
   "cell_type": "code",
   "execution_count": 65,
   "metadata": {
    "collapsed": false
   },
   "outputs": [],
   "source": [
    "pred_train = foo(pred_train)"
   ]
  },
  {
   "cell_type": "code",
   "execution_count": 66,
   "metadata": {
    "collapsed": false
   },
   "outputs": [],
   "source": [
    "pred_train = pd.DataFrame(pred_train)\n",
    "pred_train.columns = ['y']\n",
    "pred_train.to_csv(\"stacking/lin_30.csv\", index=None)"
   ]
  },
  {
   "cell_type": "code",
   "execution_count": 271,
   "metadata": {
    "collapsed": false
   },
   "outputs": [],
   "source": [
    "del Xdatatest2"
   ]
  },
  {
   "cell_type": "code",
   "execution_count": 50,
   "metadata": {
    "collapsed": false
   },
   "outputs": [
    {
     "data": {
      "text/plain": [
       "165"
      ]
     },
     "execution_count": 50,
     "metadata": {},
     "output_type": "execute_result"
    }
   ],
   "source": [
    "import gc\n",
    "gc.collect()"
   ]
  },
  {
   "cell_type": "code",
   "execution_count": 58,
   "metadata": {
    "collapsed": false
   },
   "outputs": [],
   "source": [
    "submit = pd.read_csv(\"data/sample_submission.csv\")"
   ]
  },
  {
   "cell_type": "code",
   "execution_count": 56,
   "metadata": {
    "collapsed": true
   },
   "outputs": [],
   "source": [
    "#LGBM\n",
    "params = {\n",
    "    #'task': 'train',\n",
    "    #'boosting_type': 'gbdt',\n",
    "    #'objective': 'regression',\n",
    "    #'metric': {'l2', 'auc'},\n",
    "    #'num_leaves': 31,\n",
    "    #'feature_fraction': 0.9,\n",
    "    #'bagging_fraction': 0.8,\n",
    "    #'bagging_freq': 5,\n",
    "    #'subsample': 0.8,\n",
    "    #'colsample_bytree': 0.7,\n",
    "    'objective': 'binary',\n",
    "    'nthread': -1,\n",
    "    'learning_rate': 0.1,\n",
    "    'min_child_weight': 100,\n",
    "    #'max_depth': 6\n",
    "    #'num_class': 3\n",
    "    \n",
    "}"
   ]
  },
  {
   "cell_type": "code",
   "execution_count": 188,
   "metadata": {
    "collapsed": false
   },
   "outputs": [
    {
     "name": "stderr",
     "output_type": "stream",
     "text": [
      "/home/fao3864/anaconda3/lib/python3.6/site-packages/sklearn/preprocessing/label.py:112: DataConversionWarning: A column-vector y was passed when a 1d array was expected. Please change the shape of y to (n_samples, ), for example using ravel().\n",
      "  y = column_or_1d(y, warn=True)\n",
      "/home/fao3864/anaconda3/lib/python3.6/site-packages/sklearn/preprocessing/label.py:147: DataConversionWarning: A column-vector y was passed when a 1d array was expected. Please change the shape of y to (n_samples, ), for example using ravel().\n",
      "  y = column_or_1d(y, warn=True)\n"
     ]
    },
    {
     "data": {
      "text/plain": [
       "LGBMClassifier(boosting_type='gbdt', colsample_bytree=1, drop_rate=0.1,\n",
       "        is_unbalance=False, learning_rate=0.05, max_bin=255, max_depth=-1,\n",
       "        max_drop=50, min_child_samples=10, min_child_weight=50,\n",
       "        min_split_gain=0, n_estimators=2000, nthread=-1, num_leaves=31,\n",
       "        objective='binary', reg_alpha=0, reg_lambda=0, scale_pos_weight=1,\n",
       "        seed=0, sigmoid=1.0, silent=True, skip_drop=0.5, subsample=1,\n",
       "        subsample_for_bin=50000, subsample_freq=1, uniform_drop=False,\n",
       "        xgboost_dart_mode=False)"
      ]
     },
     "execution_count": 188,
     "metadata": {},
     "output_type": "execute_result"
    }
   ],
   "source": [
    "lgb = lgbm.sklearn.LGBMClassifier(n_estimators=2000, seed=0, **params)\n",
    "lgb.fit(X_train, y_train)\n"
   ]
  },
  {
   "cell_type": "code",
   "execution_count": 41,
   "metadata": {
    "collapsed": false
   },
   "outputs": [
    {
     "name": "stderr",
     "output_type": "stream",
     "text": [
      "/home/fao3864/anaconda3/lib/python3.6/site-packages/ipykernel/__main__.py:17: DataConversionWarning: A column-vector y was passed when a 1d array was expected. Please change the shape of y to (n_samples,), for example using ravel().\n"
     ]
    },
    {
     "data": {
      "text/plain": [
       "ExtraTreesClassifier(bootstrap=False, class_weight=None, criterion='gini',\n",
       "           max_depth=30, max_features='auto', max_leaf_nodes=None,\n",
       "           min_impurity_split=1e-07, min_samples_leaf=1,\n",
       "           min_samples_split=2, min_weight_fraction_leaf=0.0,\n",
       "           n_estimators=1000, n_jobs=-1, oob_score=False,\n",
       "           random_state=None, verbose=0, warm_start=False)"
      ]
     },
     "execution_count": 41,
     "metadata": {},
     "output_type": "execute_result"
    }
   ],
   "source": [
    "    ext = sklearn.ensemble.ExtraTreesClassifier(n_estimators=1000,\n",
    "                                                    criterion='gini',\n",
    "                                                    max_depth=30,\n",
    "                                                    min_samples_split=2,\n",
    "                                                    min_samples_leaf=1,\n",
    "                                                    min_weight_fraction_leaf=0.0,\n",
    "                                                    max_features='auto',\n",
    "                                                    max_leaf_nodes=None,\n",
    "                                                    min_impurity_split=1e-07,\n",
    "                                                    bootstrap=False,\n",
    "                                                    oob_score=False,\n",
    "                                                    n_jobs=-1,\n",
    "                                                    random_state=None,\n",
    "                                                    verbose=0,\n",
    "                                                    warm_start=False,\n",
    "                                                    class_weight=None)\n",
    "ext.fit(X_train, y_train)"
   ]
  },
  {
   "cell_type": "code",
   "execution_count": 51,
   "metadata": {
    "collapsed": false
   },
   "outputs": [
    {
     "name": "stderr",
     "output_type": "stream",
     "text": [
      "/home/fao3864/anaconda3/lib/python3.6/site-packages/ipykernel/__main__.py:2: DataConversionWarning: A column-vector y was passed when a 1d array was expected. Please change the shape of y to (n_samples,), for example using ravel().\n",
      "  from ipykernel import kernelapp as app\n"
     ]
    },
    {
     "data": {
      "text/plain": [
       "RandomForestClassifier(bootstrap=True, class_weight=None, criterion='gini',\n",
       "            max_depth=20, max_features='auto', max_leaf_nodes=None,\n",
       "            min_impurity_split=1e-07, min_samples_leaf=1,\n",
       "            min_samples_split=2, min_weight_fraction_leaf=0.0,\n",
       "            n_estimators=500, n_jobs=1, oob_score=False, random_state=None,\n",
       "            verbose=0, warm_start=False)"
      ]
     },
     "execution_count": 51,
     "metadata": {},
     "output_type": "execute_result"
    }
   ],
   "source": [
    "        ext = sklearn.ensemble.RandomForestClassifier(n_estimators=500, criterion='gini', max_depth=20)\n",
    "        ext.fit(X_train, y_train)\n"
   ]
  },
  {
   "cell_type": "code",
   "execution_count": 67,
   "metadata": {
    "collapsed": false
   },
   "outputs": [
    {
     "name": "stderr",
     "output_type": "stream",
     "text": [
      "/home/fao3864/anaconda3/lib/python3.6/site-packages/sklearn/utils/validation.py:526: DataConversionWarning: A column-vector y was passed when a 1d array was expected. Please change the shape of y to (n_samples, ), for example using ravel().\n",
      "  y = column_or_1d(y, warn=True)\n"
     ]
    },
    {
     "data": {
      "text/plain": [
       "LogisticRegression(C=1.0, class_weight=None, dual=False, fit_intercept=True,\n",
       "          intercept_scaling=1, max_iter=100, multi_class='ovr', n_jobs=1,\n",
       "          penalty='l2', random_state=None, solver='liblinear', tol=0.0001,\n",
       "          verbose=0, warm_start=False)"
      ]
     },
     "execution_count": 67,
     "metadata": {},
     "output_type": "execute_result"
    }
   ],
   "source": [
    "        ext = sklearn.linear_model.LogisticRegression()\n",
    "        ext.fit(X_train, y_train)"
   ]
  },
  {
   "cell_type": "code",
   "execution_count": 68,
   "metadata": {
    "collapsed": true
   },
   "outputs": [],
   "source": [
    "test_pred1 = ext.predict_proba(X_test.ix[:1000000])[:, 1]"
   ]
  },
  {
   "cell_type": "code",
   "execution_count": 69,
   "metadata": {
    "collapsed": false
   },
   "outputs": [],
   "source": [
    "test_pred2 = ext.predict_proba(X_test.ix[1000001:])[:, 1]"
   ]
  },
  {
   "cell_type": "code",
   "execution_count": 71,
   "metadata": {
    "collapsed": false
   },
   "outputs": [
    {
     "data": {
      "text/plain": [
       "array([ 0.04500053,  0.28164112,  0.40565882,  0.00154451])"
      ]
     },
     "execution_count": 71,
     "metadata": {},
     "output_type": "execute_result"
    }
   ],
   "source": [
    "test_pred1[:4]"
   ]
  },
  {
   "cell_type": "code",
   "execution_count": 72,
   "metadata": {
    "collapsed": false
   },
   "outputs": [
    {
     "data": {
      "text/plain": [
       "array([ 0.01236717,  0.07248959,  0.83883488,  0.03395509])"
      ]
     },
     "execution_count": 72,
     "metadata": {},
     "output_type": "execute_result"
    }
   ],
   "source": [
    "test_pred1[-4:]"
   ]
  },
  {
   "cell_type": "code",
   "execution_count": 73,
   "metadata": {
    "collapsed": false
   },
   "outputs": [
    {
     "data": {
      "text/plain": [
       "array([ 0.09783528,  0.00108652,  0.01733689,  0.03079797])"
      ]
     },
     "execution_count": 73,
     "metadata": {},
     "output_type": "execute_result"
    }
   ],
   "source": [
    "test_pred2[:4]"
   ]
  },
  {
   "cell_type": "code",
   "execution_count": 151,
   "metadata": {
    "collapsed": false
   },
   "outputs": [
    {
     "data": {
      "text/plain": [
       "array([  1.67587699e-03,   2.31711933e-04,   3.72899384e-01,\n",
       "         3.89707027e-01])"
      ]
     },
     "execution_count": 151,
     "metadata": {},
     "output_type": "execute_result"
    }
   ],
   "source": [
    "test_pred2[-4:]"
   ]
  },
  {
   "cell_type": "code",
   "execution_count": 148,
   "metadata": {
    "collapsed": false
   },
   "outputs": [
    {
     "data": {
      "text/plain": [
       "1000001"
      ]
     },
     "execution_count": 148,
     "metadata": {},
     "output_type": "execute_result"
    }
   ],
   "source": [
    "len(test_pred1)"
   ]
  },
  {
   "cell_type": "code",
   "execution_count": 152,
   "metadata": {
    "collapsed": false
   },
   "outputs": [
    {
     "data": {
      "text/plain": [
       "1345795"
      ]
     },
     "execution_count": 152,
     "metadata": {},
     "output_type": "execute_result"
    }
   ],
   "source": [
    "len(test_pred2)"
   ]
  },
  {
   "cell_type": "code",
   "execution_count": 74,
   "metadata": {
    "collapsed": true
   },
   "outputs": [],
   "source": [
    "test_pred = np.concatenate([test_pred1, test_pred2], axis=0)"
   ]
  },
  {
   "cell_type": "code",
   "execution_count": 47,
   "metadata": {
    "collapsed": false
   },
   "outputs": [
    {
     "data": {
      "text/plain": [
       "2345796"
      ]
     },
     "execution_count": 47,
     "metadata": {},
     "output_type": "execute_result"
    }
   ],
   "source": [
    "len(test_pred)"
   ]
  },
  {
   "cell_type": "code",
   "execution_count": 195,
   "metadata": {
    "collapsed": false
   },
   "outputs": [
    {
     "data": {
      "text/plain": [
       "array([  3.44825252e-03,   2.31987433e-01,   5.78899062e-01, ...,\n",
       "         8.52588377e-05,   2.30536292e-01,   4.70305114e-01])"
      ]
     },
     "execution_count": 195,
     "metadata": {},
     "output_type": "execute_result"
    }
   ],
   "source": [
    "test_pred"
   ]
  },
  {
   "cell_type": "code",
   "execution_count": 163,
   "metadata": {
    "collapsed": false
   },
   "outputs": [],
   "source": [
    "del Xdatatrain"
   ]
  },
  {
   "cell_type": "code",
   "execution_count": 48,
   "metadata": {
    "collapsed": false
   },
   "outputs": [
    {
     "data": {
      "text/plain": [
       "19"
      ]
     },
     "execution_count": 48,
     "metadata": {},
     "output_type": "execute_result"
    }
   ],
   "source": [
    "import gc\n",
    "gc.collect()"
   ]
  },
  {
   "cell_type": "code",
   "execution_count": 38,
   "metadata": {
    "collapsed": true
   },
   "outputs": [],
   "source": [
    "param = {}\n",
    "param['objective'] = 'binary:logistic'\n",
    "param['eval_metric'] = 'logloss'\n",
    "param['max_depth'] = 7\n",
    "# param['booster'] = 'dart'\n",
    "#param['booster'] = 'gblinear'\n",
    "param['eta'] = 0.1\n",
    "#param['subsample'] = 1.0\n",
    "# param[\"scale_pos_weight\"] = 0.5\n",
    "#param['colsample_bytree'] = 0.7\n",
    "param['nthread'] = 8\n",
    "#param['num_class'] =3\n",
    "#param['alpha'] = 0.00\n",
    "#param['lambda_bias'] = 0.1\n",
    "# param['lambda'] = 0\n",
    "#param['min_child_weight'] = 100\n",
    "\n",
    "# if param['booster'] == 'gblinear': param['eta'] *= 1e-4\n",
    "numround = 2000"
   ]
  },
  {
   "cell_type": "code",
   "execution_count": 155,
   "metadata": {
    "collapsed": true
   },
   "outputs": [],
   "source": [
    "Xdatatrain = xgb.DMatrix(data=X_train.ix[:, :].values,\n",
    "                                     label=y_train.ix[:].values)"
   ]
  },
  {
   "cell_type": "code",
   "execution_count": 156,
   "metadata": {
    "collapsed": true
   },
   "outputs": [],
   "source": [
    "Xdataval = xgb.DMatrix(data=X_train.ix[:10, :].values,\n",
    "                                     label=y_train.ix[:10].values)"
   ]
  },
  {
   "cell_type": "code",
   "execution_count": 168,
   "metadata": {
    "collapsed": false
   },
   "outputs": [],
   "source": [
    "del Xdatatest1"
   ]
  },
  {
   "cell_type": "code",
   "execution_count": 170,
   "metadata": {
    "collapsed": true
   },
   "outputs": [],
   "source": [
    "Xdatatest2 = xgb.DMatrix(data=X_test.ix[1000001:, :].values)"
   ]
  },
  {
   "cell_type": "code",
   "execution_count": 165,
   "metadata": {
    "collapsed": true
   },
   "outputs": [],
   "source": [
    "Xdatatest1 = xgb.DMatrix(data=X_test.ix[:1000000, :].values)"
   ]
  },
  {
   "cell_type": "code",
   "execution_count": 157,
   "metadata": {
    "collapsed": true
   },
   "outputs": [],
   "source": [
    "\n",
    "plst = list(param.items())\n",
    "watchlist = [(Xdatatrain, 'train'), (Xdataval, 'eval')]"
   ]
  },
  {
   "cell_type": "code",
   "execution_count": 158,
   "metadata": {
    "collapsed": false
   },
   "outputs": [
    {
     "name": "stdout",
     "output_type": "stream",
     "text": [
      "[0]\ttrain-logloss:0.647789\teval-logloss:0.65296\n",
      "[15]\ttrain-logloss:0.345185\teval-logloss:0.371863\n",
      "[30]\ttrain-logloss:0.267959\teval-logloss:0.298524\n",
      "[45]\ttrain-logloss:0.242341\teval-logloss:0.274513\n",
      "[60]\ttrain-logloss:0.231946\teval-logloss:0.250854\n",
      "[75]\ttrain-logloss:0.226236\teval-logloss:0.240165\n",
      "[90]\ttrain-logloss:0.220925\teval-logloss:0.231341\n",
      "[105]\ttrain-logloss:0.216633\teval-logloss:0.232251\n",
      "[120]\ttrain-logloss:0.213026\teval-logloss:0.225941\n",
      "[135]\ttrain-logloss:0.210134\teval-logloss:0.218171\n",
      "[150]\ttrain-logloss:0.207633\teval-logloss:0.214139\n",
      "[165]\ttrain-logloss:0.20549\teval-logloss:0.212049\n",
      "[180]\ttrain-logloss:0.203296\teval-logloss:0.211795\n",
      "[195]\ttrain-logloss:0.201364\teval-logloss:0.207569\n",
      "[210]\ttrain-logloss:0.199599\teval-logloss:0.206513\n",
      "[225]\ttrain-logloss:0.198068\teval-logloss:0.207797\n",
      "[240]\ttrain-logloss:0.19681\teval-logloss:0.208231\n",
      "[255]\ttrain-logloss:0.195652\teval-logloss:0.208948\n",
      "[270]\ttrain-logloss:0.194361\teval-logloss:0.209715\n",
      "[285]\ttrain-logloss:0.192768\teval-logloss:0.211833\n",
      "[300]\ttrain-logloss:0.191645\teval-logloss:0.20901\n",
      "[315]\ttrain-logloss:0.190299\teval-logloss:0.209275\n",
      "[330]\ttrain-logloss:0.189139\teval-logloss:0.210114\n",
      "[345]\ttrain-logloss:0.188254\teval-logloss:0.209342\n",
      "[360]\ttrain-logloss:0.187204\teval-logloss:0.208298\n",
      "[375]\ttrain-logloss:0.185922\teval-logloss:0.205201\n",
      "[390]\ttrain-logloss:0.185243\teval-logloss:0.205903\n",
      "[405]\ttrain-logloss:0.184492\teval-logloss:0.209304\n",
      "[420]\ttrain-logloss:0.183693\teval-logloss:0.209505\n",
      "[435]\ttrain-logloss:0.182852\teval-logloss:0.209145\n",
      "[450]\ttrain-logloss:0.182139\teval-logloss:0.208815\n",
      "[465]\ttrain-logloss:0.181329\teval-logloss:0.207742\n",
      "[480]\ttrain-logloss:0.180316\teval-logloss:0.208762\n",
      "[495]\ttrain-logloss:0.178989\teval-logloss:0.208374\n",
      "[510]\ttrain-logloss:0.178438\teval-logloss:0.208349\n",
      "[525]\ttrain-logloss:0.177429\teval-logloss:0.208007\n",
      "[540]\ttrain-logloss:0.176782\teval-logloss:0.206859\n",
      "[555]\ttrain-logloss:0.175989\teval-logloss:0.203141\n",
      "[570]\ttrain-logloss:0.175304\teval-logloss:0.202873\n",
      "[585]\ttrain-logloss:0.174645\teval-logloss:0.201286\n",
      "[600]\ttrain-logloss:0.173831\teval-logloss:0.201037\n",
      "[615]\ttrain-logloss:0.172861\teval-logloss:0.19836\n",
      "[630]\ttrain-logloss:0.172069\teval-logloss:0.198013\n",
      "[645]\ttrain-logloss:0.171598\teval-logloss:0.197459\n",
      "[660]\ttrain-logloss:0.170909\teval-logloss:0.197012\n",
      "[675]\ttrain-logloss:0.170435\teval-logloss:0.196825\n",
      "[690]\ttrain-logloss:0.169703\teval-logloss:0.195924\n",
      "[705]\ttrain-logloss:0.168907\teval-logloss:0.196379\n",
      "[720]\ttrain-logloss:0.16829\teval-logloss:0.197015\n",
      "[735]\ttrain-logloss:0.167529\teval-logloss:0.197324\n",
      "[750]\ttrain-logloss:0.166891\teval-logloss:0.197917\n",
      "[765]\ttrain-logloss:0.166196\teval-logloss:0.197271\n",
      "[780]\ttrain-logloss:0.165769\teval-logloss:0.197298\n",
      "[795]\ttrain-logloss:0.164882\teval-logloss:0.193299\n",
      "[810]\ttrain-logloss:0.164395\teval-logloss:0.192761\n",
      "[825]\ttrain-logloss:0.163945\teval-logloss:0.193193\n",
      "[840]\ttrain-logloss:0.163154\teval-logloss:0.191713\n",
      "[855]\ttrain-logloss:0.162511\teval-logloss:0.191006\n",
      "[870]\ttrain-logloss:0.161941\teval-logloss:0.189899\n",
      "[885]\ttrain-logloss:0.161442\teval-logloss:0.190716\n",
      "[900]\ttrain-logloss:0.160838\teval-logloss:0.190538\n",
      "[915]\ttrain-logloss:0.160252\teval-logloss:0.188807\n",
      "[930]\ttrain-logloss:0.159355\teval-logloss:0.189284\n",
      "[945]\ttrain-logloss:0.15884\teval-logloss:0.190992\n",
      "[960]\ttrain-logloss:0.158358\teval-logloss:0.189481\n",
      "[975]\ttrain-logloss:0.157728\teval-logloss:0.192084\n",
      "[990]\ttrain-logloss:0.157046\teval-logloss:0.193917\n",
      "[1005]\ttrain-logloss:0.156738\teval-logloss:0.194242\n",
      "[1020]\ttrain-logloss:0.156354\teval-logloss:0.193333\n",
      "[1035]\ttrain-logloss:0.155741\teval-logloss:0.193132\n",
      "[1050]\ttrain-logloss:0.155332\teval-logloss:0.192974\n",
      "[1065]\ttrain-logloss:0.154827\teval-logloss:0.1945\n",
      "[1080]\ttrain-logloss:0.154335\teval-logloss:0.193151\n",
      "[1095]\ttrain-logloss:0.153476\teval-logloss:0.195866\n",
      "[1110]\ttrain-logloss:0.152929\teval-logloss:0.195668\n",
      "[1125]\ttrain-logloss:0.152351\teval-logloss:0.194709\n",
      "[1140]\ttrain-logloss:0.151914\teval-logloss:0.195535\n",
      "[1155]\ttrain-logloss:0.151424\teval-logloss:0.196372\n",
      "[1170]\ttrain-logloss:0.150945\teval-logloss:0.198031\n",
      "[1185]\ttrain-logloss:0.150497\teval-logloss:0.197764\n",
      "[1200]\ttrain-logloss:0.149843\teval-logloss:0.197539\n",
      "[1215]\ttrain-logloss:0.149332\teval-logloss:0.197548\n",
      "[1230]\ttrain-logloss:0.148506\teval-logloss:0.197937\n",
      "[1245]\ttrain-logloss:0.148\teval-logloss:0.197399\n",
      "[1260]\ttrain-logloss:0.147771\teval-logloss:0.197075\n",
      "[1275]\ttrain-logloss:0.147452\teval-logloss:0.197379\n",
      "[1290]\ttrain-logloss:0.147132\teval-logloss:0.197727\n",
      "[1305]\ttrain-logloss:0.146443\teval-logloss:0.197006\n",
      "[1320]\ttrain-logloss:0.146058\teval-logloss:0.197634\n",
      "[1335]\ttrain-logloss:0.145623\teval-logloss:0.197871\n",
      "[1350]\ttrain-logloss:0.145138\teval-logloss:0.197485\n",
      "[1365]\ttrain-logloss:0.144699\teval-logloss:0.197608\n",
      "[1380]\ttrain-logloss:0.144077\teval-logloss:0.196712\n",
      "[1395]\ttrain-logloss:0.143505\teval-logloss:0.196737\n",
      "[1410]\ttrain-logloss:0.143\teval-logloss:0.195114\n",
      "[1425]\ttrain-logloss:0.142147\teval-logloss:0.192038\n",
      "[1440]\ttrain-logloss:0.141382\teval-logloss:0.19058\n",
      "[1455]\ttrain-logloss:0.140874\teval-logloss:0.190306\n",
      "[1470]\ttrain-logloss:0.14044\teval-logloss:0.192161\n",
      "[1485]\ttrain-logloss:0.140102\teval-logloss:0.191693\n",
      "[1500]\ttrain-logloss:0.13967\teval-logloss:0.191591\n",
      "[1515]\ttrain-logloss:0.139316\teval-logloss:0.191877\n",
      "[1530]\ttrain-logloss:0.138963\teval-logloss:0.191468\n",
      "[1545]\ttrain-logloss:0.138653\teval-logloss:0.191392\n",
      "[1560]\ttrain-logloss:0.138374\teval-logloss:0.191423\n",
      "[1575]\ttrain-logloss:0.137734\teval-logloss:0.188221\n",
      "[1590]\ttrain-logloss:0.13713\teval-logloss:0.185519\n",
      "[1605]\ttrain-logloss:0.136545\teval-logloss:0.18501\n",
      "[1620]\ttrain-logloss:0.136071\teval-logloss:0.183904\n",
      "[1635]\ttrain-logloss:0.135484\teval-logloss:0.18224\n",
      "[1650]\ttrain-logloss:0.134866\teval-logloss:0.180765\n",
      "[1665]\ttrain-logloss:0.134372\teval-logloss:0.180522\n",
      "[1680]\ttrain-logloss:0.134007\teval-logloss:0.176461\n",
      "[1695]\ttrain-logloss:0.133586\teval-logloss:0.178763\n",
      "[1710]\ttrain-logloss:0.133061\teval-logloss:0.17984\n",
      "[1725]\ttrain-logloss:0.132795\teval-logloss:0.179946\n",
      "[1740]\ttrain-logloss:0.132361\teval-logloss:0.178933\n",
      "[1755]\ttrain-logloss:0.132021\teval-logloss:0.178215\n",
      "[1770]\ttrain-logloss:0.131619\teval-logloss:0.177469\n",
      "[1785]\ttrain-logloss:0.131373\teval-logloss:0.177705\n",
      "[1800]\ttrain-logloss:0.130981\teval-logloss:0.177573\n",
      "[1815]\ttrain-logloss:0.130441\teval-logloss:0.179658\n",
      "[1830]\ttrain-logloss:0.130171\teval-logloss:0.180774\n",
      "[1845]\ttrain-logloss:0.129881\teval-logloss:0.180818\n",
      "[1860]\ttrain-logloss:0.129538\teval-logloss:0.179229\n",
      "[1875]\ttrain-logloss:0.129147\teval-logloss:0.179318\n",
      "[1890]\ttrain-logloss:0.128732\teval-logloss:0.177695\n",
      "[1905]\ttrain-logloss:0.128356\teval-logloss:0.177054\n",
      "[1920]\ttrain-logloss:0.127888\teval-logloss:0.177944\n",
      "[1935]\ttrain-logloss:0.127402\teval-logloss:0.176812\n",
      "[1950]\ttrain-logloss:0.126959\teval-logloss:0.176778\n",
      "[1965]\ttrain-logloss:0.126562\teval-logloss:0.176911\n",
      "[1980]\ttrain-logloss:0.126177\teval-logloss:0.177452\n",
      "[1995]\ttrain-logloss:0.125776\teval-logloss:0.17357\n"
     ]
    }
   ],
   "source": [
    "bst = xgb.train(plst, Xdatatrain, numround, evals=watchlist, verbose_eval=15)\n"
   ]
  },
  {
   "cell_type": "code",
   "execution_count": 171,
   "metadata": {
    "collapsed": false
   },
   "outputs": [],
   "source": [
    "test_pred2 = bst.predict(Xdatatest2)\n"
   ]
  },
  {
   "cell_type": "code",
   "execution_count": 167,
   "metadata": {
    "collapsed": false
   },
   "outputs": [
    {
     "data": {
      "text/plain": [
       "array([  3.22814728e-03,   3.37183297e-01,   5.60726404e-01,\n",
       "         9.69345274e-05], dtype=float32)"
      ]
     },
     "execution_count": 167,
     "metadata": {},
     "output_type": "execute_result"
    }
   ],
   "source": [
    "test_pred1[:4]"
   ]
  },
  {
   "cell_type": "code",
   "execution_count": 50,
   "metadata": {
    "collapsed": false
   },
   "outputs": [
    {
     "data": {
      "text/plain": [
       "1000001"
      ]
     },
     "execution_count": 50,
     "metadata": {},
     "output_type": "execute_result"
    }
   ],
   "source": [
    "len(test_pred1)"
   ]
  },
  {
   "cell_type": "code",
   "execution_count": 53,
   "metadata": {
    "collapsed": false
   },
   "outputs": [
    {
     "data": {
      "text/plain": [
       "array([  2.29527755e-03,   5.45756638e-01,   6.37812853e-01,\n",
       "         4.23383579e-04], dtype=float32)"
      ]
     },
     "execution_count": 53,
     "metadata": {},
     "output_type": "execute_result"
    }
   ],
   "source": [
    "test_pred1[:4]"
   ]
  },
  {
   "cell_type": "code",
   "execution_count": 172,
   "metadata": {
    "collapsed": true
   },
   "outputs": [],
   "source": [
    "test_pred = np.concatenate([test_pred1, test_pred2], axis=0)"
   ]
  },
  {
   "cell_type": "code",
   "execution_count": 173,
   "metadata": {
    "collapsed": false
   },
   "outputs": [
    {
     "data": {
      "text/plain": [
       "2345796"
      ]
     },
     "execution_count": 173,
     "metadata": {},
     "output_type": "execute_result"
    }
   ],
   "source": [
    "len(test_pred)"
   ]
  },
  {
   "cell_type": "code",
   "execution_count": 75,
   "metadata": {
    "collapsed": false
   },
   "outputs": [],
   "source": [
    "test_pred = foo(test_pred)"
   ]
  },
  {
   "cell_type": "code",
   "execution_count": 76,
   "metadata": {
    "collapsed": false
   },
   "outputs": [],
   "source": [
    "submit['is_duplicate'] = test_pred"
   ]
  },
  {
   "cell_type": "code",
   "execution_count": 77,
   "metadata": {
    "collapsed": false
   },
   "outputs": [],
   "source": [
    "submit.to_csv(\"stacking/lin_30_test.csv\", index=None)"
   ]
  },
  {
   "cell_type": "code",
   "execution_count": 79,
   "metadata": {
    "collapsed": false
   },
   "outputs": [
    {
     "data": {
      "text/plain": [
       "test_id         1.172898e+06\n",
       "is_duplicate    7.466991e-02\n",
       "dtype: float64"
      ]
     },
     "execution_count": 79,
     "metadata": {},
     "output_type": "execute_result"
    }
   ],
   "source": [
    "submit.mean()"
   ]
  },
  {
   "cell_type": "code",
   "execution_count": 200,
   "metadata": {
    "collapsed": false
   },
   "outputs": [
    {
     "data": {
      "text/html": [
       "<div>\n",
       "<table border=\"1\" class=\"dataframe\">\n",
       "  <thead>\n",
       "    <tr style=\"text-align: right;\">\n",
       "      <th></th>\n",
       "      <th>test_id</th>\n",
       "      <th>is_duplicate</th>\n",
       "    </tr>\n",
       "  </thead>\n",
       "  <tbody>\n",
       "    <tr>\n",
       "      <th>0</th>\n",
       "      <td>0</td>\n",
       "      <td>0.001163</td>\n",
       "    </tr>\n",
       "    <tr>\n",
       "      <th>1</th>\n",
       "      <td>1</td>\n",
       "      <td>0.092256</td>\n",
       "    </tr>\n",
       "    <tr>\n",
       "      <th>2</th>\n",
       "      <td>2</td>\n",
       "      <td>0.316260</td>\n",
       "    </tr>\n",
       "    <tr>\n",
       "      <th>3</th>\n",
       "      <td>3</td>\n",
       "      <td>0.000180</td>\n",
       "    </tr>\n",
       "    <tr>\n",
       "      <th>4</th>\n",
       "      <td>4</td>\n",
       "      <td>0.089728</td>\n",
       "    </tr>\n",
       "    <tr>\n",
       "      <th>5</th>\n",
       "      <td>5</td>\n",
       "      <td>0.000924</td>\n",
       "    </tr>\n",
       "    <tr>\n",
       "      <th>6</th>\n",
       "      <td>6</td>\n",
       "      <td>0.996947</td>\n",
       "    </tr>\n",
       "    <tr>\n",
       "      <th>7</th>\n",
       "      <td>7</td>\n",
       "      <td>0.564485</td>\n",
       "    </tr>\n",
       "    <tr>\n",
       "      <th>8</th>\n",
       "      <td>8</td>\n",
       "      <td>0.329441</td>\n",
       "    </tr>\n",
       "    <tr>\n",
       "      <th>9</th>\n",
       "      <td>9</td>\n",
       "      <td>0.000331</td>\n",
       "    </tr>\n",
       "    <tr>\n",
       "      <th>10</th>\n",
       "      <td>10</td>\n",
       "      <td>0.024911</td>\n",
       "    </tr>\n",
       "    <tr>\n",
       "      <th>11</th>\n",
       "      <td>11</td>\n",
       "      <td>0.000017</td>\n",
       "    </tr>\n",
       "    <tr>\n",
       "      <th>12</th>\n",
       "      <td>12</td>\n",
       "      <td>0.000009</td>\n",
       "    </tr>\n",
       "    <tr>\n",
       "      <th>13</th>\n",
       "      <td>13</td>\n",
       "      <td>0.007765</td>\n",
       "    </tr>\n",
       "    <tr>\n",
       "      <th>14</th>\n",
       "      <td>14</td>\n",
       "      <td>0.037961</td>\n",
       "    </tr>\n",
       "    <tr>\n",
       "      <th>15</th>\n",
       "      <td>15</td>\n",
       "      <td>0.034288</td>\n",
       "    </tr>\n",
       "    <tr>\n",
       "      <th>16</th>\n",
       "      <td>16</td>\n",
       "      <td>0.000016</td>\n",
       "    </tr>\n",
       "    <tr>\n",
       "      <th>17</th>\n",
       "      <td>17</td>\n",
       "      <td>0.437793</td>\n",
       "    </tr>\n",
       "    <tr>\n",
       "      <th>18</th>\n",
       "      <td>18</td>\n",
       "      <td>0.243948</td>\n",
       "    </tr>\n",
       "    <tr>\n",
       "      <th>19</th>\n",
       "      <td>19</td>\n",
       "      <td>0.271302</td>\n",
       "    </tr>\n",
       "    <tr>\n",
       "      <th>20</th>\n",
       "      <td>20</td>\n",
       "      <td>0.000015</td>\n",
       "    </tr>\n",
       "    <tr>\n",
       "      <th>21</th>\n",
       "      <td>21</td>\n",
       "      <td>0.002473</td>\n",
       "    </tr>\n",
       "    <tr>\n",
       "      <th>22</th>\n",
       "      <td>22</td>\n",
       "      <td>0.003922</td>\n",
       "    </tr>\n",
       "    <tr>\n",
       "      <th>23</th>\n",
       "      <td>23</td>\n",
       "      <td>0.005858</td>\n",
       "    </tr>\n",
       "    <tr>\n",
       "      <th>24</th>\n",
       "      <td>24</td>\n",
       "      <td>0.000027</td>\n",
       "    </tr>\n",
       "    <tr>\n",
       "      <th>25</th>\n",
       "      <td>25</td>\n",
       "      <td>0.051249</td>\n",
       "    </tr>\n",
       "    <tr>\n",
       "      <th>26</th>\n",
       "      <td>26</td>\n",
       "      <td>0.000019</td>\n",
       "    </tr>\n",
       "    <tr>\n",
       "      <th>27</th>\n",
       "      <td>27</td>\n",
       "      <td>0.007818</td>\n",
       "    </tr>\n",
       "    <tr>\n",
       "      <th>28</th>\n",
       "      <td>28</td>\n",
       "      <td>0.047205</td>\n",
       "    </tr>\n",
       "    <tr>\n",
       "      <th>29</th>\n",
       "      <td>29</td>\n",
       "      <td>0.000119</td>\n",
       "    </tr>\n",
       "    <tr>\n",
       "      <th>...</th>\n",
       "      <td>...</td>\n",
       "      <td>...</td>\n",
       "    </tr>\n",
       "    <tr>\n",
       "      <th>2345766</th>\n",
       "      <td>2345766</td>\n",
       "      <td>0.000002</td>\n",
       "    </tr>\n",
       "    <tr>\n",
       "      <th>2345767</th>\n",
       "      <td>2345767</td>\n",
       "      <td>0.000015</td>\n",
       "    </tr>\n",
       "    <tr>\n",
       "      <th>2345768</th>\n",
       "      <td>2345768</td>\n",
       "      <td>0.006983</td>\n",
       "    </tr>\n",
       "    <tr>\n",
       "      <th>2345769</th>\n",
       "      <td>2345769</td>\n",
       "      <td>0.000002</td>\n",
       "    </tr>\n",
       "    <tr>\n",
       "      <th>2345770</th>\n",
       "      <td>2345770</td>\n",
       "      <td>0.096724</td>\n",
       "    </tr>\n",
       "    <tr>\n",
       "      <th>2345771</th>\n",
       "      <td>2345771</td>\n",
       "      <td>0.002698</td>\n",
       "    </tr>\n",
       "    <tr>\n",
       "      <th>2345772</th>\n",
       "      <td>2345772</td>\n",
       "      <td>0.102684</td>\n",
       "    </tr>\n",
       "    <tr>\n",
       "      <th>2345773</th>\n",
       "      <td>2345773</td>\n",
       "      <td>0.000027</td>\n",
       "    </tr>\n",
       "    <tr>\n",
       "      <th>2345774</th>\n",
       "      <td>2345774</td>\n",
       "      <td>0.001219</td>\n",
       "    </tr>\n",
       "    <tr>\n",
       "      <th>2345775</th>\n",
       "      <td>2345775</td>\n",
       "      <td>0.342643</td>\n",
       "    </tr>\n",
       "    <tr>\n",
       "      <th>2345776</th>\n",
       "      <td>2345776</td>\n",
       "      <td>0.075087</td>\n",
       "    </tr>\n",
       "    <tr>\n",
       "      <th>2345777</th>\n",
       "      <td>2345777</td>\n",
       "      <td>0.005428</td>\n",
       "    </tr>\n",
       "    <tr>\n",
       "      <th>2345778</th>\n",
       "      <td>2345778</td>\n",
       "      <td>0.000031</td>\n",
       "    </tr>\n",
       "    <tr>\n",
       "      <th>2345779</th>\n",
       "      <td>2345779</td>\n",
       "      <td>0.002182</td>\n",
       "    </tr>\n",
       "    <tr>\n",
       "      <th>2345780</th>\n",
       "      <td>2345780</td>\n",
       "      <td>0.000024</td>\n",
       "    </tr>\n",
       "    <tr>\n",
       "      <th>2345781</th>\n",
       "      <td>2345781</td>\n",
       "      <td>0.077992</td>\n",
       "    </tr>\n",
       "    <tr>\n",
       "      <th>2345782</th>\n",
       "      <td>2345782</td>\n",
       "      <td>0.631825</td>\n",
       "    </tr>\n",
       "    <tr>\n",
       "      <th>2345783</th>\n",
       "      <td>2345783</td>\n",
       "      <td>0.000087</td>\n",
       "    </tr>\n",
       "    <tr>\n",
       "      <th>2345784</th>\n",
       "      <td>2345784</td>\n",
       "      <td>0.244153</td>\n",
       "    </tr>\n",
       "    <tr>\n",
       "      <th>2345785</th>\n",
       "      <td>2345785</td>\n",
       "      <td>0.000009</td>\n",
       "    </tr>\n",
       "    <tr>\n",
       "      <th>2345786</th>\n",
       "      <td>2345786</td>\n",
       "      <td>0.000030</td>\n",
       "    </tr>\n",
       "    <tr>\n",
       "      <th>2345787</th>\n",
       "      <td>2345787</td>\n",
       "      <td>0.000003</td>\n",
       "    </tr>\n",
       "    <tr>\n",
       "      <th>2345788</th>\n",
       "      <td>2345788</td>\n",
       "      <td>0.000646</td>\n",
       "    </tr>\n",
       "    <tr>\n",
       "      <th>2345789</th>\n",
       "      <td>2345789</td>\n",
       "      <td>0.000004</td>\n",
       "    </tr>\n",
       "    <tr>\n",
       "      <th>2345790</th>\n",
       "      <td>2345790</td>\n",
       "      <td>0.000003</td>\n",
       "    </tr>\n",
       "    <tr>\n",
       "      <th>2345791</th>\n",
       "      <td>2345791</td>\n",
       "      <td>0.000002</td>\n",
       "    </tr>\n",
       "    <tr>\n",
       "      <th>2345792</th>\n",
       "      <td>2345792</td>\n",
       "      <td>0.000062</td>\n",
       "    </tr>\n",
       "    <tr>\n",
       "      <th>2345793</th>\n",
       "      <td>2345793</td>\n",
       "      <td>0.000029</td>\n",
       "    </tr>\n",
       "    <tr>\n",
       "      <th>2345794</th>\n",
       "      <td>2345794</td>\n",
       "      <td>0.091575</td>\n",
       "    </tr>\n",
       "    <tr>\n",
       "      <th>2345795</th>\n",
       "      <td>2345795</td>\n",
       "      <td>0.230022</td>\n",
       "    </tr>\n",
       "  </tbody>\n",
       "</table>\n",
       "<p>2345796 rows × 2 columns</p>\n",
       "</div>"
      ],
      "text/plain": [
       "         test_id  is_duplicate\n",
       "0              0      0.001163\n",
       "1              1      0.092256\n",
       "2              2      0.316260\n",
       "3              3      0.000180\n",
       "4              4      0.089728\n",
       "5              5      0.000924\n",
       "6              6      0.996947\n",
       "7              7      0.564485\n",
       "8              8      0.329441\n",
       "9              9      0.000331\n",
       "10            10      0.024911\n",
       "11            11      0.000017\n",
       "12            12      0.000009\n",
       "13            13      0.007765\n",
       "14            14      0.037961\n",
       "15            15      0.034288\n",
       "16            16      0.000016\n",
       "17            17      0.437793\n",
       "18            18      0.243948\n",
       "19            19      0.271302\n",
       "20            20      0.000015\n",
       "21            21      0.002473\n",
       "22            22      0.003922\n",
       "23            23      0.005858\n",
       "24            24      0.000027\n",
       "25            25      0.051249\n",
       "26            26      0.000019\n",
       "27            27      0.007818\n",
       "28            28      0.047205\n",
       "29            29      0.000119\n",
       "...          ...           ...\n",
       "2345766  2345766      0.000002\n",
       "2345767  2345767      0.000015\n",
       "2345768  2345768      0.006983\n",
       "2345769  2345769      0.000002\n",
       "2345770  2345770      0.096724\n",
       "2345771  2345771      0.002698\n",
       "2345772  2345772      0.102684\n",
       "2345773  2345773      0.000027\n",
       "2345774  2345774      0.001219\n",
       "2345775  2345775      0.342643\n",
       "2345776  2345776      0.075087\n",
       "2345777  2345777      0.005428\n",
       "2345778  2345778      0.000031\n",
       "2345779  2345779      0.002182\n",
       "2345780  2345780      0.000024\n",
       "2345781  2345781      0.077992\n",
       "2345782  2345782      0.631825\n",
       "2345783  2345783      0.000087\n",
       "2345784  2345784      0.244153\n",
       "2345785  2345785      0.000009\n",
       "2345786  2345786      0.000030\n",
       "2345787  2345787      0.000003\n",
       "2345788  2345788      0.000646\n",
       "2345789  2345789      0.000004\n",
       "2345790  2345790      0.000003\n",
       "2345791  2345791      0.000002\n",
       "2345792  2345792      0.000062\n",
       "2345793  2345793      0.000029\n",
       "2345794  2345794      0.091575\n",
       "2345795  2345795      0.230022\n",
       "\n",
       "[2345796 rows x 2 columns]"
      ]
     },
     "execution_count": 200,
     "metadata": {},
     "output_type": "execute_result"
    }
   ],
   "source": [
    "submit"
   ]
  }
 ],
 "metadata": {
  "kernelspec": {
   "display_name": "Python 3",
   "language": "python",
   "name": "python3"
  },
  "language_info": {
   "codemirror_mode": {
    "name": "ipython",
    "version": 3
   },
   "file_extension": ".py",
   "mimetype": "text/x-python",
   "name": "python",
   "nbconvert_exporter": "python",
   "pygments_lexer": "ipython3",
   "version": "3.6.0"
  }
 },
 "nbformat": 4,
 "nbformat_minor": 2
}
