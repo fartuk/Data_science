{
 "cells": [
  {
   "cell_type": "code",
   "execution_count": 1,
   "metadata": {
    "collapsed": false
   },
   "outputs": [
    {
     "name": "stderr",
     "output_type": "stream",
     "text": [
      "/home/ubuntu/anaconda2/lib/python2.7/site-packages/sklearn/cross_validation.py:44: DeprecationWarning: This module was deprecated in version 0.18 in favor of the model_selection module into which all the refactored classes and functions are moved. Also note that the interface of the new CV iterators are different from that of this module. This module will be removed in 0.20.\n",
      "  \"This module will be removed in 0.20.\", DeprecationWarning)\n"
     ]
    }
   ],
   "source": [
    "import numpy as np\n",
    "import pandas as pd\n",
    "from sklearn import ensemble\n",
    "from sklearn.linear_model import LinearRegression\n",
    "\n",
    "from sklearn.cross_validation import cross_val_score\n",
    "from sklearn.feature_extraction.text import HashingVectorizer\n",
    "from sklearn import manifold, decomposition, linear_model, ensemble, neighbors, cross_validation\n",
    "import sklearn\n",
    "from sklearn import pipeline, preprocessing, feature_extraction\n",
    "import xgboost as xgb\n",
    "from sklearn.metrics import f1_score\n",
    "import xgboost as xgb\n",
    "from sklearn.metrics import mean_absolute_error\n"
   ]
  },
  {
   "cell_type": "code",
   "execution_count": 2,
   "metadata": {
    "collapsed": true
   },
   "outputs": [],
   "source": [
    "train = pd.DataFrame.from_csv(\"train.csv\",index_col=None)"
   ]
  },
  {
   "cell_type": "code",
   "execution_count": 3,
   "metadata": {
    "collapsed": false
   },
   "outputs": [
    {
     "data": {
      "text/plain": [
       "(188318, 132)"
      ]
     },
     "execution_count": 3,
     "metadata": {},
     "output_type": "execute_result"
    }
   ],
   "source": [
    "train.shape"
   ]
  },
  {
   "cell_type": "code",
   "execution_count": 4,
   "metadata": {
    "collapsed": false
   },
   "outputs": [
    {
     "data": {
      "text/plain": [
       "Index([u'cat1', u'cat2', u'cat3', u'cat4', u'cat5', u'cat6', u'cat7', u'cat8',\n",
       "       u'cat9', u'cat10',\n",
       "       ...\n",
       "       u'cat107', u'cat108', u'cat109', u'cat110', u'cat111', u'cat112',\n",
       "       u'cat113', u'cat114', u'cat115', u'cat116'],\n",
       "      dtype='object', length=116)"
      ]
     },
     "execution_count": 4,
     "metadata": {},
     "output_type": "execute_result"
    }
   ],
   "source": [
    "train.columns[1:117]"
   ]
  },
  {
   "cell_type": "code",
   "execution_count": 4,
   "metadata": {
    "collapsed": true
   },
   "outputs": [],
   "source": [
    "train_encode = train[[\"cat80\",\"cat87\",\"cat57\",\"cat12\",\"cat79\",\"cat10\",\"cat7\",\"cat89\",\"cat2\",\"cat72\", \\\n",
    "             \"cat81\",\"cat11\",\"cat1\",\"cat13\",\"cat9\",\"cat3\",\"cat16\",\"cat90\",\"cat23\",\"cat36\", \\\n",
    "             \"cat73\",\"cat103\",\"cat40\",\"cat28\",\"cat111\",\"cat6\",\"cat76\",\"cat50\",\"cat5\", \\\n",
    "             \"cat4\",\"cat14\",\"cat38\",\"cat24\",\"cat82\",\"cat25\"]]"
   ]
  },
  {
   "cell_type": "code",
   "execution_count": 5,
   "metadata": {
    "collapsed": true
   },
   "outputs": [],
   "source": [
    "train_encode = train.ix[:, 1:117]"
   ]
  },
  {
   "cell_type": "code",
   "execution_count": 5,
   "metadata": {
    "collapsed": false
   },
   "outputs": [
    {
     "data": {
      "text/html": [
       "<div>\n",
       "<table border=\"1\" class=\"dataframe\">\n",
       "  <thead>\n",
       "    <tr style=\"text-align: right;\">\n",
       "      <th></th>\n",
       "      <th>cat80</th>\n",
       "      <th>cat87</th>\n",
       "      <th>cat57</th>\n",
       "      <th>cat12</th>\n",
       "      <th>cat79</th>\n",
       "      <th>cat10</th>\n",
       "      <th>cat7</th>\n",
       "      <th>cat89</th>\n",
       "      <th>cat2</th>\n",
       "      <th>cat72</th>\n",
       "      <th>...</th>\n",
       "      <th>cat6</th>\n",
       "      <th>cat76</th>\n",
       "      <th>cat50</th>\n",
       "      <th>cat5</th>\n",
       "      <th>cat4</th>\n",
       "      <th>cat14</th>\n",
       "      <th>cat38</th>\n",
       "      <th>cat24</th>\n",
       "      <th>cat82</th>\n",
       "      <th>cat25</th>\n",
       "    </tr>\n",
       "  </thead>\n",
       "  <tbody>\n",
       "    <tr>\n",
       "      <th>0</th>\n",
       "      <td>D</td>\n",
       "      <td>B</td>\n",
       "      <td>A</td>\n",
       "      <td>A</td>\n",
       "      <td>B</td>\n",
       "      <td>A</td>\n",
       "      <td>A</td>\n",
       "      <td>A</td>\n",
       "      <td>B</td>\n",
       "      <td>A</td>\n",
       "      <td>...</td>\n",
       "      <td>A</td>\n",
       "      <td>A</td>\n",
       "      <td>A</td>\n",
       "      <td>A</td>\n",
       "      <td>B</td>\n",
       "      <td>A</td>\n",
       "      <td>A</td>\n",
       "      <td>A</td>\n",
       "      <td>B</td>\n",
       "      <td>A</td>\n",
       "    </tr>\n",
       "    <tr>\n",
       "      <th>1</th>\n",
       "      <td>D</td>\n",
       "      <td>B</td>\n",
       "      <td>A</td>\n",
       "      <td>A</td>\n",
       "      <td>B</td>\n",
       "      <td>B</td>\n",
       "      <td>A</td>\n",
       "      <td>A</td>\n",
       "      <td>B</td>\n",
       "      <td>A</td>\n",
       "      <td>...</td>\n",
       "      <td>A</td>\n",
       "      <td>A</td>\n",
       "      <td>A</td>\n",
       "      <td>A</td>\n",
       "      <td>A</td>\n",
       "      <td>A</td>\n",
       "      <td>A</td>\n",
       "      <td>A</td>\n",
       "      <td>A</td>\n",
       "      <td>A</td>\n",
       "    </tr>\n",
       "  </tbody>\n",
       "</table>\n",
       "<p>2 rows × 35 columns</p>\n",
       "</div>"
      ],
      "text/plain": [
       "  cat80 cat87 cat57 cat12 cat79 cat10 cat7 cat89 cat2 cat72  ...  cat6 cat76  \\\n",
       "0     D     B     A     A     B     A    A     A    B     A  ...     A     A   \n",
       "1     D     B     A     A     B     B    A     A    B     A  ...     A     A   \n",
       "\n",
       "  cat50 cat5 cat4 cat14 cat38 cat24 cat82 cat25  \n",
       "0     A    A    B     A     A     A     B     A  \n",
       "1     A    A    A     A     A     A     A     A  \n",
       "\n",
       "[2 rows x 35 columns]"
      ]
     },
     "execution_count": 5,
     "metadata": {},
     "output_type": "execute_result"
    }
   ],
   "source": [
    "train_encode[:2]"
   ]
  },
  {
   "cell_type": "markdown",
   "metadata": {},
   "source": [
    "### лэйбл энкодинг"
   ]
  },
  {
   "cell_type": "code",
   "execution_count": 134,
   "metadata": {
    "collapsed": false
   },
   "outputs": [],
   "source": [
    "from sklearn.preprocessing import LabelEncoder\n",
    "from sklearn.pipeline import Pipeline\n",
    "class MultiColumnLabelEncoder:\n",
    "    def __init__(self,columns = None):\n",
    "        self.columns = columns # array of column names to encode\n",
    "\n",
    "    def fit(self,X,y=None):\n",
    "        return self # not relevant here\n",
    "\n",
    "    def transform(self,X):\n",
    "        '''\n",
    "        Transforms columns of X specified in self.columns using\n",
    "        LabelEncoder(). If no columns specified, transforms all\n",
    "        columns in X.\n",
    "        '''\n",
    "        output = X.copy()\n",
    "        if self.columns is not None:\n",
    "            for col in self.columns:\n",
    "                output[col] = LabelEncoder().fit_transform(output[col])\n",
    "        else:\n",
    "            for colname,col in output.iteritems():\n",
    "                output[colname] = LabelEncoder().fit_transform(col)\n",
    "        return output\n",
    "\n",
    "    def fit_transform(self,X,y=None):\n",
    "        return self.fit(X,y).transform(X)"
   ]
  },
  {
   "cell_type": "code",
   "execution_count": 163,
   "metadata": {
    "collapsed": false
   },
   "outputs": [
    {
     "data": {
      "text/plain": [
       "<__main__.MultiColumnLabelEncoder instance at 0x7f23c9c761b8>"
      ]
     },
     "execution_count": 163,
     "metadata": {},
     "output_type": "execute_result"
    }
   ],
   "source": [
    "le = MultiColumnLabelEncoder()\n",
    "le.fit(train_encode)"
   ]
  },
  {
   "cell_type": "code",
   "execution_count": 164,
   "metadata": {
    "collapsed": false
   },
   "outputs": [],
   "source": [
    "train_encode = le.transform(train_encode)"
   ]
  },
  {
   "cell_type": "code",
   "execution_count": 39,
   "metadata": {
    "collapsed": false
   },
   "outputs": [],
   "source": [
    "#train_encode = MultiColumnLabelEncoder(columns = train_encode.columns).fit_transform(train_encode)"
   ]
  },
  {
   "cell_type": "markdown",
   "metadata": {},
   "source": [
    "### onehot"
   ]
  },
  {
   "cell_type": "code",
   "execution_count": 6,
   "metadata": {
    "collapsed": false
   },
   "outputs": [],
   "source": [
    "train_encode = pd.get_dummies(train_encode[:])\n"
   ]
  },
  {
   "cell_type": "code",
   "execution_count": 3,
   "metadata": {
    "collapsed": false
   },
   "outputs": [],
   "source": [
    "y = train.loss\n",
    "y = pd.DataFrame(y)\n",
    "\n",
    "#train_encode = train_encode.drop('loss', axis=1)"
   ]
  },
  {
   "cell_type": "code",
   "execution_count": 8,
   "metadata": {
    "collapsed": false
   },
   "outputs": [
    {
     "data": {
      "text/plain": [
       "Index([u'cont1', u'cont2', u'cont3', u'cont4', u'cont5', u'cont6', u'cont7',\n",
       "       u'cont8', u'cont9', u'cont10', u'cont11', u'cont12', u'cont13',\n",
       "       u'cont14', u'loss'],\n",
       "      dtype='object')"
      ]
     },
     "execution_count": 8,
     "metadata": {},
     "output_type": "execute_result"
    }
   ],
   "source": [
    "train.columns[117:132]"
   ]
  },
  {
   "cell_type": "code",
   "execution_count": 9,
   "metadata": {
    "collapsed": true
   },
   "outputs": [],
   "source": [
    "train_encode =  pd.concat([train_encode, train.ix[:, 117:131]],axis=1)"
   ]
  },
  {
   "cell_type": "code",
   "execution_count": 10,
   "metadata": {
    "collapsed": true
   },
   "outputs": [],
   "source": [
    "train_encode = train_encode.reindex_axis(sorted(train_encode.columns), axis=1)"
   ]
  },
  {
   "cell_type": "code",
   "execution_count": 11,
   "metadata": {
    "collapsed": false
   },
   "outputs": [
    {
     "data": {
      "text/html": [
       "<div>\n",
       "<table border=\"1\" class=\"dataframe\">\n",
       "  <thead>\n",
       "    <tr style=\"text-align: right;\">\n",
       "      <th></th>\n",
       "      <th>cat103_A</th>\n",
       "      <th>cat103_B</th>\n",
       "      <th>cat103_C</th>\n",
       "      <th>cat103_D</th>\n",
       "      <th>cat103_E</th>\n",
       "      <th>cat103_F</th>\n",
       "      <th>cat103_G</th>\n",
       "      <th>cat103_H</th>\n",
       "      <th>cat103_I</th>\n",
       "      <th>cat103_J</th>\n",
       "      <th>...</th>\n",
       "      <th>cont13</th>\n",
       "      <th>cont14</th>\n",
       "      <th>cont2</th>\n",
       "      <th>cont3</th>\n",
       "      <th>cont4</th>\n",
       "      <th>cont5</th>\n",
       "      <th>cont6</th>\n",
       "      <th>cont7</th>\n",
       "      <th>cont8</th>\n",
       "      <th>cont9</th>\n",
       "    </tr>\n",
       "  </thead>\n",
       "  <tbody>\n",
       "    <tr>\n",
       "      <th>0</th>\n",
       "      <td>1</td>\n",
       "      <td>0</td>\n",
       "      <td>0</td>\n",
       "      <td>0</td>\n",
       "      <td>0</td>\n",
       "      <td>0</td>\n",
       "      <td>0</td>\n",
       "      <td>0</td>\n",
       "      <td>0</td>\n",
       "      <td>0</td>\n",
       "      <td>...</td>\n",
       "      <td>0.822493</td>\n",
       "      <td>0.714843</td>\n",
       "      <td>0.245921</td>\n",
       "      <td>0.187583</td>\n",
       "      <td>0.789639</td>\n",
       "      <td>0.310061</td>\n",
       "      <td>0.718367</td>\n",
       "      <td>0.335060</td>\n",
       "      <td>0.30260</td>\n",
       "      <td>0.67135</td>\n",
       "    </tr>\n",
       "    <tr>\n",
       "      <th>1</th>\n",
       "      <td>1</td>\n",
       "      <td>0</td>\n",
       "      <td>0</td>\n",
       "      <td>0</td>\n",
       "      <td>0</td>\n",
       "      <td>0</td>\n",
       "      <td>0</td>\n",
       "      <td>0</td>\n",
       "      <td>0</td>\n",
       "      <td>0</td>\n",
       "      <td>...</td>\n",
       "      <td>0.611431</td>\n",
       "      <td>0.304496</td>\n",
       "      <td>0.737068</td>\n",
       "      <td>0.592681</td>\n",
       "      <td>0.614134</td>\n",
       "      <td>0.885834</td>\n",
       "      <td>0.438917</td>\n",
       "      <td>0.436585</td>\n",
       "      <td>0.60087</td>\n",
       "      <td>0.35127</td>\n",
       "    </tr>\n",
       "  </tbody>\n",
       "</table>\n",
       "<p>2 rows × 132 columns</p>\n",
       "</div>"
      ],
      "text/plain": [
       "   cat103_A  cat103_B  cat103_C  cat103_D  cat103_E  cat103_F  cat103_G  \\\n",
       "0         1         0         0         0         0         0         0   \n",
       "1         1         0         0         0         0         0         0   \n",
       "\n",
       "   cat103_H  cat103_I  cat103_J   ...       cont13    cont14     cont2  \\\n",
       "0         0         0         0   ...     0.822493  0.714843  0.245921   \n",
       "1         0         0         0   ...     0.611431  0.304496  0.737068   \n",
       "\n",
       "      cont3     cont4     cont5     cont6     cont7    cont8    cont9  \n",
       "0  0.187583  0.789639  0.310061  0.718367  0.335060  0.30260  0.67135  \n",
       "1  0.592681  0.614134  0.885834  0.438917  0.436585  0.60087  0.35127  \n",
       "\n",
       "[2 rows x 132 columns]"
      ]
     },
     "execution_count": 11,
     "metadata": {},
     "output_type": "execute_result"
    }
   ],
   "source": [
    "train_encode[:2]"
   ]
  },
  {
   "cell_type": "code",
   "execution_count": 4,
   "metadata": {
    "collapsed": true
   },
   "outputs": [],
   "source": [
    "log_y = np.log(y + 200)"
   ]
  },
  {
   "cell_type": "code",
   "execution_count": 26,
   "metadata": {
    "collapsed": true
   },
   "outputs": [],
   "source": [
    "from sklearn.preprocessing import StandardScaler\n",
    "scaler = StandardScaler()\n",
    "scaler.fit(train_encode, y)\n",
    "train_scaled = scaler.transform(train_encode)\n",
    "train_scaled = pd.DataFrame(train_scaled)"
   ]
  },
  {
   "cell_type": "code",
   "execution_count": 27,
   "metadata": {
    "collapsed": true
   },
   "outputs": [],
   "source": [
    "test_scaled = scaler.transform(test_encode)\n",
    "test_scaled = pd.DataFrame(test_scaled)"
   ]
  },
  {
   "cell_type": "code",
   "execution_count": 121,
   "metadata": {
    "collapsed": false
   },
   "outputs": [
    {
     "ename": "NameError",
     "evalue": "name 'plt' is not defined",
     "output_type": "error",
     "traceback": [
      "\u001b[1;31m---------------------------------------------------------------------------\u001b[0m",
      "\u001b[1;31mNameError\u001b[0m                                 Traceback (most recent call last)",
      "\u001b[1;32m<ipython-input-121-60178af94e7f>\u001b[0m in \u001b[0;36m<module>\u001b[1;34m()\u001b[0m\n\u001b[0;32m      5\u001b[0m \u001b[0mn_rows\u001b[0m \u001b[1;33m=\u001b[0m \u001b[1;36m29\u001b[0m\u001b[1;33m\u001b[0m\u001b[0m\n\u001b[0;32m      6\u001b[0m \u001b[1;32mfor\u001b[0m \u001b[0mi\u001b[0m \u001b[1;32min\u001b[0m \u001b[0mrange\u001b[0m\u001b[1;33m(\u001b[0m\u001b[0mn_rows\u001b[0m\u001b[1;33m)\u001b[0m\u001b[1;33m:\u001b[0m\u001b[1;33m\u001b[0m\u001b[0m\n\u001b[1;32m----> 7\u001b[1;33m     \u001b[0mfg\u001b[0m\u001b[1;33m,\u001b[0m\u001b[0max\u001b[0m \u001b[1;33m=\u001b[0m \u001b[0mplt\u001b[0m\u001b[1;33m.\u001b[0m\u001b[0msubplots\u001b[0m\u001b[1;33m(\u001b[0m\u001b[0mnrows\u001b[0m\u001b[1;33m=\u001b[0m\u001b[1;36m1\u001b[0m\u001b[1;33m,\u001b[0m\u001b[0mncols\u001b[0m\u001b[1;33m=\u001b[0m\u001b[0mn_cols\u001b[0m\u001b[1;33m,\u001b[0m\u001b[0msharey\u001b[0m\u001b[1;33m=\u001b[0m\u001b[0mTrue\u001b[0m\u001b[1;33m,\u001b[0m\u001b[0mfigsize\u001b[0m\u001b[1;33m=\u001b[0m\u001b[1;33m(\u001b[0m\u001b[1;36m12\u001b[0m\u001b[1;33m,\u001b[0m \u001b[1;36m8\u001b[0m\u001b[1;33m)\u001b[0m\u001b[1;33m)\u001b[0m\u001b[1;33m\u001b[0m\u001b[0m\n\u001b[0m\u001b[0;32m      8\u001b[0m     \u001b[1;32mfor\u001b[0m \u001b[0mj\u001b[0m \u001b[1;32min\u001b[0m \u001b[0mrange\u001b[0m\u001b[1;33m(\u001b[0m\u001b[0mn_cols\u001b[0m\u001b[1;33m)\u001b[0m\u001b[1;33m:\u001b[0m\u001b[1;33m\u001b[0m\u001b[0m\n\u001b[0;32m      9\u001b[0m         \u001b[0msns\u001b[0m\u001b[1;33m.\u001b[0m\u001b[0mcountplot\u001b[0m\u001b[1;33m(\u001b[0m\u001b[0mx\u001b[0m\u001b[1;33m=\u001b[0m\u001b[0mcols\u001b[0m\u001b[1;33m[\u001b[0m\u001b[0mi\u001b[0m\u001b[1;33m*\u001b[0m\u001b[0mn_cols\u001b[0m\u001b[1;33m+\u001b[0m\u001b[0mj\u001b[0m\u001b[1;33m]\u001b[0m\u001b[1;33m,\u001b[0m \u001b[0mdata\u001b[0m\u001b[1;33m=\u001b[0m\u001b[0mtrain\u001b[0m\u001b[1;33m,\u001b[0m \u001b[0max\u001b[0m\u001b[1;33m=\u001b[0m\u001b[0max\u001b[0m\u001b[1;33m[\u001b[0m\u001b[0mj\u001b[0m\u001b[1;33m]\u001b[0m\u001b[1;33m)\u001b[0m\u001b[1;33m\u001b[0m\u001b[0m\n",
      "\u001b[1;31mNameError\u001b[0m: name 'plt' is not defined"
     ]
    }
   ],
   "source": [
    "cols = train.columns\n",
    "import seaborn as sns\n",
    "#Plot count plot for all attributes in a 29x4 grid\n",
    "n_cols = 4\n",
    "n_rows = 29\n",
    "for i in range(n_rows):\n",
    "    fg,ax = plt.subplots(nrows=1,ncols=n_cols,sharey=True,figsize=(12, 8))\n",
    "    for j in range(n_cols):\n",
    "        sns.countplot(x=cols[i*n_cols+j], data=train, ax=ax[j])"
   ]
  },
  {
   "cell_type": "markdown",
   "metadata": {},
   "source": [
    "### Допфичи"
   ]
  },
  {
   "cell_type": "code",
   "execution_count": null,
   "metadata": {
    "collapsed": true
   },
   "outputs": [],
   "source": []
  },
  {
   "cell_type": "code",
   "execution_count": null,
   "metadata": {
    "collapsed": true
   },
   "outputs": [],
   "source": []
  },
  {
   "cell_type": "code",
   "execution_count": null,
   "metadata": {
    "collapsed": true
   },
   "outputs": [],
   "source": []
  },
  {
   "cell_type": "code",
   "execution_count": null,
   "metadata": {
    "collapsed": true
   },
   "outputs": [],
   "source": []
  },
  {
   "cell_type": "code",
   "execution_count": null,
   "metadata": {
    "collapsed": true
   },
   "outputs": [],
   "source": []
  },
  {
   "cell_type": "code",
   "execution_count": null,
   "metadata": {
    "collapsed": true
   },
   "outputs": [],
   "source": []
  },
  {
   "cell_type": "code",
   "execution_count": 63,
   "metadata": {
    "collapsed": false
   },
   "outputs": [],
   "source": [
    "train_data, test_data, train_labels, test_labels = cross_validation.train_test_split(train_encode, log_y, \n",
    "                                                                                     test_size = 0.3)"
   ]
  },
  {
   "cell_type": "markdown",
   "metadata": {},
   "source": [
    "## графики"
   ]
  },
  {
   "cell_type": "code",
   "execution_count": 75,
   "metadata": {
    "collapsed": false
   },
   "outputs": [
    {
     "name": "stdout",
     "output_type": "stream",
     "text": [
      "Populating the interactive namespace from numpy and matplotlib\n"
     ]
    },
    {
     "data": {
      "image/png": "[encoded data removed]",
      "text/plain": [
       "<matplotlib.figure.Figure at 0x7f4960108290>"
      ]
     },
     "metadata": {},
     "output_type": "display_data"
    }
   ],
   "source": [
    "import matplotlib.pyplot as plt\n",
    "%matplotlib inline\n",
    "%pylab inline\n",
    "pylab.figure(figsize=(20, 6))\n",
    "plt.hist(y, bins=200)\n",
    "plt.show()"
   ]
  },
  {
   "cell_type": "code",
   "execution_count": 76,
   "metadata": {
    "collapsed": false
   },
   "outputs": [
    {
     "data": {
      "image/png": "[encoded data removed]",
      "text/plain": [
       "<matplotlib.figure.Figure at 0x7f492fa7ff10>"
      ]
     },
     "metadata": {},
     "output_type": "display_data"
    }
   ],
   "source": [
    "pylab.figure(figsize=(20, 6))\n",
    "plt.hist(log_y, bins=200)\n",
    "plt.show()"
   ]
  },
  {
   "cell_type": "code",
   "execution_count": 77,
   "metadata": {
    "collapsed": false
   },
   "outputs": [
    {
     "data": {
      "image/png": "[encoded data removed]",
      "text/plain": [
       "<matplotlib.figure.Figure at 0x7f492fa7ff50>"
      ]
     },
     "metadata": {},
     "output_type": "display_data"
    }
   ],
   "source": [
    "pylab.figure(figsize=(20, 6))\n",
    "plt.hist(train_encode.cont2, bins=200)\n",
    "plt.show()"
   ]
  },
  {
   "cell_type": "code",
   "execution_count": 100,
   "metadata": {
    "collapsed": false
   },
   "outputs": [
    {
     "data": {
      "image/png": "[encoded data removed]",
      "text/plain": [
       "<matplotlib.figure.Figure at 0x7f4930825450>"
      ]
     },
     "metadata": {},
     "output_type": "display_data"
    }
   ],
   "source": [
    "pylab.figure(figsize=(20, 6))\n",
    "plt.hist(np.sqrt(train_encode.cont1+0.00001), bins=200)\n",
    "plt.show()"
   ]
  },
  {
   "cell_type": "markdown",
   "metadata": {},
   "source": [
    "## Линия"
   ]
  },
  {
   "cell_type": "code",
   "execution_count": null,
   "metadata": {
    "collapsed": true
   },
   "outputs": [],
   "source": []
  },
  {
   "cell_type": "code",
   "execution_count": 83,
   "metadata": {
    "collapsed": false
   },
   "outputs": [
    {
     "data": {
      "text/plain": [
       "LinearRegression(copy_X=True, fit_intercept=True, n_jobs=1, normalize=False)"
      ]
     },
     "execution_count": 83,
     "metadata": {},
     "output_type": "execute_result"
    }
   ],
   "source": [
    "from sklearn import ensemble, linear_model\n",
    "linear_regressor = linear_model.LinearRegression()\n",
    "linear_regressor.fit(train_data, train_labels)"
   ]
  },
  {
   "cell_type": "code",
   "execution_count": 84,
   "metadata": {
    "collapsed": true
   },
   "outputs": [],
   "source": [
    "pred_linear = linear_regressor.predict(test_data)"
   ]
  },
  {
   "cell_type": "code",
   "execution_count": 40,
   "metadata": {
    "collapsed": false
   },
   "outputs": [],
   "source": [
    "tr = np.exp(pred_linear)"
   ]
  },
  {
   "cell_type": "code",
   "execution_count": 92,
   "metadata": {
    "collapsed": false
   },
   "outputs": [
    {
     "data": {
      "text/plain": [
       "2433109093623.6826"
      ]
     },
     "execution_count": 92,
     "metadata": {},
     "output_type": "execute_result"
    }
   ],
   "source": [
    "pred_linear.max()"
   ]
  },
  {
   "cell_type": "code",
   "execution_count": null,
   "metadata": {
    "collapsed": true
   },
   "outputs": [],
   "source": [
    "mean_absolute_error(np.exp(test_labels) - 200, np.exp(pred_linear+2433109093623) - 200)"
   ]
  },
  {
   "cell_type": "markdown",
   "metadata": {},
   "source": [
    "## Буст"
   ]
  },
  {
   "cell_type": "code",
   "execution_count": 65,
   "metadata": {
    "collapsed": false
   },
   "outputs": [],
   "source": [
    "dtrain = xgb.DMatrix(data = train_data, label = train_labels)"
   ]
  },
  {
   "cell_type": "code",
   "execution_count": 66,
   "metadata": {
    "collapsed": true
   },
   "outputs": [],
   "source": [
    "param = {'min_child_weight': 100,\n",
    "        'eta': 0.03,\n",
    "        'colsample_bytree': 0.7,\n",
    "        'max_depth': 12,\n",
    "        'subsample': 0.7,\n",
    "        'alpha': 1,\n",
    "        'gamma': 1,\n",
    "        'silent': 1,\n",
    "        'objective': 'reg:linear',\n",
    "        'verbose_eval': True}\n",
    "num_round = 1300\n",
    "\n",
    "\n",
    "\n",
    "#5 - 1170\n",
    "#6 - 1166\n",
    "#7 - 1164\n",
    "#8 - 1168\n",
    "#10 - 1167\n",
    "#12 - 1169"
   ]
  },
  {
   "cell_type": "code",
   "execution_count": 67,
   "metadata": {
    "collapsed": false
   },
   "outputs": [],
   "source": [
    "bst = xgb.train(param, dtrain, num_round)"
   ]
  },
  {
   "cell_type": "code",
   "execution_count": 68,
   "metadata": {
    "collapsed": true
   },
   "outputs": [],
   "source": [
    "boost_pred = bst.predict(xgb.DMatrix(data = test_data))"
   ]
  },
  {
   "cell_type": "code",
   "execution_count": 69,
   "metadata": {
    "collapsed": false
   },
   "outputs": [
    {
     "data": {
      "text/plain": [
       "1199.6017321245815"
      ]
     },
     "execution_count": 69,
     "metadata": {},
     "output_type": "execute_result"
    }
   ],
   "source": [
    "mean_absolute_error(np.exp(test_labels) - 200, np.exp(boost_pred) - 200)"
   ]
  },
  {
   "cell_type": "code",
   "execution_count": 94,
   "metadata": {
    "collapsed": false
   },
   "outputs": [
    {
     "data": {
      "text/html": [
       "<div>\n",
       "<table border=\"1\" class=\"dataframe\">\n",
       "  <thead>\n",
       "    <tr style=\"text-align: right;\">\n",
       "      <th></th>\n",
       "      <th>0</th>\n",
       "      <th>1</th>\n",
       "    </tr>\n",
       "  </thead>\n",
       "  <tbody>\n",
       "    <tr>\n",
       "      <th>36</th>\n",
       "      <td>cont14</td>\n",
       "      <td>10703</td>\n",
       "    </tr>\n",
       "    <tr>\n",
       "      <th>62</th>\n",
       "      <td>cont7</td>\n",
       "      <td>6249</td>\n",
       "    </tr>\n",
       "    <tr>\n",
       "      <th>63</th>\n",
       "      <td>cont6</td>\n",
       "      <td>3883</td>\n",
       "    </tr>\n",
       "    <tr>\n",
       "      <th>342</th>\n",
       "      <td>cont8</td>\n",
       "      <td>3465</td>\n",
       "    </tr>\n",
       "    <tr>\n",
       "      <th>64</th>\n",
       "      <td>cont1</td>\n",
       "      <td>3390</td>\n",
       "    </tr>\n",
       "    <tr>\n",
       "      <th>67</th>\n",
       "      <td>cont2</td>\n",
       "      <td>3257</td>\n",
       "    </tr>\n",
       "    <tr>\n",
       "      <th>39</th>\n",
       "      <td>cont13</td>\n",
       "      <td>3098</td>\n",
       "    </tr>\n",
       "    <tr>\n",
       "      <th>61</th>\n",
       "      <td>cont4</td>\n",
       "      <td>3081</td>\n",
       "    </tr>\n",
       "    <tr>\n",
       "      <th>60</th>\n",
       "      <td>cont5</td>\n",
       "      <td>3042</td>\n",
       "    </tr>\n",
       "    <tr>\n",
       "      <th>66</th>\n",
       "      <td>cont3</td>\n",
       "      <td>2950</td>\n",
       "    </tr>\n",
       "  </tbody>\n",
       "</table>\n",
       "</div>"
      ],
      "text/plain": [
       "          0      1\n",
       "36   cont14  10703\n",
       "62    cont7   6249\n",
       "63    cont6   3883\n",
       "342   cont8   3465\n",
       "64    cont1   3390\n",
       "67    cont2   3257\n",
       "39   cont13   3098\n",
       "61    cont4   3081\n",
       "60    cont5   3042\n",
       "66    cont3   2950"
      ]
     },
     "execution_count": 94,
     "metadata": {},
     "output_type": "execute_result"
    }
   ],
   "source": [
    "pd.DataFrame(bst.get_fscore().items()).sort_values(1, ascending=False)[:10]"
   ]
  },
  {
   "cell_type": "code",
   "execution_count": 244,
   "metadata": {
    "collapsed": true
   },
   "outputs": [],
   "source": [
    "#1133.58  12"
   ]
  },
  {
   "cell_type": "code",
   "execution_count": 71,
   "metadata": {
    "collapsed": false
   },
   "outputs": [
    {
     "data": {
      "text/plain": [
       "1135"
      ]
     },
     "execution_count": 71,
     "metadata": {},
     "output_type": "execute_result"
    }
   ],
   "source": [
    "1135"
   ]
  },
  {
   "cell_type": "markdown",
   "metadata": {},
   "source": [
    "## Random Forest"
   ]
  },
  {
   "cell_type": "code",
   "execution_count": 101,
   "metadata": {
    "collapsed": false
   },
   "outputs": [],
   "source": [
    "forest_regressor = ensemble.RandomForestRegressor(n_estimators=25,\n",
    "                                                  criterion='mse',\n",
    "                                                  max_depth=15,\n",
    "                                                  min_samples_split=2,\n",
    "                                                  min_samples_leaf=1,\n",
    "                                                  min_weight_fraction_leaf=0.0,\n",
    "                                                  max_features='auto',\n",
    "                                                  max_leaf_nodes=None,\n",
    "                                                  bootstrap=True,\n",
    "                                                  oob_score=False,\n",
    "                                                  n_jobs=1,\n",
    "                                                  random_state=None,\n",
    "                                                  verbose=0)\n",
    "forest_regressor.fit(train_data, train_labels)\n",
    "random_forest_prediction = forest_regressor.predict(test_data)"
   ]
  },
  {
   "cell_type": "code",
   "execution_count": 102,
   "metadata": {
    "collapsed": false
   },
   "outputs": [
    {
     "data": {
      "text/plain": [
       "1232.0434714974645"
      ]
     },
     "execution_count": 102,
     "metadata": {},
     "output_type": "execute_result"
    }
   ],
   "source": [
    "mean_absolute_error(np.exp(test_labels) - 200, np.exp(random_forest_prediction) - 200)"
   ]
  },
  {
   "cell_type": "markdown",
   "metadata": {},
   "source": [
    "# Модели 1го уровня"
   ]
  },
  {
   "cell_type": "code",
   "execution_count": 44,
   "metadata": {
    "collapsed": true
   },
   "outputs": [],
   "source": [
    "from sklearn.cross_validation import KFold\n",
    "from sklearn.model_selection import cross_val_predict\n",
    "from sklearn.base import BaseEstimator\n",
    "from sklearn.ensemble import ExtraTreesClassifier\n",
    "\n",
    "class ProbaEstimator(BaseEstimator):\n",
    "    def __init__(self, estimator):\n",
    "        self.estimator = estimator\n",
    "    def fit(self, X, y):\n",
    "        self.estimator.fit(X, y)\n",
    "    def predict(self, X):\n",
    "        return self.estimator.predict_proba(X)\n",
    "\n",
    "cv = KFold(train.shape[0], n_folds=5, random_state=42)"
   ]
  },
  {
   "cell_type": "markdown",
   "metadata": {},
   "source": [
    "## Random forest"
   ]
  },
  {
   "cell_type": "code",
   "execution_count": 74,
   "metadata": {
    "collapsed": false
   },
   "outputs": [],
   "source": [
    "forest_regressor = ensemble.RandomForestRegressor(n_estimators=25,\n",
    "                                                  criterion='mse',\n",
    "                                                  max_depth=15,\n",
    "                                                  min_samples_split=2,\n",
    "                                                  min_samples_leaf=1,\n",
    "                                                  min_weight_fraction_leaf=0.0,\n",
    "                                                  max_features='auto',\n",
    "                                                  max_leaf_nodes=None,\n",
    "                                                  bootstrap=True,\n",
    "                                                  oob_score=False,\n",
    "                                                  n_jobs=1,\n",
    "                                                  random_state=None,\n",
    "                                                  verbose=0)\n",
    "\n",
    "\n",
    "preds_train = np.exp(model_selection.cross_val_predict(forest_regressor, train_encode, log_y, cv=cv, method='predict')) - 200\n",
    "preds_test = np.exp(forest_regressor.fit(train_encode, log_y).predict(test_encode)) - 200\n",
    "\n",
    "preds_train = pd.DataFrame(preds_train, columns = ['loss'])\n",
    "preds_test = pd.DataFrame(preds_test, columns = ['loss'])\n",
    "\n",
    "preds_train.to_csv('stack/forest_train.csv', index=False)\n",
    "preds_test.to_csv('stack/forest_test.csv', index=False)\n",
    "\n",
    "#np.savetxt('/stack/forest_train.csv', preds_train)\n",
    "#np.savetxt('/stack/forest_test.csv', preds_test)\n"
   ]
  },
  {
   "cell_type": "markdown",
   "metadata": {},
   "source": [
    "## Бустинг 1"
   ]
  },
  {
   "cell_type": "code",
   "execution_count": 28,
   "metadata": {
    "collapsed": false
   },
   "outputs": [],
   "source": [
    "from sklearn.cross_validation import KFold\n",
    "import sklearn.model_selection\n",
    "from sklearn.model_selection import cross_val_predict\n",
    "from sklearn.base import BaseEstimator\n",
    "from sklearn.ensemble import ExtraTreesClassifier\n",
    "\n",
    "boost_regressor = xgb.XGBRegressor(max_depth=12,\n",
    "                                   learning_rate=0.03,\n",
    "                                   n_estimators=1300,\n",
    "                                   #silent=True,\n",
    "                                   objective='reg:linear',\n",
    "                                   #nthread=-1,\n",
    "                                   #gamma=0,\n",
    "                                   min_child_weight=100,\n",
    "                                   #max_delta_step=0,\n",
    "                                   subsample=0.7,\n",
    "                                   colsample_bytree=0.7,\n",
    "                                   colsample_bylevel=0.7,\n",
    "                                   #reg_alpha=0,\n",
    "                                   #reg_lambda=1,\n",
    "                                   #scale_pos_weight=1,\n",
    "                                   #base_score=0.5,\n",
    "                                   #seed=0,\n",
    "                                   #missing=None\n",
    "                                  )\n",
    "\n",
    "preds_train = np.exp(sklearn.model_selection.cross_val_predict(boost_regressor, train_encode, log_y, cv=cv, method='predict')) - 200\n",
    "preds_test = np.exp(boost_regressor.fit(train_encode, log_y).predict(test_encode)) - 200\n",
    "\n",
    "\n",
    "preds_train = pd.DataFrame(preds_train, columns = ['loss'])\n",
    "preds_test = pd.DataFrame(preds_test, columns = ['loss'])\n",
    "\n",
    "preds_train.to_csv('stack/boost_train.csv', index=False)\n",
    "preds_test.to_csv('stack/boost_test.csv', index=False)"
   ]
  },
  {
   "cell_type": "markdown",
   "metadata": {},
   "source": [
    "## Линия"
   ]
  },
  {
   "cell_type": "code",
   "execution_count": 46,
   "metadata": {
    "collapsed": false
   },
   "outputs": [],
   "source": [
    "from sklearn import ensemble, linear_model\n",
    "linear_regressor = linear_model.LinearRegression()\n",
    "\n",
    "\n",
    "preds_train = sklearn.model_selection.cross_val_predict(linear_regressor, train_scaled, y, cv=cv, method='predict')\n",
    "preds_test = linear_regressor.fit(train_scaled, y).predict(test_scaled)\n",
    "\n",
    "\n",
    "preds_train = pd.DataFrame(preds_train, columns = ['loss'])\n",
    "preds_test = pd.DataFrame(preds_test, columns = ['loss'])\n",
    "\n",
    "preds_train.to_csv('stack/lin_train.csv', index=False)\n",
    "preds_test.to_csv('stack/lin_test.csv', index=False)"
   ]
  },
  {
   "cell_type": "markdown",
   "metadata": {},
   "source": [
    "## KNN"
   ]
  },
  {
   "cell_type": "code",
   "execution_count": 115,
   "metadata": {
    "collapsed": false
   },
   "outputs": [
    {
     "data": {
      "text/plain": [
       "(188318, 1)"
      ]
     },
     "execution_count": 115,
     "metadata": {},
     "output_type": "execute_result"
    }
   ],
   "source": [
    "y.shape"
   ]
  },
  {
   "cell_type": "code",
   "execution_count": 25,
   "metadata": {
    "collapsed": false
   },
   "outputs": [
    {
     "name": "stdout",
     "output_type": "stream",
     "text": [
      "CPU times: user 24.2 s, sys: 104 ms, total: 24.3 s\n",
      "Wall time: 24.3 s\n"
     ]
    }
   ],
   "source": [
    "%%time\n",
    "from sklearn.neighbors import NearestNeighbors\n",
    "neigh = NearestNeighbors(algorithm='ball_tree', n_jobs=-1)\n",
    "neigh.fit(train_encode[:])"
   ]
  },
  {
   "cell_type": "code",
   "execution_count": 79,
   "metadata": {
    "collapsed": false
   },
   "outputs": [
    {
     "name": "stdout",
     "output_type": "stream",
     "text": [
      "CPU times: user 4h 20min 59s, sys: 220 ms, total: 4h 20min 59s\n",
      "Wall time: 16min 48s\n"
     ]
    }
   ],
   "source": [
    "%%time\n",
    "ind_near = neigh.kneighbors(train_encode[:], n_neighbors = 129)[1]"
   ]
  },
  {
   "cell_type": "code",
   "execution_count": 37,
   "metadata": {
    "collapsed": false
   },
   "outputs": [
    {
     "data": {
      "text/plain": [
       "array([[     0, 164913,  31607,  64043,  64138, 127526, 136698,  54131,\n",
       "        160696],\n",
       "       [     1, 150521, 136023,  56513,  79129,  82612,  47464,  77428,\n",
       "        163327],\n",
       "       [     2,  63554,  33416, 107691,   1428, 169642,  49828,  92812,\n",
       "        127466],\n",
       "       [     3,  20403,     20,  37303, 183010,  70250, 106344, 116462,\n",
       "        132579],\n",
       "       [     4,   5516, 181725,  29094,  85479,  40763, 116294,  82247,\n",
       "         20791],\n",
       "       [     5,  14011, 107797, 122190,  26754,  75880, 161124, 143093,\n",
       "         16535],\n",
       "       [     6,  41805, 121701,  20503, 111056, 173249,  33733,  19942,\n",
       "        114501],\n",
       "       [     7,  67649, 129965,  25178,  24471, 107625,  46433,  89063,\n",
       "         47535],\n",
       "       [     8,  75598, 157508,  41362,  56365,  20811, 135700,  28170,\n",
       "         18395],\n",
       "       [     9,  33030,  91556,  85023,  36773,  93750, 115253,  81665,\n",
       "         33614]])"
      ]
     },
     "execution_count": 37,
     "metadata": {},
     "output_type": "execute_result"
    }
   ],
   "source": [
    "ind_near[:10]"
   ]
  },
  {
   "cell_type": "code",
   "execution_count": 80,
   "metadata": {
    "collapsed": false
   },
   "outputs": [],
   "source": [
    "otv = []\n",
    "for i in ind_near:\n",
    "    otv += [(y.ix[i, 0].sum() - y.ix[i[0], 0]) / (len(i)  - 1) * 1.0]\n"
   ]
  },
  {
   "cell_type": "code",
   "execution_count": 81,
   "metadata": {
    "collapsed": false
   },
   "outputs": [],
   "source": [
    "otv = pd.DataFrame(otv, columns = ['knn128'])"
   ]
  },
  {
   "cell_type": "code",
   "execution_count": 82,
   "metadata": {
    "collapsed": true
   },
   "outputs": [],
   "source": [
    "otv.to_csv('stack/knn128_train.csv', index=False)"
   ]
  },
  {
   "cell_type": "code",
   "execution_count": null,
   "metadata": {
    "collapsed": true
   },
   "outputs": [],
   "source": []
  },
  {
   "cell_type": "code",
   "execution_count": 63,
   "metadata": {
    "collapsed": true
   },
   "outputs": [],
   "source": [
    "otv.to_csv('stack/knn32_train.csv', index=False)"
   ]
  },
  {
   "cell_type": "code",
   "execution_count": null,
   "metadata": {
    "collapsed": true
   },
   "outputs": [],
   "source": []
  },
  {
   "cell_type": "code",
   "execution_count": 30,
   "metadata": {
    "collapsed": false
   },
   "outputs": [
    {
     "data": {
      "text/plain": [
       "1437.4132941620028"
      ]
     },
     "execution_count": 30,
     "metadata": {},
     "output_type": "execute_result"
    }
   ],
   "source": [
    "mean_absolute_error(y, otv)"
   ]
  },
  {
   "cell_type": "code",
   "execution_count": 83,
   "metadata": {
    "collapsed": false
   },
   "outputs": [
    {
     "name": "stdout",
     "output_type": "stream",
     "text": [
      "CPU times: user 2h 53min 4s, sys: 100 ms, total: 2h 53min 4s\n",
      "Wall time: 11min 4s\n"
     ]
    }
   ],
   "source": [
    "%%time\n",
    "ind_near = neigh.kneighbors(test_encode[:], n_neighbors = 128)[1]"
   ]
  },
  {
   "cell_type": "code",
   "execution_count": 84,
   "metadata": {
    "collapsed": true
   },
   "outputs": [],
   "source": [
    "otv = []\n",
    "for i in ind_near:\n",
    "    otv += [y.ix[i, 0].sum() / len(i)  * 1.0]"
   ]
  },
  {
   "cell_type": "code",
   "execution_count": 75,
   "metadata": {
    "collapsed": false
   },
   "outputs": [
    {
     "data": {
      "text/plain": [
       "[1985.4626562500005, 2527.764218749999, 11116.792656250002]"
      ]
     },
     "execution_count": 75,
     "metadata": {},
     "output_type": "execute_result"
    }
   ],
   "source": [
    "otv[:3]"
   ]
  },
  {
   "cell_type": "code",
   "execution_count": 85,
   "metadata": {
    "collapsed": true
   },
   "outputs": [],
   "source": [
    "otv = pd.DataFrame(otv, columns = ['knn128'])"
   ]
  },
  {
   "cell_type": "code",
   "execution_count": 86,
   "metadata": {
    "collapsed": true
   },
   "outputs": [],
   "source": [
    "otv.to_csv('stack/knn128_test.csv', index=False)"
   ]
  },
  {
   "cell_type": "code",
   "execution_count": null,
   "metadata": {
    "collapsed": true
   },
   "outputs": [],
   "source": []
  },
  {
   "cell_type": "code",
   "execution_count": 77,
   "metadata": {
    "collapsed": true
   },
   "outputs": [],
   "source": [
    "otv.to_csv('stack/knn64_test.csv', index=False)"
   ]
  },
  {
   "cell_type": "code",
   "execution_count": null,
   "metadata": {
    "collapsed": true
   },
   "outputs": [],
   "source": []
  },
  {
   "cell_type": "code",
   "execution_count": 48,
   "metadata": {
    "collapsed": false
   },
   "outputs": [
    {
     "name": "stderr",
     "output_type": "stream",
     "text": [
      "/home/ubuntu/anaconda2/lib/python2.7/site-packages/sklearn/utils/validation.py:395: DeprecationWarning: Passing 1d arrays as data is deprecated in 0.17 and will raise ValueError in 0.19. Reshape your data either using X.reshape(-1, 1) if your data has a single feature or X.reshape(1, -1) if it contains a single sample.\n",
      "  DeprecationWarning)\n",
      "/home/ubuntu/anaconda2/lib/python2.7/site-packages/sklearn/utils/validation.py:395: DeprecationWarning: Passing 1d arrays as data is deprecated in 0.17 and will raise ValueError in 0.19. Reshape your data either using X.reshape(-1, 1) if your data has a single feature or X.reshape(1, -1) if it contains a single sample.\n",
      "  DeprecationWarning)\n"
     ]
    }
   ],
   "source": [
    "otv = []\n",
    "for i in test_encode[:2].index.values:\n",
    "    ind_near = neigh.kneighbors(test_encode.ix[0, :], n_neighbors = 10)\n",
    "    s = y.ix[ind_near[1][0], :].sum() \n",
    "    otv += [s]"
   ]
  },
  {
   "cell_type": "code",
   "execution_count": 36,
   "metadata": {
    "collapsed": false
   },
   "outputs": [
    {
     "data": {
      "text/plain": [
       "array([ 6863, 72734,  5920, 39045, 63522])"
      ]
     },
     "execution_count": 36,
     "metadata": {},
     "output_type": "execute_result"
    }
   ],
   "source": [
    "ind_near[1][0]"
   ]
  },
  {
   "cell_type": "code",
   "execution_count": 39,
   "metadata": {
    "collapsed": false
   },
   "outputs": [
    {
     "data": {
      "text/plain": [
       "[loss    23279.68\n",
       " dtype: float64, loss    29247.12\n",
       " dtype: float64]"
      ]
     },
     "execution_count": 39,
     "metadata": {},
     "output_type": "execute_result"
    }
   ],
   "source": [
    "otv"
   ]
  },
  {
   "cell_type": "code",
   "execution_count": 42,
   "metadata": {
    "collapsed": false
   },
   "outputs": [],
   "source": [
    "from sklearn import neighbors\n",
    "\n",
    "knn = neighbors.KNeighborsRegressor(2)\n",
    "y_ = knn.fit(train_scaled[:3000], y[:3000]).predict(test_scaled[:1000])"
   ]
  },
  {
   "cell_type": "code",
   "execution_count": 41,
   "metadata": {
    "collapsed": false
   },
   "outputs": [
    {
     "data": {
      "text/plain": [
       "(188318, 1153)"
      ]
     },
     "execution_count": 41,
     "metadata": {},
     "output_type": "execute_result"
    }
   ],
   "source": [
    "train_scaled.shape"
   ]
  },
  {
   "cell_type": "code",
   "execution_count": null,
   "metadata": {
    "collapsed": true
   },
   "outputs": [],
   "source": [
    "from sklearn import neighbors\n",
    "\n",
    "knn = neighbors.KNeighborsRegressor(2, algorithm = 'ball_tree')\n",
    "y_ = knn.fit(X, y).predict(T)\n",
    "\n",
    "forest_regressor = ensemble.RandomForestRegressor(n_estimators=25,\n",
    "                                                  criterion='mse',\n",
    "                                                  max_depth=15,\n",
    "                                                  min_samples_split=2,\n",
    "                                                  min_samples_leaf=1,\n",
    "                                                  min_weight_fraction_leaf=0.0,\n",
    "                                                  max_features='auto',\n",
    "                                                  max_leaf_nodes=None,\n",
    "                                                  bootstrap=True,\n",
    "                                                  oob_score=False,\n",
    "                                                  n_jobs=1,\n",
    "                                                  random_state=None,\n",
    "                                                  verbose=0)\n",
    "\n",
    "\n",
    "preds_train = np.exp(model_selection.cross_val_predict(forest_regressor, train_encode, log_y, cv=cv, method='predict')) - 200\n",
    "preds_test = np.exp(forest_regressor.fit(train_encode, log_y).predict(test_encode)) - 200\n",
    "\n",
    "preds_train = pd.DataFrame(preds_train, columns = ['loss'])\n",
    "preds_test = pd.DataFrame(preds_test, columns = ['loss'])\n",
    "\n",
    "preds_train.to_csv('stack/forest_train.csv', index=False)\n",
    "preds_test.to_csv('stack/forest_test.csv', index=False)\n",
    "\n",
    "#np.savetxt('/stack/forest_train.csv', preds_train)\n",
    "#np.savetxt('/stack/forest_test.csv', preds_test)"
   ]
  },
  {
   "cell_type": "code",
   "execution_count": null,
   "metadata": {
    "collapsed": true
   },
   "outputs": [],
   "source": []
  },
  {
   "cell_type": "code",
   "execution_count": null,
   "metadata": {
    "collapsed": true
   },
   "outputs": [],
   "source": []
  },
  {
   "cell_type": "code",
   "execution_count": null,
   "metadata": {
    "collapsed": true
   },
   "outputs": [],
   "source": []
  },
  {
   "cell_type": "code",
   "execution_count": 149,
   "metadata": {
    "collapsed": false
   },
   "outputs": [
    {
     "data": {
      "text/plain": [
       "array([ 1855.29907227,  1898.49243164,  4648.83203125, ...,  3827.1171875 ,\n",
       "        3941.58789062,  2692.56567383], dtype=float32)"
      ]
     },
     "execution_count": 149,
     "metadata": {},
     "output_type": "execute_result"
    }
   ],
   "source": [
    "preds_train"
   ]
  },
  {
   "cell_type": "code",
   "execution_count": 40,
   "metadata": {
    "collapsed": true
   },
   "outputs": [],
   "source": [
    "t = pd.DataFrame.from_csv(\"stack_test_knn.csv\",index_col=None)\n",
    "s = pd.DataFrame.from_csv(\"stack/boost.csv\",index_col=None)"
   ]
  },
  {
   "cell_type": "code",
   "execution_count": 43,
   "metadata": {
    "collapsed": false
   },
   "outputs": [
    {
     "data": {
      "text/plain": [
       "id      294067.153442\n",
       "loss      2751.025060\n",
       "dtype: float64"
      ]
     },
     "execution_count": 43,
     "metadata": {},
     "output_type": "execute_result"
    }
   ],
   "source": [
    "t.mean()"
   ]
  },
  {
   "cell_type": "code",
   "execution_count": 64,
   "metadata": {
    "collapsed": false
   },
   "outputs": [
    {
     "data": {
      "text/plain": [
       "loss    51495.675781\n",
       "dtype: float64"
      ]
     },
     "execution_count": 64,
     "metadata": {},
     "output_type": "execute_result"
    }
   ],
   "source": [
    "s.max()"
   ]
  },
  {
   "cell_type": "code",
   "execution_count": 74,
   "metadata": {
    "collapsed": false
   },
   "outputs": [],
   "source": [
    "for i in t.index:\n",
    "    if t.ix[i, 0] > 50000 or t.ix[i, 0] < 0:\n",
    "        t.ix[i, 0] = 2700"
   ]
  },
  {
   "cell_type": "code",
   "execution_count": 15,
   "metadata": {
    "collapsed": false
   },
   "outputs": [
    {
     "data": {
      "text/plain": [
       "1542.0025787763252"
      ]
     },
     "execution_count": 15,
     "metadata": {},
     "output_type": "execute_result"
    }
   ],
   "source": [
    "mean_absolute_error(y, t)"
   ]
  },
  {
   "cell_type": "code",
   "execution_count": 47,
   "metadata": {
    "collapsed": false
   },
   "outputs": [
    {
     "name": "stdout",
     "output_type": "stream",
     "text": [
      "Populating the interactive namespace from numpy and matplotlib\n"
     ]
    },
    {
     "data": {
      "text/plain": [
       "<matplotlib.collections.PathCollection at 0x7f8e3c2b2f90>"
      ]
     },
     "execution_count": 47,
     "metadata": {},
     "output_type": "execute_result"
    },
    {
     "data": {
      "image/png": "[encoded data removed]",
      "text/plain": [
       "<matplotlib.figure.Figure at 0x7f8e3c4e9390>"
      ]
     },
     "metadata": {},
     "output_type": "display_data"
    }
   ],
   "source": [
    "%pylab inline\n",
    "pylab.figure(figsize=(8, 6))\n",
    "pylab.scatter(s.loss, t.loss)"
   ]
  },
  {
   "cell_type": "code",
   "execution_count": 45,
   "metadata": {
    "collapsed": false
   },
   "outputs": [
    {
     "data": {
      "text/html": [
       "<div>\n",
       "<table border=\"1\" class=\"dataframe\">\n",
       "  <thead>\n",
       "    <tr style=\"text-align: right;\">\n",
       "      <th></th>\n",
       "      <th>id</th>\n",
       "      <th>loss</th>\n",
       "    </tr>\n",
       "  </thead>\n",
       "  <tbody>\n",
       "    <tr>\n",
       "      <th>0</th>\n",
       "      <td>4</td>\n",
       "      <td>1532.770142</td>\n",
       "    </tr>\n",
       "    <tr>\n",
       "      <th>1</th>\n",
       "      <td>6</td>\n",
       "      <td>1836.772095</td>\n",
       "    </tr>\n",
       "    <tr>\n",
       "      <th>2</th>\n",
       "      <td>9</td>\n",
       "      <td>7915.705566</td>\n",
       "    </tr>\n",
       "  </tbody>\n",
       "</table>\n",
       "</div>"
      ],
      "text/plain": [
       "   id         loss\n",
       "0   4  1532.770142\n",
       "1   6  1836.772095\n",
       "2   9  7915.705566"
      ]
     },
     "execution_count": 45,
     "metadata": {},
     "output_type": "execute_result"
    }
   ],
   "source": [
    "s[:3]"
   ]
  },
  {
   "cell_type": "code",
   "execution_count": 34,
   "metadata": {
    "collapsed": true
   },
   "outputs": [],
   "source": [
    "t = pd.DataFrame(t, columns = ['loss'])"
   ]
  },
  {
   "cell_type": "code",
   "execution_count": 37,
   "metadata": {
    "collapsed": false
   },
   "outputs": [],
   "source": [
    "ids = pd.DataFrame(test.id, columns = ['id'])\n",
    "t = pd.concat([ids, t],axis=1)"
   ]
  },
  {
   "cell_type": "code",
   "execution_count": 49,
   "metadata": {
    "collapsed": true
   },
   "outputs": [],
   "source": [
    "t.loss = t.loss * 0.5 + s.loss * 0.5"
   ]
  },
  {
   "cell_type": "code",
   "execution_count": 50,
   "metadata": {
    "collapsed": false
   },
   "outputs": [],
   "source": [
    "t.to_csv('blend_boost_knn.csv', index=False)"
   ]
  },
  {
   "cell_type": "code",
   "execution_count": 51,
   "metadata": {
    "collapsed": false
   },
   "outputs": [
    {
     "data": {
      "text/plain": [
       "id      0\n",
       "loss    0\n",
       "dtype: int64"
      ]
     },
     "execution_count": 51,
     "metadata": {},
     "output_type": "execute_result"
    }
   ],
   "source": [
    "t.isnull().sum()"
   ]
  },
  {
   "cell_type": "markdown",
   "metadata": {},
   "source": [
    "## stack"
   ]
  },
  {
   "cell_type": "code",
   "execution_count": 26,
   "metadata": {
    "collapsed": true
   },
   "outputs": [],
   "source": [
    "forest = pd.DataFrame.from_csv(\"stack/forest_train.csv\",index_col=None)\n",
    "boost = pd.DataFrame.from_csv(\"stack/boost_train.csv\",index_col=None)\n",
    "knn2 = pd.DataFrame.from_csv(\"stack/knn2_train.csv\",index_col=None)\n",
    "knn4 = pd.DataFrame.from_csv(\"stack/knn4_train.csv\",index_col=None)\n",
    "knn8 = pd.DataFrame.from_csv(\"stack/knn8_train.csv\",index_col=None)\n",
    "knn16 = pd.DataFrame.from_csv(\"stack/knn16_train.csv\",index_col=None)\n",
    "knn32 = pd.DataFrame.from_csv(\"stack/knn32_train.csv\",index_col=None)\n",
    "knn64 = pd.DataFrame.from_csv(\"stack/knn64_train.csv\",index_col=None)\n",
    "knn128 = pd.DataFrame.from_csv(\"stack/knn128_train.csv\",index_col=None)\n"
   ]
  },
  {
   "cell_type": "code",
   "execution_count": 27,
   "metadata": {
    "collapsed": false
   },
   "outputs": [],
   "source": [
    "X = pd.concat([forest, boost, knn2, knn4,knn8,knn16,knn32,knn64,knn128],axis=1)\n",
    "X.columns = ['forest', 'boost', 'knn2', 'knn4', 'knn8', 'knn16', 'knn32', 'knn64', 'knn128']"
   ]
  },
  {
   "cell_type": "code",
   "execution_count": 28,
   "metadata": {
    "collapsed": false
   },
   "outputs": [
    {
     "data": {
      "text/html": [
       "<div>\n",
       "<table border=\"1\" class=\"dataframe\">\n",
       "  <thead>\n",
       "    <tr style=\"text-align: right;\">\n",
       "      <th></th>\n",
       "      <th>forest</th>\n",
       "      <th>boost</th>\n",
       "      <th>knn2</th>\n",
       "      <th>knn4</th>\n",
       "      <th>knn8</th>\n",
       "      <th>knn16</th>\n",
       "      <th>knn32</th>\n",
       "      <th>knn64</th>\n",
       "      <th>knn128</th>\n",
       "    </tr>\n",
       "  </thead>\n",
       "  <tbody>\n",
       "    <tr>\n",
       "      <th>0</th>\n",
       "      <td>2226.930144</td>\n",
       "      <td>2053.978760</td>\n",
       "      <td>1821.680</td>\n",
       "      <td>3541.7900</td>\n",
       "      <td>2804.57125</td>\n",
       "      <td>2506.395000</td>\n",
       "      <td>2295.344687</td>\n",
       "      <td>2356.452344</td>\n",
       "      <td>2389.101875</td>\n",
       "    </tr>\n",
       "    <tr>\n",
       "      <th>1</th>\n",
       "      <td>1719.490149</td>\n",
       "      <td>1597.035522</td>\n",
       "      <td>1956.550</td>\n",
       "      <td>1899.3850</td>\n",
       "      <td>1733.68375</td>\n",
       "      <td>1806.850625</td>\n",
       "      <td>2112.318438</td>\n",
       "      <td>1966.004375</td>\n",
       "      <td>2012.620703</td>\n",
       "    </tr>\n",
       "    <tr>\n",
       "      <th>2</th>\n",
       "      <td>3655.906641</td>\n",
       "      <td>4514.017578</td>\n",
       "      <td>3700.795</td>\n",
       "      <td>4089.5225</td>\n",
       "      <td>4097.71250</td>\n",
       "      <td>5397.304375</td>\n",
       "      <td>5211.876562</td>\n",
       "      <td>5233.897187</td>\n",
       "      <td>4589.933437</td>\n",
       "    </tr>\n",
       "    <tr>\n",
       "      <th>3</th>\n",
       "      <td>1225.634112</td>\n",
       "      <td>1044.779541</td>\n",
       "      <td>1017.325</td>\n",
       "      <td>1447.4625</td>\n",
       "      <td>1230.86250</td>\n",
       "      <td>1199.775000</td>\n",
       "      <td>1204.549687</td>\n",
       "      <td>1247.163594</td>\n",
       "      <td>1343.451406</td>\n",
       "    </tr>\n",
       "    <tr>\n",
       "      <th>4</th>\n",
       "      <td>2957.094724</td>\n",
       "      <td>3048.395752</td>\n",
       "      <td>2556.565</td>\n",
       "      <td>6438.3000</td>\n",
       "      <td>6675.12125</td>\n",
       "      <td>6464.970625</td>\n",
       "      <td>6630.515625</td>\n",
       "      <td>6154.657812</td>\n",
       "      <td>5809.325391</td>\n",
       "    </tr>\n",
       "    <tr>\n",
       "      <th>5</th>\n",
       "      <td>4687.556035</td>\n",
       "      <td>3823.144043</td>\n",
       "      <td>7705.865</td>\n",
       "      <td>7757.3475</td>\n",
       "      <td>6000.45750</td>\n",
       "      <td>5322.044375</td>\n",
       "      <td>4513.060625</td>\n",
       "      <td>4825.690781</td>\n",
       "      <td>4846.687813</td>\n",
       "    </tr>\n",
       "    <tr>\n",
       "      <th>6</th>\n",
       "      <td>1459.540183</td>\n",
       "      <td>1151.560791</td>\n",
       "      <td>1278.945</td>\n",
       "      <td>1234.5275</td>\n",
       "      <td>1233.37500</td>\n",
       "      <td>1757.401250</td>\n",
       "      <td>2099.976875</td>\n",
       "      <td>2111.909219</td>\n",
       "      <td>2298.285781</td>\n",
       "    </tr>\n",
       "    <tr>\n",
       "      <th>7</th>\n",
       "      <td>5147.867464</td>\n",
       "      <td>5641.627930</td>\n",
       "      <td>614.525</td>\n",
       "      <td>4540.4325</td>\n",
       "      <td>4368.52000</td>\n",
       "      <td>4194.865000</td>\n",
       "      <td>4719.947812</td>\n",
       "      <td>5061.812344</td>\n",
       "      <td>4907.536953</td>\n",
       "    </tr>\n",
       "    <tr>\n",
       "      <th>8</th>\n",
       "      <td>7434.668233</td>\n",
       "      <td>8459.001953</td>\n",
       "      <td>6492.910</td>\n",
       "      <td>11513.8950</td>\n",
       "      <td>8724.92500</td>\n",
       "      <td>8454.581250</td>\n",
       "      <td>8510.685938</td>\n",
       "      <td>8295.238750</td>\n",
       "      <td>8213.524687</td>\n",
       "    </tr>\n",
       "    <tr>\n",
       "      <th>9</th>\n",
       "      <td>4630.942674</td>\n",
       "      <td>7310.999023</td>\n",
       "      <td>3751.265</td>\n",
       "      <td>6513.7500</td>\n",
       "      <td>5688.43500</td>\n",
       "      <td>5585.805625</td>\n",
       "      <td>5625.035313</td>\n",
       "      <td>5451.541250</td>\n",
       "      <td>5328.844063</td>\n",
       "    </tr>\n",
       "  </tbody>\n",
       "</table>\n",
       "</div>"
      ],
      "text/plain": [
       "        forest        boost      knn2        knn4        knn8        knn16  \\\n",
       "0  2226.930144  2053.978760  1821.680   3541.7900  2804.57125  2506.395000   \n",
       "1  1719.490149  1597.035522  1956.550   1899.3850  1733.68375  1806.850625   \n",
       "2  3655.906641  4514.017578  3700.795   4089.5225  4097.71250  5397.304375   \n",
       "3  1225.634112  1044.779541  1017.325   1447.4625  1230.86250  1199.775000   \n",
       "4  2957.094724  3048.395752  2556.565   6438.3000  6675.12125  6464.970625   \n",
       "5  4687.556035  3823.144043  7705.865   7757.3475  6000.45750  5322.044375   \n",
       "6  1459.540183  1151.560791  1278.945   1234.5275  1233.37500  1757.401250   \n",
       "7  5147.867464  5641.627930   614.525   4540.4325  4368.52000  4194.865000   \n",
       "8  7434.668233  8459.001953  6492.910  11513.8950  8724.92500  8454.581250   \n",
       "9  4630.942674  7310.999023  3751.265   6513.7500  5688.43500  5585.805625   \n",
       "\n",
       "         knn32        knn64       knn128  \n",
       "0  2295.344687  2356.452344  2389.101875  \n",
       "1  2112.318438  1966.004375  2012.620703  \n",
       "2  5211.876562  5233.897187  4589.933437  \n",
       "3  1204.549687  1247.163594  1343.451406  \n",
       "4  6630.515625  6154.657812  5809.325391  \n",
       "5  4513.060625  4825.690781  4846.687813  \n",
       "6  2099.976875  2111.909219  2298.285781  \n",
       "7  4719.947812  5061.812344  4907.536953  \n",
       "8  8510.685938  8295.238750  8213.524687  \n",
       "9  5625.035313  5451.541250  5328.844063  "
      ]
     },
     "execution_count": 28,
     "metadata": {},
     "output_type": "execute_result"
    }
   ],
   "source": [
    "X[:10]"
   ]
  },
  {
   "cell_type": "code",
   "execution_count": 29,
   "metadata": {
    "collapsed": false
   },
   "outputs": [],
   "source": [
    "param = {'min_child_weight': 100,\n",
    "        'eta': 0.001,\n",
    "        'colsample_bytree': 1.0,\n",
    "        'max_depth': 5,\n",
    "        'subsample': 1.0,\n",
    "        #'alpha': 1,\n",
    "        #'gamma': 1,\n",
    "        #'silent': 1,\n",
    "        'eval_metric' : 'mae',\n",
    "        'objective': 'reg:linear',\n",
    "        'verbose_eval': True}\n",
    "num_round = 2380\n",
    "xgtrain = xgb.DMatrix(X, y)\n",
    "bst = xgb.train(param, xgtrain, num_boost_round=num_round)"
   ]
  },
  {
   "cell_type": "code",
   "execution_count": 48,
   "metadata": {
    "collapsed": false
   },
   "outputs": [
    {
     "data": {
      "text/html": [
       "<div>\n",
       "<table border=\"1\" class=\"dataframe\">\n",
       "  <thead>\n",
       "    <tr style=\"text-align: right;\">\n",
       "      <th></th>\n",
       "      <th>0</th>\n",
       "      <th>1</th>\n",
       "    </tr>\n",
       "  </thead>\n",
       "  <tbody>\n",
       "    <tr>\n",
       "      <th>7</th>\n",
       "      <td>boost</td>\n",
       "      <td>40454</td>\n",
       "    </tr>\n",
       "    <tr>\n",
       "      <th>0</th>\n",
       "      <td>knn2</td>\n",
       "      <td>8293</td>\n",
       "    </tr>\n",
       "    <tr>\n",
       "      <th>3</th>\n",
       "      <td>forest</td>\n",
       "      <td>7590</td>\n",
       "    </tr>\n",
       "    <tr>\n",
       "      <th>4</th>\n",
       "      <td>knn32</td>\n",
       "      <td>2453</td>\n",
       "    </tr>\n",
       "    <tr>\n",
       "      <th>6</th>\n",
       "      <td>knn16</td>\n",
       "      <td>2286</td>\n",
       "    </tr>\n",
       "    <tr>\n",
       "      <th>8</th>\n",
       "      <td>knn8</td>\n",
       "      <td>2118</td>\n",
       "    </tr>\n",
       "    <tr>\n",
       "      <th>5</th>\n",
       "      <td>knn4</td>\n",
       "      <td>2007</td>\n",
       "    </tr>\n",
       "    <tr>\n",
       "      <th>1</th>\n",
       "      <td>knn64</td>\n",
       "      <td>1612</td>\n",
       "    </tr>\n",
       "    <tr>\n",
       "      <th>2</th>\n",
       "      <td>knn128</td>\n",
       "      <td>1406</td>\n",
       "    </tr>\n",
       "  </tbody>\n",
       "</table>\n",
       "</div>"
      ],
      "text/plain": [
       "        0      1\n",
       "7   boost  40454\n",
       "0    knn2   8293\n",
       "3  forest   7590\n",
       "4   knn32   2453\n",
       "6   knn16   2286\n",
       "8    knn8   2118\n",
       "5    knn4   2007\n",
       "1   knn64   1612\n",
       "2  knn128   1406"
      ]
     },
     "execution_count": 48,
     "metadata": {},
     "output_type": "execute_result"
    }
   ],
   "source": [
    "pd.DataFrame(bst.get_fscore().items()).sort_values(1, ascending=False)[:10]"
   ]
  },
  {
   "cell_type": "code",
   "execution_count": 19,
   "metadata": {
    "collapsed": false
   },
   "outputs": [
    {
     "name": "stdout",
     "output_type": "stream",
     "text": [
      "[0]\ttrain-mae:3033.8\ttest-mae:3033.8\n",
      "[10]\ttrain-mae:3003.61\ttest-mae:3003.61\n",
      "[20]\ttrain-mae:2973.72\ttest-mae:2973.73\n",
      "[30]\ttrain-mae:2944.14\ttest-mae:2944.16\n",
      "[40]\ttrain-mae:2914.87\ttest-mae:2914.89\n",
      "[50]\ttrain-mae:2885.89\ttest-mae:2885.92\n",
      "[60]\ttrain-mae:2857.22\ttest-mae:2857.25\n",
      "[70]\ttrain-mae:2828.85\ttest-mae:2828.88\n",
      "[80]\ttrain-mae:2800.78\ttest-mae:2800.81\n",
      "[90]\ttrain-mae:2773.02\ttest-mae:2773.06\n",
      "[100]\ttrain-mae:2745.56\ttest-mae:2745.61\n",
      "[110]\ttrain-mae:2718.41\ttest-mae:2718.46\n",
      "[120]\ttrain-mae:2691.55\ttest-mae:2691.6\n",
      "[130]\ttrain-mae:2664.98\ttest-mae:2665.04\n",
      "[140]\ttrain-mae:2638.71\ttest-mae:2638.76\n",
      "[150]\ttrain-mae:2612.71\ttest-mae:2612.77\n",
      "[160]\ttrain-mae:2587.01\ttest-mae:2587.07\n",
      "[170]\ttrain-mae:2561.59\ttest-mae:2561.65\n",
      "[180]\ttrain-mae:2536.45\ttest-mae:2536.52\n",
      "[190]\ttrain-mae:2511.58\ttest-mae:2511.66\n",
      "[200]\ttrain-mae:2487\ttest-mae:2487.08\n",
      "[210]\ttrain-mae:2462.7\ttest-mae:2462.79\n",
      "[220]\ttrain-mae:2438.67\ttest-mae:2438.76\n",
      "[230]\ttrain-mae:2414.92\ttest-mae:2415.02\n",
      "[240]\ttrain-mae:2391.45\ttest-mae:2391.56\n",
      "[250]\ttrain-mae:2368.27\ttest-mae:2368.37\n",
      "[260]\ttrain-mae:2345.36\ttest-mae:2345.47\n",
      "[270]\ttrain-mae:2322.75\ttest-mae:2322.86\n",
      "[280]\ttrain-mae:2300.41\ttest-mae:2300.53\n",
      "[290]\ttrain-mae:2278.36\ttest-mae:2278.49\n",
      "[300]\ttrain-mae:2256.6\ttest-mae:2256.73\n",
      "[310]\ttrain-mae:2235.11\ttest-mae:2235.25\n",
      "[320]\ttrain-mae:2213.91\ttest-mae:2214.05\n",
      "[330]\ttrain-mae:2192.99\ttest-mae:2193.14\n",
      "[340]\ttrain-mae:2172.36\ttest-mae:2172.52\n",
      "[350]\ttrain-mae:2152\ttest-mae:2152.16\n",
      "[360]\ttrain-mae:2131.92\ttest-mae:2132.09\n",
      "[370]\ttrain-mae:2112.13\ttest-mae:2112.3\n",
      "[380]\ttrain-mae:2092.62\ttest-mae:2092.8\n",
      "[390]\ttrain-mae:2073.39\ttest-mae:2073.58\n",
      "[400]\ttrain-mae:2054.44\ttest-mae:2054.64\n",
      "[410]\ttrain-mae:2035.78\ttest-mae:2035.98\n",
      "[420]\ttrain-mae:2017.39\ttest-mae:2017.61\n",
      "[430]\ttrain-mae:1999.28\ttest-mae:1999.51\n",
      "[440]\ttrain-mae:1981.44\ttest-mae:1981.68\n",
      "[450]\ttrain-mae:1963.88\ttest-mae:1964.13\n",
      "[460]\ttrain-mae:1946.59\ttest-mae:1946.85\n",
      "[470]\ttrain-mae:1929.58\ttest-mae:1929.85\n",
      "[480]\ttrain-mae:1912.84\ttest-mae:1913.13\n",
      "[490]\ttrain-mae:1896.37\ttest-mae:1896.68\n",
      "[500]\ttrain-mae:1880.18\ttest-mae:1880.51\n",
      "[510]\ttrain-mae:1864.26\ttest-mae:1864.61\n",
      "[520]\ttrain-mae:1848.6\ttest-mae:1848.97\n",
      "[530]\ttrain-mae:1833.2\ttest-mae:1833.6\n",
      "[540]\ttrain-mae:1818.06\ttest-mae:1818.49\n",
      "[550]\ttrain-mae:1803.19\ttest-mae:1803.64\n",
      "[560]\ttrain-mae:1788.58\ttest-mae:1789.04\n",
      "[570]\ttrain-mae:1774.22\ttest-mae:1774.71\n",
      "[580]\ttrain-mae:1760.11\ttest-mae:1760.63\n",
      "[590]\ttrain-mae:1746.25\ttest-mae:1746.8\n",
      "[600]\ttrain-mae:1732.64\ttest-mae:1733.21\n",
      "[610]\ttrain-mae:1719.28\ttest-mae:1719.87\n",
      "[620]\ttrain-mae:1706.15\ttest-mae:1706.77\n",
      "[630]\ttrain-mae:1693.26\ttest-mae:1693.91\n",
      "[640]\ttrain-mae:1680.62\ttest-mae:1681.29\n",
      "[650]\ttrain-mae:1668.21\ttest-mae:1668.92\n",
      "[660]\ttrain-mae:1656.03\ttest-mae:1656.77\n",
      "[670]\ttrain-mae:1644.08\ttest-mae:1644.84\n",
      "[680]\ttrain-mae:1632.36\ttest-mae:1633.14\n",
      "[690]\ttrain-mae:1620.85\ttest-mae:1621.66\n",
      "[700]\ttrain-mae:1609.57\ttest-mae:1610.42\n",
      "[710]\ttrain-mae:1598.52\ttest-mae:1599.39\n",
      "[720]\ttrain-mae:1587.67\ttest-mae:1588.58\n",
      "[730]\ttrain-mae:1577.04\ttest-mae:1577.97\n",
      "[740]\ttrain-mae:1566.62\ttest-mae:1567.58\n",
      "[750]\ttrain-mae:1556.41\ttest-mae:1557.39\n",
      "[760]\ttrain-mae:1546.39\ttest-mae:1547.4\n",
      "[770]\ttrain-mae:1536.57\ttest-mae:1537.6\n",
      "[780]\ttrain-mae:1526.95\ttest-mae:1528\n",
      "[790]\ttrain-mae:1517.52\ttest-mae:1518.6\n",
      "[800]\ttrain-mae:1508.28\ttest-mae:1509.39\n",
      "[810]\ttrain-mae:1499.23\ttest-mae:1500.37\n",
      "[820]\ttrain-mae:1490.36\ttest-mae:1491.53\n",
      "[830]\ttrain-mae:1481.68\ttest-mae:1482.89\n",
      "[840]\ttrain-mae:1473.18\ttest-mae:1474.42\n",
      "[850]\ttrain-mae:1464.86\ttest-mae:1466.14\n",
      "[860]\ttrain-mae:1456.72\ttest-mae:1458.03\n",
      "[870]\ttrain-mae:1448.74\ttest-mae:1450.1\n",
      "[880]\ttrain-mae:1440.94\ttest-mae:1442.33\n",
      "[890]\ttrain-mae:1433.31\ttest-mae:1434.73\n",
      "[900]\ttrain-mae:1425.84\ttest-mae:1427.29\n",
      "[910]\ttrain-mae:1418.53\ttest-mae:1420\n",
      "[920]\ttrain-mae:1411.37\ttest-mae:1412.87\n",
      "[930]\ttrain-mae:1404.37\ttest-mae:1405.89\n",
      "[940]\ttrain-mae:1397.52\ttest-mae:1399.06\n",
      "[950]\ttrain-mae:1390.81\ttest-mae:1392.38\n",
      "[960]\ttrain-mae:1384.25\ttest-mae:1385.85\n",
      "[970]\ttrain-mae:1377.83\ttest-mae:1379.45\n",
      "[980]\ttrain-mae:1371.54\ttest-mae:1373.2\n",
      "[990]\ttrain-mae:1365.4\ttest-mae:1367.08\n",
      "[1000]\ttrain-mae:1359.38\ttest-mae:1361.09\n",
      "[1010]\ttrain-mae:1353.5\ttest-mae:1355.23\n",
      "[1020]\ttrain-mae:1347.74\ttest-mae:1349.51\n",
      "[1030]\ttrain-mae:1342.11\ttest-mae:1343.9\n",
      "[1040]\ttrain-mae:1336.61\ttest-mae:1338.43\n",
      "[1050]\ttrain-mae:1331.23\ttest-mae:1333.09\n",
      "[1060]\ttrain-mae:1325.97\ttest-mae:1327.86\n",
      "[1070]\ttrain-mae:1320.83\ttest-mae:1322.75\n",
      "[1080]\ttrain-mae:1315.81\ttest-mae:1317.76\n",
      "[1090]\ttrain-mae:1310.9\ttest-mae:1312.88\n",
      "[1100]\ttrain-mae:1306.11\ttest-mae:1308.12\n",
      "[1110]\ttrain-mae:1301.43\ttest-mae:1303.46\n",
      "[1120]\ttrain-mae:1296.86\ttest-mae:1298.92\n",
      "[1130]\ttrain-mae:1292.4\ttest-mae:1294.48\n",
      "[1140]\ttrain-mae:1288.04\ttest-mae:1290.15\n",
      "[1150]\ttrain-mae:1283.79\ttest-mae:1285.92\n",
      "[1160]\ttrain-mae:1279.63\ttest-mae:1281.79\n",
      "[1170]\ttrain-mae:1275.57\ttest-mae:1277.75\n",
      "[1180]\ttrain-mae:1271.61\ttest-mae:1273.82\n",
      "[1190]\ttrain-mae:1267.74\ttest-mae:1269.98\n",
      "[1200]\ttrain-mae:1263.96\ttest-mae:1266.24\n",
      "[1210]\ttrain-mae:1260.27\ttest-mae:1262.6\n",
      "[1220]\ttrain-mae:1256.68\ttest-mae:1259.04\n",
      "[1230]\ttrain-mae:1253.17\ttest-mae:1255.57\n",
      "[1240]\ttrain-mae:1249.75\ttest-mae:1252.18\n",
      "[1250]\ttrain-mae:1246.41\ttest-mae:1248.88\n",
      "[1260]\ttrain-mae:1243.16\ttest-mae:1245.66\n",
      "[1270]\ttrain-mae:1239.98\ttest-mae:1242.52\n",
      "[1280]\ttrain-mae:1236.89\ttest-mae:1239.45\n",
      "[1290]\ttrain-mae:1233.87\ttest-mae:1236.47\n",
      "[1300]\ttrain-mae:1230.93\ttest-mae:1233.55\n",
      "[1310]\ttrain-mae:1228.05\ttest-mae:1230.7\n",
      "[1320]\ttrain-mae:1225.25\ttest-mae:1227.92\n",
      "[1330]\ttrain-mae:1222.51\ttest-mae:1225.21\n",
      "[1340]\ttrain-mae:1219.84\ttest-mae:1222.57\n",
      "[1350]\ttrain-mae:1217.24\ttest-mae:1220\n",
      "[1360]\ttrain-mae:1214.7\ttest-mae:1217.49\n",
      "[1370]\ttrain-mae:1212.23\ttest-mae:1215.05\n",
      "[1380]\ttrain-mae:1209.82\ttest-mae:1212.67\n",
      "[1390]\ttrain-mae:1207.46\ttest-mae:1210.34\n",
      "[1400]\ttrain-mae:1205.17\ttest-mae:1208.08\n",
      "[1410]\ttrain-mae:1202.94\ttest-mae:1205.88\n",
      "[1420]\ttrain-mae:1200.76\ttest-mae:1203.73\n",
      "[1430]\ttrain-mae:1198.65\ttest-mae:1201.64\n",
      "[1440]\ttrain-mae:1196.59\ttest-mae:1199.61\n",
      "[1450]\ttrain-mae:1194.58\ttest-mae:1197.63\n",
      "[1460]\ttrain-mae:1192.63\ttest-mae:1195.71\n",
      "[1470]\ttrain-mae:1190.73\ttest-mae:1193.83\n",
      "[1480]\ttrain-mae:1188.88\ttest-mae:1192.01\n",
      "[1490]\ttrain-mae:1187.08\ttest-mae:1190.23\n",
      "[1500]\ttrain-mae:1185.32\ttest-mae:1188.5\n",
      "[1510]\ttrain-mae:1183.62\ttest-mae:1186.82\n",
      "[1520]\ttrain-mae:1181.96\ttest-mae:1185.19\n",
      "[1530]\ttrain-mae:1180.34\ttest-mae:1183.6\n",
      "[1540]\ttrain-mae:1178.77\ttest-mae:1182.05\n",
      "[1550]\ttrain-mae:1177.24\ttest-mae:1180.55\n",
      "[1560]\ttrain-mae:1175.75\ttest-mae:1179.09\n",
      "[1570]\ttrain-mae:1174.3\ttest-mae:1177.66\n",
      "[1580]\ttrain-mae:1172.89\ttest-mae:1176.28\n",
      "[1590]\ttrain-mae:1171.52\ttest-mae:1174.93\n",
      "[1600]\ttrain-mae:1170.19\ttest-mae:1173.62\n",
      "[1610]\ttrain-mae:1168.89\ttest-mae:1172.34\n",
      "[1620]\ttrain-mae:1167.63\ttest-mae:1171.1\n",
      "[1630]\ttrain-mae:1166.41\ttest-mae:1169.89\n",
      "[1640]\ttrain-mae:1165.22\ttest-mae:1168.72\n",
      "[1650]\ttrain-mae:1164.06\ttest-mae:1167.58\n",
      "[1660]\ttrain-mae:1162.94\ttest-mae:1166.48\n",
      "[1670]\ttrain-mae:1161.85\ttest-mae:1165.41\n",
      "[1680]\ttrain-mae:1160.79\ttest-mae:1164.37\n",
      "[1690]\ttrain-mae:1159.76\ttest-mae:1163.36\n",
      "[1700]\ttrain-mae:1158.77\ttest-mae:1162.38\n",
      "[1710]\ttrain-mae:1157.8\ttest-mae:1161.43\n",
      "[1720]\ttrain-mae:1156.86\ttest-mae:1160.51\n",
      "[1730]\ttrain-mae:1155.95\ttest-mae:1159.62\n",
      "[1740]\ttrain-mae:1155.07\ttest-mae:1158.76\n",
      "[1750]\ttrain-mae:1154.22\ttest-mae:1157.92\n",
      "[1760]\ttrain-mae:1153.39\ttest-mae:1157.11\n",
      "[1770]\ttrain-mae:1152.58\ttest-mae:1156.32\n",
      "[1780]\ttrain-mae:1151.81\ttest-mae:1155.56\n",
      "[1790]\ttrain-mae:1151.05\ttest-mae:1154.83\n",
      "[1800]\ttrain-mae:1150.32\ttest-mae:1154.12\n",
      "[1810]\ttrain-mae:1149.62\ttest-mae:1153.43\n",
      "[1820]\ttrain-mae:1148.93\ttest-mae:1152.77\n",
      "[1830]\ttrain-mae:1148.27\ttest-mae:1152.13\n",
      "[1840]\ttrain-mae:1147.62\ttest-mae:1151.51\n",
      "[1850]\ttrain-mae:1147\ttest-mae:1150.91\n",
      "[1860]\ttrain-mae:1146.4\ttest-mae:1150.33\n",
      "[1870]\ttrain-mae:1145.82\ttest-mae:1149.77\n",
      "[1880]\ttrain-mae:1145.26\ttest-mae:1149.23\n",
      "[1890]\ttrain-mae:1144.71\ttest-mae:1148.71\n",
      "[1900]\ttrain-mae:1144.19\ttest-mae:1148.2\n",
      "[1910]\ttrain-mae:1143.68\ttest-mae:1147.72\n",
      "[1920]\ttrain-mae:1143.19\ttest-mae:1147.25\n",
      "[1930]\ttrain-mae:1142.72\ttest-mae:1146.81\n",
      "[1940]\ttrain-mae:1142.26\ttest-mae:1146.38\n",
      "[1950]\ttrain-mae:1141.82\ttest-mae:1145.96\n",
      "[1960]\ttrain-mae:1141.4\ttest-mae:1145.56\n",
      "[1970]\ttrain-mae:1140.99\ttest-mae:1145.18\n",
      "[1980]\ttrain-mae:1140.6\ttest-mae:1144.81\n",
      "[1990]\ttrain-mae:1140.22\ttest-mae:1144.46\n",
      "[2000]\ttrain-mae:1139.86\ttest-mae:1144.12\n",
      "[2010]\ttrain-mae:1139.51\ttest-mae:1143.79\n",
      "[2020]\ttrain-mae:1139.18\ttest-mae:1143.48\n",
      "[2030]\ttrain-mae:1138.86\ttest-mae:1143.18\n",
      "[2040]\ttrain-mae:1138.55\ttest-mae:1142.9\n",
      "[2050]\ttrain-mae:1138.26\ttest-mae:1142.62\n",
      "[2060]\ttrain-mae:1137.98\ttest-mae:1142.36\n",
      "[2070]\ttrain-mae:1137.71\ttest-mae:1142.11\n",
      "[2080]\ttrain-mae:1137.45\ttest-mae:1141.88\n",
      "[2090]\ttrain-mae:1137.2\ttest-mae:1141.65\n",
      "[2100]\ttrain-mae:1136.96\ttest-mae:1141.43\n",
      "[2110]\ttrain-mae:1136.74\ttest-mae:1141.23\n",
      "[2120]\ttrain-mae:1136.52\ttest-mae:1141.03\n",
      "[2130]\ttrain-mae:1136.32\ttest-mae:1140.85\n",
      "[2140]\ttrain-mae:1136.12\ttest-mae:1140.67\n",
      "[2150]\ttrain-mae:1135.93\ttest-mae:1140.51\n",
      "[2160]\ttrain-mae:1135.76\ttest-mae:1140.35\n",
      "[2170]\ttrain-mae:1135.59\ttest-mae:1140.2\n",
      "[2180]\ttrain-mae:1135.43\ttest-mae:1140.07\n",
      "[2190]\ttrain-mae:1135.28\ttest-mae:1139.94\n",
      "[2200]\ttrain-mae:1135.14\ttest-mae:1139.81\n",
      "[2210]\ttrain-mae:1135.01\ttest-mae:1139.7\n",
      "[2220]\ttrain-mae:1134.88\ttest-mae:1139.59\n",
      "[2230]\ttrain-mae:1134.76\ttest-mae:1139.49\n",
      "[2240]\ttrain-mae:1134.65\ttest-mae:1139.4\n",
      "[2250]\ttrain-mae:1134.55\ttest-mae:1139.32\n",
      "[2260]\ttrain-mae:1134.46\ttest-mae:1139.24\n",
      "[2270]\ttrain-mae:1134.37\ttest-mae:1139.17\n",
      "[2280]\ttrain-mae:1134.29\ttest-mae:1139.11\n",
      "[2290]\ttrain-mae:1134.22\ttest-mae:1139.06\n",
      "[2300]\ttrain-mae:1134.15\ttest-mae:1139.01\n",
      "[2310]\ttrain-mae:1134.09\ttest-mae:1138.97\n",
      "[2320]\ttrain-mae:1134.03\ttest-mae:1138.94\n",
      "[2330]\ttrain-mae:1133.99\ttest-mae:1138.91\n",
      "[2340]\ttrain-mae:1133.94\ttest-mae:1138.88\n",
      "[2350]\ttrain-mae:1133.91\ttest-mae:1138.87\n",
      "[2360]\ttrain-mae:1133.88\ttest-mae:1138.85\n",
      "[2370]\ttrain-mae:1133.85\ttest-mae:1138.85\n",
      "[2380]\ttrain-mae:1133.83\ttest-mae:1138.85\n",
      "[2390]\ttrain-mae:1133.81\ttest-mae:1138.85\n",
      "[2400]\ttrain-mae:1133.8\ttest-mae:1138.86\n",
      "[2410]\ttrain-mae:1133.79\ttest-mae:1138.87\n",
      "[2420]\ttrain-mae:1133.79\ttest-mae:1138.89\n",
      "[2430]\ttrain-mae:1133.79\ttest-mae:1138.91\n",
      "[2440]\ttrain-mae:1133.8\ttest-mae:1138.94\n",
      "[2450]\ttrain-mae:1133.81\ttest-mae:1138.96\n",
      "[2460]\ttrain-mae:1133.82\ttest-mae:1139\n",
      "[2470]\ttrain-mae:1133.84\ttest-mae:1139.03\n",
      "[2480]\ttrain-mae:1133.86\ttest-mae:1139.08\n",
      "[2490]\ttrain-mae:1133.89\ttest-mae:1139.12\n",
      "[2500]\ttrain-mae:1133.92\ttest-mae:1139.17\n",
      "[2510]\ttrain-mae:1133.95\ttest-mae:1139.22\n",
      "[2520]\ttrain-mae:1133.99\ttest-mae:1139.27\n"
     ]
    },
    {
     "ename": "KeyboardInterrupt",
     "evalue": "",
     "output_type": "error",
     "traceback": [
      "\u001b[1;31m---------------------------------------------------------------------------\u001b[0m",
      "\u001b[1;31mKeyboardInterrupt\u001b[0m                         Traceback (most recent call last)",
      "\u001b[1;32m<ipython-input-19-9ca34362a5e0>\u001b[0m in \u001b[0;36m<module>\u001b[1;34m()\u001b[0m\n\u001b[1;32m----> 1\u001b[1;33m \u001b[0mget_ipython\u001b[0m\u001b[1;33m(\u001b[0m\u001b[1;33m)\u001b[0m\u001b[1;33m.\u001b[0m\u001b[0mrun_cell_magic\u001b[0m\u001b[1;33m(\u001b[0m\u001b[1;34mu'time'\u001b[0m\u001b[1;33m,\u001b[0m \u001b[1;34mu''\u001b[0m\u001b[1;33m,\u001b[0m \u001b[1;34mu\"param = {'min_child_weight': 100,\\n        'eta': 0.001,\\n        'colsample_bytree': 1.0,\\n        'max_depth': 5,\\n        'subsample': 1.0,\\n        #'alpha': 1,\\n        #'gamma': 1,\\n        #'silent': 1,\\n        'eval_metric' : 'mae',\\n        'objective': 'reg:linear',\\n        'verbose_eval': True}\\nnum_round = 4070\\n\\nxgtrain = xgb.DMatrix(X, y)\\n\\nt = xgb.cv(param, xgtrain, num_boost_round=num_round, nfold=5, show_stdv=0, seed=0, verbose_eval=10)\\n#print t['test-mlogloss-mean'].min()\\n#print t['test-mlogloss-mean'].argmin() + 1\"\u001b[0m\u001b[1;33m)\u001b[0m\u001b[1;33m\u001b[0m\u001b[0m\n\u001b[0m",
      "\u001b[1;32m/home/ubuntu/anaconda2/lib/python2.7/site-packages/IPython/core/interactiveshell.pyc\u001b[0m in \u001b[0;36mrun_cell_magic\u001b[1;34m(self, magic_name, line, cell)\u001b[0m\n\u001b[0;32m   2118\u001b[0m             \u001b[0mmagic_arg_s\u001b[0m \u001b[1;33m=\u001b[0m \u001b[0mself\u001b[0m\u001b[1;33m.\u001b[0m\u001b[0mvar_expand\u001b[0m\u001b[1;33m(\u001b[0m\u001b[0mline\u001b[0m\u001b[1;33m,\u001b[0m \u001b[0mstack_depth\u001b[0m\u001b[1;33m)\u001b[0m\u001b[1;33m\u001b[0m\u001b[0m\n\u001b[0;32m   2119\u001b[0m             \u001b[1;32mwith\u001b[0m \u001b[0mself\u001b[0m\u001b[1;33m.\u001b[0m\u001b[0mbuiltin_trap\u001b[0m\u001b[1;33m:\u001b[0m\u001b[1;33m\u001b[0m\u001b[0m\n\u001b[1;32m-> 2120\u001b[1;33m                 \u001b[0mresult\u001b[0m \u001b[1;33m=\u001b[0m \u001b[0mfn\u001b[0m\u001b[1;33m(\u001b[0m\u001b[0mmagic_arg_s\u001b[0m\u001b[1;33m,\u001b[0m \u001b[0mcell\u001b[0m\u001b[1;33m)\u001b[0m\u001b[1;33m\u001b[0m\u001b[0m\n\u001b[0m\u001b[0;32m   2121\u001b[0m             \u001b[1;32mreturn\u001b[0m \u001b[0mresult\u001b[0m\u001b[1;33m\u001b[0m\u001b[0m\n\u001b[0;32m   2122\u001b[0m \u001b[1;33m\u001b[0m\u001b[0m\n",
      "\u001b[1;32m<decorator-gen-60>\u001b[0m in \u001b[0;36mtime\u001b[1;34m(self, line, cell, local_ns)\u001b[0m\n",
      "\u001b[1;32m/home/ubuntu/anaconda2/lib/python2.7/site-packages/IPython/core/magic.pyc\u001b[0m in \u001b[0;36m<lambda>\u001b[1;34m(f, *a, **k)\u001b[0m\n\u001b[0;32m    191\u001b[0m     \u001b[1;31m# but it's overkill for just that one bit of state.\u001b[0m\u001b[1;33m\u001b[0m\u001b[1;33m\u001b[0m\u001b[0m\n\u001b[0;32m    192\u001b[0m     \u001b[1;32mdef\u001b[0m \u001b[0mmagic_deco\u001b[0m\u001b[1;33m(\u001b[0m\u001b[0marg\u001b[0m\u001b[1;33m)\u001b[0m\u001b[1;33m:\u001b[0m\u001b[1;33m\u001b[0m\u001b[0m\n\u001b[1;32m--> 193\u001b[1;33m         \u001b[0mcall\u001b[0m \u001b[1;33m=\u001b[0m \u001b[1;32mlambda\u001b[0m \u001b[0mf\u001b[0m\u001b[1;33m,\u001b[0m \u001b[1;33m*\u001b[0m\u001b[0ma\u001b[0m\u001b[1;33m,\u001b[0m \u001b[1;33m**\u001b[0m\u001b[0mk\u001b[0m\u001b[1;33m:\u001b[0m \u001b[0mf\u001b[0m\u001b[1;33m(\u001b[0m\u001b[1;33m*\u001b[0m\u001b[0ma\u001b[0m\u001b[1;33m,\u001b[0m \u001b[1;33m**\u001b[0m\u001b[0mk\u001b[0m\u001b[1;33m)\u001b[0m\u001b[1;33m\u001b[0m\u001b[0m\n\u001b[0m\u001b[0;32m    194\u001b[0m \u001b[1;33m\u001b[0m\u001b[0m\n\u001b[0;32m    195\u001b[0m         \u001b[1;32mif\u001b[0m \u001b[0mcallable\u001b[0m\u001b[1;33m(\u001b[0m\u001b[0marg\u001b[0m\u001b[1;33m)\u001b[0m\u001b[1;33m:\u001b[0m\u001b[1;33m\u001b[0m\u001b[0m\n",
      "\u001b[1;32m/home/ubuntu/anaconda2/lib/python2.7/site-packages/IPython/core/magics/execution.pyc\u001b[0m in \u001b[0;36mtime\u001b[1;34m(self, line, cell, local_ns)\u001b[0m\n\u001b[0;32m   1175\u001b[0m         \u001b[1;32melse\u001b[0m\u001b[1;33m:\u001b[0m\u001b[1;33m\u001b[0m\u001b[0m\n\u001b[0;32m   1176\u001b[0m             \u001b[0mst\u001b[0m \u001b[1;33m=\u001b[0m \u001b[0mclock2\u001b[0m\u001b[1;33m(\u001b[0m\u001b[1;33m)\u001b[0m\u001b[1;33m\u001b[0m\u001b[0m\n\u001b[1;32m-> 1177\u001b[1;33m             \u001b[1;32mexec\u001b[0m\u001b[1;33m(\u001b[0m\u001b[0mcode\u001b[0m\u001b[1;33m,\u001b[0m \u001b[0mglob\u001b[0m\u001b[1;33m,\u001b[0m \u001b[0mlocal_ns\u001b[0m\u001b[1;33m)\u001b[0m\u001b[1;33m\u001b[0m\u001b[0m\n\u001b[0m\u001b[0;32m   1178\u001b[0m             \u001b[0mend\u001b[0m \u001b[1;33m=\u001b[0m \u001b[0mclock2\u001b[0m\u001b[1;33m(\u001b[0m\u001b[1;33m)\u001b[0m\u001b[1;33m\u001b[0m\u001b[0m\n\u001b[0;32m   1179\u001b[0m             \u001b[0mout\u001b[0m \u001b[1;33m=\u001b[0m \u001b[0mNone\u001b[0m\u001b[1;33m\u001b[0m\u001b[0m\n",
      "\u001b[1;32m<timed exec>\u001b[0m in \u001b[0;36m<module>\u001b[1;34m()\u001b[0m\n",
      "\u001b[1;32m/home/ubuntu/xgboost/python-package/xgboost/training.pyc\u001b[0m in \u001b[0;36mcv\u001b[1;34m(params, dtrain, num_boost_round, nfold, stratified, folds, metrics, obj, feval, maximize, early_stopping_rounds, fpreproc, as_pandas, verbose_eval, show_stdv, seed, callbacks)\u001b[0m\n\u001b[0;32m    394\u001b[0m                            evaluation_result_list=None))\n\u001b[0;32m    395\u001b[0m         \u001b[1;32mfor\u001b[0m \u001b[0mfold\u001b[0m \u001b[1;32min\u001b[0m \u001b[0mcvfolds\u001b[0m\u001b[1;33m:\u001b[0m\u001b[1;33m\u001b[0m\u001b[0m\n\u001b[1;32m--> 396\u001b[1;33m             \u001b[0mfold\u001b[0m\u001b[1;33m.\u001b[0m\u001b[0mupdate\u001b[0m\u001b[1;33m(\u001b[0m\u001b[0mi\u001b[0m\u001b[1;33m,\u001b[0m \u001b[0mobj\u001b[0m\u001b[1;33m)\u001b[0m\u001b[1;33m\u001b[0m\u001b[0m\n\u001b[0m\u001b[0;32m    397\u001b[0m         \u001b[0mres\u001b[0m \u001b[1;33m=\u001b[0m \u001b[0maggcv\u001b[0m\u001b[1;33m(\u001b[0m\u001b[1;33m[\u001b[0m\u001b[0mf\u001b[0m\u001b[1;33m.\u001b[0m\u001b[0meval\u001b[0m\u001b[1;33m(\u001b[0m\u001b[0mi\u001b[0m\u001b[1;33m,\u001b[0m \u001b[0mfeval\u001b[0m\u001b[1;33m)\u001b[0m \u001b[1;32mfor\u001b[0m \u001b[0mf\u001b[0m \u001b[1;32min\u001b[0m \u001b[0mcvfolds\u001b[0m\u001b[1;33m]\u001b[0m\u001b[1;33m)\u001b[0m\u001b[1;33m\u001b[0m\u001b[0m\n\u001b[0;32m    398\u001b[0m \u001b[1;33m\u001b[0m\u001b[0m\n",
      "\u001b[1;32m/home/ubuntu/xgboost/python-package/xgboost/training.pyc\u001b[0m in \u001b[0;36mupdate\u001b[1;34m(self, iteration, fobj)\u001b[0m\n\u001b[0;32m    215\u001b[0m     \u001b[1;32mdef\u001b[0m \u001b[0mupdate\u001b[0m\u001b[1;33m(\u001b[0m\u001b[0mself\u001b[0m\u001b[1;33m,\u001b[0m \u001b[0miteration\u001b[0m\u001b[1;33m,\u001b[0m \u001b[0mfobj\u001b[0m\u001b[1;33m)\u001b[0m\u001b[1;33m:\u001b[0m\u001b[1;33m\u001b[0m\u001b[0m\n\u001b[0;32m    216\u001b[0m         \u001b[1;34m\"\"\"\"Update the boosters for one iteration\"\"\"\u001b[0m\u001b[1;33m\u001b[0m\u001b[0m\n\u001b[1;32m--> 217\u001b[1;33m         \u001b[0mself\u001b[0m\u001b[1;33m.\u001b[0m\u001b[0mbst\u001b[0m\u001b[1;33m.\u001b[0m\u001b[0mupdate\u001b[0m\u001b[1;33m(\u001b[0m\u001b[0mself\u001b[0m\u001b[1;33m.\u001b[0m\u001b[0mdtrain\u001b[0m\u001b[1;33m,\u001b[0m \u001b[0miteration\u001b[0m\u001b[1;33m,\u001b[0m \u001b[0mfobj\u001b[0m\u001b[1;33m)\u001b[0m\u001b[1;33m\u001b[0m\u001b[0m\n\u001b[0m\u001b[0;32m    218\u001b[0m \u001b[1;33m\u001b[0m\u001b[0m\n\u001b[0;32m    219\u001b[0m     \u001b[1;32mdef\u001b[0m \u001b[0meval\u001b[0m\u001b[1;33m(\u001b[0m\u001b[0mself\u001b[0m\u001b[1;33m,\u001b[0m \u001b[0miteration\u001b[0m\u001b[1;33m,\u001b[0m \u001b[0mfeval\u001b[0m\u001b[1;33m)\u001b[0m\u001b[1;33m:\u001b[0m\u001b[1;33m\u001b[0m\u001b[0m\n",
      "\u001b[1;32m/home/ubuntu/xgboost/python-package/xgboost/core.pyc\u001b[0m in \u001b[0;36mupdate\u001b[1;34m(self, dtrain, iteration, fobj)\u001b[0m\n\u001b[0;32m    817\u001b[0m \u001b[1;33m\u001b[0m\u001b[0m\n\u001b[0;32m    818\u001b[0m         \u001b[1;32mif\u001b[0m \u001b[0mfobj\u001b[0m \u001b[1;32mis\u001b[0m \u001b[0mNone\u001b[0m\u001b[1;33m:\u001b[0m\u001b[1;33m\u001b[0m\u001b[0m\n\u001b[1;32m--> 819\u001b[1;33m             \u001b[0m_check_call\u001b[0m\u001b[1;33m(\u001b[0m\u001b[0m_LIB\u001b[0m\u001b[1;33m.\u001b[0m\u001b[0mXGBoosterUpdateOneIter\u001b[0m\u001b[1;33m(\u001b[0m\u001b[0mself\u001b[0m\u001b[1;33m.\u001b[0m\u001b[0mhandle\u001b[0m\u001b[1;33m,\u001b[0m \u001b[0miteration\u001b[0m\u001b[1;33m,\u001b[0m \u001b[0mdtrain\u001b[0m\u001b[1;33m.\u001b[0m\u001b[0mhandle\u001b[0m\u001b[1;33m)\u001b[0m\u001b[1;33m)\u001b[0m\u001b[1;33m\u001b[0m\u001b[0m\n\u001b[0m\u001b[0;32m    820\u001b[0m         \u001b[1;32melse\u001b[0m\u001b[1;33m:\u001b[0m\u001b[1;33m\u001b[0m\u001b[0m\n\u001b[0;32m    821\u001b[0m             \u001b[0mpred\u001b[0m \u001b[1;33m=\u001b[0m \u001b[0mself\u001b[0m\u001b[1;33m.\u001b[0m\u001b[0mpredict\u001b[0m\u001b[1;33m(\u001b[0m\u001b[0mdtrain\u001b[0m\u001b[1;33m)\u001b[0m\u001b[1;33m\u001b[0m\u001b[0m\n",
      "\u001b[1;31mKeyboardInterrupt\u001b[0m: "
     ]
    }
   ],
   "source": [
    "%%time\n",
    "param = {'min_child_weight': 100,\n",
    "        'eta': 0.001,\n",
    "        'colsample_bytree': 1.0,\n",
    "        'max_depth': 5,\n",
    "        'subsample': 1.0,\n",
    "        #'alpha': 1,\n",
    "        #'gamma': 1,\n",
    "        #'silent': 1,\n",
    "        'eval_metric' : 'mae',\n",
    "        'objective': 'reg:linear',\n",
    "        'verbose_eval': True}\n",
    "num_round = 2380\n",
    "\n",
    "xgtrain = xgb.DMatrix(X, y)\n",
    "\n",
    "t = xgb.cv(param, xgtrain, num_boost_round=num_round, nfold=5, show_stdv=0, seed=0, verbose_eval=10)\n",
    "#print t['test-mlogloss-mean'].min()\n",
    "#print t['test-mlogloss-mean'].argmin() + 1"
   ]
  },
  {
   "cell_type": "code",
   "execution_count": null,
   "metadata": {
    "collapsed": true
   },
   "outputs": [],
   "source": [
    "6 - 1140\n",
    "100 -1138"
   ]
  },
  {
   "cell_type": "markdown",
   "metadata": {},
   "source": [
    "## Тест ctack"
   ]
  },
  {
   "cell_type": "code",
   "execution_count": 30,
   "metadata": {
    "collapsed": false
   },
   "outputs": [],
   "source": [
    "forest = pd.DataFrame.from_csv(\"stack/forest_test.csv\",index_col=None)\n",
    "boost = pd.DataFrame.from_csv(\"stack/boost_test.csv\",index_col=None)\n",
    "knn2 = pd.DataFrame.from_csv(\"stack/knn2_test.csv\",index_col=None)\n",
    "knn4 = pd.DataFrame.from_csv(\"stack/knn4_test.csv\",index_col=None)\n",
    "knn8 = pd.DataFrame.from_csv(\"stack/knn8_test.csv\",index_col=None)\n",
    "knn16 = pd.DataFrame.from_csv(\"stack/knn16_test.csv\",index_col=None)\n",
    "knn32 = pd.DataFrame.from_csv(\"stack/knn32_test.csv\",index_col=None)\n",
    "knn64 = pd.DataFrame.from_csv(\"stack/knn64_test.csv\",index_col=None)\n",
    "knn128 = pd.DataFrame.from_csv(\"stack/knn128_test.csv\",index_col=None)\n"
   ]
  },
  {
   "cell_type": "code",
   "execution_count": 31,
   "metadata": {
    "collapsed": true
   },
   "outputs": [],
   "source": [
    "X = pd.concat([forest, boost, knn2, knn4,knn8,knn16,knn32,knn64,knn128],axis=1)\n",
    "X.columns = ['forest', 'boost', 'knn2', 'knn4', 'knn8', 'knn16', 'knn32', 'knn64', 'knn128']"
   ]
  },
  {
   "cell_type": "code",
   "execution_count": 130,
   "metadata": {
    "collapsed": true
   },
   "outputs": [],
   "source": [
    "forest = pd.DataFrame.from_csv(\"stack/forest_test.csv\",index_col=None)\n",
    "boost = pd.DataFrame.from_csv(\"stack/boost_test.csv\",index_col=None)\n",
    "lin = pd.DataFrame.from_csv(\"stack/lin_test.csv\",index_col=None)"
   ]
  },
  {
   "cell_type": "code",
   "execution_count": 131,
   "metadata": {
    "collapsed": true
   },
   "outputs": [],
   "source": [
    "X = pd.concat([forest, boost, lin],axis=1)\n",
    "X.columns = ['forest', 'boost', 'lin']"
   ]
  },
  {
   "cell_type": "code",
   "execution_count": 122,
   "metadata": {
    "collapsed": true
   },
   "outputs": [],
   "source": [
    "dtrain = xgb.DMatrix(data = X, label = y)\n",
    "bst = xgb.train(param, dtrain, num_round)"
   ]
  },
  {
   "cell_type": "code",
   "execution_count": 32,
   "metadata": {
    "collapsed": false
   },
   "outputs": [],
   "source": [
    "t = bst.predict(xgb.DMatrix(data = X))"
   ]
  },
  {
   "cell_type": "code",
   "execution_count": 33,
   "metadata": {
    "collapsed": false
   },
   "outputs": [
    {
     "data": {
      "text/plain": [
       "array([ 1571.10119629,  2120.32592773,  8106.91259766,  6112.26611328,\n",
       "         796.00994873,  2428.99584961,  2216.47363281,   860.95379639,\n",
       "        2457.09741211,  3115.43701172], dtype=float32)"
      ]
     },
     "execution_count": 33,
     "metadata": {},
     "output_type": "execute_result"
    }
   ],
   "source": [
    "t[:10]"
   ]
  },
  {
   "cell_type": "markdown",
   "metadata": {
    "collapsed": true
   },
   "source": [
    "## Тест"
   ]
  },
  {
   "cell_type": "code",
   "execution_count": 36,
   "metadata": {
    "collapsed": true
   },
   "outputs": [],
   "source": [
    "test = pd.DataFrame.from_csv(\"test.csv\",index_col=None)"
   ]
  },
  {
   "cell_type": "code",
   "execution_count": 14,
   "metadata": {
    "collapsed": false
   },
   "outputs": [
    {
     "data": {
      "text/plain": [
       "(125546, 131)"
      ]
     },
     "execution_count": 14,
     "metadata": {},
     "output_type": "execute_result"
    }
   ],
   "source": [
    "test.shape"
   ]
  },
  {
   "cell_type": "code",
   "execution_count": 15,
   "metadata": {
    "collapsed": true
   },
   "outputs": [],
   "source": [
    "test_encode = test[[\"cat80\",\"cat87\",\"cat57\",\"cat12\",\"cat79\",\"cat10\",\"cat7\",\"cat89\",\"cat2\",\"cat72\", \\\n",
    "             \"cat81\",\"cat11\",\"cat1\",\"cat13\",\"cat9\",\"cat3\",\"cat16\",\"cat90\",\"cat23\",\"cat36\", \\\n",
    "             \"cat73\",\"cat103\",\"cat40\",\"cat28\",\"cat111\",\"cat6\",\"cat76\",\"cat50\",\"cat5\", \\\n",
    "             \"cat4\",\"cat14\",\"cat38\",\"cat24\",\"cat82\",\"cat25\"]]"
   ]
  },
  {
   "cell_type": "code",
   "execution_count": 16,
   "metadata": {
    "collapsed": false
   },
   "outputs": [],
   "source": [
    "test_encode = test.ix[:, 1:117]"
   ]
  },
  {
   "cell_type": "code",
   "execution_count": 16,
   "metadata": {
    "collapsed": false
   },
   "outputs": [],
   "source": [
    "test_encode = pd.get_dummies(test_encode[:])\n"
   ]
  },
  {
   "cell_type": "code",
   "execution_count": 17,
   "metadata": {
    "collapsed": false
   },
   "outputs": [],
   "source": [
    "#test_encode = le.transform(test_encode)"
   ]
  },
  {
   "cell_type": "code",
   "execution_count": 18,
   "metadata": {
    "collapsed": true
   },
   "outputs": [],
   "source": [
    "test_encode =  pd.concat([test_encode, test.ix[:, 117:131]],axis=1)"
   ]
  },
  {
   "cell_type": "code",
   "execution_count": 19,
   "metadata": {
    "collapsed": false
   },
   "outputs": [
    {
     "data": {
      "text/html": [
       "<div>\n",
       "<table border=\"1\" class=\"dataframe\">\n",
       "  <thead>\n",
       "    <tr style=\"text-align: right;\">\n",
       "      <th></th>\n",
       "      <th>cat80_A</th>\n",
       "      <th>cat80_B</th>\n",
       "      <th>cat80_C</th>\n",
       "      <th>cat80_D</th>\n",
       "      <th>cat87_A</th>\n",
       "      <th>cat87_B</th>\n",
       "      <th>cat87_C</th>\n",
       "      <th>cat87_D</th>\n",
       "      <th>cat57_A</th>\n",
       "      <th>cat57_B</th>\n",
       "      <th>...</th>\n",
       "      <th>cont5</th>\n",
       "      <th>cont6</th>\n",
       "      <th>cont7</th>\n",
       "      <th>cont8</th>\n",
       "      <th>cont9</th>\n",
       "      <th>cont10</th>\n",
       "      <th>cont11</th>\n",
       "      <th>cont12</th>\n",
       "      <th>cont13</th>\n",
       "      <th>cont14</th>\n",
       "    </tr>\n",
       "  </thead>\n",
       "  <tbody>\n",
       "    <tr>\n",
       "      <th>0</th>\n",
       "      <td>0</td>\n",
       "      <td>0</td>\n",
       "      <td>0</td>\n",
       "      <td>1</td>\n",
       "      <td>0</td>\n",
       "      <td>1</td>\n",
       "      <td>0</td>\n",
       "      <td>0</td>\n",
       "      <td>1</td>\n",
       "      <td>0</td>\n",
       "      <td>...</td>\n",
       "      <td>0.281143</td>\n",
       "      <td>0.466591</td>\n",
       "      <td>0.317681</td>\n",
       "      <td>0.61229</td>\n",
       "      <td>0.34365</td>\n",
       "      <td>0.38016</td>\n",
       "      <td>0.377724</td>\n",
       "      <td>0.369858</td>\n",
       "      <td>0.704052</td>\n",
       "      <td>0.392562</td>\n",
       "    </tr>\n",
       "    <tr>\n",
       "      <th>1</th>\n",
       "      <td>0</td>\n",
       "      <td>0</td>\n",
       "      <td>0</td>\n",
       "      <td>1</td>\n",
       "      <td>0</td>\n",
       "      <td>1</td>\n",
       "      <td>0</td>\n",
       "      <td>0</td>\n",
       "      <td>1</td>\n",
       "      <td>0</td>\n",
       "      <td>...</td>\n",
       "      <td>0.836443</td>\n",
       "      <td>0.482425</td>\n",
       "      <td>0.443760</td>\n",
       "      <td>0.71330</td>\n",
       "      <td>0.51890</td>\n",
       "      <td>0.60401</td>\n",
       "      <td>0.689039</td>\n",
       "      <td>0.675759</td>\n",
       "      <td>0.453468</td>\n",
       "      <td>0.208045</td>\n",
       "    </tr>\n",
       "    <tr>\n",
       "      <th>2</th>\n",
       "      <td>0</td>\n",
       "      <td>1</td>\n",
       "      <td>0</td>\n",
       "      <td>0</td>\n",
       "      <td>0</td>\n",
       "      <td>1</td>\n",
       "      <td>0</td>\n",
       "      <td>0</td>\n",
       "      <td>0</td>\n",
       "      <td>1</td>\n",
       "      <td>...</td>\n",
       "      <td>0.718531</td>\n",
       "      <td>0.212308</td>\n",
       "      <td>0.325779</td>\n",
       "      <td>0.29758</td>\n",
       "      <td>0.34365</td>\n",
       "      <td>0.30529</td>\n",
       "      <td>0.245410</td>\n",
       "      <td>0.241676</td>\n",
       "      <td>0.258586</td>\n",
       "      <td>0.297232</td>\n",
       "    </tr>\n",
       "    <tr>\n",
       "      <th>3</th>\n",
       "      <td>0</td>\n",
       "      <td>1</td>\n",
       "      <td>0</td>\n",
       "      <td>0</td>\n",
       "      <td>0</td>\n",
       "      <td>0</td>\n",
       "      <td>0</td>\n",
       "      <td>1</td>\n",
       "      <td>1</td>\n",
       "      <td>0</td>\n",
       "      <td>...</td>\n",
       "      <td>0.397069</td>\n",
       "      <td>0.369930</td>\n",
       "      <td>0.342355</td>\n",
       "      <td>0.40028</td>\n",
       "      <td>0.33237</td>\n",
       "      <td>0.31480</td>\n",
       "      <td>0.348867</td>\n",
       "      <td>0.341872</td>\n",
       "      <td>0.592264</td>\n",
       "      <td>0.555955</td>\n",
       "    </tr>\n",
       "    <tr>\n",
       "      <th>4</th>\n",
       "      <td>0</td>\n",
       "      <td>0</td>\n",
       "      <td>0</td>\n",
       "      <td>1</td>\n",
       "      <td>0</td>\n",
       "      <td>1</td>\n",
       "      <td>0</td>\n",
       "      <td>0</td>\n",
       "      <td>1</td>\n",
       "      <td>0</td>\n",
       "      <td>...</td>\n",
       "      <td>0.302678</td>\n",
       "      <td>0.398862</td>\n",
       "      <td>0.391833</td>\n",
       "      <td>0.23688</td>\n",
       "      <td>0.43731</td>\n",
       "      <td>0.50556</td>\n",
       "      <td>0.359572</td>\n",
       "      <td>0.352251</td>\n",
       "      <td>0.301535</td>\n",
       "      <td>0.825823</td>\n",
       "    </tr>\n",
       "    <tr>\n",
       "      <th>5</th>\n",
       "      <td>0</td>\n",
       "      <td>0</td>\n",
       "      <td>0</td>\n",
       "      <td>1</td>\n",
       "      <td>0</td>\n",
       "      <td>1</td>\n",
       "      <td>0</td>\n",
       "      <td>0</td>\n",
       "      <td>1</td>\n",
       "      <td>0</td>\n",
       "      <td>...</td>\n",
       "      <td>0.643315</td>\n",
       "      <td>0.407351</td>\n",
       "      <td>0.390540</td>\n",
       "      <td>0.46477</td>\n",
       "      <td>0.46853</td>\n",
       "      <td>0.50556</td>\n",
       "      <td>0.607500</td>\n",
       "      <td>0.594646</td>\n",
       "      <td>0.250991</td>\n",
       "      <td>0.283976</td>\n",
       "    </tr>\n",
       "    <tr>\n",
       "      <th>6</th>\n",
       "      <td>0</td>\n",
       "      <td>0</td>\n",
       "      <td>0</td>\n",
       "      <td>1</td>\n",
       "      <td>0</td>\n",
       "      <td>1</td>\n",
       "      <td>0</td>\n",
       "      <td>0</td>\n",
       "      <td>1</td>\n",
       "      <td>0</td>\n",
       "      <td>...</td>\n",
       "      <td>0.281143</td>\n",
       "      <td>0.960845</td>\n",
       "      <td>0.740081</td>\n",
       "      <td>0.75964</td>\n",
       "      <td>0.98330</td>\n",
       "      <td>0.82249</td>\n",
       "      <td>0.863052</td>\n",
       "      <td>0.879347</td>\n",
       "      <td>0.888944</td>\n",
       "      <td>0.787807</td>\n",
       "    </tr>\n",
       "    <tr>\n",
       "      <th>7</th>\n",
       "      <td>0</td>\n",
       "      <td>0</td>\n",
       "      <td>0</td>\n",
       "      <td>1</td>\n",
       "      <td>0</td>\n",
       "      <td>1</td>\n",
       "      <td>0</td>\n",
       "      <td>0</td>\n",
       "      <td>1</td>\n",
       "      <td>0</td>\n",
       "      <td>...</td>\n",
       "      <td>0.651246</td>\n",
       "      <td>0.451115</td>\n",
       "      <td>0.316313</td>\n",
       "      <td>0.27320</td>\n",
       "      <td>0.52100</td>\n",
       "      <td>0.50556</td>\n",
       "      <td>0.415029</td>\n",
       "      <td>0.481306</td>\n",
       "      <td>0.199940</td>\n",
       "      <td>0.450597</td>\n",
       "    </tr>\n",
       "    <tr>\n",
       "      <th>8</th>\n",
       "      <td>0</td>\n",
       "      <td>0</td>\n",
       "      <td>0</td>\n",
       "      <td>1</td>\n",
       "      <td>0</td>\n",
       "      <td>1</td>\n",
       "      <td>0</td>\n",
       "      <td>0</td>\n",
       "      <td>1</td>\n",
       "      <td>0</td>\n",
       "      <td>...</td>\n",
       "      <td>0.534484</td>\n",
       "      <td>0.343492</td>\n",
       "      <td>0.358758</td>\n",
       "      <td>0.81900</td>\n",
       "      <td>0.32128</td>\n",
       "      <td>0.36458</td>\n",
       "      <td>0.453334</td>\n",
       "      <td>0.443374</td>\n",
       "      <td>0.695650</td>\n",
       "      <td>0.295075</td>\n",
       "    </tr>\n",
       "    <tr>\n",
       "      <th>9</th>\n",
       "      <td>0</td>\n",
       "      <td>0</td>\n",
       "      <td>1</td>\n",
       "      <td>0</td>\n",
       "      <td>0</td>\n",
       "      <td>1</td>\n",
       "      <td>0</td>\n",
       "      <td>0</td>\n",
       "      <td>1</td>\n",
       "      <td>0</td>\n",
       "      <td>...</td>\n",
       "      <td>0.281143</td>\n",
       "      <td>0.394921</td>\n",
       "      <td>0.287416</td>\n",
       "      <td>0.92347</td>\n",
       "      <td>0.48320</td>\n",
       "      <td>0.24766</td>\n",
       "      <td>0.359572</td>\n",
       "      <td>0.352251</td>\n",
       "      <td>0.519989</td>\n",
       "      <td>0.602666</td>\n",
       "    </tr>\n",
       "  </tbody>\n",
       "</table>\n",
       "<p>10 rows × 132 columns</p>\n",
       "</div>"
      ],
      "text/plain": [
       "   cat80_A  cat80_B  cat80_C  cat80_D  cat87_A  cat87_B  cat87_C  cat87_D  \\\n",
       "0        0        0        0        1        0        1        0        0   \n",
       "1        0        0        0        1        0        1        0        0   \n",
       "2        0        1        0        0        0        1        0        0   \n",
       "3        0        1        0        0        0        0        0        1   \n",
       "4        0        0        0        1        0        1        0        0   \n",
       "5        0        0        0        1        0        1        0        0   \n",
       "6        0        0        0        1        0        1        0        0   \n",
       "7        0        0        0        1        0        1        0        0   \n",
       "8        0        0        0        1        0        1        0        0   \n",
       "9        0        0        1        0        0        1        0        0   \n",
       "\n",
       "   cat57_A  cat57_B    ...        cont5     cont6     cont7    cont8    cont9  \\\n",
       "0        1        0    ...     0.281143  0.466591  0.317681  0.61229  0.34365   \n",
       "1        1        0    ...     0.836443  0.482425  0.443760  0.71330  0.51890   \n",
       "2        0        1    ...     0.718531  0.212308  0.325779  0.29758  0.34365   \n",
       "3        1        0    ...     0.397069  0.369930  0.342355  0.40028  0.33237   \n",
       "4        1        0    ...     0.302678  0.398862  0.391833  0.23688  0.43731   \n",
       "5        1        0    ...     0.643315  0.407351  0.390540  0.46477  0.46853   \n",
       "6        1        0    ...     0.281143  0.960845  0.740081  0.75964  0.98330   \n",
       "7        1        0    ...     0.651246  0.451115  0.316313  0.27320  0.52100   \n",
       "8        1        0    ...     0.534484  0.343492  0.358758  0.81900  0.32128   \n",
       "9        1        0    ...     0.281143  0.394921  0.287416  0.92347  0.48320   \n",
       "\n",
       "    cont10    cont11    cont12    cont13    cont14  \n",
       "0  0.38016  0.377724  0.369858  0.704052  0.392562  \n",
       "1  0.60401  0.689039  0.675759  0.453468  0.208045  \n",
       "2  0.30529  0.245410  0.241676  0.258586  0.297232  \n",
       "3  0.31480  0.348867  0.341872  0.592264  0.555955  \n",
       "4  0.50556  0.359572  0.352251  0.301535  0.825823  \n",
       "5  0.50556  0.607500  0.594646  0.250991  0.283976  \n",
       "6  0.82249  0.863052  0.879347  0.888944  0.787807  \n",
       "7  0.50556  0.415029  0.481306  0.199940  0.450597  \n",
       "8  0.36458  0.453334  0.443374  0.695650  0.295075  \n",
       "9  0.24766  0.359572  0.352251  0.519989  0.602666  \n",
       "\n",
       "[10 rows x 132 columns]"
      ]
     },
     "execution_count": 19,
     "metadata": {},
     "output_type": "execute_result"
    }
   ],
   "source": [
    "test_encode[:10]"
   ]
  },
  {
   "cell_type": "code",
   "execution_count": 20,
   "metadata": {
    "collapsed": false
   },
   "outputs": [],
   "source": [
    "undef = []\n",
    "for i in test_encode.columns.values:\n",
    "    if i not in train_encode:\n",
    "        undef += [i]"
   ]
  },
  {
   "cell_type": "code",
   "execution_count": 21,
   "metadata": {
    "collapsed": true
   },
   "outputs": [],
   "source": [
    "test_encode = test_encode.drop(undef, axis=1)"
   ]
  },
  {
   "cell_type": "code",
   "execution_count": 22,
   "metadata": {
    "collapsed": false
   },
   "outputs": [],
   "source": [
    "for i in train_encode.columns.values:\n",
    "    if i in test_encode:\n",
    "        test_encode.ix[:, i] = test_encode.ix[:, i]\n",
    "    else:\n",
    "        test_encode[i] = 0"
   ]
  },
  {
   "cell_type": "code",
   "execution_count": 23,
   "metadata": {
    "collapsed": false
   },
   "outputs": [
    {
     "data": {
      "text/plain": [
       "(132,)"
      ]
     },
     "execution_count": 23,
     "metadata": {},
     "output_type": "execute_result"
    }
   ],
   "source": [
    "test_encode.columns.unique().shape"
   ]
  },
  {
   "cell_type": "code",
   "execution_count": 24,
   "metadata": {
    "collapsed": false
   },
   "outputs": [
    {
     "data": {
      "text/html": [
       "<div>\n",
       "<table border=\"1\" class=\"dataframe\">\n",
       "  <thead>\n",
       "    <tr style=\"text-align: right;\">\n",
       "      <th></th>\n",
       "      <th>cat103_A</th>\n",
       "      <th>cat103_B</th>\n",
       "      <th>cat103_C</th>\n",
       "      <th>cat103_D</th>\n",
       "      <th>cat103_E</th>\n",
       "      <th>cat103_F</th>\n",
       "      <th>cat103_G</th>\n",
       "      <th>cat103_H</th>\n",
       "      <th>cat103_I</th>\n",
       "      <th>cat103_J</th>\n",
       "      <th>...</th>\n",
       "      <th>cont13</th>\n",
       "      <th>cont14</th>\n",
       "      <th>cont2</th>\n",
       "      <th>cont3</th>\n",
       "      <th>cont4</th>\n",
       "      <th>cont5</th>\n",
       "      <th>cont6</th>\n",
       "      <th>cont7</th>\n",
       "      <th>cont8</th>\n",
       "      <th>cont9</th>\n",
       "    </tr>\n",
       "  </thead>\n",
       "  <tbody>\n",
       "    <tr>\n",
       "      <th>0</th>\n",
       "      <td>1</td>\n",
       "      <td>0</td>\n",
       "      <td>0</td>\n",
       "      <td>0</td>\n",
       "      <td>0</td>\n",
       "      <td>0</td>\n",
       "      <td>0</td>\n",
       "      <td>0</td>\n",
       "      <td>0</td>\n",
       "      <td>0</td>\n",
       "      <td>...</td>\n",
       "      <td>0.704052</td>\n",
       "      <td>0.392562</td>\n",
       "      <td>0.299102</td>\n",
       "      <td>0.246911</td>\n",
       "      <td>0.402922</td>\n",
       "      <td>0.281143</td>\n",
       "      <td>0.466591</td>\n",
       "      <td>0.317681</td>\n",
       "      <td>0.61229</td>\n",
       "      <td>0.34365</td>\n",
       "    </tr>\n",
       "    <tr>\n",
       "      <th>1</th>\n",
       "      <td>1</td>\n",
       "      <td>0</td>\n",
       "      <td>0</td>\n",
       "      <td>0</td>\n",
       "      <td>0</td>\n",
       "      <td>0</td>\n",
       "      <td>0</td>\n",
       "      <td>0</td>\n",
       "      <td>0</td>\n",
       "      <td>0</td>\n",
       "      <td>...</td>\n",
       "      <td>0.453468</td>\n",
       "      <td>0.208045</td>\n",
       "      <td>0.620805</td>\n",
       "      <td>0.654310</td>\n",
       "      <td>0.946616</td>\n",
       "      <td>0.836443</td>\n",
       "      <td>0.482425</td>\n",
       "      <td>0.443760</td>\n",
       "      <td>0.71330</td>\n",
       "      <td>0.51890</td>\n",
       "    </tr>\n",
       "    <tr>\n",
       "      <th>2</th>\n",
       "      <td>0</td>\n",
       "      <td>0</td>\n",
       "      <td>0</td>\n",
       "      <td>1</td>\n",
       "      <td>0</td>\n",
       "      <td>0</td>\n",
       "      <td>0</td>\n",
       "      <td>0</td>\n",
       "      <td>0</td>\n",
       "      <td>0</td>\n",
       "      <td>...</td>\n",
       "      <td>0.258586</td>\n",
       "      <td>0.297232</td>\n",
       "      <td>0.737068</td>\n",
       "      <td>0.711159</td>\n",
       "      <td>0.412789</td>\n",
       "      <td>0.718531</td>\n",
       "      <td>0.212308</td>\n",
       "      <td>0.325779</td>\n",
       "      <td>0.29758</td>\n",
       "      <td>0.34365</td>\n",
       "    </tr>\n",
       "    <tr>\n",
       "      <th>3</th>\n",
       "      <td>0</td>\n",
       "      <td>0</td>\n",
       "      <td>0</td>\n",
       "      <td>1</td>\n",
       "      <td>0</td>\n",
       "      <td>0</td>\n",
       "      <td>0</td>\n",
       "      <td>0</td>\n",
       "      <td>0</td>\n",
       "      <td>0</td>\n",
       "      <td>...</td>\n",
       "      <td>0.592264</td>\n",
       "      <td>0.555955</td>\n",
       "      <td>0.681761</td>\n",
       "      <td>0.592681</td>\n",
       "      <td>0.354893</td>\n",
       "      <td>0.397069</td>\n",
       "      <td>0.369930</td>\n",
       "      <td>0.342355</td>\n",
       "      <td>0.40028</td>\n",
       "      <td>0.33237</td>\n",
       "    </tr>\n",
       "    <tr>\n",
       "      <th>4</th>\n",
       "      <td>1</td>\n",
       "      <td>0</td>\n",
       "      <td>0</td>\n",
       "      <td>0</td>\n",
       "      <td>0</td>\n",
       "      <td>0</td>\n",
       "      <td>0</td>\n",
       "      <td>0</td>\n",
       "      <td>0</td>\n",
       "      <td>0</td>\n",
       "      <td>...</td>\n",
       "      <td>0.301535</td>\n",
       "      <td>0.825823</td>\n",
       "      <td>0.299102</td>\n",
       "      <td>0.263570</td>\n",
       "      <td>0.696873</td>\n",
       "      <td>0.302678</td>\n",
       "      <td>0.398862</td>\n",
       "      <td>0.391833</td>\n",
       "      <td>0.23688</td>\n",
       "      <td>0.43731</td>\n",
       "    </tr>\n",
       "    <tr>\n",
       "      <th>5</th>\n",
       "      <td>0</td>\n",
       "      <td>0</td>\n",
       "      <td>1</td>\n",
       "      <td>0</td>\n",
       "      <td>0</td>\n",
       "      <td>0</td>\n",
       "      <td>0</td>\n",
       "      <td>0</td>\n",
       "      <td>0</td>\n",
       "      <td>0</td>\n",
       "      <td>...</td>\n",
       "      <td>0.250991</td>\n",
       "      <td>0.283976</td>\n",
       "      <td>0.245921</td>\n",
       "      <td>0.397983</td>\n",
       "      <td>0.849584</td>\n",
       "      <td>0.643315</td>\n",
       "      <td>0.407351</td>\n",
       "      <td>0.390540</td>\n",
       "      <td>0.46477</td>\n",
       "      <td>0.46853</td>\n",
       "    </tr>\n",
       "    <tr>\n",
       "      <th>6</th>\n",
       "      <td>0</td>\n",
       "      <td>1</td>\n",
       "      <td>0</td>\n",
       "      <td>0</td>\n",
       "      <td>0</td>\n",
       "      <td>0</td>\n",
       "      <td>0</td>\n",
       "      <td>0</td>\n",
       "      <td>0</td>\n",
       "      <td>0</td>\n",
       "      <td>...</td>\n",
       "      <td>0.888944</td>\n",
       "      <td>0.787807</td>\n",
       "      <td>0.620805</td>\n",
       "      <td>0.356819</td>\n",
       "      <td>0.838840</td>\n",
       "      <td>0.281143</td>\n",
       "      <td>0.960845</td>\n",
       "      <td>0.740081</td>\n",
       "      <td>0.75964</td>\n",
       "      <td>0.98330</td>\n",
       "    </tr>\n",
       "    <tr>\n",
       "      <th>7</th>\n",
       "      <td>1</td>\n",
       "      <td>0</td>\n",
       "      <td>0</td>\n",
       "      <td>0</td>\n",
       "      <td>0</td>\n",
       "      <td>0</td>\n",
       "      <td>0</td>\n",
       "      <td>0</td>\n",
       "      <td>0</td>\n",
       "      <td>0</td>\n",
       "      <td>...</td>\n",
       "      <td>0.199940</td>\n",
       "      <td>0.450597</td>\n",
       "      <td>0.047297</td>\n",
       "      <td>0.129646</td>\n",
       "      <td>0.864586</td>\n",
       "      <td>0.651246</td>\n",
       "      <td>0.451115</td>\n",
       "      <td>0.316313</td>\n",
       "      <td>0.27320</td>\n",
       "      <td>0.52100</td>\n",
       "    </tr>\n",
       "    <tr>\n",
       "      <th>8</th>\n",
       "      <td>1</td>\n",
       "      <td>0</td>\n",
       "      <td>0</td>\n",
       "      <td>0</td>\n",
       "      <td>0</td>\n",
       "      <td>0</td>\n",
       "      <td>0</td>\n",
       "      <td>0</td>\n",
       "      <td>0</td>\n",
       "      <td>0</td>\n",
       "      <td>...</td>\n",
       "      <td>0.695650</td>\n",
       "      <td>0.295075</td>\n",
       "      <td>0.245921</td>\n",
       "      <td>0.484196</td>\n",
       "      <td>0.463029</td>\n",
       "      <td>0.534484</td>\n",
       "      <td>0.343492</td>\n",
       "      <td>0.358758</td>\n",
       "      <td>0.81900</td>\n",
       "      <td>0.32128</td>\n",
       "    </tr>\n",
       "    <tr>\n",
       "      <th>9</th>\n",
       "      <td>1</td>\n",
       "      <td>0</td>\n",
       "      <td>0</td>\n",
       "      <td>0</td>\n",
       "      <td>0</td>\n",
       "      <td>0</td>\n",
       "      <td>0</td>\n",
       "      <td>0</td>\n",
       "      <td>0</td>\n",
       "      <td>0</td>\n",
       "      <td>...</td>\n",
       "      <td>0.519989</td>\n",
       "      <td>0.602666</td>\n",
       "      <td>0.488789</td>\n",
       "      <td>0.397983</td>\n",
       "      <td>0.775744</td>\n",
       "      <td>0.281143</td>\n",
       "      <td>0.394921</td>\n",
       "      <td>0.287416</td>\n",
       "      <td>0.92347</td>\n",
       "      <td>0.48320</td>\n",
       "    </tr>\n",
       "  </tbody>\n",
       "</table>\n",
       "<p>10 rows × 132 columns</p>\n",
       "</div>"
      ],
      "text/plain": [
       "   cat103_A  cat103_B  cat103_C  cat103_D  cat103_E  cat103_F  cat103_G  \\\n",
       "0         1         0         0         0         0         0         0   \n",
       "1         1         0         0         0         0         0         0   \n",
       "2         0         0         0         1         0         0         0   \n",
       "3         0         0         0         1         0         0         0   \n",
       "4         1         0         0         0         0         0         0   \n",
       "5         0         0         1         0         0         0         0   \n",
       "6         0         1         0         0         0         0         0   \n",
       "7         1         0         0         0         0         0         0   \n",
       "8         1         0         0         0         0         0         0   \n",
       "9         1         0         0         0         0         0         0   \n",
       "\n",
       "   cat103_H  cat103_I  cat103_J   ...       cont13    cont14     cont2  \\\n",
       "0         0         0         0   ...     0.704052  0.392562  0.299102   \n",
       "1         0         0         0   ...     0.453468  0.208045  0.620805   \n",
       "2         0         0         0   ...     0.258586  0.297232  0.737068   \n",
       "3         0         0         0   ...     0.592264  0.555955  0.681761   \n",
       "4         0         0         0   ...     0.301535  0.825823  0.299102   \n",
       "5         0         0         0   ...     0.250991  0.283976  0.245921   \n",
       "6         0         0         0   ...     0.888944  0.787807  0.620805   \n",
       "7         0         0         0   ...     0.199940  0.450597  0.047297   \n",
       "8         0         0         0   ...     0.695650  0.295075  0.245921   \n",
       "9         0         0         0   ...     0.519989  0.602666  0.488789   \n",
       "\n",
       "      cont3     cont4     cont5     cont6     cont7    cont8    cont9  \n",
       "0  0.246911  0.402922  0.281143  0.466591  0.317681  0.61229  0.34365  \n",
       "1  0.654310  0.946616  0.836443  0.482425  0.443760  0.71330  0.51890  \n",
       "2  0.711159  0.412789  0.718531  0.212308  0.325779  0.29758  0.34365  \n",
       "3  0.592681  0.354893  0.397069  0.369930  0.342355  0.40028  0.33237  \n",
       "4  0.263570  0.696873  0.302678  0.398862  0.391833  0.23688  0.43731  \n",
       "5  0.397983  0.849584  0.643315  0.407351  0.390540  0.46477  0.46853  \n",
       "6  0.356819  0.838840  0.281143  0.960845  0.740081  0.75964  0.98330  \n",
       "7  0.129646  0.864586  0.651246  0.451115  0.316313  0.27320  0.52100  \n",
       "8  0.484196  0.463029  0.534484  0.343492  0.358758  0.81900  0.32128  \n",
       "9  0.397983  0.775744  0.281143  0.394921  0.287416  0.92347  0.48320  \n",
       "\n",
       "[10 rows x 132 columns]"
      ]
     },
     "execution_count": 24,
     "metadata": {},
     "output_type": "execute_result"
    }
   ],
   "source": [
    "test_encode = test_encode.reindex_axis(sorted(test_encode.columns), axis=1)\n",
    "test_encode[:10]"
   ]
  },
  {
   "cell_type": "code",
   "execution_count": 28,
   "metadata": {
    "collapsed": false
   },
   "outputs": [
    {
     "ename": "NameError",
     "evalue": "name 'bst' is not defined",
     "output_type": "error",
     "traceback": [
      "\u001b[1;31m---------------------------------------------------------------------------\u001b[0m",
      "\u001b[1;31mNameError\u001b[0m                                 Traceback (most recent call last)",
      "\u001b[1;32m<ipython-input-28-d70a953330ff>\u001b[0m in \u001b[0;36m<module>\u001b[1;34m()\u001b[0m\n\u001b[1;32m----> 1\u001b[1;33m \u001b[0mboost_pred\u001b[0m \u001b[1;33m=\u001b[0m \u001b[0mbst\u001b[0m\u001b[1;33m.\u001b[0m\u001b[0mpredict\u001b[0m\u001b[1;33m(\u001b[0m\u001b[0mxgb\u001b[0m\u001b[1;33m.\u001b[0m\u001b[0mDMatrix\u001b[0m\u001b[1;33m(\u001b[0m\u001b[0mdata\u001b[0m \u001b[1;33m=\u001b[0m \u001b[0mtest_encode\u001b[0m\u001b[1;33m)\u001b[0m\u001b[1;33m)\u001b[0m\u001b[1;33m\u001b[0m\u001b[0m\n\u001b[0m",
      "\u001b[1;31mNameError\u001b[0m: name 'bst' is not defined"
     ]
    }
   ],
   "source": [
    "boost_pred = bst.predict(xgb.DMatrix(data = test_encode))"
   ]
  },
  {
   "cell_type": "code",
   "execution_count": 59,
   "metadata": {
    "collapsed": false
   },
   "outputs": [],
   "source": [
    "boost_pred = pd.DataFrame(boost_pred, columns = ['loss'])\n",
    "boost_pred = np.exp(boost_pred)- 200\n",
    "ids = pd.DataFrame(test.id, columns = ['id'])\n",
    "boost_pred = pd.concat([ids, boost_pred],axis=1)"
   ]
  },
  {
   "cell_type": "code",
   "execution_count": 60,
   "metadata": {
    "collapsed": false
   },
   "outputs": [
    {
     "data": {
      "text/plain": [
       "(125546, 132)"
      ]
     },
     "execution_count": 60,
     "metadata": {},
     "output_type": "execute_result"
    }
   ],
   "source": [
    "test_encode.shape"
   ]
  },
  {
   "cell_type": "code",
   "execution_count": 61,
   "metadata": {
    "collapsed": false
   },
   "outputs": [
    {
     "data": {
      "text/plain": [
       "id      0\n",
       "loss    0\n",
       "dtype: int64"
      ]
     },
     "execution_count": 61,
     "metadata": {},
     "output_type": "execute_result"
    }
   ],
   "source": [
    "boost_pred.isnull().sum()"
   ]
  },
  {
   "cell_type": "code",
   "execution_count": 62,
   "metadata": {
    "collapsed": true
   },
   "outputs": [],
   "source": [
    "boost_pred.to_csv('boost_feat.csv', index=False)"
   ]
  },
  {
   "cell_type": "code",
   "execution_count": 81,
   "metadata": {
    "collapsed": false
   },
   "outputs": [],
   "source": []
  },
  {
   "cell_type": "code",
   "execution_count": null,
   "metadata": {
    "collapsed": true
   },
   "outputs": [],
   "source": []
  }
 ],
 "metadata": {
  "kernelspec": {
   "display_name": "Python 2",
   "language": "python",
   "name": "python2"
  },
  "language_info": {
   "codemirror_mode": {
    "name": "ipython",
    "version": 2
   },
   "file_extension": ".py",
   "mimetype": "text/x-python",
   "name": "python",
   "nbconvert_exporter": "python",
   "pygments_lexer": "ipython2",
   "version": "2.7.12"
  }
 },
 "nbformat": 4,
 "nbformat_minor": 0
}
