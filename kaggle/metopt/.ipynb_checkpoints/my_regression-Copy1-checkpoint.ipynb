{
 "cells": [
  {
   "cell_type": "code",
   "execution_count": 15,
   "metadata": {
    "collapsed": true
   },
   "outputs": [],
   "source": [
    "import matplotlib\n",
    "def color_histogram_hsv(im, nbin=100, xmin=0, xmax=255, normalized=True):\n",
    "\n",
    "    ndim = im.ndim\n",
    "    bins = np.linspace(xmin, xmax, nbin+1)\n",
    "    hsv = matplotlib.colors.rgb_to_hsv(im/xmax) * xmax\n",
    "    imhist, bin_edges = np.histogram(hsv[:,:,0], bins=bins, density=normalized)\n",
    "    imhist = imhist * np.diff(bin_edges)\n",
    "\n",
    "    return imhist"
   ]
  },
  {
   "cell_type": "code",
   "execution_count": 16,
   "metadata": {
    "collapsed": true
   },
   "outputs": [],
   "source": [
    "# Стратифицированное разбиение на фолды\n",
    "def skf(a):\n",
    "    n = len(a)\n",
    "    b = [0, 0]\n",
    "    for i in a:\n",
    "        b[i] += 1\n",
    "    bb = []\n",
    "    for i in range(5):\n",
    "        bb += [[0, 0]]\n",
    "    for i in range(2):\n",
    "        for j in range(b[i] % 5):\n",
    "            bb[j][i] = b[i] // 5 + 1\n",
    "        for j in range(b[i] % 5, 5):\n",
    "            bb[j][i] = b[i] // 5;\n",
    " \n",
    "    cur = [0, 0]\n",
    "    c = []\n",
    "    for i in range(5):\n",
    "        c += [[0, 0]]\n",
    "    ans = []\n",
    "    for i in range(5):\n",
    "        ans += [[[], []]]\n",
    "    for i in range(n):\n",
    "        if c[cur[a[i]]][a[i]] < bb[cur[a[i]]][a[i]]:\n",
    "            for j in range(5):\n",
    "                if (cur[a[i]] == j):\n",
    "                    ans[j][0].append(i)\n",
    "                else:\n",
    "                    ans[j][1].append(i)\n",
    "            c[cur[a[i]]][a[i]] += 1\n",
    "            if (c[cur[a[i]]][a[i]] == bb[cur[a[i]]][a[i]]):\n",
    "                cur[a[i]] += 1;\n",
    "    return ans"
   ]
  },
  {
   "cell_type": "code",
   "execution_count": 17,
   "metadata": {
    "collapsed": true
   },
   "outputs": [],
   "source": [
    "# Трёхмерная гистограмма цветов\n",
    "def hist3d(img):\n",
    "    hist = np.zeros((8,8,8))\n",
    "    tmp = img // 32\n",
    "    for i in range(32):\n",
    "        for j in range(32):\n",
    "            hist[tmp[i,j,0],tmp[i,j,1],tmp[i,j,2]] += 1\n",
    "    return hist.flatten()"
   ]
  },
  {
   "cell_type": "code",
   "execution_count": 18,
   "metadata": {
    "collapsed": true
   },
   "outputs": [],
   "source": [
    "from scipy.ndimage import uniform_filter\n",
    "\n",
    "# Перевод в серый\n",
    "def rgb2gray(rgb):\n",
    "    return np.dot(rgb[...,:3], [0.299, 0.587, 0.144])\n",
    "\n",
    "# Фичи гистограмма направленных градиентов\n",
    "def hog (im):  \n",
    "\n",
    "    image = rgb2gray(im)\n",
    "    # Число направлений\n",
    "    vect_cnt = 9 \n",
    "    # Сколько пикселей на ячейку\n",
    "    cx, cy = (4, 4)\n",
    "\n",
    "    gx = np.zeros(image.shape)\n",
    "    gy = np.zeros(image.shape)\n",
    "    # Градиент по первой координате\n",
    "    gx[:, :-1] = np.diff(image, n=1, axis=1)\n",
    "    # Градиент по второй координате\n",
    "    gy[:-1, :] = np.diff(image, n=1, axis=0)\n",
    "    # Величина градиента\n",
    "    val = np.sqrt(gx ** 2 + gy ** 2)\n",
    "    # Направление градиента\n",
    "    direction = np.arctan2(gy, (gx + 1e-14)) * (180 / np.pi) + 90 \n",
    "    \n",
    "\n",
    "    # Число ячеек по первой координате\n",
    "    n_cellsx = int(np.floor(image.shape[0] / cx))\n",
    "    # Число ячеек по второй координате\n",
    "    n_cellsy = int(np.floor(image.shape[1] / cy))\n",
    "    hist = np.zeros((n_cellsx, n_cellsy, vect_cnt))\n",
    "    for i in range(vect_cnt):\n",
    "        temp_direction = np.where(direction < 180 / vect_cnt * (i + 1), direction, 0)\n",
    "        temp_direction = np.where(direction >= 180 / vect_cnt * i, temp_direction, 0)\n",
    "\n",
    "        cond2 = temp_direction > 0\n",
    "        temp_mag = np.where(cond2, val, 0)\n",
    "        hist[:,:,i] = uniform_filter(temp_mag, size=(cx, cy))[int(cx/2)::cx, int(cy/2)::cy].T\n",
    "  \n",
    "    return hist.ravel()"
   ]
  },
  {
   "cell_type": "code",
   "execution_count": 19,
   "metadata": {
    "collapsed": true
   },
   "outputs": [],
   "source": [
    "def compute_direction(x, y, threshold_delta):\n",
    "    return 1 if x - y > threshold_delta else 0\n",
    "\n",
    "# 7   0   1\n",
    "# 6   x   2\n",
    "# 5   4   3\n",
    "# Фичи Local binary patterns\n",
    "def compute_lbp(data, i, j, threshold_delta):\n",
    "    result = 0\n",
    "    result +=       compute_direction(data[i, j], data[i-1, j], threshold_delta)\n",
    "    result += 2   * compute_direction(data[i, j], data[i-1, j+1], threshold_delta)\n",
    "    result += 4   * compute_direction(data[i, j], data[i, j+1], threshold_delta)\n",
    "    result += 8   * compute_direction(data[i, j], data[i+1, j+1], threshold_delta)\n",
    "    result += 16  * compute_direction(data[i, j], data[i+1, j], threshold_delta)\n",
    "    result += 32  * compute_direction(data[i, j], data[i+1, j-1], threshold_delta)\n",
    "    result += 64  * compute_direction(data[i, j], data[i, j-1], threshold_delta)\n",
    "    result += 128 * compute_direction(data[i, j], data[i-1, j-1], threshold_delta)\n",
    "    return result"
   ]
  },
  {
   "cell_type": "code",
   "execution_count": 20,
   "metadata": {
    "collapsed": true
   },
   "outputs": [],
   "source": [
    "import sys\n",
    "import numpy as np\n",
    "from scipy.stats import logistic\n",
    " \n",
    "def rmse(predictions, targets):\n",
    "    return np.sqrt(((predictions - targets) ** 2).mean())\n",
    "\n",
    "def logloss(true_label, predicted, eps=1e-15):\n",
    "    p = np.clip(predicted, eps, 1 - eps)\n",
    "    if true_label == 1:\n",
    "        return -np.log(p)\n",
    "    else:\n",
    "        return -np.log(1 - p)\n",
    "    \n",
    "def log_loss(y_true, y_pred):\n",
    "    los = 0\n",
    "    for i in range(len(y_true)):\n",
    "\n",
    "\n",
    "        los += logloss(y_true[i][1], y_pred[i][1])\n",
    "            \n",
    "    return los / len(y_true)    \n",
    "    \n",
    "def log_loss1(y_true, y_pred):\n",
    "    los = 0\n",
    "    for i in range(len(y_true)):\n",
    "\n",
    "        los += logloss(y_true[i], y_pred[i])\n",
    "            \n",
    "    return los / len(y_true)     \n",
    "\n",
    "    \n",
    "def sigmoid(x):\n",
    "    return logistic.cdf(x)\n",
    "\"\"\"\n",
    "def softmax(x):\n",
    "    e = np.exp(x - np.max(x))  # prevent overflow\n",
    "    if e.ndim == 1:\n",
    "        return e / np.sum(e, axis=0)\n",
    "    else:  \n",
    "        return e / np.array([np.sum(e, axis=1)]).T  # ndim = 2\n",
    "\"\"\"\n",
    "\n",
    "def softmax(X, copy=True):\n",
    "\n",
    "    if copy:\n",
    "        X = np.copy(X)\n",
    "    max_prob = np.max(X, axis=1).reshape((-1, 1))\n",
    "    X -= max_prob\n",
    "    np.exp(X, X)\n",
    "    sum_prob = np.sum(X, axis=1).reshape((-1, 1))\n",
    "    X /= sum_prob\n",
    "    return X\n",
    "\n",
    "class LogisticRegression_(object):\n",
    "    def __init__(self, X, y, X_val, y_val):\n",
    "        self.X = X\n",
    "        self.y = y\n",
    "        self.X_val = X_val\n",
    "        self.y_val = y_val\n",
    "        self.W = np.zeros((X.shape[1], y.shape[1]))  # initialize W 0\n",
    "        self.b = np.zeros(y.shape[1])          # initialize bias 0\n",
    "        self.losses_train = []\n",
    "        self.losses_valid = []\n",
    "\n",
    "        # self.params = [self.W, self.b]\n",
    "\n",
    "    def fit(self, n_epochs=1000, lr=0.0001, L2_reg=0.001):\n",
    "        for i in range(n_epochs):\n",
    "            # p_y_given_x = sigmoid(numpy.dot(self.x, self.W) + self.b)\n",
    "            p_y_given_x = softmax(np.dot(self.X, self.W) + self.b)\n",
    "            d_y = self.y - p_y_given_x\n",
    "\n",
    "            self.W += lr * np.dot(self.X.T, d_y) - lr * L2_reg * self.W\n",
    "            self.b += lr * np.mean(d_y, axis=0)\n",
    "            #print(softmax(np.dot(self.X, self.W) + self.b))\n",
    "\n",
    "            #print(softmax(np.dot(self.X_val, self.W) + self.b))\n",
    "            if i % 500 == 0:\n",
    "                loss = log_loss(self.y, softmax(np.dot(self.X, self.W) + self.b))\n",
    "                val_loss = log_loss(self.y_val, softmax(np.dot(self.X_val, self.W) + self.b))\n",
    "                #loss = self.cross_entropy(val=False)\n",
    "                #val_loss = self.cross_entropy(val=True)\n",
    "            \n",
    "                self.losses_train += [loss]\n",
    "                self.losses_valid += [val_loss]\n",
    "                print('Train_loss=', loss,' Val_loss=', val_loss)\n",
    "\n",
    "    def cross_entropy(self, val=False):\n",
    "        if val:\n",
    "            X = self.X_val\n",
    "            y = self.y_val\n",
    "        else:\n",
    "            X = self.X\n",
    "            y = self.y\n",
    "            \n",
    "        # sigmoid_activation = sigmoid(numpy.dot(self.x, self.W) + self.b)\n",
    "        sigmoid_activation = softmax(np.dot(X, self.W) + self.b)\n",
    "\n",
    "        cross_entropy = - np.mean(np.sum(y * np.log(sigmoid_activation) + \n",
    "                                               (1 - y) * np.log(1 - sigmoid_activation),axis=1))\n",
    "        return cross_entropy\n",
    "    \n",
    "    def predict_proba(self, X):\n",
    "        # return sigmoid(np.dot(x, self.W) + self.b)\n",
    "        return softmax(np.dot(X, self.W) + self.b)\n",
    "\n",
    "    def predict(self, X):\n",
    "        # return sigmoid(np.dot(x, self.W) + self.b)\n",
    "        preds = []\n",
    "        probas = softmax(np.dot(X, self.W) + self.b)\n",
    "        for i in probas:\n",
    "            preds += [i == i.max()]\n",
    "        return np.array(preds).astype(int)\n",
    "    \n",
    "    "
   ]
  },
  {
   "cell_type": "code",
   "execution_count": 76,
   "metadata": {
    "collapsed": true
   },
   "outputs": [],
   "source": [
    "import os\n",
    "from scipy import misc\n",
    "train = os.listdir('train/train')\n",
    "test = os.listdir('test/test')\n",
    "\n",
    "train = np.array(train)\n",
    "test = np.array(test)\n",
    "\n",
    "tmp = []\n",
    "for i in train:\n",
    "    tmp += ['train/train/'+i]\n",
    "train = np.array(tmp)\n",
    "\n",
    "tmp = []\n",
    "for i in test:\n",
    "    tmp += ['test/test/'+i]\n",
    "test = np.array(tmp)\n",
    "\n",
    "\n",
    "classes = []\n",
    "y = []\n",
    "for i in train:\n",
    "    if 'indoor' in i:\n",
    "        classes += [[0, 1]]\n",
    "        y += [1]\n",
    "    else:\n",
    "        classes += [[1, 0]]\n",
    "        y += [0]\n",
    "classes = np.array(classes)\n",
    "y = np.array(y)"
   ]
  },
  {
   "cell_type": "markdown",
   "metadata": {},
   "source": [
    "### Leak search"
   ]
  },
  {
   "cell_type": "code",
   "execution_count": 132,
   "metadata": {
    "collapsed": true
   },
   "outputs": [],
   "source": [
    "import pandas as pd\n",
    "\n",
    "tmp = []\n",
    "target = []\n",
    "for i in train:\n",
    "    tmp += [int(i[:-4].split('_')[1])]\n",
    "    if 'indoor' in i:\n",
    "        target += [1]\n",
    "    else:\n",
    "        target += [0]\n",
    "        \n",
    "df_train = pd.DataFrame(tmp)\n",
    "df_train.columns = ['name']\n",
    "df_train['target'] = target\n",
    "\n",
    "df_train = df_train.sort_values(['name'])"
   ]
  },
  {
   "cell_type": "code",
   "execution_count": 133,
   "metadata": {
    "collapsed": true
   },
   "outputs": [],
   "source": [
    "import pandas as pd\n",
    "\n",
    "tmp = []\n",
    "target = []\n",
    "for i in test:\n",
    "    tmp += [int(i[:-4].split('_')[1])]\n",
    "    if 'indoor' in i:\n",
    "        target += [1]\n",
    "    else:\n",
    "        target += [0]\n",
    "        \n",
    "df_test = pd.DataFrame(tmp)\n",
    "df_test.columns = ['name']\n",
    "df_test['target'] = target\n",
    "\n",
    "df_test = df_test.sort_values(['name'])"
   ]
  },
  {
   "cell_type": "code",
   "execution_count": 134,
   "metadata": {},
   "outputs": [
    {
     "data": {
      "text/html": [
       "<div>\n",
       "<style>\n",
       "    .dataframe thead tr:only-child th {\n",
       "        text-align: right;\n",
       "    }\n",
       "\n",
       "    .dataframe thead th {\n",
       "        text-align: left;\n",
       "    }\n",
       "\n",
       "    .dataframe tbody tr th {\n",
       "        vertical-align: top;\n",
       "    }\n",
       "</style>\n",
       "<table border=\"1\" class=\"dataframe\">\n",
       "  <thead>\n",
       "    <tr style=\"text-align: right;\">\n",
       "      <th></th>\n",
       "      <th>name</th>\n",
       "      <th>target</th>\n",
       "    </tr>\n",
       "  </thead>\n",
       "  <tbody>\n",
       "    <tr>\n",
       "      <th>398</th>\n",
       "      <td>0</td>\n",
       "      <td>0</td>\n",
       "    </tr>\n",
       "    <tr>\n",
       "      <th>13</th>\n",
       "      <td>1</td>\n",
       "      <td>0</td>\n",
       "    </tr>\n",
       "    <tr>\n",
       "      <th>1844</th>\n",
       "      <td>2</td>\n",
       "      <td>0</td>\n",
       "    </tr>\n",
       "    <tr>\n",
       "      <th>1314</th>\n",
       "      <td>3</td>\n",
       "      <td>0</td>\n",
       "    </tr>\n",
       "    <tr>\n",
       "      <th>449</th>\n",
       "      <td>4</td>\n",
       "      <td>0</td>\n",
       "    </tr>\n",
       "    <tr>\n",
       "      <th>2929</th>\n",
       "      <td>5</td>\n",
       "      <td>0</td>\n",
       "    </tr>\n",
       "    <tr>\n",
       "      <th>2790</th>\n",
       "      <td>6</td>\n",
       "      <td>0</td>\n",
       "    </tr>\n",
       "    <tr>\n",
       "      <th>374</th>\n",
       "      <td>7</td>\n",
       "      <td>0</td>\n",
       "    </tr>\n",
       "    <tr>\n",
       "      <th>2452</th>\n",
       "      <td>8</td>\n",
       "      <td>0</td>\n",
       "    </tr>\n",
       "    <tr>\n",
       "      <th>2193</th>\n",
       "      <td>9</td>\n",
       "      <td>0</td>\n",
       "    </tr>\n",
       "    <tr>\n",
       "      <th>2457</th>\n",
       "      <td>10</td>\n",
       "      <td>0</td>\n",
       "    </tr>\n",
       "    <tr>\n",
       "      <th>89</th>\n",
       "      <td>11</td>\n",
       "      <td>0</td>\n",
       "    </tr>\n",
       "    <tr>\n",
       "      <th>2323</th>\n",
       "      <td>12</td>\n",
       "      <td>0</td>\n",
       "    </tr>\n",
       "    <tr>\n",
       "      <th>702</th>\n",
       "      <td>13</td>\n",
       "      <td>0</td>\n",
       "    </tr>\n",
       "    <tr>\n",
       "      <th>235</th>\n",
       "      <td>14</td>\n",
       "      <td>0</td>\n",
       "    </tr>\n",
       "    <tr>\n",
       "      <th>715</th>\n",
       "      <td>15</td>\n",
       "      <td>0</td>\n",
       "    </tr>\n",
       "    <tr>\n",
       "      <th>2145</th>\n",
       "      <td>16</td>\n",
       "      <td>0</td>\n",
       "    </tr>\n",
       "    <tr>\n",
       "      <th>2192</th>\n",
       "      <td>17</td>\n",
       "      <td>0</td>\n",
       "    </tr>\n",
       "    <tr>\n",
       "      <th>138</th>\n",
       "      <td>18</td>\n",
       "      <td>0</td>\n",
       "    </tr>\n",
       "    <tr>\n",
       "      <th>620</th>\n",
       "      <td>19</td>\n",
       "      <td>0</td>\n",
       "    </tr>\n",
       "    <tr>\n",
       "      <th>2874</th>\n",
       "      <td>20</td>\n",
       "      <td>0</td>\n",
       "    </tr>\n",
       "    <tr>\n",
       "      <th>498</th>\n",
       "      <td>21</td>\n",
       "      <td>0</td>\n",
       "    </tr>\n",
       "    <tr>\n",
       "      <th>1289</th>\n",
       "      <td>22</td>\n",
       "      <td>0</td>\n",
       "    </tr>\n",
       "    <tr>\n",
       "      <th>2561</th>\n",
       "      <td>23</td>\n",
       "      <td>0</td>\n",
       "    </tr>\n",
       "    <tr>\n",
       "      <th>316</th>\n",
       "      <td>24</td>\n",
       "      <td>0</td>\n",
       "    </tr>\n",
       "    <tr>\n",
       "      <th>1354</th>\n",
       "      <td>25</td>\n",
       "      <td>0</td>\n",
       "    </tr>\n",
       "    <tr>\n",
       "      <th>474</th>\n",
       "      <td>26</td>\n",
       "      <td>0</td>\n",
       "    </tr>\n",
       "    <tr>\n",
       "      <th>2414</th>\n",
       "      <td>27</td>\n",
       "      <td>0</td>\n",
       "    </tr>\n",
       "    <tr>\n",
       "      <th>2948</th>\n",
       "      <td>28</td>\n",
       "      <td>0</td>\n",
       "    </tr>\n",
       "    <tr>\n",
       "      <th>1295</th>\n",
       "      <td>29</td>\n",
       "      <td>0</td>\n",
       "    </tr>\n",
       "    <tr>\n",
       "      <th>...</th>\n",
       "      <td>...</td>\n",
       "      <td>...</td>\n",
       "    </tr>\n",
       "    <tr>\n",
       "      <th>2301</th>\n",
       "      <td>2930</td>\n",
       "      <td>0</td>\n",
       "    </tr>\n",
       "    <tr>\n",
       "      <th>2178</th>\n",
       "      <td>2931</td>\n",
       "      <td>0</td>\n",
       "    </tr>\n",
       "    <tr>\n",
       "      <th>1588</th>\n",
       "      <td>2932</td>\n",
       "      <td>0</td>\n",
       "    </tr>\n",
       "    <tr>\n",
       "      <th>1437</th>\n",
       "      <td>2933</td>\n",
       "      <td>0</td>\n",
       "    </tr>\n",
       "    <tr>\n",
       "      <th>714</th>\n",
       "      <td>2934</td>\n",
       "      <td>0</td>\n",
       "    </tr>\n",
       "    <tr>\n",
       "      <th>1978</th>\n",
       "      <td>2935</td>\n",
       "      <td>0</td>\n",
       "    </tr>\n",
       "    <tr>\n",
       "      <th>867</th>\n",
       "      <td>2936</td>\n",
       "      <td>0</td>\n",
       "    </tr>\n",
       "    <tr>\n",
       "      <th>1948</th>\n",
       "      <td>2937</td>\n",
       "      <td>0</td>\n",
       "    </tr>\n",
       "    <tr>\n",
       "      <th>131</th>\n",
       "      <td>2938</td>\n",
       "      <td>0</td>\n",
       "    </tr>\n",
       "    <tr>\n",
       "      <th>1157</th>\n",
       "      <td>2939</td>\n",
       "      <td>0</td>\n",
       "    </tr>\n",
       "    <tr>\n",
       "      <th>1686</th>\n",
       "      <td>2940</td>\n",
       "      <td>0</td>\n",
       "    </tr>\n",
       "    <tr>\n",
       "      <th>1918</th>\n",
       "      <td>2941</td>\n",
       "      <td>0</td>\n",
       "    </tr>\n",
       "    <tr>\n",
       "      <th>1161</th>\n",
       "      <td>2942</td>\n",
       "      <td>0</td>\n",
       "    </tr>\n",
       "    <tr>\n",
       "      <th>1690</th>\n",
       "      <td>2943</td>\n",
       "      <td>0</td>\n",
       "    </tr>\n",
       "    <tr>\n",
       "      <th>492</th>\n",
       "      <td>2944</td>\n",
       "      <td>0</td>\n",
       "    </tr>\n",
       "    <tr>\n",
       "      <th>1215</th>\n",
       "      <td>2945</td>\n",
       "      <td>0</td>\n",
       "    </tr>\n",
       "    <tr>\n",
       "      <th>1765</th>\n",
       "      <td>2946</td>\n",
       "      <td>0</td>\n",
       "    </tr>\n",
       "    <tr>\n",
       "      <th>1707</th>\n",
       "      <td>2947</td>\n",
       "      <td>0</td>\n",
       "    </tr>\n",
       "    <tr>\n",
       "      <th>2782</th>\n",
       "      <td>2948</td>\n",
       "      <td>0</td>\n",
       "    </tr>\n",
       "    <tr>\n",
       "      <th>434</th>\n",
       "      <td>2949</td>\n",
       "      <td>0</td>\n",
       "    </tr>\n",
       "    <tr>\n",
       "      <th>2943</th>\n",
       "      <td>2950</td>\n",
       "      <td>0</td>\n",
       "    </tr>\n",
       "    <tr>\n",
       "      <th>2540</th>\n",
       "      <td>2951</td>\n",
       "      <td>0</td>\n",
       "    </tr>\n",
       "    <tr>\n",
       "      <th>1415</th>\n",
       "      <td>2952</td>\n",
       "      <td>0</td>\n",
       "    </tr>\n",
       "    <tr>\n",
       "      <th>1493</th>\n",
       "      <td>2953</td>\n",
       "      <td>0</td>\n",
       "    </tr>\n",
       "    <tr>\n",
       "      <th>855</th>\n",
       "      <td>2954</td>\n",
       "      <td>0</td>\n",
       "    </tr>\n",
       "    <tr>\n",
       "      <th>1147</th>\n",
       "      <td>2955</td>\n",
       "      <td>0</td>\n",
       "    </tr>\n",
       "    <tr>\n",
       "      <th>2759</th>\n",
       "      <td>2956</td>\n",
       "      <td>0</td>\n",
       "    </tr>\n",
       "    <tr>\n",
       "      <th>1572</th>\n",
       "      <td>2957</td>\n",
       "      <td>0</td>\n",
       "    </tr>\n",
       "    <tr>\n",
       "      <th>596</th>\n",
       "      <td>2958</td>\n",
       "      <td>0</td>\n",
       "    </tr>\n",
       "    <tr>\n",
       "      <th>1234</th>\n",
       "      <td>2959</td>\n",
       "      <td>0</td>\n",
       "    </tr>\n",
       "  </tbody>\n",
       "</table>\n",
       "<p>2960 rows × 2 columns</p>\n",
       "</div>"
      ],
      "text/plain": [
       "      name  target\n",
       "398      0       0\n",
       "13       1       0\n",
       "1844     2       0\n",
       "1314     3       0\n",
       "449      4       0\n",
       "2929     5       0\n",
       "2790     6       0\n",
       "374      7       0\n",
       "2452     8       0\n",
       "2193     9       0\n",
       "2457    10       0\n",
       "89      11       0\n",
       "2323    12       0\n",
       "702     13       0\n",
       "235     14       0\n",
       "715     15       0\n",
       "2145    16       0\n",
       "2192    17       0\n",
       "138     18       0\n",
       "620     19       0\n",
       "2874    20       0\n",
       "498     21       0\n",
       "1289    22       0\n",
       "2561    23       0\n",
       "316     24       0\n",
       "1354    25       0\n",
       "474     26       0\n",
       "2414    27       0\n",
       "2948    28       0\n",
       "1295    29       0\n",
       "...    ...     ...\n",
       "2301  2930       0\n",
       "2178  2931       0\n",
       "1588  2932       0\n",
       "1437  2933       0\n",
       "714   2934       0\n",
       "1978  2935       0\n",
       "867   2936       0\n",
       "1948  2937       0\n",
       "131   2938       0\n",
       "1157  2939       0\n",
       "1686  2940       0\n",
       "1918  2941       0\n",
       "1161  2942       0\n",
       "1690  2943       0\n",
       "492   2944       0\n",
       "1215  2945       0\n",
       "1765  2946       0\n",
       "1707  2947       0\n",
       "2782  2948       0\n",
       "434   2949       0\n",
       "2943  2950       0\n",
       "2540  2951       0\n",
       "1415  2952       0\n",
       "1493  2953       0\n",
       "855   2954       0\n",
       "1147  2955       0\n",
       "2759  2956       0\n",
       "1572  2957       0\n",
       "596   2958       0\n",
       "1234  2959       0\n",
       "\n",
       "[2960 rows x 2 columns]"
      ]
     },
     "execution_count": 134,
     "metadata": {},
     "output_type": "execute_result"
    }
   ],
   "source": [
    "df_test"
   ]
  },
  {
   "cell_type": "code",
   "execution_count": 128,
   "metadata": {},
   "outputs": [
    {
     "data": {
      "text/plain": [
       "[<matplotlib.lines.Line2D at 0x7f4f45695d30>]"
      ]
     },
     "execution_count": 128,
     "metadata": {},
     "output_type": "execute_result"
    },
    {
     "data": {
      "image/png": "[encoded data removed]",
      "text/plain": [
       "<matplotlib.figure.Figure at 0x7f4eeb6ad8d0>"
      ]
     },
     "metadata": {},
     "output_type": "display_data"
    }
   ],
   "source": [
    "import matplotlib.pyplot as plt\n",
    "%matplotlib inline\n",
    "plt.plot(df.name,df.target)"
   ]
  },
  {
   "cell_type": "code",
   "execution_count": 159,
   "metadata": {
    "collapsed": true
   },
   "outputs": [],
   "source": [
    "tmp = tmp.sort_values(['id'])"
   ]
  },
  {
   "cell_type": "code",
   "execution_count": 160,
   "metadata": {},
   "outputs": [
    {
     "data": {
      "text/html": [
       "<div>\n",
       "<style>\n",
       "    .dataframe thead tr:only-child th {\n",
       "        text-align: right;\n",
       "    }\n",
       "\n",
       "    .dataframe thead th {\n",
       "        text-align: left;\n",
       "    }\n",
       "\n",
       "    .dataframe tbody tr th {\n",
       "        vertical-align: top;\n",
       "    }\n",
       "</style>\n",
       "<table border=\"1\" class=\"dataframe\">\n",
       "  <thead>\n",
       "    <tr style=\"text-align: right;\">\n",
       "      <th></th>\n",
       "      <th>id</th>\n",
       "      <th>res</th>\n",
       "    </tr>\n",
       "  </thead>\n",
       "  <tbody>\n",
       "    <tr>\n",
       "      <th>398</th>\n",
       "      <td>0</td>\n",
       "      <td>0.997207</td>\n",
       "    </tr>\n",
       "    <tr>\n",
       "      <th>13</th>\n",
       "      <td>1</td>\n",
       "      <td>0.999398</td>\n",
       "    </tr>\n",
       "    <tr>\n",
       "      <th>1844</th>\n",
       "      <td>2</td>\n",
       "      <td>0.999990</td>\n",
       "    </tr>\n",
       "    <tr>\n",
       "      <th>1314</th>\n",
       "      <td>3</td>\n",
       "      <td>0.996735</td>\n",
       "    </tr>\n",
       "    <tr>\n",
       "      <th>449</th>\n",
       "      <td>4</td>\n",
       "      <td>0.009402</td>\n",
       "    </tr>\n",
       "    <tr>\n",
       "      <th>2929</th>\n",
       "      <td>5</td>\n",
       "      <td>0.992184</td>\n",
       "    </tr>\n",
       "    <tr>\n",
       "      <th>2790</th>\n",
       "      <td>6</td>\n",
       "      <td>0.001757</td>\n",
       "    </tr>\n",
       "    <tr>\n",
       "      <th>374</th>\n",
       "      <td>7</td>\n",
       "      <td>0.991510</td>\n",
       "    </tr>\n",
       "    <tr>\n",
       "      <th>2452</th>\n",
       "      <td>8</td>\n",
       "      <td>0.963390</td>\n",
       "    </tr>\n",
       "    <tr>\n",
       "      <th>2193</th>\n",
       "      <td>9</td>\n",
       "      <td>0.004172</td>\n",
       "    </tr>\n",
       "    <tr>\n",
       "      <th>2457</th>\n",
       "      <td>10</td>\n",
       "      <td>0.451832</td>\n",
       "    </tr>\n",
       "    <tr>\n",
       "      <th>89</th>\n",
       "      <td>11</td>\n",
       "      <td>0.999888</td>\n",
       "    </tr>\n",
       "    <tr>\n",
       "      <th>2323</th>\n",
       "      <td>12</td>\n",
       "      <td>0.999938</td>\n",
       "    </tr>\n",
       "    <tr>\n",
       "      <th>702</th>\n",
       "      <td>13</td>\n",
       "      <td>0.955670</td>\n",
       "    </tr>\n",
       "    <tr>\n",
       "      <th>235</th>\n",
       "      <td>14</td>\n",
       "      <td>0.003691</td>\n",
       "    </tr>\n",
       "    <tr>\n",
       "      <th>715</th>\n",
       "      <td>15</td>\n",
       "      <td>0.999963</td>\n",
       "    </tr>\n",
       "    <tr>\n",
       "      <th>2145</th>\n",
       "      <td>16</td>\n",
       "      <td>0.491642</td>\n",
       "    </tr>\n",
       "    <tr>\n",
       "      <th>2192</th>\n",
       "      <td>17</td>\n",
       "      <td>0.052026</td>\n",
       "    </tr>\n",
       "    <tr>\n",
       "      <th>138</th>\n",
       "      <td>18</td>\n",
       "      <td>0.010134</td>\n",
       "    </tr>\n",
       "    <tr>\n",
       "      <th>620</th>\n",
       "      <td>19</td>\n",
       "      <td>0.999228</td>\n",
       "    </tr>\n",
       "    <tr>\n",
       "      <th>2874</th>\n",
       "      <td>20</td>\n",
       "      <td>0.995455</td>\n",
       "    </tr>\n",
       "    <tr>\n",
       "      <th>498</th>\n",
       "      <td>21</td>\n",
       "      <td>0.650710</td>\n",
       "    </tr>\n",
       "    <tr>\n",
       "      <th>1289</th>\n",
       "      <td>22</td>\n",
       "      <td>0.012769</td>\n",
       "    </tr>\n",
       "    <tr>\n",
       "      <th>2561</th>\n",
       "      <td>23</td>\n",
       "      <td>0.374715</td>\n",
       "    </tr>\n",
       "    <tr>\n",
       "      <th>316</th>\n",
       "      <td>24</td>\n",
       "      <td>0.999978</td>\n",
       "    </tr>\n",
       "    <tr>\n",
       "      <th>1354</th>\n",
       "      <td>25</td>\n",
       "      <td>0.991510</td>\n",
       "    </tr>\n",
       "    <tr>\n",
       "      <th>474</th>\n",
       "      <td>26</td>\n",
       "      <td>0.999996</td>\n",
       "    </tr>\n",
       "    <tr>\n",
       "      <th>2414</th>\n",
       "      <td>27</td>\n",
       "      <td>0.997122</td>\n",
       "    </tr>\n",
       "    <tr>\n",
       "      <th>2948</th>\n",
       "      <td>28</td>\n",
       "      <td>0.000951</td>\n",
       "    </tr>\n",
       "    <tr>\n",
       "      <th>1295</th>\n",
       "      <td>29</td>\n",
       "      <td>0.986526</td>\n",
       "    </tr>\n",
       "    <tr>\n",
       "      <th>...</th>\n",
       "      <td>...</td>\n",
       "      <td>...</td>\n",
       "    </tr>\n",
       "    <tr>\n",
       "      <th>2301</th>\n",
       "      <td>2930</td>\n",
       "      <td>0.994097</td>\n",
       "    </tr>\n",
       "    <tr>\n",
       "      <th>2178</th>\n",
       "      <td>2931</td>\n",
       "      <td>0.004110</td>\n",
       "    </tr>\n",
       "    <tr>\n",
       "      <th>1588</th>\n",
       "      <td>2932</td>\n",
       "      <td>0.886858</td>\n",
       "    </tr>\n",
       "    <tr>\n",
       "      <th>1437</th>\n",
       "      <td>2933</td>\n",
       "      <td>0.761534</td>\n",
       "    </tr>\n",
       "    <tr>\n",
       "      <th>714</th>\n",
       "      <td>2934</td>\n",
       "      <td>0.936235</td>\n",
       "    </tr>\n",
       "    <tr>\n",
       "      <th>1978</th>\n",
       "      <td>2935</td>\n",
       "      <td>0.999900</td>\n",
       "    </tr>\n",
       "    <tr>\n",
       "      <th>867</th>\n",
       "      <td>2936</td>\n",
       "      <td>0.002128</td>\n",
       "    </tr>\n",
       "    <tr>\n",
       "      <th>1948</th>\n",
       "      <td>2937</td>\n",
       "      <td>0.000380</td>\n",
       "    </tr>\n",
       "    <tr>\n",
       "      <th>131</th>\n",
       "      <td>2938</td>\n",
       "      <td>0.091570</td>\n",
       "    </tr>\n",
       "    <tr>\n",
       "      <th>1157</th>\n",
       "      <td>2939</td>\n",
       "      <td>0.989024</td>\n",
       "    </tr>\n",
       "    <tr>\n",
       "      <th>1686</th>\n",
       "      <td>2940</td>\n",
       "      <td>0.004504</td>\n",
       "    </tr>\n",
       "    <tr>\n",
       "      <th>1918</th>\n",
       "      <td>2941</td>\n",
       "      <td>0.995562</td>\n",
       "    </tr>\n",
       "    <tr>\n",
       "      <th>1161</th>\n",
       "      <td>2942</td>\n",
       "      <td>0.012534</td>\n",
       "    </tr>\n",
       "    <tr>\n",
       "      <th>1690</th>\n",
       "      <td>2943</td>\n",
       "      <td>0.976773</td>\n",
       "    </tr>\n",
       "    <tr>\n",
       "      <th>492</th>\n",
       "      <td>2944</td>\n",
       "      <td>0.999651</td>\n",
       "    </tr>\n",
       "    <tr>\n",
       "      <th>1215</th>\n",
       "      <td>2945</td>\n",
       "      <td>0.983469</td>\n",
       "    </tr>\n",
       "    <tr>\n",
       "      <th>1765</th>\n",
       "      <td>2946</td>\n",
       "      <td>0.986281</td>\n",
       "    </tr>\n",
       "    <tr>\n",
       "      <th>1707</th>\n",
       "      <td>2947</td>\n",
       "      <td>0.999912</td>\n",
       "    </tr>\n",
       "    <tr>\n",
       "      <th>2782</th>\n",
       "      <td>2948</td>\n",
       "      <td>0.927341</td>\n",
       "    </tr>\n",
       "    <tr>\n",
       "      <th>434</th>\n",
       "      <td>2949</td>\n",
       "      <td>0.443892</td>\n",
       "    </tr>\n",
       "    <tr>\n",
       "      <th>2943</th>\n",
       "      <td>2950</td>\n",
       "      <td>0.871860</td>\n",
       "    </tr>\n",
       "    <tr>\n",
       "      <th>2540</th>\n",
       "      <td>2951</td>\n",
       "      <td>0.994436</td>\n",
       "    </tr>\n",
       "    <tr>\n",
       "      <th>1415</th>\n",
       "      <td>2952</td>\n",
       "      <td>0.988968</td>\n",
       "    </tr>\n",
       "    <tr>\n",
       "      <th>1493</th>\n",
       "      <td>2953</td>\n",
       "      <td>0.999755</td>\n",
       "    </tr>\n",
       "    <tr>\n",
       "      <th>855</th>\n",
       "      <td>2954</td>\n",
       "      <td>0.305423</td>\n",
       "    </tr>\n",
       "    <tr>\n",
       "      <th>1147</th>\n",
       "      <td>2955</td>\n",
       "      <td>0.999608</td>\n",
       "    </tr>\n",
       "    <tr>\n",
       "      <th>2759</th>\n",
       "      <td>2956</td>\n",
       "      <td>0.034452</td>\n",
       "    </tr>\n",
       "    <tr>\n",
       "      <th>1572</th>\n",
       "      <td>2957</td>\n",
       "      <td>0.001330</td>\n",
       "    </tr>\n",
       "    <tr>\n",
       "      <th>596</th>\n",
       "      <td>2958</td>\n",
       "      <td>0.999919</td>\n",
       "    </tr>\n",
       "    <tr>\n",
       "      <th>1234</th>\n",
       "      <td>2959</td>\n",
       "      <td>0.998696</td>\n",
       "    </tr>\n",
       "  </tbody>\n",
       "</table>\n",
       "<p>2960 rows × 2 columns</p>\n",
       "</div>"
      ],
      "text/plain": [
       "        id       res\n",
       "398      0  0.997207\n",
       "13       1  0.999398\n",
       "1844     2  0.999990\n",
       "1314     3  0.996735\n",
       "449      4  0.009402\n",
       "2929     5  0.992184\n",
       "2790     6  0.001757\n",
       "374      7  0.991510\n",
       "2452     8  0.963390\n",
       "2193     9  0.004172\n",
       "2457    10  0.451832\n",
       "89      11  0.999888\n",
       "2323    12  0.999938\n",
       "702     13  0.955670\n",
       "235     14  0.003691\n",
       "715     15  0.999963\n",
       "2145    16  0.491642\n",
       "2192    17  0.052026\n",
       "138     18  0.010134\n",
       "620     19  0.999228\n",
       "2874    20  0.995455\n",
       "498     21  0.650710\n",
       "1289    22  0.012769\n",
       "2561    23  0.374715\n",
       "316     24  0.999978\n",
       "1354    25  0.991510\n",
       "474     26  0.999996\n",
       "2414    27  0.997122\n",
       "2948    28  0.000951\n",
       "1295    29  0.986526\n",
       "...    ...       ...\n",
       "2301  2930  0.994097\n",
       "2178  2931  0.004110\n",
       "1588  2932  0.886858\n",
       "1437  2933  0.761534\n",
       "714   2934  0.936235\n",
       "1978  2935  0.999900\n",
       "867   2936  0.002128\n",
       "1948  2937  0.000380\n",
       "131   2938  0.091570\n",
       "1157  2939  0.989024\n",
       "1686  2940  0.004504\n",
       "1918  2941  0.995562\n",
       "1161  2942  0.012534\n",
       "1690  2943  0.976773\n",
       "492   2944  0.999651\n",
       "1215  2945  0.983469\n",
       "1765  2946  0.986281\n",
       "1707  2947  0.999912\n",
       "2782  2948  0.927341\n",
       "434   2949  0.443892\n",
       "2943  2950  0.871860\n",
       "2540  2951  0.994436\n",
       "1415  2952  0.988968\n",
       "1493  2953  0.999755\n",
       "855   2954  0.305423\n",
       "1147  2955  0.999608\n",
       "2759  2956  0.034452\n",
       "1572  2957  0.001330\n",
       "596   2958  0.999919\n",
       "1234  2959  0.998696\n",
       "\n",
       "[2960 rows x 2 columns]"
      ]
     },
     "execution_count": 160,
     "metadata": {},
     "output_type": "execute_result"
    }
   ],
   "source": [
    "tmp"
   ]
  },
  {
   "cell_type": "code",
   "execution_count": 163,
   "metadata": {},
   "outputs": [
    {
     "data": {
      "text/plain": [
       "[<matplotlib.lines.Line2D at 0x7f4ee3afb240>]"
      ]
     },
     "execution_count": 163,
     "metadata": {},
     "output_type": "execute_result"
    },
    {
     "data": {
      "image/png": "[encoded data removed]",
      "text/plain": [
       "<matplotlib.figure.Figure at 0x7f4ee39c20f0>"
      ]
     },
     "metadata": {},
     "output_type": "display_data"
    }
   ],
   "source": [
    "import matplotlib.pyplot as plt\n",
    "%matplotlib inline\n",
    "plt.figure(figsize=(20,10))\n",
    "plt.plot(tmp.id,np.log(tmp.res))\n"
   ]
  },
  {
   "cell_type": "code",
   "execution_count": 121,
   "metadata": {},
   "outputs": [
    {
     "data": {
      "text/plain": [
       "(6707, 6905)"
      ]
     },
     "execution_count": 121,
     "metadata": {},
     "output_type": "execute_result"
    }
   ],
   "source": [
    "np.array(tmp).max(), len(tmp)"
   ]
  },
  {
   "cell_type": "code",
   "execution_count": 110,
   "metadata": {},
   "outputs": [
    {
     "data": {
      "text/plain": [
       "6905"
      ]
     },
     "execution_count": 110,
     "metadata": {},
     "output_type": "execute_result"
    }
   ],
   "source": [
    "len(classes)"
   ]
  },
  {
   "cell_type": "code",
   "execution_count": 109,
   "metadata": {},
   "outputs": [
    {
     "data": {
      "text/plain": [
       "2203"
      ]
     },
     "execution_count": 109,
     "metadata": {},
     "output_type": "execute_result"
    }
   ],
   "source": [
    "classes[:,0].sum()"
   ]
  },
  {
   "cell_type": "markdown",
   "metadata": {},
   "source": [
    "### Разбиение на фолды"
   ]
  },
  {
   "cell_type": "code",
   "execution_count": 77,
   "metadata": {
    "collapsed": true
   },
   "outputs": [],
   "source": [
    "#y = np.array(y.tolist() * 2)\n",
    "tmp = skf(y)\n",
    "    \n",
    "folds = []    \n",
    "for i in tmp:\n",
    "    folds += [[i[1], i[0]]]"
   ]
  },
  {
   "cell_type": "markdown",
   "metadata": {},
   "source": [
    "### Считывание картинок"
   ]
  },
  {
   "cell_type": "code",
   "execution_count": 42,
   "metadata": {
    "collapsed": true
   },
   "outputs": [],
   "source": [
    "x_train = []\n",
    "for i in train:\n",
    "    img = misc.imread(i)\n",
    "    #img = misc.imrotate(img, 90*r, interp='cubic')\n",
    "    x_train += [img]\n",
    "    \n",
    "for i in train:\n",
    "    img = misc.imread(i)\n",
    "    img = np.fliplr(img)    \n",
    "    #img = misc.imrotate(img, 90*r, interp='cubic')\n",
    "    x_train += [img]  \n",
    "x_train = np.array(x_train)\n",
    "\n",
    "\n",
    "x_test = []\n",
    "for i in test:\n",
    "    img = misc.imread(i)\n",
    "    x_test += [img]\n",
    "x_test = np.array(x_test)"
   ]
  },
  {
   "cell_type": "code",
   "execution_count": 43,
   "metadata": {},
   "outputs": [
    {
     "data": {
      "text/plain": [
       "(13810, 32, 32, 3)"
      ]
     },
     "execution_count": 43,
     "metadata": {},
     "output_type": "execute_result"
    }
   ],
   "source": [
    "x_train.shape"
   ]
  },
  {
   "cell_type": "markdown",
   "metadata": {},
   "source": [
    "### Цветовые гистограммы"
   ]
  },
  {
   "cell_type": "code",
   "execution_count": 44,
   "metadata": {
    "collapsed": true
   },
   "outputs": [],
   "source": [
    "hist_train = []\n",
    "for i in x_train:\n",
    "    tmp = []\n",
    "    for j in range(3):\n",
    "        tmp += [np.histogram(i[:,:,j], bins=50)[0]]\n",
    "    hist_train += [tmp]\n",
    "hist_train = np.array(hist_train).reshape(x_train.shape[0], 150)\n",
    "\n",
    "\n",
    "hist_test = []\n",
    "for i in x_test:\n",
    "    tmp = []\n",
    "    for j in range(3):\n",
    "        tmp += [np.histogram(i[:,:,j], bins=50)[0]]\n",
    "    hist_test += [tmp]\n",
    "hist_test = np.array(hist_test).reshape(2960, 150)"
   ]
  },
  {
   "cell_type": "code",
   "execution_count": 45,
   "metadata": {
    "collapsed": true
   },
   "outputs": [],
   "source": [
    "hist_hsv_train = []\n",
    "for i in x_train:\n",
    "    hist_hsv_train += [color_histogram_hsv(i)]\n",
    "hist_hsv_train = np.array(hist_hsv_train)\n",
    "\n",
    "hist_hsv_test = []\n",
    "for i in x_test:\n",
    "    hist_hsv_test += [color_histogram_hsv(i)]\n",
    "hist_hsv_test = np.array(hist_hsv_test)"
   ]
  },
  {
   "cell_type": "code",
   "execution_count": 46,
   "metadata": {},
   "outputs": [
    {
     "data": {
      "text/plain": [
       "(2960, 100)"
      ]
     },
     "execution_count": 46,
     "metadata": {},
     "output_type": "execute_result"
    }
   ],
   "source": [
    "hist_hsv_test.shape"
   ]
  },
  {
   "cell_type": "code",
   "execution_count": null,
   "metadata": {
    "collapsed": true
   },
   "outputs": [],
   "source": [
    "hist_test = []\n",
    "for i in x_test:\n",
    "    tmp = []\n",
    "    for j in range(3):\n",
    "        tmp += [np.histogram(i[:,:,j], bins=50)[0]]\n",
    "    hist_test += [tmp]\n",
    "hist_test = np.array(hist_test).reshape(2960, 150)"
   ]
  },
  {
   "cell_type": "code",
   "execution_count": null,
   "metadata": {
    "collapsed": true
   },
   "outputs": [],
   "source": []
  },
  {
   "cell_type": "markdown",
   "metadata": {},
   "source": [
    "### HOG фичи"
   ]
  },
  {
   "cell_type": "code",
   "execution_count": 47,
   "metadata": {
    "collapsed": true
   },
   "outputs": [],
   "source": [
    "hog_train = []\n",
    "for i in x_train:\n",
    "    hog_train += [hog(i)]\n",
    "hog_train = np.array(hog_train)\n",
    "\n",
    "\n",
    "hog_test = []\n",
    "for i in x_test:\n",
    "    hog_test += [hog(i)]\n",
    "hog_test = np.array(hog_test)"
   ]
  },
  {
   "cell_type": "markdown",
   "metadata": {},
   "source": [
    "### LBP фичи"
   ]
  },
  {
   "cell_type": "code",
   "execution_count": 48,
   "metadata": {
    "collapsed": true
   },
   "outputs": [],
   "source": [
    "lbp_train = []\n",
    "for t in x_train:\n",
    "    image = t\n",
    "    image = rgb2gray(image)\n",
    "\n",
    "    lbps_histdata = []\n",
    "    mean_delta = 0\n",
    "\n",
    "    for i in range(1, image.shape[1]-1):\n",
    "        for j in range(1, image.shape[0]-1):\n",
    "            mean_delta += (abs(image[i, j] - image[i, j-1]) + abs(image[i, j] - image[i-1, j-1]) +\n",
    "                abs(image[i, j] - image[i-1, j]) + abs(image[i, j] - image[i-1, j+1]) )/4.0\n",
    "    mean_delta /= (image.shape[1]-2) * (image.shape[0]-2) \n",
    "    mean_delta *= 1.5 \n",
    "\n",
    "    for i in range(0, image.shape[1]):\n",
    "        for j in range(0, image.shape[0]):\n",
    "            if i != 0 and j != 0 and i != image.shape[1]-1 and j != image.shape[0]-1:\n",
    "                tmp = compute_lbp(image, i, j, mean_delta)\n",
    "                if tmp != 0:\n",
    "                    lbps_histdata.append(tmp)\n",
    "    hist, bins = np.histogram(lbps_histdata, bins=254, normed=True)\n",
    "                 \n",
    "    lbp_train += [hist]\n",
    "lbp_train = np.array(lbp_train)\n",
    "\n",
    "\n",
    "\n",
    "\n",
    "lbp_test = []\n",
    "for t in x_test:\n",
    "    image = t\n",
    "    image = rgb2gray(image)\n",
    "\n",
    "    lbps_histdata = []\n",
    "    mean_delta = 0\n",
    "\n",
    "    for i in range(1, image.shape[1]-1):\n",
    "        for j in range(1, image.shape[0]-1):\n",
    "            mean_delta += (abs(image[i, j] - image[i, j-1]) + abs(image[i, j] - image[i-1, j-1]) +\n",
    "                abs(image[i, j] - image[i-1, j]) + abs(image[i, j] - image[i-1, j+1]) )/4.0\n",
    "    mean_delta /= (image.shape[1]-2) * (image.shape[0]-2) \n",
    "    mean_delta *= 1.5 \n",
    "\n",
    "    for i in range(0, image.shape[1]):\n",
    "        for j in range(0, image.shape[0]):\n",
    "            if i != 0 and j != 0 and i != image.shape[1]-1 and j != image.shape[0]-1:\n",
    "                tmp = compute_lbp(image, i, j, mean_delta)\n",
    "                if tmp != 0:\n",
    "                    lbps_histdata.append(tmp)\n",
    "    hist, bins = np.histogram(lbps_histdata, bins=254, normed=True)\n",
    "                 \n",
    "    lbp_test += [hist]\n",
    "lbp_test = np.array(lbp_test)\n"
   ]
  },
  {
   "cell_type": "markdown",
   "metadata": {},
   "source": [
    "### Трёхмерные гистограммы цвета"
   ]
  },
  {
   "cell_type": "code",
   "execution_count": 49,
   "metadata": {
    "collapsed": true
   },
   "outputs": [],
   "source": [
    "hist3d_train = []\n",
    "for i in x_train:\n",
    "    hist = hist3d(i)\n",
    "    hist3d_train += [hist]\n",
    "hist3d_train = np.array(hist3d_train)\n",
    "\n",
    "\n",
    "hist3d_test = []\n",
    "for i in x_test:\n",
    "    hist = hist3d(i)\n",
    "    hist3d_test += [hist]\n",
    "hist3d_test = np.array(hist3d_test)"
   ]
  },
  {
   "cell_type": "markdown",
   "metadata": {},
   "source": [
    "### Фичи - статистики"
   ]
  },
  {
   "cell_type": "code",
   "execution_count": 50,
   "metadata": {
    "collapsed": true
   },
   "outputs": [],
   "source": [
    "ms_train = []\n",
    "for i in x_train:\n",
    "    tmp = []\n",
    "    for j in range(3):\n",
    "        tmp += [i[:,:,j].mean()]\n",
    "        tmp += [i[:,:,j].std()]\n",
    "        tmp += [np.median(i[:,:,j])]\n",
    "    ms_train += [tmp]\n",
    "ms_train = np.array(ms_train)\n",
    "\n",
    "\n",
    "ms_test = []\n",
    "for i in x_test:\n",
    "    tmp = []\n",
    "    for j in range(3):\n",
    "        tmp += [i[:,:,j].mean()]\n",
    "        tmp += [i[:,:,j].std()]\n",
    "        tmp += [np.median(i[:,:,j])]\n",
    "    ms_test += [tmp]\n",
    "ms_test = np.array(ms_test)"
   ]
  },
  {
   "cell_type": "code",
   "execution_count": 218,
   "metadata": {
    "collapsed": true
   },
   "outputs": [],
   "source": [
    "#x_train = x_train.reshape(x_train.shape[0], x_train.shape[1]*x_train.shape[2]*x_train.shape[3])\n",
    "#x_test = x_test.reshape(x_test.shape[0], x_test.shape[1]*x_test.shape[2]*x_test.shape[3])"
   ]
  },
  {
   "cell_type": "markdown",
   "metadata": {},
   "source": [
    "### Нормализация  и склейка фичей"
   ]
  },
  {
   "cell_type": "code",
   "execution_count": 51,
   "metadata": {
    "collapsed": true
   },
   "outputs": [],
   "source": [
    "hog_test = hog_test / hog_train.max() * 1.\n",
    "hog_train = hog_train / hog_train.max() * 1.\n",
    "\n",
    "hist3d_test = hist3d_test / hist3d_train.max() * 1.\n",
    "hist3d_train = hist3d_train / hist3d_train.max() * 1.\n",
    "\n",
    "hist_test = hist_test / hist_train.max() * 1.\n",
    "hist_train = hist_train / hist_train.max() * 1.\n",
    "\n",
    "ms_test = ms_test / 255.\n",
    "ms_train = ms_train / 255."
   ]
  },
  {
   "cell_type": "code",
   "execution_count": 52,
   "metadata": {},
   "outputs": [
    {
     "data": {
      "text/plain": [
       "PCA(copy=True, iterated_power='auto', n_components=200, random_state=None,\n",
       "  svd_solver='auto', tol=0.0, whiten=False)"
      ]
     },
     "execution_count": 52,
     "metadata": {},
     "output_type": "execute_result"
    }
   ],
   "source": [
    "from sklearn.decomposition import PCA\n",
    "\n",
    "pca = PCA(n_components=200)\n",
    "pca.fit(x_train.reshape(x_train.shape[0], x_train.shape[1]*x_train.shape[2]*x_train.shape[3]))"
   ]
  },
  {
   "cell_type": "code",
   "execution_count": 113,
   "metadata": {
    "collapsed": true
   },
   "outputs": [],
   "source": [
    "from matplotlib.mlab import PCA\n",
    "\n",
    "tmp = PCA(np.vstack([x_train.reshape(x_train.shape[0], x_train.shape[1]*x_train.shape[2]*x_train.shape[3]), x_test.reshape(x_test.shape[0], x_test.shape[1]*x_test.shape[2]*x_test.shape[3])]))"
   ]
  },
  {
   "cell_type": "code",
   "execution_count": 116,
   "metadata": {
    "collapsed": true
   },
   "outputs": [],
   "source": [
    "tmp = tmp.Y[:, :200]"
   ]
  },
  {
   "cell_type": "code",
   "execution_count": 117,
   "metadata": {
    "collapsed": true
   },
   "outputs": [],
   "source": [
    "pca_train = tmp[:13810]"
   ]
  },
  {
   "cell_type": "code",
   "execution_count": 119,
   "metadata": {
    "collapsed": true
   },
   "outputs": [],
   "source": [
    "pca_test = tmp[13810:]"
   ]
  },
  {
   "cell_type": "code",
   "execution_count": 118,
   "metadata": {},
   "outputs": [
    {
     "data": {
      "text/plain": [
       "2960"
      ]
     },
     "execution_count": 118,
     "metadata": {},
     "output_type": "execute_result"
    }
   ],
   "source": [
    "len(tmp[13810:])"
   ]
  },
  {
   "cell_type": "code",
   "execution_count": 110,
   "metadata": {},
   "outputs": [
    {
     "data": {
      "text/plain": [
       "(13810, 32, 32, 3)"
      ]
     },
     "execution_count": 110,
     "metadata": {},
     "output_type": "execute_result"
    }
   ],
   "source": [
    "x_train.shape"
   ]
  },
  {
   "cell_type": "code",
   "execution_count": 111,
   "metadata": {},
   "outputs": [
    {
     "data": {
      "text/plain": [
       "(2960, 32, 32, 3)"
      ]
     },
     "execution_count": 111,
     "metadata": {},
     "output_type": "execute_result"
    }
   ],
   "source": [
    "x_test.shape"
   ]
  },
  {
   "cell_type": "code",
   "execution_count": 100,
   "metadata": {},
   "outputs": [
    {
     "data": {
      "text/plain": [
       "(13810, 3072)"
      ]
     },
     "execution_count": 100,
     "metadata": {},
     "output_type": "execute_result"
    }
   ],
   "source": [
    "tmp.Y.shape"
   ]
  },
  {
   "cell_type": "code",
   "execution_count": 109,
   "metadata": {},
   "outputs": [
    {
     "data": {
      "text/plain": [
       "array([[-31.81606324,  10.49673262,   7.22173971, ...,  -0.09242269,\n",
       "          0.31398949,   2.23567407],\n",
       "       [ 27.03722621,  -1.79189129,   4.36961411, ...,   1.70514679,\n",
       "         -0.81936494,   1.81741362],\n",
       "       [ 15.82592272,  -0.15113032, -12.14517181, ...,  -0.97923259,\n",
       "         -0.76355592,  -0.19347392],\n",
       "       ..., \n",
       "       [ 15.06939024, -19.172264  ,   0.67601251, ...,   0.40027023,\n",
       "         -0.96201991,   1.49731443],\n",
       "       [-42.04940956,   4.27628751,  -0.3950905 , ...,   0.52357472,\n",
       "          0.44436246,   0.28563783],\n",
       "       [ -1.79212996,  12.02204376, -10.17003428, ...,   3.44678638,\n",
       "          3.42788848,  -2.25418647]])"
      ]
     },
     "execution_count": 109,
     "metadata": {},
     "output_type": "execute_result"
    }
   ],
   "source": [
    "tmp.Y[:, :200]"
   ]
  },
  {
   "cell_type": "code",
   "execution_count": 108,
   "metadata": {},
   "outputs": [
    {
     "ename": "IndexError",
     "evalue": "tuple index out of range",
     "output_type": "error",
     "traceback": [
      "\u001b[0;31m---------------------------------------------------------------------------\u001b[0m",
      "\u001b[0;31mIndexError\u001b[0m                                Traceback (most recent call last)",
      "\u001b[0;32m<ipython-input-108-f9f538193cc1>\u001b[0m in \u001b[0;36m<module>\u001b[0;34m()\u001b[0m\n\u001b[0;32m----> 1\u001b[0;31m \u001b[0mtmp\u001b[0m\u001b[0;34m.\u001b[0m\u001b[0mproject\u001b[0m\u001b[0;34m(\u001b[0m\u001b[0;36m0\u001b[0m\u001b[0;34m)\u001b[0m\u001b[0;34m\u001b[0m\u001b[0m\n\u001b[0m",
      "\u001b[0;32m~/.local/lib/python3.5/site-packages/matplotlib/mlab.py\u001b[0m in \u001b[0;36mproject\u001b[0;34m(self, x, minfrac)\u001b[0m\n\u001b[1;32m   1681\u001b[0m         \u001b[0mndims\u001b[0m \u001b[0;34m=\u001b[0m \u001b[0mlen\u001b[0m\u001b[0;34m(\u001b[0m\u001b[0mx\u001b[0m\u001b[0;34m.\u001b[0m\u001b[0mshape\u001b[0m\u001b[0;34m)\u001b[0m\u001b[0;34m\u001b[0m\u001b[0m\n\u001b[1;32m   1682\u001b[0m \u001b[0;34m\u001b[0m\u001b[0m\n\u001b[0;32m-> 1683\u001b[0;31m         \u001b[0;32mif\u001b[0m \u001b[0;34m(\u001b[0m\u001b[0mx\u001b[0m\u001b[0;34m.\u001b[0m\u001b[0mshape\u001b[0m\u001b[0;34m[\u001b[0m\u001b[0;34m-\u001b[0m\u001b[0;36m1\u001b[0m\u001b[0;34m]\u001b[0m \u001b[0;34m!=\u001b[0m \u001b[0mself\u001b[0m\u001b[0;34m.\u001b[0m\u001b[0mnumcols\u001b[0m\u001b[0;34m)\u001b[0m\u001b[0;34m:\u001b[0m\u001b[0;34m\u001b[0m\u001b[0m\n\u001b[0m\u001b[1;32m   1684\u001b[0m             raise ValueError('Expected an array with dims[-1]==%d' %\n\u001b[1;32m   1685\u001b[0m                              self.numcols)\n",
      "\u001b[0;31mIndexError\u001b[0m: tuple index out of range"
     ]
    }
   ],
   "source": [
    "tmp.project(0)"
   ]
  },
  {
   "cell_type": "code",
   "execution_count": 96,
   "metadata": {
    "collapsed": true
   },
   "outputs": [],
   "source": [
    "def PCA(data, dims_rescaled_data=2):\n",
    "    \"\"\"\n",
    "    returns: data transformed in 2 dims/columns + regenerated original data\n",
    "    pass in: data as 2D NumPy array\n",
    "    \"\"\"\n",
    "    import numpy as NP\n",
    "    from scipy import linalg as LA\n",
    "    m, n = data.shape\n",
    "    # mean center the data\n",
    "    data -= data.mean(axis=0)\n",
    "    # calculate the covariance matrix\n",
    "    R = NP.cov(data, rowvar=False)\n",
    "    # calculate eigenvectors & eigenvalues of the covariance matrix\n",
    "    # use 'eigh' rather than 'eig' since R is symmetric, \n",
    "    # the performance gain is substantial\n",
    "    evals, evecs = LA.eigh(R)\n",
    "    # sort eigenvalue in decreasing order\n",
    "    idx = NP.argsort(evals)[::-1]\n",
    "    evecs = evecs[:,idx]\n",
    "    # sort eigenvectors according to same index\n",
    "    evals = evals[idx]\n",
    "    # select the first n eigenvectors (n is desired dimension\n",
    "    # of rescaled data array, or dims_rescaled_data)\n",
    "    evecs = evecs[:, :dims_rescaled_data]\n",
    "    # carry out the transformation on the data using eigenvectors\n",
    "    # and return the re-scaled data, eigenvalues, and eigenvectors\n",
    "    return NP.dot(evecs.T, data.T).T, evals, evecs"
   ]
  },
  {
   "cell_type": "code",
   "execution_count": 98,
   "metadata": {},
   "outputs": [
    {
     "data": {
      "text/plain": [
       "array([[218, 244, 231, ..., 169, 110,  66],\n",
       "       [219, 165, 131, ...,  91,  57,  19],\n",
       "       [ 79, 108, 174, ...,  41,  40,  38],\n",
       "       ..., \n",
       "       [ 56,  55,  51, ...,  76,  77,  63],\n",
       "       [196, 207, 209, ..., 169, 180, 166],\n",
       "       [177, 162, 157, ...,  85,  39,  26]], dtype=uint8)"
      ]
     },
     "execution_count": 98,
     "metadata": {},
     "output_type": "execute_result"
    }
   ],
   "source": [
    "x_train.reshape(x_train.shape[0], x_train.shape[1]*x_train.shape[2]*x_train.shape[3])"
   ]
  },
  {
   "cell_type": "code",
   "execution_count": 97,
   "metadata": {},
   "outputs": [
    {
     "ename": "TypeError",
     "evalue": "Cannot cast ufunc subtract output from dtype('float64') to dtype('uint8') with casting rule 'same_kind'",
     "output_type": "error",
     "traceback": [
      "\u001b[0;31m---------------------------------------------------------------------------\u001b[0m",
      "\u001b[0;31mTypeError\u001b[0m                                 Traceback (most recent call last)",
      "\u001b[0;32m<ipython-input-97-4f4dd525894f>\u001b[0m in \u001b[0;36m<module>\u001b[0;34m()\u001b[0m\n\u001b[0;32m----> 1\u001b[0;31m \u001b[0mPCA\u001b[0m\u001b[0;34m(\u001b[0m\u001b[0mx_train\u001b[0m\u001b[0;34m.\u001b[0m\u001b[0mreshape\u001b[0m\u001b[0;34m(\u001b[0m\u001b[0mx_train\u001b[0m\u001b[0;34m.\u001b[0m\u001b[0mshape\u001b[0m\u001b[0;34m[\u001b[0m\u001b[0;36m0\u001b[0m\u001b[0;34m]\u001b[0m\u001b[0;34m,\u001b[0m \u001b[0mx_train\u001b[0m\u001b[0;34m.\u001b[0m\u001b[0mshape\u001b[0m\u001b[0;34m[\u001b[0m\u001b[0;36m1\u001b[0m\u001b[0;34m]\u001b[0m\u001b[0;34m*\u001b[0m\u001b[0mx_train\u001b[0m\u001b[0;34m.\u001b[0m\u001b[0mshape\u001b[0m\u001b[0;34m[\u001b[0m\u001b[0;36m2\u001b[0m\u001b[0;34m]\u001b[0m\u001b[0;34m*\u001b[0m\u001b[0mx_train\u001b[0m\u001b[0;34m.\u001b[0m\u001b[0mshape\u001b[0m\u001b[0;34m[\u001b[0m\u001b[0;36m3\u001b[0m\u001b[0;34m]\u001b[0m\u001b[0;34m)\u001b[0m\u001b[0;34m,\u001b[0m \u001b[0;36m200\u001b[0m\u001b[0;34m)\u001b[0m\u001b[0;34m\u001b[0m\u001b[0m\n\u001b[0m",
      "\u001b[0;32m<ipython-input-96-82e73703c31e>\u001b[0m in \u001b[0;36mPCA\u001b[0;34m(data, dims_rescaled_data)\u001b[0m\n\u001b[1;32m      8\u001b[0m     \u001b[0mm\u001b[0m\u001b[0;34m,\u001b[0m \u001b[0mn\u001b[0m \u001b[0;34m=\u001b[0m \u001b[0mdata\u001b[0m\u001b[0;34m.\u001b[0m\u001b[0mshape\u001b[0m\u001b[0;34m\u001b[0m\u001b[0m\n\u001b[1;32m      9\u001b[0m     \u001b[0;31m# mean center the data\u001b[0m\u001b[0;34m\u001b[0m\u001b[0;34m\u001b[0m\u001b[0m\n\u001b[0;32m---> 10\u001b[0;31m     \u001b[0mdata\u001b[0m \u001b[0;34m-=\u001b[0m \u001b[0mdata\u001b[0m\u001b[0;34m.\u001b[0m\u001b[0mmean\u001b[0m\u001b[0;34m(\u001b[0m\u001b[0maxis\u001b[0m\u001b[0;34m=\u001b[0m\u001b[0;36m0\u001b[0m\u001b[0;34m)\u001b[0m\u001b[0;34m\u001b[0m\u001b[0m\n\u001b[0m\u001b[1;32m     11\u001b[0m     \u001b[0;31m# calculate the covariance matrix\u001b[0m\u001b[0;34m\u001b[0m\u001b[0;34m\u001b[0m\u001b[0m\n\u001b[1;32m     12\u001b[0m     \u001b[0mR\u001b[0m \u001b[0;34m=\u001b[0m \u001b[0mNP\u001b[0m\u001b[0;34m.\u001b[0m\u001b[0mcov\u001b[0m\u001b[0;34m(\u001b[0m\u001b[0mdata\u001b[0m\u001b[0;34m,\u001b[0m \u001b[0mrowvar\u001b[0m\u001b[0;34m=\u001b[0m\u001b[0;32mFalse\u001b[0m\u001b[0;34m)\u001b[0m\u001b[0;34m\u001b[0m\u001b[0m\n",
      "\u001b[0;31mTypeError\u001b[0m: Cannot cast ufunc subtract output from dtype('float64') to dtype('uint8') with casting rule 'same_kind'"
     ]
    }
   ],
   "source": [
    "PCA(x_train.reshape(x_train.shape[0], x_train.shape[1]*x_train.shape[2]*x_train.shape[3]), 200)"
   ]
  },
  {
   "cell_type": "code",
   "execution_count": null,
   "metadata": {
    "collapsed": true
   },
   "outputs": [],
   "source": []
  },
  {
   "cell_type": "code",
   "execution_count": null,
   "metadata": {
    "collapsed": true
   },
   "outputs": [],
   "source": []
  },
  {
   "cell_type": "code",
   "execution_count": null,
   "metadata": {
    "collapsed": true
   },
   "outputs": [],
   "source": []
  },
  {
   "cell_type": "code",
   "execution_count": null,
   "metadata": {
    "collapsed": true
   },
   "outputs": [],
   "source": []
  },
  {
   "cell_type": "code",
   "execution_count": null,
   "metadata": {
    "collapsed": true
   },
   "outputs": [],
   "source": []
  },
  {
   "cell_type": "code",
   "execution_count": null,
   "metadata": {
    "collapsed": true
   },
   "outputs": [],
   "source": [
    "pca_train"
   ]
  },
  {
   "cell_type": "code",
   "execution_count": 53,
   "metadata": {
    "collapsed": true
   },
   "outputs": [],
   "source": [
    "pca_train = pca.transform(x_train.reshape(x_train.shape[0], x_train.shape[1]*x_train.shape[2]*x_train.shape[3]))\n",
    "pca_test = pca.transform(x_test.reshape(x_test.shape[0], x_test.shape[1]*x_test.shape[2]*x_test.shape[3]))"
   ]
  },
  {
   "cell_type": "code",
   "execution_count": 120,
   "metadata": {
    "collapsed": true
   },
   "outputs": [],
   "source": [
    "pca_test = pca_test / pca_train.max() * 1.\n",
    "pca_train = pca_train / pca_train.max() * 1."
   ]
  },
  {
   "cell_type": "code",
   "execution_count": 55,
   "metadata": {},
   "outputs": [
    {
     "data": {
      "text/plain": [
       "(2960, 200)"
      ]
     },
     "execution_count": 55,
     "metadata": {},
     "output_type": "execute_result"
    }
   ],
   "source": [
    "pca_test.shape"
   ]
  },
  {
   "cell_type": "code",
   "execution_count": 142,
   "metadata": {
    "collapsed": true
   },
   "outputs": [],
   "source": [
    "tr = np.hstack([hist_train, hog_train, lbp_train, hist3d_train, pca_train, sim_feature5,sim_feature10,sim_feature20,sim_feature40])\n",
    "te = np.hstack([hist_test, hog_test, lbp_test, hist3d_test, pca_test])"
   ]
  },
  {
   "cell_type": "code",
   "execution_count": 121,
   "metadata": {
    "collapsed": true
   },
   "outputs": [],
   "source": [
    "tr = np.hstack([hist_train, hog_train, lbp_train, hist3d_train, pca_train])\n",
    "te = np.hstack([hist_test, hog_test, lbp_test, hist3d_test, pca_test])"
   ]
  },
  {
   "cell_type": "code",
   "execution_count": 38,
   "metadata": {
    "collapsed": true
   },
   "outputs": [],
   "source": [
    "tr = np.hstack([hist_train,  hist3d_train, pca_train,hist_hsv_train])\n",
    "te = np.hstack([hist_test,  hist3d_test, pca_test, hist_hsv_test])"
   ]
  },
  {
   "cell_type": "code",
   "execution_count": 37,
   "metadata": {
    "collapsed": true
   },
   "outputs": [],
   "source": [
    "from sklearn.neighbors import KNeighborsClassifier"
   ]
  },
  {
   "cell_type": "code",
   "execution_count": 85,
   "metadata": {},
   "outputs": [
    {
     "data": {
      "text/plain": [
       "array([ 0.9,  1. ,  1. , ...,  0.4,  0.4,  0.8])"
      ]
     },
     "execution_count": 85,
     "metadata": {},
     "output_type": "execute_result"
    }
   ],
   "source": [
    "ypred"
   ]
  },
  {
   "cell_type": "markdown",
   "metadata": {},
   "source": [
    "### KNN"
   ]
  },
  {
   "cell_type": "code",
   "execution_count": 96,
   "metadata": {},
   "outputs": [
    {
     "name": "stdout",
     "output_type": "stream",
     "text": [
      "logloss  0.478390929867     rmse  0.348622470056\n",
      "logloss  0.421987514848     rmse  0.357255021667\n",
      "logloss  0.410875029843     rmse  0.362922205375\n",
      "logloss  0.352661423354     rmse  0.345890077412\n",
      "logloss  0.404261958938     rmse  0.362937017932\n",
      "logreg: 0.414 +- 0.040\n",
      "rmse: 0.356 +- 0.007\n"
     ]
    }
   ],
   "source": [
    "pred_train = np.zeros(len(tr))\n",
    "est = []\n",
    "f_ll,f_rmse = [],[]\n",
    "\n",
    "for itr, ite in folds:\n",
    "    ypred = []\n",
    "    knn = KNeighborsClassifier(n_neighbors=40)\n",
    "    knn.fit(tr[itr], classes[itr])\n",
    "    ypred = knn.predict_proba(tr[ite])[1][:, 1]\n",
    "\n",
    "    pred_train[ite] = ypred\n",
    "\n",
    "    \n",
    "    f_ll.append(log_loss1(y[ite], pred_train[ite]))\n",
    "    f_rmse.append(rmse(y[ite], pred_train[ite]))\n",
    "    print('logloss ', log_loss1(y[ite], pred_train[ite]), '    rmse ', rmse(y[ite], pred_train[ite]))\n",
    "    est.append(classifier)\n",
    "    \n",
    "print('logreg: {:.3f} +- {:.3f}'.format(np.mean(f_ll), np.std(f_ll)))\n",
    "print('rmse: {:.3f} +- {:.3f}'.format(np.mean(f_rmse), np.std(f_rmse)))"
   ]
  },
  {
   "cell_type": "code",
   "execution_count": null,
   "metadata": {
    "collapsed": true
   },
   "outputs": [],
   "source": [
    "5\n",
    "logreg: 1.681 +- 0.158\n",
    "rmse: 0.344 +- 0.005"
   ]
  },
  {
   "cell_type": "code",
   "execution_count": null,
   "metadata": {
    "collapsed": true
   },
   "outputs": [],
   "source": [
    "10\n",
    "logreg: 0.973 +- 0.059\n",
    "rmse: 0.342 +- 0.006"
   ]
  },
  {
   "cell_type": "code",
   "execution_count": null,
   "metadata": {
    "collapsed": true
   },
   "outputs": [],
   "source": [
    "20\n",
    "logreg: 0.559 +- 0.070\n",
    "rmse: 0.346 +- 0.007"
   ]
  },
  {
   "cell_type": "code",
   "execution_count": null,
   "metadata": {
    "collapsed": true
   },
   "outputs": [],
   "source": [
    "40\n",
    "logreg: 0.414 +- 0.040\n",
    "rmse: 0.356 +- 0.007"
   ]
  },
  {
   "cell_type": "code",
   "execution_count": 79,
   "metadata": {},
   "outputs": [
    {
     "data": {
      "text/plain": [
       "0.93472154917995309"
      ]
     },
     "execution_count": 79,
     "metadata": {},
     "output_type": "execute_result"
    }
   ],
   "source": [
    "log_loss1(y[ite], pred_train[ite])"
   ]
  },
  {
   "cell_type": "code",
   "execution_count": 74,
   "metadata": {},
   "outputs": [
    {
     "data": {
      "text/plain": [
       "0.33170617345362502"
      ]
     },
     "execution_count": 74,
     "metadata": {},
     "output_type": "execute_result"
    }
   ],
   "source": [
    "rmse(y[ite], 1-pred_train[ite])"
   ]
  },
  {
   "cell_type": "code",
   "execution_count": 93,
   "metadata": {
    "collapsed": true
   },
   "outputs": [],
   "source": [
    "sim_feature5 = pred_train.copy()\n",
    "sim_feature5 = sim_feature5.reshape((sim_feature5.shape[0], 1))\n",
    "sim_feature5 = sim_feature5 / sim_feature5.max() * 1."
   ]
  },
  {
   "cell_type": "code",
   "execution_count": 91,
   "metadata": {
    "collapsed": true
   },
   "outputs": [],
   "source": [
    "sim_feature10 = pred_train.copy()\n",
    "sim_feature10 = sim_feature10.reshape((sim_feature10.shape[0], 1))\n",
    "sim_feature10 = sim_feature10 / sim_feature10.max() * 1."
   ]
  },
  {
   "cell_type": "code",
   "execution_count": 95,
   "metadata": {
    "collapsed": true
   },
   "outputs": [],
   "source": [
    "sim_feature20 = pred_train.copy()\n",
    "sim_feature20 = sim_feature20.reshape((sim_feature20.shape[0], 1))\n",
    "sim_feature20 = sim_feature20 / sim_feature20.max() * 1."
   ]
  },
  {
   "cell_type": "code",
   "execution_count": 101,
   "metadata": {
    "collapsed": true
   },
   "outputs": [],
   "source": [
    "sim_feature40 = pred_train.copy()\n",
    "sim_feature40 = sim_feature40.reshape((sim_feature40.shape[0], 1))\n",
    "sim_feature40 = sim_feature40 / sim_feature40.max() * 1."
   ]
  },
  {
   "cell_type": "code",
   "execution_count": 42,
   "metadata": {},
   "outputs": [
    {
     "data": {
      "text/plain": [
       "(1382, 1692)"
      ]
     },
     "execution_count": 42,
     "metadata": {},
     "output_type": "execute_result"
    }
   ],
   "source": [
    "tr[ite].shape"
   ]
  },
  {
   "cell_type": "code",
   "execution_count": 43,
   "metadata": {
    "collapsed": true
   },
   "outputs": [],
   "source": [
    "tmp = knn.predict_proba(tr[ite])\n"
   ]
  },
  {
   "cell_type": "code",
   "execution_count": 51,
   "metadata": {},
   "outputs": [
    {
     "data": {
      "text/plain": [
       "array([[ 0. ,  1. ],\n",
       "       [ 0. ,  1. ],\n",
       "       [ 0. ,  1. ],\n",
       "       ..., \n",
       "       [ 0.6,  0.4],\n",
       "       [ 0.8,  0.2],\n",
       "       [ 0.2,  0.8]])"
      ]
     },
     "execution_count": 51,
     "metadata": {},
     "output_type": "execute_result"
    }
   ],
   "source": [
    "tmp[1]"
   ]
  },
  {
   "cell_type": "code",
   "execution_count": 40,
   "metadata": {},
   "outputs": [
    {
     "ename": "AttributeError",
     "evalue": "module 'cv2' has no attribute 'xfeatures2d'",
     "output_type": "error",
     "traceback": [
      "\u001b[0;31m---------------------------------------------------------------------------\u001b[0m",
      "\u001b[0;31mAttributeError\u001b[0m                            Traceback (most recent call last)",
      "\u001b[0;32m<ipython-input-40-82cb5ec140b9>\u001b[0m in \u001b[0;36m<module>\u001b[0;34m()\u001b[0m\n\u001b[1;32m      1\u001b[0m \u001b[0;32mimport\u001b[0m \u001b[0mcv2\u001b[0m\u001b[0;34m\u001b[0m\u001b[0m\n\u001b[0;32m----> 2\u001b[0;31m \u001b[0msift\u001b[0m \u001b[0;34m=\u001b[0m \u001b[0mcv2\u001b[0m\u001b[0;34m.\u001b[0m\u001b[0mxfeatures2d\u001b[0m\u001b[0;34m.\u001b[0m\u001b[0mSIFT_create\u001b[0m\u001b[0;34m(\u001b[0m\u001b[0;34m)\u001b[0m\u001b[0;34m\u001b[0m\u001b[0m\n\u001b[0m\u001b[1;32m      3\u001b[0m \u001b[0;31m#(kps, descs) = sift.detectAndCompute(gray, None)\u001b[0m\u001b[0;34m\u001b[0m\u001b[0;34m\u001b[0m\u001b[0m\n",
      "\u001b[0;31mAttributeError\u001b[0m: module 'cv2' has no attribute 'xfeatures2d'"
     ]
    }
   ],
   "source": [
    "import cv2\n",
    "sift = cv2.xfeatures2d.SIFT_create()\n",
    "#(kps, descs) = sift.detectAndCompute(gray, None)"
   ]
  },
  {
   "cell_type": "code",
   "execution_count": null,
   "metadata": {
    "collapsed": true
   },
   "outputs": [],
   "source": []
  },
  {
   "cell_type": "code",
   "execution_count": 123,
   "metadata": {},
   "outputs": [
    {
     "data": {
      "text/plain": [
       "6905.0"
      ]
     },
     "execution_count": 123,
     "metadata": {},
     "output_type": "execute_result"
    }
   ],
   "source": [
    "len(tr) / 2"
   ]
  },
  {
   "cell_type": "code",
   "execution_count": 122,
   "metadata": {
    "collapsed": true
   },
   "outputs": [],
   "source": [
    "tr_flip = tr[6905:]"
   ]
  },
  {
   "cell_type": "code",
   "execution_count": 84,
   "metadata": {},
   "outputs": [
    {
     "data": {
      "text/plain": [
       "20715"
      ]
     },
     "execution_count": 84,
     "metadata": {},
     "output_type": "execute_result"
    }
   ],
   "source": [
    "len(np.vstack([tr, tr_flip]))"
   ]
  },
  {
   "cell_type": "markdown",
   "metadata": {},
   "source": [
    "## Обучение"
   ]
  },
  {
   "cell_type": "code",
   "execution_count": 85,
   "metadata": {},
   "outputs": [
    {
     "name": "stdout",
     "output_type": "stream",
     "text": [
      "Train_loss= 0.626807962159  Val_loss= 0.627316320608\n",
      "Train_loss= 0.118687209581  Val_loss= 0.186806763455\n",
      "Train_loss= 0.102706435983  Val_loss= 0.183904546352\n",
      "Train_loss= 0.0940576100255  Val_loss= 0.183290368531\n",
      "Train_loss= 0.088214854789  Val_loss= 0.183409352863\n",
      "Train_loss= 0.626528816523  Val_loss= 0.631757139012\n",
      "Train_loss= 0.126870093497  Val_loss= 0.149007323934\n",
      "Train_loss= 0.110606845567  Val_loss= 0.142356412623\n",
      "Train_loss= 0.101697157774  Val_loss= 0.140400544985\n",
      "Train_loss= 0.0956366861133  Val_loss= 0.139893879724\n",
      "Train_loss= 0.62761272896  Val_loss= 0.62417206942\n",
      "Train_loss= 0.124660568516  Val_loss= 0.157209961618\n",
      "Train_loss= 0.108386156406  Val_loss= 0.15350057306\n",
      "Train_loss= 0.0996025912091  Val_loss= 0.153619754331\n",
      "Train_loss= 0.0936656417567  Val_loss= 0.154777964839\n",
      "Train_loss= 0.630293116478  Val_loss= 0.632323041508\n",
      "Train_loss= 0.132837639295  Val_loss= 0.115138459884\n",
      "Train_loss= 0.11608640946  Val_loss= 0.109426739399\n",
      "Train_loss= 0.106906200887  Val_loss= 0.108278850969\n",
      "Train_loss= 0.100660216284  Val_loss= 0.108514605272\n",
      "Train_loss= 0.628312449782  Val_loss= 0.630247590996\n",
      "Train_loss= 0.121931886518  Val_loss= 0.164819785887\n",
      "Train_loss= 0.10557786359  Val_loss= 0.162494063658\n",
      "Train_loss= 0.0967253374792  Val_loss= 0.162649657058\n",
      "Train_loss= 0.0907378595393  Val_loss= 0.163574355639\n",
      "logreg: 0.151 +- 0.025\n",
      "rmse: 0.203 +- 0.015\n"
     ]
    }
   ],
   "source": [
    "pred_train = np.zeros(len(tr))\n",
    "est = []\n",
    "f_ll,f_rmse = [],[]\n",
    "\n",
    "for itr, ite in folds:\n",
    "    ypred = []\n",
    "               \n",
    "    tmp_tr = np.vstack([tr[itr], tr_flip[itr]])\n",
    "    tmp_classes = np.array(classes[itr].tolist()*2)\n",
    "    classifier = LogisticRegression_(tmp_tr, tmp_classes, tr[ite], classes[ite])\n",
    "    classifier.fit(n_epochs=2500, lr=0.001, L2_reg=0.0001)\n",
    "    ypred = classifier.predict_proba(tr[ite])[:, 1]\n",
    "\n",
    "    \n",
    "    pred_train[ite] = ypred\n",
    "\n",
    "    \n",
    "    f_ll.append(log_loss1(y[ite], pred_train[ite]))\n",
    "    f_rmse.append(rmse(y[ite], pred_train[ite]))\n",
    "\n",
    "    est.append(classifier)\n",
    "    \n",
    "print('logreg: {:.3f} +- {:.3f}'.format(np.mean(f_ll), np.std(f_ll)))\n",
    "print('rmse: {:.3f} +- {:.3f}'.format(np.mean(f_rmse), np.std(f_rmse)))"
   ]
  },
  {
   "cell_type": "code",
   "execution_count": 124,
   "metadata": {},
   "outputs": [
    {
     "name": "stdout",
     "output_type": "stream",
     "text": [
      "Train_loss= 0.627177468774  Val_loss= 0.62760238206\n",
      "Train_loss= 0.118727798086  Val_loss= 0.186973122127\n",
      "Train_loss= 0.102712069893  Val_loss= 0.183917660543\n",
      "Train_loss= 0.0940896181898  Val_loss= 0.183232964408\n",
      "Train_loss= 0.088274759248  Val_loss= 0.183306269268\n",
      "Train_loss= 0.626939801228  Val_loss= 0.63199202971\n",
      "Train_loss= 0.126866218863  Val_loss= 0.148959543536\n",
      "Train_loss= 0.110507997606  Val_loss= 0.142451601467\n",
      "Train_loss= 0.101593482153  Val_loss= 0.140699147782\n",
      "Train_loss= 0.0955431519741  Val_loss= 0.140387621721\n",
      "Train_loss= 0.627899439891  Val_loss= 0.624683626827\n",
      "Train_loss= 0.124544510272  Val_loss= 0.157592148939\n"
     ]
    },
    {
     "ename": "KeyboardInterrupt",
     "evalue": "",
     "output_type": "error",
     "traceback": [
      "\u001b[0;31m---------------------------------------------------------------------------\u001b[0m",
      "\u001b[0;31mKeyboardInterrupt\u001b[0m                         Traceback (most recent call last)",
      "\u001b[0;32m<ipython-input-124-347e17c79010>\u001b[0m in \u001b[0;36m<module>\u001b[0;34m()\u001b[0m\n\u001b[1;32m      9\u001b[0m     \u001b[0mtmp_classes\u001b[0m \u001b[0;34m=\u001b[0m \u001b[0mnp\u001b[0m\u001b[0;34m.\u001b[0m\u001b[0marray\u001b[0m\u001b[0;34m(\u001b[0m\u001b[0mclasses\u001b[0m\u001b[0;34m[\u001b[0m\u001b[0mitr\u001b[0m\u001b[0;34m]\u001b[0m\u001b[0;34m.\u001b[0m\u001b[0mtolist\u001b[0m\u001b[0;34m(\u001b[0m\u001b[0;34m)\u001b[0m\u001b[0;34m*\u001b[0m\u001b[0;36m2\u001b[0m\u001b[0;34m)\u001b[0m\u001b[0;34m\u001b[0m\u001b[0m\n\u001b[1;32m     10\u001b[0m     \u001b[0mclassifier\u001b[0m \u001b[0;34m=\u001b[0m \u001b[0mLogisticRegression_\u001b[0m\u001b[0;34m(\u001b[0m\u001b[0mtmp_tr\u001b[0m\u001b[0;34m,\u001b[0m \u001b[0mtmp_classes\u001b[0m\u001b[0;34m,\u001b[0m \u001b[0mtr\u001b[0m\u001b[0;34m[\u001b[0m\u001b[0mite\u001b[0m\u001b[0;34m]\u001b[0m\u001b[0;34m,\u001b[0m \u001b[0mclasses\u001b[0m\u001b[0;34m[\u001b[0m\u001b[0mite\u001b[0m\u001b[0;34m]\u001b[0m\u001b[0;34m)\u001b[0m\u001b[0;34m\u001b[0m\u001b[0m\n\u001b[0;32m---> 11\u001b[0;31m     \u001b[0mclassifier\u001b[0m\u001b[0;34m.\u001b[0m\u001b[0mfit\u001b[0m\u001b[0;34m(\u001b[0m\u001b[0mn_epochs\u001b[0m\u001b[0;34m=\u001b[0m\u001b[0;36m2500\u001b[0m\u001b[0;34m,\u001b[0m \u001b[0mlr\u001b[0m\u001b[0;34m=\u001b[0m\u001b[0;36m0.001\u001b[0m\u001b[0;34m,\u001b[0m \u001b[0mL2_reg\u001b[0m\u001b[0;34m=\u001b[0m\u001b[0;36m0.0001\u001b[0m\u001b[0;34m)\u001b[0m\u001b[0;34m\u001b[0m\u001b[0m\n\u001b[0m\u001b[1;32m     12\u001b[0m     \u001b[0mypred\u001b[0m \u001b[0;34m=\u001b[0m \u001b[0mclassifier\u001b[0m\u001b[0;34m.\u001b[0m\u001b[0mpredict_proba\u001b[0m\u001b[0;34m(\u001b[0m\u001b[0mtr\u001b[0m\u001b[0;34m[\u001b[0m\u001b[0mite\u001b[0m\u001b[0;34m]\u001b[0m\u001b[0;34m)\u001b[0m\u001b[0;34m[\u001b[0m\u001b[0;34m:\u001b[0m\u001b[0;34m,\u001b[0m \u001b[0;36m1\u001b[0m\u001b[0;34m]\u001b[0m\u001b[0;34m\u001b[0m\u001b[0m\n\u001b[1;32m     13\u001b[0m \u001b[0;34m\u001b[0m\u001b[0m\n",
      "\u001b[0;32m<ipython-input-20-a7e178c0e47d>\u001b[0m in \u001b[0;36mfit\u001b[0;34m(self, n_epochs, lr, L2_reg)\u001b[0m\n\u001b[1;32m     72\u001b[0m             \u001b[0md_y\u001b[0m \u001b[0;34m=\u001b[0m \u001b[0mself\u001b[0m\u001b[0;34m.\u001b[0m\u001b[0my\u001b[0m \u001b[0;34m-\u001b[0m \u001b[0mp_y_given_x\u001b[0m\u001b[0;34m\u001b[0m\u001b[0m\n\u001b[1;32m     73\u001b[0m \u001b[0;34m\u001b[0m\u001b[0m\n\u001b[0;32m---> 74\u001b[0;31m             \u001b[0mself\u001b[0m\u001b[0;34m.\u001b[0m\u001b[0mW\u001b[0m \u001b[0;34m+=\u001b[0m \u001b[0mlr\u001b[0m \u001b[0;34m*\u001b[0m \u001b[0mnp\u001b[0m\u001b[0;34m.\u001b[0m\u001b[0mdot\u001b[0m\u001b[0;34m(\u001b[0m\u001b[0mself\u001b[0m\u001b[0;34m.\u001b[0m\u001b[0mX\u001b[0m\u001b[0;34m.\u001b[0m\u001b[0mT\u001b[0m\u001b[0;34m,\u001b[0m \u001b[0md_y\u001b[0m\u001b[0;34m)\u001b[0m \u001b[0;34m-\u001b[0m \u001b[0mlr\u001b[0m \u001b[0;34m*\u001b[0m \u001b[0mL2_reg\u001b[0m \u001b[0;34m*\u001b[0m \u001b[0mself\u001b[0m\u001b[0;34m.\u001b[0m\u001b[0mW\u001b[0m\u001b[0;34m\u001b[0m\u001b[0m\n\u001b[0m\u001b[1;32m     75\u001b[0m             \u001b[0mself\u001b[0m\u001b[0;34m.\u001b[0m\u001b[0mb\u001b[0m \u001b[0;34m+=\u001b[0m \u001b[0mlr\u001b[0m \u001b[0;34m*\u001b[0m \u001b[0mnp\u001b[0m\u001b[0;34m.\u001b[0m\u001b[0mmean\u001b[0m\u001b[0;34m(\u001b[0m\u001b[0md_y\u001b[0m\u001b[0;34m,\u001b[0m \u001b[0maxis\u001b[0m\u001b[0;34m=\u001b[0m\u001b[0;36m0\u001b[0m\u001b[0;34m)\u001b[0m\u001b[0;34m\u001b[0m\u001b[0m\n\u001b[1;32m     76\u001b[0m             \u001b[0;31m#print(softmax(np.dot(self.X, self.W) + self.b))\u001b[0m\u001b[0;34m\u001b[0m\u001b[0;34m\u001b[0m\u001b[0m\n",
      "\u001b[0;31mKeyboardInterrupt\u001b[0m: "
     ]
    }
   ],
   "source": [
    "pred_train = np.zeros(len(tr))\n",
    "est = []\n",
    "f_ll,f_rmse = [],[]\n",
    "\n",
    "for itr, ite in folds:\n",
    "    ypred = []\n",
    "               \n",
    "    tmp_tr = np.vstack([tr[itr], tr_flip[itr]])\n",
    "    tmp_classes = np.array(classes[itr].tolist()*2)\n",
    "    classifier = LogisticRegression_(tmp_tr, tmp_classes, tr[ite], classes[ite])\n",
    "    classifier.fit(n_epochs=2500, lr=0.001, L2_reg=0.0001)\n",
    "    ypred = classifier.predict_proba(tr[ite])[:, 1]\n",
    "\n",
    "    \n",
    "    pred_train[ite] = ypred\n",
    "\n",
    "    \n",
    "    f_ll.append(log_loss1(y[ite], pred_train[ite]))\n",
    "    f_rmse.append(rmse(y[ite], pred_train[ite]))\n",
    "\n",
    "    est.append(classifier)\n",
    "    \n",
    "print('logreg: {:.3f} +- {:.3f}'.format(np.mean(f_ll), np.std(f_ll)))\n",
    "print('rmse: {:.3f} +- {:.3f}'.format(np.mean(f_rmse), np.std(f_rmse)))"
   ]
  },
  {
   "cell_type": "code",
   "execution_count": 68,
   "metadata": {
    "collapsed": true
   },
   "outputs": [],
   "source": [
    "classes = np.array(classes.tolist() * 2)"
   ]
  },
  {
   "cell_type": "code",
   "execution_count": 63,
   "metadata": {},
   "outputs": [
    {
     "data": {
      "text/plain": [
       "(13810, 1692)"
      ]
     },
     "execution_count": 63,
     "metadata": {},
     "output_type": "execute_result"
    }
   ],
   "source": [
    "tr.shape"
   ]
  },
  {
   "cell_type": "code",
   "execution_count": 69,
   "metadata": {},
   "outputs": [
    {
     "name": "stdout",
     "output_type": "stream",
     "text": [
      "Train_loss= 0.626671691545  Val_loss= 0.629876651604\n",
      "Train_loss= 0.122877154735  Val_loss= 0.163646651854\n",
      "Train_loss= 0.106953244551  Val_loss= 0.157667033466\n",
      "Train_loss= 0.098310868905  Val_loss= 0.155707211543\n",
      "Train_loss= 0.0924697037207  Val_loss= 0.155030782501\n",
      "Train_loss= 0.629131624641  Val_loss= 0.628122760342\n",
      "Train_loss= 0.129262986805  Val_loss= 0.131728835357\n",
      "Train_loss= 0.112719584444  Val_loss= 0.125631857961\n",
      "Train_loss= 0.103725475705  Val_loss= 0.123978865853\n",
      "Train_loss= 0.097636748566  Val_loss= 0.1237021948\n",
      "Train_loss= 0.627762392162  Val_loss= 0.627472280982\n",
      "Train_loss= 0.12187980689  Val_loss= 0.16419817146\n",
      "Train_loss= 0.106001509701  Val_loss= 0.157636153537\n",
      "Train_loss= 0.0973857784438  Val_loss= 0.154888095353\n",
      "Train_loss= 0.0915675572441  Val_loss= 0.153586406629\n",
      "Train_loss= 0.626949412119  Val_loss= 0.625105435733\n",
      "Train_loss= 0.126823215688  Val_loss= 0.14516174194\n",
      "Train_loss= 0.110703557416  Val_loss= 0.137734244483\n",
      "Train_loss= 0.101935190662  Val_loss= 0.135279216741\n",
      "Train_loss= 0.0959959093519  Val_loss= 0.134411818334\n",
      "Train_loss= 0.629205260305  Val_loss= 0.631228137844\n",
      "Train_loss= 0.127891303584  Val_loss= 0.13694967728\n",
      "Train_loss= 0.111501098981  Val_loss= 0.130519676719\n",
      "Train_loss= 0.102563598228  Val_loss= 0.128333776917\n",
      "Train_loss= 0.0965107634712  Val_loss= 0.127564650538\n",
      "logreg: 0.139 +- 0.013\n",
      "rmse: 0.195 +- 0.006\n"
     ]
    }
   ],
   "source": [
    "pred_train = np.zeros(len(tr))\n",
    "est = []\n",
    "f_ll,f_rmse = [],[]\n",
    "\n",
    "for itr, ite in folds:\n",
    "    ypred = []\n",
    "               \n",
    "    classifier = LogisticRegression_(tr[itr], classes[itr], tr[ite], classes[ite])\n",
    "    classifier.fit(n_epochs=2500, lr=0.001, L2_reg=0.0001)\n",
    "    ypred = classifier.predict_proba(tr[ite])[:, 1]\n",
    "\n",
    "    \n",
    "    pred_train[ite] = ypred\n",
    "\n",
    "    \n",
    "    f_ll.append(log_loss1(y[ite], pred_train[ite]))\n",
    "    f_rmse.append(rmse(y[ite], pred_train[ite]))\n",
    "\n",
    "    est.append(classifier)\n",
    "    \n",
    "print('logreg: {:.3f} +- {:.3f}'.format(np.mean(f_ll), np.std(f_ll)))\n",
    "print('rmse: {:.3f} +- {:.3f}'.format(np.mean(f_rmse), np.std(f_rmse)))"
   ]
  },
  {
   "cell_type": "code",
   "execution_count": null,
   "metadata": {
    "collapsed": true
   },
   "outputs": [],
   "source": [
    "# Флипы\n",
    "logreg: 0.151 +- 0.025\n",
    "rmse: 0.203 +- 0.015\n",
    "\n",
    "\n",
    "logreg: 0.160 +- 0.025\n",
    "rmse: 0.211 +- 0.016\n",
    "    \n",
    "logreg: 0.157 +- 0.025\n",
    "rmse: 0.208 +- 0.016\n",
    "    \n",
    "logreg: 0.156 +- 0.027\n",
    "rmse: 0.207 +- 0.017"
   ]
  },
  {
   "cell_type": "code",
   "execution_count": 135,
   "metadata": {
    "collapsed": true
   },
   "outputs": [],
   "source": [
    "import pandas as pd\n",
    "pd.DataFrame(pred_train).to_csv('preds/2_train.csv', index=False, header=None)"
   ]
  },
  {
   "cell_type": "code",
   "execution_count": 155,
   "metadata": {
    "collapsed": true
   },
   "outputs": [],
   "source": [
    "# Усреднение \n",
    "res = est[0].predict_proba(te)\n",
    "for i in range(1,5):\n",
    "    res += est[i].predict_proba(te)\n",
    "res = res / 5.0"
   ]
  },
  {
   "cell_type": "code",
   "execution_count": 157,
   "metadata": {
    "collapsed": true
   },
   "outputs": [],
   "source": [
    "tmp = pd.DataFrame(test)\n",
    "tmp.columns = ['id']\n",
    "tmp['id'] = tmp['id'].apply(lambda x: int(x.split('_')[1][:-4]))\n",
    "tmp['res'] = res[:,1]\n",
    "tmp.to_csv('preds/2.csv', index=False)"
   ]
  },
  {
   "cell_type": "code",
   "execution_count": 158,
   "metadata": {},
   "outputs": [
    {
     "data": {
      "text/html": [
       "<div>\n",
       "<style>\n",
       "    .dataframe thead tr:only-child th {\n",
       "        text-align: right;\n",
       "    }\n",
       "\n",
       "    .dataframe thead th {\n",
       "        text-align: left;\n",
       "    }\n",
       "\n",
       "    .dataframe tbody tr th {\n",
       "        vertical-align: top;\n",
       "    }\n",
       "</style>\n",
       "<table border=\"1\" class=\"dataframe\">\n",
       "  <thead>\n",
       "    <tr style=\"text-align: right;\">\n",
       "      <th></th>\n",
       "      <th>id</th>\n",
       "      <th>res</th>\n",
       "    </tr>\n",
       "  </thead>\n",
       "  <tbody>\n",
       "    <tr>\n",
       "      <th>0</th>\n",
       "      <td>223</td>\n",
       "      <td>0.003858</td>\n",
       "    </tr>\n",
       "    <tr>\n",
       "      <th>1</th>\n",
       "      <td>1878</td>\n",
       "      <td>0.979739</td>\n",
       "    </tr>\n",
       "    <tr>\n",
       "      <th>2</th>\n",
       "      <td>409</td>\n",
       "      <td>0.755818</td>\n",
       "    </tr>\n",
       "    <tr>\n",
       "      <th>3</th>\n",
       "      <td>1993</td>\n",
       "      <td>0.504142</td>\n",
       "    </tr>\n",
       "    <tr>\n",
       "      <th>4</th>\n",
       "      <td>783</td>\n",
       "      <td>0.999407</td>\n",
       "    </tr>\n",
       "    <tr>\n",
       "      <th>5</th>\n",
       "      <td>900</td>\n",
       "      <td>0.314176</td>\n",
       "    </tr>\n",
       "    <tr>\n",
       "      <th>6</th>\n",
       "      <td>2508</td>\n",
       "      <td>0.862033</td>\n",
       "    </tr>\n",
       "    <tr>\n",
       "      <th>7</th>\n",
       "      <td>1848</td>\n",
       "      <td>0.999995</td>\n",
       "    </tr>\n",
       "    <tr>\n",
       "      <th>8</th>\n",
       "      <td>1285</td>\n",
       "      <td>0.994741</td>\n",
       "    </tr>\n",
       "    <tr>\n",
       "      <th>9</th>\n",
       "      <td>2889</td>\n",
       "      <td>0.012841</td>\n",
       "    </tr>\n",
       "    <tr>\n",
       "      <th>10</th>\n",
       "      <td>2134</td>\n",
       "      <td>0.014991</td>\n",
       "    </tr>\n",
       "    <tr>\n",
       "      <th>11</th>\n",
       "      <td>160</td>\n",
       "      <td>0.958171</td>\n",
       "    </tr>\n",
       "    <tr>\n",
       "      <th>12</th>\n",
       "      <td>815</td>\n",
       "      <td>0.971605</td>\n",
       "    </tr>\n",
       "    <tr>\n",
       "      <th>13</th>\n",
       "      <td>1</td>\n",
       "      <td>0.999398</td>\n",
       "    </tr>\n",
       "    <tr>\n",
       "      <th>14</th>\n",
       "      <td>363</td>\n",
       "      <td>0.024244</td>\n",
       "    </tr>\n",
       "    <tr>\n",
       "      <th>15</th>\n",
       "      <td>1570</td>\n",
       "      <td>0.992115</td>\n",
       "    </tr>\n",
       "    <tr>\n",
       "      <th>16</th>\n",
       "      <td>1435</td>\n",
       "      <td>0.002597</td>\n",
       "    </tr>\n",
       "    <tr>\n",
       "      <th>17</th>\n",
       "      <td>246</td>\n",
       "      <td>0.003040</td>\n",
       "    </tr>\n",
       "    <tr>\n",
       "      <th>18</th>\n",
       "      <td>1108</td>\n",
       "      <td>0.999935</td>\n",
       "    </tr>\n",
       "    <tr>\n",
       "      <th>19</th>\n",
       "      <td>1955</td>\n",
       "      <td>0.999808</td>\n",
       "    </tr>\n",
       "    <tr>\n",
       "      <th>20</th>\n",
       "      <td>2826</td>\n",
       "      <td>0.014971</td>\n",
       "    </tr>\n",
       "    <tr>\n",
       "      <th>21</th>\n",
       "      <td>1836</td>\n",
       "      <td>0.981727</td>\n",
       "    </tr>\n",
       "    <tr>\n",
       "      <th>22</th>\n",
       "      <td>646</td>\n",
       "      <td>0.999409</td>\n",
       "    </tr>\n",
       "    <tr>\n",
       "      <th>23</th>\n",
       "      <td>2006</td>\n",
       "      <td>0.875589</td>\n",
       "    </tr>\n",
       "    <tr>\n",
       "      <th>24</th>\n",
       "      <td>559</td>\n",
       "      <td>0.968342</td>\n",
       "    </tr>\n",
       "    <tr>\n",
       "      <th>25</th>\n",
       "      <td>903</td>\n",
       "      <td>0.997382</td>\n",
       "    </tr>\n",
       "    <tr>\n",
       "      <th>26</th>\n",
       "      <td>2367</td>\n",
       "      <td>0.999751</td>\n",
       "    </tr>\n",
       "    <tr>\n",
       "      <th>27</th>\n",
       "      <td>1754</td>\n",
       "      <td>0.992423</td>\n",
       "    </tr>\n",
       "    <tr>\n",
       "      <th>28</th>\n",
       "      <td>1289</td>\n",
       "      <td>0.419158</td>\n",
       "    </tr>\n",
       "    <tr>\n",
       "      <th>29</th>\n",
       "      <td>2847</td>\n",
       "      <td>0.025426</td>\n",
       "    </tr>\n",
       "    <tr>\n",
       "      <th>...</th>\n",
       "      <td>...</td>\n",
       "      <td>...</td>\n",
       "    </tr>\n",
       "    <tr>\n",
       "      <th>2930</th>\n",
       "      <td>2178</td>\n",
       "      <td>0.816980</td>\n",
       "    </tr>\n",
       "    <tr>\n",
       "      <th>2931</th>\n",
       "      <td>1966</td>\n",
       "      <td>0.013826</td>\n",
       "    </tr>\n",
       "    <tr>\n",
       "      <th>2932</th>\n",
       "      <td>1743</td>\n",
       "      <td>0.002615</td>\n",
       "    </tr>\n",
       "    <tr>\n",
       "      <th>2933</th>\n",
       "      <td>792</td>\n",
       "      <td>0.999998</td>\n",
       "    </tr>\n",
       "    <tr>\n",
       "      <th>2934</th>\n",
       "      <td>509</td>\n",
       "      <td>0.911695</td>\n",
       "    </tr>\n",
       "    <tr>\n",
       "      <th>2935</th>\n",
       "      <td>1793</td>\n",
       "      <td>0.539029</td>\n",
       "    </tr>\n",
       "    <tr>\n",
       "      <th>2936</th>\n",
       "      <td>1617</td>\n",
       "      <td>0.990067</td>\n",
       "    </tr>\n",
       "    <tr>\n",
       "      <th>2937</th>\n",
       "      <td>2771</td>\n",
       "      <td>0.997436</td>\n",
       "    </tr>\n",
       "    <tr>\n",
       "      <th>2938</th>\n",
       "      <td>1554</td>\n",
       "      <td>0.004773</td>\n",
       "    </tr>\n",
       "    <tr>\n",
       "      <th>2939</th>\n",
       "      <td>1755</td>\n",
       "      <td>0.131037</td>\n",
       "    </tr>\n",
       "    <tr>\n",
       "      <th>2940</th>\n",
       "      <td>666</td>\n",
       "      <td>0.027965</td>\n",
       "    </tr>\n",
       "    <tr>\n",
       "      <th>2941</th>\n",
       "      <td>248</td>\n",
       "      <td>0.000019</td>\n",
       "    </tr>\n",
       "    <tr>\n",
       "      <th>2942</th>\n",
       "      <td>2158</td>\n",
       "      <td>0.004746</td>\n",
       "    </tr>\n",
       "    <tr>\n",
       "      <th>2943</th>\n",
       "      <td>2950</td>\n",
       "      <td>0.871860</td>\n",
       "    </tr>\n",
       "    <tr>\n",
       "      <th>2944</th>\n",
       "      <td>1315</td>\n",
       "      <td>0.999769</td>\n",
       "    </tr>\n",
       "    <tr>\n",
       "      <th>2945</th>\n",
       "      <td>300</td>\n",
       "      <td>0.213160</td>\n",
       "    </tr>\n",
       "    <tr>\n",
       "      <th>2946</th>\n",
       "      <td>2211</td>\n",
       "      <td>0.012298</td>\n",
       "    </tr>\n",
       "    <tr>\n",
       "      <th>2947</th>\n",
       "      <td>2903</td>\n",
       "      <td>0.999447</td>\n",
       "    </tr>\n",
       "    <tr>\n",
       "      <th>2948</th>\n",
       "      <td>28</td>\n",
       "      <td>0.000951</td>\n",
       "    </tr>\n",
       "    <tr>\n",
       "      <th>2949</th>\n",
       "      <td>1734</td>\n",
       "      <td>0.998497</td>\n",
       "    </tr>\n",
       "    <tr>\n",
       "      <th>2950</th>\n",
       "      <td>49</td>\n",
       "      <td>0.998592</td>\n",
       "    </tr>\n",
       "    <tr>\n",
       "      <th>2951</th>\n",
       "      <td>1800</td>\n",
       "      <td>0.000056</td>\n",
       "    </tr>\n",
       "    <tr>\n",
       "      <th>2952</th>\n",
       "      <td>607</td>\n",
       "      <td>0.991939</td>\n",
       "    </tr>\n",
       "    <tr>\n",
       "      <th>2953</th>\n",
       "      <td>2004</td>\n",
       "      <td>0.999414</td>\n",
       "    </tr>\n",
       "    <tr>\n",
       "      <th>2954</th>\n",
       "      <td>1050</td>\n",
       "      <td>0.034531</td>\n",
       "    </tr>\n",
       "    <tr>\n",
       "      <th>2955</th>\n",
       "      <td>2191</td>\n",
       "      <td>0.140838</td>\n",
       "    </tr>\n",
       "    <tr>\n",
       "      <th>2956</th>\n",
       "      <td>475</td>\n",
       "      <td>0.998985</td>\n",
       "    </tr>\n",
       "    <tr>\n",
       "      <th>2957</th>\n",
       "      <td>1431</td>\n",
       "      <td>0.990660</td>\n",
       "    </tr>\n",
       "    <tr>\n",
       "      <th>2958</th>\n",
       "      <td>507</td>\n",
       "      <td>0.992785</td>\n",
       "    </tr>\n",
       "    <tr>\n",
       "      <th>2959</th>\n",
       "      <td>541</td>\n",
       "      <td>0.003686</td>\n",
       "    </tr>\n",
       "  </tbody>\n",
       "</table>\n",
       "<p>2960 rows × 2 columns</p>\n",
       "</div>"
      ],
      "text/plain": [
       "        id       res\n",
       "0      223  0.003858\n",
       "1     1878  0.979739\n",
       "2      409  0.755818\n",
       "3     1993  0.504142\n",
       "4      783  0.999407\n",
       "5      900  0.314176\n",
       "6     2508  0.862033\n",
       "7     1848  0.999995\n",
       "8     1285  0.994741\n",
       "9     2889  0.012841\n",
       "10    2134  0.014991\n",
       "11     160  0.958171\n",
       "12     815  0.971605\n",
       "13       1  0.999398\n",
       "14     363  0.024244\n",
       "15    1570  0.992115\n",
       "16    1435  0.002597\n",
       "17     246  0.003040\n",
       "18    1108  0.999935\n",
       "19    1955  0.999808\n",
       "20    2826  0.014971\n",
       "21    1836  0.981727\n",
       "22     646  0.999409\n",
       "23    2006  0.875589\n",
       "24     559  0.968342\n",
       "25     903  0.997382\n",
       "26    2367  0.999751\n",
       "27    1754  0.992423\n",
       "28    1289  0.419158\n",
       "29    2847  0.025426\n",
       "...    ...       ...\n",
       "2930  2178  0.816980\n",
       "2931  1966  0.013826\n",
       "2932  1743  0.002615\n",
       "2933   792  0.999998\n",
       "2934   509  0.911695\n",
       "2935  1793  0.539029\n",
       "2936  1617  0.990067\n",
       "2937  2771  0.997436\n",
       "2938  1554  0.004773\n",
       "2939  1755  0.131037\n",
       "2940   666  0.027965\n",
       "2941   248  0.000019\n",
       "2942  2158  0.004746\n",
       "2943  2950  0.871860\n",
       "2944  1315  0.999769\n",
       "2945   300  0.213160\n",
       "2946  2211  0.012298\n",
       "2947  2903  0.999447\n",
       "2948    28  0.000951\n",
       "2949  1734  0.998497\n",
       "2950    49  0.998592\n",
       "2951  1800  0.000056\n",
       "2952   607  0.991939\n",
       "2953  2004  0.999414\n",
       "2954  1050  0.034531\n",
       "2955  2191  0.140838\n",
       "2956   475  0.998985\n",
       "2957  1431  0.990660\n",
       "2958   507  0.992785\n",
       "2959   541  0.003686\n",
       "\n",
       "[2960 rows x 2 columns]"
      ]
     },
     "execution_count": 158,
     "metadata": {},
     "output_type": "execute_result"
    }
   ],
   "source": [
    "tmp"
   ]
  },
  {
   "cell_type": "code",
   "execution_count": null,
   "metadata": {
    "collapsed": true
   },
   "outputs": [],
   "source": []
  },
  {
   "cell_type": "code",
   "execution_count": null,
   "metadata": {
    "collapsed": true
   },
   "outputs": [],
   "source": []
  },
  {
   "cell_type": "code",
   "execution_count": null,
   "metadata": {
    "collapsed": true
   },
   "outputs": [],
   "source": []
  },
  {
   "cell_type": "code",
   "execution_count": null,
   "metadata": {
    "collapsed": true
   },
   "outputs": [],
   "source": []
  },
  {
   "cell_type": "code",
   "execution_count": null,
   "metadata": {
    "collapsed": true
   },
   "outputs": [],
   "source": []
  }
 ],
 "metadata": {
  "kernelspec": {
   "display_name": "Python 3",
   "language": "python",
   "name": "python3"
  },
  "language_info": {
   "codemirror_mode": {
    "name": "ipython",
    "version": 3
   },
   "file_extension": ".py",
   "mimetype": "text/x-python",
   "name": "python",
   "nbconvert_exporter": "python",
   "pygments_lexer": "ipython3",
   "version": "3.6.1"
  }
 },
 "nbformat": 4,
 "nbformat_minor": 2
}
